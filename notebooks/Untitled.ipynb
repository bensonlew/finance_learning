{
 "cells": [
  {
   "cell_type": "code",
   "execution_count": 2,
   "id": "d8448b2e",
   "metadata": {},
   "outputs": [],
   "source": [
    "import pandas as pd"
   ]
  },
  {
   "cell_type": "code",
   "execution_count": 3,
   "id": "84360c83",
   "metadata": {},
   "outputs": [],
   "source": [
    "project = \"/home/liubinxu/work/sg_project2.csv\""
   ]
  },
  {
   "cell_type": "code",
   "execution_count": 4,
   "id": "679b2349",
   "metadata": {},
   "outputs": [
    {
     "name": "stderr",
     "output_type": "stream",
     "text": [
      "/home/liubinxu/miniconda3/lib/python3.7/site-packages/IPython/core/interactiveshell.py:3553: DtypeWarning: Columns (6,22,27) have mixed types.Specify dtype option on import or set low_memory=False.\n",
      "  exec(code_obj, self.user_global_ns, self.user_ns)\n"
     ]
    }
   ],
   "source": [
    "project_df = pd.read_csv(project, header=0)"
   ]
  },
  {
   "cell_type": "code",
   "execution_count": 50,
   "id": "aa5a3531",
   "metadata": {},
   "outputs": [],
   "source": [
    "project_df = project_df[project_df[\"is_test\"]==2]\n",
    "project_df = project_df[project_df[\"is_demo\"]==\"n\"]"
   ]
  },
  {
   "cell_type": "code",
   "execution_count": 51,
   "id": "0fc551b5",
   "metadata": {},
   "outputs": [
    {
     "name": "stderr",
     "output_type": "stream",
     "text": [
      "/home/liubinxu/miniconda3/lib/python3.7/site-packages/ipykernel_launcher.py:2: SettingWithCopyWarning: \n",
      "A value is trying to be set on a copy of a slice from a DataFrame.\n",
      "Try using .loc[row_indexer,col_indexer] = value instead\n",
      "\n",
      "See the caveats in the documentation: https://pandas.pydata.org/pandas-docs/stable/user_guide/indexing.html#returning-a-view-versus-a-copy\n",
      "  \n"
     ]
    }
   ],
   "source": [
    "create_df = project_df[[\"created_ts\"]]\n",
    "create_df[\"create_date\"] = pd.to_datetime(project_df[\"created_ts\"])\n",
    "create_df.set_index(\"create_date\", inplace=True)"
   ]
  },
  {
   "cell_type": "code",
   "execution_count": 52,
   "id": "b1e2009b",
   "metadata": {},
   "outputs": [],
   "source": [
    "stat_mon_df = create_df.resample(\"M\").count()"
   ]
  },
  {
   "cell_type": "code",
   "execution_count": 39,
   "id": "62a8a0ac",
   "metadata": {},
   "outputs": [
    {
     "data": {
      "text/plain": [
       "Timestamp('2019-10-08 13:05:32')"
      ]
     },
     "execution_count": 39,
     "metadata": {},
     "output_type": "execute_result"
    }
   ],
   "source": [
    "create_df.index[0]"
   ]
  },
  {
   "cell_type": "code",
   "execution_count": 53,
   "id": "96c096b8",
   "metadata": {},
   "outputs": [],
   "source": [
    "stat_mon_df.to_csv(\"stat_mon_df.tsv\", sep=\"\\t\")"
   ]
  },
  {
   "cell_type": "code",
   "execution_count": null,
   "id": "90262e51",
   "metadata": {},
   "outputs": [],
   "source": []
  }
 ],
 "metadata": {
  "kernelspec": {
   "display_name": "Python 3 (ipykernel)",
   "language": "python",
   "name": "python3"
  },
  "language_info": {
   "codemirror_mode": {
    "name": "ipython",
    "version": 3
   },
   "file_extension": ".py",
   "mimetype": "text/x-python",
   "name": "python",
   "nbconvert_exporter": "python",
   "pygments_lexer": "ipython3",
   "version": "3.7.6"
  }
 },
 "nbformat": 4,
 "nbformat_minor": 5
}
