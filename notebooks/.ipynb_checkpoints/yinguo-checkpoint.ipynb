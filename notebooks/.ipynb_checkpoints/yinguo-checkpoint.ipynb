{
 "cells": [
  {
   "cell_type": "code",
   "execution_count": 9,
   "id": "41605293",
   "metadata": {},
   "outputs": [
    {
     "name": "stdout",
     "output_type": "stream",
     "text": [
      "\n",
      "Granger Causality\n",
      "number of lags (no zero) 1\n",
      "ssr based F test:         F=1.1880  , p=0.2785  , df_denom=96, df_num=1\n",
      "ssr based chi2 test:   chi2=1.2252  , p=0.2683  , df=1\n",
      "likelihood ratio test: chi2=1.2177  , p=0.2698  , df=1\n",
      "parameter F test:         F=1.1880  , p=0.2785  , df_denom=96, df_num=1\n",
      "\n",
      "Granger Causality\n",
      "number of lags (no zero) 2\n",
      "ssr based F test:         F=0.8344  , p=0.4374  , df_denom=93, df_num=2\n",
      "ssr based chi2 test:   chi2=1.7585  , p=0.4151  , df=2\n",
      "likelihood ratio test: chi2=1.7429  , p=0.4183  , df=2\n",
      "parameter F test:         F=0.8344  , p=0.4374  , df_denom=93, df_num=2\n",
      "\n",
      "Granger Causality\n",
      "number of lags (no zero) 3\n",
      "ssr based F test:         F=2.1525  , p=0.0992  , df_denom=90, df_num=3\n",
      "ssr based chi2 test:   chi2=6.9599  , p=0.0732  , df=3\n",
      "likelihood ratio test: chi2=6.7216  , p=0.0813  , df=3\n",
      "parameter F test:         F=2.1525  , p=0.0992  , df_denom=90, df_num=3\n"
     ]
    },
    {
     "ename": "IndexError",
     "evalue": "invalid index to scalar variable.",
     "output_type": "error",
     "traceback": [
      "\u001b[0;31m---------------------------------------------------------------------------\u001b[0m",
      "\u001b[0;31mIndexError\u001b[0m                                Traceback (most recent call last)",
      "\u001b[0;32m/tmp/ipykernel_26268/2095951720.py\u001b[0m in \u001b[0;36m<module>\u001b[0;34m\u001b[0m\n\u001b[1;32m     17\u001b[0m \u001b[0;31m# 打印检验结果\u001b[0m\u001b[0;34m\u001b[0m\u001b[0;34m\u001b[0m\u001b[0;34m\u001b[0m\u001b[0m\n\u001b[1;32m     18\u001b[0m \u001b[0;32mfor\u001b[0m \u001b[0mlag\u001b[0m \u001b[0;32min\u001b[0m \u001b[0mrange\u001b[0m\u001b[0;34m(\u001b[0m\u001b[0;36m1\u001b[0m\u001b[0;34m,\u001b[0m \u001b[0mmax_lag\u001b[0m \u001b[0;34m)\u001b[0m\u001b[0;34m:\u001b[0m\u001b[0;34m\u001b[0m\u001b[0;34m\u001b[0m\u001b[0m\n\u001b[0;32m---> 19\u001b[0;31m     \u001b[0mp_value\u001b[0m \u001b[0;34m=\u001b[0m \u001b[0mresults\u001b[0m\u001b[0;34m[\u001b[0m\u001b[0mlag\u001b[0m\u001b[0;34m]\u001b[0m\u001b[0;34m[\u001b[0m\u001b[0;36m0\u001b[0m\u001b[0;34m]\u001b[0m\u001b[0;34m[\u001b[0m\u001b[0mtest\u001b[0m\u001b[0;34m]\u001b[0m\u001b[0;34m[\u001b[0m\u001b[0;36m0\u001b[0m\u001b[0;34m]\u001b[0m\u001b[0;34m[\u001b[0m\u001b[0;34m'ssr_chi2test'\u001b[0m\u001b[0;34m]\u001b[0m\u001b[0;34m[\u001b[0m\u001b[0;36m1\u001b[0m\u001b[0;34m]\u001b[0m\u001b[0;34m\u001b[0m\u001b[0;34m\u001b[0m\u001b[0m\n\u001b[0m\u001b[1;32m     20\u001b[0m     \u001b[0mprint\u001b[0m\u001b[0;34m(\u001b[0m\u001b[0;34mf\"Lag {lag}: p-value = {p_value}\"\u001b[0m\u001b[0;34m)\u001b[0m\u001b[0;34m\u001b[0m\u001b[0;34m\u001b[0m\u001b[0m\n\u001b[1;32m     21\u001b[0m \u001b[0;34m\u001b[0m\u001b[0m\n",
      "\u001b[0;31mIndexError\u001b[0m: invalid index to scalar variable."
     ]
    }
   ],
   "source": [
    "import numpy as np\n",
    "import pandas as pd\n",
    "import statsmodels.api as sm\n",
    "from statsmodels.tsa.stattools import grangercausalitytests\n",
    "\n",
    "# 创建示例数据\n",
    "np.random.seed(0)\n",
    "data = pd.DataFrame(np.random.randn(100, 2), columns=['X', 'Y'])\n",
    "# 假设X对Y有Granger因果关系\n",
    "max_lag = 3  # 最大滞后阶数\n",
    "test = 'ssr_chi2test'  # 使用卡方检验\n",
    "\n",
    "# 进行Granger因果关系检验\n",
    "results = grangercausalitytests(data[['Y', 'X']], max_lag, verbose=True)\n",
    "\n",
    "# 打印检验结果\n",
    "for lag in range(1, max_lag ):\n",
    "    p_value = results[lag][0][test][0]['ssr_chi2test'][1]\n",
    "    print(f\"Lag {lag}: p-value = {p_value}\")\n",
    "\n",
    "# 如果p-value小于显著性水平（例如0.05），可以拒绝零假设，表示存在Granger因果关系。"
   ]
  },
  {
   "cell_type": "code",
   "execution_count": 3,
   "id": "ff2e6e21",
   "metadata": {},
   "outputs": [],
   "source": [
    "?grangercausalitytests"
   ]
  },
  {
   "cell_type": "code",
   "execution_count": 6,
   "id": "a2585205",
   "metadata": {},
   "outputs": [
    {
     "data": {
      "text/plain": [
       "{1: ({'ssr_ftest': (1.1880446872358374, 0.2784527322406216, 96.0, 1),\n",
       "   'ssr_chi2test': (1.2251710837119574, 0.26834820689777716, 1),\n",
       "   'lrtest': (1.2176520235012163, 0.2698219359887859, 1),\n",
       "   'params_ftest': (1.1880446872358459, 0.27845273224061823, 96.0, 1.0)},\n",
       "  [<statsmodels.regression.linear_model.RegressionResultsWrapper at 0x7fdede620490>,\n",
       "   <statsmodels.regression.linear_model.RegressionResultsWrapper at 0x7fdede62fed0>,\n",
       "   array([[0., 1., 0.]])]),\n",
       " 2: ({'ssr_ftest': (0.8343990259964512, 0.43735890043894476, 93.0, 2),\n",
       "   'ssr_chi2test': (1.7585183773688648, 0.4150903014008924, 2),\n",
       "   'lrtest': (1.742927130571502, 0.41833883478692657, 2),\n",
       "   'params_ftest': (0.8343990259964544, 0.43735890043894476, 93.0, 2.0)},\n",
       "  [<statsmodels.regression.linear_model.RegressionResultsWrapper at 0x7fdede646910>,\n",
       "   <statsmodels.regression.linear_model.RegressionResultsWrapper at 0x7fdede646110>,\n",
       "   array([[0., 0., 1., 0., 0.],\n",
       "          [0., 0., 0., 1., 0.]])]),\n",
       " 3: ({'ssr_ftest': (2.152548619467152, 0.09915428385848817, 90.0, 3),\n",
       "   'ssr_chi2test': (6.959907202943792, 0.07318670466210114, 3),\n",
       "   'lrtest': (6.721550848740094, 0.08132285412783366, 3),\n",
       "   'params_ftest': (2.152548619467146, 0.09915428385848907, 90.0, 3.0)},\n",
       "  [<statsmodels.regression.linear_model.RegressionResultsWrapper at 0x7fdede620650>,\n",
       "   <statsmodels.regression.linear_model.RegressionResultsWrapper at 0x7fdede646c50>,\n",
       "   array([[0., 0., 0., 1., 0., 0., 0.],\n",
       "          [0., 0., 0., 0., 1., 0., 0.],\n",
       "          [0., 0., 0., 0., 0., 1., 0.]])])}"
      ]
     },
     "execution_count": 6,
     "metadata": {},
     "output_type": "execute_result"
    }
   ],
   "source": [
    "results"
   ]
  },
  {
   "cell_type": "code",
   "execution_count": 8,
   "id": "351b1b14",
   "metadata": {},
   "outputs": [
    {
     "data": {
      "text/plain": [
       "range(1, 4)"
      ]
     },
     "execution_count": 8,
     "metadata": {},
     "output_type": "execute_result"
    }
   ],
   "source": [
    "range(1, 4)"
   ]
  },
  {
   "cell_type": "code",
   "execution_count": null,
   "id": "597c49ff",
   "metadata": {},
   "outputs": [],
   "source": []
  }
 ],
 "metadata": {
  "kernelspec": {
   "display_name": "Python 3 (ipykernel)",
   "language": "python",
   "name": "python3"
  },
  "language_info": {
   "codemirror_mode": {
    "name": "ipython",
    "version": 3
   },
   "file_extension": ".py",
   "mimetype": "text/x-python",
   "name": "python",
   "nbconvert_exporter": "python",
   "pygments_lexer": "ipython3",
   "version": "3.7.6"
  }
 },
 "nbformat": 4,
 "nbformat_minor": 5
}
