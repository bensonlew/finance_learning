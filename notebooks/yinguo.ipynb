{
 "cells": [
  {
   "cell_type": "code",
   "execution_count": 17,
   "id": "c4c453fc",
   "metadata": {},
   "outputs": [
    {
     "name": "stdout",
     "output_type": "stream",
     "text": [
      "\n",
      "Granger Causality\n",
      "number of lags (no zero) 1\n",
      "ssr based F test:         F=0.6876  , p=0.4090  , df_denom=96, df_num=1\n",
      "ssr based chi2 test:   chi2=0.7091  , p=0.3997  , df=1\n",
      "likelihood ratio test: chi2=0.7066  , p=0.4006  , df=1\n",
      "parameter F test:         F=0.6876  , p=0.4090  , df_denom=96, df_num=1\n",
      "\n",
      "Granger Causality\n",
      "number of lags (no zero) 2\n",
      "ssr based F test:         F=1.0764  , p=0.3450  , df_denom=93, df_num=2\n",
      "ssr based chi2 test:   chi2=2.2686  , p=0.3216  , df=2\n",
      "likelihood ratio test: chi2=2.2428  , p=0.3258  , df=2\n",
      "parameter F test:         F=1.0764  , p=0.3450  , df_denom=93, df_num=2\n",
      "\n",
      "Granger Causality\n",
      "number of lags (no zero) 3\n",
      "ssr based F test:         F=1.9150  , p=0.1328  , df_denom=90, df_num=3\n",
      "ssr based chi2 test:   chi2=6.1920  , p=0.1026  , df=3\n",
      "likelihood ratio test: chi2=6.0024  , p=0.1115  , df=3\n",
      "parameter F test:         F=1.9150  , p=0.1328  , df_denom=90, df_num=3\n",
      "\n",
      "Granger Causality\n",
      "number of lags (no zero) 4\n",
      "ssr based F test:         F=4.5538  , p=0.0022  , df_denom=87, df_num=4\n",
      "ssr based chi2 test:   chi2=20.0996 , p=0.0005  , df=4\n",
      "likelihood ratio test: chi2=18.2496 , p=0.0011  , df=4\n",
      "parameter F test:         F=4.5538  , p=0.0022  , df_denom=87, df_num=4\n",
      "\n",
      "Granger Causality\n",
      "number of lags (no zero) 5\n"
     ]
    },
    {
     "ename": "InfeasibleTestError",
     "evalue": "The Granger causality test statistic cannot be compute because the VAR has a perfect fit of the data.",
     "output_type": "error",
     "traceback": [
      "\u001b[0;31m---------------------------------------------------------------------------\u001b[0m",
      "\u001b[0;31mInfeasibleTestError\u001b[0m                       Traceback (most recent call last)",
      "\u001b[0;32m/tmp/ipykernel_26268/4072775532.py\u001b[0m in \u001b[0;36m<module>\u001b[0;34m\u001b[0m\n\u001b[1;32m     13\u001b[0m \u001b[0;34m\u001b[0m\u001b[0m\n\u001b[1;32m     14\u001b[0m \u001b[0;31m# 进行Granger因果关系检验\u001b[0m\u001b[0;34m\u001b[0m\u001b[0;34m\u001b[0m\u001b[0;34m\u001b[0m\u001b[0m\n\u001b[0;32m---> 15\u001b[0;31m \u001b[0mresults\u001b[0m \u001b[0;34m=\u001b[0m \u001b[0mgrangercausalitytests\u001b[0m\u001b[0;34m(\u001b[0m\u001b[0mdata\u001b[0m\u001b[0;34m[\u001b[0m\u001b[0;34m[\u001b[0m\u001b[0;34m'Y'\u001b[0m\u001b[0;34m,\u001b[0m \u001b[0;34m'X'\u001b[0m\u001b[0;34m]\u001b[0m\u001b[0;34m]\u001b[0m\u001b[0;34m,\u001b[0m \u001b[0mmax_lag\u001b[0m\u001b[0;34m,\u001b[0m \u001b[0mverbose\u001b[0m\u001b[0;34m=\u001b[0m\u001b[0;32mTrue\u001b[0m\u001b[0;34m)\u001b[0m\u001b[0;34m\u001b[0m\u001b[0;34m\u001b[0m\u001b[0m\n\u001b[0m\u001b[1;32m     16\u001b[0m \u001b[0;34m\u001b[0m\u001b[0m\n\u001b[1;32m     17\u001b[0m \u001b[0;31m# 打印检验结果\u001b[0m\u001b[0;34m\u001b[0m\u001b[0;34m\u001b[0m\u001b[0;34m\u001b[0m\u001b[0m\n",
      "\u001b[0;32m~/miniconda3/lib/python3.7/site-packages/statsmodels/tsa/stattools.py\u001b[0m in \u001b[0;36mgrangercausalitytests\u001b[0;34m(x, maxlag, addconst, verbose)\u001b[0m\n\u001b[1;32m   1531\u001b[0m         ):\n\u001b[1;32m   1532\u001b[0m             raise InfeasibleTestError(\n\u001b[0;32m-> 1533\u001b[0;31m                 \u001b[0;34m\"The Granger causality test statistic cannot be compute \"\u001b[0m\u001b[0;34m\u001b[0m\u001b[0;34m\u001b[0m\u001b[0m\n\u001b[0m\u001b[1;32m   1534\u001b[0m                 \u001b[0;34m\"because the VAR has a perfect fit of the data.\"\u001b[0m\u001b[0;34m\u001b[0m\u001b[0;34m\u001b[0m\u001b[0m\n\u001b[1;32m   1535\u001b[0m             )\n",
      "\u001b[0;31mInfeasibleTestError\u001b[0m: The Granger causality test statistic cannot be compute because the VAR has a perfect fit of the data."
     ]
    }
   ],
   "source": [
    "import numpy as np\n",
    "import pandas as pd\n",
    "import statsmodels.api as sm\n",
    "from statsmodels.tsa.stattools import grangercausalitytests\n",
    "\n",
    "# 创建示例数据\n",
    "np.random.seed(0)\n",
    "data = pd.DataFrame(np.random.randn(100, 2), columns=['X', 'Y'])\n",
    "data[\"Y\"] = data[\"X\"].shift(5).fillna(0)\n",
    "# 假设X对Y有Granger因果关系\n",
    "max_lag = 10  # 最大滞后阶数\n",
    "test = 'ssr_chi2test'  # 使用卡方检验\n",
    "\n",
    "# 进行Granger因果关系检验\n",
    "results = grangercausalitytests(data[['Y', 'X']], max_lag, verbose=True)\n",
    "\n",
    "# 打印检验结果\n",
    "for lag in range(1, max_lag):\n",
    "    p_value = results[lag][0][test][0]['ssr_chi2test'][1]\n",
    "    print(f\"Lag {lag}: p-value = {p_value}\")\n",
    "\n",
    "# 如果p-value小于显著性水平（例如0.05），可以拒绝零假设，表示存在Granger因果关系。"
   ]
  },
  {
   "cell_type": "code",
   "execution_count": 3,
   "id": "de4e5dea",
   "metadata": {},
   "outputs": [],
   "source": [
    "?grangercausalitytests"
   ]
  },
  {
   "cell_type": "code",
   "execution_count": 14,
   "id": "dd5b65de",
   "metadata": {},
   "outputs": [
    {
     "data": {
      "text/html": [
       "<div>\n",
       "<style scoped>\n",
       "    .dataframe tbody tr th:only-of-type {\n",
       "        vertical-align: middle;\n",
       "    }\n",
       "\n",
       "    .dataframe tbody tr th {\n",
       "        vertical-align: top;\n",
       "    }\n",
       "\n",
       "    .dataframe thead th {\n",
       "        text-align: right;\n",
       "    }\n",
       "</style>\n",
       "<table border=\"1\" class=\"dataframe\">\n",
       "  <thead>\n",
       "    <tr style=\"text-align: right;\">\n",
       "      <th></th>\n",
       "      <th>X</th>\n",
       "      <th>Y</th>\n",
       "    </tr>\n",
       "  </thead>\n",
       "  <tbody>\n",
       "    <tr>\n",
       "      <th>0</th>\n",
       "      <td>1.764052</td>\n",
       "      <td>0.000000</td>\n",
       "    </tr>\n",
       "    <tr>\n",
       "      <th>1</th>\n",
       "      <td>0.978738</td>\n",
       "      <td>0.000000</td>\n",
       "    </tr>\n",
       "    <tr>\n",
       "      <th>2</th>\n",
       "      <td>1.867558</td>\n",
       "      <td>0.000000</td>\n",
       "    </tr>\n",
       "    <tr>\n",
       "      <th>3</th>\n",
       "      <td>0.950088</td>\n",
       "      <td>0.000000</td>\n",
       "    </tr>\n",
       "    <tr>\n",
       "      <th>4</th>\n",
       "      <td>-0.103219</td>\n",
       "      <td>0.000000</td>\n",
       "    </tr>\n",
       "    <tr>\n",
       "      <th>5</th>\n",
       "      <td>0.144044</td>\n",
       "      <td>1.764052</td>\n",
       "    </tr>\n",
       "    <tr>\n",
       "      <th>6</th>\n",
       "      <td>0.761038</td>\n",
       "      <td>0.978738</td>\n",
       "    </tr>\n",
       "    <tr>\n",
       "      <th>7</th>\n",
       "      <td>0.443863</td>\n",
       "      <td>1.867558</td>\n",
       "    </tr>\n",
       "    <tr>\n",
       "      <th>8</th>\n",
       "      <td>1.494079</td>\n",
       "      <td>0.950088</td>\n",
       "    </tr>\n",
       "    <tr>\n",
       "      <th>9</th>\n",
       "      <td>0.313068</td>\n",
       "      <td>-0.103219</td>\n",
       "    </tr>\n",
       "  </tbody>\n",
       "</table>\n",
       "</div>"
      ],
      "text/plain": [
       "          X         Y\n",
       "0  1.764052  0.000000\n",
       "1  0.978738  0.000000\n",
       "2  1.867558  0.000000\n",
       "3  0.950088  0.000000\n",
       "4 -0.103219  0.000000\n",
       "5  0.144044  1.764052\n",
       "6  0.761038  0.978738\n",
       "7  0.443863  1.867558\n",
       "8  1.494079  0.950088\n",
       "9  0.313068 -0.103219"
      ]
     },
     "execution_count": 14,
     "metadata": {},
     "output_type": "execute_result"
    }
   ],
   "source": [
    "data[:10]"
   ]
  },
  {
   "cell_type": "code",
   "execution_count": 8,
   "id": "10d7d0c4",
   "metadata": {},
   "outputs": [
    {
     "data": {
      "text/plain": [
       "range(1, 4)"
      ]
     },
     "execution_count": 8,
     "metadata": {},
     "output_type": "execute_result"
    }
   ],
   "source": [
    "range(1, 4)"
   ]
  },
  {
   "cell_type": "code",
   "execution_count": 18,
   "id": "193d1f3d",
   "metadata": {},
   "outputs": [
    {
     "data": {
      "text/plain": [
       "{1: ({'ssr_ftest': (0.6876338377188705, 0.40902750631942153, 96.0, 1),\n",
       "   'ssr_chi2test': (0.7091223951475852, 0.39973530945964175, 1),\n",
       "   'lrtest': (0.7065947883348827, 0.40057658269564855, 1),\n",
       "   'params_ftest': (0.6876338377188711, 0.40902750631942153, 96.0, 1.0)},\n",
       "  [<statsmodels.regression.linear_model.RegressionResultsWrapper at 0x7fdedc5b0990>,\n",
       "   <statsmodels.regression.linear_model.RegressionResultsWrapper at 0x7fdede6337d0>,\n",
       "   array([[0., 1., 0.]])]),\n",
       " 2: ({'ssr_ftest': (1.0764439488181115, 0.345012897890353, 93.0, 2),\n",
       "   'ssr_chi2test': (2.2686345587994605, 0.32164163776367644, 2),\n",
       "   'lrtest': (2.2427742105611514, 0.3258275239430133, 2),\n",
       "   'params_ftest': (1.0764439488181143, 0.34501289789035033, 93.0, 2.0)},\n",
       "  [<statsmodels.regression.linear_model.RegressionResultsWrapper at 0x7fdede62ff90>,\n",
       "   <statsmodels.regression.linear_model.RegressionResultsWrapper at 0x7fdede62f250>,\n",
       "   array([[0., 0., 1., 0., 0.],\n",
       "          [0., 0., 0., 1., 0.]])]),\n",
       " 3: ({'ssr_ftest': (1.915047465395498, 0.13278649184634383, 90.0, 3),\n",
       "   'ssr_chi2test': (6.191986804778777, 0.10263422013819372, 3),\n",
       "   'lrtest': (6.002381756019446, 0.11149440496890246, 3),\n",
       "   'params_ftest': (1.9150474653954959, 0.13278649184634445, 90.0, 3.0)},\n",
       "  [<statsmodels.regression.linear_model.RegressionResultsWrapper at 0x7fdedc5c5b10>,\n",
       "   <statsmodels.regression.linear_model.RegressionResultsWrapper at 0x7fdedc5c59d0>,\n",
       "   array([[0., 0., 0., 1., 0., 0., 0.],\n",
       "          [0., 0., 0., 0., 1., 0., 0.],\n",
       "          [0., 0., 0., 0., 0., 1., 0.]])])}"
      ]
     },
     "execution_count": 18,
     "metadata": {},
     "output_type": "execute_result"
    }
   ],
   "source": [
    "results"
   ]
  },
  {
   "cell_type": "code",
   "execution_count": null,
   "id": "5e2f1b35",
   "metadata": {},
   "outputs": [],
   "source": [
    "sg_project2.csv"
   ]
  }
 ],
 "metadata": {
  "kernelspec": {
   "display_name": "Python 3 (ipykernel)",
   "language": "python",
   "name": "python3"
  },
  "language_info": {
   "codemirror_mode": {
    "name": "ipython",
    "version": 3
   },
   "file_extension": ".py",
   "mimetype": "text/x-python",
   "name": "python",
   "nbconvert_exporter": "python",
   "pygments_lexer": "ipython3",
   "version": "3.7.6"
  }
 },
 "nbformat": 4,
 "nbformat_minor": 5
}
