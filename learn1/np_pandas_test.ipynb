{
 "cells": [
  {
   "cell_type": "code",
   "execution_count": 2,
   "id": "e74ef663",
   "metadata": {},
   "outputs": [
    {
     "name": "stdout",
     "output_type": "stream",
     "text": [
      "   value       ema\n",
      "0      1  1.000000\n",
      "1      2  1.200000\n",
      "2      3  1.560000\n",
      "3      4  2.048000\n",
      "4      5  2.638400\n",
      "5      6  3.310720\n",
      "6      7  4.048576\n",
      "7      8  4.838861\n",
      "8      9  5.671089\n"
     ]
    }
   ],
   "source": [
    "import pandas as pd\n",
    "\n",
    "# 创建一个示例 DataFrame\n",
    "data = {'value': [1, 2, 3, 4, 5, 6, 7, 8, 9]}\n",
    "df = pd.DataFrame(data)\n",
    "\n",
    "# 计算指数移动平均值\n",
    "alpha = 0.2  # 选择适当的衰减因子\n",
    "ema_series = df['value'].ewm(alpha=alpha, adjust=False).mean()\n",
    "\n",
    "# 将计算结果添加到 DataFrame\n",
    "df['ema'] = ema_series\n",
    "\n",
    "print(df)"
   ]
  },
  {
   "cell_type": "code",
   "execution_count": 3,
   "id": "1224b4ba",
   "metadata": {},
   "outputs": [
    {
     "data": {
      "text/plain": [
       "0    1.000000\n",
       "1    1.500000\n",
       "2    2.250000\n",
       "3    3.125000\n",
       "4    4.062500\n",
       "5    5.031250\n",
       "6    6.015625\n",
       "7    7.007812\n",
       "8    8.003906\n",
       "Name: value, dtype: float64"
      ]
     },
     "execution_count": 3,
     "metadata": {},
     "output_type": "execute_result"
    }
   ],
   "source": [
    "df['value'].ewm(alpha=0.5, adjust=False).mean()"
   ]
  },
  {
   "cell_type": "code",
   "execution_count": 4,
   "id": "a6cf076e",
   "metadata": {},
   "outputs": [],
   "source": [
    "import numpy as np"
   ]
  },
  {
   "cell_type": "code",
   "execution_count": 5,
   "id": "c98874d4",
   "metadata": {},
   "outputs": [
    {
     "name": "stdout",
     "output_type": "stream",
     "text": [
      "原始数据: [0.46036675 0.55956411 0.09780906 0.4530736  0.52817325 0.65650188\n",
      " 0.32862188 0.30851135 0.89914439 0.22653467]\n",
      "指数移动平均: [0.04157097 0.09303358 0.10395626 0.14720466 0.19820638 0.26194218\n",
      " 0.29750273 0.33204638 0.42070025 0.4506098 ]\n"
     ]
    }
   ],
   "source": [
    "import numpy as np\n",
    "\n",
    "def exponential_moving_average(data, alpha):\n",
    "    \"\"\"\n",
    "    计算指数移动平均\n",
    "\n",
    "    Parameters:\n",
    "    - data: 输入的时间序列数据\n",
    "    - alpha: 平滑参数\n",
    "\n",
    "    Returns:\n",
    "    - ema: 指数移动平均值\n",
    "    \"\"\"\n",
    "    # 计算权重\n",
    "    weights = np.exp(np.linspace(-1.0, 0.0, len(data)) * alpha)\n",
    "\n",
    "    # 归一化权重\n",
    "    weights /= weights.sum()\n",
    "\n",
    "    # 计算指数移动平均\n",
    "    ema = np.convolve(data, weights, mode='full')[:len(data)]\n",
    "\n",
    "    return ema\n",
    "\n",
    "# 示例数据\n",
    "data = np.random.rand(10)\n",
    "\n",
    "# 平滑参数\n",
    "alpha = 0.2\n",
    "\n",
    "# 计算指数移动平均\n",
    "ema_result = exponential_moving_average(data, alpha)\n",
    "\n",
    "print(\"原始数据:\", data)\n",
    "print(\"指数移动平均:\", ema_result)\n"
   ]
  },
  {
   "cell_type": "code",
   "execution_count": 26,
   "id": "e49ec24c",
   "metadata": {},
   "outputs": [],
   "source": [
    "data = np.random.rand(100)\n",
    "alpha = 1\n",
    "weights = np.exp(np.linspace(-1.0, 0.0, len(data)) * alpha)"
   ]
  },
  {
   "cell_type": "code",
   "execution_count": 27,
   "id": "2a0d3bde",
   "metadata": {
    "scrolled": true
   },
   "outputs": [
    {
     "data": {
      "text/plain": [
       "array([0.36787944, 0.37161423, 0.37538693, 0.37919793, 0.38304762,\n",
       "       0.3869364 , 0.39086465, 0.39483279, 0.39884121, 0.40289032,\n",
       "       0.40698054, 0.41111229, 0.41528598, 0.41950205, 0.42376092,\n",
       "       0.42806302, 0.4324088 , 0.4367987 , 0.44123317, 0.44571265,\n",
       "       0.45023762, 0.45480852, 0.45942582, 0.46409001, 0.46880154,\n",
       "       0.4735609 , 0.47836859, 0.48322508, 0.48813088, 0.49308648,\n",
       "       0.49809239, 0.50314912, 0.50825719, 0.51341712, 0.51862943,\n",
       "       0.52389466, 0.52921334, 0.53458602, 0.54001324, 0.54549556,\n",
       "       0.55103354, 0.55662774, 0.56227874, 0.5679871 , 0.57375342,\n",
       "       0.57957828, 0.58546227, 0.591406  , 0.59741007, 0.6034751 ,\n",
       "       0.60960169, 0.61579049, 0.62204212, 0.62835721, 0.63473642,\n",
       "       0.64118039, 0.64768978, 0.65426525, 0.66090748, 0.66761715,\n",
       "       0.67439493, 0.68124152, 0.68815762, 0.69514393, 0.70220117,\n",
       "       0.70933005, 0.71653131, 0.72380568, 0.7311539 , 0.73857671,\n",
       "       0.74607489, 0.75364919, 0.76130039, 0.76902926, 0.7768366 ,\n",
       "       0.78472319, 0.79268986, 0.8007374 , 0.80886665, 0.81707842,\n",
       "       0.82537356, 0.83375292, 0.84221734, 0.8507677 , 0.85940486,\n",
       "       0.86812971, 0.87694313, 0.88584603, 0.89483932, 0.9039239 ,\n",
       "       0.91310072, 0.9223707 , 0.93173478, 0.94119394, 0.95074913,\n",
       "       0.96040132, 0.9701515 , 0.98000067, 0.98994983, 1.        ])"
      ]
     },
     "execution_count": 27,
     "metadata": {},
     "output_type": "execute_result"
    }
   ],
   "source": [
    "weights"
   ]
  },
  {
   "cell_type": "code",
   "execution_count": 21,
   "id": "aaa1c261",
   "metadata": {},
   "outputs": [],
   "source": [
    "weights /= weights.sum()"
   ]
  },
  {
   "cell_type": "code",
   "execution_count": 24,
   "id": "82d54902",
   "metadata": {},
   "outputs": [
    {
     "data": {
      "text/plain": [
       "0.4909865061538113"
      ]
     },
     "execution_count": 24,
     "metadata": {},
     "output_type": "execute_result"
    }
   ],
   "source": [
    "sum(weights *data)"
   ]
  },
  {
   "cell_type": "code",
   "execution_count": 25,
   "id": "6c8eb551",
   "metadata": {},
   "outputs": [
    {
     "data": {
      "text/plain": [
       "array([0.54516225, 0.58757377, 0.16689703, 0.08473319, 0.42053058,\n",
       "       0.63664429, 0.40454678, 0.84483354, 0.24649012, 0.9788896 ,\n",
       "       0.99741714, 0.95153771, 0.9601786 , 0.31543893, 0.98765129,\n",
       "       0.1203366 , 0.54490358, 0.06825193, 0.12493285, 0.11120567,\n",
       "       0.40724162, 0.79709918, 0.85528789, 0.75524042, 0.02606233,\n",
       "       0.09896797, 0.44213764, 0.12543897, 0.86083516, 0.86656986,\n",
       "       0.27207448, 0.55407942, 0.39348525, 0.39413138, 0.91409596,\n",
       "       0.24633784, 0.16366618, 0.58739361, 0.69073226, 0.78685658,\n",
       "       0.07475731, 0.93259014, 0.77560607, 0.49066853, 0.20231482,\n",
       "       0.93086167, 0.24467877, 0.79519754, 0.8927658 , 0.27634549,\n",
       "       0.5581298 , 0.15116508, 0.52299926, 0.95845592, 0.03664162,\n",
       "       0.80157323, 0.09245393, 0.06177137, 0.0548177 , 0.13340793,\n",
       "       0.39743549, 0.72816245, 0.53648671, 0.78441611, 0.12246482,\n",
       "       0.9161796 , 0.29176094, 0.88354776, 0.30759946, 0.63267667,\n",
       "       0.46119343, 0.10660144, 0.65187084, 0.69000862, 0.95970008,\n",
       "       0.35859425, 0.83250866, 0.63850117, 0.55076532, 0.56174875,\n",
       "       0.89006532, 0.31603016, 0.67342003, 0.52561311, 0.84463994,\n",
       "       0.57246098, 0.14411058, 0.40421088, 0.00967232, 0.20911394,\n",
       "       0.43028408, 0.17530629, 0.03701313, 0.42517132, 0.98257677,\n",
       "       0.47194098, 0.17592704, 0.49512616, 0.22341204, 0.77855387])"
      ]
     },
     "execution_count": 25,
     "metadata": {},
     "output_type": "execute_result"
    }
   ],
   "source": [
    "data"
   ]
  },
  {
   "cell_type": "code",
   "execution_count": 1,
   "id": "bbfc5233",
   "metadata": {},
   "outputs": [
    {
     "name": "stderr",
     "output_type": "stream",
     "text": [
      "/liubinxu/liubinxu/finance/learning/src/utils/data_utils.py:6: TqdmExperimentalWarning: Using `tqdm.autonotebook.tqdm` in notebook mode. Use `tqdm.tqdm` instead to force console mode (e.g. in jupyter console)\n",
      "  from tqdm.autonotebook import tqdm\n"
     ]
    }
   ],
   "source": [
    "from src.feature_engineering.autoregressive_features import *"
   ]
  },
  {
   "cell_type": "code",
   "execution_count": 4,
   "id": "884908ac",
   "metadata": {},
   "outputs": [],
   "source": [
    "import glob"
   ]
  },
  {
   "cell_type": "code",
   "execution_count": 5,
   "id": "35b4b35b",
   "metadata": {},
   "outputs": [],
   "source": [
    "data_file = \"/liubinxu/liubinxu/finance/learning/data/*.qfq.kdj.parquet\"\n",
    "data_files =glob.glob(data_file)"
   ]
  },
  {
   "cell_type": "code",
   "execution_count": 6,
   "id": "3f7d9673",
   "metadata": {},
   "outputs": [
    {
     "data": {
      "text/plain": [
       "['/liubinxu/liubinxu/finance/learning/data/159605.qfq.kdj.parquet',\n",
       " '/liubinxu/liubinxu/finance/learning/data/516780.qfq.kdj.parquet',\n",
       " '/liubinxu/liubinxu/finance/learning/data/561550.qfq.kdj.parquet',\n",
       " '/liubinxu/liubinxu/finance/learning/data/159766.qfq.kdj.parquet',\n",
       " '/liubinxu/liubinxu/finance/learning/data/159865.qfq.kdj.parquet',\n",
       " '/liubinxu/liubinxu/finance/learning/data/159949.qfq.kdj.parquet',\n",
       " '/liubinxu/liubinxu/finance/learning/data/159611.qfq.kdj.parquet',\n",
       " '/liubinxu/liubinxu/finance/learning/data/515700.qfq.kdj.parquet',\n",
       " '/liubinxu/liubinxu/finance/learning/data/512690.qfq.kdj.parquet',\n",
       " '/liubinxu/liubinxu/finance/learning/data/000016.qfq.kdj.parquet',\n",
       " '/liubinxu/liubinxu/finance/learning/data/510330.qfq.kdj.parquet',\n",
       " '/liubinxu/liubinxu/finance/learning/data/159928.qfq.kdj.parquet',\n",
       " '/liubinxu/liubinxu/finance/learning/data/515790.qfq.kdj.parquet',\n",
       " '/liubinxu/liubinxu/finance/learning/data/515030.qfq.kdj.parquet',\n",
       " '/liubinxu/liubinxu/finance/learning/data/515220.qfq.kdj.parquet',\n",
       " '/liubinxu/liubinxu/finance/learning/data/588080.qfq.kdj.parquet',\n",
       " '/liubinxu/liubinxu/finance/learning/data/159920.qfq.kdj.parquet',\n",
       " '/liubinxu/liubinxu/finance/learning/data/512010.qfq.kdj.parquet',\n",
       " '/liubinxu/liubinxu/finance/learning/data/159995.qfq.kdj.parquet',\n",
       " '/liubinxu/liubinxu/finance/learning/data/512100.qfq.kdj.parquet',\n",
       " '/liubinxu/liubinxu/finance/learning/data/510050.qfq.kdj.parquet',\n",
       " '/liubinxu/liubinxu/finance/learning/data/159745.qfq.kdj.parquet',\n",
       " '/liubinxu/liubinxu/finance/learning/data/159915.qfq.kdj.parquet',\n",
       " '/liubinxu/liubinxu/finance/learning/data/510900.qfq.kdj.parquet',\n",
       " '/liubinxu/liubinxu/finance/learning/data/512200.qfq.kdj.parquet',\n",
       " '/liubinxu/liubinxu/finance/learning/data/512500.qfq.kdj.parquet',\n",
       " '/liubinxu/liubinxu/finance/learning/data/515210.qfq.kdj.parquet',\n",
       " '/liubinxu/liubinxu/finance/learning/data/159996.qfq.kdj.parquet',\n",
       " '/liubinxu/liubinxu/finance/learning/data/513100.qfq.kdj.parquet',\n",
       " '/liubinxu/liubinxu/finance/learning/data/561300.qfq.kdj.parquet',\n",
       " '/liubinxu/liubinxu/finance/learning/data/510500.qfq.kdj.parquet',\n",
       " '/liubinxu/liubinxu/finance/learning/data/512170.qfq.kdj.parquet',\n",
       " '/liubinxu/liubinxu/finance/learning/data/511380.qfq.kdj.parquet',\n",
       " '/liubinxu/liubinxu/finance/learning/data/588050.qfq.kdj.parquet',\n",
       " '/liubinxu/liubinxu/finance/learning/data/516160.qfq.kdj.parquet',\n",
       " '/liubinxu/liubinxu/finance/learning/data/515050.qfq.kdj.parquet',\n",
       " '/liubinxu/liubinxu/finance/learning/data/512290.qfq.kdj.parquet',\n",
       " '/liubinxu/liubinxu/finance/learning/data/512070.qfq.kdj.parquet',\n",
       " '/liubinxu/liubinxu/finance/learning/data/512400.qfq.kdj.parquet',\n",
       " '/liubinxu/liubinxu/finance/learning/data/512760.qfq.kdj.parquet',\n",
       " '/liubinxu/liubinxu/finance/learning/data/513010.qfq.kdj.parquet',\n",
       " '/liubinxu/liubinxu/finance/learning/data/000852.qfq.kdj.parquet',\n",
       " '/liubinxu/liubinxu/finance/learning/data/513060.qfq.kdj.parquet',\n",
       " '/liubinxu/liubinxu/finance/learning/data/512480.qfq.kdj.parquet',\n",
       " '/liubinxu/liubinxu/finance/learning/data/510300.qfq.kdj.parquet',\n",
       " '/liubinxu/liubinxu/finance/learning/data/159825.qfq.kdj.parquet',\n",
       " '/liubinxu/liubinxu/finance/learning/data/399006.qfq.kdj.parquet',\n",
       " '/liubinxu/liubinxu/finance/learning/data/512880.qfq.kdj.parquet',\n",
       " '/liubinxu/liubinxu/finance/learning/data/159845.qfq.kdj.parquet',\n",
       " '/liubinxu/liubinxu/finance/learning/data/513500.qfq.kdj.parquet',\n",
       " '/liubinxu/liubinxu/finance/learning/data/516950.qfq.kdj.parquet',\n",
       " '/liubinxu/liubinxu/finance/learning/data/563000.qfq.kdj.parquet',\n",
       " '/liubinxu/liubinxu/finance/learning/data/561990.qfq.kdj.parquet',\n",
       " '/liubinxu/liubinxu/finance/learning/data/512000.qfq.kdj.parquet',\n",
       " '/liubinxu/liubinxu/finance/learning/data/588000.qfq.kdj.parquet',\n",
       " '/liubinxu/liubinxu/finance/learning/data/512800.qfq.kdj.parquet',\n",
       " '/liubinxu/liubinxu/finance/learning/data/159867.qfq.kdj.parquet',\n",
       " '/liubinxu/liubinxu/finance/learning/data/510880.qfq.kdj.parquet',\n",
       " '/liubinxu/liubinxu/finance/learning/data/516970.qfq.kdj.parquet',\n",
       " '/liubinxu/liubinxu/finance/learning/data/513130.qfq.kdj.parquet',\n",
       " '/liubinxu/liubinxu/finance/learning/data/560050.qfq.kdj.parquet',\n",
       " '/liubinxu/liubinxu/finance/learning/data/159967.qfq.kdj.parquet',\n",
       " '/liubinxu/liubinxu/finance/learning/data/512660.qfq.kdj.parquet',\n",
       " '/liubinxu/liubinxu/finance/learning/data/159905.qfq.kdj.parquet',\n",
       " '/liubinxu/liubinxu/finance/learning/data/516010.qfq.kdj.parquet',\n",
       " '/liubinxu/liubinxu/finance/learning/data/513180.qfq.kdj.parquet']"
      ]
     },
     "execution_count": 6,
     "metadata": {},
     "output_type": "execute_result"
    }
   ],
   "source": [
    "data_files"
   ]
  },
  {
   "cell_type": "code",
   "execution_count": 7,
   "id": "8da7eb3d",
   "metadata": {},
   "outputs": [],
   "source": [
    "data = pd.read_parquet(data_files[0])"
   ]
  },
  {
   "cell_type": "code",
   "execution_count": 8,
   "id": "0a9a2016",
   "metadata": {},
   "outputs": [
    {
     "data": {
      "text/html": [
       "<div>\n",
       "<style scoped>\n",
       "    .dataframe tbody tr th:only-of-type {\n",
       "        vertical-align: middle;\n",
       "    }\n",
       "\n",
       "    .dataframe tbody tr th {\n",
       "        vertical-align: top;\n",
       "    }\n",
       "\n",
       "    .dataframe thead th {\n",
       "        text-align: right;\n",
       "    }\n",
       "</style>\n",
       "<table border=\"1\" class=\"dataframe\">\n",
       "  <thead>\n",
       "    <tr style=\"text-align: right;\">\n",
       "      <th></th>\n",
       "      <th>open</th>\n",
       "      <th>close</th>\n",
       "      <th>high</th>\n",
       "      <th>low</th>\n",
       "      <th>vol</th>\n",
       "      <th>amount</th>\n",
       "      <th>datetime</th>\n",
       "      <th>code</th>\n",
       "      <th>date</th>\n",
       "      <th>date_stamp</th>\n",
       "      <th>...</th>\n",
       "      <th>close_rolling_96_mean_amount_normalize60_rolling_96_mean_corr_roll480</th>\n",
       "      <th>close_rolling_480_mean_amount_normalize60_rolling_480_mean_corr_roll24</th>\n",
       "      <th>close_rolling_480_mean_amount_normalize60_rolling_480_mean_corr_roll96</th>\n",
       "      <th>close_rolling_480_mean_amount_normalize60_rolling_480_mean_corr_roll480</th>\n",
       "      <th>K</th>\n",
       "      <th>D</th>\n",
       "      <th>J</th>\n",
       "      <th>target_close1</th>\n",
       "      <th>target_close2</th>\n",
       "      <th>target_close5</th>\n",
       "    </tr>\n",
       "    <tr>\n",
       "      <th>index</th>\n",
       "      <th></th>\n",
       "      <th></th>\n",
       "      <th></th>\n",
       "      <th></th>\n",
       "      <th></th>\n",
       "      <th></th>\n",
       "      <th></th>\n",
       "      <th></th>\n",
       "      <th></th>\n",
       "      <th></th>\n",
       "      <th></th>\n",
       "      <th></th>\n",
       "      <th></th>\n",
       "      <th></th>\n",
       "      <th></th>\n",
       "      <th></th>\n",
       "      <th></th>\n",
       "      <th></th>\n",
       "      <th></th>\n",
       "      <th></th>\n",
       "      <th></th>\n",
       "    </tr>\n",
       "  </thead>\n",
       "  <tbody>\n",
       "    <tr>\n",
       "      <th>2021-12-02 09:40:00</th>\n",
       "      <td>0.963</td>\n",
       "      <td>0.964</td>\n",
       "      <td>0.964</td>\n",
       "      <td>0.960</td>\n",
       "      <td>33720600.0</td>\n",
       "      <td>32440008.00</td>\n",
       "      <td>2021-12-02 09:40:00</td>\n",
       "      <td>159605</td>\n",
       "      <td>2021-12-02</td>\n",
       "      <td>1.638374e+09</td>\n",
       "      <td>...</td>\n",
       "      <td>NaN</td>\n",
       "      <td>NaN</td>\n",
       "      <td>NaN</td>\n",
       "      <td>NaN</td>\n",
       "      <td>NaN</td>\n",
       "      <td>NaN</td>\n",
       "      <td>NaN</td>\n",
       "      <td>0.003112</td>\n",
       "      <td>-0.049793</td>\n",
       "      <td>0.002075</td>\n",
       "    </tr>\n",
       "    <tr>\n",
       "      <th>2021-12-02 09:45:00</th>\n",
       "      <td>0.964</td>\n",
       "      <td>0.967</td>\n",
       "      <td>0.967</td>\n",
       "      <td>0.963</td>\n",
       "      <td>26020000.0</td>\n",
       "      <td>25122128.00</td>\n",
       "      <td>2021-12-02 09:45:00</td>\n",
       "      <td>159605</td>\n",
       "      <td>2021-12-02</td>\n",
       "      <td>1.638374e+09</td>\n",
       "      <td>...</td>\n",
       "      <td>NaN</td>\n",
       "      <td>NaN</td>\n",
       "      <td>NaN</td>\n",
       "      <td>NaN</td>\n",
       "      <td>NaN</td>\n",
       "      <td>NaN</td>\n",
       "      <td>NaN</td>\n",
       "      <td>-0.003102</td>\n",
       "      <td>-0.047570</td>\n",
       "      <td>-0.002068</td>\n",
       "    </tr>\n",
       "    <tr>\n",
       "      <th>2021-12-02 09:50:00</th>\n",
       "      <td>0.966</td>\n",
       "      <td>0.969</td>\n",
       "      <td>0.970</td>\n",
       "      <td>0.966</td>\n",
       "      <td>24231500.0</td>\n",
       "      <td>23451248.00</td>\n",
       "      <td>2021-12-02 09:50:00</td>\n",
       "      <td>159605</td>\n",
       "      <td>2021-12-02</td>\n",
       "      <td>1.638374e+09</td>\n",
       "      <td>...</td>\n",
       "      <td>NaN</td>\n",
       "      <td>NaN</td>\n",
       "      <td>NaN</td>\n",
       "      <td>NaN</td>\n",
       "      <td>NaN</td>\n",
       "      <td>NaN</td>\n",
       "      <td>NaN</td>\n",
       "      <td>-0.007224</td>\n",
       "      <td>-0.048504</td>\n",
       "      <td>-0.006192</td>\n",
       "    </tr>\n",
       "    <tr>\n",
       "      <th>2021-12-02 09:55:00</th>\n",
       "      <td>0.969</td>\n",
       "      <td>0.971</td>\n",
       "      <td>0.971</td>\n",
       "      <td>0.968</td>\n",
       "      <td>13183000.0</td>\n",
       "      <td>12789008.00</td>\n",
       "      <td>2021-12-02 09:55:00</td>\n",
       "      <td>159605</td>\n",
       "      <td>2021-12-02</td>\n",
       "      <td>1.638374e+09</td>\n",
       "      <td>...</td>\n",
       "      <td>NaN</td>\n",
       "      <td>NaN</td>\n",
       "      <td>NaN</td>\n",
       "      <td>NaN</td>\n",
       "      <td>NaN</td>\n",
       "      <td>NaN</td>\n",
       "      <td>NaN</td>\n",
       "      <td>-0.008239</td>\n",
       "      <td>-0.051493</td>\n",
       "      <td>-0.006179</td>\n",
       "    </tr>\n",
       "    <tr>\n",
       "      <th>2021-12-02 10:00:00</th>\n",
       "      <td>0.971</td>\n",
       "      <td>0.970</td>\n",
       "      <td>0.971</td>\n",
       "      <td>0.969</td>\n",
       "      <td>9988200.0</td>\n",
       "      <td>9687072.00</td>\n",
       "      <td>2021-12-02 10:00:00</td>\n",
       "      <td>159605</td>\n",
       "      <td>2021-12-02</td>\n",
       "      <td>1.638374e+09</td>\n",
       "      <td>...</td>\n",
       "      <td>NaN</td>\n",
       "      <td>NaN</td>\n",
       "      <td>NaN</td>\n",
       "      <td>NaN</td>\n",
       "      <td>NaN</td>\n",
       "      <td>NaN</td>\n",
       "      <td>NaN</td>\n",
       "      <td>-0.006186</td>\n",
       "      <td>-0.047423</td>\n",
       "      <td>-0.005155</td>\n",
       "    </tr>\n",
       "    <tr>\n",
       "      <th>...</th>\n",
       "      <td>...</td>\n",
       "      <td>...</td>\n",
       "      <td>...</td>\n",
       "      <td>...</td>\n",
       "      <td>...</td>\n",
       "      <td>...</td>\n",
       "      <td>...</td>\n",
       "      <td>...</td>\n",
       "      <td>...</td>\n",
       "      <td>...</td>\n",
       "      <td>...</td>\n",
       "      <td>...</td>\n",
       "      <td>...</td>\n",
       "      <td>...</td>\n",
       "      <td>...</td>\n",
       "      <td>...</td>\n",
       "      <td>...</td>\n",
       "      <td>...</td>\n",
       "      <td>...</td>\n",
       "      <td>...</td>\n",
       "      <td>...</td>\n",
       "    </tr>\n",
       "    <tr>\n",
       "      <th>2023-05-12 14:40:00</th>\n",
       "      <td>0.725</td>\n",
       "      <td>0.724</td>\n",
       "      <td>0.726</td>\n",
       "      <td>0.724</td>\n",
       "      <td>11460400.0</td>\n",
       "      <td>8307953.00</td>\n",
       "      <td>2023-05-12 14:40:00</td>\n",
       "      <td>159605</td>\n",
       "      <td>2023-05-12</td>\n",
       "      <td>1.683821e+09</td>\n",
       "      <td>...</td>\n",
       "      <td>0.455227</td>\n",
       "      <td>-0.982917</td>\n",
       "      <td>0.929627</td>\n",
       "      <td>0.971821</td>\n",
       "      <td>35.721710</td>\n",
       "      <td>31.811955</td>\n",
       "      <td>43.541219</td>\n",
       "      <td>NaN</td>\n",
       "      <td>NaN</td>\n",
       "      <td>NaN</td>\n",
       "    </tr>\n",
       "    <tr>\n",
       "      <th>2023-05-12 14:45:00</th>\n",
       "      <td>0.725</td>\n",
       "      <td>0.725</td>\n",
       "      <td>0.725</td>\n",
       "      <td>0.724</td>\n",
       "      <td>4188500.0</td>\n",
       "      <td>3033177.75</td>\n",
       "      <td>2023-05-12 14:45:00</td>\n",
       "      <td>159605</td>\n",
       "      <td>2023-05-12</td>\n",
       "      <td>1.683821e+09</td>\n",
       "      <td>...</td>\n",
       "      <td>0.453218</td>\n",
       "      <td>-0.982594</td>\n",
       "      <td>0.923866</td>\n",
       "      <td>0.971751</td>\n",
       "      <td>42.268091</td>\n",
       "      <td>33.554644</td>\n",
       "      <td>59.694985</td>\n",
       "      <td>NaN</td>\n",
       "      <td>NaN</td>\n",
       "      <td>NaN</td>\n",
       "    </tr>\n",
       "    <tr>\n",
       "      <th>2023-05-12 14:50:00</th>\n",
       "      <td>0.724</td>\n",
       "      <td>0.724</td>\n",
       "      <td>0.725</td>\n",
       "      <td>0.724</td>\n",
       "      <td>4501500.0</td>\n",
       "      <td>3261044.75</td>\n",
       "      <td>2023-05-12 14:50:00</td>\n",
       "      <td>159605</td>\n",
       "      <td>2023-05-12</td>\n",
       "      <td>1.683821e+09</td>\n",
       "      <td>...</td>\n",
       "      <td>0.451418</td>\n",
       "      <td>-0.982194</td>\n",
       "      <td>0.917739</td>\n",
       "      <td>0.971699</td>\n",
       "      <td>43.556743</td>\n",
       "      <td>35.221661</td>\n",
       "      <td>60.226907</td>\n",
       "      <td>NaN</td>\n",
       "      <td>NaN</td>\n",
       "      <td>NaN</td>\n",
       "    </tr>\n",
       "    <tr>\n",
       "      <th>2023-05-12 14:55:00</th>\n",
       "      <td>0.725</td>\n",
       "      <td>0.725</td>\n",
       "      <td>0.725</td>\n",
       "      <td>0.724</td>\n",
       "      <td>6397000.0</td>\n",
       "      <td>4635607.00</td>\n",
       "      <td>2023-05-12 14:55:00</td>\n",
       "      <td>159605</td>\n",
       "      <td>2023-05-12</td>\n",
       "      <td>1.683821e+09</td>\n",
       "      <td>...</td>\n",
       "      <td>0.449665</td>\n",
       "      <td>-0.981271</td>\n",
       "      <td>0.910613</td>\n",
       "      <td>0.971574</td>\n",
       "      <td>48.797286</td>\n",
       "      <td>37.484265</td>\n",
       "      <td>71.423327</td>\n",
       "      <td>NaN</td>\n",
       "      <td>NaN</td>\n",
       "      <td>NaN</td>\n",
       "    </tr>\n",
       "    <tr>\n",
       "      <th>2023-05-12 15:00:00</th>\n",
       "      <td>0.725</td>\n",
       "      <td>0.724</td>\n",
       "      <td>0.725</td>\n",
       "      <td>0.724</td>\n",
       "      <td>16388300.0</td>\n",
       "      <td>11866338.00</td>\n",
       "      <td>2023-05-12 15:00:00</td>\n",
       "      <td>159605</td>\n",
       "      <td>2023-05-12</td>\n",
       "      <td>1.683821e+09</td>\n",
       "      <td>...</td>\n",
       "      <td>0.448021</td>\n",
       "      <td>-0.980229</td>\n",
       "      <td>0.903612</td>\n",
       "      <td>0.971465</td>\n",
       "      <td>48.997738</td>\n",
       "      <td>39.403177</td>\n",
       "      <td>68.186860</td>\n",
       "      <td>NaN</td>\n",
       "      <td>NaN</td>\n",
       "      <td>NaN</td>\n",
       "    </tr>\n",
       "  </tbody>\n",
       "</table>\n",
       "<p>16751 rows × 106 columns</p>\n",
       "</div>"
      ],
      "text/plain": [
       "                      open  close   high    low         vol       amount   \n",
       "index                                                                      \n",
       "2021-12-02 09:40:00  0.963  0.964  0.964  0.960  33720600.0  32440008.00  \\\n",
       "2021-12-02 09:45:00  0.964  0.967  0.967  0.963  26020000.0  25122128.00   \n",
       "2021-12-02 09:50:00  0.966  0.969  0.970  0.966  24231500.0  23451248.00   \n",
       "2021-12-02 09:55:00  0.969  0.971  0.971  0.968  13183000.0  12789008.00   \n",
       "2021-12-02 10:00:00  0.971  0.970  0.971  0.969   9988200.0   9687072.00   \n",
       "...                    ...    ...    ...    ...         ...          ...   \n",
       "2023-05-12 14:40:00  0.725  0.724  0.726  0.724  11460400.0   8307953.00   \n",
       "2023-05-12 14:45:00  0.725  0.725  0.725  0.724   4188500.0   3033177.75   \n",
       "2023-05-12 14:50:00  0.724  0.724  0.725  0.724   4501500.0   3261044.75   \n",
       "2023-05-12 14:55:00  0.725  0.725  0.725  0.724   6397000.0   4635607.00   \n",
       "2023-05-12 15:00:00  0.725  0.724  0.725  0.724  16388300.0  11866338.00   \n",
       "\n",
       "                                datetime    code        date    date_stamp   \n",
       "index                                                                        \n",
       "2021-12-02 09:40:00  2021-12-02 09:40:00  159605  2021-12-02  1.638374e+09  \\\n",
       "2021-12-02 09:45:00  2021-12-02 09:45:00  159605  2021-12-02  1.638374e+09   \n",
       "2021-12-02 09:50:00  2021-12-02 09:50:00  159605  2021-12-02  1.638374e+09   \n",
       "2021-12-02 09:55:00  2021-12-02 09:55:00  159605  2021-12-02  1.638374e+09   \n",
       "2021-12-02 10:00:00  2021-12-02 10:00:00  159605  2021-12-02  1.638374e+09   \n",
       "...                                  ...     ...         ...           ...   \n",
       "2023-05-12 14:40:00  2023-05-12 14:40:00  159605  2023-05-12  1.683821e+09   \n",
       "2023-05-12 14:45:00  2023-05-12 14:45:00  159605  2023-05-12  1.683821e+09   \n",
       "2023-05-12 14:50:00  2023-05-12 14:50:00  159605  2023-05-12  1.683821e+09   \n",
       "2023-05-12 14:55:00  2023-05-12 14:55:00  159605  2023-05-12  1.683821e+09   \n",
       "2023-05-12 15:00:00  2023-05-12 15:00:00  159605  2023-05-12  1.683821e+09   \n",
       "\n",
       "                     ...   \n",
       "index                ...   \n",
       "2021-12-02 09:40:00  ...  \\\n",
       "2021-12-02 09:45:00  ...   \n",
       "2021-12-02 09:50:00  ...   \n",
       "2021-12-02 09:55:00  ...   \n",
       "2021-12-02 10:00:00  ...   \n",
       "...                  ...   \n",
       "2023-05-12 14:40:00  ...   \n",
       "2023-05-12 14:45:00  ...   \n",
       "2023-05-12 14:50:00  ...   \n",
       "2023-05-12 14:55:00  ...   \n",
       "2023-05-12 15:00:00  ...   \n",
       "\n",
       "                     close_rolling_96_mean_amount_normalize60_rolling_96_mean_corr_roll480   \n",
       "index                                                                                        \n",
       "2021-12-02 09:40:00                                                NaN                      \\\n",
       "2021-12-02 09:45:00                                                NaN                       \n",
       "2021-12-02 09:50:00                                                NaN                       \n",
       "2021-12-02 09:55:00                                                NaN                       \n",
       "2021-12-02 10:00:00                                                NaN                       \n",
       "...                                                                ...                       \n",
       "2023-05-12 14:40:00                                           0.455227                       \n",
       "2023-05-12 14:45:00                                           0.453218                       \n",
       "2023-05-12 14:50:00                                           0.451418                       \n",
       "2023-05-12 14:55:00                                           0.449665                       \n",
       "2023-05-12 15:00:00                                           0.448021                       \n",
       "\n",
       "                    close_rolling_480_mean_amount_normalize60_rolling_480_mean_corr_roll24   \n",
       "index                                                                                        \n",
       "2021-12-02 09:40:00                                                NaN                      \\\n",
       "2021-12-02 09:45:00                                                NaN                       \n",
       "2021-12-02 09:50:00                                                NaN                       \n",
       "2021-12-02 09:55:00                                                NaN                       \n",
       "2021-12-02 10:00:00                                                NaN                       \n",
       "...                                                                ...                       \n",
       "2023-05-12 14:40:00                                          -0.982917                       \n",
       "2023-05-12 14:45:00                                          -0.982594                       \n",
       "2023-05-12 14:50:00                                          -0.982194                       \n",
       "2023-05-12 14:55:00                                          -0.981271                       \n",
       "2023-05-12 15:00:00                                          -0.980229                       \n",
       "\n",
       "                     close_rolling_480_mean_amount_normalize60_rolling_480_mean_corr_roll96   \n",
       "index                                                                                         \n",
       "2021-12-02 09:40:00                                                NaN                       \\\n",
       "2021-12-02 09:45:00                                                NaN                        \n",
       "2021-12-02 09:50:00                                                NaN                        \n",
       "2021-12-02 09:55:00                                                NaN                        \n",
       "2021-12-02 10:00:00                                                NaN                        \n",
       "...                                                                ...                        \n",
       "2023-05-12 14:40:00                                           0.929627                        \n",
       "2023-05-12 14:45:00                                           0.923866                        \n",
       "2023-05-12 14:50:00                                           0.917739                        \n",
       "2023-05-12 14:55:00                                           0.910613                        \n",
       "2023-05-12 15:00:00                                           0.903612                        \n",
       "\n",
       "                     close_rolling_480_mean_amount_normalize60_rolling_480_mean_corr_roll480   \n",
       "index                                                                                          \n",
       "2021-12-02 09:40:00                                                NaN                        \\\n",
       "2021-12-02 09:45:00                                                NaN                         \n",
       "2021-12-02 09:50:00                                                NaN                         \n",
       "2021-12-02 09:55:00                                                NaN                         \n",
       "2021-12-02 10:00:00                                                NaN                         \n",
       "...                                                                ...                         \n",
       "2023-05-12 14:40:00                                           0.971821                         \n",
       "2023-05-12 14:45:00                                           0.971751                         \n",
       "2023-05-12 14:50:00                                           0.971699                         \n",
       "2023-05-12 14:55:00                                           0.971574                         \n",
       "2023-05-12 15:00:00                                           0.971465                         \n",
       "\n",
       "                             K          D          J  target_close1   \n",
       "index                                                                 \n",
       "2021-12-02 09:40:00        NaN        NaN        NaN       0.003112  \\\n",
       "2021-12-02 09:45:00        NaN        NaN        NaN      -0.003102   \n",
       "2021-12-02 09:50:00        NaN        NaN        NaN      -0.007224   \n",
       "2021-12-02 09:55:00        NaN        NaN        NaN      -0.008239   \n",
       "2021-12-02 10:00:00        NaN        NaN        NaN      -0.006186   \n",
       "...                        ...        ...        ...            ...   \n",
       "2023-05-12 14:40:00  35.721710  31.811955  43.541219            NaN   \n",
       "2023-05-12 14:45:00  42.268091  33.554644  59.694985            NaN   \n",
       "2023-05-12 14:50:00  43.556743  35.221661  60.226907            NaN   \n",
       "2023-05-12 14:55:00  48.797286  37.484265  71.423327            NaN   \n",
       "2023-05-12 15:00:00  48.997738  39.403177  68.186860            NaN   \n",
       "\n",
       "                     target_close2  target_close5  \n",
       "index                                              \n",
       "2021-12-02 09:40:00      -0.049793       0.002075  \n",
       "2021-12-02 09:45:00      -0.047570      -0.002068  \n",
       "2021-12-02 09:50:00      -0.048504      -0.006192  \n",
       "2021-12-02 09:55:00      -0.051493      -0.006179  \n",
       "2021-12-02 10:00:00      -0.047423      -0.005155  \n",
       "...                            ...            ...  \n",
       "2023-05-12 14:40:00            NaN            NaN  \n",
       "2023-05-12 14:45:00            NaN            NaN  \n",
       "2023-05-12 14:50:00            NaN            NaN  \n",
       "2023-05-12 14:55:00            NaN            NaN  \n",
       "2023-05-12 15:00:00            NaN            NaN  \n",
       "\n",
       "[16751 rows x 106 columns]"
      ]
     },
     "execution_count": 8,
     "metadata": {},
     "output_type": "execute_result"
    }
   ],
   "source": [
    "data"
   ]
  },
  {
   "cell_type": "code",
   "execution_count": 9,
   "id": "bb278d71",
   "metadata": {},
   "outputs": [
    {
     "name": "stderr",
     "output_type": "stream",
     "text": [
      "/liubinxu/liubinxu/finance/learning/src/feature_engineering/autoregressive_features.py:182: UserWarning: Assuming just one unique time series in dataset. If there are multiple, provide `ts_id` argument\n",
      "  warnings.warn(\n"
     ]
    }
   ],
   "source": [
    "data, features = add_rolling_features(data, rolls=[24, 96], column=\"amount_normalize60\", agg_funcs=[\"mean\", \"std\", \"std_mean\", \"exp_mean\"])"
   ]
  },
  {
   "cell_type": "code",
   "execution_count": 10,
   "id": "b5ae4d32",
   "metadata": {},
   "outputs": [
    {
     "data": {
      "text/plain": [
       "['amount_normalize60_rolling_24_mean',\n",
       " 'amount_normalize60_rolling_24_std',\n",
       " 'amount_normalize60_rolling_24_std_mean',\n",
       " 'amount_normalize60_rolling_24_exp_mean',\n",
       " 'amount_normalize60_rolling_96_mean',\n",
       " 'amount_normalize60_rolling_96_std',\n",
       " 'amount_normalize60_rolling_96_std_mean',\n",
       " 'amount_normalize60_rolling_96_exp_mean']"
      ]
     },
     "execution_count": 10,
     "metadata": {},
     "output_type": "execute_result"
    }
   ],
   "source": [
    "features"
   ]
  },
  {
   "cell_type": "code",
   "execution_count": 18,
   "id": "56b249cc",
   "metadata": {},
   "outputs": [
    {
     "data": {
      "text/plain": [
       "(array([-480.,    0.,  480.,  960.]),\n",
       " [Text(-480.0, 0, ''),\n",
       "  Text(0.0, 0, '2022-05-12 10:20:00'),\n",
       "  Text(480.0, 0, '2022-05-26 10:20:00'),\n",
       "  Text(960.0, 0, '')])"
      ]
     },
     "execution_count": 18,
     "metadata": {},
     "output_type": "execute_result"
    },
    {
     "data": {
      "image/png": "[encoded data removed]",
      "text/plain": [
       "<Figure size 640x480 with 1 Axes>"
      ]
     },
     "metadata": {},
     "output_type": "display_data"
    }
   ],
   "source": [
    "from matplotlib import pyplot as plt\n",
    "import matplotlib.ticker as ticker\n",
    "fig, ax1 = plt.subplots(1,1, sharex=True)\n",
    "datac = data[5000:5500]\n",
    "ax1.plot(datac[\"datetime\"], datac[\"close\"], label=2)\n",
    "# ax.plot(datac[\"datetime\"], datac[\"close\"].rolling(24, min_periods=1).mean(), label=2)\n",
    "ax1.plot(datac[\"datetime\"], datac[\"amount_normalize60_rolling_96_mean\"], label=2)\n",
    "ax1.plot(datac[\"datetime\"], datac[\"amount_normalize60_rolling_96_exp_mean\"], label=2)\n",
    "ax1.xaxis.set_major_locator(ticker.MultipleLocator(base=480))\n",
    "plt.xticks(rotation=90)"
   ]
  },
  {
   "cell_type": "code",
   "execution_count": 35,
   "id": "131227d4",
   "metadata": {},
   "outputs": [],
   "source": [
    "import pandas as pd\n",
    "import numpy as np\n",
    "import os"
   ]
  },
  {
   "cell_type": "code",
   "execution_count": 25,
   "id": "8c1ce6a6",
   "metadata": {},
   "outputs": [],
   "source": [
    "data_file = \"/data/finance/*.qfq.parquet\""
   ]
  },
  {
   "cell_type": "code",
   "execution_count": 26,
   "id": "f91c89ad",
   "metadata": {},
   "outputs": [],
   "source": [
    "data_files =glob.glob(data_file)"
   ]
  },
  {
   "cell_type": "code",
   "execution_count": 27,
   "id": "bbb57391",
   "metadata": {},
   "outputs": [],
   "source": [
    "data = pd.read_parquet(data_files[0])"
   ]
  },
  {
   "cell_type": "code",
   "execution_count": 24,
   "id": "0246f479",
   "metadata": {},
   "outputs": [
    {
     "data": {
      "text/plain": [
       "[]"
      ]
     },
     "execution_count": 24,
     "metadata": {},
     "output_type": "execute_result"
    }
   ],
   "source": [
    "data_files"
   ]
  },
  {
   "cell_type": "code",
   "execution_count": 33,
   "id": "34c98fd0",
   "metadata": {},
   "outputs": [
    {
     "data": {
      "text/plain": [
       "36466844.814453125"
      ]
     },
     "execution_count": 33,
     "metadata": {},
     "output_type": "execute_result"
    }
   ],
   "source": [
    "data[-48:][\"amount\"].sum()"
   ]
  },
  {
   "cell_type": "code",
   "execution_count": 42,
   "id": "9fe342d6",
   "metadata": {},
   "outputs": [],
   "source": [
    "code = []\n",
    "lens = []\n",
    "amount = []\n",
    "for data_file in data_files:\n",
    "    data = pd.read_parquet(data_file)\n",
    "    code.append(os.path.basename(data_file).split(\".\")[0])\n",
    "    lens.append(len(data))\n",
    "    amount.append(data[-48:][\"amount\"].sum())"
   ]
  },
  {
   "cell_type": "code",
   "execution_count": 43,
   "id": "f0a922e6",
   "metadata": {},
   "outputs": [],
   "source": [
    "a= pd.DataFrame()"
   ]
  },
  {
   "cell_type": "code",
   "execution_count": 44,
   "id": "ad80dfdc",
   "metadata": {},
   "outputs": [],
   "source": [
    "a[\"code\"] = code\n",
    "a[\"lens\"] = lens\n",
    "a[\"amount\"] = amount"
   ]
  },
  {
   "cell_type": "code",
   "execution_count": 47,
   "id": "627dd263",
   "metadata": {},
   "outputs": [],
   "source": [
    "choose1 =  a[a[\"lens\"] >  10000]"
   ]
  },
  {
   "cell_type": "code",
   "execution_count": 52,
   "id": "a2bc432e",
   "metadata": {},
   "outputs": [],
   "source": [
    "choose2 = choose1[choose1[\"amount\"]> 20000000]"
   ]
  },
  {
   "cell_type": "code",
   "execution_count": 55,
   "id": "e86300e9",
   "metadata": {},
   "outputs": [],
   "source": [
    "choose2 = choose2.reset_index()"
   ]
  },
  {
   "cell_type": "code",
   "execution_count": 59,
   "id": "83a04d9f",
   "metadata": {
    "scrolled": true
   },
   "outputs": [
    {
     "name": "stdout",
     "output_type": "stream",
     "text": [
      "['159905', '159003', '159601', '159606', '159610', '159612', '159619', '159628', '159632', '159636', '159677', '159741', '159814', '159881', '159647', '159650', '159667', '159679', '159681', '159688', '159708', '159718', '159736', '159742', '159747', '159755', '159776', '159781', '159790', '159796', '159805', '159813', '159820', '159828', '159831', '159839', '159841', '159843', '159850', '159852', '159864', '159866', '159869', '159875', '159887', '159892', '159902', '159907', '159915', '159920', '159925', '159930', '159937', '159939', '159941', '159949', '159968', '159972', '159980', '159982', '159992', '159994', '159997', '510050', '510150', '510230', '510310', '510350', '510500', '510580', '510710', '510800', '510900', '511020', '511060', '511220', '511270', '511380', '511620', '511690', '511810', '511880', '511990', '512010', '512070', '512120', '512290', '512400', '512500', '512660', '512680', '512700', '512720', '512810', '512880', '512900', '512950', '513000', '513020', '513060', '513080', '513100', '513120', '513160', '513200', '513280', '513300', '513330', '513380', '513520', '513550', '513600', '513690', '513770', '513860', '513900', '515000', '515050', '515070', '515100', '159952', '510210', '512560', '513030', '513890', '515650', '516640', '515130', '515180', '515220', '515250', '515330', '515390', '515450', '515710', '515790', '515810', '515880', '515980', '516020', '516110', '516160', '516300', '516510', '516780', '516880', '516950', '517090', '518680', '518850']\n"
     ]
    }
   ],
   "source": [
    "print(list(choose2[\"code\"][0::2]))"
   ]
  },
  {
   "cell_type": "code",
   "execution_count": 60,
   "id": "d8e3c8e6",
   "metadata": {},
   "outputs": [
    {
     "name": "stdout",
     "output_type": "stream",
     "text": [
      "['159001', '159005', '159605', '159607', '159611', '159615', '159625', '159629', '159633', '159637', '159719', '159768', '159859', '159638', '159649', '159655', '159671', '159680', '159682', '159707', '159713', '159732', '159740', '159745', '159750', '159766', '159780', '159783', '159792', '159801', '159806', '159819', '159825', '159830', '159837', '159840', '159842', '159845', '159851', '159857', '159865', '159867', '159870', '159883', '159888', '159901', '159903', '159908', '159919', '159922', '159928', '159934', '159938', '159940', '159943', '159967', '159971', '159977', '159981', '159985', '159993', '159995', '159998', '510100', '510180', '510300', '510330', '510360', '510510', '510680', '510760', '510880', '511010', '511030', '511180', '511260', '511360', '511520', '511660', '511700', '511850', '511900', '512000', '512040', '512100', '512170', '512330', '512480', '512510', '512670', '512690', '512710', '512760', '512820', '512890', '512930', '512980', '513010', '513050', '513070', '513090', '513110', '513130', '513180', '513260', '513290', '513310', '513360', '513500', '513530', '513580', '513660', '513700', '513800', '513880', '513980', '515030', '515060', '515080', '159929', '159996', '512200', '512800', '513220', '515310', '515900', '515120', '515170', '515210', '515230', '515290', '515380', '515400', '515700', '515770', '515800', '515850', '515950', '516010', '516090', '516150', '516220', '516310', '516770', '516820', '516910', '516970', '517180', '518800', '518880']\n"
     ]
    }
   ],
   "source": [
    "print(list(choose2[\"code\"][1::2]))"
   ]
  },
  {
   "cell_type": "code",
   "execution_count": null,
   "id": "5f6985d4",
   "metadata": {},
   "outputs": [],
   "source": []
  }
 ],
 "metadata": {
  "kernelspec": {
   "display_name": "Python 3 (ipykernel)",
   "language": "python",
   "name": "python3"
  },
  "language_info": {
   "codemirror_mode": {
    "name": "ipython",
    "version": 3
   },
   "file_extension": ".py",
   "mimetype": "text/x-python",
   "name": "python",
   "nbconvert_exporter": "python",
   "pygments_lexer": "ipython3",
   "version": "3.8.16"
  }
 },
 "nbformat": 4,
 "nbformat_minor": 5
}
