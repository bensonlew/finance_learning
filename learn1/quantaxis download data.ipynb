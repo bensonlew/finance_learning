{
 "cells": [
  {
   "cell_type": "code",
   "execution_count": 1,
   "id": "70073e9d",
   "metadata": {},
   "outputs": [
    {
     "name": "stdout",
     "output_type": "stream",
     "text": [
      "jqdatasdk not installed\n"
     ]
    }
   ],
   "source": [
    "from QUANTAXIS.QASU.main import (QA_SU_crawl_eastmoney, QA_SU_save_bond_day,\n",
    "                                 QA_SU_save_bond_list, QA_SU_save_bond_min,\n",
    "                                 QA_SU_save_etf_day, QA_SU_save_etf_list,\n",
    "                                 QA_SU_save_etf_min, QA_SU_save_financialfiles,\n",
    "                                 QA_SU_save_future_day,\n",
    "                                 QA_SU_save_future_day_all,\n",
    "                                 QA_SU_save_future_list, QA_SU_save_future_min,\n",
    "                                 QA_SU_save_future_min_all,\n",
    "                                 QA_SU_save_index_day, QA_SU_save_index_list,\n",
    "                                 QA_SU_save_index_min,\n",
    "                                 QA_SU_save_index_transaction,\n",
    "                                 QA_SU_save_option_50etf_day,\n",
    "                                 QA_SU_save_option_50etf_min,\n",
    "                                 QA_SU_save_option_300etf_day,\n",
    "                                 QA_SU_save_option_300etf_min,\n",
    "                                 QA_SU_save_option_commodity_day,\n",
    "                                 QA_SU_save_option_commodity_min,\n",
    "                                 QA_SU_save_option_contract_list,\n",
    "                                 QA_SU_save_option_day_all,\n",
    "                                 QA_SU_save_option_min_all,\n",
    "                                 QA_SU_save_report_calendar_day,\n",
    "                                 QA_SU_save_report_calendar_his,\n",
    "                                 QA_SU_save_single_bond_day,\n",
    "                                 QA_SU_save_single_bond_min,\n",
    "                                 QA_SU_save_single_etf_day,\n",
    "                                 QA_SU_save_single_etf_min,\n",
    "                                 QA_SU_save_single_future_day,\n",
    "                                 QA_SU_save_single_future_min,\n",
    "                                 QA_SU_save_single_index_day,\n",
    "                                 QA_SU_save_single_index_min,\n",
    "                                 QA_SU_save_single_stock_day,\n",
    "                                 QA_SU_save_single_stock_min,\n",
    "                                 QA_SU_save_stock_block, QA_SU_save_stock_day,\n",
    "                                 QA_SU_save_stock_divyield_day,\n",
    "                                 QA_SU_save_stock_divyield_his,\n",
    "                                 QA_SU_save_stock_info,\n",
    "                                 QA_SU_save_stock_info_tushare,\n",
    "                                 QA_SU_save_stock_list, QA_SU_save_stock_min,\n",
    "                                 QA_SU_save_stock_transaction,\n",
    "                                 QA_SU_save_stock_xdxr)"
   ]
  },
  {
   "cell_type": "code",
   "execution_count": null,
   "id": "384684e5",
   "metadata": {},
   "outputs": [
    {
     "name": "stderr",
     "output_type": "stream",
     "text": [
      "QUANTAXIS>> Selecting the Best Server IP of TDX\n"
     ]
    },
    {
     "name": "stdout",
     "output_type": "stream",
     "text": [
      "USING DEFAULT STOCK IP\n",
      "BAD RESPONSE 119.147.86.171\n",
      "DEFAULT FUTURE IP {'stock': {'ip': '119.147.212.81', 'port': 7709}, 'future': {'ip': '119.147.86.171', 'port': 7727, 'name': '扩展市场深圳主站'}} is BAD, RETESTING\n",
      "BAD RESPONSE 119.147.86.171BAD RESPONSE 120.24.0.77\n",
      "\n",
      "Progress: 12.50%\n",
      "Progress: 25.00%\n",
      "BAD RESPONSE 14.215.128.18BAD RESPONSE 124.74.236.94BAD RESPONSE 139.219.103.190\n",
      "\n",
      "\n",
      "BAD RESPONSE 119.147.86.171\n",
      "BAD RESPONSE 202.103.36.71BAD RESPONSE 47.92.127.181\n",
      "BAD RESPONSE 59.175.238.38\n",
      "\n",
      "BAD RESPONSE 61.152.107.141\n",
      "BAD RESPONSE 61.152.107.171\n",
      "Progress: 37.50%\n",
      "Progress: 50.00%\n",
      "Progress: 62.50%\n",
      "Progress: 75.00%\n",
      "Progress: 87.50%\n",
      "Progress: 100.00%\n"
     ]
    },
    {
     "name": "stderr",
     "output_type": "stream",
     "text": [
      "QUANTAXIS>> === The BEST SERVER ===\n",
      " stock_ip 119.147.212.81 future_ip 119.147.86.171\n"
     ]
    },
    {
     "name": "stdout",
     "output_type": "stream",
     "text": [
      "saving ip list to future cache 4\n"
     ]
    },
    {
     "name": "stderr",
     "output_type": "stream",
     "text": [
      "QUANTAXIS>> The 0 of Total 4457\n",
      "QUANTAXIS>> DOWNLOAD PROGRESS 0.0% \n",
      "QUANTAXIS>> ##JOB02 Now Saving XDXR INFO ==== 000001\n",
      "QUANTAXIS>> The 1 of Total 4457\n",
      "QUANTAXIS>> DOWNLOAD PROGRESS 0.02% \n",
      "QUANTAXIS>> ##JOB02 Now Saving XDXR INFO ==== 000002\n"
     ]
    },
    {
     "name": "stdout",
     "output_type": "stream",
     "text": [
      "'NoneType' object has no attribute 'assign'\n"
     ]
    },
    {
     "name": "stderr",
     "output_type": "stream",
     "text": [
      "QUANTAXIS>> The 2 of Total 4457\n",
      "QUANTAXIS>> DOWNLOAD PROGRESS 0.04% \n",
      "QUANTAXIS>> ##JOB02 Now Saving XDXR INFO ==== 000004\n"
     ]
    },
    {
     "name": "stdout",
     "output_type": "stream",
     "text": [
      "'NoneType' object has no attribute 'assign'\n"
     ]
    },
    {
     "name": "stderr",
     "output_type": "stream",
     "text": [
      "QUANTAXIS>> The 3 of Total 4457\n",
      "QUANTAXIS>> DOWNLOAD PROGRESS 0.06% \n",
      "QUANTAXIS>> ##JOB02 Now Saving XDXR INFO ==== 000005\n"
     ]
    },
    {
     "name": "stdout",
     "output_type": "stream",
     "text": [
      "'NoneType' object has no attribute 'assign'\n"
     ]
    },
    {
     "name": "stderr",
     "output_type": "stream",
     "text": [
      "QUANTAXIS>> The 4 of Total 4457\n",
      "QUANTAXIS>> DOWNLOAD PROGRESS 0.08% \n",
      "QUANTAXIS>> ##JOB02 Now Saving XDXR INFO ==== 000006\n"
     ]
    },
    {
     "name": "stdout",
     "output_type": "stream",
     "text": [
      "'NoneType' object has no attribute 'assign'\n"
     ]
    },
    {
     "name": "stderr",
     "output_type": "stream",
     "text": [
      "QUANTAXIS>> The 5 of Total 4457\n",
      "QUANTAXIS>> DOWNLOAD PROGRESS 0.11% \n",
      "QUANTAXIS>> ##JOB02 Now Saving XDXR INFO ==== 000007\n"
     ]
    },
    {
     "name": "stdout",
     "output_type": "stream",
     "text": [
      "'NoneType' object has no attribute 'assign'\n"
     ]
    },
    {
     "name": "stderr",
     "output_type": "stream",
     "text": [
      "QUANTAXIS>> The 6 of Total 4457\n",
      "QUANTAXIS>> DOWNLOAD PROGRESS 0.13% \n",
      "QUANTAXIS>> ##JOB02 Now Saving XDXR INFO ==== 000008\n"
     ]
    },
    {
     "name": "stdout",
     "output_type": "stream",
     "text": [
      "'NoneType' object has no attribute 'assign'\n"
     ]
    },
    {
     "name": "stderr",
     "output_type": "stream",
     "text": [
      "QUANTAXIS>> The 7 of Total 4457\n",
      "QUANTAXIS>> DOWNLOAD PROGRESS 0.15% \n",
      "QUANTAXIS>> ##JOB02 Now Saving XDXR INFO ==== 000009\n"
     ]
    },
    {
     "name": "stdout",
     "output_type": "stream",
     "text": [
      "'NoneType' object has no attribute 'assign'\n"
     ]
    },
    {
     "name": "stderr",
     "output_type": "stream",
     "text": [
      "QUANTAXIS>> The 8 of Total 4457\n",
      "QUANTAXIS>> DOWNLOAD PROGRESS 0.17% \n",
      "QUANTAXIS>> ##JOB02 Now Saving XDXR INFO ==== 000010\n"
     ]
    },
    {
     "name": "stdout",
     "output_type": "stream",
     "text": [
      "'NoneType' object has no attribute 'assign'\n"
     ]
    },
    {
     "name": "stderr",
     "output_type": "stream",
     "text": [
      "QUANTAXIS>> The 9 of Total 4457\n",
      "QUANTAXIS>> DOWNLOAD PROGRESS 0.20% \n",
      "QUANTAXIS>> ##JOB02 Now Saving XDXR INFO ==== 000011\n"
     ]
    },
    {
     "name": "stdout",
     "output_type": "stream",
     "text": [
      "'NoneType' object has no attribute 'assign'\n"
     ]
    },
    {
     "name": "stderr",
     "output_type": "stream",
     "text": [
      "QUANTAXIS>> The 10 of Total 4457\n",
      "QUANTAXIS>> DOWNLOAD PROGRESS 0.22% \n",
      "QUANTAXIS>> ##JOB02 Now Saving XDXR INFO ==== 000012\n"
     ]
    },
    {
     "name": "stdout",
     "output_type": "stream",
     "text": [
      "'NoneType' object has no attribute 'assign'\n"
     ]
    },
    {
     "name": "stderr",
     "output_type": "stream",
     "text": [
      "QUANTAXIS>> The 11 of Total 4457\n",
      "QUANTAXIS>> DOWNLOAD PROGRESS 0.24% \n",
      "QUANTAXIS>> ##JOB02 Now Saving XDXR INFO ==== 000014\n"
     ]
    },
    {
     "name": "stdout",
     "output_type": "stream",
     "text": [
      "'NoneType' object has no attribute 'assign'\n"
     ]
    },
    {
     "name": "stderr",
     "output_type": "stream",
     "text": [
      "QUANTAXIS>> The 12 of Total 4457\n",
      "QUANTAXIS>> DOWNLOAD PROGRESS 0.26% \n",
      "QUANTAXIS>> ##JOB02 Now Saving XDXR INFO ==== 000016\n"
     ]
    },
    {
     "name": "stdout",
     "output_type": "stream",
     "text": [
      "'NoneType' object has no attribute 'assign'\n"
     ]
    },
    {
     "name": "stderr",
     "output_type": "stream",
     "text": [
      "QUANTAXIS>> The 13 of Total 4457\n",
      "QUANTAXIS>> DOWNLOAD PROGRESS 0.29% \n",
      "QUANTAXIS>> ##JOB02 Now Saving XDXR INFO ==== 000017\n"
     ]
    },
    {
     "name": "stdout",
     "output_type": "stream",
     "text": [
      "'NoneType' object has no attribute 'assign'\n"
     ]
    },
    {
     "name": "stderr",
     "output_type": "stream",
     "text": [
      "QUANTAXIS>> The 14 of Total 4457\n",
      "QUANTAXIS>> DOWNLOAD PROGRESS 0.31% \n",
      "QUANTAXIS>> ##JOB02 Now Saving XDXR INFO ==== 000019\n"
     ]
    },
    {
     "name": "stdout",
     "output_type": "stream",
     "text": [
      "'NoneType' object has no attribute 'assign'\n"
     ]
    },
    {
     "name": "stderr",
     "output_type": "stream",
     "text": [
      "QUANTAXIS>> The 15 of Total 4457\n",
      "QUANTAXIS>> DOWNLOAD PROGRESS 0.33% \n",
      "QUANTAXIS>> ##JOB02 Now Saving XDXR INFO ==== 000020\n"
     ]
    },
    {
     "name": "stdout",
     "output_type": "stream",
     "text": [
      "'NoneType' object has no attribute 'assign'\n"
     ]
    },
    {
     "name": "stderr",
     "output_type": "stream",
     "text": [
      "QUANTAXIS>> The 16 of Total 4457\n",
      "QUANTAXIS>> DOWNLOAD PROGRESS 0.35% \n",
      "QUANTAXIS>> ##JOB02 Now Saving XDXR INFO ==== 000021\n"
     ]
    },
    {
     "name": "stdout",
     "output_type": "stream",
     "text": [
      "'NoneType' object has no attribute 'assign'\n"
     ]
    },
    {
     "name": "stderr",
     "output_type": "stream",
     "text": [
      "QUANTAXIS>> The 17 of Total 4457\n",
      "QUANTAXIS>> DOWNLOAD PROGRESS 0.38% \n",
      "QUANTAXIS>> ##JOB02 Now Saving XDXR INFO ==== 000023\n"
     ]
    },
    {
     "name": "stdout",
     "output_type": "stream",
     "text": [
      "'NoneType' object has no attribute 'assign'\n"
     ]
    },
    {
     "name": "stderr",
     "output_type": "stream",
     "text": [
      "QUANTAXIS>> The 18 of Total 4457\n",
      "QUANTAXIS>> DOWNLOAD PROGRESS 0.40% \n",
      "QUANTAXIS>> ##JOB02 Now Saving XDXR INFO ==== 000025\n"
     ]
    },
    {
     "name": "stdout",
     "output_type": "stream",
     "text": [
      "'NoneType' object has no attribute 'assign'\n"
     ]
    },
    {
     "name": "stderr",
     "output_type": "stream",
     "text": [
      "QUANTAXIS>> The 19 of Total 4457\n",
      "QUANTAXIS>> DOWNLOAD PROGRESS 0.42% \n",
      "QUANTAXIS>> ##JOB02 Now Saving XDXR INFO ==== 000026\n"
     ]
    },
    {
     "name": "stdout",
     "output_type": "stream",
     "text": [
      "'NoneType' object has no attribute 'assign'\n"
     ]
    },
    {
     "name": "stderr",
     "output_type": "stream",
     "text": [
      "QUANTAXIS>> The 20 of Total 4457\n",
      "QUANTAXIS>> DOWNLOAD PROGRESS 0.44% \n",
      "QUANTAXIS>> ##JOB02 Now Saving XDXR INFO ==== 000027\n"
     ]
    },
    {
     "name": "stdout",
     "output_type": "stream",
     "text": [
      "'NoneType' object has no attribute 'assign'\n"
     ]
    },
    {
     "name": "stderr",
     "output_type": "stream",
     "text": [
      "QUANTAXIS>> The 21 of Total 4457\n",
      "QUANTAXIS>> DOWNLOAD PROGRESS 0.47% \n",
      "QUANTAXIS>> ##JOB02 Now Saving XDXR INFO ==== 000028\n"
     ]
    },
    {
     "name": "stdout",
     "output_type": "stream",
     "text": [
      "'NoneType' object has no attribute 'assign'\n"
     ]
    },
    {
     "name": "stderr",
     "output_type": "stream",
     "text": [
      "QUANTAXIS>> The 22 of Total 4457\n",
      "QUANTAXIS>> DOWNLOAD PROGRESS 0.49% \n",
      "QUANTAXIS>> ##JOB02 Now Saving XDXR INFO ==== 000029\n"
     ]
    },
    {
     "name": "stdout",
     "output_type": "stream",
     "text": [
      "'NoneType' object has no attribute 'assign'\n"
     ]
    },
    {
     "name": "stderr",
     "output_type": "stream",
     "text": [
      "QUANTAXIS>> The 23 of Total 4457\n",
      "QUANTAXIS>> DOWNLOAD PROGRESS 0.51% \n",
      "QUANTAXIS>> ##JOB02 Now Saving XDXR INFO ==== 000030\n"
     ]
    },
    {
     "name": "stdout",
     "output_type": "stream",
     "text": [
      "'NoneType' object has no attribute 'assign'\n"
     ]
    },
    {
     "name": "stderr",
     "output_type": "stream",
     "text": [
      "QUANTAXIS>> The 24 of Total 4457\n",
      "QUANTAXIS>> DOWNLOAD PROGRESS 0.53% \n",
      "QUANTAXIS>> ##JOB02 Now Saving XDXR INFO ==== 000031\n"
     ]
    },
    {
     "name": "stdout",
     "output_type": "stream",
     "text": [
      "'NoneType' object has no attribute 'assign'\n"
     ]
    },
    {
     "name": "stderr",
     "output_type": "stream",
     "text": [
      "QUANTAXIS>> The 25 of Total 4457\n",
      "QUANTAXIS>> DOWNLOAD PROGRESS 0.56% \n",
      "QUANTAXIS>> ##JOB02 Now Saving XDXR INFO ==== 000032\n"
     ]
    },
    {
     "name": "stdout",
     "output_type": "stream",
     "text": [
      "'NoneType' object has no attribute 'assign'\n"
     ]
    },
    {
     "name": "stderr",
     "output_type": "stream",
     "text": [
      "QUANTAXIS>> The 26 of Total 4457\n",
      "QUANTAXIS>> DOWNLOAD PROGRESS 0.58% \n",
      "QUANTAXIS>> ##JOB02 Now Saving XDXR INFO ==== 000034\n"
     ]
    },
    {
     "name": "stdout",
     "output_type": "stream",
     "text": [
      "'NoneType' object has no attribute 'assign'\n"
     ]
    },
    {
     "name": "stderr",
     "output_type": "stream",
     "text": [
      "QUANTAXIS>> The 27 of Total 4457\n",
      "QUANTAXIS>> DOWNLOAD PROGRESS 0.60% \n",
      "QUANTAXIS>> ##JOB02 Now Saving XDXR INFO ==== 000035\n"
     ]
    },
    {
     "name": "stdout",
     "output_type": "stream",
     "text": [
      "'NoneType' object has no attribute 'assign'\n"
     ]
    },
    {
     "name": "stderr",
     "output_type": "stream",
     "text": [
      "QUANTAXIS>> The 28 of Total 4457\n",
      "QUANTAXIS>> DOWNLOAD PROGRESS 0.62% \n",
      "QUANTAXIS>> ##JOB02 Now Saving XDXR INFO ==== 000036\n"
     ]
    },
    {
     "name": "stdout",
     "output_type": "stream",
     "text": [
      "'NoneType' object has no attribute 'assign'\n"
     ]
    },
    {
     "name": "stderr",
     "output_type": "stream",
     "text": [
      "QUANTAXIS>> The 29 of Total 4457\n",
      "QUANTAXIS>> DOWNLOAD PROGRESS 0.65% \n",
      "QUANTAXIS>> ##JOB02 Now Saving XDXR INFO ==== 000037\n"
     ]
    },
    {
     "name": "stdout",
     "output_type": "stream",
     "text": [
      "'NoneType' object has no attribute 'assign'\n"
     ]
    },
    {
     "name": "stderr",
     "output_type": "stream",
     "text": [
      "QUANTAXIS>> The 30 of Total 4457\n",
      "QUANTAXIS>> DOWNLOAD PROGRESS 0.67% \n",
      "QUANTAXIS>> ##JOB02 Now Saving XDXR INFO ==== 000038\n"
     ]
    },
    {
     "name": "stdout",
     "output_type": "stream",
     "text": [
      "'NoneType' object has no attribute 'assign'\n"
     ]
    },
    {
     "name": "stderr",
     "output_type": "stream",
     "text": [
      "QUANTAXIS>> The 31 of Total 4457\n",
      "QUANTAXIS>> DOWNLOAD PROGRESS 0.69% \n",
      "QUANTAXIS>> ##JOB02 Now Saving XDXR INFO ==== 000039\n"
     ]
    },
    {
     "name": "stdout",
     "output_type": "stream",
     "text": [
      "'NoneType' object has no attribute 'assign'\n"
     ]
    },
    {
     "name": "stderr",
     "output_type": "stream",
     "text": [
      "QUANTAXIS>> The 32 of Total 4457\n",
      "QUANTAXIS>> DOWNLOAD PROGRESS 0.71% \n",
      "QUANTAXIS>> ##JOB02 Now Saving XDXR INFO ==== 000040\n"
     ]
    },
    {
     "name": "stdout",
     "output_type": "stream",
     "text": [
      "'NoneType' object has no attribute 'assign'\n"
     ]
    },
    {
     "name": "stderr",
     "output_type": "stream",
     "text": [
      "QUANTAXIS>> The 33 of Total 4457\n",
      "QUANTAXIS>> DOWNLOAD PROGRESS 0.74% \n",
      "QUANTAXIS>> ##JOB02 Now Saving XDXR INFO ==== 000042\n"
     ]
    },
    {
     "name": "stdout",
     "output_type": "stream",
     "text": [
      "'NoneType' object has no attribute 'assign'\n"
     ]
    },
    {
     "name": "stderr",
     "output_type": "stream",
     "text": [
      "QUANTAXIS>> The 34 of Total 4457\n",
      "QUANTAXIS>> DOWNLOAD PROGRESS 0.76% \n",
      "QUANTAXIS>> ##JOB02 Now Saving XDXR INFO ==== 000045\n"
     ]
    },
    {
     "name": "stdout",
     "output_type": "stream",
     "text": [
      "'NoneType' object has no attribute 'assign'\n"
     ]
    },
    {
     "name": "stderr",
     "output_type": "stream",
     "text": [
      "QUANTAXIS>> The 35 of Total 4457\n",
      "QUANTAXIS>> DOWNLOAD PROGRESS 0.78% \n",
      "QUANTAXIS>> ##JOB02 Now Saving XDXR INFO ==== 000046\n"
     ]
    },
    {
     "name": "stdout",
     "output_type": "stream",
     "text": [
      "'NoneType' object has no attribute 'assign'\n"
     ]
    },
    {
     "name": "stderr",
     "output_type": "stream",
     "text": [
      "QUANTAXIS>> The 36 of Total 4457\n",
      "QUANTAXIS>> DOWNLOAD PROGRESS 0.80% \n",
      "QUANTAXIS>> ##JOB02 Now Saving XDXR INFO ==== 000048\n"
     ]
    },
    {
     "name": "stdout",
     "output_type": "stream",
     "text": [
      "'NoneType' object has no attribute 'assign'\n"
     ]
    },
    {
     "name": "stderr",
     "output_type": "stream",
     "text": [
      "QUANTAXIS>> The 37 of Total 4457\n",
      "QUANTAXIS>> DOWNLOAD PROGRESS 0.83% \n",
      "QUANTAXIS>> ##JOB02 Now Saving XDXR INFO ==== 000049\n"
     ]
    },
    {
     "name": "stdout",
     "output_type": "stream",
     "text": [
      "'NoneType' object has no attribute 'assign'\n"
     ]
    },
    {
     "name": "stderr",
     "output_type": "stream",
     "text": [
      "QUANTAXIS>> The 38 of Total 4457\n",
      "QUANTAXIS>> DOWNLOAD PROGRESS 0.85% \n",
      "QUANTAXIS>> ##JOB02 Now Saving XDXR INFO ==== 000050\n"
     ]
    },
    {
     "name": "stdout",
     "output_type": "stream",
     "text": [
      "'NoneType' object has no attribute 'assign'\n"
     ]
    },
    {
     "name": "stderr",
     "output_type": "stream",
     "text": [
      "QUANTAXIS>> The 39 of Total 4457\n",
      "QUANTAXIS>> DOWNLOAD PROGRESS 0.87% \n",
      "QUANTAXIS>> ##JOB02 Now Saving XDXR INFO ==== 000055\n"
     ]
    },
    {
     "name": "stdout",
     "output_type": "stream",
     "text": [
      "'NoneType' object has no attribute 'assign'\n"
     ]
    },
    {
     "name": "stderr",
     "output_type": "stream",
     "text": [
      "QUANTAXIS>> The 40 of Total 4457\n",
      "QUANTAXIS>> DOWNLOAD PROGRESS 0.89% \n",
      "QUANTAXIS>> ##JOB02 Now Saving XDXR INFO ==== 000056\n"
     ]
    },
    {
     "name": "stdout",
     "output_type": "stream",
     "text": [
      "'NoneType' object has no attribute 'assign'\n"
     ]
    },
    {
     "name": "stderr",
     "output_type": "stream",
     "text": [
      "QUANTAXIS>> The 41 of Total 4457\n",
      "QUANTAXIS>> DOWNLOAD PROGRESS 0.91% \n",
      "QUANTAXIS>> ##JOB02 Now Saving XDXR INFO ==== 000058\n"
     ]
    },
    {
     "name": "stdout",
     "output_type": "stream",
     "text": [
      "'NoneType' object has no attribute 'assign'\n"
     ]
    },
    {
     "name": "stderr",
     "output_type": "stream",
     "text": [
      "QUANTAXIS>> The 42 of Total 4457\n",
      "QUANTAXIS>> DOWNLOAD PROGRESS 0.94% \n",
      "QUANTAXIS>> ##JOB02 Now Saving XDXR INFO ==== 000059\n"
     ]
    },
    {
     "name": "stdout",
     "output_type": "stream",
     "text": [
      "'NoneType' object has no attribute 'assign'\n"
     ]
    },
    {
     "name": "stderr",
     "output_type": "stream",
     "text": [
      "QUANTAXIS>> The 43 of Total 4457\n",
      "QUANTAXIS>> DOWNLOAD PROGRESS 0.96% \n",
      "QUANTAXIS>> ##JOB02 Now Saving XDXR INFO ==== 000060\n"
     ]
    },
    {
     "name": "stdout",
     "output_type": "stream",
     "text": [
      "'NoneType' object has no attribute 'assign'\n"
     ]
    },
    {
     "name": "stderr",
     "output_type": "stream",
     "text": [
      "QUANTAXIS>> The 44 of Total 4457\n",
      "QUANTAXIS>> DOWNLOAD PROGRESS 0.98% \n",
      "QUANTAXIS>> ##JOB02 Now Saving XDXR INFO ==== 000061\n"
     ]
    },
    {
     "name": "stdout",
     "output_type": "stream",
     "text": [
      "'NoneType' object has no attribute 'assign'\n"
     ]
    },
    {
     "name": "stderr",
     "output_type": "stream",
     "text": [
      "QUANTAXIS>> The 45 of Total 4457\n",
      "QUANTAXIS>> DOWNLOAD PROGRESS 1.00% \n",
      "QUANTAXIS>> ##JOB02 Now Saving XDXR INFO ==== 000062\n"
     ]
    },
    {
     "name": "stdout",
     "output_type": "stream",
     "text": [
      "'NoneType' object has no attribute 'assign'\n"
     ]
    },
    {
     "name": "stderr",
     "output_type": "stream",
     "text": [
      "QUANTAXIS>> The 46 of Total 4457\n",
      "QUANTAXIS>> DOWNLOAD PROGRESS 1.03% \n",
      "QUANTAXIS>> ##JOB02 Now Saving XDXR INFO ==== 000063\n"
     ]
    },
    {
     "name": "stdout",
     "output_type": "stream",
     "text": [
      "'NoneType' object has no attribute 'assign'\n"
     ]
    },
    {
     "name": "stderr",
     "output_type": "stream",
     "text": [
      "QUANTAXIS>> The 47 of Total 4457\n",
      "QUANTAXIS>> DOWNLOAD PROGRESS 1.05% \n",
      "QUANTAXIS>> ##JOB02 Now Saving XDXR INFO ==== 000065\n"
     ]
    },
    {
     "name": "stdout",
     "output_type": "stream",
     "text": [
      "'NoneType' object has no attribute 'assign'\n"
     ]
    },
    {
     "name": "stderr",
     "output_type": "stream",
     "text": [
      "QUANTAXIS>> The 48 of Total 4457\n",
      "QUANTAXIS>> DOWNLOAD PROGRESS 1.07% \n",
      "QUANTAXIS>> ##JOB02 Now Saving XDXR INFO ==== 000066\n"
     ]
    },
    {
     "name": "stdout",
     "output_type": "stream",
     "text": [
      "'NoneType' object has no attribute 'assign'\n"
     ]
    },
    {
     "name": "stderr",
     "output_type": "stream",
     "text": [
      "QUANTAXIS>> The 49 of Total 4457\n",
      "QUANTAXIS>> DOWNLOAD PROGRESS 1.09% \n",
      "QUANTAXIS>> ##JOB02 Now Saving XDXR INFO ==== 000068\n"
     ]
    },
    {
     "name": "stdout",
     "output_type": "stream",
     "text": [
      "'NoneType' object has no attribute 'assign'\n"
     ]
    },
    {
     "name": "stderr",
     "output_type": "stream",
     "text": [
      "QUANTAXIS>> The 50 of Total 4457\n",
      "QUANTAXIS>> DOWNLOAD PROGRESS 1.12% \n",
      "QUANTAXIS>> ##JOB02 Now Saving XDXR INFO ==== 000069\n"
     ]
    },
    {
     "name": "stdout",
     "output_type": "stream",
     "text": [
      "'NoneType' object has no attribute 'assign'\n"
     ]
    },
    {
     "name": "stderr",
     "output_type": "stream",
     "text": [
      "QUANTAXIS>> The 51 of Total 4457\n",
      "QUANTAXIS>> DOWNLOAD PROGRESS 1.14% \n",
      "QUANTAXIS>> ##JOB02 Now Saving XDXR INFO ==== 000070\n"
     ]
    },
    {
     "name": "stdout",
     "output_type": "stream",
     "text": [
      "'NoneType' object has no attribute 'assign'\n"
     ]
    },
    {
     "name": "stderr",
     "output_type": "stream",
     "text": [
      "QUANTAXIS>> The 52 of Total 4457\n",
      "QUANTAXIS>> DOWNLOAD PROGRESS 1.16% \n",
      "QUANTAXIS>> ##JOB02 Now Saving XDXR INFO ==== 000078\n"
     ]
    },
    {
     "name": "stdout",
     "output_type": "stream",
     "text": [
      "'NoneType' object has no attribute 'assign'\n"
     ]
    },
    {
     "name": "stderr",
     "output_type": "stream",
     "text": [
      "QUANTAXIS>> The 53 of Total 4457\n",
      "QUANTAXIS>> DOWNLOAD PROGRESS 1.18% \n",
      "QUANTAXIS>> ##JOB02 Now Saving XDXR INFO ==== 000088\n"
     ]
    },
    {
     "name": "stdout",
     "output_type": "stream",
     "text": [
      "'NoneType' object has no attribute 'assign'\n"
     ]
    },
    {
     "name": "stderr",
     "output_type": "stream",
     "text": [
      "QUANTAXIS>> The 54 of Total 4457\n",
      "QUANTAXIS>> DOWNLOAD PROGRESS 1.21% \n",
      "QUANTAXIS>> ##JOB02 Now Saving XDXR INFO ==== 000089\n"
     ]
    },
    {
     "name": "stdout",
     "output_type": "stream",
     "text": [
      "'NoneType' object has no attribute 'assign'\n"
     ]
    },
    {
     "name": "stderr",
     "output_type": "stream",
     "text": [
      "QUANTAXIS>> The 55 of Total 4457\n",
      "QUANTAXIS>> DOWNLOAD PROGRESS 1.23% \n",
      "QUANTAXIS>> ##JOB02 Now Saving XDXR INFO ==== 000090\n"
     ]
    },
    {
     "name": "stdout",
     "output_type": "stream",
     "text": [
      "'NoneType' object has no attribute 'assign'\n"
     ]
    },
    {
     "name": "stderr",
     "output_type": "stream",
     "text": [
      "QUANTAXIS>> The 56 of Total 4457\n",
      "QUANTAXIS>> DOWNLOAD PROGRESS 1.25% \n",
      "QUANTAXIS>> ##JOB02 Now Saving XDXR INFO ==== 000096\n"
     ]
    },
    {
     "name": "stdout",
     "output_type": "stream",
     "text": [
      "'NoneType' object has no attribute 'assign'\n"
     ]
    },
    {
     "name": "stderr",
     "output_type": "stream",
     "text": [
      "QUANTAXIS>> The 57 of Total 4457\n",
      "QUANTAXIS>> DOWNLOAD PROGRESS 1.27% \n",
      "QUANTAXIS>> ##JOB02 Now Saving XDXR INFO ==== 000099\n"
     ]
    },
    {
     "name": "stdout",
     "output_type": "stream",
     "text": [
      "'NoneType' object has no attribute 'assign'\n"
     ]
    },
    {
     "name": "stderr",
     "output_type": "stream",
     "text": [
      "QUANTAXIS>> The 58 of Total 4457\n",
      "QUANTAXIS>> DOWNLOAD PROGRESS 1.30% \n",
      "QUANTAXIS>> ##JOB02 Now Saving XDXR INFO ==== 000100\n"
     ]
    },
    {
     "name": "stdout",
     "output_type": "stream",
     "text": [
      "'NoneType' object has no attribute 'assign'\n"
     ]
    },
    {
     "name": "stderr",
     "output_type": "stream",
     "text": [
      "QUANTAXIS>> The 59 of Total 4457\n",
      "QUANTAXIS>> DOWNLOAD PROGRESS 1.32% \n",
      "QUANTAXIS>> ##JOB02 Now Saving XDXR INFO ==== 000150\n"
     ]
    },
    {
     "name": "stdout",
     "output_type": "stream",
     "text": [
      "'NoneType' object has no attribute 'assign'\n"
     ]
    },
    {
     "name": "stderr",
     "output_type": "stream",
     "text": [
      "QUANTAXIS>> The 60 of Total 4457\n",
      "QUANTAXIS>> DOWNLOAD PROGRESS 1.34% \n",
      "QUANTAXIS>> ##JOB02 Now Saving XDXR INFO ==== 000151\n"
     ]
    },
    {
     "name": "stdout",
     "output_type": "stream",
     "text": [
      "'NoneType' object has no attribute 'assign'\n"
     ]
    },
    {
     "name": "stderr",
     "output_type": "stream",
     "text": [
      "QUANTAXIS>> The 61 of Total 4457\n",
      "QUANTAXIS>> DOWNLOAD PROGRESS 1.36% \n",
      "QUANTAXIS>> ##JOB02 Now Saving XDXR INFO ==== 000153\n"
     ]
    },
    {
     "name": "stdout",
     "output_type": "stream",
     "text": [
      "'NoneType' object has no attribute 'assign'\n"
     ]
    },
    {
     "name": "stderr",
     "output_type": "stream",
     "text": [
      "QUANTAXIS>> The 62 of Total 4457\n",
      "QUANTAXIS>> DOWNLOAD PROGRESS 1.39% \n",
      "QUANTAXIS>> ##JOB02 Now Saving XDXR INFO ==== 000155\n"
     ]
    },
    {
     "name": "stdout",
     "output_type": "stream",
     "text": [
      "'NoneType' object has no attribute 'assign'\n"
     ]
    },
    {
     "name": "stderr",
     "output_type": "stream",
     "text": [
      "QUANTAXIS>> The 63 of Total 4457\n",
      "QUANTAXIS>> DOWNLOAD PROGRESS 1.41% \n",
      "QUANTAXIS>> ##JOB02 Now Saving XDXR INFO ==== 000156\n"
     ]
    },
    {
     "name": "stdout",
     "output_type": "stream",
     "text": [
      "'NoneType' object has no attribute 'assign'\n"
     ]
    },
    {
     "name": "stderr",
     "output_type": "stream",
     "text": [
      "QUANTAXIS>> The 64 of Total 4457\n",
      "QUANTAXIS>> DOWNLOAD PROGRESS 1.43% \n",
      "QUANTAXIS>> ##JOB02 Now Saving XDXR INFO ==== 000157\n"
     ]
    },
    {
     "name": "stdout",
     "output_type": "stream",
     "text": [
      "'NoneType' object has no attribute 'assign'\n"
     ]
    },
    {
     "name": "stderr",
     "output_type": "stream",
     "text": [
      "QUANTAXIS>> The 65 of Total 4457\n",
      "QUANTAXIS>> DOWNLOAD PROGRESS 1.45% \n",
      "QUANTAXIS>> ##JOB02 Now Saving XDXR INFO ==== 000158\n"
     ]
    },
    {
     "name": "stdout",
     "output_type": "stream",
     "text": [
      "'NoneType' object has no attribute 'assign'\n"
     ]
    },
    {
     "name": "stderr",
     "output_type": "stream",
     "text": [
      "QUANTAXIS>> The 66 of Total 4457\n",
      "QUANTAXIS>> DOWNLOAD PROGRESS 1.48% \n",
      "QUANTAXIS>> ##JOB02 Now Saving XDXR INFO ==== 000159\n"
     ]
    },
    {
     "name": "stdout",
     "output_type": "stream",
     "text": [
      "'NoneType' object has no attribute 'assign'\n"
     ]
    },
    {
     "name": "stderr",
     "output_type": "stream",
     "text": [
      "QUANTAXIS>> The 67 of Total 4457\n",
      "QUANTAXIS>> DOWNLOAD PROGRESS 1.50% \n",
      "QUANTAXIS>> ##JOB02 Now Saving XDXR INFO ==== 000166\n"
     ]
    },
    {
     "name": "stdout",
     "output_type": "stream",
     "text": [
      "'NoneType' object has no attribute 'assign'\n"
     ]
    },
    {
     "name": "stderr",
     "output_type": "stream",
     "text": [
      "QUANTAXIS>> The 68 of Total 4457\n",
      "QUANTAXIS>> DOWNLOAD PROGRESS 1.52% \n",
      "QUANTAXIS>> ##JOB02 Now Saving XDXR INFO ==== 000301\n"
     ]
    },
    {
     "name": "stdout",
     "output_type": "stream",
     "text": [
      "'NoneType' object has no attribute 'assign'\n"
     ]
    },
    {
     "name": "stderr",
     "output_type": "stream",
     "text": [
      "QUANTAXIS>> The 69 of Total 4457\n",
      "QUANTAXIS>> DOWNLOAD PROGRESS 1.54% \n",
      "QUANTAXIS>> ##JOB02 Now Saving XDXR INFO ==== 000333\n"
     ]
    },
    {
     "name": "stdout",
     "output_type": "stream",
     "text": [
      "'NoneType' object has no attribute 'assign'\n"
     ]
    },
    {
     "name": "stderr",
     "output_type": "stream",
     "text": [
      "QUANTAXIS>> The 70 of Total 4457\n",
      "QUANTAXIS>> DOWNLOAD PROGRESS 1.57% \n",
      "QUANTAXIS>> ##JOB02 Now Saving XDXR INFO ==== 000338\n"
     ]
    },
    {
     "name": "stdout",
     "output_type": "stream",
     "text": [
      "'NoneType' object has no attribute 'assign'\n"
     ]
    },
    {
     "name": "stderr",
     "output_type": "stream",
     "text": [
      "QUANTAXIS>> The 71 of Total 4457\n",
      "QUANTAXIS>> DOWNLOAD PROGRESS 1.59% \n",
      "QUANTAXIS>> ##JOB02 Now Saving XDXR INFO ==== 000400\n"
     ]
    },
    {
     "name": "stdout",
     "output_type": "stream",
     "text": [
      "'NoneType' object has no attribute 'assign'\n"
     ]
    },
    {
     "name": "stderr",
     "output_type": "stream",
     "text": [
      "QUANTAXIS>> The 72 of Total 4457\n",
      "QUANTAXIS>> DOWNLOAD PROGRESS 1.61% \n",
      "QUANTAXIS>> ##JOB02 Now Saving XDXR INFO ==== 000401\n"
     ]
    },
    {
     "name": "stdout",
     "output_type": "stream",
     "text": [
      "'NoneType' object has no attribute 'assign'\n"
     ]
    },
    {
     "name": "stderr",
     "output_type": "stream",
     "text": [
      "QUANTAXIS>> The 73 of Total 4457\n",
      "QUANTAXIS>> DOWNLOAD PROGRESS 1.63% \n",
      "QUANTAXIS>> ##JOB02 Now Saving XDXR INFO ==== 000402\n"
     ]
    },
    {
     "name": "stdout",
     "output_type": "stream",
     "text": [
      "'NoneType' object has no attribute 'assign'\n"
     ]
    },
    {
     "name": "stderr",
     "output_type": "stream",
     "text": [
      "QUANTAXIS>> The 74 of Total 4457\n",
      "QUANTAXIS>> DOWNLOAD PROGRESS 1.66% \n",
      "QUANTAXIS>> ##JOB02 Now Saving XDXR INFO ==== 000403\n"
     ]
    },
    {
     "name": "stdout",
     "output_type": "stream",
     "text": [
      "'NoneType' object has no attribute 'assign'\n"
     ]
    },
    {
     "name": "stderr",
     "output_type": "stream",
     "text": [
      "QUANTAXIS>> The 75 of Total 4457\n",
      "QUANTAXIS>> DOWNLOAD PROGRESS 1.68% \n",
      "QUANTAXIS>> ##JOB02 Now Saving XDXR INFO ==== 000404\n"
     ]
    },
    {
     "name": "stdout",
     "output_type": "stream",
     "text": [
      "'NoneType' object has no attribute 'assign'\n"
     ]
    },
    {
     "name": "stderr",
     "output_type": "stream",
     "text": [
      "QUANTAXIS>> The 76 of Total 4457\n",
      "QUANTAXIS>> DOWNLOAD PROGRESS 1.70% \n",
      "QUANTAXIS>> ##JOB02 Now Saving XDXR INFO ==== 000407\n"
     ]
    },
    {
     "name": "stdout",
     "output_type": "stream",
     "text": [
      "'NoneType' object has no attribute 'assign'\n"
     ]
    },
    {
     "name": "stderr",
     "output_type": "stream",
     "text": [
      "QUANTAXIS>> The 77 of Total 4457\n",
      "QUANTAXIS>> DOWNLOAD PROGRESS 1.72% \n",
      "QUANTAXIS>> ##JOB02 Now Saving XDXR INFO ==== 000408\n"
     ]
    },
    {
     "name": "stdout",
     "output_type": "stream",
     "text": [
      "'NoneType' object has no attribute 'assign'\n"
     ]
    },
    {
     "name": "stderr",
     "output_type": "stream",
     "text": [
      "QUANTAXIS>> The 78 of Total 4457\n",
      "QUANTAXIS>> DOWNLOAD PROGRESS 1.75% \n",
      "QUANTAXIS>> ##JOB02 Now Saving XDXR INFO ==== 000409\n"
     ]
    },
    {
     "name": "stdout",
     "output_type": "stream",
     "text": [
      "'NoneType' object has no attribute 'assign'\n"
     ]
    },
    {
     "name": "stderr",
     "output_type": "stream",
     "text": [
      "QUANTAXIS>> The 79 of Total 4457\n",
      "QUANTAXIS>> DOWNLOAD PROGRESS 1.77% \n",
      "QUANTAXIS>> ##JOB02 Now Saving XDXR INFO ==== 000410\n"
     ]
    },
    {
     "name": "stdout",
     "output_type": "stream",
     "text": [
      "'NoneType' object has no attribute 'assign'\n"
     ]
    },
    {
     "name": "stderr",
     "output_type": "stream",
     "text": [
      "QUANTAXIS>> The 80 of Total 4457\n",
      "QUANTAXIS>> DOWNLOAD PROGRESS 1.79% \n",
      "QUANTAXIS>> ##JOB02 Now Saving XDXR INFO ==== 000411\n"
     ]
    },
    {
     "name": "stdout",
     "output_type": "stream",
     "text": [
      "'NoneType' object has no attribute 'assign'\n"
     ]
    },
    {
     "name": "stderr",
     "output_type": "stream",
     "text": [
      "QUANTAXIS>> The 81 of Total 4457\n",
      "QUANTAXIS>> DOWNLOAD PROGRESS 1.81% \n",
      "QUANTAXIS>> ##JOB02 Now Saving XDXR INFO ==== 000413\n"
     ]
    },
    {
     "name": "stdout",
     "output_type": "stream",
     "text": [
      "'NoneType' object has no attribute 'assign'\n"
     ]
    },
    {
     "name": "stderr",
     "output_type": "stream",
     "text": [
      "QUANTAXIS>> The 82 of Total 4457\n",
      "QUANTAXIS>> DOWNLOAD PROGRESS 1.83% \n",
      "QUANTAXIS>> ##JOB02 Now Saving XDXR INFO ==== 000415\n"
     ]
    },
    {
     "name": "stdout",
     "output_type": "stream",
     "text": [
      "'NoneType' object has no attribute 'assign'\n"
     ]
    },
    {
     "name": "stderr",
     "output_type": "stream",
     "text": [
      "QUANTAXIS>> The 83 of Total 4457\n",
      "QUANTAXIS>> DOWNLOAD PROGRESS 1.86% \n",
      "QUANTAXIS>> ##JOB02 Now Saving XDXR INFO ==== 000416\n"
     ]
    },
    {
     "name": "stdout",
     "output_type": "stream",
     "text": [
      "'NoneType' object has no attribute 'assign'\n"
     ]
    },
    {
     "name": "stderr",
     "output_type": "stream",
     "text": [
      "QUANTAXIS>> The 84 of Total 4457\n",
      "QUANTAXIS>> DOWNLOAD PROGRESS 1.88% \n",
      "QUANTAXIS>> ##JOB02 Now Saving XDXR INFO ==== 000417\n"
     ]
    },
    {
     "name": "stdout",
     "output_type": "stream",
     "text": [
      "'NoneType' object has no attribute 'assign'\n"
     ]
    },
    {
     "name": "stderr",
     "output_type": "stream",
     "text": [
      "QUANTAXIS>> The 85 of Total 4457\n",
      "QUANTAXIS>> DOWNLOAD PROGRESS 1.90% \n",
      "QUANTAXIS>> ##JOB02 Now Saving XDXR INFO ==== 000419\n"
     ]
    },
    {
     "name": "stdout",
     "output_type": "stream",
     "text": [
      "'NoneType' object has no attribute 'assign'\n"
     ]
    },
    {
     "name": "stderr",
     "output_type": "stream",
     "text": [
      "QUANTAXIS>> The 86 of Total 4457\n",
      "QUANTAXIS>> DOWNLOAD PROGRESS 1.92% \n",
      "QUANTAXIS>> ##JOB02 Now Saving XDXR INFO ==== 000420\n"
     ]
    },
    {
     "name": "stdout",
     "output_type": "stream",
     "text": [
      "'NoneType' object has no attribute 'assign'\n"
     ]
    },
    {
     "name": "stderr",
     "output_type": "stream",
     "text": [
      "QUANTAXIS>> The 87 of Total 4457\n",
      "QUANTAXIS>> DOWNLOAD PROGRESS 1.95% \n",
      "QUANTAXIS>> ##JOB02 Now Saving XDXR INFO ==== 000421\n"
     ]
    },
    {
     "name": "stdout",
     "output_type": "stream",
     "text": [
      "'NoneType' object has no attribute 'assign'\n"
     ]
    },
    {
     "name": "stderr",
     "output_type": "stream",
     "text": [
      "QUANTAXIS>> The 88 of Total 4457\n",
      "QUANTAXIS>> DOWNLOAD PROGRESS 1.97% \n",
      "QUANTAXIS>> ##JOB02 Now Saving XDXR INFO ==== 000422\n"
     ]
    },
    {
     "name": "stdout",
     "output_type": "stream",
     "text": [
      "'NoneType' object has no attribute 'assign'\n"
     ]
    },
    {
     "name": "stderr",
     "output_type": "stream",
     "text": [
      "QUANTAXIS>> The 89 of Total 4457\n",
      "QUANTAXIS>> DOWNLOAD PROGRESS 1.99% \n",
      "QUANTAXIS>> ##JOB02 Now Saving XDXR INFO ==== 000423\n"
     ]
    },
    {
     "name": "stdout",
     "output_type": "stream",
     "text": [
      "'NoneType' object has no attribute 'assign'\n"
     ]
    },
    {
     "name": "stderr",
     "output_type": "stream",
     "text": [
      "QUANTAXIS>> The 90 of Total 4457\n",
      "QUANTAXIS>> DOWNLOAD PROGRESS 2.01% \n",
      "QUANTAXIS>> ##JOB02 Now Saving XDXR INFO ==== 000425\n"
     ]
    },
    {
     "name": "stdout",
     "output_type": "stream",
     "text": [
      "'NoneType' object has no attribute 'assign'\n"
     ]
    },
    {
     "name": "stderr",
     "output_type": "stream",
     "text": [
      "QUANTAXIS>> The 91 of Total 4457\n",
      "QUANTAXIS>> DOWNLOAD PROGRESS 2.04% \n",
      "QUANTAXIS>> ##JOB02 Now Saving XDXR INFO ==== 000426\n"
     ]
    },
    {
     "name": "stdout",
     "output_type": "stream",
     "text": [
      "'NoneType' object has no attribute 'assign'\n"
     ]
    },
    {
     "name": "stderr",
     "output_type": "stream",
     "text": [
      "QUANTAXIS>> The 92 of Total 4457\n",
      "QUANTAXIS>> DOWNLOAD PROGRESS 2.06% \n",
      "QUANTAXIS>> ##JOB02 Now Saving XDXR INFO ==== 000428\n"
     ]
    },
    {
     "name": "stdout",
     "output_type": "stream",
     "text": [
      "'NoneType' object has no attribute 'assign'\n"
     ]
    },
    {
     "name": "stderr",
     "output_type": "stream",
     "text": [
      "QUANTAXIS>> The 93 of Total 4457\n",
      "QUANTAXIS>> DOWNLOAD PROGRESS 2.08% \n",
      "QUANTAXIS>> ##JOB02 Now Saving XDXR INFO ==== 000429\n"
     ]
    },
    {
     "name": "stdout",
     "output_type": "stream",
     "text": [
      "'NoneType' object has no attribute 'assign'\n"
     ]
    },
    {
     "name": "stderr",
     "output_type": "stream",
     "text": [
      "QUANTAXIS>> The 94 of Total 4457\n",
      "QUANTAXIS>> DOWNLOAD PROGRESS 2.10% \n",
      "QUANTAXIS>> ##JOB02 Now Saving XDXR INFO ==== 000430\n"
     ]
    },
    {
     "name": "stdout",
     "output_type": "stream",
     "text": [
      "'NoneType' object has no attribute 'assign'\n"
     ]
    },
    {
     "name": "stderr",
     "output_type": "stream",
     "text": [
      "QUANTAXIS>> The 95 of Total 4457\n",
      "QUANTAXIS>> DOWNLOAD PROGRESS 2.13% \n",
      "QUANTAXIS>> ##JOB02 Now Saving XDXR INFO ==== 000488\n"
     ]
    },
    {
     "name": "stdout",
     "output_type": "stream",
     "text": [
      "'NoneType' object has no attribute 'assign'\n"
     ]
    },
    {
     "name": "stderr",
     "output_type": "stream",
     "text": [
      "QUANTAXIS>> The 96 of Total 4457\n",
      "QUANTAXIS>> DOWNLOAD PROGRESS 2.15% \n",
      "QUANTAXIS>> ##JOB02 Now Saving XDXR INFO ==== 000498\n"
     ]
    },
    {
     "name": "stdout",
     "output_type": "stream",
     "text": [
      "'NoneType' object has no attribute 'assign'\n"
     ]
    },
    {
     "name": "stderr",
     "output_type": "stream",
     "text": [
      "QUANTAXIS>> The 97 of Total 4457\n",
      "QUANTAXIS>> DOWNLOAD PROGRESS 2.17% \n",
      "QUANTAXIS>> ##JOB02 Now Saving XDXR INFO ==== 000501\n"
     ]
    },
    {
     "name": "stdout",
     "output_type": "stream",
     "text": [
      "'NoneType' object has no attribute 'assign'\n"
     ]
    },
    {
     "name": "stderr",
     "output_type": "stream",
     "text": [
      "QUANTAXIS>> The 98 of Total 4457\n",
      "QUANTAXIS>> DOWNLOAD PROGRESS 2.19% \n",
      "QUANTAXIS>> ##JOB02 Now Saving XDXR INFO ==== 000503\n"
     ]
    },
    {
     "name": "stdout",
     "output_type": "stream",
     "text": [
      "'NoneType' object has no attribute 'assign'\n"
     ]
    },
    {
     "name": "stderr",
     "output_type": "stream",
     "text": [
      "QUANTAXIS>> The 99 of Total 4457\n",
      "QUANTAXIS>> DOWNLOAD PROGRESS 2.22% \n",
      "QUANTAXIS>> ##JOB02 Now Saving XDXR INFO ==== 000504\n"
     ]
    },
    {
     "name": "stdout",
     "output_type": "stream",
     "text": [
      "'NoneType' object has no attribute 'assign'\n"
     ]
    },
    {
     "name": "stderr",
     "output_type": "stream",
     "text": [
      "QUANTAXIS>> The 100 of Total 4457\n",
      "QUANTAXIS>> DOWNLOAD PROGRESS 2.24% \n",
      "QUANTAXIS>> ##JOB02 Now Saving XDXR INFO ==== 000505\n"
     ]
    },
    {
     "name": "stdout",
     "output_type": "stream",
     "text": [
      "'NoneType' object has no attribute 'assign'\n"
     ]
    },
    {
     "name": "stderr",
     "output_type": "stream",
     "text": [
      "QUANTAXIS>> The 101 of Total 4457\n",
      "QUANTAXIS>> DOWNLOAD PROGRESS 2.26% \n",
      "QUANTAXIS>> ##JOB02 Now Saving XDXR INFO ==== 000506\n"
     ]
    },
    {
     "name": "stdout",
     "output_type": "stream",
     "text": [
      "'NoneType' object has no attribute 'assign'\n"
     ]
    },
    {
     "name": "stderr",
     "output_type": "stream",
     "text": [
      "QUANTAXIS>> The 102 of Total 4457\n",
      "QUANTAXIS>> DOWNLOAD PROGRESS 2.28% \n",
      "QUANTAXIS>> ##JOB02 Now Saving XDXR INFO ==== 000507\n"
     ]
    },
    {
     "name": "stdout",
     "output_type": "stream",
     "text": [
      "'NoneType' object has no attribute 'assign'\n"
     ]
    },
    {
     "name": "stderr",
     "output_type": "stream",
     "text": [
      "QUANTAXIS>> The 103 of Total 4457\n",
      "QUANTAXIS>> DOWNLOAD PROGRESS 2.31% \n",
      "QUANTAXIS>> ##JOB02 Now Saving XDXR INFO ==== 000509\n"
     ]
    },
    {
     "name": "stdout",
     "output_type": "stream",
     "text": [
      "'NoneType' object has no attribute 'assign'\n"
     ]
    },
    {
     "name": "stderr",
     "output_type": "stream",
     "text": [
      "QUANTAXIS>> The 104 of Total 4457\n",
      "QUANTAXIS>> DOWNLOAD PROGRESS 2.33% \n",
      "QUANTAXIS>> ##JOB02 Now Saving XDXR INFO ==== 000510\n"
     ]
    },
    {
     "name": "stdout",
     "output_type": "stream",
     "text": [
      "'NoneType' object has no attribute 'assign'\n"
     ]
    },
    {
     "name": "stderr",
     "output_type": "stream",
     "text": [
      "QUANTAXIS>> The 105 of Total 4457\n",
      "QUANTAXIS>> DOWNLOAD PROGRESS 2.35% \n",
      "QUANTAXIS>> ##JOB02 Now Saving XDXR INFO ==== 000513\n"
     ]
    },
    {
     "name": "stdout",
     "output_type": "stream",
     "text": [
      "'NoneType' object has no attribute 'assign'\n"
     ]
    },
    {
     "name": "stderr",
     "output_type": "stream",
     "text": [
      "QUANTAXIS>> The 106 of Total 4457\n",
      "QUANTAXIS>> DOWNLOAD PROGRESS 2.37% \n",
      "QUANTAXIS>> ##JOB02 Now Saving XDXR INFO ==== 000514\n"
     ]
    },
    {
     "name": "stdout",
     "output_type": "stream",
     "text": [
      "'NoneType' object has no attribute 'assign'\n"
     ]
    },
    {
     "name": "stderr",
     "output_type": "stream",
     "text": [
      "QUANTAXIS>> The 107 of Total 4457\n",
      "QUANTAXIS>> DOWNLOAD PROGRESS 2.40% \n",
      "QUANTAXIS>> ##JOB02 Now Saving XDXR INFO ==== 000516\n"
     ]
    },
    {
     "name": "stdout",
     "output_type": "stream",
     "text": [
      "'NoneType' object has no attribute 'assign'\n"
     ]
    },
    {
     "name": "stderr",
     "output_type": "stream",
     "text": [
      "QUANTAXIS>> The 108 of Total 4457\n",
      "QUANTAXIS>> DOWNLOAD PROGRESS 2.42% \n",
      "QUANTAXIS>> ##JOB02 Now Saving XDXR INFO ==== 000517\n"
     ]
    },
    {
     "name": "stdout",
     "output_type": "stream",
     "text": [
      "'NoneType' object has no attribute 'assign'\n"
     ]
    },
    {
     "name": "stderr",
     "output_type": "stream",
     "text": [
      "QUANTAXIS>> The 109 of Total 4457\n",
      "QUANTAXIS>> DOWNLOAD PROGRESS 2.44% \n",
      "QUANTAXIS>> ##JOB02 Now Saving XDXR INFO ==== 000518\n"
     ]
    },
    {
     "name": "stdout",
     "output_type": "stream",
     "text": [
      "'NoneType' object has no attribute 'assign'\n"
     ]
    },
    {
     "name": "stderr",
     "output_type": "stream",
     "text": [
      "QUANTAXIS>> The 110 of Total 4457\n",
      "QUANTAXIS>> DOWNLOAD PROGRESS 2.46% \n",
      "QUANTAXIS>> ##JOB02 Now Saving XDXR INFO ==== 000519\n"
     ]
    },
    {
     "name": "stdout",
     "output_type": "stream",
     "text": [
      "'NoneType' object has no attribute 'assign'\n"
     ]
    },
    {
     "name": "stderr",
     "output_type": "stream",
     "text": [
      "QUANTAXIS>> The 111 of Total 4457\n",
      "QUANTAXIS>> DOWNLOAD PROGRESS 2.49% \n",
      "QUANTAXIS>> ##JOB02 Now Saving XDXR INFO ==== 000520\n"
     ]
    },
    {
     "name": "stdout",
     "output_type": "stream",
     "text": [
      "'NoneType' object has no attribute 'assign'\n"
     ]
    },
    {
     "name": "stderr",
     "output_type": "stream",
     "text": [
      "QUANTAXIS>> The 112 of Total 4457\n",
      "QUANTAXIS>> DOWNLOAD PROGRESS 2.51% \n",
      "QUANTAXIS>> ##JOB02 Now Saving XDXR INFO ==== 000521\n"
     ]
    },
    {
     "name": "stdout",
     "output_type": "stream",
     "text": [
      "'NoneType' object has no attribute 'assign'\n"
     ]
    },
    {
     "name": "stderr",
     "output_type": "stream",
     "text": [
      "QUANTAXIS>> The 113 of Total 4457\n",
      "QUANTAXIS>> DOWNLOAD PROGRESS 2.53% \n",
      "QUANTAXIS>> ##JOB02 Now Saving XDXR INFO ==== 000523\n"
     ]
    },
    {
     "name": "stdout",
     "output_type": "stream",
     "text": [
      "'NoneType' object has no attribute 'assign'\n"
     ]
    },
    {
     "name": "stderr",
     "output_type": "stream",
     "text": [
      "QUANTAXIS>> The 114 of Total 4457\n",
      "QUANTAXIS>> DOWNLOAD PROGRESS 2.55% \n",
      "QUANTAXIS>> ##JOB02 Now Saving XDXR INFO ==== 000524\n"
     ]
    },
    {
     "name": "stdout",
     "output_type": "stream",
     "text": [
      "'NoneType' object has no attribute 'assign'\n"
     ]
    },
    {
     "name": "stderr",
     "output_type": "stream",
     "text": [
      "QUANTAXIS>> The 115 of Total 4457\n",
      "QUANTAXIS>> DOWNLOAD PROGRESS 2.58% \n",
      "QUANTAXIS>> ##JOB02 Now Saving XDXR INFO ==== 000525\n"
     ]
    },
    {
     "name": "stdout",
     "output_type": "stream",
     "text": [
      "'NoneType' object has no attribute 'assign'\n"
     ]
    },
    {
     "name": "stderr",
     "output_type": "stream",
     "text": [
      "QUANTAXIS>> The 116 of Total 4457\n",
      "QUANTAXIS>> DOWNLOAD PROGRESS 2.60% \n",
      "QUANTAXIS>> ##JOB02 Now Saving XDXR INFO ==== 000526\n"
     ]
    },
    {
     "name": "stdout",
     "output_type": "stream",
     "text": [
      "'NoneType' object has no attribute 'assign'\n"
     ]
    },
    {
     "name": "stderr",
     "output_type": "stream",
     "text": [
      "QUANTAXIS>> The 117 of Total 4457\n",
      "QUANTAXIS>> DOWNLOAD PROGRESS 2.62% \n",
      "QUANTAXIS>> ##JOB02 Now Saving XDXR INFO ==== 000528\n"
     ]
    },
    {
     "name": "stdout",
     "output_type": "stream",
     "text": [
      "'NoneType' object has no attribute 'assign'\n"
     ]
    },
    {
     "name": "stderr",
     "output_type": "stream",
     "text": [
      "QUANTAXIS>> The 118 of Total 4457\n",
      "QUANTAXIS>> DOWNLOAD PROGRESS 2.64% \n",
      "QUANTAXIS>> ##JOB02 Now Saving XDXR INFO ==== 000529\n"
     ]
    },
    {
     "name": "stdout",
     "output_type": "stream",
     "text": [
      "'NoneType' object has no attribute 'assign'\n"
     ]
    },
    {
     "name": "stderr",
     "output_type": "stream",
     "text": [
      "QUANTAXIS>> The 119 of Total 4457\n",
      "QUANTAXIS>> DOWNLOAD PROGRESS 2.66% \n",
      "QUANTAXIS>> ##JOB02 Now Saving XDXR INFO ==== 000530\n"
     ]
    },
    {
     "name": "stdout",
     "output_type": "stream",
     "text": [
      "'NoneType' object has no attribute 'assign'\n"
     ]
    },
    {
     "name": "stderr",
     "output_type": "stream",
     "text": [
      "QUANTAXIS>> The 120 of Total 4457\n",
      "QUANTAXIS>> DOWNLOAD PROGRESS 2.69% \n",
      "QUANTAXIS>> ##JOB02 Now Saving XDXR INFO ==== 000531\n"
     ]
    },
    {
     "name": "stdout",
     "output_type": "stream",
     "text": [
      "'NoneType' object has no attribute 'assign'\n"
     ]
    },
    {
     "name": "stderr",
     "output_type": "stream",
     "text": [
      "QUANTAXIS>> The 121 of Total 4457\n",
      "QUANTAXIS>> DOWNLOAD PROGRESS 2.71% \n",
      "QUANTAXIS>> ##JOB02 Now Saving XDXR INFO ==== 000532\n"
     ]
    },
    {
     "name": "stdout",
     "output_type": "stream",
     "text": [
      "'NoneType' object has no attribute 'assign'\n"
     ]
    },
    {
     "name": "stderr",
     "output_type": "stream",
     "text": [
      "QUANTAXIS>> The 122 of Total 4457\n",
      "QUANTAXIS>> DOWNLOAD PROGRESS 2.73% \n",
      "QUANTAXIS>> ##JOB02 Now Saving XDXR INFO ==== 000533\n"
     ]
    },
    {
     "name": "stdout",
     "output_type": "stream",
     "text": [
      "'NoneType' object has no attribute 'assign'\n"
     ]
    },
    {
     "name": "stderr",
     "output_type": "stream",
     "text": [
      "QUANTAXIS>> The 123 of Total 4457\n",
      "QUANTAXIS>> DOWNLOAD PROGRESS 2.75% \n",
      "QUANTAXIS>> ##JOB02 Now Saving XDXR INFO ==== 000534\n"
     ]
    },
    {
     "name": "stdout",
     "output_type": "stream",
     "text": [
      "'NoneType' object has no attribute 'assign'\n"
     ]
    },
    {
     "name": "stderr",
     "output_type": "stream",
     "text": [
      "QUANTAXIS>> The 124 of Total 4457\n",
      "QUANTAXIS>> DOWNLOAD PROGRESS 2.78% \n",
      "QUANTAXIS>> ##JOB02 Now Saving XDXR INFO ==== 000536\n"
     ]
    },
    {
     "name": "stdout",
     "output_type": "stream",
     "text": [
      "'NoneType' object has no attribute 'assign'\n"
     ]
    },
    {
     "name": "stderr",
     "output_type": "stream",
     "text": [
      "QUANTAXIS>> The 125 of Total 4457\n",
      "QUANTAXIS>> DOWNLOAD PROGRESS 2.80% \n",
      "QUANTAXIS>> ##JOB02 Now Saving XDXR INFO ==== 000537\n"
     ]
    },
    {
     "name": "stdout",
     "output_type": "stream",
     "text": [
      "'NoneType' object has no attribute 'assign'\n"
     ]
    },
    {
     "name": "stderr",
     "output_type": "stream",
     "text": [
      "QUANTAXIS>> The 126 of Total 4457\n",
      "QUANTAXIS>> DOWNLOAD PROGRESS 2.82% \n",
      "QUANTAXIS>> ##JOB02 Now Saving XDXR INFO ==== 000538\n"
     ]
    },
    {
     "name": "stdout",
     "output_type": "stream",
     "text": [
      "'NoneType' object has no attribute 'assign'\n"
     ]
    },
    {
     "name": "stderr",
     "output_type": "stream",
     "text": [
      "QUANTAXIS>> The 127 of Total 4457\n",
      "QUANTAXIS>> DOWNLOAD PROGRESS 2.84% \n",
      "QUANTAXIS>> ##JOB02 Now Saving XDXR INFO ==== 000539\n"
     ]
    },
    {
     "name": "stdout",
     "output_type": "stream",
     "text": [
      "'NoneType' object has no attribute 'assign'\n"
     ]
    },
    {
     "name": "stderr",
     "output_type": "stream",
     "text": [
      "QUANTAXIS>> The 128 of Total 4457\n",
      "QUANTAXIS>> DOWNLOAD PROGRESS 2.87% \n",
      "QUANTAXIS>> ##JOB02 Now Saving XDXR INFO ==== 000540\n"
     ]
    },
    {
     "name": "stdout",
     "output_type": "stream",
     "text": [
      "'NoneType' object has no attribute 'assign'\n"
     ]
    },
    {
     "name": "stderr",
     "output_type": "stream",
     "text": [
      "QUANTAXIS>> The 129 of Total 4457\n",
      "QUANTAXIS>> DOWNLOAD PROGRESS 2.89% \n",
      "QUANTAXIS>> ##JOB02 Now Saving XDXR INFO ==== 000541\n"
     ]
    },
    {
     "name": "stdout",
     "output_type": "stream",
     "text": [
      "'NoneType' object has no attribute 'assign'\n"
     ]
    },
    {
     "name": "stderr",
     "output_type": "stream",
     "text": [
      "QUANTAXIS>> The 130 of Total 4457\n",
      "QUANTAXIS>> DOWNLOAD PROGRESS 2.91% \n",
      "QUANTAXIS>> ##JOB02 Now Saving XDXR INFO ==== 000543\n"
     ]
    },
    {
     "name": "stdout",
     "output_type": "stream",
     "text": [
      "'NoneType' object has no attribute 'assign'\n"
     ]
    },
    {
     "name": "stderr",
     "output_type": "stream",
     "text": [
      "QUANTAXIS>> The 131 of Total 4457\n",
      "QUANTAXIS>> DOWNLOAD PROGRESS 2.93% \n",
      "QUANTAXIS>> ##JOB02 Now Saving XDXR INFO ==== 000544\n"
     ]
    },
    {
     "name": "stdout",
     "output_type": "stream",
     "text": [
      "'NoneType' object has no attribute 'assign'\n"
     ]
    },
    {
     "name": "stderr",
     "output_type": "stream",
     "text": [
      "QUANTAXIS>> The 132 of Total 4457\n",
      "QUANTAXIS>> DOWNLOAD PROGRESS 2.96% \n",
      "QUANTAXIS>> ##JOB02 Now Saving XDXR INFO ==== 000545\n"
     ]
    },
    {
     "name": "stdout",
     "output_type": "stream",
     "text": [
      "'NoneType' object has no attribute 'assign'\n"
     ]
    },
    {
     "name": "stderr",
     "output_type": "stream",
     "text": [
      "QUANTAXIS>> The 133 of Total 4457\n",
      "QUANTAXIS>> DOWNLOAD PROGRESS 2.98% \n",
      "QUANTAXIS>> ##JOB02 Now Saving XDXR INFO ==== 000546\n"
     ]
    },
    {
     "name": "stdout",
     "output_type": "stream",
     "text": [
      "'NoneType' object has no attribute 'assign'\n"
     ]
    },
    {
     "name": "stderr",
     "output_type": "stream",
     "text": [
      "QUANTAXIS>> The 134 of Total 4457\n",
      "QUANTAXIS>> DOWNLOAD PROGRESS 3.00% \n",
      "QUANTAXIS>> ##JOB02 Now Saving XDXR INFO ==== 000547\n"
     ]
    },
    {
     "name": "stdout",
     "output_type": "stream",
     "text": [
      "'NoneType' object has no attribute 'assign'\n"
     ]
    },
    {
     "name": "stderr",
     "output_type": "stream",
     "text": [
      "QUANTAXIS>> The 135 of Total 4457\n",
      "QUANTAXIS>> DOWNLOAD PROGRESS 3.02% \n",
      "QUANTAXIS>> ##JOB02 Now Saving XDXR INFO ==== 000548\n"
     ]
    },
    {
     "name": "stdout",
     "output_type": "stream",
     "text": [
      "'NoneType' object has no attribute 'assign'\n"
     ]
    },
    {
     "name": "stderr",
     "output_type": "stream",
     "text": [
      "QUANTAXIS>> The 136 of Total 4457\n",
      "QUANTAXIS>> DOWNLOAD PROGRESS 3.05% \n",
      "QUANTAXIS>> ##JOB02 Now Saving XDXR INFO ==== 000550\n"
     ]
    },
    {
     "name": "stdout",
     "output_type": "stream",
     "text": [
      "'NoneType' object has no attribute 'assign'\n"
     ]
    },
    {
     "name": "stderr",
     "output_type": "stream",
     "text": [
      "QUANTAXIS>> The 137 of Total 4457\n",
      "QUANTAXIS>> DOWNLOAD PROGRESS 3.07% \n",
      "QUANTAXIS>> ##JOB02 Now Saving XDXR INFO ==== 000551\n"
     ]
    },
    {
     "name": "stdout",
     "output_type": "stream",
     "text": [
      "'NoneType' object has no attribute 'assign'\n"
     ]
    },
    {
     "name": "stderr",
     "output_type": "stream",
     "text": [
      "QUANTAXIS>> The 138 of Total 4457\n",
      "QUANTAXIS>> DOWNLOAD PROGRESS 3.09% \n",
      "QUANTAXIS>> ##JOB02 Now Saving XDXR INFO ==== 000552\n"
     ]
    },
    {
     "name": "stdout",
     "output_type": "stream",
     "text": [
      "'NoneType' object has no attribute 'assign'\n"
     ]
    },
    {
     "name": "stderr",
     "output_type": "stream",
     "text": [
      "QUANTAXIS>> The 139 of Total 4457\n",
      "QUANTAXIS>> DOWNLOAD PROGRESS 3.11% \n",
      "QUANTAXIS>> ##JOB02 Now Saving XDXR INFO ==== 000553\n"
     ]
    },
    {
     "name": "stdout",
     "output_type": "stream",
     "text": [
      "'NoneType' object has no attribute 'assign'\n"
     ]
    },
    {
     "name": "stderr",
     "output_type": "stream",
     "text": [
      "QUANTAXIS>> The 140 of Total 4457\n",
      "QUANTAXIS>> DOWNLOAD PROGRESS 3.14% \n",
      "QUANTAXIS>> ##JOB02 Now Saving XDXR INFO ==== 000554\n"
     ]
    },
    {
     "name": "stdout",
     "output_type": "stream",
     "text": [
      "'NoneType' object has no attribute 'assign'\n"
     ]
    },
    {
     "name": "stderr",
     "output_type": "stream",
     "text": [
      "QUANTAXIS>> The 141 of Total 4457\n",
      "QUANTAXIS>> DOWNLOAD PROGRESS 3.16% \n",
      "QUANTAXIS>> ##JOB02 Now Saving XDXR INFO ==== 000555\n"
     ]
    },
    {
     "name": "stdout",
     "output_type": "stream",
     "text": [
      "'NoneType' object has no attribute 'assign'\n"
     ]
    },
    {
     "name": "stderr",
     "output_type": "stream",
     "text": [
      "QUANTAXIS>> The 142 of Total 4457\n",
      "QUANTAXIS>> DOWNLOAD PROGRESS 3.18% \n",
      "QUANTAXIS>> ##JOB02 Now Saving XDXR INFO ==== 000557\n"
     ]
    },
    {
     "name": "stdout",
     "output_type": "stream",
     "text": [
      "'NoneType' object has no attribute 'assign'\n"
     ]
    },
    {
     "name": "stderr",
     "output_type": "stream",
     "text": [
      "QUANTAXIS>> The 143 of Total 4457\n",
      "QUANTAXIS>> DOWNLOAD PROGRESS 3.20% \n",
      "QUANTAXIS>> ##JOB02 Now Saving XDXR INFO ==== 000558\n"
     ]
    },
    {
     "name": "stdout",
     "output_type": "stream",
     "text": [
      "'NoneType' object has no attribute 'assign'\n"
     ]
    },
    {
     "name": "stderr",
     "output_type": "stream",
     "text": [
      "QUANTAXIS>> The 144 of Total 4457\n",
      "QUANTAXIS>> DOWNLOAD PROGRESS 3.23% \n",
      "QUANTAXIS>> ##JOB02 Now Saving XDXR INFO ==== 000559\n"
     ]
    },
    {
     "name": "stdout",
     "output_type": "stream",
     "text": [
      "'NoneType' object has no attribute 'assign'\n"
     ]
    },
    {
     "name": "stderr",
     "output_type": "stream",
     "text": [
      "QUANTAXIS>> The 145 of Total 4457\n",
      "QUANTAXIS>> DOWNLOAD PROGRESS 3.25% \n",
      "QUANTAXIS>> ##JOB02 Now Saving XDXR INFO ==== 000560\n"
     ]
    },
    {
     "name": "stdout",
     "output_type": "stream",
     "text": [
      "'NoneType' object has no attribute 'assign'\n"
     ]
    },
    {
     "name": "stderr",
     "output_type": "stream",
     "text": [
      "QUANTAXIS>> The 146 of Total 4457\n",
      "QUANTAXIS>> DOWNLOAD PROGRESS 3.27% \n",
      "QUANTAXIS>> ##JOB02 Now Saving XDXR INFO ==== 000561\n"
     ]
    },
    {
     "name": "stdout",
     "output_type": "stream",
     "text": [
      "'NoneType' object has no attribute 'assign'\n"
     ]
    },
    {
     "name": "stderr",
     "output_type": "stream",
     "text": [
      "QUANTAXIS>> The 147 of Total 4457\n",
      "QUANTAXIS>> DOWNLOAD PROGRESS 3.29% \n",
      "QUANTAXIS>> ##JOB02 Now Saving XDXR INFO ==== 000563\n"
     ]
    },
    {
     "name": "stdout",
     "output_type": "stream",
     "text": [
      "'NoneType' object has no attribute 'assign'\n"
     ]
    },
    {
     "name": "stderr",
     "output_type": "stream",
     "text": [
      "QUANTAXIS>> The 148 of Total 4457\n",
      "QUANTAXIS>> DOWNLOAD PROGRESS 3.32% \n",
      "QUANTAXIS>> ##JOB02 Now Saving XDXR INFO ==== 000564\n"
     ]
    },
    {
     "name": "stdout",
     "output_type": "stream",
     "text": [
      "'NoneType' object has no attribute 'assign'\n"
     ]
    },
    {
     "name": "stderr",
     "output_type": "stream",
     "text": [
      "QUANTAXIS>> The 149 of Total 4457\n",
      "QUANTAXIS>> DOWNLOAD PROGRESS 3.34% \n",
      "QUANTAXIS>> ##JOB02 Now Saving XDXR INFO ==== 000565\n"
     ]
    },
    {
     "name": "stdout",
     "output_type": "stream",
     "text": [
      "'NoneType' object has no attribute 'assign'\n"
     ]
    },
    {
     "name": "stderr",
     "output_type": "stream",
     "text": [
      "QUANTAXIS>> The 150 of Total 4457\n",
      "QUANTAXIS>> DOWNLOAD PROGRESS 3.36% \n",
      "QUANTAXIS>> ##JOB02 Now Saving XDXR INFO ==== 000566\n"
     ]
    },
    {
     "name": "stdout",
     "output_type": "stream",
     "text": [
      "'NoneType' object has no attribute 'assign'\n"
     ]
    },
    {
     "name": "stderr",
     "output_type": "stream",
     "text": [
      "QUANTAXIS>> The 151 of Total 4457\n",
      "QUANTAXIS>> DOWNLOAD PROGRESS 3.38% \n",
      "QUANTAXIS>> ##JOB02 Now Saving XDXR INFO ==== 000567\n"
     ]
    },
    {
     "name": "stdout",
     "output_type": "stream",
     "text": [
      "'NoneType' object has no attribute 'assign'\n"
     ]
    },
    {
     "name": "stderr",
     "output_type": "stream",
     "text": [
      "QUANTAXIS>> The 152 of Total 4457\n",
      "QUANTAXIS>> DOWNLOAD PROGRESS 3.41% \n",
      "QUANTAXIS>> ##JOB02 Now Saving XDXR INFO ==== 000568\n"
     ]
    },
    {
     "name": "stdout",
     "output_type": "stream",
     "text": [
      "'NoneType' object has no attribute 'assign'\n"
     ]
    },
    {
     "name": "stderr",
     "output_type": "stream",
     "text": [
      "QUANTAXIS>> The 153 of Total 4457\n",
      "QUANTAXIS>> DOWNLOAD PROGRESS 3.43% \n",
      "QUANTAXIS>> ##JOB02 Now Saving XDXR INFO ==== 000570\n"
     ]
    },
    {
     "name": "stdout",
     "output_type": "stream",
     "text": [
      "'NoneType' object has no attribute 'assign'\n"
     ]
    },
    {
     "name": "stderr",
     "output_type": "stream",
     "text": [
      "QUANTAXIS>> The 154 of Total 4457\n",
      "QUANTAXIS>> DOWNLOAD PROGRESS 3.45% \n",
      "QUANTAXIS>> ##JOB02 Now Saving XDXR INFO ==== 000571\n"
     ]
    },
    {
     "name": "stdout",
     "output_type": "stream",
     "text": [
      "'NoneType' object has no attribute 'assign'\n"
     ]
    },
    {
     "name": "stderr",
     "output_type": "stream",
     "text": [
      "QUANTAXIS>> The 155 of Total 4457\n",
      "QUANTAXIS>> DOWNLOAD PROGRESS 3.47% \n",
      "QUANTAXIS>> ##JOB02 Now Saving XDXR INFO ==== 000572\n"
     ]
    },
    {
     "name": "stdout",
     "output_type": "stream",
     "text": [
      "'NoneType' object has no attribute 'assign'\n"
     ]
    },
    {
     "name": "stderr",
     "output_type": "stream",
     "text": [
      "QUANTAXIS>> The 156 of Total 4457\n",
      "QUANTAXIS>> DOWNLOAD PROGRESS 3.50% \n",
      "QUANTAXIS>> ##JOB02 Now Saving XDXR INFO ==== 000573\n"
     ]
    },
    {
     "name": "stdout",
     "output_type": "stream",
     "text": [
      "'NoneType' object has no attribute 'assign'\n"
     ]
    },
    {
     "name": "stderr",
     "output_type": "stream",
     "text": [
      "QUANTAXIS>> The 157 of Total 4457\n",
      "QUANTAXIS>> DOWNLOAD PROGRESS 3.52% \n",
      "QUANTAXIS>> ##JOB02 Now Saving XDXR INFO ==== 000576\n"
     ]
    },
    {
     "name": "stdout",
     "output_type": "stream",
     "text": [
      "'NoneType' object has no attribute 'assign'\n"
     ]
    },
    {
     "name": "stderr",
     "output_type": "stream",
     "text": [
      "QUANTAXIS>> The 158 of Total 4457\n",
      "QUANTAXIS>> DOWNLOAD PROGRESS 3.54% \n",
      "QUANTAXIS>> ##JOB02 Now Saving XDXR INFO ==== 000581\n"
     ]
    },
    {
     "name": "stdout",
     "output_type": "stream",
     "text": [
      "'NoneType' object has no attribute 'assign'\n"
     ]
    },
    {
     "name": "stderr",
     "output_type": "stream",
     "text": [
      "QUANTAXIS>> The 159 of Total 4457\n",
      "QUANTAXIS>> DOWNLOAD PROGRESS 3.56% \n",
      "QUANTAXIS>> ##JOB02 Now Saving XDXR INFO ==== 000582\n"
     ]
    },
    {
     "name": "stdout",
     "output_type": "stream",
     "text": [
      "'NoneType' object has no attribute 'assign'\n"
     ]
    },
    {
     "name": "stderr",
     "output_type": "stream",
     "text": [
      "QUANTAXIS>> The 160 of Total 4457\n",
      "QUANTAXIS>> DOWNLOAD PROGRESS 3.58% \n",
      "QUANTAXIS>> ##JOB02 Now Saving XDXR INFO ==== 000584\n"
     ]
    },
    {
     "name": "stdout",
     "output_type": "stream",
     "text": [
      "'NoneType' object has no attribute 'assign'\n"
     ]
    },
    {
     "name": "stderr",
     "output_type": "stream",
     "text": [
      "QUANTAXIS>> The 161 of Total 4457\n",
      "QUANTAXIS>> DOWNLOAD PROGRESS 3.61% \n",
      "QUANTAXIS>> ##JOB02 Now Saving XDXR INFO ==== 000586\n"
     ]
    },
    {
     "name": "stdout",
     "output_type": "stream",
     "text": [
      "'NoneType' object has no attribute 'assign'\n"
     ]
    },
    {
     "name": "stderr",
     "output_type": "stream",
     "text": [
      "QUANTAXIS>> The 162 of Total 4457\n",
      "QUANTAXIS>> DOWNLOAD PROGRESS 3.63% \n",
      "QUANTAXIS>> ##JOB02 Now Saving XDXR INFO ==== 000589\n"
     ]
    },
    {
     "name": "stdout",
     "output_type": "stream",
     "text": [
      "'NoneType' object has no attribute 'assign'\n"
     ]
    },
    {
     "name": "stderr",
     "output_type": "stream",
     "text": [
      "QUANTAXIS>> The 163 of Total 4457\n",
      "QUANTAXIS>> DOWNLOAD PROGRESS 3.65% \n",
      "QUANTAXIS>> ##JOB02 Now Saving XDXR INFO ==== 000590\n"
     ]
    },
    {
     "name": "stdout",
     "output_type": "stream",
     "text": [
      "'NoneType' object has no attribute 'assign'\n"
     ]
    },
    {
     "name": "stderr",
     "output_type": "stream",
     "text": [
      "QUANTAXIS>> The 164 of Total 4457\n",
      "QUANTAXIS>> DOWNLOAD PROGRESS 3.67% \n",
      "QUANTAXIS>> ##JOB02 Now Saving XDXR INFO ==== 000591\n"
     ]
    },
    {
     "name": "stdout",
     "output_type": "stream",
     "text": [
      "'NoneType' object has no attribute 'assign'\n"
     ]
    },
    {
     "name": "stderr",
     "output_type": "stream",
     "text": [
      "QUANTAXIS>> The 165 of Total 4457\n",
      "QUANTAXIS>> DOWNLOAD PROGRESS 3.70% \n",
      "QUANTAXIS>> ##JOB02 Now Saving XDXR INFO ==== 000592\n"
     ]
    },
    {
     "name": "stdout",
     "output_type": "stream",
     "text": [
      "'NoneType' object has no attribute 'assign'\n"
     ]
    },
    {
     "name": "stderr",
     "output_type": "stream",
     "text": [
      "QUANTAXIS>> The 166 of Total 4457\n",
      "QUANTAXIS>> DOWNLOAD PROGRESS 3.72% \n",
      "QUANTAXIS>> ##JOB02 Now Saving XDXR INFO ==== 000593\n"
     ]
    },
    {
     "name": "stdout",
     "output_type": "stream",
     "text": [
      "'NoneType' object has no attribute 'assign'\n"
     ]
    },
    {
     "name": "stderr",
     "output_type": "stream",
     "text": [
      "QUANTAXIS>> The 167 of Total 4457\n",
      "QUANTAXIS>> DOWNLOAD PROGRESS 3.74% \n",
      "QUANTAXIS>> ##JOB02 Now Saving XDXR INFO ==== 000595\n"
     ]
    },
    {
     "name": "stdout",
     "output_type": "stream",
     "text": [
      "'NoneType' object has no attribute 'assign'\n"
     ]
    },
    {
     "name": "stderr",
     "output_type": "stream",
     "text": [
      "QUANTAXIS>> The 168 of Total 4457\n",
      "QUANTAXIS>> DOWNLOAD PROGRESS 3.76% \n",
      "QUANTAXIS>> ##JOB02 Now Saving XDXR INFO ==== 000596\n"
     ]
    },
    {
     "name": "stdout",
     "output_type": "stream",
     "text": [
      "'NoneType' object has no attribute 'assign'\n"
     ]
    },
    {
     "name": "stderr",
     "output_type": "stream",
     "text": [
      "QUANTAXIS>> The 169 of Total 4457\n",
      "QUANTAXIS>> DOWNLOAD PROGRESS 3.79% \n",
      "QUANTAXIS>> ##JOB02 Now Saving XDXR INFO ==== 000597\n"
     ]
    },
    {
     "name": "stdout",
     "output_type": "stream",
     "text": [
      "'NoneType' object has no attribute 'assign'\n"
     ]
    },
    {
     "name": "stderr",
     "output_type": "stream",
     "text": [
      "QUANTAXIS>> The 170 of Total 4457\n",
      "QUANTAXIS>> DOWNLOAD PROGRESS 3.81% \n",
      "QUANTAXIS>> ##JOB02 Now Saving XDXR INFO ==== 000598\n"
     ]
    },
    {
     "name": "stdout",
     "output_type": "stream",
     "text": [
      "'NoneType' object has no attribute 'assign'\n"
     ]
    },
    {
     "name": "stderr",
     "output_type": "stream",
     "text": [
      "QUANTAXIS>> The 171 of Total 4457\n",
      "QUANTAXIS>> DOWNLOAD PROGRESS 3.83% \n",
      "QUANTAXIS>> ##JOB02 Now Saving XDXR INFO ==== 000599\n"
     ]
    },
    {
     "name": "stdout",
     "output_type": "stream",
     "text": [
      "'NoneType' object has no attribute 'assign'\n"
     ]
    },
    {
     "name": "stderr",
     "output_type": "stream",
     "text": [
      "QUANTAXIS>> The 172 of Total 4457\n",
      "QUANTAXIS>> DOWNLOAD PROGRESS 3.85% \n",
      "QUANTAXIS>> ##JOB02 Now Saving XDXR INFO ==== 000600\n"
     ]
    },
    {
     "name": "stdout",
     "output_type": "stream",
     "text": [
      "'NoneType' object has no attribute 'assign'\n"
     ]
    },
    {
     "name": "stderr",
     "output_type": "stream",
     "text": [
      "QUANTAXIS>> The 173 of Total 4457\n",
      "QUANTAXIS>> DOWNLOAD PROGRESS 3.88% \n",
      "QUANTAXIS>> ##JOB02 Now Saving XDXR INFO ==== 000601\n"
     ]
    },
    {
     "name": "stdout",
     "output_type": "stream",
     "text": [
      "'NoneType' object has no attribute 'assign'\n"
     ]
    },
    {
     "name": "stderr",
     "output_type": "stream",
     "text": [
      "QUANTAXIS>> The 174 of Total 4457\n",
      "QUANTAXIS>> DOWNLOAD PROGRESS 3.90% \n",
      "QUANTAXIS>> ##JOB02 Now Saving XDXR INFO ==== 000603\n"
     ]
    },
    {
     "name": "stdout",
     "output_type": "stream",
     "text": [
      "'NoneType' object has no attribute 'assign'\n"
     ]
    },
    {
     "name": "stderr",
     "output_type": "stream",
     "text": [
      "QUANTAXIS>> The 175 of Total 4457\n",
      "QUANTAXIS>> DOWNLOAD PROGRESS 3.92% \n",
      "QUANTAXIS>> ##JOB02 Now Saving XDXR INFO ==== 000605\n"
     ]
    },
    {
     "name": "stdout",
     "output_type": "stream",
     "text": [
      "'NoneType' object has no attribute 'assign'\n"
     ]
    },
    {
     "name": "stderr",
     "output_type": "stream",
     "text": [
      "QUANTAXIS>> The 176 of Total 4457\n",
      "QUANTAXIS>> DOWNLOAD PROGRESS 3.94% \n",
      "QUANTAXIS>> ##JOB02 Now Saving XDXR INFO ==== 000606\n"
     ]
    },
    {
     "name": "stdout",
     "output_type": "stream",
     "text": [
      "'NoneType' object has no attribute 'assign'\n"
     ]
    },
    {
     "name": "stderr",
     "output_type": "stream",
     "text": [
      "QUANTAXIS>> The 177 of Total 4457\n",
      "QUANTAXIS>> DOWNLOAD PROGRESS 3.97% \n",
      "QUANTAXIS>> ##JOB02 Now Saving XDXR INFO ==== 000607\n"
     ]
    },
    {
     "name": "stdout",
     "output_type": "stream",
     "text": [
      "'NoneType' object has no attribute 'assign'\n"
     ]
    },
    {
     "name": "stderr",
     "output_type": "stream",
     "text": [
      "QUANTAXIS>> The 178 of Total 4457\n",
      "QUANTAXIS>> DOWNLOAD PROGRESS 3.99% \n",
      "QUANTAXIS>> ##JOB02 Now Saving XDXR INFO ==== 000608\n"
     ]
    },
    {
     "name": "stdout",
     "output_type": "stream",
     "text": [
      "'NoneType' object has no attribute 'assign'\n"
     ]
    },
    {
     "name": "stderr",
     "output_type": "stream",
     "text": [
      "QUANTAXIS>> The 179 of Total 4457\n",
      "QUANTAXIS>> DOWNLOAD PROGRESS 4.01% \n",
      "QUANTAXIS>> ##JOB02 Now Saving XDXR INFO ==== 000609\n"
     ]
    },
    {
     "name": "stdout",
     "output_type": "stream",
     "text": [
      "'NoneType' object has no attribute 'assign'\n"
     ]
    },
    {
     "name": "stderr",
     "output_type": "stream",
     "text": [
      "QUANTAXIS>> The 180 of Total 4457\n",
      "QUANTAXIS>> DOWNLOAD PROGRESS 4.03% \n",
      "QUANTAXIS>> ##JOB02 Now Saving XDXR INFO ==== 000610\n"
     ]
    },
    {
     "name": "stdout",
     "output_type": "stream",
     "text": [
      "'NoneType' object has no attribute 'assign'\n"
     ]
    },
    {
     "name": "stderr",
     "output_type": "stream",
     "text": [
      "QUANTAXIS>> The 181 of Total 4457\n",
      "QUANTAXIS>> DOWNLOAD PROGRESS 4.06% \n",
      "QUANTAXIS>> ##JOB02 Now Saving XDXR INFO ==== 000612\n"
     ]
    },
    {
     "name": "stdout",
     "output_type": "stream",
     "text": [
      "'NoneType' object has no attribute 'assign'\n"
     ]
    },
    {
     "name": "stderr",
     "output_type": "stream",
     "text": [
      "QUANTAXIS>> The 182 of Total 4457\n",
      "QUANTAXIS>> DOWNLOAD PROGRESS 4.08% \n",
      "QUANTAXIS>> ##JOB02 Now Saving XDXR INFO ==== 000615\n"
     ]
    },
    {
     "name": "stdout",
     "output_type": "stream",
     "text": [
      "'NoneType' object has no attribute 'assign'\n"
     ]
    },
    {
     "name": "stderr",
     "output_type": "stream",
     "text": [
      "QUANTAXIS>> The 183 of Total 4457\n",
      "QUANTAXIS>> DOWNLOAD PROGRESS 4.10% \n",
      "QUANTAXIS>> ##JOB02 Now Saving XDXR INFO ==== 000616\n"
     ]
    },
    {
     "name": "stdout",
     "output_type": "stream",
     "text": [
      "'NoneType' object has no attribute 'assign'\n"
     ]
    },
    {
     "name": "stderr",
     "output_type": "stream",
     "text": [
      "QUANTAXIS>> The 184 of Total 4457\n",
      "QUANTAXIS>> DOWNLOAD PROGRESS 4.12% \n",
      "QUANTAXIS>> ##JOB02 Now Saving XDXR INFO ==== 000617\n"
     ]
    },
    {
     "name": "stdout",
     "output_type": "stream",
     "text": [
      "'NoneType' object has no attribute 'assign'\n"
     ]
    },
    {
     "name": "stderr",
     "output_type": "stream",
     "text": [
      "QUANTAXIS>> The 185 of Total 4457\n",
      "QUANTAXIS>> DOWNLOAD PROGRESS 4.15% \n",
      "QUANTAXIS>> ##JOB02 Now Saving XDXR INFO ==== 000619\n"
     ]
    },
    {
     "name": "stdout",
     "output_type": "stream",
     "text": [
      "'NoneType' object has no attribute 'assign'\n"
     ]
    },
    {
     "name": "stderr",
     "output_type": "stream",
     "text": [
      "QUANTAXIS>> The 186 of Total 4457\n",
      "QUANTAXIS>> DOWNLOAD PROGRESS 4.17% \n",
      "QUANTAXIS>> ##JOB02 Now Saving XDXR INFO ==== 000620\n"
     ]
    },
    {
     "name": "stdout",
     "output_type": "stream",
     "text": [
      "'NoneType' object has no attribute 'assign'\n"
     ]
    },
    {
     "name": "stderr",
     "output_type": "stream",
     "text": [
      "QUANTAXIS>> The 187 of Total 4457\n",
      "QUANTAXIS>> DOWNLOAD PROGRESS 4.19% \n",
      "QUANTAXIS>> ##JOB02 Now Saving XDXR INFO ==== 000622\n"
     ]
    },
    {
     "name": "stdout",
     "output_type": "stream",
     "text": [
      "'NoneType' object has no attribute 'assign'\n"
     ]
    },
    {
     "name": "stderr",
     "output_type": "stream",
     "text": [
      "QUANTAXIS>> The 188 of Total 4457\n",
      "QUANTAXIS>> DOWNLOAD PROGRESS 4.21% \n",
      "QUANTAXIS>> ##JOB02 Now Saving XDXR INFO ==== 000623\n"
     ]
    },
    {
     "name": "stdout",
     "output_type": "stream",
     "text": [
      "'NoneType' object has no attribute 'assign'\n"
     ]
    },
    {
     "name": "stderr",
     "output_type": "stream",
     "text": [
      "QUANTAXIS>> The 189 of Total 4457\n",
      "QUANTAXIS>> DOWNLOAD PROGRESS 4.24% \n",
      "QUANTAXIS>> ##JOB02 Now Saving XDXR INFO ==== 000625\n"
     ]
    },
    {
     "name": "stdout",
     "output_type": "stream",
     "text": [
      "'NoneType' object has no attribute 'assign'\n"
     ]
    },
    {
     "name": "stderr",
     "output_type": "stream",
     "text": [
      "QUANTAXIS>> The 190 of Total 4457\n",
      "QUANTAXIS>> DOWNLOAD PROGRESS 4.26% \n",
      "QUANTAXIS>> ##JOB02 Now Saving XDXR INFO ==== 000626\n"
     ]
    },
    {
     "name": "stdout",
     "output_type": "stream",
     "text": [
      "'NoneType' object has no attribute 'assign'\n"
     ]
    },
    {
     "name": "stderr",
     "output_type": "stream",
     "text": [
      "QUANTAXIS>> The 191 of Total 4457\n",
      "QUANTAXIS>> DOWNLOAD PROGRESS 4.28% \n",
      "QUANTAXIS>> ##JOB02 Now Saving XDXR INFO ==== 000627\n"
     ]
    },
    {
     "name": "stdout",
     "output_type": "stream",
     "text": [
      "'NoneType' object has no attribute 'assign'\n"
     ]
    },
    {
     "name": "stderr",
     "output_type": "stream",
     "text": [
      "QUANTAXIS>> The 192 of Total 4457\n",
      "QUANTAXIS>> DOWNLOAD PROGRESS 4.30% \n",
      "QUANTAXIS>> ##JOB02 Now Saving XDXR INFO ==== 000628\n"
     ]
    },
    {
     "name": "stdout",
     "output_type": "stream",
     "text": [
      "'NoneType' object has no attribute 'assign'\n"
     ]
    },
    {
     "name": "stderr",
     "output_type": "stream",
     "text": [
      "QUANTAXIS>> The 193 of Total 4457\n",
      "QUANTAXIS>> DOWNLOAD PROGRESS 4.33% \n",
      "QUANTAXIS>> ##JOB02 Now Saving XDXR INFO ==== 000629\n"
     ]
    },
    {
     "name": "stdout",
     "output_type": "stream",
     "text": [
      "'NoneType' object has no attribute 'assign'\n"
     ]
    },
    {
     "name": "stderr",
     "output_type": "stream",
     "text": [
      "QUANTAXIS>> The 194 of Total 4457\n",
      "QUANTAXIS>> DOWNLOAD PROGRESS 4.35% \n",
      "QUANTAXIS>> ##JOB02 Now Saving XDXR INFO ==== 000630\n"
     ]
    },
    {
     "name": "stdout",
     "output_type": "stream",
     "text": [
      "'NoneType' object has no attribute 'assign'\n"
     ]
    },
    {
     "name": "stderr",
     "output_type": "stream",
     "text": [
      "QUANTAXIS>> The 195 of Total 4457\n",
      "QUANTAXIS>> DOWNLOAD PROGRESS 4.37% \n",
      "QUANTAXIS>> ##JOB02 Now Saving XDXR INFO ==== 000631\n"
     ]
    },
    {
     "name": "stdout",
     "output_type": "stream",
     "text": [
      "'NoneType' object has no attribute 'assign'\n"
     ]
    },
    {
     "name": "stderr",
     "output_type": "stream",
     "text": [
      "QUANTAXIS>> The 196 of Total 4457\n",
      "QUANTAXIS>> DOWNLOAD PROGRESS 4.39% \n",
      "QUANTAXIS>> ##JOB02 Now Saving XDXR INFO ==== 000632\n"
     ]
    },
    {
     "name": "stdout",
     "output_type": "stream",
     "text": [
      "'NoneType' object has no attribute 'assign'\n"
     ]
    },
    {
     "name": "stderr",
     "output_type": "stream",
     "text": [
      "QUANTAXIS>> The 197 of Total 4457\n",
      "QUANTAXIS>> DOWNLOAD PROGRESS 4.42% \n",
      "QUANTAXIS>> ##JOB02 Now Saving XDXR INFO ==== 000633\n"
     ]
    },
    {
     "name": "stdout",
     "output_type": "stream",
     "text": [
      "'NoneType' object has no attribute 'assign'\n"
     ]
    },
    {
     "name": "stderr",
     "output_type": "stream",
     "text": [
      "QUANTAXIS>> The 198 of Total 4457\n",
      "QUANTAXIS>> DOWNLOAD PROGRESS 4.44% \n",
      "QUANTAXIS>> ##JOB02 Now Saving XDXR INFO ==== 000635\n"
     ]
    },
    {
     "name": "stdout",
     "output_type": "stream",
     "text": [
      "'NoneType' object has no attribute 'assign'\n"
     ]
    },
    {
     "name": "stderr",
     "output_type": "stream",
     "text": [
      "QUANTAXIS>> The 199 of Total 4457\n",
      "QUANTAXIS>> DOWNLOAD PROGRESS 4.46% \n",
      "QUANTAXIS>> ##JOB02 Now Saving XDXR INFO ==== 000636\n"
     ]
    },
    {
     "name": "stdout",
     "output_type": "stream",
     "text": [
      "'NoneType' object has no attribute 'assign'\n"
     ]
    },
    {
     "name": "stderr",
     "output_type": "stream",
     "text": [
      "QUANTAXIS>> The 200 of Total 4457\n",
      "QUANTAXIS>> DOWNLOAD PROGRESS 4.48% \n",
      "QUANTAXIS>> ##JOB02 Now Saving XDXR INFO ==== 000637\n"
     ]
    },
    {
     "name": "stdout",
     "output_type": "stream",
     "text": [
      "'NoneType' object has no attribute 'assign'\n"
     ]
    },
    {
     "name": "stderr",
     "output_type": "stream",
     "text": [
      "QUANTAXIS>> The 201 of Total 4457\n",
      "QUANTAXIS>> DOWNLOAD PROGRESS 4.50% \n",
      "QUANTAXIS>> ##JOB02 Now Saving XDXR INFO ==== 000638\n"
     ]
    },
    {
     "name": "stdout",
     "output_type": "stream",
     "text": [
      "'NoneType' object has no attribute 'assign'\n"
     ]
    },
    {
     "name": "stderr",
     "output_type": "stream",
     "text": [
      "QUANTAXIS>> The 202 of Total 4457\n",
      "QUANTAXIS>> DOWNLOAD PROGRESS 4.53% \n",
      "QUANTAXIS>> ##JOB02 Now Saving XDXR INFO ==== 000639\n"
     ]
    },
    {
     "name": "stdout",
     "output_type": "stream",
     "text": [
      "'NoneType' object has no attribute 'assign'\n"
     ]
    },
    {
     "name": "stderr",
     "output_type": "stream",
     "text": [
      "QUANTAXIS>> The 203 of Total 4457\n",
      "QUANTAXIS>> DOWNLOAD PROGRESS 4.55% \n",
      "QUANTAXIS>> ##JOB02 Now Saving XDXR INFO ==== 000650\n"
     ]
    },
    {
     "name": "stdout",
     "output_type": "stream",
     "text": [
      "'NoneType' object has no attribute 'assign'\n"
     ]
    },
    {
     "name": "stderr",
     "output_type": "stream",
     "text": [
      "QUANTAXIS>> The 204 of Total 4457\n",
      "QUANTAXIS>> DOWNLOAD PROGRESS 4.57% \n",
      "QUANTAXIS>> ##JOB02 Now Saving XDXR INFO ==== 000651\n"
     ]
    },
    {
     "name": "stdout",
     "output_type": "stream",
     "text": [
      "'NoneType' object has no attribute 'assign'\n"
     ]
    },
    {
     "name": "stderr",
     "output_type": "stream",
     "text": [
      "QUANTAXIS>> The 205 of Total 4457\n",
      "QUANTAXIS>> DOWNLOAD PROGRESS 4.59% \n",
      "QUANTAXIS>> ##JOB02 Now Saving XDXR INFO ==== 000652\n"
     ]
    },
    {
     "name": "stdout",
     "output_type": "stream",
     "text": [
      "'NoneType' object has no attribute 'assign'\n"
     ]
    },
    {
     "name": "stderr",
     "output_type": "stream",
     "text": [
      "QUANTAXIS>> The 206 of Total 4457\n",
      "QUANTAXIS>> DOWNLOAD PROGRESS 4.62% \n",
      "QUANTAXIS>> ##JOB02 Now Saving XDXR INFO ==== 000655\n"
     ]
    },
    {
     "name": "stdout",
     "output_type": "stream",
     "text": [
      "'NoneType' object has no attribute 'assign'\n"
     ]
    },
    {
     "name": "stderr",
     "output_type": "stream",
     "text": [
      "QUANTAXIS>> The 207 of Total 4457\n",
      "QUANTAXIS>> DOWNLOAD PROGRESS 4.64% \n",
      "QUANTAXIS>> ##JOB02 Now Saving XDXR INFO ==== 000656\n"
     ]
    },
    {
     "name": "stdout",
     "output_type": "stream",
     "text": [
      "'NoneType' object has no attribute 'assign'\n"
     ]
    },
    {
     "name": "stderr",
     "output_type": "stream",
     "text": [
      "QUANTAXIS>> The 208 of Total 4457\n",
      "QUANTAXIS>> DOWNLOAD PROGRESS 4.66% \n",
      "QUANTAXIS>> ##JOB02 Now Saving XDXR INFO ==== 000657\n"
     ]
    },
    {
     "name": "stdout",
     "output_type": "stream",
     "text": [
      "'NoneType' object has no attribute 'assign'\n"
     ]
    },
    {
     "name": "stderr",
     "output_type": "stream",
     "text": [
      "QUANTAXIS>> The 209 of Total 4457\n",
      "QUANTAXIS>> DOWNLOAD PROGRESS 4.68% \n",
      "QUANTAXIS>> ##JOB02 Now Saving XDXR INFO ==== 000659\n"
     ]
    },
    {
     "name": "stdout",
     "output_type": "stream",
     "text": [
      "'NoneType' object has no attribute 'assign'\n"
     ]
    },
    {
     "name": "stderr",
     "output_type": "stream",
     "text": [
      "QUANTAXIS>> The 210 of Total 4457\n",
      "QUANTAXIS>> DOWNLOAD PROGRESS 4.71% \n",
      "QUANTAXIS>> ##JOB02 Now Saving XDXR INFO ==== 000661\n"
     ]
    },
    {
     "name": "stdout",
     "output_type": "stream",
     "text": [
      "'NoneType' object has no attribute 'assign'\n"
     ]
    },
    {
     "name": "stderr",
     "output_type": "stream",
     "text": [
      "QUANTAXIS>> The 211 of Total 4457\n",
      "QUANTAXIS>> DOWNLOAD PROGRESS 4.73% \n",
      "QUANTAXIS>> ##JOB02 Now Saving XDXR INFO ==== 000663\n"
     ]
    },
    {
     "name": "stdout",
     "output_type": "stream",
     "text": [
      "'NoneType' object has no attribute 'assign'\n"
     ]
    },
    {
     "name": "stderr",
     "output_type": "stream",
     "text": [
      "QUANTAXIS>> The 212 of Total 4457\n",
      "QUANTAXIS>> DOWNLOAD PROGRESS 4.75% \n",
      "QUANTAXIS>> ##JOB02 Now Saving XDXR INFO ==== 000665\n"
     ]
    },
    {
     "name": "stdout",
     "output_type": "stream",
     "text": [
      "'NoneType' object has no attribute 'assign'\n"
     ]
    },
    {
     "name": "stderr",
     "output_type": "stream",
     "text": [
      "QUANTAXIS>> The 213 of Total 4457\n",
      "QUANTAXIS>> DOWNLOAD PROGRESS 4.77% \n",
      "QUANTAXIS>> ##JOB02 Now Saving XDXR INFO ==== 000666\n"
     ]
    },
    {
     "name": "stdout",
     "output_type": "stream",
     "text": [
      "'NoneType' object has no attribute 'assign'\n"
     ]
    },
    {
     "name": "stderr",
     "output_type": "stream",
     "text": [
      "QUANTAXIS>> The 214 of Total 4457\n",
      "QUANTAXIS>> DOWNLOAD PROGRESS 4.80% \n",
      "QUANTAXIS>> ##JOB02 Now Saving XDXR INFO ==== 000667\n"
     ]
    },
    {
     "name": "stdout",
     "output_type": "stream",
     "text": [
      "'NoneType' object has no attribute 'assign'\n"
     ]
    },
    {
     "name": "stderr",
     "output_type": "stream",
     "text": [
      "QUANTAXIS>> The 215 of Total 4457\n",
      "QUANTAXIS>> DOWNLOAD PROGRESS 4.82% \n",
      "QUANTAXIS>> ##JOB02 Now Saving XDXR INFO ==== 000668\n"
     ]
    },
    {
     "name": "stdout",
     "output_type": "stream",
     "text": [
      "'NoneType' object has no attribute 'assign'\n"
     ]
    },
    {
     "name": "stderr",
     "output_type": "stream",
     "text": [
      "QUANTAXIS>> The 216 of Total 4457\n",
      "QUANTAXIS>> DOWNLOAD PROGRESS 4.84% \n",
      "QUANTAXIS>> ##JOB02 Now Saving XDXR INFO ==== 000669\n"
     ]
    },
    {
     "name": "stdout",
     "output_type": "stream",
     "text": [
      "'NoneType' object has no attribute 'assign'\n"
     ]
    },
    {
     "name": "stderr",
     "output_type": "stream",
     "text": [
      "QUANTAXIS>> The 217 of Total 4457\n",
      "QUANTAXIS>> DOWNLOAD PROGRESS 4.86% \n",
      "QUANTAXIS>> ##JOB02 Now Saving XDXR INFO ==== 000670\n"
     ]
    },
    {
     "name": "stdout",
     "output_type": "stream",
     "text": [
      "'NoneType' object has no attribute 'assign'\n"
     ]
    },
    {
     "name": "stderr",
     "output_type": "stream",
     "text": [
      "QUANTAXIS>> The 218 of Total 4457\n",
      "QUANTAXIS>> DOWNLOAD PROGRESS 4.89% \n",
      "QUANTAXIS>> ##JOB02 Now Saving XDXR INFO ==== 000671\n"
     ]
    },
    {
     "name": "stdout",
     "output_type": "stream",
     "text": [
      "'NoneType' object has no attribute 'assign'\n"
     ]
    },
    {
     "name": "stderr",
     "output_type": "stream",
     "text": [
      "QUANTAXIS>> The 219 of Total 4457\n",
      "QUANTAXIS>> DOWNLOAD PROGRESS 4.91% \n",
      "QUANTAXIS>> ##JOB02 Now Saving XDXR INFO ==== 000672\n"
     ]
    },
    {
     "name": "stdout",
     "output_type": "stream",
     "text": [
      "'NoneType' object has no attribute 'assign'\n"
     ]
    },
    {
     "name": "stderr",
     "output_type": "stream",
     "text": [
      "QUANTAXIS>> The 220 of Total 4457\n",
      "QUANTAXIS>> DOWNLOAD PROGRESS 4.93% \n",
      "QUANTAXIS>> ##JOB02 Now Saving XDXR INFO ==== 000676\n"
     ]
    },
    {
     "name": "stdout",
     "output_type": "stream",
     "text": [
      "'NoneType' object has no attribute 'assign'\n"
     ]
    },
    {
     "name": "stderr",
     "output_type": "stream",
     "text": [
      "QUANTAXIS>> The 221 of Total 4457\n",
      "QUANTAXIS>> DOWNLOAD PROGRESS 4.95% \n",
      "QUANTAXIS>> ##JOB02 Now Saving XDXR INFO ==== 000677\n"
     ]
    },
    {
     "name": "stdout",
     "output_type": "stream",
     "text": [
      "'NoneType' object has no attribute 'assign'\n"
     ]
    },
    {
     "name": "stderr",
     "output_type": "stream",
     "text": [
      "QUANTAXIS>> The 222 of Total 4457\n",
      "QUANTAXIS>> DOWNLOAD PROGRESS 4.98% \n",
      "QUANTAXIS>> ##JOB02 Now Saving XDXR INFO ==== 000678\n"
     ]
    },
    {
     "name": "stdout",
     "output_type": "stream",
     "text": [
      "'NoneType' object has no attribute 'assign'\n"
     ]
    },
    {
     "name": "stderr",
     "output_type": "stream",
     "text": [
      "QUANTAXIS>> The 223 of Total 4457\n",
      "QUANTAXIS>> DOWNLOAD PROGRESS 5.00% \n",
      "QUANTAXIS>> ##JOB02 Now Saving XDXR INFO ==== 000679\n"
     ]
    },
    {
     "name": "stdout",
     "output_type": "stream",
     "text": [
      "'NoneType' object has no attribute 'assign'\n"
     ]
    },
    {
     "name": "stderr",
     "output_type": "stream",
     "text": [
      "QUANTAXIS>> The 224 of Total 4457\n",
      "QUANTAXIS>> DOWNLOAD PROGRESS 5.02% \n",
      "QUANTAXIS>> ##JOB02 Now Saving XDXR INFO ==== 000680\n"
     ]
    },
    {
     "name": "stdout",
     "output_type": "stream",
     "text": [
      "'NoneType' object has no attribute 'assign'\n"
     ]
    },
    {
     "name": "stderr",
     "output_type": "stream",
     "text": [
      "QUANTAXIS>> The 225 of Total 4457\n",
      "QUANTAXIS>> DOWNLOAD PROGRESS 5.04% \n",
      "QUANTAXIS>> ##JOB02 Now Saving XDXR INFO ==== 000681\n"
     ]
    },
    {
     "name": "stdout",
     "output_type": "stream",
     "text": [
      "'NoneType' object has no attribute 'assign'\n"
     ]
    },
    {
     "name": "stderr",
     "output_type": "stream",
     "text": [
      "QUANTAXIS>> The 226 of Total 4457\n",
      "QUANTAXIS>> DOWNLOAD PROGRESS 5.07% \n",
      "QUANTAXIS>> ##JOB02 Now Saving XDXR INFO ==== 000682\n"
     ]
    },
    {
     "name": "stdout",
     "output_type": "stream",
     "text": [
      "'NoneType' object has no attribute 'assign'\n"
     ]
    },
    {
     "name": "stderr",
     "output_type": "stream",
     "text": [
      "QUANTAXIS>> The 227 of Total 4457\n",
      "QUANTAXIS>> DOWNLOAD PROGRESS 5.09% \n",
      "QUANTAXIS>> ##JOB02 Now Saving XDXR INFO ==== 000683\n"
     ]
    },
    {
     "name": "stdout",
     "output_type": "stream",
     "text": [
      "'NoneType' object has no attribute 'assign'\n"
     ]
    },
    {
     "name": "stderr",
     "output_type": "stream",
     "text": [
      "QUANTAXIS>> The 228 of Total 4457\n",
      "QUANTAXIS>> DOWNLOAD PROGRESS 5.11% \n",
      "QUANTAXIS>> ##JOB02 Now Saving XDXR INFO ==== 000685\n"
     ]
    },
    {
     "name": "stdout",
     "output_type": "stream",
     "text": [
      "'NoneType' object has no attribute 'assign'\n"
     ]
    },
    {
     "name": "stderr",
     "output_type": "stream",
     "text": [
      "QUANTAXIS>> The 229 of Total 4457\n",
      "QUANTAXIS>> DOWNLOAD PROGRESS 5.13% \n",
      "QUANTAXIS>> ##JOB02 Now Saving XDXR INFO ==== 000686\n"
     ]
    },
    {
     "name": "stdout",
     "output_type": "stream",
     "text": [
      "'NoneType' object has no attribute 'assign'\n"
     ]
    },
    {
     "name": "stderr",
     "output_type": "stream",
     "text": [
      "QUANTAXIS>> The 230 of Total 4457\n",
      "QUANTAXIS>> DOWNLOAD PROGRESS 5.16% \n",
      "QUANTAXIS>> ##JOB02 Now Saving XDXR INFO ==== 000688\n"
     ]
    },
    {
     "name": "stdout",
     "output_type": "stream",
     "text": [
      "'NoneType' object has no attribute 'assign'\n"
     ]
    },
    {
     "name": "stderr",
     "output_type": "stream",
     "text": [
      "QUANTAXIS>> The 231 of Total 4457\n",
      "QUANTAXIS>> DOWNLOAD PROGRESS 5.18% \n",
      "QUANTAXIS>> ##JOB02 Now Saving XDXR INFO ==== 000690\n"
     ]
    },
    {
     "name": "stdout",
     "output_type": "stream",
     "text": [
      "'NoneType' object has no attribute 'assign'\n"
     ]
    },
    {
     "name": "stderr",
     "output_type": "stream",
     "text": [
      "QUANTAXIS>> The 232 of Total 4457\n",
      "QUANTAXIS>> DOWNLOAD PROGRESS 5.20% \n",
      "QUANTAXIS>> ##JOB02 Now Saving XDXR INFO ==== 000691\n"
     ]
    },
    {
     "name": "stdout",
     "output_type": "stream",
     "text": [
      "'NoneType' object has no attribute 'assign'\n"
     ]
    },
    {
     "name": "stderr",
     "output_type": "stream",
     "text": [
      "QUANTAXIS>> The 233 of Total 4457\n",
      "QUANTAXIS>> DOWNLOAD PROGRESS 5.22% \n",
      "QUANTAXIS>> ##JOB02 Now Saving XDXR INFO ==== 000692\n"
     ]
    },
    {
     "name": "stdout",
     "output_type": "stream",
     "text": [
      "'NoneType' object has no attribute 'assign'\n"
     ]
    },
    {
     "name": "stderr",
     "output_type": "stream",
     "text": [
      "QUANTAXIS>> The 234 of Total 4457\n",
      "QUANTAXIS>> DOWNLOAD PROGRESS 5.25% \n",
      "QUANTAXIS>> ##JOB02 Now Saving XDXR INFO ==== 000695\n"
     ]
    },
    {
     "name": "stdout",
     "output_type": "stream",
     "text": [
      "'NoneType' object has no attribute 'assign'\n"
     ]
    },
    {
     "name": "stderr",
     "output_type": "stream",
     "text": [
      "QUANTAXIS>> The 235 of Total 4457\n",
      "QUANTAXIS>> DOWNLOAD PROGRESS 5.27% \n",
      "QUANTAXIS>> ##JOB02 Now Saving XDXR INFO ==== 000697\n"
     ]
    },
    {
     "name": "stdout",
     "output_type": "stream",
     "text": [
      "'NoneType' object has no attribute 'assign'\n"
     ]
    },
    {
     "name": "stderr",
     "output_type": "stream",
     "text": [
      "QUANTAXIS>> The 236 of Total 4457\n",
      "QUANTAXIS>> DOWNLOAD PROGRESS 5.29% \n",
      "QUANTAXIS>> ##JOB02 Now Saving XDXR INFO ==== 000698\n"
     ]
    },
    {
     "name": "stdout",
     "output_type": "stream",
     "text": [
      "'NoneType' object has no attribute 'assign'\n"
     ]
    },
    {
     "name": "stderr",
     "output_type": "stream",
     "text": [
      "QUANTAXIS>> The 237 of Total 4457\n",
      "QUANTAXIS>> DOWNLOAD PROGRESS 5.31% \n",
      "QUANTAXIS>> ##JOB02 Now Saving XDXR INFO ==== 000700\n"
     ]
    },
    {
     "name": "stdout",
     "output_type": "stream",
     "text": [
      "'NoneType' object has no attribute 'assign'\n"
     ]
    },
    {
     "name": "stderr",
     "output_type": "stream",
     "text": [
      "QUANTAXIS>> The 238 of Total 4457\n",
      "QUANTAXIS>> DOWNLOAD PROGRESS 5.33% \n",
      "QUANTAXIS>> ##JOB02 Now Saving XDXR INFO ==== 000701\n"
     ]
    },
    {
     "name": "stdout",
     "output_type": "stream",
     "text": [
      "'NoneType' object has no attribute 'assign'\n"
     ]
    },
    {
     "name": "stderr",
     "output_type": "stream",
     "text": [
      "QUANTAXIS>> The 239 of Total 4457\n",
      "QUANTAXIS>> DOWNLOAD PROGRESS 5.36% \n",
      "QUANTAXIS>> ##JOB02 Now Saving XDXR INFO ==== 000702\n"
     ]
    },
    {
     "name": "stdout",
     "output_type": "stream",
     "text": [
      "'NoneType' object has no attribute 'assign'\n"
     ]
    },
    {
     "name": "stderr",
     "output_type": "stream",
     "text": [
      "QUANTAXIS>> The 240 of Total 4457\n",
      "QUANTAXIS>> DOWNLOAD PROGRESS 5.38% \n",
      "QUANTAXIS>> ##JOB02 Now Saving XDXR INFO ==== 000703\n"
     ]
    },
    {
     "name": "stdout",
     "output_type": "stream",
     "text": [
      "'NoneType' object has no attribute 'assign'\n"
     ]
    },
    {
     "name": "stderr",
     "output_type": "stream",
     "text": [
      "QUANTAXIS>> The 241 of Total 4457\n",
      "QUANTAXIS>> DOWNLOAD PROGRESS 5.40% \n",
      "QUANTAXIS>> ##JOB02 Now Saving XDXR INFO ==== 000705\n"
     ]
    },
    {
     "name": "stdout",
     "output_type": "stream",
     "text": [
      "'NoneType' object has no attribute 'assign'\n"
     ]
    },
    {
     "name": "stderr",
     "output_type": "stream",
     "text": [
      "QUANTAXIS>> The 242 of Total 4457\n",
      "QUANTAXIS>> DOWNLOAD PROGRESS 5.42% \n",
      "QUANTAXIS>> ##JOB02 Now Saving XDXR INFO ==== 000707\n"
     ]
    },
    {
     "name": "stdout",
     "output_type": "stream",
     "text": [
      "'NoneType' object has no attribute 'assign'\n"
     ]
    },
    {
     "name": "stderr",
     "output_type": "stream",
     "text": [
      "QUANTAXIS>> The 243 of Total 4457\n",
      "QUANTAXIS>> DOWNLOAD PROGRESS 5.45% \n",
      "QUANTAXIS>> ##JOB02 Now Saving XDXR INFO ==== 000708\n"
     ]
    },
    {
     "name": "stdout",
     "output_type": "stream",
     "text": [
      "'NoneType' object has no attribute 'assign'\n"
     ]
    },
    {
     "name": "stderr",
     "output_type": "stream",
     "text": [
      "QUANTAXIS>> The 244 of Total 4457\n",
      "QUANTAXIS>> DOWNLOAD PROGRESS 5.47% \n",
      "QUANTAXIS>> ##JOB02 Now Saving XDXR INFO ==== 000709\n"
     ]
    },
    {
     "name": "stdout",
     "output_type": "stream",
     "text": [
      "'NoneType' object has no attribute 'assign'\n"
     ]
    },
    {
     "name": "stderr",
     "output_type": "stream",
     "text": [
      "QUANTAXIS>> The 245 of Total 4457\n",
      "QUANTAXIS>> DOWNLOAD PROGRESS 5.49% \n",
      "QUANTAXIS>> ##JOB02 Now Saving XDXR INFO ==== 000710\n"
     ]
    },
    {
     "name": "stdout",
     "output_type": "stream",
     "text": [
      "'NoneType' object has no attribute 'assign'\n"
     ]
    },
    {
     "name": "stderr",
     "output_type": "stream",
     "text": [
      "QUANTAXIS>> The 246 of Total 4457\n",
      "QUANTAXIS>> DOWNLOAD PROGRESS 5.51% \n",
      "QUANTAXIS>> ##JOB02 Now Saving XDXR INFO ==== 000711\n"
     ]
    },
    {
     "name": "stdout",
     "output_type": "stream",
     "text": [
      "'NoneType' object has no attribute 'assign'\n"
     ]
    },
    {
     "name": "stderr",
     "output_type": "stream",
     "text": [
      "QUANTAXIS>> The 247 of Total 4457\n",
      "QUANTAXIS>> DOWNLOAD PROGRESS 5.54% \n",
      "QUANTAXIS>> ##JOB02 Now Saving XDXR INFO ==== 000712\n"
     ]
    },
    {
     "name": "stdout",
     "output_type": "stream",
     "text": [
      "'NoneType' object has no attribute 'assign'\n"
     ]
    },
    {
     "name": "stderr",
     "output_type": "stream",
     "text": [
      "QUANTAXIS>> The 248 of Total 4457\n",
      "QUANTAXIS>> DOWNLOAD PROGRESS 5.56% \n",
      "QUANTAXIS>> ##JOB02 Now Saving XDXR INFO ==== 000713\n"
     ]
    },
    {
     "name": "stdout",
     "output_type": "stream",
     "text": [
      "'NoneType' object has no attribute 'assign'\n"
     ]
    },
    {
     "name": "stderr",
     "output_type": "stream",
     "text": [
      "QUANTAXIS>> The 249 of Total 4457\n",
      "QUANTAXIS>> DOWNLOAD PROGRESS 5.58% \n",
      "QUANTAXIS>> ##JOB02 Now Saving XDXR INFO ==== 000715\n"
     ]
    },
    {
     "name": "stdout",
     "output_type": "stream",
     "text": [
      "'NoneType' object has no attribute 'assign'\n"
     ]
    },
    {
     "name": "stderr",
     "output_type": "stream",
     "text": [
      "QUANTAXIS>> The 250 of Total 4457\n",
      "QUANTAXIS>> DOWNLOAD PROGRESS 5.60% \n",
      "QUANTAXIS>> ##JOB02 Now Saving XDXR INFO ==== 000716\n"
     ]
    },
    {
     "name": "stdout",
     "output_type": "stream",
     "text": [
      "'NoneType' object has no attribute 'assign'\n"
     ]
    },
    {
     "name": "stderr",
     "output_type": "stream",
     "text": [
      "QUANTAXIS>> The 251 of Total 4457\n",
      "QUANTAXIS>> DOWNLOAD PROGRESS 5.63% \n",
      "QUANTAXIS>> ##JOB02 Now Saving XDXR INFO ==== 000717\n"
     ]
    },
    {
     "name": "stdout",
     "output_type": "stream",
     "text": [
      "'NoneType' object has no attribute 'assign'\n"
     ]
    },
    {
     "name": "stderr",
     "output_type": "stream",
     "text": [
      "QUANTAXIS>> The 252 of Total 4457\n",
      "QUANTAXIS>> DOWNLOAD PROGRESS 5.65% \n",
      "QUANTAXIS>> ##JOB02 Now Saving XDXR INFO ==== 000718\n"
     ]
    },
    {
     "name": "stdout",
     "output_type": "stream",
     "text": [
      "'NoneType' object has no attribute 'assign'\n"
     ]
    },
    {
     "name": "stderr",
     "output_type": "stream",
     "text": [
      "QUANTAXIS>> The 253 of Total 4457\n",
      "QUANTAXIS>> DOWNLOAD PROGRESS 5.67% \n",
      "QUANTAXIS>> ##JOB02 Now Saving XDXR INFO ==== 000719\n"
     ]
    },
    {
     "name": "stdout",
     "output_type": "stream",
     "text": [
      "'NoneType' object has no attribute 'assign'\n"
     ]
    },
    {
     "name": "stderr",
     "output_type": "stream",
     "text": [
      "QUANTAXIS>> The 254 of Total 4457\n",
      "QUANTAXIS>> DOWNLOAD PROGRESS 5.69% \n",
      "QUANTAXIS>> ##JOB02 Now Saving XDXR INFO ==== 000720\n"
     ]
    },
    {
     "name": "stdout",
     "output_type": "stream",
     "text": [
      "'NoneType' object has no attribute 'assign'\n"
     ]
    },
    {
     "name": "stderr",
     "output_type": "stream",
     "text": [
      "QUANTAXIS>> The 255 of Total 4457\n",
      "QUANTAXIS>> DOWNLOAD PROGRESS 5.72% \n",
      "QUANTAXIS>> ##JOB02 Now Saving XDXR INFO ==== 000721\n"
     ]
    },
    {
     "name": "stdout",
     "output_type": "stream",
     "text": [
      "'NoneType' object has no attribute 'assign'\n"
     ]
    },
    {
     "name": "stderr",
     "output_type": "stream",
     "text": [
      "QUANTAXIS>> The 256 of Total 4457\n",
      "QUANTAXIS>> DOWNLOAD PROGRESS 5.74% \n",
      "QUANTAXIS>> ##JOB02 Now Saving XDXR INFO ==== 000722\n"
     ]
    },
    {
     "name": "stdout",
     "output_type": "stream",
     "text": [
      "'NoneType' object has no attribute 'assign'\n"
     ]
    },
    {
     "name": "stderr",
     "output_type": "stream",
     "text": [
      "QUANTAXIS>> The 257 of Total 4457\n",
      "QUANTAXIS>> DOWNLOAD PROGRESS 5.76% \n",
      "QUANTAXIS>> ##JOB02 Now Saving XDXR INFO ==== 000723\n"
     ]
    },
    {
     "name": "stdout",
     "output_type": "stream",
     "text": [
      "'NoneType' object has no attribute 'assign'\n"
     ]
    },
    {
     "name": "stderr",
     "output_type": "stream",
     "text": [
      "QUANTAXIS>> The 258 of Total 4457\n",
      "QUANTAXIS>> DOWNLOAD PROGRESS 5.78% \n",
      "QUANTAXIS>> ##JOB02 Now Saving XDXR INFO ==== 000725\n"
     ]
    },
    {
     "name": "stdout",
     "output_type": "stream",
     "text": [
      "'NoneType' object has no attribute 'assign'\n"
     ]
    },
    {
     "name": "stderr",
     "output_type": "stream",
     "text": [
      "QUANTAXIS>> The 259 of Total 4457\n",
      "QUANTAXIS>> DOWNLOAD PROGRESS 5.81% \n",
      "QUANTAXIS>> ##JOB02 Now Saving XDXR INFO ==== 000726\n"
     ]
    },
    {
     "name": "stdout",
     "output_type": "stream",
     "text": [
      "'NoneType' object has no attribute 'assign'\n"
     ]
    },
    {
     "name": "stderr",
     "output_type": "stream",
     "text": [
      "QUANTAXIS>> The 260 of Total 4457\n",
      "QUANTAXIS>> DOWNLOAD PROGRESS 5.83% \n",
      "QUANTAXIS>> ##JOB02 Now Saving XDXR INFO ==== 000727\n"
     ]
    },
    {
     "name": "stdout",
     "output_type": "stream",
     "text": [
      "'NoneType' object has no attribute 'assign'\n"
     ]
    },
    {
     "name": "stderr",
     "output_type": "stream",
     "text": [
      "QUANTAXIS>> The 261 of Total 4457\n",
      "QUANTAXIS>> DOWNLOAD PROGRESS 5.85% \n",
      "QUANTAXIS>> ##JOB02 Now Saving XDXR INFO ==== 000728\n"
     ]
    },
    {
     "name": "stdout",
     "output_type": "stream",
     "text": [
      "'NoneType' object has no attribute 'assign'\n"
     ]
    },
    {
     "name": "stderr",
     "output_type": "stream",
     "text": [
      "QUANTAXIS>> The 262 of Total 4457\n",
      "QUANTAXIS>> DOWNLOAD PROGRESS 5.87% \n",
      "QUANTAXIS>> ##JOB02 Now Saving XDXR INFO ==== 000729\n"
     ]
    },
    {
     "name": "stdout",
     "output_type": "stream",
     "text": [
      "'NoneType' object has no attribute 'assign'\n"
     ]
    },
    {
     "name": "stderr",
     "output_type": "stream",
     "text": [
      "QUANTAXIS>> The 263 of Total 4457\n",
      "QUANTAXIS>> DOWNLOAD PROGRESS 5.90% \n",
      "QUANTAXIS>> ##JOB02 Now Saving XDXR INFO ==== 000731\n"
     ]
    },
    {
     "name": "stdout",
     "output_type": "stream",
     "text": [
      "'NoneType' object has no attribute 'assign'\n"
     ]
    },
    {
     "name": "stderr",
     "output_type": "stream",
     "text": [
      "QUANTAXIS>> The 264 of Total 4457\n",
      "QUANTAXIS>> DOWNLOAD PROGRESS 5.92% \n",
      "QUANTAXIS>> ##JOB02 Now Saving XDXR INFO ==== 000732\n"
     ]
    },
    {
     "name": "stdout",
     "output_type": "stream",
     "text": [
      "'NoneType' object has no attribute 'assign'\n"
     ]
    },
    {
     "name": "stderr",
     "output_type": "stream",
     "text": [
      "QUANTAXIS>> The 265 of Total 4457\n",
      "QUANTAXIS>> DOWNLOAD PROGRESS 5.94% \n",
      "QUANTAXIS>> ##JOB02 Now Saving XDXR INFO ==== 000733\n"
     ]
    },
    {
     "name": "stdout",
     "output_type": "stream",
     "text": [
      "'NoneType' object has no attribute 'assign'\n"
     ]
    },
    {
     "name": "stderr",
     "output_type": "stream",
     "text": [
      "QUANTAXIS>> The 266 of Total 4457\n",
      "QUANTAXIS>> DOWNLOAD PROGRESS 5.96% \n",
      "QUANTAXIS>> ##JOB02 Now Saving XDXR INFO ==== 000735\n"
     ]
    },
    {
     "name": "stdout",
     "output_type": "stream",
     "text": [
      "'NoneType' object has no attribute 'assign'\n"
     ]
    },
    {
     "name": "stderr",
     "output_type": "stream",
     "text": [
      "QUANTAXIS>> The 267 of Total 4457\n",
      "QUANTAXIS>> DOWNLOAD PROGRESS 5.99% \n",
      "QUANTAXIS>> ##JOB02 Now Saving XDXR INFO ==== 000736\n"
     ]
    },
    {
     "name": "stdout",
     "output_type": "stream",
     "text": [
      "'NoneType' object has no attribute 'assign'\n"
     ]
    },
    {
     "name": "stderr",
     "output_type": "stream",
     "text": [
      "QUANTAXIS>> The 268 of Total 4457\n",
      "QUANTAXIS>> DOWNLOAD PROGRESS 6.01% \n",
      "QUANTAXIS>> ##JOB02 Now Saving XDXR INFO ==== 000737\n"
     ]
    },
    {
     "name": "stdout",
     "output_type": "stream",
     "text": [
      "'NoneType' object has no attribute 'assign'\n"
     ]
    },
    {
     "name": "stderr",
     "output_type": "stream",
     "text": [
      "QUANTAXIS>> The 269 of Total 4457\n",
      "QUANTAXIS>> DOWNLOAD PROGRESS 6.03% \n",
      "QUANTAXIS>> ##JOB02 Now Saving XDXR INFO ==== 000738\n"
     ]
    },
    {
     "name": "stdout",
     "output_type": "stream",
     "text": [
      "'NoneType' object has no attribute 'assign'\n"
     ]
    },
    {
     "name": "stderr",
     "output_type": "stream",
     "text": [
      "QUANTAXIS>> The 270 of Total 4457\n",
      "QUANTAXIS>> DOWNLOAD PROGRESS 6.05% \n",
      "QUANTAXIS>> ##JOB02 Now Saving XDXR INFO ==== 000739\n"
     ]
    },
    {
     "name": "stdout",
     "output_type": "stream",
     "text": [
      "'NoneType' object has no attribute 'assign'\n"
     ]
    },
    {
     "name": "stderr",
     "output_type": "stream",
     "text": [
      "QUANTAXIS>> The 271 of Total 4457\n",
      "QUANTAXIS>> DOWNLOAD PROGRESS 6.08% \n",
      "QUANTAXIS>> ##JOB02 Now Saving XDXR INFO ==== 000750\n"
     ]
    },
    {
     "name": "stdout",
     "output_type": "stream",
     "text": [
      "'NoneType' object has no attribute 'assign'\n"
     ]
    },
    {
     "name": "stderr",
     "output_type": "stream",
     "text": [
      "QUANTAXIS>> The 272 of Total 4457\n",
      "QUANTAXIS>> DOWNLOAD PROGRESS 6.10% \n",
      "QUANTAXIS>> ##JOB02 Now Saving XDXR INFO ==== 000751\n"
     ]
    },
    {
     "name": "stdout",
     "output_type": "stream",
     "text": [
      "'NoneType' object has no attribute 'assign'\n"
     ]
    },
    {
     "name": "stderr",
     "output_type": "stream",
     "text": [
      "QUANTAXIS>> The 273 of Total 4457\n",
      "QUANTAXIS>> DOWNLOAD PROGRESS 6.12% \n",
      "QUANTAXIS>> ##JOB02 Now Saving XDXR INFO ==== 000752\n"
     ]
    },
    {
     "name": "stdout",
     "output_type": "stream",
     "text": [
      "'NoneType' object has no attribute 'assign'\n"
     ]
    },
    {
     "name": "stderr",
     "output_type": "stream",
     "text": [
      "QUANTAXIS>> The 274 of Total 4457\n",
      "QUANTAXIS>> DOWNLOAD PROGRESS 6.14% \n",
      "QUANTAXIS>> ##JOB02 Now Saving XDXR INFO ==== 000753\n"
     ]
    },
    {
     "name": "stdout",
     "output_type": "stream",
     "text": [
      "'NoneType' object has no attribute 'assign'\n"
     ]
    },
    {
     "name": "stderr",
     "output_type": "stream",
     "text": [
      "QUANTAXIS>> The 275 of Total 4457\n",
      "QUANTAXIS>> DOWNLOAD PROGRESS 6.17% \n",
      "QUANTAXIS>> ##JOB02 Now Saving XDXR INFO ==== 000755\n"
     ]
    },
    {
     "name": "stdout",
     "output_type": "stream",
     "text": [
      "'NoneType' object has no attribute 'assign'\n"
     ]
    },
    {
     "name": "stderr",
     "output_type": "stream",
     "text": [
      "QUANTAXIS>> The 276 of Total 4457\n",
      "QUANTAXIS>> DOWNLOAD PROGRESS 6.19% \n",
      "QUANTAXIS>> ##JOB02 Now Saving XDXR INFO ==== 000756\n"
     ]
    },
    {
     "name": "stdout",
     "output_type": "stream",
     "text": [
      "'NoneType' object has no attribute 'assign'\n"
     ]
    },
    {
     "name": "stderr",
     "output_type": "stream",
     "text": [
      "QUANTAXIS>> The 277 of Total 4457\n",
      "QUANTAXIS>> DOWNLOAD PROGRESS 6.21% \n",
      "QUANTAXIS>> ##JOB02 Now Saving XDXR INFO ==== 000757\n"
     ]
    },
    {
     "name": "stdout",
     "output_type": "stream",
     "text": [
      "'NoneType' object has no attribute 'assign'\n"
     ]
    },
    {
     "name": "stderr",
     "output_type": "stream",
     "text": [
      "QUANTAXIS>> The 278 of Total 4457\n",
      "QUANTAXIS>> DOWNLOAD PROGRESS 6.23% \n",
      "QUANTAXIS>> ##JOB02 Now Saving XDXR INFO ==== 000758\n"
     ]
    },
    {
     "name": "stdout",
     "output_type": "stream",
     "text": [
      "'NoneType' object has no attribute 'assign'\n"
     ]
    },
    {
     "name": "stderr",
     "output_type": "stream",
     "text": [
      "QUANTAXIS>> The 279 of Total 4457\n",
      "QUANTAXIS>> DOWNLOAD PROGRESS 6.25% \n",
      "QUANTAXIS>> ##JOB02 Now Saving XDXR INFO ==== 000759\n"
     ]
    },
    {
     "name": "stdout",
     "output_type": "stream",
     "text": [
      "'NoneType' object has no attribute 'assign'\n"
     ]
    },
    {
     "name": "stderr",
     "output_type": "stream",
     "text": [
      "QUANTAXIS>> The 280 of Total 4457\n",
      "QUANTAXIS>> DOWNLOAD PROGRESS 6.28% \n",
      "QUANTAXIS>> ##JOB02 Now Saving XDXR INFO ==== 000761\n"
     ]
    },
    {
     "name": "stdout",
     "output_type": "stream",
     "text": [
      "'NoneType' object has no attribute 'assign'\n"
     ]
    },
    {
     "name": "stderr",
     "output_type": "stream",
     "text": [
      "QUANTAXIS>> The 281 of Total 4457\n",
      "QUANTAXIS>> DOWNLOAD PROGRESS 6.30% \n",
      "QUANTAXIS>> ##JOB02 Now Saving XDXR INFO ==== 000762\n"
     ]
    },
    {
     "name": "stdout",
     "output_type": "stream",
     "text": [
      "'NoneType' object has no attribute 'assign'\n"
     ]
    },
    {
     "name": "stderr",
     "output_type": "stream",
     "text": [
      "QUANTAXIS>> The 282 of Total 4457\n",
      "QUANTAXIS>> DOWNLOAD PROGRESS 6.32% \n",
      "QUANTAXIS>> ##JOB02 Now Saving XDXR INFO ==== 000766\n"
     ]
    },
    {
     "name": "stdout",
     "output_type": "stream",
     "text": [
      "'NoneType' object has no attribute 'assign'\n"
     ]
    },
    {
     "name": "stderr",
     "output_type": "stream",
     "text": [
      "QUANTAXIS>> The 283 of Total 4457\n",
      "QUANTAXIS>> DOWNLOAD PROGRESS 6.34% \n",
      "QUANTAXIS>> ##JOB02 Now Saving XDXR INFO ==== 000767\n"
     ]
    },
    {
     "name": "stdout",
     "output_type": "stream",
     "text": [
      "'NoneType' object has no attribute 'assign'\n"
     ]
    },
    {
     "name": "stderr",
     "output_type": "stream",
     "text": [
      "QUANTAXIS>> The 284 of Total 4457\n",
      "QUANTAXIS>> DOWNLOAD PROGRESS 6.37% \n",
      "QUANTAXIS>> ##JOB02 Now Saving XDXR INFO ==== 000768\n"
     ]
    },
    {
     "name": "stdout",
     "output_type": "stream",
     "text": [
      "'NoneType' object has no attribute 'assign'\n"
     ]
    },
    {
     "name": "stderr",
     "output_type": "stream",
     "text": [
      "QUANTAXIS>> The 285 of Total 4457\n",
      "QUANTAXIS>> DOWNLOAD PROGRESS 6.39% \n",
      "QUANTAXIS>> ##JOB02 Now Saving XDXR INFO ==== 000776\n"
     ]
    },
    {
     "name": "stdout",
     "output_type": "stream",
     "text": [
      "'NoneType' object has no attribute 'assign'\n"
     ]
    },
    {
     "name": "stderr",
     "output_type": "stream",
     "text": [
      "QUANTAXIS>> The 286 of Total 4457\n",
      "QUANTAXIS>> DOWNLOAD PROGRESS 6.41% \n",
      "QUANTAXIS>> ##JOB02 Now Saving XDXR INFO ==== 000777\n"
     ]
    },
    {
     "name": "stdout",
     "output_type": "stream",
     "text": [
      "'NoneType' object has no attribute 'assign'\n"
     ]
    },
    {
     "name": "stderr",
     "output_type": "stream",
     "text": [
      "QUANTAXIS>> The 287 of Total 4457\n",
      "QUANTAXIS>> DOWNLOAD PROGRESS 6.43% \n",
      "QUANTAXIS>> ##JOB02 Now Saving XDXR INFO ==== 000778\n"
     ]
    },
    {
     "name": "stdout",
     "output_type": "stream",
     "text": [
      "'NoneType' object has no attribute 'assign'\n"
     ]
    },
    {
     "name": "stderr",
     "output_type": "stream",
     "text": [
      "QUANTAXIS>> The 288 of Total 4457\n",
      "QUANTAXIS>> DOWNLOAD PROGRESS 6.46% \n",
      "QUANTAXIS>> ##JOB02 Now Saving XDXR INFO ==== 000779\n"
     ]
    },
    {
     "name": "stdout",
     "output_type": "stream",
     "text": [
      "'NoneType' object has no attribute 'assign'\n"
     ]
    },
    {
     "name": "stderr",
     "output_type": "stream",
     "text": [
      "QUANTAXIS>> The 289 of Total 4457\n",
      "QUANTAXIS>> DOWNLOAD PROGRESS 6.48% \n",
      "QUANTAXIS>> ##JOB02 Now Saving XDXR INFO ==== 000782\n"
     ]
    },
    {
     "name": "stdout",
     "output_type": "stream",
     "text": [
      "'NoneType' object has no attribute 'assign'\n"
     ]
    },
    {
     "name": "stderr",
     "output_type": "stream",
     "text": [
      "QUANTAXIS>> The 290 of Total 4457\n",
      "QUANTAXIS>> DOWNLOAD PROGRESS 6.50% \n",
      "QUANTAXIS>> ##JOB02 Now Saving XDXR INFO ==== 000783\n"
     ]
    },
    {
     "name": "stdout",
     "output_type": "stream",
     "text": [
      "'NoneType' object has no attribute 'assign'\n"
     ]
    },
    {
     "name": "stderr",
     "output_type": "stream",
     "text": [
      "QUANTAXIS>> The 291 of Total 4457\n",
      "QUANTAXIS>> DOWNLOAD PROGRESS 6.52% \n",
      "QUANTAXIS>> ##JOB02 Now Saving XDXR INFO ==== 000785\n"
     ]
    },
    {
     "name": "stdout",
     "output_type": "stream",
     "text": [
      "'NoneType' object has no attribute 'assign'\n"
     ]
    },
    {
     "name": "stderr",
     "output_type": "stream",
     "text": [
      "QUANTAXIS>> The 292 of Total 4457\n",
      "QUANTAXIS>> DOWNLOAD PROGRESS 6.55% \n",
      "QUANTAXIS>> ##JOB02 Now Saving XDXR INFO ==== 000786\n"
     ]
    },
    {
     "name": "stdout",
     "output_type": "stream",
     "text": [
      "'NoneType' object has no attribute 'assign'\n"
     ]
    },
    {
     "name": "stderr",
     "output_type": "stream",
     "text": [
      "QUANTAXIS>> The 293 of Total 4457\n",
      "QUANTAXIS>> DOWNLOAD PROGRESS 6.57% \n",
      "QUANTAXIS>> ##JOB02 Now Saving XDXR INFO ==== 000788\n"
     ]
    },
    {
     "name": "stdout",
     "output_type": "stream",
     "text": [
      "'NoneType' object has no attribute 'assign'\n"
     ]
    },
    {
     "name": "stderr",
     "output_type": "stream",
     "text": [
      "QUANTAXIS>> The 294 of Total 4457\n",
      "QUANTAXIS>> DOWNLOAD PROGRESS 6.59% \n",
      "QUANTAXIS>> ##JOB02 Now Saving XDXR INFO ==== 000789\n"
     ]
    },
    {
     "name": "stdout",
     "output_type": "stream",
     "text": [
      "'NoneType' object has no attribute 'assign'\n"
     ]
    },
    {
     "name": "stderr",
     "output_type": "stream",
     "text": [
      "QUANTAXIS>> The 295 of Total 4457\n",
      "QUANTAXIS>> DOWNLOAD PROGRESS 6.61% \n",
      "QUANTAXIS>> ##JOB02 Now Saving XDXR INFO ==== 000790\n"
     ]
    },
    {
     "name": "stdout",
     "output_type": "stream",
     "text": [
      "'NoneType' object has no attribute 'assign'\n"
     ]
    },
    {
     "name": "stderr",
     "output_type": "stream",
     "text": [
      "QUANTAXIS>> The 296 of Total 4457\n",
      "QUANTAXIS>> DOWNLOAD PROGRESS 6.64% \n",
      "QUANTAXIS>> ##JOB02 Now Saving XDXR INFO ==== 000791\n"
     ]
    },
    {
     "name": "stdout",
     "output_type": "stream",
     "text": [
      "'NoneType' object has no attribute 'assign'\n"
     ]
    },
    {
     "name": "stderr",
     "output_type": "stream",
     "text": [
      "QUANTAXIS>> The 297 of Total 4457\n",
      "QUANTAXIS>> DOWNLOAD PROGRESS 6.66% \n",
      "QUANTAXIS>> ##JOB02 Now Saving XDXR INFO ==== 000792\n"
     ]
    },
    {
     "name": "stdout",
     "output_type": "stream",
     "text": [
      "'NoneType' object has no attribute 'assign'\n"
     ]
    },
    {
     "name": "stderr",
     "output_type": "stream",
     "text": [
      "QUANTAXIS>> The 298 of Total 4457\n",
      "QUANTAXIS>> DOWNLOAD PROGRESS 6.68% \n",
      "QUANTAXIS>> ##JOB02 Now Saving XDXR INFO ==== 000793\n"
     ]
    },
    {
     "name": "stdout",
     "output_type": "stream",
     "text": [
      "'NoneType' object has no attribute 'assign'\n"
     ]
    },
    {
     "name": "stderr",
     "output_type": "stream",
     "text": [
      "QUANTAXIS>> The 299 of Total 4457\n",
      "QUANTAXIS>> DOWNLOAD PROGRESS 6.70% \n",
      "QUANTAXIS>> ##JOB02 Now Saving XDXR INFO ==== 000795\n"
     ]
    },
    {
     "name": "stdout",
     "output_type": "stream",
     "text": [
      "'NoneType' object has no attribute 'assign'\n"
     ]
    },
    {
     "name": "stderr",
     "output_type": "stream",
     "text": [
      "QUANTAXIS>> The 300 of Total 4457\n",
      "QUANTAXIS>> DOWNLOAD PROGRESS 6.73% \n",
      "QUANTAXIS>> ##JOB02 Now Saving XDXR INFO ==== 000796\n"
     ]
    },
    {
     "name": "stdout",
     "output_type": "stream",
     "text": [
      "'NoneType' object has no attribute 'assign'\n"
     ]
    },
    {
     "name": "stderr",
     "output_type": "stream",
     "text": [
      "QUANTAXIS>> The 301 of Total 4457\n",
      "QUANTAXIS>> DOWNLOAD PROGRESS 6.75% \n",
      "QUANTAXIS>> ##JOB02 Now Saving XDXR INFO ==== 000797\n"
     ]
    },
    {
     "name": "stdout",
     "output_type": "stream",
     "text": [
      "'NoneType' object has no attribute 'assign'\n"
     ]
    },
    {
     "name": "stderr",
     "output_type": "stream",
     "text": [
      "QUANTAXIS>> The 302 of Total 4457\n",
      "QUANTAXIS>> DOWNLOAD PROGRESS 6.77% \n",
      "QUANTAXIS>> ##JOB02 Now Saving XDXR INFO ==== 000798\n"
     ]
    },
    {
     "name": "stdout",
     "output_type": "stream",
     "text": [
      "'NoneType' object has no attribute 'assign'\n"
     ]
    },
    {
     "name": "stderr",
     "output_type": "stream",
     "text": [
      "QUANTAXIS>> The 303 of Total 4457\n",
      "QUANTAXIS>> DOWNLOAD PROGRESS 6.79% \n",
      "QUANTAXIS>> ##JOB02 Now Saving XDXR INFO ==== 000799\n"
     ]
    },
    {
     "name": "stdout",
     "output_type": "stream",
     "text": [
      "'NoneType' object has no attribute 'assign'\n"
     ]
    },
    {
     "name": "stderr",
     "output_type": "stream",
     "text": [
      "QUANTAXIS>> The 304 of Total 4457\n",
      "QUANTAXIS>> DOWNLOAD PROGRESS 6.82% \n",
      "QUANTAXIS>> ##JOB02 Now Saving XDXR INFO ==== 000800\n"
     ]
    },
    {
     "name": "stdout",
     "output_type": "stream",
     "text": [
      "'NoneType' object has no attribute 'assign'\n"
     ]
    },
    {
     "name": "stderr",
     "output_type": "stream",
     "text": [
      "QUANTAXIS>> The 305 of Total 4457\n",
      "QUANTAXIS>> DOWNLOAD PROGRESS 6.84% \n",
      "QUANTAXIS>> ##JOB02 Now Saving XDXR INFO ==== 000801\n"
     ]
    },
    {
     "name": "stdout",
     "output_type": "stream",
     "text": [
      "'NoneType' object has no attribute 'assign'\n"
     ]
    },
    {
     "name": "stderr",
     "output_type": "stream",
     "text": [
      "QUANTAXIS>> The 306 of Total 4457\n",
      "QUANTAXIS>> DOWNLOAD PROGRESS 6.86% \n",
      "QUANTAXIS>> ##JOB02 Now Saving XDXR INFO ==== 000802\n"
     ]
    },
    {
     "name": "stdout",
     "output_type": "stream",
     "text": [
      "'NoneType' object has no attribute 'assign'\n"
     ]
    },
    {
     "name": "stderr",
     "output_type": "stream",
     "text": [
      "QUANTAXIS>> The 307 of Total 4457\n",
      "QUANTAXIS>> DOWNLOAD PROGRESS 6.88% \n",
      "QUANTAXIS>> ##JOB02 Now Saving XDXR INFO ==== 000803\n"
     ]
    },
    {
     "name": "stdout",
     "output_type": "stream",
     "text": [
      "'NoneType' object has no attribute 'assign'\n"
     ]
    },
    {
     "name": "stderr",
     "output_type": "stream",
     "text": [
      "QUANTAXIS>> The 308 of Total 4457\n",
      "QUANTAXIS>> DOWNLOAD PROGRESS 6.91% \n",
      "QUANTAXIS>> ##JOB02 Now Saving XDXR INFO ==== 000806\n"
     ]
    },
    {
     "name": "stdout",
     "output_type": "stream",
     "text": [
      "'NoneType' object has no attribute 'assign'\n"
     ]
    },
    {
     "name": "stderr",
     "output_type": "stream",
     "text": [
      "QUANTAXIS>> The 309 of Total 4457\n",
      "QUANTAXIS>> DOWNLOAD PROGRESS 6.93% \n",
      "QUANTAXIS>> ##JOB02 Now Saving XDXR INFO ==== 000807\n"
     ]
    },
    {
     "name": "stdout",
     "output_type": "stream",
     "text": [
      "'NoneType' object has no attribute 'assign'\n"
     ]
    },
    {
     "name": "stderr",
     "output_type": "stream",
     "text": [
      "QUANTAXIS>> The 310 of Total 4457\n",
      "QUANTAXIS>> DOWNLOAD PROGRESS 6.95% \n",
      "QUANTAXIS>> ##JOB02 Now Saving XDXR INFO ==== 000809\n"
     ]
    },
    {
     "name": "stdout",
     "output_type": "stream",
     "text": [
      "'NoneType' object has no attribute 'assign'\n"
     ]
    },
    {
     "name": "stderr",
     "output_type": "stream",
     "text": [
      "QUANTAXIS>> The 311 of Total 4457\n",
      "QUANTAXIS>> DOWNLOAD PROGRESS 6.97% \n",
      "QUANTAXIS>> ##JOB02 Now Saving XDXR INFO ==== 000810\n"
     ]
    },
    {
     "name": "stdout",
     "output_type": "stream",
     "text": [
      "'NoneType' object has no attribute 'assign'\n"
     ]
    },
    {
     "name": "stderr",
     "output_type": "stream",
     "text": [
      "QUANTAXIS>> The 312 of Total 4457\n",
      "QUANTAXIS>> DOWNLOAD PROGRESS 7.00% \n",
      "QUANTAXIS>> ##JOB02 Now Saving XDXR INFO ==== 000811\n"
     ]
    },
    {
     "name": "stdout",
     "output_type": "stream",
     "text": [
      "'NoneType' object has no attribute 'assign'\n"
     ]
    },
    {
     "name": "stderr",
     "output_type": "stream",
     "text": [
      "QUANTAXIS>> The 313 of Total 4457\n",
      "QUANTAXIS>> DOWNLOAD PROGRESS 7.02% \n",
      "QUANTAXIS>> ##JOB02 Now Saving XDXR INFO ==== 000812\n"
     ]
    },
    {
     "name": "stdout",
     "output_type": "stream",
     "text": [
      "'NoneType' object has no attribute 'assign'\n"
     ]
    },
    {
     "name": "stderr",
     "output_type": "stream",
     "text": [
      "QUANTAXIS>> The 314 of Total 4457\n",
      "QUANTAXIS>> DOWNLOAD PROGRESS 7.04% \n",
      "QUANTAXIS>> ##JOB02 Now Saving XDXR INFO ==== 000813\n"
     ]
    },
    {
     "name": "stdout",
     "output_type": "stream",
     "text": [
      "'NoneType' object has no attribute 'assign'\n"
     ]
    },
    {
     "name": "stderr",
     "output_type": "stream",
     "text": [
      "QUANTAXIS>> The 315 of Total 4457\n",
      "QUANTAXIS>> DOWNLOAD PROGRESS 7.06% \n",
      "QUANTAXIS>> ##JOB02 Now Saving XDXR INFO ==== 000815\n"
     ]
    },
    {
     "name": "stdout",
     "output_type": "stream",
     "text": [
      "'NoneType' object has no attribute 'assign'\n"
     ]
    },
    {
     "name": "stderr",
     "output_type": "stream",
     "text": [
      "QUANTAXIS>> The 316 of Total 4457\n",
      "QUANTAXIS>> DOWNLOAD PROGRESS 7.08% \n",
      "QUANTAXIS>> ##JOB02 Now Saving XDXR INFO ==== 000816\n"
     ]
    },
    {
     "name": "stdout",
     "output_type": "stream",
     "text": [
      "'NoneType' object has no attribute 'assign'\n"
     ]
    },
    {
     "name": "stderr",
     "output_type": "stream",
     "text": [
      "QUANTAXIS>> The 317 of Total 4457\n",
      "QUANTAXIS>> DOWNLOAD PROGRESS 7.11% \n",
      "QUANTAXIS>> ##JOB02 Now Saving XDXR INFO ==== 000818\n"
     ]
    },
    {
     "name": "stdout",
     "output_type": "stream",
     "text": [
      "'NoneType' object has no attribute 'assign'\n"
     ]
    },
    {
     "name": "stderr",
     "output_type": "stream",
     "text": [
      "QUANTAXIS>> The 318 of Total 4457\n",
      "QUANTAXIS>> DOWNLOAD PROGRESS 7.13% \n",
      "QUANTAXIS>> ##JOB02 Now Saving XDXR INFO ==== 000819\n"
     ]
    },
    {
     "name": "stdout",
     "output_type": "stream",
     "text": [
      "'NoneType' object has no attribute 'assign'\n"
     ]
    },
    {
     "name": "stderr",
     "output_type": "stream",
     "text": [
      "QUANTAXIS>> The 319 of Total 4457\n",
      "QUANTAXIS>> DOWNLOAD PROGRESS 7.15% \n",
      "QUANTAXIS>> ##JOB02 Now Saving XDXR INFO ==== 000820\n"
     ]
    },
    {
     "name": "stdout",
     "output_type": "stream",
     "text": [
      "'NoneType' object has no attribute 'assign'\n"
     ]
    },
    {
     "name": "stderr",
     "output_type": "stream",
     "text": [
      "QUANTAXIS>> The 320 of Total 4457\n",
      "QUANTAXIS>> DOWNLOAD PROGRESS 7.17% \n",
      "QUANTAXIS>> ##JOB02 Now Saving XDXR INFO ==== 000821\n"
     ]
    },
    {
     "name": "stdout",
     "output_type": "stream",
     "text": [
      "'NoneType' object has no attribute 'assign'\n"
     ]
    },
    {
     "name": "stderr",
     "output_type": "stream",
     "text": [
      "QUANTAXIS>> The 321 of Total 4457\n",
      "QUANTAXIS>> DOWNLOAD PROGRESS 7.20% \n",
      "QUANTAXIS>> ##JOB02 Now Saving XDXR INFO ==== 000822\n"
     ]
    },
    {
     "name": "stdout",
     "output_type": "stream",
     "text": [
      "'NoneType' object has no attribute 'assign'\n"
     ]
    },
    {
     "name": "stderr",
     "output_type": "stream",
     "text": [
      "QUANTAXIS>> The 322 of Total 4457\n",
      "QUANTAXIS>> DOWNLOAD PROGRESS 7.22% \n",
      "QUANTAXIS>> ##JOB02 Now Saving XDXR INFO ==== 000823\n"
     ]
    },
    {
     "name": "stdout",
     "output_type": "stream",
     "text": [
      "'NoneType' object has no attribute 'assign'\n"
     ]
    },
    {
     "name": "stderr",
     "output_type": "stream",
     "text": [
      "QUANTAXIS>> The 323 of Total 4457\n",
      "QUANTAXIS>> DOWNLOAD PROGRESS 7.24% \n",
      "QUANTAXIS>> ##JOB02 Now Saving XDXR INFO ==== 000825\n"
     ]
    },
    {
     "name": "stdout",
     "output_type": "stream",
     "text": [
      "'NoneType' object has no attribute 'assign'\n"
     ]
    },
    {
     "name": "stderr",
     "output_type": "stream",
     "text": [
      "QUANTAXIS>> The 324 of Total 4457\n",
      "QUANTAXIS>> DOWNLOAD PROGRESS 7.26% \n",
      "QUANTAXIS>> ##JOB02 Now Saving XDXR INFO ==== 000826\n"
     ]
    },
    {
     "name": "stdout",
     "output_type": "stream",
     "text": [
      "'NoneType' object has no attribute 'assign'\n"
     ]
    },
    {
     "name": "stderr",
     "output_type": "stream",
     "text": [
      "QUANTAXIS>> The 325 of Total 4457\n",
      "QUANTAXIS>> DOWNLOAD PROGRESS 7.29% \n",
      "QUANTAXIS>> ##JOB02 Now Saving XDXR INFO ==== 000828\n"
     ]
    },
    {
     "name": "stdout",
     "output_type": "stream",
     "text": [
      "'NoneType' object has no attribute 'assign'\n"
     ]
    },
    {
     "name": "stderr",
     "output_type": "stream",
     "text": [
      "QUANTAXIS>> The 326 of Total 4457\n",
      "QUANTAXIS>> DOWNLOAD PROGRESS 7.31% \n",
      "QUANTAXIS>> ##JOB02 Now Saving XDXR INFO ==== 000829\n"
     ]
    },
    {
     "name": "stdout",
     "output_type": "stream",
     "text": [
      "'NoneType' object has no attribute 'assign'\n"
     ]
    },
    {
     "name": "stderr",
     "output_type": "stream",
     "text": [
      "QUANTAXIS>> The 327 of Total 4457\n",
      "QUANTAXIS>> DOWNLOAD PROGRESS 7.33% \n",
      "QUANTAXIS>> ##JOB02 Now Saving XDXR INFO ==== 000830\n"
     ]
    },
    {
     "name": "stdout",
     "output_type": "stream",
     "text": [
      "'NoneType' object has no attribute 'assign'\n"
     ]
    },
    {
     "name": "stderr",
     "output_type": "stream",
     "text": [
      "QUANTAXIS>> The 328 of Total 4457\n",
      "QUANTAXIS>> DOWNLOAD PROGRESS 7.35% \n",
      "QUANTAXIS>> ##JOB02 Now Saving XDXR INFO ==== 000831\n"
     ]
    },
    {
     "name": "stdout",
     "output_type": "stream",
     "text": [
      "'NoneType' object has no attribute 'assign'\n"
     ]
    },
    {
     "name": "stderr",
     "output_type": "stream",
     "text": [
      "QUANTAXIS>> The 329 of Total 4457\n",
      "QUANTAXIS>> DOWNLOAD PROGRESS 7.38% \n",
      "QUANTAXIS>> ##JOB02 Now Saving XDXR INFO ==== 000833\n"
     ]
    },
    {
     "name": "stdout",
     "output_type": "stream",
     "text": [
      "'NoneType' object has no attribute 'assign'\n"
     ]
    },
    {
     "name": "stderr",
     "output_type": "stream",
     "text": [
      "QUANTAXIS>> The 330 of Total 4457\n",
      "QUANTAXIS>> DOWNLOAD PROGRESS 7.40% \n",
      "QUANTAXIS>> ##JOB02 Now Saving XDXR INFO ==== 000836\n"
     ]
    },
    {
     "name": "stdout",
     "output_type": "stream",
     "text": [
      "'NoneType' object has no attribute 'assign'\n"
     ]
    },
    {
     "name": "stderr",
     "output_type": "stream",
     "text": [
      "QUANTAXIS>> The 331 of Total 4457\n",
      "QUANTAXIS>> DOWNLOAD PROGRESS 7.42% \n",
      "QUANTAXIS>> ##JOB02 Now Saving XDXR INFO ==== 000837\n"
     ]
    },
    {
     "name": "stdout",
     "output_type": "stream",
     "text": [
      "'NoneType' object has no attribute 'assign'\n"
     ]
    },
    {
     "name": "stderr",
     "output_type": "stream",
     "text": [
      "QUANTAXIS>> The 332 of Total 4457\n",
      "QUANTAXIS>> DOWNLOAD PROGRESS 7.44% \n",
      "QUANTAXIS>> ##JOB02 Now Saving XDXR INFO ==== 000838\n"
     ]
    },
    {
     "name": "stdout",
     "output_type": "stream",
     "text": [
      "'NoneType' object has no attribute 'assign'\n"
     ]
    },
    {
     "name": "stderr",
     "output_type": "stream",
     "text": [
      "QUANTAXIS>> The 333 of Total 4457\n",
      "QUANTAXIS>> DOWNLOAD PROGRESS 7.47% \n",
      "QUANTAXIS>> ##JOB02 Now Saving XDXR INFO ==== 000839\n"
     ]
    },
    {
     "name": "stdout",
     "output_type": "stream",
     "text": [
      "'NoneType' object has no attribute 'assign'\n"
     ]
    },
    {
     "name": "stderr",
     "output_type": "stream",
     "text": [
      "QUANTAXIS>> The 334 of Total 4457\n",
      "QUANTAXIS>> DOWNLOAD PROGRESS 7.49% \n",
      "QUANTAXIS>> ##JOB02 Now Saving XDXR INFO ==== 000848\n"
     ]
    },
    {
     "name": "stdout",
     "output_type": "stream",
     "text": [
      "'NoneType' object has no attribute 'assign'\n"
     ]
    },
    {
     "name": "stderr",
     "output_type": "stream",
     "text": [
      "QUANTAXIS>> The 335 of Total 4457\n",
      "QUANTAXIS>> DOWNLOAD PROGRESS 7.51% \n",
      "QUANTAXIS>> ##JOB02 Now Saving XDXR INFO ==== 000850\n"
     ]
    },
    {
     "name": "stdout",
     "output_type": "stream",
     "text": [
      "'NoneType' object has no attribute 'assign'\n"
     ]
    },
    {
     "name": "stderr",
     "output_type": "stream",
     "text": [
      "QUANTAXIS>> The 336 of Total 4457\n",
      "QUANTAXIS>> DOWNLOAD PROGRESS 7.53% \n",
      "QUANTAXIS>> ##JOB02 Now Saving XDXR INFO ==== 000851\n"
     ]
    },
    {
     "name": "stdout",
     "output_type": "stream",
     "text": [
      "'NoneType' object has no attribute 'assign'\n"
     ]
    },
    {
     "name": "stderr",
     "output_type": "stream",
     "text": [
      "QUANTAXIS>> The 337 of Total 4457\n",
      "QUANTAXIS>> DOWNLOAD PROGRESS 7.56% \n",
      "QUANTAXIS>> ##JOB02 Now Saving XDXR INFO ==== 000852\n"
     ]
    },
    {
     "name": "stdout",
     "output_type": "stream",
     "text": [
      "'NoneType' object has no attribute 'assign'\n"
     ]
    },
    {
     "name": "stderr",
     "output_type": "stream",
     "text": [
      "QUANTAXIS>> The 338 of Total 4457\n",
      "QUANTAXIS>> DOWNLOAD PROGRESS 7.58% \n",
      "QUANTAXIS>> ##JOB02 Now Saving XDXR INFO ==== 000856\n"
     ]
    },
    {
     "name": "stdout",
     "output_type": "stream",
     "text": [
      "'NoneType' object has no attribute 'assign'\n"
     ]
    },
    {
     "name": "stderr",
     "output_type": "stream",
     "text": [
      "QUANTAXIS>> The 339 of Total 4457\n",
      "QUANTAXIS>> DOWNLOAD PROGRESS 7.60% \n",
      "QUANTAXIS>> ##JOB02 Now Saving XDXR INFO ==== 000858\n"
     ]
    },
    {
     "name": "stdout",
     "output_type": "stream",
     "text": [
      "'NoneType' object has no attribute 'assign'\n"
     ]
    },
    {
     "name": "stderr",
     "output_type": "stream",
     "text": [
      "QUANTAXIS>> The 340 of Total 4457\n",
      "QUANTAXIS>> DOWNLOAD PROGRESS 7.62% \n",
      "QUANTAXIS>> ##JOB02 Now Saving XDXR INFO ==== 000859\n"
     ]
    },
    {
     "name": "stdout",
     "output_type": "stream",
     "text": [
      "'NoneType' object has no attribute 'assign'\n"
     ]
    },
    {
     "name": "stderr",
     "output_type": "stream",
     "text": [
      "QUANTAXIS>> The 341 of Total 4457\n",
      "QUANTAXIS>> DOWNLOAD PROGRESS 7.65% \n",
      "QUANTAXIS>> ##JOB02 Now Saving XDXR INFO ==== 000860\n"
     ]
    },
    {
     "name": "stdout",
     "output_type": "stream",
     "text": [
      "'NoneType' object has no attribute 'assign'\n"
     ]
    },
    {
     "name": "stderr",
     "output_type": "stream",
     "text": [
      "QUANTAXIS>> The 342 of Total 4457\n",
      "QUANTAXIS>> DOWNLOAD PROGRESS 7.67% \n",
      "QUANTAXIS>> ##JOB02 Now Saving XDXR INFO ==== 000861\n"
     ]
    },
    {
     "name": "stdout",
     "output_type": "stream",
     "text": [
      "'NoneType' object has no attribute 'assign'\n"
     ]
    },
    {
     "name": "stderr",
     "output_type": "stream",
     "text": [
      "QUANTAXIS>> The 343 of Total 4457\n",
      "QUANTAXIS>> DOWNLOAD PROGRESS 7.69% \n",
      "QUANTAXIS>> ##JOB02 Now Saving XDXR INFO ==== 000862\n"
     ]
    },
    {
     "name": "stdout",
     "output_type": "stream",
     "text": [
      "'NoneType' object has no attribute 'assign'\n"
     ]
    },
    {
     "name": "stderr",
     "output_type": "stream",
     "text": [
      "QUANTAXIS>> The 344 of Total 4457\n",
      "QUANTAXIS>> DOWNLOAD PROGRESS 7.71% \n",
      "QUANTAXIS>> ##JOB02 Now Saving XDXR INFO ==== 000863\n"
     ]
    },
    {
     "name": "stdout",
     "output_type": "stream",
     "text": [
      "'NoneType' object has no attribute 'assign'\n"
     ]
    },
    {
     "name": "stderr",
     "output_type": "stream",
     "text": [
      "QUANTAXIS>> The 345 of Total 4457\n",
      "QUANTAXIS>> DOWNLOAD PROGRESS 7.74% \n",
      "QUANTAXIS>> ##JOB02 Now Saving XDXR INFO ==== 000868\n"
     ]
    },
    {
     "name": "stdout",
     "output_type": "stream",
     "text": [
      "'NoneType' object has no attribute 'assign'\n"
     ]
    },
    {
     "name": "stderr",
     "output_type": "stream",
     "text": [
      "QUANTAXIS>> The 346 of Total 4457\n",
      "QUANTAXIS>> DOWNLOAD PROGRESS 7.76% \n",
      "QUANTAXIS>> ##JOB02 Now Saving XDXR INFO ==== 000869\n"
     ]
    },
    {
     "name": "stdout",
     "output_type": "stream",
     "text": [
      "'NoneType' object has no attribute 'assign'\n"
     ]
    },
    {
     "name": "stderr",
     "output_type": "stream",
     "text": [
      "QUANTAXIS>> The 347 of Total 4457\n",
      "QUANTAXIS>> DOWNLOAD PROGRESS 7.78% \n",
      "QUANTAXIS>> ##JOB02 Now Saving XDXR INFO ==== 000875\n"
     ]
    },
    {
     "name": "stdout",
     "output_type": "stream",
     "text": [
      "'NoneType' object has no attribute 'assign'\n"
     ]
    },
    {
     "name": "stderr",
     "output_type": "stream",
     "text": [
      "QUANTAXIS>> The 348 of Total 4457\n",
      "QUANTAXIS>> DOWNLOAD PROGRESS 7.80% \n",
      "QUANTAXIS>> ##JOB02 Now Saving XDXR INFO ==== 000876\n"
     ]
    },
    {
     "name": "stdout",
     "output_type": "stream",
     "text": [
      "'NoneType' object has no attribute 'assign'\n"
     ]
    },
    {
     "name": "stderr",
     "output_type": "stream",
     "text": [
      "QUANTAXIS>> The 349 of Total 4457\n",
      "QUANTAXIS>> DOWNLOAD PROGRESS 7.83% \n",
      "QUANTAXIS>> ##JOB02 Now Saving XDXR INFO ==== 000877\n"
     ]
    },
    {
     "name": "stdout",
     "output_type": "stream",
     "text": [
      "'NoneType' object has no attribute 'assign'\n"
     ]
    },
    {
     "name": "stderr",
     "output_type": "stream",
     "text": [
      "QUANTAXIS>> The 350 of Total 4457\n",
      "QUANTAXIS>> DOWNLOAD PROGRESS 7.85% \n",
      "QUANTAXIS>> ##JOB02 Now Saving XDXR INFO ==== 000878\n"
     ]
    },
    {
     "name": "stdout",
     "output_type": "stream",
     "text": [
      "'NoneType' object has no attribute 'assign'\n"
     ]
    },
    {
     "name": "stderr",
     "output_type": "stream",
     "text": [
      "QUANTAXIS>> The 351 of Total 4457\n",
      "QUANTAXIS>> DOWNLOAD PROGRESS 7.87% \n",
      "QUANTAXIS>> ##JOB02 Now Saving XDXR INFO ==== 000880\n"
     ]
    },
    {
     "name": "stdout",
     "output_type": "stream",
     "text": [
      "'NoneType' object has no attribute 'assign'\n"
     ]
    },
    {
     "name": "stderr",
     "output_type": "stream",
     "text": [
      "QUANTAXIS>> The 352 of Total 4457\n",
      "QUANTAXIS>> DOWNLOAD PROGRESS 7.89% \n",
      "QUANTAXIS>> ##JOB02 Now Saving XDXR INFO ==== 000881\n"
     ]
    },
    {
     "name": "stdout",
     "output_type": "stream",
     "text": [
      "'NoneType' object has no attribute 'assign'\n"
     ]
    },
    {
     "name": "stderr",
     "output_type": "stream",
     "text": [
      "QUANTAXIS>> The 353 of Total 4457\n",
      "QUANTAXIS>> DOWNLOAD PROGRESS 7.92% \n",
      "QUANTAXIS>> ##JOB02 Now Saving XDXR INFO ==== 000882\n"
     ]
    },
    {
     "name": "stdout",
     "output_type": "stream",
     "text": [
      "'NoneType' object has no attribute 'assign'\n"
     ]
    },
    {
     "name": "stderr",
     "output_type": "stream",
     "text": [
      "QUANTAXIS>> The 354 of Total 4457\n",
      "QUANTAXIS>> DOWNLOAD PROGRESS 7.94% \n",
      "QUANTAXIS>> ##JOB02 Now Saving XDXR INFO ==== 000883\n"
     ]
    },
    {
     "name": "stdout",
     "output_type": "stream",
     "text": [
      "'NoneType' object has no attribute 'assign'\n"
     ]
    },
    {
     "name": "stderr",
     "output_type": "stream",
     "text": [
      "QUANTAXIS>> The 355 of Total 4457\n",
      "QUANTAXIS>> DOWNLOAD PROGRESS 7.96% \n",
      "QUANTAXIS>> ##JOB02 Now Saving XDXR INFO ==== 000885\n"
     ]
    },
    {
     "name": "stdout",
     "output_type": "stream",
     "text": [
      "'NoneType' object has no attribute 'assign'\n"
     ]
    },
    {
     "name": "stderr",
     "output_type": "stream",
     "text": [
      "QUANTAXIS>> The 356 of Total 4457\n",
      "QUANTAXIS>> DOWNLOAD PROGRESS 7.98% \n",
      "QUANTAXIS>> ##JOB02 Now Saving XDXR INFO ==== 000886\n"
     ]
    },
    {
     "name": "stdout",
     "output_type": "stream",
     "text": [
      "'NoneType' object has no attribute 'assign'\n"
     ]
    },
    {
     "name": "stderr",
     "output_type": "stream",
     "text": [
      "QUANTAXIS>> The 357 of Total 4457\n",
      "QUANTAXIS>> DOWNLOAD PROGRESS 8.00% \n",
      "QUANTAXIS>> ##JOB02 Now Saving XDXR INFO ==== 000887\n"
     ]
    },
    {
     "name": "stdout",
     "output_type": "stream",
     "text": [
      "'NoneType' object has no attribute 'assign'\n"
     ]
    },
    {
     "name": "stderr",
     "output_type": "stream",
     "text": [
      "QUANTAXIS>> The 358 of Total 4457\n",
      "QUANTAXIS>> DOWNLOAD PROGRESS 8.03% \n",
      "QUANTAXIS>> ##JOB02 Now Saving XDXR INFO ==== 000888\n"
     ]
    },
    {
     "name": "stdout",
     "output_type": "stream",
     "text": [
      "'NoneType' object has no attribute 'assign'\n"
     ]
    },
    {
     "name": "stderr",
     "output_type": "stream",
     "text": [
      "QUANTAXIS>> The 359 of Total 4457\n",
      "QUANTAXIS>> DOWNLOAD PROGRESS 8.05% \n",
      "QUANTAXIS>> ##JOB02 Now Saving XDXR INFO ==== 000889\n"
     ]
    },
    {
     "name": "stdout",
     "output_type": "stream",
     "text": [
      "'NoneType' object has no attribute 'assign'\n"
     ]
    },
    {
     "name": "stderr",
     "output_type": "stream",
     "text": [
      "QUANTAXIS>> The 360 of Total 4457\n",
      "QUANTAXIS>> DOWNLOAD PROGRESS 8.07% \n",
      "QUANTAXIS>> ##JOB02 Now Saving XDXR INFO ==== 000890\n"
     ]
    },
    {
     "name": "stdout",
     "output_type": "stream",
     "text": [
      "'NoneType' object has no attribute 'assign'\n"
     ]
    },
    {
     "name": "stderr",
     "output_type": "stream",
     "text": [
      "QUANTAXIS>> The 361 of Total 4457\n",
      "QUANTAXIS>> DOWNLOAD PROGRESS 8.09% \n",
      "QUANTAXIS>> ##JOB02 Now Saving XDXR INFO ==== 000892\n"
     ]
    },
    {
     "name": "stdout",
     "output_type": "stream",
     "text": [
      "'NoneType' object has no attribute 'assign'\n"
     ]
    },
    {
     "name": "stderr",
     "output_type": "stream",
     "text": [
      "QUANTAXIS>> The 362 of Total 4457\n",
      "QUANTAXIS>> DOWNLOAD PROGRESS 8.12% \n",
      "QUANTAXIS>> ##JOB02 Now Saving XDXR INFO ==== 000893\n"
     ]
    },
    {
     "name": "stdout",
     "output_type": "stream",
     "text": [
      "'NoneType' object has no attribute 'assign'\n"
     ]
    },
    {
     "name": "stderr",
     "output_type": "stream",
     "text": [
      "QUANTAXIS>> The 363 of Total 4457\n",
      "QUANTAXIS>> DOWNLOAD PROGRESS 8.14% \n",
      "QUANTAXIS>> ##JOB02 Now Saving XDXR INFO ==== 000895\n"
     ]
    },
    {
     "name": "stdout",
     "output_type": "stream",
     "text": [
      "'NoneType' object has no attribute 'assign'\n"
     ]
    },
    {
     "name": "stderr",
     "output_type": "stream",
     "text": [
      "QUANTAXIS>> The 364 of Total 4457\n",
      "QUANTAXIS>> DOWNLOAD PROGRESS 8.16% \n",
      "QUANTAXIS>> ##JOB02 Now Saving XDXR INFO ==== 000897\n"
     ]
    },
    {
     "name": "stdout",
     "output_type": "stream",
     "text": [
      "'NoneType' object has no attribute 'assign'\n"
     ]
    },
    {
     "name": "stderr",
     "output_type": "stream",
     "text": [
      "QUANTAXIS>> The 365 of Total 4457\n",
      "QUANTAXIS>> DOWNLOAD PROGRESS 8.18% \n",
      "QUANTAXIS>> ##JOB02 Now Saving XDXR INFO ==== 000898\n"
     ]
    },
    {
     "name": "stdout",
     "output_type": "stream",
     "text": [
      "'NoneType' object has no attribute 'assign'\n"
     ]
    },
    {
     "name": "stderr",
     "output_type": "stream",
     "text": [
      "QUANTAXIS>> The 366 of Total 4457\n",
      "QUANTAXIS>> DOWNLOAD PROGRESS 8.21% \n",
      "QUANTAXIS>> ##JOB02 Now Saving XDXR INFO ==== 000899\n"
     ]
    },
    {
     "name": "stdout",
     "output_type": "stream",
     "text": [
      "'NoneType' object has no attribute 'assign'\n"
     ]
    },
    {
     "name": "stderr",
     "output_type": "stream",
     "text": [
      "QUANTAXIS>> The 367 of Total 4457\n",
      "QUANTAXIS>> DOWNLOAD PROGRESS 8.23% \n",
      "QUANTAXIS>> ##JOB02 Now Saving XDXR INFO ==== 000900\n"
     ]
    },
    {
     "name": "stdout",
     "output_type": "stream",
     "text": [
      "'NoneType' object has no attribute 'assign'\n"
     ]
    },
    {
     "name": "stderr",
     "output_type": "stream",
     "text": [
      "QUANTAXIS>> The 368 of Total 4457\n",
      "QUANTAXIS>> DOWNLOAD PROGRESS 8.25% \n",
      "QUANTAXIS>> ##JOB02 Now Saving XDXR INFO ==== 000901\n"
     ]
    },
    {
     "name": "stdout",
     "output_type": "stream",
     "text": [
      "'NoneType' object has no attribute 'assign'\n"
     ]
    },
    {
     "name": "stderr",
     "output_type": "stream",
     "text": [
      "QUANTAXIS>> The 369 of Total 4457\n",
      "QUANTAXIS>> DOWNLOAD PROGRESS 8.27% \n",
      "QUANTAXIS>> ##JOB02 Now Saving XDXR INFO ==== 000902\n"
     ]
    },
    {
     "name": "stdout",
     "output_type": "stream",
     "text": [
      "'NoneType' object has no attribute 'assign'\n"
     ]
    },
    {
     "name": "stderr",
     "output_type": "stream",
     "text": [
      "QUANTAXIS>> The 370 of Total 4457\n",
      "QUANTAXIS>> DOWNLOAD PROGRESS 8.30% \n",
      "QUANTAXIS>> ##JOB02 Now Saving XDXR INFO ==== 000903\n"
     ]
    },
    {
     "name": "stdout",
     "output_type": "stream",
     "text": [
      "'NoneType' object has no attribute 'assign'\n"
     ]
    },
    {
     "name": "stderr",
     "output_type": "stream",
     "text": [
      "QUANTAXIS>> The 371 of Total 4457\n",
      "QUANTAXIS>> DOWNLOAD PROGRESS 8.32% \n",
      "QUANTAXIS>> ##JOB02 Now Saving XDXR INFO ==== 000905\n"
     ]
    },
    {
     "name": "stdout",
     "output_type": "stream",
     "text": [
      "'NoneType' object has no attribute 'assign'\n"
     ]
    },
    {
     "name": "stderr",
     "output_type": "stream",
     "text": [
      "QUANTAXIS>> The 372 of Total 4457\n",
      "QUANTAXIS>> DOWNLOAD PROGRESS 8.34% \n",
      "QUANTAXIS>> ##JOB02 Now Saving XDXR INFO ==== 000906\n"
     ]
    },
    {
     "name": "stdout",
     "output_type": "stream",
     "text": [
      "'NoneType' object has no attribute 'assign'\n"
     ]
    },
    {
     "name": "stderr",
     "output_type": "stream",
     "text": [
      "QUANTAXIS>> The 373 of Total 4457\n",
      "QUANTAXIS>> DOWNLOAD PROGRESS 8.36% \n",
      "QUANTAXIS>> ##JOB02 Now Saving XDXR INFO ==== 000908\n"
     ]
    },
    {
     "name": "stdout",
     "output_type": "stream",
     "text": [
      "'NoneType' object has no attribute 'assign'\n"
     ]
    },
    {
     "name": "stderr",
     "output_type": "stream",
     "text": [
      "QUANTAXIS>> The 374 of Total 4457\n",
      "QUANTAXIS>> DOWNLOAD PROGRESS 8.39% \n",
      "QUANTAXIS>> ##JOB02 Now Saving XDXR INFO ==== 000909\n"
     ]
    },
    {
     "name": "stdout",
     "output_type": "stream",
     "text": [
      "'NoneType' object has no attribute 'assign'\n"
     ]
    },
    {
     "name": "stderr",
     "output_type": "stream",
     "text": [
      "QUANTAXIS>> The 375 of Total 4457\n",
      "QUANTAXIS>> DOWNLOAD PROGRESS 8.41% \n",
      "QUANTAXIS>> ##JOB02 Now Saving XDXR INFO ==== 000910\n"
     ]
    },
    {
     "name": "stdout",
     "output_type": "stream",
     "text": [
      "'NoneType' object has no attribute 'assign'\n"
     ]
    },
    {
     "name": "stderr",
     "output_type": "stream",
     "text": [
      "QUANTAXIS>> The 376 of Total 4457\n",
      "QUANTAXIS>> DOWNLOAD PROGRESS 8.43% \n",
      "QUANTAXIS>> ##JOB02 Now Saving XDXR INFO ==== 000911\n"
     ]
    },
    {
     "name": "stdout",
     "output_type": "stream",
     "text": [
      "'NoneType' object has no attribute 'assign'\n"
     ]
    },
    {
     "name": "stderr",
     "output_type": "stream",
     "text": [
      "QUANTAXIS>> The 377 of Total 4457\n",
      "QUANTAXIS>> DOWNLOAD PROGRESS 8.45% \n",
      "QUANTAXIS>> ##JOB02 Now Saving XDXR INFO ==== 000912\n"
     ]
    },
    {
     "name": "stdout",
     "output_type": "stream",
     "text": [
      "'NoneType' object has no attribute 'assign'\n"
     ]
    },
    {
     "name": "stderr",
     "output_type": "stream",
     "text": [
      "QUANTAXIS>> The 378 of Total 4457\n",
      "QUANTAXIS>> DOWNLOAD PROGRESS 8.48% \n",
      "QUANTAXIS>> ##JOB02 Now Saving XDXR INFO ==== 000913\n"
     ]
    },
    {
     "name": "stdout",
     "output_type": "stream",
     "text": [
      "'NoneType' object has no attribute 'assign'\n"
     ]
    },
    {
     "name": "stderr",
     "output_type": "stream",
     "text": [
      "QUANTAXIS>> The 379 of Total 4457\n",
      "QUANTAXIS>> DOWNLOAD PROGRESS 8.50% \n",
      "QUANTAXIS>> ##JOB02 Now Saving XDXR INFO ==== 000915\n"
     ]
    },
    {
     "name": "stdout",
     "output_type": "stream",
     "text": [
      "'NoneType' object has no attribute 'assign'\n"
     ]
    },
    {
     "name": "stderr",
     "output_type": "stream",
     "text": [
      "QUANTAXIS>> The 380 of Total 4457\n",
      "QUANTAXIS>> DOWNLOAD PROGRESS 8.52% \n",
      "QUANTAXIS>> ##JOB02 Now Saving XDXR INFO ==== 000917\n"
     ]
    },
    {
     "name": "stdout",
     "output_type": "stream",
     "text": [
      "'NoneType' object has no attribute 'assign'\n"
     ]
    },
    {
     "name": "stderr",
     "output_type": "stream",
     "text": [
      "QUANTAXIS>> The 381 of Total 4457\n",
      "QUANTAXIS>> DOWNLOAD PROGRESS 8.54% \n",
      "QUANTAXIS>> ##JOB02 Now Saving XDXR INFO ==== 000918\n"
     ]
    },
    {
     "name": "stdout",
     "output_type": "stream",
     "text": [
      "'NoneType' object has no attribute 'assign'\n"
     ]
    },
    {
     "name": "stderr",
     "output_type": "stream",
     "text": [
      "QUANTAXIS>> The 382 of Total 4457\n",
      "QUANTAXIS>> DOWNLOAD PROGRESS 8.57% \n",
      "QUANTAXIS>> ##JOB02 Now Saving XDXR INFO ==== 000919\n"
     ]
    },
    {
     "name": "stdout",
     "output_type": "stream",
     "text": [
      "'NoneType' object has no attribute 'assign'\n"
     ]
    },
    {
     "name": "stderr",
     "output_type": "stream",
     "text": [
      "QUANTAXIS>> The 383 of Total 4457\n",
      "QUANTAXIS>> DOWNLOAD PROGRESS 8.59% \n",
      "QUANTAXIS>> ##JOB02 Now Saving XDXR INFO ==== 000920\n"
     ]
    },
    {
     "name": "stdout",
     "output_type": "stream",
     "text": [
      "'NoneType' object has no attribute 'assign'\n"
     ]
    },
    {
     "name": "stderr",
     "output_type": "stream",
     "text": [
      "QUANTAXIS>> The 384 of Total 4457\n",
      "QUANTAXIS>> DOWNLOAD PROGRESS 8.61% \n",
      "QUANTAXIS>> ##JOB02 Now Saving XDXR INFO ==== 000921\n"
     ]
    },
    {
     "name": "stdout",
     "output_type": "stream",
     "text": [
      "'NoneType' object has no attribute 'assign'\n"
     ]
    },
    {
     "name": "stderr",
     "output_type": "stream",
     "text": [
      "QUANTAXIS>> The 385 of Total 4457\n",
      "QUANTAXIS>> DOWNLOAD PROGRESS 8.63% \n",
      "QUANTAXIS>> ##JOB02 Now Saving XDXR INFO ==== 000922\n"
     ]
    },
    {
     "name": "stdout",
     "output_type": "stream",
     "text": [
      "'NoneType' object has no attribute 'assign'\n"
     ]
    },
    {
     "name": "stderr",
     "output_type": "stream",
     "text": [
      "QUANTAXIS>> The 386 of Total 4457\n",
      "QUANTAXIS>> DOWNLOAD PROGRESS 8.66% \n",
      "QUANTAXIS>> ##JOB02 Now Saving XDXR INFO ==== 000923\n"
     ]
    },
    {
     "name": "stdout",
     "output_type": "stream",
     "text": [
      "'NoneType' object has no attribute 'assign'\n"
     ]
    },
    {
     "name": "stderr",
     "output_type": "stream",
     "text": [
      "QUANTAXIS>> The 387 of Total 4457\n",
      "QUANTAXIS>> DOWNLOAD PROGRESS 8.68% \n",
      "QUANTAXIS>> ##JOB02 Now Saving XDXR INFO ==== 000925\n"
     ]
    },
    {
     "name": "stdout",
     "output_type": "stream",
     "text": [
      "'NoneType' object has no attribute 'assign'\n"
     ]
    },
    {
     "name": "stderr",
     "output_type": "stream",
     "text": [
      "QUANTAXIS>> The 388 of Total 4457\n",
      "QUANTAXIS>> DOWNLOAD PROGRESS 8.70% \n",
      "QUANTAXIS>> ##JOB02 Now Saving XDXR INFO ==== 000926\n"
     ]
    },
    {
     "name": "stdout",
     "output_type": "stream",
     "text": [
      "'NoneType' object has no attribute 'assign'\n"
     ]
    },
    {
     "name": "stderr",
     "output_type": "stream",
     "text": [
      "QUANTAXIS>> The 389 of Total 4457\n",
      "QUANTAXIS>> DOWNLOAD PROGRESS 8.72% \n",
      "QUANTAXIS>> ##JOB02 Now Saving XDXR INFO ==== 000927\n"
     ]
    },
    {
     "name": "stdout",
     "output_type": "stream",
     "text": [
      "'NoneType' object has no attribute 'assign'\n"
     ]
    },
    {
     "name": "stderr",
     "output_type": "stream",
     "text": [
      "QUANTAXIS>> The 390 of Total 4457\n",
      "QUANTAXIS>> DOWNLOAD PROGRESS 8.75% \n",
      "QUANTAXIS>> ##JOB02 Now Saving XDXR INFO ==== 000928\n"
     ]
    },
    {
     "name": "stdout",
     "output_type": "stream",
     "text": [
      "'NoneType' object has no attribute 'assign'\n"
     ]
    },
    {
     "name": "stderr",
     "output_type": "stream",
     "text": [
      "QUANTAXIS>> The 391 of Total 4457\n",
      "QUANTAXIS>> DOWNLOAD PROGRESS 8.77% \n",
      "QUANTAXIS>> ##JOB02 Now Saving XDXR INFO ==== 000929\n"
     ]
    },
    {
     "name": "stdout",
     "output_type": "stream",
     "text": [
      "'NoneType' object has no attribute 'assign'\n"
     ]
    },
    {
     "name": "stderr",
     "output_type": "stream",
     "text": [
      "QUANTAXIS>> The 392 of Total 4457\n",
      "QUANTAXIS>> DOWNLOAD PROGRESS 8.79% \n",
      "QUANTAXIS>> ##JOB02 Now Saving XDXR INFO ==== 000930\n"
     ]
    },
    {
     "name": "stdout",
     "output_type": "stream",
     "text": [
      "'NoneType' object has no attribute 'assign'\n"
     ]
    },
    {
     "name": "stderr",
     "output_type": "stream",
     "text": [
      "QUANTAXIS>> The 393 of Total 4457\n",
      "QUANTAXIS>> DOWNLOAD PROGRESS 8.81% \n",
      "QUANTAXIS>> ##JOB02 Now Saving XDXR INFO ==== 000931\n"
     ]
    },
    {
     "name": "stdout",
     "output_type": "stream",
     "text": [
      "'NoneType' object has no attribute 'assign'\n"
     ]
    },
    {
     "name": "stderr",
     "output_type": "stream",
     "text": [
      "QUANTAXIS>> The 394 of Total 4457\n",
      "QUANTAXIS>> DOWNLOAD PROGRESS 8.84% \n",
      "QUANTAXIS>> ##JOB02 Now Saving XDXR INFO ==== 000932\n"
     ]
    },
    {
     "name": "stdout",
     "output_type": "stream",
     "text": [
      "'NoneType' object has no attribute 'assign'\n"
     ]
    },
    {
     "name": "stderr",
     "output_type": "stream",
     "text": [
      "QUANTAXIS>> The 395 of Total 4457\n",
      "QUANTAXIS>> DOWNLOAD PROGRESS 8.86% \n",
      "QUANTAXIS>> ##JOB02 Now Saving XDXR INFO ==== 000933\n"
     ]
    },
    {
     "name": "stdout",
     "output_type": "stream",
     "text": [
      "'NoneType' object has no attribute 'assign'\n"
     ]
    },
    {
     "name": "stderr",
     "output_type": "stream",
     "text": [
      "QUANTAXIS>> The 396 of Total 4457\n",
      "QUANTAXIS>> DOWNLOAD PROGRESS 8.88% \n",
      "QUANTAXIS>> ##JOB02 Now Saving XDXR INFO ==== 000935\n"
     ]
    },
    {
     "name": "stdout",
     "output_type": "stream",
     "text": [
      "'NoneType' object has no attribute 'assign'\n"
     ]
    },
    {
     "name": "stderr",
     "output_type": "stream",
     "text": [
      "QUANTAXIS>> The 397 of Total 4457\n",
      "QUANTAXIS>> DOWNLOAD PROGRESS 8.90% \n",
      "QUANTAXIS>> ##JOB02 Now Saving XDXR INFO ==== 000936\n"
     ]
    },
    {
     "name": "stdout",
     "output_type": "stream",
     "text": [
      "'NoneType' object has no attribute 'assign'\n"
     ]
    },
    {
     "name": "stderr",
     "output_type": "stream",
     "text": [
      "QUANTAXIS>> The 398 of Total 4457\n",
      "QUANTAXIS>> DOWNLOAD PROGRESS 8.92% \n",
      "QUANTAXIS>> ##JOB02 Now Saving XDXR INFO ==== 000937\n"
     ]
    },
    {
     "name": "stdout",
     "output_type": "stream",
     "text": [
      "'NoneType' object has no attribute 'assign'\n"
     ]
    },
    {
     "name": "stderr",
     "output_type": "stream",
     "text": [
      "QUANTAXIS>> The 399 of Total 4457\n",
      "QUANTAXIS>> DOWNLOAD PROGRESS 8.95% \n",
      "QUANTAXIS>> ##JOB02 Now Saving XDXR INFO ==== 000938\n"
     ]
    },
    {
     "name": "stdout",
     "output_type": "stream",
     "text": [
      "'NoneType' object has no attribute 'assign'\n"
     ]
    },
    {
     "name": "stderr",
     "output_type": "stream",
     "text": [
      "QUANTAXIS>> The 400 of Total 4457\n",
      "QUANTAXIS>> DOWNLOAD PROGRESS 8.97% \n",
      "QUANTAXIS>> ##JOB02 Now Saving XDXR INFO ==== 000948\n"
     ]
    },
    {
     "name": "stdout",
     "output_type": "stream",
     "text": [
      "'NoneType' object has no attribute 'assign'\n"
     ]
    },
    {
     "name": "stderr",
     "output_type": "stream",
     "text": [
      "QUANTAXIS>> The 401 of Total 4457\n",
      "QUANTAXIS>> DOWNLOAD PROGRESS 8.99% \n",
      "QUANTAXIS>> ##JOB02 Now Saving XDXR INFO ==== 000949\n"
     ]
    },
    {
     "name": "stdout",
     "output_type": "stream",
     "text": [
      "'NoneType' object has no attribute 'assign'\n"
     ]
    },
    {
     "name": "stderr",
     "output_type": "stream",
     "text": [
      "QUANTAXIS>> The 402 of Total 4457\n",
      "QUANTAXIS>> DOWNLOAD PROGRESS 9.01% \n",
      "QUANTAXIS>> ##JOB02 Now Saving XDXR INFO ==== 000950\n"
     ]
    },
    {
     "name": "stdout",
     "output_type": "stream",
     "text": [
      "'NoneType' object has no attribute 'assign'\n"
     ]
    },
    {
     "name": "stderr",
     "output_type": "stream",
     "text": [
      "QUANTAXIS>> The 403 of Total 4457\n",
      "QUANTAXIS>> DOWNLOAD PROGRESS 9.04% \n",
      "QUANTAXIS>> ##JOB02 Now Saving XDXR INFO ==== 000951\n"
     ]
    },
    {
     "name": "stdout",
     "output_type": "stream",
     "text": [
      "'NoneType' object has no attribute 'assign'\n"
     ]
    },
    {
     "name": "stderr",
     "output_type": "stream",
     "text": [
      "QUANTAXIS>> The 404 of Total 4457\n",
      "QUANTAXIS>> DOWNLOAD PROGRESS 9.06% \n",
      "QUANTAXIS>> ##JOB02 Now Saving XDXR INFO ==== 000952\n"
     ]
    },
    {
     "name": "stdout",
     "output_type": "stream",
     "text": [
      "'NoneType' object has no attribute 'assign'\n"
     ]
    },
    {
     "name": "stderr",
     "output_type": "stream",
     "text": [
      "QUANTAXIS>> The 405 of Total 4457\n",
      "QUANTAXIS>> DOWNLOAD PROGRESS 9.08% \n",
      "QUANTAXIS>> ##JOB02 Now Saving XDXR INFO ==== 000953\n"
     ]
    },
    {
     "name": "stdout",
     "output_type": "stream",
     "text": [
      "'NoneType' object has no attribute 'assign'\n"
     ]
    },
    {
     "name": "stderr",
     "output_type": "stream",
     "text": [
      "QUANTAXIS>> The 406 of Total 4457\n",
      "QUANTAXIS>> DOWNLOAD PROGRESS 9.10% \n",
      "QUANTAXIS>> ##JOB02 Now Saving XDXR INFO ==== 000955\n"
     ]
    },
    {
     "name": "stdout",
     "output_type": "stream",
     "text": [
      "'NoneType' object has no attribute 'assign'\n"
     ]
    },
    {
     "name": "stderr",
     "output_type": "stream",
     "text": [
      "QUANTAXIS>> The 407 of Total 4457\n",
      "QUANTAXIS>> DOWNLOAD PROGRESS 9.13% \n",
      "QUANTAXIS>> ##JOB02 Now Saving XDXR INFO ==== 000957\n"
     ]
    },
    {
     "name": "stdout",
     "output_type": "stream",
     "text": [
      "'NoneType' object has no attribute 'assign'\n"
     ]
    },
    {
     "name": "stderr",
     "output_type": "stream",
     "text": [
      "QUANTAXIS>> The 408 of Total 4457\n",
      "QUANTAXIS>> DOWNLOAD PROGRESS 9.15% \n",
      "QUANTAXIS>> ##JOB02 Now Saving XDXR INFO ==== 000958\n"
     ]
    },
    {
     "name": "stdout",
     "output_type": "stream",
     "text": [
      "'NoneType' object has no attribute 'assign'\n"
     ]
    },
    {
     "name": "stderr",
     "output_type": "stream",
     "text": [
      "QUANTAXIS>> The 409 of Total 4457\n",
      "QUANTAXIS>> DOWNLOAD PROGRESS 9.17% \n",
      "QUANTAXIS>> ##JOB02 Now Saving XDXR INFO ==== 000959\n"
     ]
    },
    {
     "name": "stdout",
     "output_type": "stream",
     "text": [
      "'NoneType' object has no attribute 'assign'\n"
     ]
    },
    {
     "name": "stderr",
     "output_type": "stream",
     "text": [
      "QUANTAXIS>> The 410 of Total 4457\n",
      "QUANTAXIS>> DOWNLOAD PROGRESS 9.19% \n",
      "QUANTAXIS>> ##JOB02 Now Saving XDXR INFO ==== 000960\n"
     ]
    },
    {
     "name": "stdout",
     "output_type": "stream",
     "text": [
      "'NoneType' object has no attribute 'assign'\n"
     ]
    },
    {
     "name": "stderr",
     "output_type": "stream",
     "text": [
      "QUANTAXIS>> The 411 of Total 4457\n",
      "QUANTAXIS>> DOWNLOAD PROGRESS 9.22% \n",
      "QUANTAXIS>> ##JOB02 Now Saving XDXR INFO ==== 000961\n"
     ]
    },
    {
     "name": "stdout",
     "output_type": "stream",
     "text": [
      "'NoneType' object has no attribute 'assign'\n"
     ]
    },
    {
     "name": "stderr",
     "output_type": "stream",
     "text": [
      "QUANTAXIS>> The 412 of Total 4457\n",
      "QUANTAXIS>> DOWNLOAD PROGRESS 9.24% \n",
      "QUANTAXIS>> ##JOB02 Now Saving XDXR INFO ==== 000962\n"
     ]
    },
    {
     "name": "stdout",
     "output_type": "stream",
     "text": [
      "'NoneType' object has no attribute 'assign'\n"
     ]
    },
    {
     "name": "stderr",
     "output_type": "stream",
     "text": [
      "QUANTAXIS>> The 413 of Total 4457\n",
      "QUANTAXIS>> DOWNLOAD PROGRESS 9.26% \n",
      "QUANTAXIS>> ##JOB02 Now Saving XDXR INFO ==== 000963\n"
     ]
    },
    {
     "name": "stdout",
     "output_type": "stream",
     "text": [
      "'NoneType' object has no attribute 'assign'\n"
     ]
    },
    {
     "name": "stderr",
     "output_type": "stream",
     "text": [
      "QUANTAXIS>> The 414 of Total 4457\n",
      "QUANTAXIS>> DOWNLOAD PROGRESS 9.28% \n",
      "QUANTAXIS>> ##JOB02 Now Saving XDXR INFO ==== 000965\n"
     ]
    },
    {
     "name": "stdout",
     "output_type": "stream",
     "text": [
      "'NoneType' object has no attribute 'assign'\n"
     ]
    },
    {
     "name": "stderr",
     "output_type": "stream",
     "text": [
      "QUANTAXIS>> The 415 of Total 4457\n",
      "QUANTAXIS>> DOWNLOAD PROGRESS 9.31% \n",
      "QUANTAXIS>> ##JOB02 Now Saving XDXR INFO ==== 000966\n"
     ]
    },
    {
     "name": "stdout",
     "output_type": "stream",
     "text": [
      "'NoneType' object has no attribute 'assign'\n"
     ]
    },
    {
     "name": "stderr",
     "output_type": "stream",
     "text": [
      "QUANTAXIS>> The 416 of Total 4457\n",
      "QUANTAXIS>> DOWNLOAD PROGRESS 9.33% \n",
      "QUANTAXIS>> ##JOB02 Now Saving XDXR INFO ==== 000967\n"
     ]
    },
    {
     "name": "stdout",
     "output_type": "stream",
     "text": [
      "'NoneType' object has no attribute 'assign'\n"
     ]
    },
    {
     "name": "stderr",
     "output_type": "stream",
     "text": [
      "QUANTAXIS>> The 417 of Total 4457\n",
      "QUANTAXIS>> DOWNLOAD PROGRESS 9.35% \n",
      "QUANTAXIS>> ##JOB02 Now Saving XDXR INFO ==== 000968\n"
     ]
    },
    {
     "name": "stdout",
     "output_type": "stream",
     "text": [
      "'NoneType' object has no attribute 'assign'\n"
     ]
    },
    {
     "name": "stderr",
     "output_type": "stream",
     "text": [
      "QUANTAXIS>> The 418 of Total 4457\n",
      "QUANTAXIS>> DOWNLOAD PROGRESS 9.37% \n",
      "QUANTAXIS>> ##JOB02 Now Saving XDXR INFO ==== 000969\n"
     ]
    },
    {
     "name": "stdout",
     "output_type": "stream",
     "text": [
      "'NoneType' object has no attribute 'assign'\n"
     ]
    },
    {
     "name": "stderr",
     "output_type": "stream",
     "text": [
      "QUANTAXIS>> The 419 of Total 4457\n",
      "QUANTAXIS>> DOWNLOAD PROGRESS 9.40% \n",
      "QUANTAXIS>> ##JOB02 Now Saving XDXR INFO ==== 000970\n"
     ]
    },
    {
     "name": "stdout",
     "output_type": "stream",
     "text": [
      "'NoneType' object has no attribute 'assign'\n"
     ]
    },
    {
     "name": "stderr",
     "output_type": "stream",
     "text": [
      "QUANTAXIS>> The 420 of Total 4457\n",
      "QUANTAXIS>> DOWNLOAD PROGRESS 9.42% \n",
      "QUANTAXIS>> ##JOB02 Now Saving XDXR INFO ==== 000971\n"
     ]
    },
    {
     "name": "stdout",
     "output_type": "stream",
     "text": [
      "'NoneType' object has no attribute 'assign'\n"
     ]
    },
    {
     "name": "stderr",
     "output_type": "stream",
     "text": [
      "QUANTAXIS>> The 421 of Total 4457\n",
      "QUANTAXIS>> DOWNLOAD PROGRESS 9.44% \n",
      "QUANTAXIS>> ##JOB02 Now Saving XDXR INFO ==== 000972\n"
     ]
    },
    {
     "name": "stdout",
     "output_type": "stream",
     "text": [
      "'NoneType' object has no attribute 'assign'\n"
     ]
    },
    {
     "name": "stderr",
     "output_type": "stream",
     "text": [
      "QUANTAXIS>> The 422 of Total 4457\n",
      "QUANTAXIS>> DOWNLOAD PROGRESS 9.46% \n",
      "QUANTAXIS>> ##JOB02 Now Saving XDXR INFO ==== 000973\n"
     ]
    },
    {
     "name": "stdout",
     "output_type": "stream",
     "text": [
      "'NoneType' object has no attribute 'assign'\n"
     ]
    },
    {
     "name": "stderr",
     "output_type": "stream",
     "text": [
      "QUANTAXIS>> The 423 of Total 4457\n",
      "QUANTAXIS>> DOWNLOAD PROGRESS 9.49% \n",
      "QUANTAXIS>> ##JOB02 Now Saving XDXR INFO ==== 000975\n"
     ]
    },
    {
     "name": "stdout",
     "output_type": "stream",
     "text": [
      "'NoneType' object has no attribute 'assign'\n"
     ]
    },
    {
     "name": "stderr",
     "output_type": "stream",
     "text": [
      "QUANTAXIS>> The 424 of Total 4457\n",
      "QUANTAXIS>> DOWNLOAD PROGRESS 9.51% \n",
      "QUANTAXIS>> ##JOB02 Now Saving XDXR INFO ==== 000976\n"
     ]
    },
    {
     "name": "stdout",
     "output_type": "stream",
     "text": [
      "'NoneType' object has no attribute 'assign'\n"
     ]
    },
    {
     "name": "stderr",
     "output_type": "stream",
     "text": [
      "QUANTAXIS>> The 425 of Total 4457\n",
      "QUANTAXIS>> DOWNLOAD PROGRESS 9.53% \n",
      "QUANTAXIS>> ##JOB02 Now Saving XDXR INFO ==== 000977\n"
     ]
    },
    {
     "name": "stdout",
     "output_type": "stream",
     "text": [
      "'NoneType' object has no attribute 'assign'\n"
     ]
    },
    {
     "name": "stderr",
     "output_type": "stream",
     "text": [
      "QUANTAXIS>> The 426 of Total 4457\n",
      "QUANTAXIS>> DOWNLOAD PROGRESS 9.55% \n",
      "QUANTAXIS>> ##JOB02 Now Saving XDXR INFO ==== 000978\n"
     ]
    },
    {
     "name": "stdout",
     "output_type": "stream",
     "text": [
      "'NoneType' object has no attribute 'assign'\n"
     ]
    },
    {
     "name": "stderr",
     "output_type": "stream",
     "text": [
      "QUANTAXIS>> The 427 of Total 4457\n",
      "QUANTAXIS>> DOWNLOAD PROGRESS 9.58% \n",
      "QUANTAXIS>> ##JOB02 Now Saving XDXR INFO ==== 000980\n"
     ]
    },
    {
     "name": "stdout",
     "output_type": "stream",
     "text": [
      "'NoneType' object has no attribute 'assign'\n"
     ]
    },
    {
     "name": "stderr",
     "output_type": "stream",
     "text": [
      "QUANTAXIS>> The 428 of Total 4457\n",
      "QUANTAXIS>> DOWNLOAD PROGRESS 9.60% \n",
      "QUANTAXIS>> ##JOB02 Now Saving XDXR INFO ==== 000981\n"
     ]
    },
    {
     "name": "stdout",
     "output_type": "stream",
     "text": [
      "'NoneType' object has no attribute 'assign'\n"
     ]
    },
    {
     "name": "stderr",
     "output_type": "stream",
     "text": [
      "QUANTAXIS>> The 429 of Total 4457\n",
      "QUANTAXIS>> DOWNLOAD PROGRESS 9.62% \n",
      "QUANTAXIS>> ##JOB02 Now Saving XDXR INFO ==== 000982\n"
     ]
    },
    {
     "name": "stdout",
     "output_type": "stream",
     "text": [
      "'NoneType' object has no attribute 'assign'\n"
     ]
    },
    {
     "name": "stderr",
     "output_type": "stream",
     "text": [
      "QUANTAXIS>> The 430 of Total 4457\n",
      "QUANTAXIS>> DOWNLOAD PROGRESS 9.64% \n",
      "QUANTAXIS>> ##JOB02 Now Saving XDXR INFO ==== 000983\n"
     ]
    },
    {
     "name": "stdout",
     "output_type": "stream",
     "text": [
      "'NoneType' object has no attribute 'assign'\n"
     ]
    },
    {
     "name": "stderr",
     "output_type": "stream",
     "text": [
      "QUANTAXIS>> The 431 of Total 4457\n",
      "QUANTAXIS>> DOWNLOAD PROGRESS 9.67% \n",
      "QUANTAXIS>> ##JOB02 Now Saving XDXR INFO ==== 000985\n"
     ]
    },
    {
     "name": "stdout",
     "output_type": "stream",
     "text": [
      "'NoneType' object has no attribute 'assign'\n"
     ]
    },
    {
     "name": "stderr",
     "output_type": "stream",
     "text": [
      "QUANTAXIS>> The 432 of Total 4457\n",
      "QUANTAXIS>> DOWNLOAD PROGRESS 9.69% \n",
      "QUANTAXIS>> ##JOB02 Now Saving XDXR INFO ==== 000987\n"
     ]
    },
    {
     "name": "stdout",
     "output_type": "stream",
     "text": [
      "'NoneType' object has no attribute 'assign'\n"
     ]
    },
    {
     "name": "stderr",
     "output_type": "stream",
     "text": [
      "QUANTAXIS>> The 433 of Total 4457\n",
      "QUANTAXIS>> DOWNLOAD PROGRESS 9.71% \n",
      "QUANTAXIS>> ##JOB02 Now Saving XDXR INFO ==== 000988\n"
     ]
    },
    {
     "name": "stdout",
     "output_type": "stream",
     "text": [
      "'NoneType' object has no attribute 'assign'\n"
     ]
    },
    {
     "name": "stderr",
     "output_type": "stream",
     "text": [
      "QUANTAXIS>> The 434 of Total 4457\n",
      "QUANTAXIS>> DOWNLOAD PROGRESS 9.73% \n",
      "QUANTAXIS>> ##JOB02 Now Saving XDXR INFO ==== 000989\n"
     ]
    },
    {
     "name": "stdout",
     "output_type": "stream",
     "text": [
      "'NoneType' object has no attribute 'assign'\n"
     ]
    },
    {
     "name": "stderr",
     "output_type": "stream",
     "text": [
      "QUANTAXIS>> The 435 of Total 4457\n",
      "QUANTAXIS>> DOWNLOAD PROGRESS 9.75% \n",
      "QUANTAXIS>> ##JOB02 Now Saving XDXR INFO ==== 000990\n"
     ]
    },
    {
     "name": "stdout",
     "output_type": "stream",
     "text": [
      "'NoneType' object has no attribute 'assign'\n"
     ]
    },
    {
     "name": "stderr",
     "output_type": "stream",
     "text": [
      "QUANTAXIS>> The 436 of Total 4457\n",
      "QUANTAXIS>> DOWNLOAD PROGRESS 9.78% \n",
      "QUANTAXIS>> ##JOB02 Now Saving XDXR INFO ==== 000993\n"
     ]
    },
    {
     "name": "stdout",
     "output_type": "stream",
     "text": [
      "'NoneType' object has no attribute 'assign'\n"
     ]
    },
    {
     "name": "stderr",
     "output_type": "stream",
     "text": [
      "QUANTAXIS>> The 437 of Total 4457\n",
      "QUANTAXIS>> DOWNLOAD PROGRESS 9.80% \n",
      "QUANTAXIS>> ##JOB02 Now Saving XDXR INFO ==== 000995\n"
     ]
    },
    {
     "name": "stdout",
     "output_type": "stream",
     "text": [
      "'NoneType' object has no attribute 'assign'\n"
     ]
    },
    {
     "name": "stderr",
     "output_type": "stream",
     "text": [
      "QUANTAXIS>> The 438 of Total 4457\n",
      "QUANTAXIS>> DOWNLOAD PROGRESS 9.82% \n",
      "QUANTAXIS>> ##JOB02 Now Saving XDXR INFO ==== 000996\n"
     ]
    },
    {
     "name": "stdout",
     "output_type": "stream",
     "text": [
      "'NoneType' object has no attribute 'assign'\n"
     ]
    },
    {
     "name": "stderr",
     "output_type": "stream",
     "text": [
      "QUANTAXIS>> The 439 of Total 4457\n",
      "QUANTAXIS>> DOWNLOAD PROGRESS 9.84% \n",
      "QUANTAXIS>> ##JOB02 Now Saving XDXR INFO ==== 000997\n"
     ]
    },
    {
     "name": "stdout",
     "output_type": "stream",
     "text": [
      "'NoneType' object has no attribute 'assign'\n"
     ]
    },
    {
     "name": "stderr",
     "output_type": "stream",
     "text": [
      "QUANTAXIS>> The 440 of Total 4457\n",
      "QUANTAXIS>> DOWNLOAD PROGRESS 9.87% \n",
      "QUANTAXIS>> ##JOB02 Now Saving XDXR INFO ==== 000998\n"
     ]
    },
    {
     "name": "stdout",
     "output_type": "stream",
     "text": [
      "'NoneType' object has no attribute 'assign'\n"
     ]
    },
    {
     "name": "stderr",
     "output_type": "stream",
     "text": [
      "QUANTAXIS>> The 441 of Total 4457\n",
      "QUANTAXIS>> DOWNLOAD PROGRESS 9.89% \n",
      "QUANTAXIS>> ##JOB02 Now Saving XDXR INFO ==== 000999\n"
     ]
    },
    {
     "name": "stdout",
     "output_type": "stream",
     "text": [
      "'NoneType' object has no attribute 'assign'\n"
     ]
    },
    {
     "name": "stderr",
     "output_type": "stream",
     "text": [
      "QUANTAXIS>> The 442 of Total 4457\n",
      "QUANTAXIS>> DOWNLOAD PROGRESS 9.91% \n",
      "QUANTAXIS>> ##JOB02 Now Saving XDXR INFO ==== 001201\n"
     ]
    },
    {
     "name": "stdout",
     "output_type": "stream",
     "text": [
      "'NoneType' object has no attribute 'assign'\n"
     ]
    },
    {
     "name": "stderr",
     "output_type": "stream",
     "text": [
      "QUANTAXIS>> The 443 of Total 4457\n",
      "QUANTAXIS>> DOWNLOAD PROGRESS 9.93% \n",
      "QUANTAXIS>> ##JOB02 Now Saving XDXR INFO ==== 001202\n"
     ]
    },
    {
     "name": "stdout",
     "output_type": "stream",
     "text": [
      "'NoneType' object has no attribute 'assign'\n"
     ]
    },
    {
     "name": "stderr",
     "output_type": "stream",
     "text": [
      "QUANTAXIS>> The 444 of Total 4457\n",
      "QUANTAXIS>> DOWNLOAD PROGRESS 9.96% \n",
      "QUANTAXIS>> ##JOB02 Now Saving XDXR INFO ==== 001203\n"
     ]
    },
    {
     "name": "stdout",
     "output_type": "stream",
     "text": [
      "'NoneType' object has no attribute 'assign'\n"
     ]
    },
    {
     "name": "stderr",
     "output_type": "stream",
     "text": [
      "QUANTAXIS>> The 445 of Total 4457\n",
      "QUANTAXIS>> DOWNLOAD PROGRESS 9.98% \n",
      "QUANTAXIS>> ##JOB02 Now Saving XDXR INFO ==== 001205\n"
     ]
    },
    {
     "name": "stdout",
     "output_type": "stream",
     "text": [
      "'NoneType' object has no attribute 'assign'\n"
     ]
    },
    {
     "name": "stderr",
     "output_type": "stream",
     "text": [
      "QUANTAXIS>> The 446 of Total 4457\n",
      "QUANTAXIS>> DOWNLOAD PROGRESS 10.0% \n",
      "QUANTAXIS>> ##JOB02 Now Saving XDXR INFO ==== 001206\n"
     ]
    },
    {
     "name": "stdout",
     "output_type": "stream",
     "text": [
      "'NoneType' object has no attribute 'assign'\n"
     ]
    },
    {
     "name": "stderr",
     "output_type": "stream",
     "text": [
      "QUANTAXIS>> The 447 of Total 4457\n",
      "QUANTAXIS>> DOWNLOAD PROGRESS 10.0% \n",
      "QUANTAXIS>> ##JOB02 Now Saving XDXR INFO ==== 001207\n"
     ]
    },
    {
     "name": "stdout",
     "output_type": "stream",
     "text": [
      "'NoneType' object has no attribute 'assign'\n"
     ]
    },
    {
     "name": "stderr",
     "output_type": "stream",
     "text": [
      "QUANTAXIS>> The 448 of Total 4457\n",
      "QUANTAXIS>> DOWNLOAD PROGRESS 10.0% \n",
      "QUANTAXIS>> ##JOB02 Now Saving XDXR INFO ==== 001208\n"
     ]
    },
    {
     "name": "stdout",
     "output_type": "stream",
     "text": [
      "'NoneType' object has no attribute 'assign'\n"
     ]
    },
    {
     "name": "stderr",
     "output_type": "stream",
     "text": [
      "QUANTAXIS>> The 449 of Total 4457\n",
      "QUANTAXIS>> DOWNLOAD PROGRESS 10.0% \n",
      "QUANTAXIS>> ##JOB02 Now Saving XDXR INFO ==== 001209\n"
     ]
    },
    {
     "name": "stdout",
     "output_type": "stream",
     "text": [
      "'NoneType' object has no attribute 'assign'\n"
     ]
    },
    {
     "name": "stderr",
     "output_type": "stream",
     "text": [
      "QUANTAXIS>> The 450 of Total 4457\n",
      "QUANTAXIS>> DOWNLOAD PROGRESS 10.0% \n",
      "QUANTAXIS>> ##JOB02 Now Saving XDXR INFO ==== 001210\n"
     ]
    },
    {
     "name": "stdout",
     "output_type": "stream",
     "text": [
      "'NoneType' object has no attribute 'assign'\n"
     ]
    },
    {
     "name": "stderr",
     "output_type": "stream",
     "text": [
      "QUANTAXIS>> The 451 of Total 4457\n",
      "QUANTAXIS>> DOWNLOAD PROGRESS 10.1% \n",
      "QUANTAXIS>> ##JOB02 Now Saving XDXR INFO ==== 001211\n"
     ]
    },
    {
     "name": "stdout",
     "output_type": "stream",
     "text": [
      "'NoneType' object has no attribute 'assign'\n"
     ]
    },
    {
     "name": "stderr",
     "output_type": "stream",
     "text": [
      "QUANTAXIS>> The 452 of Total 4457\n",
      "QUANTAXIS>> DOWNLOAD PROGRESS 10.1% \n",
      "QUANTAXIS>> ##JOB02 Now Saving XDXR INFO ==== 001212\n"
     ]
    },
    {
     "name": "stdout",
     "output_type": "stream",
     "text": [
      "'NoneType' object has no attribute 'assign'\n"
     ]
    },
    {
     "name": "stderr",
     "output_type": "stream",
     "text": [
      "QUANTAXIS>> The 453 of Total 4457\n",
      "QUANTAXIS>> DOWNLOAD PROGRESS 10.1% \n",
      "QUANTAXIS>> ##JOB02 Now Saving XDXR INFO ==== 001213\n"
     ]
    },
    {
     "name": "stdout",
     "output_type": "stream",
     "text": [
      "'NoneType' object has no attribute 'assign'\n"
     ]
    },
    {
     "name": "stderr",
     "output_type": "stream",
     "text": [
      "QUANTAXIS>> The 454 of Total 4457\n",
      "QUANTAXIS>> DOWNLOAD PROGRESS 10.1% \n",
      "QUANTAXIS>> ##JOB02 Now Saving XDXR INFO ==== 001215\n"
     ]
    },
    {
     "name": "stdout",
     "output_type": "stream",
     "text": [
      "'NoneType' object has no attribute 'assign'\n"
     ]
    },
    {
     "name": "stderr",
     "output_type": "stream",
     "text": [
      "QUANTAXIS>> The 455 of Total 4457\n",
      "QUANTAXIS>> DOWNLOAD PROGRESS 10.2% \n",
      "QUANTAXIS>> ##JOB02 Now Saving XDXR INFO ==== 001216\n"
     ]
    },
    {
     "name": "stdout",
     "output_type": "stream",
     "text": [
      "'NoneType' object has no attribute 'assign'\n"
     ]
    },
    {
     "name": "stderr",
     "output_type": "stream",
     "text": [
      "QUANTAXIS>> The 456 of Total 4457\n",
      "QUANTAXIS>> DOWNLOAD PROGRESS 10.2% \n",
      "QUANTAXIS>> ##JOB02 Now Saving XDXR INFO ==== 001217\n"
     ]
    },
    {
     "name": "stdout",
     "output_type": "stream",
     "text": [
      "'NoneType' object has no attribute 'assign'\n"
     ]
    },
    {
     "name": "stderr",
     "output_type": "stream",
     "text": [
      "QUANTAXIS>> The 457 of Total 4457\n",
      "QUANTAXIS>> DOWNLOAD PROGRESS 10.2% \n",
      "QUANTAXIS>> ##JOB02 Now Saving XDXR INFO ==== 001218\n"
     ]
    },
    {
     "name": "stdout",
     "output_type": "stream",
     "text": [
      "'NoneType' object has no attribute 'assign'\n"
     ]
    },
    {
     "name": "stderr",
     "output_type": "stream",
     "text": [
      "QUANTAXIS>> The 458 of Total 4457\n",
      "QUANTAXIS>> DOWNLOAD PROGRESS 10.2% \n",
      "QUANTAXIS>> ##JOB02 Now Saving XDXR INFO ==== 001219\n"
     ]
    },
    {
     "name": "stdout",
     "output_type": "stream",
     "text": [
      "'NoneType' object has no attribute 'assign'\n"
     ]
    },
    {
     "name": "stderr",
     "output_type": "stream",
     "text": [
      "QUANTAXIS>> The 459 of Total 4457\n",
      "QUANTAXIS>> DOWNLOAD PROGRESS 10.2% \n",
      "QUANTAXIS>> ##JOB02 Now Saving XDXR INFO ==== 001222\n"
     ]
    },
    {
     "name": "stdout",
     "output_type": "stream",
     "text": [
      "'NoneType' object has no attribute 'assign'\n"
     ]
    },
    {
     "name": "stderr",
     "output_type": "stream",
     "text": [
      "QUANTAXIS>> The 460 of Total 4457\n",
      "QUANTAXIS>> DOWNLOAD PROGRESS 10.3% \n",
      "QUANTAXIS>> ##JOB02 Now Saving XDXR INFO ==== 001223\n"
     ]
    },
    {
     "name": "stdout",
     "output_type": "stream",
     "text": [
      "'NoneType' object has no attribute 'assign'\n"
     ]
    },
    {
     "name": "stderr",
     "output_type": "stream",
     "text": [
      "QUANTAXIS>> The 461 of Total 4457\n",
      "QUANTAXIS>> DOWNLOAD PROGRESS 10.3% \n",
      "QUANTAXIS>> ##JOB02 Now Saving XDXR INFO ==== 001225\n"
     ]
    },
    {
     "name": "stdout",
     "output_type": "stream",
     "text": [
      "'NoneType' object has no attribute 'assign'\n"
     ]
    },
    {
     "name": "stderr",
     "output_type": "stream",
     "text": [
      "QUANTAXIS>> The 462 of Total 4457\n",
      "QUANTAXIS>> DOWNLOAD PROGRESS 10.3% \n",
      "QUANTAXIS>> ##JOB02 Now Saving XDXR INFO ==== 001226\n"
     ]
    },
    {
     "name": "stdout",
     "output_type": "stream",
     "text": [
      "'NoneType' object has no attribute 'assign'\n"
     ]
    },
    {
     "name": "stderr",
     "output_type": "stream",
     "text": [
      "QUANTAXIS>> The 463 of Total 4457\n",
      "QUANTAXIS>> DOWNLOAD PROGRESS 10.3% \n",
      "QUANTAXIS>> ##JOB02 Now Saving XDXR INFO ==== 001227\n"
     ]
    },
    {
     "name": "stdout",
     "output_type": "stream",
     "text": [
      "'NoneType' object has no attribute 'assign'\n"
     ]
    },
    {
     "name": "stderr",
     "output_type": "stream",
     "text": [
      "QUANTAXIS>> The 464 of Total 4457\n",
      "QUANTAXIS>> DOWNLOAD PROGRESS 10.4% \n",
      "QUANTAXIS>> ##JOB02 Now Saving XDXR INFO ==== 001228\n"
     ]
    },
    {
     "name": "stdout",
     "output_type": "stream",
     "text": [
      "'NoneType' object has no attribute 'assign'\n"
     ]
    },
    {
     "name": "stderr",
     "output_type": "stream",
     "text": [
      "QUANTAXIS>> The 465 of Total 4457\n",
      "QUANTAXIS>> DOWNLOAD PROGRESS 10.4% \n",
      "QUANTAXIS>> ##JOB02 Now Saving XDXR INFO ==== 001229\n"
     ]
    },
    {
     "name": "stdout",
     "output_type": "stream",
     "text": [
      "'NoneType' object has no attribute 'assign'\n"
     ]
    },
    {
     "name": "stderr",
     "output_type": "stream",
     "text": [
      "QUANTAXIS>> The 466 of Total 4457\n",
      "QUANTAXIS>> DOWNLOAD PROGRESS 10.4% \n",
      "QUANTAXIS>> ##JOB02 Now Saving XDXR INFO ==== 001230\n"
     ]
    },
    {
     "name": "stdout",
     "output_type": "stream",
     "text": [
      "'NoneType' object has no attribute 'assign'\n"
     ]
    },
    {
     "name": "stderr",
     "output_type": "stream",
     "text": [
      "QUANTAXIS>> The 467 of Total 4457\n",
      "QUANTAXIS>> DOWNLOAD PROGRESS 10.4% \n",
      "QUANTAXIS>> ##JOB02 Now Saving XDXR INFO ==== 001231\n"
     ]
    },
    {
     "name": "stdout",
     "output_type": "stream",
     "text": [
      "'NoneType' object has no attribute 'assign'\n"
     ]
    },
    {
     "name": "stderr",
     "output_type": "stream",
     "text": [
      "QUANTAXIS>> The 468 of Total 4457\n",
      "QUANTAXIS>> DOWNLOAD PROGRESS 10.5% \n",
      "QUANTAXIS>> ##JOB02 Now Saving XDXR INFO ==== 001234\n"
     ]
    },
    {
     "name": "stdout",
     "output_type": "stream",
     "text": [
      "'NoneType' object has no attribute 'assign'\n"
     ]
    },
    {
     "name": "stderr",
     "output_type": "stream",
     "text": [
      "QUANTAXIS>> The 469 of Total 4457\n",
      "QUANTAXIS>> DOWNLOAD PROGRESS 10.5% \n",
      "QUANTAXIS>> ##JOB02 Now Saving XDXR INFO ==== 001236\n"
     ]
    },
    {
     "name": "stdout",
     "output_type": "stream",
     "text": [
      "'NoneType' object has no attribute 'assign'\n"
     ]
    },
    {
     "name": "stderr",
     "output_type": "stream",
     "text": [
      "QUANTAXIS>> The 470 of Total 4457\n",
      "QUANTAXIS>> DOWNLOAD PROGRESS 10.5% \n",
      "QUANTAXIS>> ##JOB02 Now Saving XDXR INFO ==== 001238\n"
     ]
    },
    {
     "name": "stdout",
     "output_type": "stream",
     "text": [
      "'NoneType' object has no attribute 'assign'\n"
     ]
    },
    {
     "name": "stderr",
     "output_type": "stream",
     "text": [
      "QUANTAXIS>> The 471 of Total 4457\n",
      "QUANTAXIS>> DOWNLOAD PROGRESS 10.5% \n",
      "QUANTAXIS>> ##JOB02 Now Saving XDXR INFO ==== 001255\n"
     ]
    },
    {
     "name": "stdout",
     "output_type": "stream",
     "text": [
      "'NoneType' object has no attribute 'assign'\n"
     ]
    },
    {
     "name": "stderr",
     "output_type": "stream",
     "text": [
      "QUANTAXIS>> The 472 of Total 4457\n",
      "QUANTAXIS>> DOWNLOAD PROGRESS 10.5% \n",
      "QUANTAXIS>> ##JOB02 Now Saving XDXR INFO ==== 001256\n"
     ]
    },
    {
     "name": "stdout",
     "output_type": "stream",
     "text": [
      "'NoneType' object has no attribute 'assign'\n"
     ]
    },
    {
     "name": "stderr",
     "output_type": "stream",
     "text": [
      "QUANTAXIS>> The 473 of Total 4457\n",
      "QUANTAXIS>> DOWNLOAD PROGRESS 10.6% \n",
      "QUANTAXIS>> ##JOB02 Now Saving XDXR INFO ==== 001258\n"
     ]
    },
    {
     "name": "stdout",
     "output_type": "stream",
     "text": [
      "'NoneType' object has no attribute 'assign'\n"
     ]
    },
    {
     "name": "stderr",
     "output_type": "stream",
     "text": [
      "QUANTAXIS>> The 474 of Total 4457\n",
      "QUANTAXIS>> DOWNLOAD PROGRESS 10.6% \n",
      "QUANTAXIS>> ##JOB02 Now Saving XDXR INFO ==== 001259\n"
     ]
    },
    {
     "name": "stdout",
     "output_type": "stream",
     "text": [
      "'NoneType' object has no attribute 'assign'\n"
     ]
    },
    {
     "name": "stderr",
     "output_type": "stream",
     "text": [
      "QUANTAXIS>> The 475 of Total 4457\n",
      "QUANTAXIS>> DOWNLOAD PROGRESS 10.6% \n",
      "QUANTAXIS>> ##JOB02 Now Saving XDXR INFO ==== 001260\n"
     ]
    },
    {
     "name": "stdout",
     "output_type": "stream",
     "text": [
      "'NoneType' object has no attribute 'assign'\n"
     ]
    },
    {
     "name": "stderr",
     "output_type": "stream",
     "text": [
      "QUANTAXIS>> The 476 of Total 4457\n",
      "QUANTAXIS>> DOWNLOAD PROGRESS 10.6% \n",
      "QUANTAXIS>> ##JOB02 Now Saving XDXR INFO ==== 001266\n"
     ]
    },
    {
     "name": "stdout",
     "output_type": "stream",
     "text": [
      "'NoneType' object has no attribute 'assign'\n"
     ]
    },
    {
     "name": "stderr",
     "output_type": "stream",
     "text": [
      "QUANTAXIS>> The 477 of Total 4457\n",
      "QUANTAXIS>> DOWNLOAD PROGRESS 10.7% \n",
      "QUANTAXIS>> ##JOB02 Now Saving XDXR INFO ==== 001267\n"
     ]
    },
    {
     "name": "stdout",
     "output_type": "stream",
     "text": [
      "'NoneType' object has no attribute 'assign'\n"
     ]
    },
    {
     "name": "stderr",
     "output_type": "stream",
     "text": [
      "QUANTAXIS>> The 478 of Total 4457\n",
      "QUANTAXIS>> DOWNLOAD PROGRESS 10.7% \n",
      "QUANTAXIS>> ##JOB02 Now Saving XDXR INFO ==== 001268\n"
     ]
    },
    {
     "name": "stdout",
     "output_type": "stream",
     "text": [
      "'NoneType' object has no attribute 'assign'\n"
     ]
    },
    {
     "name": "stderr",
     "output_type": "stream",
     "text": [
      "QUANTAXIS>> The 479 of Total 4457\n",
      "QUANTAXIS>> DOWNLOAD PROGRESS 10.7% \n",
      "QUANTAXIS>> ##JOB02 Now Saving XDXR INFO ==== 001269\n"
     ]
    },
    {
     "name": "stdout",
     "output_type": "stream",
     "text": [
      "'NoneType' object has no attribute 'assign'\n"
     ]
    },
    {
     "name": "stderr",
     "output_type": "stream",
     "text": [
      "QUANTAXIS>> The 480 of Total 4457\n",
      "QUANTAXIS>> DOWNLOAD PROGRESS 10.7% \n",
      "QUANTAXIS>> ##JOB02 Now Saving XDXR INFO ==== 001270\n"
     ]
    },
    {
     "name": "stdout",
     "output_type": "stream",
     "text": [
      "'NoneType' object has no attribute 'assign'\n"
     ]
    },
    {
     "name": "stderr",
     "output_type": "stream",
     "text": [
      "QUANTAXIS>> The 481 of Total 4457\n",
      "QUANTAXIS>> DOWNLOAD PROGRESS 10.7% \n",
      "QUANTAXIS>> ##JOB02 Now Saving XDXR INFO ==== 001278\n"
     ]
    },
    {
     "name": "stdout",
     "output_type": "stream",
     "text": [
      "'NoneType' object has no attribute 'assign'\n"
     ]
    },
    {
     "name": "stderr",
     "output_type": "stream",
     "text": [
      "QUANTAXIS>> The 482 of Total 4457\n",
      "QUANTAXIS>> DOWNLOAD PROGRESS 10.8% \n",
      "QUANTAXIS>> ##JOB02 Now Saving XDXR INFO ==== 001283\n"
     ]
    },
    {
     "name": "stdout",
     "output_type": "stream",
     "text": [
      "'NoneType' object has no attribute 'assign'\n"
     ]
    },
    {
     "name": "stderr",
     "output_type": "stream",
     "text": [
      "QUANTAXIS>> The 483 of Total 4457\n",
      "QUANTAXIS>> DOWNLOAD PROGRESS 10.8% \n",
      "QUANTAXIS>> ##JOB02 Now Saving XDXR INFO ==== 001286\n"
     ]
    },
    {
     "name": "stdout",
     "output_type": "stream",
     "text": [
      "'NoneType' object has no attribute 'assign'\n"
     ]
    },
    {
     "name": "stderr",
     "output_type": "stream",
     "text": [
      "QUANTAXIS>> The 484 of Total 4457\n",
      "QUANTAXIS>> DOWNLOAD PROGRESS 10.8% \n",
      "QUANTAXIS>> ##JOB02 Now Saving XDXR INFO ==== 001287\n"
     ]
    },
    {
     "name": "stdout",
     "output_type": "stream",
     "text": [
      "'NoneType' object has no attribute 'assign'\n"
     ]
    },
    {
     "name": "stderr",
     "output_type": "stream",
     "text": [
      "QUANTAXIS>> The 485 of Total 4457\n",
      "QUANTAXIS>> DOWNLOAD PROGRESS 10.8% \n",
      "QUANTAXIS>> ##JOB02 Now Saving XDXR INFO ==== 001288\n"
     ]
    },
    {
     "name": "stdout",
     "output_type": "stream",
     "text": [
      "'NoneType' object has no attribute 'assign'\n"
     ]
    },
    {
     "name": "stderr",
     "output_type": "stream",
     "text": [
      "QUANTAXIS>> The 486 of Total 4457\n",
      "QUANTAXIS>> DOWNLOAD PROGRESS 10.9% \n",
      "QUANTAXIS>> ##JOB02 Now Saving XDXR INFO ==== 001289\n"
     ]
    },
    {
     "name": "stdout",
     "output_type": "stream",
     "text": [
      "'NoneType' object has no attribute 'assign'\n"
     ]
    },
    {
     "name": "stderr",
     "output_type": "stream",
     "text": [
      "QUANTAXIS>> The 487 of Total 4457\n",
      "QUANTAXIS>> DOWNLOAD PROGRESS 10.9% \n",
      "QUANTAXIS>> ##JOB02 Now Saving XDXR INFO ==== 001296\n"
     ]
    },
    {
     "name": "stdout",
     "output_type": "stream",
     "text": [
      "'NoneType' object has no attribute 'assign'\n"
     ]
    },
    {
     "name": "stderr",
     "output_type": "stream",
     "text": [
      "QUANTAXIS>> The 488 of Total 4457\n",
      "QUANTAXIS>> DOWNLOAD PROGRESS 10.9% \n",
      "QUANTAXIS>> ##JOB02 Now Saving XDXR INFO ==== 001298\n"
     ]
    },
    {
     "name": "stdout",
     "output_type": "stream",
     "text": [
      "'NoneType' object has no attribute 'assign'\n"
     ]
    },
    {
     "name": "stderr",
     "output_type": "stream",
     "text": [
      "QUANTAXIS>> The 489 of Total 4457\n",
      "QUANTAXIS>> DOWNLOAD PROGRESS 10.9% \n",
      "QUANTAXIS>> ##JOB02 Now Saving XDXR INFO ==== 001299\n"
     ]
    },
    {
     "name": "stdout",
     "output_type": "stream",
     "text": [
      "'NoneType' object has no attribute 'assign'\n"
     ]
    },
    {
     "name": "stderr",
     "output_type": "stream",
     "text": [
      "QUANTAXIS>> The 490 of Total 4457\n",
      "QUANTAXIS>> DOWNLOAD PROGRESS 10.9% \n",
      "QUANTAXIS>> ##JOB02 Now Saving XDXR INFO ==== 001300\n"
     ]
    },
    {
     "name": "stdout",
     "output_type": "stream",
     "text": [
      "'NoneType' object has no attribute 'assign'\n"
     ]
    },
    {
     "name": "stderr",
     "output_type": "stream",
     "text": [
      "QUANTAXIS>> The 491 of Total 4457\n",
      "QUANTAXIS>> DOWNLOAD PROGRESS 11.0% \n",
      "QUANTAXIS>> ##JOB02 Now Saving XDXR INFO ==== 001301\n"
     ]
    },
    {
     "name": "stdout",
     "output_type": "stream",
     "text": [
      "'NoneType' object has no attribute 'assign'\n"
     ]
    },
    {
     "name": "stderr",
     "output_type": "stream",
     "text": [
      "QUANTAXIS>> The 492 of Total 4457\n",
      "QUANTAXIS>> DOWNLOAD PROGRESS 11.0% \n",
      "QUANTAXIS>> ##JOB02 Now Saving XDXR INFO ==== 001308\n"
     ]
    },
    {
     "name": "stdout",
     "output_type": "stream",
     "text": [
      "'NoneType' object has no attribute 'assign'\n"
     ]
    },
    {
     "name": "stderr",
     "output_type": "stream",
     "text": [
      "QUANTAXIS>> The 493 of Total 4457\n",
      "QUANTAXIS>> DOWNLOAD PROGRESS 11.0% \n",
      "QUANTAXIS>> ##JOB02 Now Saving XDXR INFO ==== 001309\n"
     ]
    },
    {
     "name": "stdout",
     "output_type": "stream",
     "text": [
      "'NoneType' object has no attribute 'assign'\n"
     ]
    },
    {
     "name": "stderr",
     "output_type": "stream",
     "text": [
      "QUANTAXIS>> The 494 of Total 4457\n",
      "QUANTAXIS>> DOWNLOAD PROGRESS 11.0% \n",
      "QUANTAXIS>> ##JOB02 Now Saving XDXR INFO ==== 001311\n"
     ]
    },
    {
     "name": "stdout",
     "output_type": "stream",
     "text": [
      "'NoneType' object has no attribute 'assign'\n"
     ]
    },
    {
     "name": "stderr",
     "output_type": "stream",
     "text": [
      "QUANTAXIS>> The 495 of Total 4457\n",
      "QUANTAXIS>> DOWNLOAD PROGRESS 11.1% \n",
      "QUANTAXIS>> ##JOB02 Now Saving XDXR INFO ==== 001313\n"
     ]
    },
    {
     "name": "stdout",
     "output_type": "stream",
     "text": [
      "'NoneType' object has no attribute 'assign'\n"
     ]
    },
    {
     "name": "stderr",
     "output_type": "stream",
     "text": [
      "QUANTAXIS>> The 496 of Total 4457\n",
      "QUANTAXIS>> DOWNLOAD PROGRESS 11.1% \n",
      "QUANTAXIS>> ##JOB02 Now Saving XDXR INFO ==== 001314\n"
     ]
    },
    {
     "name": "stdout",
     "output_type": "stream",
     "text": [
      "'NoneType' object has no attribute 'assign'\n"
     ]
    },
    {
     "name": "stderr",
     "output_type": "stream",
     "text": [
      "QUANTAXIS>> The 497 of Total 4457\n",
      "QUANTAXIS>> DOWNLOAD PROGRESS 11.1% \n",
      "QUANTAXIS>> ##JOB02 Now Saving XDXR INFO ==== 001316\n"
     ]
    },
    {
     "name": "stdout",
     "output_type": "stream",
     "text": [
      "'NoneType' object has no attribute 'assign'\n"
     ]
    },
    {
     "name": "stderr",
     "output_type": "stream",
     "text": [
      "QUANTAXIS>> The 498 of Total 4457\n",
      "QUANTAXIS>> DOWNLOAD PROGRESS 11.1% \n",
      "QUANTAXIS>> ##JOB02 Now Saving XDXR INFO ==== 001317\n"
     ]
    },
    {
     "name": "stdout",
     "output_type": "stream",
     "text": [
      "'NoneType' object has no attribute 'assign'\n"
     ]
    },
    {
     "name": "stderr",
     "output_type": "stream",
     "text": [
      "QUANTAXIS>> The 499 of Total 4457\n",
      "QUANTAXIS>> DOWNLOAD PROGRESS 11.1% \n",
      "QUANTAXIS>> ##JOB02 Now Saving XDXR INFO ==== 001318\n"
     ]
    },
    {
     "name": "stdout",
     "output_type": "stream",
     "text": [
      "'NoneType' object has no attribute 'assign'\n"
     ]
    },
    {
     "name": "stderr",
     "output_type": "stream",
     "text": [
      "QUANTAXIS>> The 500 of Total 4457\n",
      "QUANTAXIS>> DOWNLOAD PROGRESS 11.2% \n",
      "QUANTAXIS>> ##JOB02 Now Saving XDXR INFO ==== 001319\n"
     ]
    },
    {
     "name": "stdout",
     "output_type": "stream",
     "text": [
      "'NoneType' object has no attribute 'assign'\n"
     ]
    },
    {
     "name": "stderr",
     "output_type": "stream",
     "text": [
      "QUANTAXIS>> The 501 of Total 4457\n",
      "QUANTAXIS>> DOWNLOAD PROGRESS 11.2% \n",
      "QUANTAXIS>> ##JOB02 Now Saving XDXR INFO ==== 001322\n"
     ]
    },
    {
     "name": "stdout",
     "output_type": "stream",
     "text": [
      "'NoneType' object has no attribute 'assign'\n"
     ]
    },
    {
     "name": "stderr",
     "output_type": "stream",
     "text": [
      "QUANTAXIS>> The 502 of Total 4457\n",
      "QUANTAXIS>> DOWNLOAD PROGRESS 11.2% \n",
      "QUANTAXIS>> ##JOB02 Now Saving XDXR INFO ==== 001323\n"
     ]
    },
    {
     "name": "stdout",
     "output_type": "stream",
     "text": [
      "'NoneType' object has no attribute 'assign'\n"
     ]
    },
    {
     "name": "stderr",
     "output_type": "stream",
     "text": [
      "QUANTAXIS>> The 503 of Total 4457\n",
      "QUANTAXIS>> DOWNLOAD PROGRESS 11.2% \n",
      "QUANTAXIS>> ##JOB02 Now Saving XDXR INFO ==== 001328\n"
     ]
    },
    {
     "name": "stdout",
     "output_type": "stream",
     "text": [
      "'NoneType' object has no attribute 'assign'\n"
     ]
    },
    {
     "name": "stderr",
     "output_type": "stream",
     "text": [
      "QUANTAXIS>> The 504 of Total 4457\n",
      "QUANTAXIS>> DOWNLOAD PROGRESS 11.3% \n",
      "QUANTAXIS>> ##JOB02 Now Saving XDXR INFO ==== 001330\n"
     ]
    },
    {
     "name": "stdout",
     "output_type": "stream",
     "text": [
      "'NoneType' object has no attribute 'assign'\n"
     ]
    },
    {
     "name": "stderr",
     "output_type": "stream",
     "text": [
      "QUANTAXIS>> The 505 of Total 4457\n",
      "QUANTAXIS>> DOWNLOAD PROGRESS 11.3% \n",
      "QUANTAXIS>> ##JOB02 Now Saving XDXR INFO ==== 001331\n"
     ]
    },
    {
     "name": "stdout",
     "output_type": "stream",
     "text": [
      "'NoneType' object has no attribute 'assign'\n"
     ]
    },
    {
     "name": "stderr",
     "output_type": "stream",
     "text": [
      "QUANTAXIS>> The 506 of Total 4457\n",
      "QUANTAXIS>> DOWNLOAD PROGRESS 11.3% \n",
      "QUANTAXIS>> ##JOB02 Now Saving XDXR INFO ==== 001332\n"
     ]
    },
    {
     "name": "stdout",
     "output_type": "stream",
     "text": [
      "'NoneType' object has no attribute 'assign'\n"
     ]
    },
    {
     "name": "stderr",
     "output_type": "stream",
     "text": [
      "QUANTAXIS>> The 507 of Total 4457\n",
      "QUANTAXIS>> DOWNLOAD PROGRESS 11.3% \n",
      "QUANTAXIS>> ##JOB02 Now Saving XDXR INFO ==== 001333\n"
     ]
    },
    {
     "name": "stdout",
     "output_type": "stream",
     "text": [
      "'NoneType' object has no attribute 'assign'\n"
     ]
    },
    {
     "name": "stderr",
     "output_type": "stream",
     "text": [
      "QUANTAXIS>> The 508 of Total 4457\n",
      "QUANTAXIS>> DOWNLOAD PROGRESS 11.3% \n",
      "QUANTAXIS>> ##JOB02 Now Saving XDXR INFO ==== 001336\n"
     ]
    },
    {
     "name": "stdout",
     "output_type": "stream",
     "text": [
      "'NoneType' object has no attribute 'assign'\n"
     ]
    },
    {
     "name": "stderr",
     "output_type": "stream",
     "text": [
      "QUANTAXIS>> The 509 of Total 4457\n",
      "QUANTAXIS>> DOWNLOAD PROGRESS 11.4% \n",
      "QUANTAXIS>> ##JOB02 Now Saving XDXR INFO ==== 001337\n"
     ]
    },
    {
     "name": "stdout",
     "output_type": "stream",
     "text": [
      "'NoneType' object has no attribute 'assign'\n"
     ]
    },
    {
     "name": "stderr",
     "output_type": "stream",
     "text": [
      "QUANTAXIS>> The 510 of Total 4457\n",
      "QUANTAXIS>> DOWNLOAD PROGRESS 11.4% \n",
      "QUANTAXIS>> ##JOB02 Now Saving XDXR INFO ==== 001338\n"
     ]
    },
    {
     "name": "stdout",
     "output_type": "stream",
     "text": [
      "'NoneType' object has no attribute 'assign'\n"
     ]
    },
    {
     "name": "stderr",
     "output_type": "stream",
     "text": [
      "QUANTAXIS>> The 511 of Total 4457\n",
      "QUANTAXIS>> DOWNLOAD PROGRESS 11.4% \n",
      "QUANTAXIS>> ##JOB02 Now Saving XDXR INFO ==== 001339\n"
     ]
    },
    {
     "name": "stdout",
     "output_type": "stream",
     "text": [
      "'NoneType' object has no attribute 'assign'\n"
     ]
    },
    {
     "name": "stderr",
     "output_type": "stream",
     "text": [
      "QUANTAXIS>> The 512 of Total 4457\n",
      "QUANTAXIS>> DOWNLOAD PROGRESS 11.4% \n",
      "QUANTAXIS>> ##JOB02 Now Saving XDXR INFO ==== 001360\n"
     ]
    },
    {
     "name": "stdout",
     "output_type": "stream",
     "text": [
      "'NoneType' object has no attribute 'assign'\n"
     ]
    },
    {
     "name": "stderr",
     "output_type": "stream",
     "text": [
      "QUANTAXIS>> The 513 of Total 4457\n",
      "QUANTAXIS>> DOWNLOAD PROGRESS 11.5% \n",
      "QUANTAXIS>> ##JOB02 Now Saving XDXR INFO ==== 001366\n"
     ]
    },
    {
     "name": "stdout",
     "output_type": "stream",
     "text": [
      "'NoneType' object has no attribute 'assign'\n"
     ]
    },
    {
     "name": "stderr",
     "output_type": "stream",
     "text": [
      "QUANTAXIS>> The 514 of Total 4457\n",
      "QUANTAXIS>> DOWNLOAD PROGRESS 11.5% \n",
      "QUANTAXIS>> ##JOB02 Now Saving XDXR INFO ==== 001367\n"
     ]
    },
    {
     "name": "stdout",
     "output_type": "stream",
     "text": [
      "'NoneType' object has no attribute 'assign'\n"
     ]
    },
    {
     "name": "stderr",
     "output_type": "stream",
     "text": [
      "QUANTAXIS>> The 515 of Total 4457\n",
      "QUANTAXIS>> DOWNLOAD PROGRESS 11.5% \n",
      "QUANTAXIS>> ##JOB02 Now Saving XDXR INFO ==== 001368\n"
     ]
    },
    {
     "name": "stdout",
     "output_type": "stream",
     "text": [
      "'NoneType' object has no attribute 'assign'\n"
     ]
    },
    {
     "name": "stderr",
     "output_type": "stream",
     "text": [
      "QUANTAXIS>> The 516 of Total 4457\n",
      "QUANTAXIS>> DOWNLOAD PROGRESS 11.5% \n",
      "QUANTAXIS>> ##JOB02 Now Saving XDXR INFO ==== 001696\n"
     ]
    },
    {
     "name": "stdout",
     "output_type": "stream",
     "text": [
      "'NoneType' object has no attribute 'assign'\n"
     ]
    },
    {
     "name": "stderr",
     "output_type": "stream",
     "text": [
      "QUANTAXIS>> The 517 of Total 4457\n",
      "QUANTAXIS>> DOWNLOAD PROGRESS 11.5% \n",
      "QUANTAXIS>> ##JOB02 Now Saving XDXR INFO ==== 001872\n"
     ]
    },
    {
     "name": "stdout",
     "output_type": "stream",
     "text": [
      "'NoneType' object has no attribute 'assign'\n"
     ]
    },
    {
     "name": "stderr",
     "output_type": "stream",
     "text": [
      "QUANTAXIS>> The 518 of Total 4457\n",
      "QUANTAXIS>> DOWNLOAD PROGRESS 11.6% \n",
      "QUANTAXIS>> ##JOB02 Now Saving XDXR INFO ==== 001896\n"
     ]
    },
    {
     "name": "stdout",
     "output_type": "stream",
     "text": [
      "'NoneType' object has no attribute 'assign'\n"
     ]
    },
    {
     "name": "stderr",
     "output_type": "stream",
     "text": [
      "QUANTAXIS>> The 519 of Total 4457\n",
      "QUANTAXIS>> DOWNLOAD PROGRESS 11.6% \n",
      "QUANTAXIS>> ##JOB02 Now Saving XDXR INFO ==== 001914\n"
     ]
    },
    {
     "name": "stdout",
     "output_type": "stream",
     "text": [
      "'NoneType' object has no attribute 'assign'\n"
     ]
    },
    {
     "name": "stderr",
     "output_type": "stream",
     "text": [
      "QUANTAXIS>> The 520 of Total 4457\n",
      "QUANTAXIS>> DOWNLOAD PROGRESS 11.6% \n",
      "QUANTAXIS>> ##JOB02 Now Saving XDXR INFO ==== 001965\n"
     ]
    },
    {
     "name": "stdout",
     "output_type": "stream",
     "text": [
      "'NoneType' object has no attribute 'assign'\n"
     ]
    },
    {
     "name": "stderr",
     "output_type": "stream",
     "text": [
      "QUANTAXIS>> The 521 of Total 4457\n",
      "QUANTAXIS>> DOWNLOAD PROGRESS 11.6% \n",
      "QUANTAXIS>> ##JOB02 Now Saving XDXR INFO ==== 001979\n"
     ]
    },
    {
     "name": "stdout",
     "output_type": "stream",
     "text": [
      "'NoneType' object has no attribute 'assign'\n"
     ]
    },
    {
     "name": "stderr",
     "output_type": "stream",
     "text": [
      "QUANTAXIS>> The 522 of Total 4457\n",
      "QUANTAXIS>> DOWNLOAD PROGRESS 11.7% \n",
      "QUANTAXIS>> ##JOB02 Now Saving XDXR INFO ==== 002001\n"
     ]
    },
    {
     "name": "stdout",
     "output_type": "stream",
     "text": [
      "'NoneType' object has no attribute 'assign'\n"
     ]
    },
    {
     "name": "stderr",
     "output_type": "stream",
     "text": [
      "QUANTAXIS>> The 523 of Total 4457\n",
      "QUANTAXIS>> DOWNLOAD PROGRESS 11.7% \n",
      "QUANTAXIS>> ##JOB02 Now Saving XDXR INFO ==== 002002\n"
     ]
    },
    {
     "name": "stdout",
     "output_type": "stream",
     "text": [
      "'NoneType' object has no attribute 'assign'\n"
     ]
    },
    {
     "name": "stderr",
     "output_type": "stream",
     "text": [
      "QUANTAXIS>> The 524 of Total 4457\n",
      "QUANTAXIS>> DOWNLOAD PROGRESS 11.7% \n",
      "QUANTAXIS>> ##JOB02 Now Saving XDXR INFO ==== 002003\n"
     ]
    },
    {
     "name": "stdout",
     "output_type": "stream",
     "text": [
      "'NoneType' object has no attribute 'assign'\n"
     ]
    },
    {
     "name": "stderr",
     "output_type": "stream",
     "text": [
      "QUANTAXIS>> The 525 of Total 4457\n",
      "QUANTAXIS>> DOWNLOAD PROGRESS 11.7% \n",
      "QUANTAXIS>> ##JOB02 Now Saving XDXR INFO ==== 002004\n"
     ]
    },
    {
     "name": "stdout",
     "output_type": "stream",
     "text": [
      "'NoneType' object has no attribute 'assign'\n"
     ]
    },
    {
     "name": "stderr",
     "output_type": "stream",
     "text": [
      "QUANTAXIS>> The 526 of Total 4457\n",
      "QUANTAXIS>> DOWNLOAD PROGRESS 11.8% \n",
      "QUANTAXIS>> ##JOB02 Now Saving XDXR INFO ==== 002005\n"
     ]
    },
    {
     "name": "stdout",
     "output_type": "stream",
     "text": [
      "'NoneType' object has no attribute 'assign'\n"
     ]
    },
    {
     "name": "stderr",
     "output_type": "stream",
     "text": [
      "QUANTAXIS>> The 527 of Total 4457\n",
      "QUANTAXIS>> DOWNLOAD PROGRESS 11.8% \n",
      "QUANTAXIS>> ##JOB02 Now Saving XDXR INFO ==== 002006\n"
     ]
    },
    {
     "name": "stdout",
     "output_type": "stream",
     "text": [
      "'NoneType' object has no attribute 'assign'\n"
     ]
    },
    {
     "name": "stderr",
     "output_type": "stream",
     "text": [
      "QUANTAXIS>> The 528 of Total 4457\n",
      "QUANTAXIS>> DOWNLOAD PROGRESS 11.8% \n",
      "QUANTAXIS>> ##JOB02 Now Saving XDXR INFO ==== 002007\n"
     ]
    },
    {
     "name": "stdout",
     "output_type": "stream",
     "text": [
      "'NoneType' object has no attribute 'assign'\n"
     ]
    },
    {
     "name": "stderr",
     "output_type": "stream",
     "text": [
      "QUANTAXIS>> The 529 of Total 4457\n",
      "QUANTAXIS>> DOWNLOAD PROGRESS 11.8% \n",
      "QUANTAXIS>> ##JOB02 Now Saving XDXR INFO ==== 002008\n"
     ]
    },
    {
     "name": "stdout",
     "output_type": "stream",
     "text": [
      "'NoneType' object has no attribute 'assign'\n"
     ]
    },
    {
     "name": "stderr",
     "output_type": "stream",
     "text": [
      "QUANTAXIS>> The 530 of Total 4457\n",
      "QUANTAXIS>> DOWNLOAD PROGRESS 11.8% \n",
      "QUANTAXIS>> ##JOB02 Now Saving XDXR INFO ==== 002009\n"
     ]
    },
    {
     "name": "stdout",
     "output_type": "stream",
     "text": [
      "'NoneType' object has no attribute 'assign'\n"
     ]
    },
    {
     "name": "stderr",
     "output_type": "stream",
     "text": [
      "QUANTAXIS>> The 531 of Total 4457\n",
      "QUANTAXIS>> DOWNLOAD PROGRESS 11.9% \n",
      "QUANTAXIS>> ##JOB02 Now Saving XDXR INFO ==== 002010\n"
     ]
    },
    {
     "name": "stdout",
     "output_type": "stream",
     "text": [
      "'NoneType' object has no attribute 'assign'\n"
     ]
    },
    {
     "name": "stderr",
     "output_type": "stream",
     "text": [
      "QUANTAXIS>> The 532 of Total 4457\n",
      "QUANTAXIS>> DOWNLOAD PROGRESS 11.9% \n",
      "QUANTAXIS>> ##JOB02 Now Saving XDXR INFO ==== 002011\n"
     ]
    },
    {
     "name": "stdout",
     "output_type": "stream",
     "text": [
      "'NoneType' object has no attribute 'assign'\n"
     ]
    },
    {
     "name": "stderr",
     "output_type": "stream",
     "text": [
      "QUANTAXIS>> The 533 of Total 4457\n",
      "QUANTAXIS>> DOWNLOAD PROGRESS 11.9% \n",
      "QUANTAXIS>> ##JOB02 Now Saving XDXR INFO ==== 002012\n"
     ]
    },
    {
     "name": "stdout",
     "output_type": "stream",
     "text": [
      "'NoneType' object has no attribute 'assign'\n"
     ]
    },
    {
     "name": "stderr",
     "output_type": "stream",
     "text": [
      "QUANTAXIS>> The 534 of Total 4457\n",
      "QUANTAXIS>> DOWNLOAD PROGRESS 11.9% \n",
      "QUANTAXIS>> ##JOB02 Now Saving XDXR INFO ==== 002014\n"
     ]
    },
    {
     "name": "stdout",
     "output_type": "stream",
     "text": [
      "'NoneType' object has no attribute 'assign'\n"
     ]
    },
    {
     "name": "stderr",
     "output_type": "stream",
     "text": [
      "QUANTAXIS>> The 535 of Total 4457\n",
      "QUANTAXIS>> DOWNLOAD PROGRESS 12.0% \n",
      "QUANTAXIS>> ##JOB02 Now Saving XDXR INFO ==== 002015\n"
     ]
    },
    {
     "name": "stdout",
     "output_type": "stream",
     "text": [
      "'NoneType' object has no attribute 'assign'\n"
     ]
    },
    {
     "name": "stderr",
     "output_type": "stream",
     "text": [
      "QUANTAXIS>> The 536 of Total 4457\n",
      "QUANTAXIS>> DOWNLOAD PROGRESS 12.0% \n",
      "QUANTAXIS>> ##JOB02 Now Saving XDXR INFO ==== 002016\n"
     ]
    },
    {
     "name": "stdout",
     "output_type": "stream",
     "text": [
      "'NoneType' object has no attribute 'assign'\n"
     ]
    },
    {
     "name": "stderr",
     "output_type": "stream",
     "text": [
      "QUANTAXIS>> The 537 of Total 4457\n",
      "QUANTAXIS>> DOWNLOAD PROGRESS 12.0% \n",
      "QUANTAXIS>> ##JOB02 Now Saving XDXR INFO ==== 002017\n"
     ]
    },
    {
     "name": "stdout",
     "output_type": "stream",
     "text": [
      "'NoneType' object has no attribute 'assign'\n"
     ]
    },
    {
     "name": "stderr",
     "output_type": "stream",
     "text": [
      "QUANTAXIS>> The 538 of Total 4457\n",
      "QUANTAXIS>> DOWNLOAD PROGRESS 12.0% \n",
      "QUANTAXIS>> ##JOB02 Now Saving XDXR INFO ==== 002019\n"
     ]
    },
    {
     "name": "stdout",
     "output_type": "stream",
     "text": [
      "'NoneType' object has no attribute 'assign'\n"
     ]
    },
    {
     "name": "stderr",
     "output_type": "stream",
     "text": [
      "QUANTAXIS>> The 539 of Total 4457\n",
      "QUANTAXIS>> DOWNLOAD PROGRESS 12.0% \n",
      "QUANTAXIS>> ##JOB02 Now Saving XDXR INFO ==== 002020\n"
     ]
    },
    {
     "name": "stdout",
     "output_type": "stream",
     "text": [
      "'NoneType' object has no attribute 'assign'\n"
     ]
    },
    {
     "name": "stderr",
     "output_type": "stream",
     "text": [
      "QUANTAXIS>> The 540 of Total 4457\n",
      "QUANTAXIS>> DOWNLOAD PROGRESS 12.1% \n",
      "QUANTAXIS>> ##JOB02 Now Saving XDXR INFO ==== 002021\n"
     ]
    },
    {
     "name": "stdout",
     "output_type": "stream",
     "text": [
      "'NoneType' object has no attribute 'assign'\n"
     ]
    },
    {
     "name": "stderr",
     "output_type": "stream",
     "text": [
      "QUANTAXIS>> The 541 of Total 4457\n",
      "QUANTAXIS>> DOWNLOAD PROGRESS 12.1% \n",
      "QUANTAXIS>> ##JOB02 Now Saving XDXR INFO ==== 002022\n"
     ]
    },
    {
     "name": "stdout",
     "output_type": "stream",
     "text": [
      "'NoneType' object has no attribute 'assign'\n"
     ]
    },
    {
     "name": "stderr",
     "output_type": "stream",
     "text": [
      "QUANTAXIS>> The 542 of Total 4457\n",
      "QUANTAXIS>> DOWNLOAD PROGRESS 12.1% \n",
      "QUANTAXIS>> ##JOB02 Now Saving XDXR INFO ==== 002023\n"
     ]
    },
    {
     "name": "stdout",
     "output_type": "stream",
     "text": [
      "'NoneType' object has no attribute 'assign'\n"
     ]
    },
    {
     "name": "stderr",
     "output_type": "stream",
     "text": [
      "QUANTAXIS>> The 543 of Total 4457\n",
      "QUANTAXIS>> DOWNLOAD PROGRESS 12.1% \n",
      "QUANTAXIS>> ##JOB02 Now Saving XDXR INFO ==== 002024\n"
     ]
    },
    {
     "name": "stdout",
     "output_type": "stream",
     "text": [
      "'NoneType' object has no attribute 'assign'\n"
     ]
    },
    {
     "name": "stderr",
     "output_type": "stream",
     "text": [
      "QUANTAXIS>> The 544 of Total 4457\n",
      "QUANTAXIS>> DOWNLOAD PROGRESS 12.2% \n",
      "QUANTAXIS>> ##JOB02 Now Saving XDXR INFO ==== 002025\n"
     ]
    },
    {
     "name": "stdout",
     "output_type": "stream",
     "text": [
      "'NoneType' object has no attribute 'assign'\n"
     ]
    },
    {
     "name": "stderr",
     "output_type": "stream",
     "text": [
      "QUANTAXIS>> The 545 of Total 4457\n",
      "QUANTAXIS>> DOWNLOAD PROGRESS 12.2% \n",
      "QUANTAXIS>> ##JOB02 Now Saving XDXR INFO ==== 002026\n"
     ]
    },
    {
     "name": "stdout",
     "output_type": "stream",
     "text": [
      "'NoneType' object has no attribute 'assign'\n"
     ]
    },
    {
     "name": "stderr",
     "output_type": "stream",
     "text": [
      "QUANTAXIS>> The 546 of Total 4457\n",
      "QUANTAXIS>> DOWNLOAD PROGRESS 12.2% \n",
      "QUANTAXIS>> ##JOB02 Now Saving XDXR INFO ==== 002027\n"
     ]
    },
    {
     "name": "stdout",
     "output_type": "stream",
     "text": [
      "'NoneType' object has no attribute 'assign'\n"
     ]
    },
    {
     "name": "stderr",
     "output_type": "stream",
     "text": [
      "QUANTAXIS>> The 547 of Total 4457\n",
      "QUANTAXIS>> DOWNLOAD PROGRESS 12.2% \n",
      "QUANTAXIS>> ##JOB02 Now Saving XDXR INFO ==== 002028\n"
     ]
    },
    {
     "name": "stdout",
     "output_type": "stream",
     "text": [
      "'NoneType' object has no attribute 'assign'\n"
     ]
    },
    {
     "name": "stderr",
     "output_type": "stream",
     "text": [
      "QUANTAXIS>> The 548 of Total 4457\n",
      "QUANTAXIS>> DOWNLOAD PROGRESS 12.2% \n",
      "QUANTAXIS>> ##JOB02 Now Saving XDXR INFO ==== 002029\n"
     ]
    },
    {
     "name": "stdout",
     "output_type": "stream",
     "text": [
      "'NoneType' object has no attribute 'assign'\n"
     ]
    },
    {
     "name": "stderr",
     "output_type": "stream",
     "text": [
      "QUANTAXIS>> The 549 of Total 4457\n",
      "QUANTAXIS>> DOWNLOAD PROGRESS 12.3% \n",
      "QUANTAXIS>> ##JOB02 Now Saving XDXR INFO ==== 002030\n"
     ]
    },
    {
     "name": "stdout",
     "output_type": "stream",
     "text": [
      "'NoneType' object has no attribute 'assign'\n"
     ]
    },
    {
     "name": "stderr",
     "output_type": "stream",
     "text": [
      "QUANTAXIS>> The 550 of Total 4457\n",
      "QUANTAXIS>> DOWNLOAD PROGRESS 12.3% \n",
      "QUANTAXIS>> ##JOB02 Now Saving XDXR INFO ==== 002031\n"
     ]
    },
    {
     "name": "stdout",
     "output_type": "stream",
     "text": [
      "'NoneType' object has no attribute 'assign'\n"
     ]
    },
    {
     "name": "stderr",
     "output_type": "stream",
     "text": [
      "QUANTAXIS>> The 551 of Total 4457\n",
      "QUANTAXIS>> DOWNLOAD PROGRESS 12.3% \n",
      "QUANTAXIS>> ##JOB02 Now Saving XDXR INFO ==== 002032\n"
     ]
    },
    {
     "name": "stdout",
     "output_type": "stream",
     "text": [
      "'NoneType' object has no attribute 'assign'\n"
     ]
    },
    {
     "name": "stderr",
     "output_type": "stream",
     "text": [
      "QUANTAXIS>> The 552 of Total 4457\n",
      "QUANTAXIS>> DOWNLOAD PROGRESS 12.3% \n",
      "QUANTAXIS>> ##JOB02 Now Saving XDXR INFO ==== 002033\n"
     ]
    },
    {
     "name": "stdout",
     "output_type": "stream",
     "text": [
      "'NoneType' object has no attribute 'assign'\n"
     ]
    },
    {
     "name": "stderr",
     "output_type": "stream",
     "text": [
      "QUANTAXIS>> The 553 of Total 4457\n",
      "QUANTAXIS>> DOWNLOAD PROGRESS 12.4% \n",
      "QUANTAXIS>> ##JOB02 Now Saving XDXR INFO ==== 002034\n"
     ]
    },
    {
     "name": "stdout",
     "output_type": "stream",
     "text": [
      "'NoneType' object has no attribute 'assign'\n"
     ]
    },
    {
     "name": "stderr",
     "output_type": "stream",
     "text": [
      "QUANTAXIS>> The 554 of Total 4457\n",
      "QUANTAXIS>> DOWNLOAD PROGRESS 12.4% \n",
      "QUANTAXIS>> ##JOB02 Now Saving XDXR INFO ==== 002035\n"
     ]
    },
    {
     "name": "stdout",
     "output_type": "stream",
     "text": [
      "'NoneType' object has no attribute 'assign'\n"
     ]
    },
    {
     "name": "stderr",
     "output_type": "stream",
     "text": [
      "QUANTAXIS>> The 555 of Total 4457\n",
      "QUANTAXIS>> DOWNLOAD PROGRESS 12.4% \n",
      "QUANTAXIS>> ##JOB02 Now Saving XDXR INFO ==== 002036\n"
     ]
    },
    {
     "name": "stdout",
     "output_type": "stream",
     "text": [
      "'NoneType' object has no attribute 'assign'\n"
     ]
    },
    {
     "name": "stderr",
     "output_type": "stream",
     "text": [
      "QUANTAXIS>> The 556 of Total 4457\n",
      "QUANTAXIS>> DOWNLOAD PROGRESS 12.4% \n",
      "QUANTAXIS>> ##JOB02 Now Saving XDXR INFO ==== 002037\n"
     ]
    },
    {
     "name": "stdout",
     "output_type": "stream",
     "text": [
      "'NoneType' object has no attribute 'assign'\n"
     ]
    },
    {
     "name": "stderr",
     "output_type": "stream",
     "text": [
      "QUANTAXIS>> The 557 of Total 4457\n",
      "QUANTAXIS>> DOWNLOAD PROGRESS 12.4% \n",
      "QUANTAXIS>> ##JOB02 Now Saving XDXR INFO ==== 002038\n"
     ]
    },
    {
     "name": "stdout",
     "output_type": "stream",
     "text": [
      "'NoneType' object has no attribute 'assign'\n"
     ]
    },
    {
     "name": "stderr",
     "output_type": "stream",
     "text": [
      "QUANTAXIS>> The 558 of Total 4457\n",
      "QUANTAXIS>> DOWNLOAD PROGRESS 12.5% \n",
      "QUANTAXIS>> ##JOB02 Now Saving XDXR INFO ==== 002039\n"
     ]
    },
    {
     "name": "stdout",
     "output_type": "stream",
     "text": [
      "'NoneType' object has no attribute 'assign'\n"
     ]
    },
    {
     "name": "stderr",
     "output_type": "stream",
     "text": [
      "QUANTAXIS>> The 559 of Total 4457\n",
      "QUANTAXIS>> DOWNLOAD PROGRESS 12.5% \n",
      "QUANTAXIS>> ##JOB02 Now Saving XDXR INFO ==== 002040\n"
     ]
    },
    {
     "name": "stdout",
     "output_type": "stream",
     "text": [
      "'NoneType' object has no attribute 'assign'\n"
     ]
    },
    {
     "name": "stderr",
     "output_type": "stream",
     "text": [
      "QUANTAXIS>> The 560 of Total 4457\n",
      "QUANTAXIS>> DOWNLOAD PROGRESS 12.5% \n",
      "QUANTAXIS>> ##JOB02 Now Saving XDXR INFO ==== 002041\n"
     ]
    },
    {
     "name": "stdout",
     "output_type": "stream",
     "text": [
      "'NoneType' object has no attribute 'assign'\n"
     ]
    },
    {
     "name": "stderr",
     "output_type": "stream",
     "text": [
      "QUANTAXIS>> The 561 of Total 4457\n",
      "QUANTAXIS>> DOWNLOAD PROGRESS 12.5% \n",
      "QUANTAXIS>> ##JOB02 Now Saving XDXR INFO ==== 002042\n"
     ]
    },
    {
     "name": "stdout",
     "output_type": "stream",
     "text": [
      "'NoneType' object has no attribute 'assign'\n"
     ]
    },
    {
     "name": "stderr",
     "output_type": "stream",
     "text": [
      "QUANTAXIS>> The 562 of Total 4457\n",
      "QUANTAXIS>> DOWNLOAD PROGRESS 12.6% \n",
      "QUANTAXIS>> ##JOB02 Now Saving XDXR INFO ==== 002043\n"
     ]
    },
    {
     "name": "stdout",
     "output_type": "stream",
     "text": [
      "'NoneType' object has no attribute 'assign'\n"
     ]
    },
    {
     "name": "stderr",
     "output_type": "stream",
     "text": [
      "QUANTAXIS>> The 563 of Total 4457\n",
      "QUANTAXIS>> DOWNLOAD PROGRESS 12.6% \n",
      "QUANTAXIS>> ##JOB02 Now Saving XDXR INFO ==== 002044\n"
     ]
    },
    {
     "name": "stdout",
     "output_type": "stream",
     "text": [
      "'NoneType' object has no attribute 'assign'\n"
     ]
    },
    {
     "name": "stderr",
     "output_type": "stream",
     "text": [
      "QUANTAXIS>> The 564 of Total 4457\n",
      "QUANTAXIS>> DOWNLOAD PROGRESS 12.6% \n",
      "QUANTAXIS>> ##JOB02 Now Saving XDXR INFO ==== 002045\n"
     ]
    },
    {
     "name": "stdout",
     "output_type": "stream",
     "text": [
      "'NoneType' object has no attribute 'assign'\n"
     ]
    },
    {
     "name": "stderr",
     "output_type": "stream",
     "text": [
      "QUANTAXIS>> The 565 of Total 4457\n",
      "QUANTAXIS>> DOWNLOAD PROGRESS 12.6% \n",
      "QUANTAXIS>> ##JOB02 Now Saving XDXR INFO ==== 002046\n"
     ]
    },
    {
     "name": "stdout",
     "output_type": "stream",
     "text": [
      "'NoneType' object has no attribute 'assign'\n"
     ]
    },
    {
     "name": "stderr",
     "output_type": "stream",
     "text": [
      "QUANTAXIS>> The 566 of Total 4457\n",
      "QUANTAXIS>> DOWNLOAD PROGRESS 12.6% \n",
      "QUANTAXIS>> ##JOB02 Now Saving XDXR INFO ==== 002047\n"
     ]
    },
    {
     "name": "stdout",
     "output_type": "stream",
     "text": [
      "'NoneType' object has no attribute 'assign'\n"
     ]
    },
    {
     "name": "stderr",
     "output_type": "stream",
     "text": [
      "QUANTAXIS>> The 567 of Total 4457\n",
      "QUANTAXIS>> DOWNLOAD PROGRESS 12.7% \n",
      "QUANTAXIS>> ##JOB02 Now Saving XDXR INFO ==== 002048\n"
     ]
    },
    {
     "name": "stdout",
     "output_type": "stream",
     "text": [
      "'NoneType' object has no attribute 'assign'\n"
     ]
    },
    {
     "name": "stderr",
     "output_type": "stream",
     "text": [
      "QUANTAXIS>> The 568 of Total 4457\n",
      "QUANTAXIS>> DOWNLOAD PROGRESS 12.7% \n",
      "QUANTAXIS>> ##JOB02 Now Saving XDXR INFO ==== 002049\n"
     ]
    },
    {
     "name": "stdout",
     "output_type": "stream",
     "text": [
      "'NoneType' object has no attribute 'assign'\n"
     ]
    },
    {
     "name": "stderr",
     "output_type": "stream",
     "text": [
      "QUANTAXIS>> The 569 of Total 4457\n",
      "QUANTAXIS>> DOWNLOAD PROGRESS 12.7% \n",
      "QUANTAXIS>> ##JOB02 Now Saving XDXR INFO ==== 002050\n"
     ]
    },
    {
     "name": "stdout",
     "output_type": "stream",
     "text": [
      "'NoneType' object has no attribute 'assign'\n"
     ]
    },
    {
     "name": "stderr",
     "output_type": "stream",
     "text": [
      "QUANTAXIS>> The 570 of Total 4457\n",
      "QUANTAXIS>> DOWNLOAD PROGRESS 12.7% \n",
      "QUANTAXIS>> ##JOB02 Now Saving XDXR INFO ==== 002051\n"
     ]
    },
    {
     "name": "stdout",
     "output_type": "stream",
     "text": [
      "'NoneType' object has no attribute 'assign'\n"
     ]
    },
    {
     "name": "stderr",
     "output_type": "stream",
     "text": [
      "QUANTAXIS>> The 571 of Total 4457\n",
      "QUANTAXIS>> DOWNLOAD PROGRESS 12.8% \n",
      "QUANTAXIS>> ##JOB02 Now Saving XDXR INFO ==== 002052\n"
     ]
    },
    {
     "name": "stdout",
     "output_type": "stream",
     "text": [
      "'NoneType' object has no attribute 'assign'\n"
     ]
    },
    {
     "name": "stderr",
     "output_type": "stream",
     "text": [
      "QUANTAXIS>> The 572 of Total 4457\n",
      "QUANTAXIS>> DOWNLOAD PROGRESS 12.8% \n",
      "QUANTAXIS>> ##JOB02 Now Saving XDXR INFO ==== 002053\n"
     ]
    },
    {
     "name": "stdout",
     "output_type": "stream",
     "text": [
      "'NoneType' object has no attribute 'assign'\n"
     ]
    },
    {
     "name": "stderr",
     "output_type": "stream",
     "text": [
      "QUANTAXIS>> The 573 of Total 4457\n",
      "QUANTAXIS>> DOWNLOAD PROGRESS 12.8% \n",
      "QUANTAXIS>> ##JOB02 Now Saving XDXR INFO ==== 002054\n"
     ]
    }
   ],
   "source": [
    "QA_SU_save_stock_xdxr('tdx')"
   ]
  },
  {
   "cell_type": "code",
   "execution_count": null,
   "id": "b913e741",
   "metadata": {},
   "outputs": [],
   "source": []
  },
  {
   "cell_type": "code",
   "execution_count": null,
   "id": "0aaa5601",
   "metadata": {},
   "outputs": [],
   "source": [
    "from QUANTAXIS.QAFetch.QATdx import QA_fetch_get_stock_xdxr"
   ]
  },
  {
   "cell_type": "code",
   "execution_count": null,
   "id": "7ab4f852",
   "metadata": {},
   "outputs": [],
   "source": [
    "a = QA_fetch_get_stock_xdxr(\"159928\")"
   ]
  },
  {
   "cell_type": "code",
   "execution_count": null,
   "id": "202daf25",
   "metadata": {},
   "outputs": [],
   "source": [
    "a\n"
   ]
  },
  {
   "cell_type": "code",
   "execution_count": 1,
   "id": "00b7a9fa",
   "metadata": {},
   "outputs": [
    {
     "name": "stdout",
     "output_type": "stream",
     "text": [
      "jqdatasdk not installed\n"
     ]
    }
   ],
   "source": [
    "from QUANTAXIS.QASU.save_tdx import QA_SU_save_etf_xdxr"
   ]
  },
  {
   "cell_type": "code",
   "execution_count": 2,
   "id": "ab084d86",
   "metadata": {},
   "outputs": [
    {
     "name": "stderr",
     "output_type": "stream",
     "text": [
      "QUANTAXIS>> Selecting the Best Server IP of TDX\n"
     ]
    },
    {
     "name": "stdout",
     "output_type": "stream",
     "text": [
      "USING DEFAULT STOCK IP\n",
      "BAD RESPONSE 119.147.86.171\n",
      "DEFAULT FUTURE IP {'stock': {'ip': '119.147.212.81', 'port': 7709}, 'future': {'ip': '119.147.86.171', 'port': 7727, 'name': '扩展市场深圳主站'}} is BAD, RETESTING\n",
      "BAD RESPONSE 120.24.0.77\n",
      "BAD RESPONSE 119.147.86.171\n",
      "Progress: 12.50%\n",
      "Progress: 25.00%\n",
      "BAD RESPONSE 124.74.236.94BAD RESPONSE 139.219.103.190BAD RESPONSE 14.215.128.18\n",
      "\n",
      "\n",
      "BAD RESPONSE 202.103.36.71\n",
      "BAD RESPONSE 47.92.127.181\n",
      "BAD RESPONSE 119.147.86.171\n",
      "BAD RESPONSE 59.175.238.38\n",
      "BAD RESPONSE 61.152.107.141\n",
      "BAD RESPONSE 61.152.107.171\n",
      "Progress: 37.50%\n",
      "Progress: 50.00%\n",
      "Progress: 62.50%\n",
      "Progress: 75.00%\n",
      "Progress: 87.50%\n",
      "Progress: 100.00%\n"
     ]
    },
    {
     "name": "stderr",
     "output_type": "stream",
     "text": [
      "QUANTAXIS>> === The BEST SERVER ===\n",
      " stock_ip 119.147.212.81 future_ip 119.147.86.171\n"
     ]
    },
    {
     "name": "stdout",
     "output_type": "stream",
     "text": [
      "saving ip list to future cache 4\n"
     ]
    },
    {
     "name": "stderr",
     "output_type": "stream",
     "text": [
      "QUANTAXIS>> The 0 of Total 879\n",
      "QUANTAXIS>> DOWNLOAD PROGRESS 0.0% \n",
      "QUANTAXIS>> ##JOB02 Now Saving XDXR INFO ==== 159001\n",
      "QUANTAXIS>> The 1 of Total 879\n",
      "QUANTAXIS>> DOWNLOAD PROGRESS 0.11% \n",
      "QUANTAXIS>> ##JOB02 Now Saving XDXR INFO ==== 159003\n",
      "QUANTAXIS>> The 2 of Total 879\n",
      "QUANTAXIS>> DOWNLOAD PROGRESS 0.22% \n",
      "QUANTAXIS>> ##JOB02 Now Saving XDXR INFO ==== 159005\n",
      "QUANTAXIS>> The 3 of Total 879\n",
      "QUANTAXIS>> DOWNLOAD PROGRESS 0.34% \n",
      "QUANTAXIS>> ##JOB02 Now Saving XDXR INFO ==== 159601\n",
      "QUANTAXIS>> The 4 of Total 879\n",
      "QUANTAXIS>> DOWNLOAD PROGRESS 0.45% \n",
      "QUANTAXIS>> ##JOB02 Now Saving XDXR INFO ==== 159602\n",
      "QUANTAXIS>> The 5 of Total 879\n",
      "QUANTAXIS>> DOWNLOAD PROGRESS 0.56% \n",
      "QUANTAXIS>> ##JOB02 Now Saving XDXR INFO ==== 159603\n",
      "QUANTAXIS>> The 6 of Total 879\n",
      "QUANTAXIS>> DOWNLOAD PROGRESS 0.68% \n",
      "QUANTAXIS>> ##JOB02 Now Saving XDXR INFO ==== 159605\n",
      "QUANTAXIS>> The 7 of Total 879\n",
      "QUANTAXIS>> DOWNLOAD PROGRESS 0.79% \n",
      "QUANTAXIS>> ##JOB02 Now Saving XDXR INFO ==== 159606\n",
      "QUANTAXIS>> The 8 of Total 879\n",
      "QUANTAXIS>> DOWNLOAD PROGRESS 0.91% \n",
      "QUANTAXIS>> ##JOB02 Now Saving XDXR INFO ==== 159607\n",
      "QUANTAXIS>> The 9 of Total 879\n",
      "QUANTAXIS>> DOWNLOAD PROGRESS 1.02% \n",
      "QUANTAXIS>> ##JOB02 Now Saving XDXR INFO ==== 159608\n",
      "QUANTAXIS>> The 10 of Total 879\n",
      "QUANTAXIS>> DOWNLOAD PROGRESS 1.13% \n",
      "QUANTAXIS>> ##JOB02 Now Saving XDXR INFO ==== 159609\n",
      "QUANTAXIS>> The 11 of Total 879\n",
      "QUANTAXIS>> DOWNLOAD PROGRESS 1.25% \n",
      "QUANTAXIS>> ##JOB02 Now Saving XDXR INFO ==== 159610\n",
      "QUANTAXIS>> The 12 of Total 879\n",
      "QUANTAXIS>> DOWNLOAD PROGRESS 1.36% \n",
      "QUANTAXIS>> ##JOB02 Now Saving XDXR INFO ==== 159611\n",
      "QUANTAXIS>> The 13 of Total 879\n",
      "QUANTAXIS>> DOWNLOAD PROGRESS 1.47% \n",
      "QUANTAXIS>> ##JOB02 Now Saving XDXR INFO ==== 159612\n",
      "QUANTAXIS>> The 14 of Total 879\n",
      "QUANTAXIS>> DOWNLOAD PROGRESS 1.59% \n",
      "QUANTAXIS>> ##JOB02 Now Saving XDXR INFO ==== 159613\n",
      "QUANTAXIS>> The 15 of Total 879\n",
      "QUANTAXIS>> DOWNLOAD PROGRESS 1.70% \n",
      "QUANTAXIS>> ##JOB02 Now Saving XDXR INFO ==== 159615\n",
      "QUANTAXIS>> The 16 of Total 879\n",
      "QUANTAXIS>> DOWNLOAD PROGRESS 1.82% \n",
      "QUANTAXIS>> ##JOB02 Now Saving XDXR INFO ==== 159616\n",
      "QUANTAXIS>> The 17 of Total 879\n",
      "QUANTAXIS>> DOWNLOAD PROGRESS 1.93% \n",
      "QUANTAXIS>> ##JOB02 Now Saving XDXR INFO ==== 159617\n",
      "QUANTAXIS>> The 18 of Total 879\n",
      "QUANTAXIS>> DOWNLOAD PROGRESS 2.04% \n",
      "QUANTAXIS>> ##JOB02 Now Saving XDXR INFO ==== 159618\n",
      "QUANTAXIS>> The 19 of Total 879\n",
      "QUANTAXIS>> DOWNLOAD PROGRESS 2.16% \n",
      "QUANTAXIS>> ##JOB02 Now Saving XDXR INFO ==== 159619\n",
      "QUANTAXIS>> The 20 of Total 879\n",
      "QUANTAXIS>> DOWNLOAD PROGRESS 2.27% \n",
      "QUANTAXIS>> ##JOB02 Now Saving XDXR INFO ==== 159620\n",
      "QUANTAXIS>> The 21 of Total 879\n",
      "QUANTAXIS>> DOWNLOAD PROGRESS 2.38% \n",
      "QUANTAXIS>> ##JOB02 Now Saving XDXR INFO ==== 159621\n",
      "QUANTAXIS>> The 22 of Total 879\n",
      "QUANTAXIS>> DOWNLOAD PROGRESS 2.50% \n",
      "QUANTAXIS>> ##JOB02 Now Saving XDXR INFO ==== 159623\n",
      "QUANTAXIS>> The 23 of Total 879\n",
      "QUANTAXIS>> DOWNLOAD PROGRESS 2.61% \n",
      "QUANTAXIS>> ##JOB02 Now Saving XDXR INFO ==== 159625\n",
      "QUANTAXIS>> The 24 of Total 879\n",
      "QUANTAXIS>> DOWNLOAD PROGRESS 2.73% \n",
      "QUANTAXIS>> ##JOB02 Now Saving XDXR INFO ==== 159627\n",
      "QUANTAXIS>> The 25 of Total 879\n",
      "QUANTAXIS>> DOWNLOAD PROGRESS 2.84% \n",
      "QUANTAXIS>> ##JOB02 Now Saving XDXR INFO ==== 159628\n",
      "QUANTAXIS>> The 26 of Total 879\n",
      "QUANTAXIS>> DOWNLOAD PROGRESS 2.95% \n",
      "QUANTAXIS>> ##JOB02 Now Saving XDXR INFO ==== 159629\n",
      "QUANTAXIS>> The 27 of Total 879\n",
      "QUANTAXIS>> DOWNLOAD PROGRESS 3.07% \n",
      "QUANTAXIS>> ##JOB02 Now Saving XDXR INFO ==== 159630\n",
      "QUANTAXIS>> The 28 of Total 879\n",
      "QUANTAXIS>> DOWNLOAD PROGRESS 3.18% \n",
      "QUANTAXIS>> ##JOB02 Now Saving XDXR INFO ==== 159631\n",
      "QUANTAXIS>> The 29 of Total 879\n",
      "QUANTAXIS>> DOWNLOAD PROGRESS 3.29% \n",
      "QUANTAXIS>> ##JOB02 Now Saving XDXR INFO ==== 159632\n",
      "QUANTAXIS>> The 30 of Total 879\n",
      "QUANTAXIS>> DOWNLOAD PROGRESS 3.41% \n",
      "QUANTAXIS>> ##JOB02 Now Saving XDXR INFO ==== 159633\n",
      "QUANTAXIS>> The 31 of Total 879\n",
      "QUANTAXIS>> DOWNLOAD PROGRESS 3.52% \n",
      "QUANTAXIS>> ##JOB02 Now Saving XDXR INFO ==== 159635\n",
      "QUANTAXIS>> The 32 of Total 879\n",
      "QUANTAXIS>> DOWNLOAD PROGRESS 3.64% \n",
      "QUANTAXIS>> ##JOB02 Now Saving XDXR INFO ==== 159636\n",
      "QUANTAXIS>> The 33 of Total 879\n",
      "QUANTAXIS>> DOWNLOAD PROGRESS 3.75% \n",
      "QUANTAXIS>> ##JOB02 Now Saving XDXR INFO ==== 159637\n",
      "QUANTAXIS>> The 34 of Total 879\n",
      "QUANTAXIS>> DOWNLOAD PROGRESS 3.86% \n",
      "QUANTAXIS>> ##JOB02 Now Saving XDXR INFO ==== 159638\n",
      "QUANTAXIS>> The 35 of Total 879\n",
      "QUANTAXIS>> DOWNLOAD PROGRESS 3.98% \n",
      "QUANTAXIS>> ##JOB02 Now Saving XDXR INFO ==== 159639\n",
      "QUANTAXIS>> The 36 of Total 879\n",
      "QUANTAXIS>> DOWNLOAD PROGRESS 4.09% \n",
      "QUANTAXIS>> ##JOB02 Now Saving XDXR INFO ==== 159640\n",
      "QUANTAXIS>> The 37 of Total 879\n",
      "QUANTAXIS>> DOWNLOAD PROGRESS 4.20% \n",
      "QUANTAXIS>> ##JOB02 Now Saving XDXR INFO ==== 159641\n",
      "QUANTAXIS>> The 38 of Total 879\n",
      "QUANTAXIS>> DOWNLOAD PROGRESS 4.32% \n",
      "QUANTAXIS>> ##JOB02 Now Saving XDXR INFO ==== 159642\n",
      "QUANTAXIS>> The 39 of Total 879\n",
      "QUANTAXIS>> DOWNLOAD PROGRESS 4.43% \n",
      "QUANTAXIS>> ##JOB02 Now Saving XDXR INFO ==== 159643\n",
      "QUANTAXIS>> The 40 of Total 879\n",
      "QUANTAXIS>> DOWNLOAD PROGRESS 4.55% \n",
      "QUANTAXIS>> ##JOB02 Now Saving XDXR INFO ==== 159645\n",
      "QUANTAXIS>> The 41 of Total 879\n",
      "QUANTAXIS>> DOWNLOAD PROGRESS 4.66% \n",
      "QUANTAXIS>> ##JOB02 Now Saving XDXR INFO ==== 159646\n",
      "QUANTAXIS>> The 42 of Total 879\n",
      "QUANTAXIS>> DOWNLOAD PROGRESS 4.77% \n",
      "QUANTAXIS>> ##JOB02 Now Saving XDXR INFO ==== 159647\n",
      "QUANTAXIS>> The 43 of Total 879\n",
      "QUANTAXIS>> DOWNLOAD PROGRESS 4.89% \n",
      "QUANTAXIS>> ##JOB02 Now Saving XDXR INFO ==== 159649\n",
      "QUANTAXIS>> The 44 of Total 879\n",
      "QUANTAXIS>> DOWNLOAD PROGRESS 5.00% \n",
      "QUANTAXIS>> ##JOB02 Now Saving XDXR INFO ==== 159650\n",
      "QUANTAXIS>> The 45 of Total 879\n",
      "QUANTAXIS>> DOWNLOAD PROGRESS 5.11% \n",
      "QUANTAXIS>> ##JOB02 Now Saving XDXR INFO ==== 159651\n",
      "QUANTAXIS>> The 46 of Total 879\n",
      "QUANTAXIS>> DOWNLOAD PROGRESS 5.23% \n",
      "QUANTAXIS>> ##JOB02 Now Saving XDXR INFO ==== 159652\n",
      "QUANTAXIS>> The 47 of Total 879\n",
      "QUANTAXIS>> DOWNLOAD PROGRESS 5.34% \n",
      "QUANTAXIS>> ##JOB02 Now Saving XDXR INFO ==== 159653\n",
      "QUANTAXIS>> The 48 of Total 879\n",
      "QUANTAXIS>> DOWNLOAD PROGRESS 5.46% \n",
      "QUANTAXIS>> ##JOB02 Now Saving XDXR INFO ==== 159655\n",
      "QUANTAXIS>> The 49 of Total 879\n",
      "QUANTAXIS>> DOWNLOAD PROGRESS 5.57% \n",
      "QUANTAXIS>> ##JOB02 Now Saving XDXR INFO ==== 159656\n",
      "QUANTAXIS>> The 50 of Total 879\n",
      "QUANTAXIS>> DOWNLOAD PROGRESS 5.68% \n",
      "QUANTAXIS>> ##JOB02 Now Saving XDXR INFO ==== 159657\n",
      "QUANTAXIS>> The 51 of Total 879\n",
      "QUANTAXIS>> DOWNLOAD PROGRESS 5.80% \n",
      "QUANTAXIS>> ##JOB02 Now Saving XDXR INFO ==== 159658\n",
      "QUANTAXIS>> The 52 of Total 879\n",
      "QUANTAXIS>> DOWNLOAD PROGRESS 5.91% \n",
      "QUANTAXIS>> ##JOB02 Now Saving XDXR INFO ==== 159659\n",
      "QUANTAXIS>> The 53 of Total 879\n",
      "QUANTAXIS>> DOWNLOAD PROGRESS 6.02% \n",
      "QUANTAXIS>> ##JOB02 Now Saving XDXR INFO ==== 159660\n",
      "QUANTAXIS>> The 54 of Total 879\n",
      "QUANTAXIS>> DOWNLOAD PROGRESS 6.14% \n",
      "QUANTAXIS>> ##JOB02 Now Saving XDXR INFO ==== 159662\n",
      "QUANTAXIS>> The 55 of Total 879\n",
      "QUANTAXIS>> DOWNLOAD PROGRESS 6.25% \n",
      "QUANTAXIS>> ##JOB02 Now Saving XDXR INFO ==== 159663\n",
      "QUANTAXIS>> The 56 of Total 879\n",
      "QUANTAXIS>> DOWNLOAD PROGRESS 6.37% \n",
      "QUANTAXIS>> ##JOB02 Now Saving XDXR INFO ==== 159665\n",
      "QUANTAXIS>> The 57 of Total 879\n",
      "QUANTAXIS>> DOWNLOAD PROGRESS 6.48% \n",
      "QUANTAXIS>> ##JOB02 Now Saving XDXR INFO ==== 159666\n",
      "QUANTAXIS>> The 58 of Total 879\n",
      "QUANTAXIS>> DOWNLOAD PROGRESS 6.59% \n",
      "QUANTAXIS>> ##JOB02 Now Saving XDXR INFO ==== 159667\n",
      "QUANTAXIS>> The 59 of Total 879\n",
      "QUANTAXIS>> DOWNLOAD PROGRESS 6.71% \n",
      "QUANTAXIS>> ##JOB02 Now Saving XDXR INFO ==== 159669\n",
      "QUANTAXIS>> The 60 of Total 879\n",
      "QUANTAXIS>> DOWNLOAD PROGRESS 6.82% \n",
      "QUANTAXIS>> ##JOB02 Now Saving XDXR INFO ==== 159671\n",
      "QUANTAXIS>> The 61 of Total 879\n",
      "QUANTAXIS>> DOWNLOAD PROGRESS 6.93% \n",
      "QUANTAXIS>> ##JOB02 Now Saving XDXR INFO ==== 159672\n",
      "QUANTAXIS>> The 62 of Total 879\n",
      "QUANTAXIS>> DOWNLOAD PROGRESS 7.05% \n",
      "QUANTAXIS>> ##JOB02 Now Saving XDXR INFO ==== 159673\n",
      "QUANTAXIS>> The 63 of Total 879\n",
      "QUANTAXIS>> DOWNLOAD PROGRESS 7.16% \n",
      "QUANTAXIS>> ##JOB02 Now Saving XDXR INFO ==== 159675\n",
      "QUANTAXIS>> The 64 of Total 879\n",
      "QUANTAXIS>> DOWNLOAD PROGRESS 7.28% \n",
      "QUANTAXIS>> ##JOB02 Now Saving XDXR INFO ==== 159676\n",
      "QUANTAXIS>> The 65 of Total 879\n",
      "QUANTAXIS>> DOWNLOAD PROGRESS 7.39% \n",
      "QUANTAXIS>> ##JOB02 Now Saving XDXR INFO ==== 159677\n",
      "QUANTAXIS>> The 66 of Total 879\n",
      "QUANTAXIS>> DOWNLOAD PROGRESS 7.50% \n",
      "QUANTAXIS>> ##JOB02 Now Saving XDXR INFO ==== 159678\n",
      "QUANTAXIS>> The 67 of Total 879\n"
     ]
    },
    {
     "name": "stderr",
     "output_type": "stream",
     "text": [
      "QUANTAXIS>> DOWNLOAD PROGRESS 7.62% \n",
      "QUANTAXIS>> ##JOB02 Now Saving XDXR INFO ==== 159679\n",
      "QUANTAXIS>> The 68 of Total 879\n",
      "QUANTAXIS>> DOWNLOAD PROGRESS 7.73% \n",
      "QUANTAXIS>> ##JOB02 Now Saving XDXR INFO ==== 159680\n",
      "QUANTAXIS>> The 69 of Total 879\n",
      "QUANTAXIS>> DOWNLOAD PROGRESS 7.84% \n",
      "QUANTAXIS>> ##JOB02 Now Saving XDXR INFO ==== 159681\n",
      "QUANTAXIS>> The 70 of Total 879\n",
      "QUANTAXIS>> DOWNLOAD PROGRESS 7.96% \n",
      "QUANTAXIS>> ##JOB02 Now Saving XDXR INFO ==== 159682\n",
      "QUANTAXIS>> The 71 of Total 879\n",
      "QUANTAXIS>> DOWNLOAD PROGRESS 8.07% \n",
      "QUANTAXIS>> ##JOB02 Now Saving XDXR INFO ==== 159683\n",
      "QUANTAXIS>> The 72 of Total 879\n",
      "QUANTAXIS>> DOWNLOAD PROGRESS 8.19% \n",
      "QUANTAXIS>> ##JOB02 Now Saving XDXR INFO ==== 159685\n",
      "QUANTAXIS>> The 73 of Total 879\n",
      "QUANTAXIS>> DOWNLOAD PROGRESS 8.30% \n",
      "QUANTAXIS>> ##JOB02 Now Saving XDXR INFO ==== 159686\n",
      "QUANTAXIS>> The 74 of Total 879\n",
      "QUANTAXIS>> DOWNLOAD PROGRESS 8.41% \n",
      "QUANTAXIS>> ##JOB02 Now Saving XDXR INFO ==== 159687\n",
      "QUANTAXIS>> The 75 of Total 879\n",
      "QUANTAXIS>> DOWNLOAD PROGRESS 8.53% \n",
      "QUANTAXIS>> ##JOB02 Now Saving XDXR INFO ==== 159688\n",
      "QUANTAXIS>> The 76 of Total 879\n",
      "QUANTAXIS>> DOWNLOAD PROGRESS 8.64% \n",
      "QUANTAXIS>> ##JOB02 Now Saving XDXR INFO ==== 159689\n",
      "QUANTAXIS>> The 77 of Total 879\n",
      "QUANTAXIS>> DOWNLOAD PROGRESS 8.75% \n",
      "QUANTAXIS>> ##JOB02 Now Saving XDXR INFO ==== 159691\n",
      "QUANTAXIS>> The 78 of Total 879\n",
      "QUANTAXIS>> DOWNLOAD PROGRESS 8.87% \n",
      "QUANTAXIS>> ##JOB02 Now Saving XDXR INFO ==== 159701\n",
      "QUANTAXIS>> The 79 of Total 879\n",
      "QUANTAXIS>> DOWNLOAD PROGRESS 8.98% \n",
      "QUANTAXIS>> ##JOB02 Now Saving XDXR INFO ==== 159703\n",
      "QUANTAXIS>> The 80 of Total 879\n",
      "QUANTAXIS>> DOWNLOAD PROGRESS 9.10% \n",
      "QUANTAXIS>> ##JOB02 Now Saving XDXR INFO ==== 159706\n",
      "QUANTAXIS>> The 81 of Total 879\n",
      "QUANTAXIS>> DOWNLOAD PROGRESS 9.21% \n",
      "QUANTAXIS>> ##JOB02 Now Saving XDXR INFO ==== 159707\n",
      "QUANTAXIS>> The 82 of Total 879\n",
      "QUANTAXIS>> DOWNLOAD PROGRESS 9.32% \n",
      "QUANTAXIS>> ##JOB02 Now Saving XDXR INFO ==== 159708\n",
      "QUANTAXIS>> The 83 of Total 879\n",
      "QUANTAXIS>> DOWNLOAD PROGRESS 9.44% \n",
      "QUANTAXIS>> ##JOB02 Now Saving XDXR INFO ==== 159709\n",
      "QUANTAXIS>> The 84 of Total 879\n",
      "QUANTAXIS>> DOWNLOAD PROGRESS 9.55% \n",
      "QUANTAXIS>> ##JOB02 Now Saving XDXR INFO ==== 159710\n",
      "QUANTAXIS>> The 85 of Total 879\n",
      "QUANTAXIS>> DOWNLOAD PROGRESS 9.67% \n",
      "QUANTAXIS>> ##JOB02 Now Saving XDXR INFO ==== 159711\n",
      "QUANTAXIS>> The 86 of Total 879\n",
      "QUANTAXIS>> DOWNLOAD PROGRESS 9.78% \n",
      "QUANTAXIS>> ##JOB02 Now Saving XDXR INFO ==== 159712\n",
      "QUANTAXIS>> The 87 of Total 879\n",
      "QUANTAXIS>> DOWNLOAD PROGRESS 9.89% \n",
      "QUANTAXIS>> ##JOB02 Now Saving XDXR INFO ==== 159713\n",
      "QUANTAXIS>> The 88 of Total 879\n",
      "QUANTAXIS>> DOWNLOAD PROGRESS 10.0% \n",
      "QUANTAXIS>> ##JOB02 Now Saving XDXR INFO ==== 159715\n",
      "QUANTAXIS>> The 89 of Total 879\n",
      "QUANTAXIS>> DOWNLOAD PROGRESS 10.1% \n",
      "QUANTAXIS>> ##JOB02 Now Saving XDXR INFO ==== 159716\n",
      "QUANTAXIS>> The 90 of Total 879\n",
      "QUANTAXIS>> DOWNLOAD PROGRESS 10.2% \n",
      "QUANTAXIS>> ##JOB02 Now Saving XDXR INFO ==== 159717\n",
      "QUANTAXIS>> The 91 of Total 879\n",
      "QUANTAXIS>> DOWNLOAD PROGRESS 10.3% \n",
      "QUANTAXIS>> ##JOB02 Now Saving XDXR INFO ==== 159718\n",
      "QUANTAXIS>> The 92 of Total 879\n",
      "QUANTAXIS>> DOWNLOAD PROGRESS 10.4% \n",
      "QUANTAXIS>> ##JOB02 Now Saving XDXR INFO ==== 159719\n",
      "QUANTAXIS>> The 93 of Total 879\n",
      "QUANTAXIS>> DOWNLOAD PROGRESS 10.5% \n",
      "QUANTAXIS>> ##JOB02 Now Saving XDXR INFO ==== 159720\n",
      "QUANTAXIS>> The 94 of Total 879\n",
      "QUANTAXIS>> DOWNLOAD PROGRESS 10.6% \n",
      "QUANTAXIS>> ##JOB02 Now Saving XDXR INFO ==== 159721\n",
      "QUANTAXIS>> The 95 of Total 879\n",
      "QUANTAXIS>> DOWNLOAD PROGRESS 10.8% \n",
      "QUANTAXIS>> ##JOB02 Now Saving XDXR INFO ==== 159723\n",
      "QUANTAXIS>> The 96 of Total 879\n",
      "QUANTAXIS>> DOWNLOAD PROGRESS 10.9% \n",
      "QUANTAXIS>> ##JOB02 Now Saving XDXR INFO ==== 159725\n",
      "QUANTAXIS>> The 97 of Total 879\n",
      "QUANTAXIS>> DOWNLOAD PROGRESS 11.0% \n",
      "QUANTAXIS>> ##JOB02 Now Saving XDXR INFO ==== 159726\n",
      "QUANTAXIS>> The 98 of Total 879\n",
      "QUANTAXIS>> DOWNLOAD PROGRESS 11.1% \n",
      "QUANTAXIS>> ##JOB02 Now Saving XDXR INFO ==== 159728\n",
      "QUANTAXIS>> The 99 of Total 879\n",
      "QUANTAXIS>> DOWNLOAD PROGRESS 11.2% \n",
      "QUANTAXIS>> ##JOB02 Now Saving XDXR INFO ==== 159729\n",
      "QUANTAXIS>> The 100 of Total 879\n",
      "QUANTAXIS>> DOWNLOAD PROGRESS 11.3% \n",
      "QUANTAXIS>> ##JOB02 Now Saving XDXR INFO ==== 159730\n",
      "QUANTAXIS>> The 101 of Total 879\n",
      "QUANTAXIS>> DOWNLOAD PROGRESS 11.4% \n",
      "QUANTAXIS>> ##JOB02 Now Saving XDXR INFO ==== 159731\n",
      "QUANTAXIS>> The 102 of Total 879\n",
      "QUANTAXIS>> DOWNLOAD PROGRESS 11.6% \n",
      "QUANTAXIS>> ##JOB02 Now Saving XDXR INFO ==== 159732\n",
      "QUANTAXIS>> The 103 of Total 879\n",
      "QUANTAXIS>> DOWNLOAD PROGRESS 11.7% \n",
      "QUANTAXIS>> ##JOB02 Now Saving XDXR INFO ==== 159733\n",
      "QUANTAXIS>> The 104 of Total 879\n",
      "QUANTAXIS>> DOWNLOAD PROGRESS 11.8% \n",
      "QUANTAXIS>> ##JOB02 Now Saving XDXR INFO ==== 159735\n",
      "QUANTAXIS>> The 105 of Total 879\n",
      "QUANTAXIS>> DOWNLOAD PROGRESS 11.9% \n",
      "QUANTAXIS>> ##JOB02 Now Saving XDXR INFO ==== 159736\n",
      "QUANTAXIS>> The 106 of Total 879\n",
      "QUANTAXIS>> DOWNLOAD PROGRESS 12.0% \n",
      "QUANTAXIS>> ##JOB02 Now Saving XDXR INFO ==== 159738\n",
      "QUANTAXIS>> The 107 of Total 879\n",
      "QUANTAXIS>> DOWNLOAD PROGRESS 12.1% \n",
      "QUANTAXIS>> ##JOB02 Now Saving XDXR INFO ==== 159739\n",
      "QUANTAXIS>> The 108 of Total 879\n",
      "QUANTAXIS>> DOWNLOAD PROGRESS 12.2% \n",
      "QUANTAXIS>> ##JOB02 Now Saving XDXR INFO ==== 159740\n",
      "QUANTAXIS>> The 109 of Total 879\n",
      "QUANTAXIS>> DOWNLOAD PROGRESS 12.4% \n",
      "QUANTAXIS>> ##JOB02 Now Saving XDXR INFO ==== 159741\n",
      "QUANTAXIS>> The 110 of Total 879\n",
      "QUANTAXIS>> DOWNLOAD PROGRESS 12.5% \n",
      "QUANTAXIS>> ##JOB02 Now Saving XDXR INFO ==== 159742\n",
      "QUANTAXIS>> The 111 of Total 879\n",
      "QUANTAXIS>> DOWNLOAD PROGRESS 12.6% \n",
      "QUANTAXIS>> ##JOB02 Now Saving XDXR INFO ==== 159743\n",
      "QUANTAXIS>> The 112 of Total 879\n",
      "QUANTAXIS>> DOWNLOAD PROGRESS 12.7% \n",
      "QUANTAXIS>> ##JOB02 Now Saving XDXR INFO ==== 159745\n",
      "QUANTAXIS>> The 113 of Total 879\n",
      "QUANTAXIS>> DOWNLOAD PROGRESS 12.8% \n",
      "QUANTAXIS>> ##JOB02 Now Saving XDXR INFO ==== 159747\n",
      "QUANTAXIS>> The 114 of Total 879\n",
      "QUANTAXIS>> DOWNLOAD PROGRESS 12.9% \n",
      "QUANTAXIS>> ##JOB02 Now Saving XDXR INFO ==== 159748\n",
      "QUANTAXIS>> The 115 of Total 879\n",
      "QUANTAXIS>> DOWNLOAD PROGRESS 13.0% \n",
      "QUANTAXIS>> ##JOB02 Now Saving XDXR INFO ==== 159750\n",
      "QUANTAXIS>> The 116 of Total 879\n",
      "QUANTAXIS>> DOWNLOAD PROGRESS 13.1% \n",
      "QUANTAXIS>> ##JOB02 Now Saving XDXR INFO ==== 159751\n",
      "QUANTAXIS>> The 117 of Total 879\n",
      "QUANTAXIS>> DOWNLOAD PROGRESS 13.3% \n",
      "QUANTAXIS>> ##JOB02 Now Saving XDXR INFO ==== 159752\n",
      "QUANTAXIS>> The 118 of Total 879\n",
      "QUANTAXIS>> DOWNLOAD PROGRESS 13.4% \n",
      "QUANTAXIS>> ##JOB02 Now Saving XDXR INFO ==== 159755\n",
      "QUANTAXIS>> The 119 of Total 879\n",
      "QUANTAXIS>> DOWNLOAD PROGRESS 13.5% \n",
      "QUANTAXIS>> ##JOB02 Now Saving XDXR INFO ==== 159757\n",
      "QUANTAXIS>> The 120 of Total 879\n",
      "QUANTAXIS>> DOWNLOAD PROGRESS 13.6% \n",
      "QUANTAXIS>> ##JOB02 Now Saving XDXR INFO ==== 159758\n",
      "QUANTAXIS>> The 121 of Total 879\n",
      "QUANTAXIS>> DOWNLOAD PROGRESS 13.7% \n",
      "QUANTAXIS>> ##JOB02 Now Saving XDXR INFO ==== 159760\n",
      "QUANTAXIS>> The 122 of Total 879\n",
      "QUANTAXIS>> DOWNLOAD PROGRESS 13.8% \n",
      "QUANTAXIS>> ##JOB02 Now Saving XDXR INFO ==== 159761\n",
      "QUANTAXIS>> The 123 of Total 879\n",
      "QUANTAXIS>> DOWNLOAD PROGRESS 13.9% \n",
      "QUANTAXIS>> ##JOB02 Now Saving XDXR INFO ==== 159763\n",
      "QUANTAXIS>> The 124 of Total 879\n",
      "QUANTAXIS>> DOWNLOAD PROGRESS 14.1% \n",
      "QUANTAXIS>> ##JOB02 Now Saving XDXR INFO ==== 159766\n",
      "QUANTAXIS>> The 125 of Total 879\n",
      "QUANTAXIS>> DOWNLOAD PROGRESS 14.2% \n",
      "QUANTAXIS>> ##JOB02 Now Saving XDXR INFO ==== 159767\n",
      "QUANTAXIS>> The 126 of Total 879\n",
      "QUANTAXIS>> DOWNLOAD PROGRESS 14.3% \n",
      "QUANTAXIS>> ##JOB02 Now Saving XDXR INFO ==== 159768\n",
      "QUANTAXIS>> The 127 of Total 879\n",
      "QUANTAXIS>> DOWNLOAD PROGRESS 14.4% \n",
      "QUANTAXIS>> ##JOB02 Now Saving XDXR INFO ==== 159769\n",
      "QUANTAXIS>> The 128 of Total 879\n",
      "QUANTAXIS>> DOWNLOAD PROGRESS 14.5% \n",
      "QUANTAXIS>> ##JOB02 Now Saving XDXR INFO ==== 159770\n",
      "QUANTAXIS>> The 129 of Total 879\n",
      "QUANTAXIS>> DOWNLOAD PROGRESS 14.6% \n",
      "QUANTAXIS>> ##JOB02 Now Saving XDXR INFO ==== 159773\n",
      "QUANTAXIS>> The 130 of Total 879\n",
      "QUANTAXIS>> DOWNLOAD PROGRESS 14.7% \n",
      "QUANTAXIS>> ##JOB02 Now Saving XDXR INFO ==== 159775\n",
      "QUANTAXIS>> The 131 of Total 879\n",
      "QUANTAXIS>> DOWNLOAD PROGRESS 14.9% \n",
      "QUANTAXIS>> ##JOB02 Now Saving XDXR INFO ==== 159776\n",
      "QUANTAXIS>> The 132 of Total 879\n",
      "QUANTAXIS>> DOWNLOAD PROGRESS 15.0% \n",
      "QUANTAXIS>> ##JOB02 Now Saving XDXR INFO ==== 159777\n",
      "QUANTAXIS>> The 133 of Total 879\n",
      "QUANTAXIS>> DOWNLOAD PROGRESS 15.1% \n",
      "QUANTAXIS>> ##JOB02 Now Saving XDXR INFO ==== 159778\n",
      "QUANTAXIS>> The 134 of Total 879\n"
     ]
    },
    {
     "name": "stderr",
     "output_type": "stream",
     "text": [
      "QUANTAXIS>> DOWNLOAD PROGRESS 15.2% \n",
      "QUANTAXIS>> ##JOB02 Now Saving XDXR INFO ==== 159779\n",
      "QUANTAXIS>> The 135 of Total 879\n",
      "QUANTAXIS>> DOWNLOAD PROGRESS 15.3% \n",
      "QUANTAXIS>> ##JOB02 Now Saving XDXR INFO ==== 159780\n",
      "QUANTAXIS>> The 136 of Total 879\n",
      "QUANTAXIS>> DOWNLOAD PROGRESS 15.4% \n",
      "QUANTAXIS>> ##JOB02 Now Saving XDXR INFO ==== 159781\n",
      "QUANTAXIS>> The 137 of Total 879\n",
      "QUANTAXIS>> DOWNLOAD PROGRESS 15.5% \n",
      "QUANTAXIS>> ##JOB02 Now Saving XDXR INFO ==== 159782\n",
      "QUANTAXIS>> The 138 of Total 879\n",
      "QUANTAXIS>> DOWNLOAD PROGRESS 15.6% \n",
      "QUANTAXIS>> ##JOB02 Now Saving XDXR INFO ==== 159783\n",
      "QUANTAXIS>> The 139 of Total 879\n",
      "QUANTAXIS>> DOWNLOAD PROGRESS 15.8% \n",
      "QUANTAXIS>> ##JOB02 Now Saving XDXR INFO ==== 159786\n",
      "QUANTAXIS>> The 140 of Total 879\n",
      "QUANTAXIS>> DOWNLOAD PROGRESS 15.9% \n",
      "QUANTAXIS>> ##JOB02 Now Saving XDXR INFO ==== 159787\n",
      "QUANTAXIS>> The 141 of Total 879\n",
      "QUANTAXIS>> DOWNLOAD PROGRESS 16.0% \n",
      "QUANTAXIS>> ##JOB02 Now Saving XDXR INFO ==== 159788\n",
      "QUANTAXIS>> The 142 of Total 879\n",
      "QUANTAXIS>> DOWNLOAD PROGRESS 16.1% \n",
      "QUANTAXIS>> ##JOB02 Now Saving XDXR INFO ==== 159789\n",
      "QUANTAXIS>> The 143 of Total 879\n",
      "QUANTAXIS>> DOWNLOAD PROGRESS 16.2% \n",
      "QUANTAXIS>> ##JOB02 Now Saving XDXR INFO ==== 159790\n",
      "QUANTAXIS>> The 144 of Total 879\n",
      "QUANTAXIS>> DOWNLOAD PROGRESS 16.3% \n",
      "QUANTAXIS>> ##JOB02 Now Saving XDXR INFO ==== 159791\n",
      "QUANTAXIS>> The 145 of Total 879\n",
      "QUANTAXIS>> DOWNLOAD PROGRESS 16.4% \n",
      "QUANTAXIS>> ##JOB02 Now Saving XDXR INFO ==== 159792\n",
      "QUANTAXIS>> The 146 of Total 879\n",
      "QUANTAXIS>> DOWNLOAD PROGRESS 16.6% \n",
      "QUANTAXIS>> ##JOB02 Now Saving XDXR INFO ==== 159793\n",
      "QUANTAXIS>> The 147 of Total 879\n",
      "QUANTAXIS>> DOWNLOAD PROGRESS 16.7% \n",
      "QUANTAXIS>> ##JOB02 Now Saving XDXR INFO ==== 159795\n",
      "QUANTAXIS>> The 148 of Total 879\n",
      "QUANTAXIS>> DOWNLOAD PROGRESS 16.8% \n",
      "QUANTAXIS>> ##JOB02 Now Saving XDXR INFO ==== 159796\n",
      "QUANTAXIS>> The 149 of Total 879\n",
      "QUANTAXIS>> DOWNLOAD PROGRESS 16.9% \n",
      "QUANTAXIS>> ##JOB02 Now Saving XDXR INFO ==== 159797\n",
      "QUANTAXIS>> The 150 of Total 879\n",
      "QUANTAXIS>> DOWNLOAD PROGRESS 17.0% \n",
      "QUANTAXIS>> ##JOB02 Now Saving XDXR INFO ==== 159798\n",
      "QUANTAXIS>> The 151 of Total 879\n",
      "QUANTAXIS>> DOWNLOAD PROGRESS 17.1% \n",
      "QUANTAXIS>> ##JOB02 Now Saving XDXR INFO ==== 159801\n",
      "QUANTAXIS>> The 152 of Total 879\n",
      "QUANTAXIS>> DOWNLOAD PROGRESS 17.2% \n",
      "QUANTAXIS>> ##JOB02 Now Saving XDXR INFO ==== 159804\n",
      "QUANTAXIS>> The 153 of Total 879\n",
      "QUANTAXIS>> DOWNLOAD PROGRESS 17.4% \n",
      "QUANTAXIS>> ##JOB02 Now Saving XDXR INFO ==== 159805\n",
      "QUANTAXIS>> The 154 of Total 879\n",
      "QUANTAXIS>> DOWNLOAD PROGRESS 17.5% \n",
      "QUANTAXIS>> ##JOB02 Now Saving XDXR INFO ==== 159806\n",
      "QUANTAXIS>> The 155 of Total 879\n",
      "QUANTAXIS>> DOWNLOAD PROGRESS 17.6% \n",
      "QUANTAXIS>> ##JOB02 Now Saving XDXR INFO ==== 159807\n",
      "QUANTAXIS>> The 156 of Total 879\n",
      "QUANTAXIS>> DOWNLOAD PROGRESS 17.7% \n",
      "QUANTAXIS>> ##JOB02 Now Saving XDXR INFO ==== 159808\n",
      "QUANTAXIS>> The 157 of Total 879\n",
      "QUANTAXIS>> DOWNLOAD PROGRESS 17.8% \n",
      "QUANTAXIS>> ##JOB02 Now Saving XDXR INFO ==== 159810\n",
      "QUANTAXIS>> The 158 of Total 879\n",
      "QUANTAXIS>> DOWNLOAD PROGRESS 17.9% \n",
      "QUANTAXIS>> ##JOB02 Now Saving XDXR INFO ==== 159811\n",
      "QUANTAXIS>> The 159 of Total 879\n",
      "QUANTAXIS>> DOWNLOAD PROGRESS 18.0% \n",
      "QUANTAXIS>> ##JOB02 Now Saving XDXR INFO ==== 159812\n",
      "QUANTAXIS>> The 160 of Total 879\n",
      "QUANTAXIS>> DOWNLOAD PROGRESS 18.2% \n",
      "QUANTAXIS>> ##JOB02 Now Saving XDXR INFO ==== 159813\n",
      "QUANTAXIS>> The 161 of Total 879\n",
      "QUANTAXIS>> DOWNLOAD PROGRESS 18.3% \n",
      "QUANTAXIS>> ##JOB02 Now Saving XDXR INFO ==== 159814\n",
      "QUANTAXIS>> The 162 of Total 879\n",
      "QUANTAXIS>> DOWNLOAD PROGRESS 18.4% \n",
      "QUANTAXIS>> ##JOB02 Now Saving XDXR INFO ==== 159816\n",
      "QUANTAXIS>> The 163 of Total 879\n",
      "QUANTAXIS>> DOWNLOAD PROGRESS 18.5% \n",
      "QUANTAXIS>> ##JOB02 Now Saving XDXR INFO ==== 159819\n",
      "QUANTAXIS>> The 164 of Total 879\n",
      "QUANTAXIS>> DOWNLOAD PROGRESS 18.6% \n",
      "QUANTAXIS>> ##JOB02 Now Saving XDXR INFO ==== 159820\n",
      "QUANTAXIS>> The 165 of Total 879\n",
      "QUANTAXIS>> DOWNLOAD PROGRESS 18.7% \n",
      "QUANTAXIS>> ##JOB02 Now Saving XDXR INFO ==== 159821\n",
      "QUANTAXIS>> The 166 of Total 879\n",
      "QUANTAXIS>> DOWNLOAD PROGRESS 18.8% \n",
      "QUANTAXIS>> ##JOB02 Now Saving XDXR INFO ==== 159822\n",
      "QUANTAXIS>> The 167 of Total 879\n",
      "QUANTAXIS>> DOWNLOAD PROGRESS 18.9% \n",
      "QUANTAXIS>> ##JOB02 Now Saving XDXR INFO ==== 159823\n",
      "QUANTAXIS>> The 168 of Total 879\n",
      "QUANTAXIS>> DOWNLOAD PROGRESS 19.1% \n",
      "QUANTAXIS>> ##JOB02 Now Saving XDXR INFO ==== 159824\n",
      "QUANTAXIS>> The 169 of Total 879\n",
      "QUANTAXIS>> DOWNLOAD PROGRESS 19.2% \n",
      "QUANTAXIS>> ##JOB02 Now Saving XDXR INFO ==== 159825\n",
      "QUANTAXIS>> The 170 of Total 879\n",
      "QUANTAXIS>> DOWNLOAD PROGRESS 19.3% \n",
      "QUANTAXIS>> ##JOB02 Now Saving XDXR INFO ==== 159827\n",
      "QUANTAXIS>> The 171 of Total 879\n",
      "QUANTAXIS>> DOWNLOAD PROGRESS 19.4% \n",
      "QUANTAXIS>> ##JOB02 Now Saving XDXR INFO ==== 159828\n",
      "QUANTAXIS>> The 172 of Total 879\n",
      "QUANTAXIS>> DOWNLOAD PROGRESS 19.5% \n",
      "QUANTAXIS>> ##JOB02 Now Saving XDXR INFO ==== 159830\n",
      "QUANTAXIS>> The 173 of Total 879\n",
      "QUANTAXIS>> DOWNLOAD PROGRESS 19.6% \n",
      "QUANTAXIS>> ##JOB02 Now Saving XDXR INFO ==== 159831\n",
      "QUANTAXIS>> The 174 of Total 879\n",
      "QUANTAXIS>> DOWNLOAD PROGRESS 19.7% \n",
      "QUANTAXIS>> ##JOB02 Now Saving XDXR INFO ==== 159833\n",
      "QUANTAXIS>> The 175 of Total 879\n",
      "QUANTAXIS>> DOWNLOAD PROGRESS 19.9% \n",
      "QUANTAXIS>> ##JOB02 Now Saving XDXR INFO ==== 159834\n",
      "QUANTAXIS>> The 176 of Total 879\n",
      "QUANTAXIS>> DOWNLOAD PROGRESS 20.0% \n",
      "QUANTAXIS>> ##JOB02 Now Saving XDXR INFO ==== 159835\n",
      "QUANTAXIS>> The 177 of Total 879\n",
      "QUANTAXIS>> DOWNLOAD PROGRESS 20.1% \n",
      "QUANTAXIS>> ##JOB02 Now Saving XDXR INFO ==== 159836\n",
      "QUANTAXIS>> The 178 of Total 879\n",
      "QUANTAXIS>> DOWNLOAD PROGRESS 20.2% \n",
      "QUANTAXIS>> ##JOB02 Now Saving XDXR INFO ==== 159837\n",
      "QUANTAXIS>> The 179 of Total 879\n",
      "QUANTAXIS>> DOWNLOAD PROGRESS 20.3% \n",
      "QUANTAXIS>> ##JOB02 Now Saving XDXR INFO ==== 159838\n",
      "QUANTAXIS>> The 180 of Total 879\n",
      "QUANTAXIS>> DOWNLOAD PROGRESS 20.4% \n",
      "QUANTAXIS>> ##JOB02 Now Saving XDXR INFO ==== 159839\n",
      "QUANTAXIS>> The 181 of Total 879\n",
      "QUANTAXIS>> DOWNLOAD PROGRESS 20.5% \n",
      "QUANTAXIS>> ##JOB02 Now Saving XDXR INFO ==== 159840\n",
      "QUANTAXIS>> The 182 of Total 879\n",
      "QUANTAXIS>> DOWNLOAD PROGRESS 20.7% \n",
      "QUANTAXIS>> ##JOB02 Now Saving XDXR INFO ==== 159841\n",
      "QUANTAXIS>> The 183 of Total 879\n",
      "QUANTAXIS>> DOWNLOAD PROGRESS 20.8% \n",
      "QUANTAXIS>> ##JOB02 Now Saving XDXR INFO ==== 159842\n",
      "QUANTAXIS>> The 184 of Total 879\n",
      "QUANTAXIS>> DOWNLOAD PROGRESS 20.9% \n",
      "QUANTAXIS>> ##JOB02 Now Saving XDXR INFO ==== 159843\n",
      "QUANTAXIS>> The 185 of Total 879\n",
      "QUANTAXIS>> DOWNLOAD PROGRESS 21.0% \n",
      "QUANTAXIS>> ##JOB02 Now Saving XDXR INFO ==== 159845\n",
      "QUANTAXIS>> The 186 of Total 879\n",
      "QUANTAXIS>> DOWNLOAD PROGRESS 21.1% \n",
      "QUANTAXIS>> ##JOB02 Now Saving XDXR INFO ==== 159847\n",
      "QUANTAXIS>> The 187 of Total 879\n",
      "QUANTAXIS>> DOWNLOAD PROGRESS 21.2% \n",
      "QUANTAXIS>> ##JOB02 Now Saving XDXR INFO ==== 159848\n",
      "QUANTAXIS>> The 188 of Total 879\n",
      "QUANTAXIS>> DOWNLOAD PROGRESS 21.3% \n",
      "QUANTAXIS>> ##JOB02 Now Saving XDXR INFO ==== 159849\n",
      "QUANTAXIS>> The 189 of Total 879\n",
      "QUANTAXIS>> DOWNLOAD PROGRESS 21.5% \n",
      "QUANTAXIS>> ##JOB02 Now Saving XDXR INFO ==== 159850\n",
      "QUANTAXIS>> The 190 of Total 879\n",
      "QUANTAXIS>> DOWNLOAD PROGRESS 21.6% \n",
      "QUANTAXIS>> ##JOB02 Now Saving XDXR INFO ==== 159851\n",
      "QUANTAXIS>> The 191 of Total 879\n",
      "QUANTAXIS>> DOWNLOAD PROGRESS 21.7% \n",
      "QUANTAXIS>> ##JOB02 Now Saving XDXR INFO ==== 159852\n",
      "QUANTAXIS>> The 192 of Total 879\n",
      "QUANTAXIS>> DOWNLOAD PROGRESS 21.8% \n",
      "QUANTAXIS>> ##JOB02 Now Saving XDXR INFO ==== 159853\n",
      "QUANTAXIS>> The 193 of Total 879\n",
      "QUANTAXIS>> DOWNLOAD PROGRESS 21.9% \n",
      "QUANTAXIS>> ##JOB02 Now Saving XDXR INFO ==== 159855\n",
      "QUANTAXIS>> The 194 of Total 879\n",
      "QUANTAXIS>> DOWNLOAD PROGRESS 22.0% \n",
      "QUANTAXIS>> ##JOB02 Now Saving XDXR INFO ==== 159856\n",
      "QUANTAXIS>> The 195 of Total 879\n",
      "QUANTAXIS>> DOWNLOAD PROGRESS 22.1% \n",
      "QUANTAXIS>> ##JOB02 Now Saving XDXR INFO ==== 159857\n",
      "QUANTAXIS>> The 196 of Total 879\n",
      "QUANTAXIS>> DOWNLOAD PROGRESS 22.2% \n",
      "QUANTAXIS>> ##JOB02 Now Saving XDXR INFO ==== 159858\n",
      "QUANTAXIS>> The 197 of Total 879\n",
      "QUANTAXIS>> DOWNLOAD PROGRESS 22.4% \n",
      "QUANTAXIS>> ##JOB02 Now Saving XDXR INFO ==== 159859\n",
      "QUANTAXIS>> The 198 of Total 879\n",
      "QUANTAXIS>> DOWNLOAD PROGRESS 22.5% \n",
      "QUANTAXIS>> ##JOB02 Now Saving XDXR INFO ==== 159861\n",
      "QUANTAXIS>> The 199 of Total 879\n",
      "QUANTAXIS>> DOWNLOAD PROGRESS 22.6% \n",
      "QUANTAXIS>> ##JOB02 Now Saving XDXR INFO ==== 159862\n",
      "QUANTAXIS>> The 200 of Total 879\n",
      "QUANTAXIS>> DOWNLOAD PROGRESS 22.7% \n",
      "QUANTAXIS>> ##JOB02 Now Saving XDXR INFO ==== 159863\n"
     ]
    },
    {
     "name": "stderr",
     "output_type": "stream",
     "text": [
      "QUANTAXIS>> The 201 of Total 879\n",
      "QUANTAXIS>> DOWNLOAD PROGRESS 22.8% \n",
      "QUANTAXIS>> ##JOB02 Now Saving XDXR INFO ==== 159864\n",
      "QUANTAXIS>> The 202 of Total 879\n",
      "QUANTAXIS>> DOWNLOAD PROGRESS 22.9% \n",
      "QUANTAXIS>> ##JOB02 Now Saving XDXR INFO ==== 159865\n",
      "QUANTAXIS>> The 203 of Total 879\n",
      "QUANTAXIS>> DOWNLOAD PROGRESS 23.0% \n",
      "QUANTAXIS>> ##JOB02 Now Saving XDXR INFO ==== 159866\n",
      "QUANTAXIS>> The 204 of Total 879\n",
      "QUANTAXIS>> DOWNLOAD PROGRESS 23.2% \n",
      "QUANTAXIS>> ##JOB02 Now Saving XDXR INFO ==== 159867\n",
      "QUANTAXIS>> The 205 of Total 879\n",
      "QUANTAXIS>> DOWNLOAD PROGRESS 23.3% \n",
      "QUANTAXIS>> ##JOB02 Now Saving XDXR INFO ==== 159869\n",
      "QUANTAXIS>> The 206 of Total 879\n",
      "QUANTAXIS>> DOWNLOAD PROGRESS 23.4% \n",
      "QUANTAXIS>> ##JOB02 Now Saving XDXR INFO ==== 159870\n",
      "QUANTAXIS>> The 207 of Total 879\n",
      "QUANTAXIS>> DOWNLOAD PROGRESS 23.5% \n",
      "QUANTAXIS>> ##JOB02 Now Saving XDXR INFO ==== 159871\n",
      "QUANTAXIS>> The 208 of Total 879\n",
      "QUANTAXIS>> DOWNLOAD PROGRESS 23.6% \n",
      "QUANTAXIS>> ##JOB02 Now Saving XDXR INFO ==== 159872\n",
      "QUANTAXIS>> The 209 of Total 879\n",
      "QUANTAXIS>> DOWNLOAD PROGRESS 23.7% \n",
      "QUANTAXIS>> ##JOB02 Now Saving XDXR INFO ==== 159873\n",
      "QUANTAXIS>> The 210 of Total 879\n",
      "QUANTAXIS>> DOWNLOAD PROGRESS 23.8% \n",
      "QUANTAXIS>> ##JOB02 Now Saving XDXR INFO ==== 159875\n",
      "QUANTAXIS>> The 211 of Total 879\n",
      "QUANTAXIS>> DOWNLOAD PROGRESS 24.0% \n",
      "QUANTAXIS>> ##JOB02 Now Saving XDXR INFO ==== 159876\n",
      "QUANTAXIS>> The 212 of Total 879\n",
      "QUANTAXIS>> DOWNLOAD PROGRESS 24.1% \n",
      "QUANTAXIS>> ##JOB02 Now Saving XDXR INFO ==== 159877\n",
      "QUANTAXIS>> The 213 of Total 879\n",
      "QUANTAXIS>> DOWNLOAD PROGRESS 24.2% \n",
      "QUANTAXIS>> ##JOB02 Now Saving XDXR INFO ==== 159880\n",
      "QUANTAXIS>> The 214 of Total 879\n",
      "QUANTAXIS>> DOWNLOAD PROGRESS 24.3% \n",
      "QUANTAXIS>> ##JOB02 Now Saving XDXR INFO ==== 159881\n",
      "QUANTAXIS>> The 215 of Total 879\n",
      "QUANTAXIS>> DOWNLOAD PROGRESS 24.4% \n",
      "QUANTAXIS>> ##JOB02 Now Saving XDXR INFO ==== 159883\n",
      "QUANTAXIS>> The 216 of Total 879\n",
      "QUANTAXIS>> DOWNLOAD PROGRESS 24.5% \n",
      "QUANTAXIS>> ##JOB02 Now Saving XDXR INFO ==== 159885\n",
      "QUANTAXIS>> The 217 of Total 879\n",
      "QUANTAXIS>> DOWNLOAD PROGRESS 24.6% \n",
      "QUANTAXIS>> ##JOB02 Now Saving XDXR INFO ==== 159886\n",
      "QUANTAXIS>> The 218 of Total 879\n",
      "QUANTAXIS>> DOWNLOAD PROGRESS 24.8% \n",
      "QUANTAXIS>> ##JOB02 Now Saving XDXR INFO ==== 159887\n",
      "QUANTAXIS>> The 219 of Total 879\n",
      "QUANTAXIS>> DOWNLOAD PROGRESS 24.9% \n",
      "QUANTAXIS>> ##JOB02 Now Saving XDXR INFO ==== 159888\n",
      "QUANTAXIS>> The 220 of Total 879\n",
      "QUANTAXIS>> DOWNLOAD PROGRESS 25.0% \n",
      "QUANTAXIS>> ##JOB02 Now Saving XDXR INFO ==== 159889\n",
      "QUANTAXIS>> The 221 of Total 879\n",
      "QUANTAXIS>> DOWNLOAD PROGRESS 25.1% \n",
      "QUANTAXIS>> ##JOB02 Now Saving XDXR INFO ==== 159890\n",
      "QUANTAXIS>> The 222 of Total 879\n",
      "QUANTAXIS>> DOWNLOAD PROGRESS 25.2% \n",
      "QUANTAXIS>> ##JOB02 Now Saving XDXR INFO ==== 159891\n",
      "QUANTAXIS>> The 223 of Total 879\n",
      "QUANTAXIS>> DOWNLOAD PROGRESS 25.3% \n",
      "QUANTAXIS>> ##JOB02 Now Saving XDXR INFO ==== 159892\n",
      "QUANTAXIS>> The 224 of Total 879\n",
      "QUANTAXIS>> DOWNLOAD PROGRESS 25.4% \n",
      "QUANTAXIS>> ##JOB02 Now Saving XDXR INFO ==== 159895\n",
      "QUANTAXIS>> The 225 of Total 879\n",
      "QUANTAXIS>> DOWNLOAD PROGRESS 25.5% \n",
      "QUANTAXIS>> ##JOB02 Now Saving XDXR INFO ==== 159896\n",
      "QUANTAXIS>> The 226 of Total 879\n",
      "QUANTAXIS>> DOWNLOAD PROGRESS 25.7% \n",
      "QUANTAXIS>> ##JOB02 Now Saving XDXR INFO ==== 159898\n",
      "QUANTAXIS>> The 227 of Total 879\n",
      "QUANTAXIS>> DOWNLOAD PROGRESS 25.8% \n",
      "QUANTAXIS>> ##JOB02 Now Saving XDXR INFO ==== 159899\n",
      "QUANTAXIS>> The 228 of Total 879\n",
      "QUANTAXIS>> DOWNLOAD PROGRESS 25.9% \n",
      "QUANTAXIS>> ##JOB02 Now Saving XDXR INFO ==== 159901\n",
      "QUANTAXIS>> The 229 of Total 879\n",
      "QUANTAXIS>> DOWNLOAD PROGRESS 26.0% \n",
      "QUANTAXIS>> ##JOB02 Now Saving XDXR INFO ==== 159902\n",
      "QUANTAXIS>> The 230 of Total 879\n",
      "QUANTAXIS>> DOWNLOAD PROGRESS 26.1% \n",
      "QUANTAXIS>> ##JOB02 Now Saving XDXR INFO ==== 159903\n",
      "QUANTAXIS>> The 231 of Total 879\n",
      "QUANTAXIS>> DOWNLOAD PROGRESS 26.2% \n",
      "QUANTAXIS>> ##JOB02 Now Saving XDXR INFO ==== 159905\n",
      "QUANTAXIS>> The 232 of Total 879\n",
      "QUANTAXIS>> DOWNLOAD PROGRESS 26.3% \n",
      "QUANTAXIS>> ##JOB02 Now Saving XDXR INFO ==== 159906\n",
      "QUANTAXIS>> The 233 of Total 879\n",
      "QUANTAXIS>> DOWNLOAD PROGRESS 26.5% \n",
      "QUANTAXIS>> ##JOB02 Now Saving XDXR INFO ==== 159907\n",
      "QUANTAXIS>> The 234 of Total 879\n",
      "QUANTAXIS>> DOWNLOAD PROGRESS 26.6% \n",
      "QUANTAXIS>> ##JOB02 Now Saving XDXR INFO ==== 159908\n",
      "QUANTAXIS>> The 235 of Total 879\n",
      "QUANTAXIS>> DOWNLOAD PROGRESS 26.7% \n",
      "QUANTAXIS>> ##JOB02 Now Saving XDXR INFO ==== 159909\n",
      "QUANTAXIS>> The 236 of Total 879\n",
      "QUANTAXIS>> DOWNLOAD PROGRESS 26.8% \n",
      "QUANTAXIS>> ##JOB02 Now Saving XDXR INFO ==== 159910\n",
      "QUANTAXIS>> The 237 of Total 879\n",
      "QUANTAXIS>> DOWNLOAD PROGRESS 26.9% \n",
      "QUANTAXIS>> ##JOB02 Now Saving XDXR INFO ==== 159912\n",
      "QUANTAXIS>> The 238 of Total 879\n",
      "QUANTAXIS>> DOWNLOAD PROGRESS 27.0% \n",
      "QUANTAXIS>> ##JOB02 Now Saving XDXR INFO ==== 159913\n",
      "QUANTAXIS>> The 239 of Total 879\n",
      "QUANTAXIS>> DOWNLOAD PROGRESS 27.1% \n",
      "QUANTAXIS>> ##JOB02 Now Saving XDXR INFO ==== 159915\n",
      "QUANTAXIS>> The 240 of Total 879\n",
      "QUANTAXIS>> DOWNLOAD PROGRESS 27.3% \n",
      "QUANTAXIS>> ##JOB02 Now Saving XDXR INFO ==== 159916\n",
      "QUANTAXIS>> The 241 of Total 879\n",
      "QUANTAXIS>> DOWNLOAD PROGRESS 27.4% \n",
      "QUANTAXIS>> ##JOB02 Now Saving XDXR INFO ==== 159918\n",
      "QUANTAXIS>> The 242 of Total 879\n",
      "QUANTAXIS>> DOWNLOAD PROGRESS 27.5% \n",
      "QUANTAXIS>> ##JOB02 Now Saving XDXR INFO ==== 159919\n",
      "QUANTAXIS>> The 243 of Total 879\n",
      "QUANTAXIS>> DOWNLOAD PROGRESS 27.6% \n",
      "QUANTAXIS>> ##JOB02 Now Saving XDXR INFO ==== 159920\n",
      "QUANTAXIS>> The 244 of Total 879\n",
      "QUANTAXIS>> DOWNLOAD PROGRESS 27.7% \n",
      "QUANTAXIS>> ##JOB02 Now Saving XDXR INFO ==== 159922\n",
      "QUANTAXIS>> The 245 of Total 879\n",
      "QUANTAXIS>> DOWNLOAD PROGRESS 27.8% \n",
      "QUANTAXIS>> ##JOB02 Now Saving XDXR INFO ==== 159923\n",
      "QUANTAXIS>> The 246 of Total 879\n",
      "QUANTAXIS>> DOWNLOAD PROGRESS 27.9% \n",
      "QUANTAXIS>> ##JOB02 Now Saving XDXR INFO ==== 159925\n",
      "QUANTAXIS>> The 247 of Total 879\n",
      "QUANTAXIS>> DOWNLOAD PROGRESS 28.1% \n",
      "QUANTAXIS>> ##JOB02 Now Saving XDXR INFO ==== 159928\n",
      "QUANTAXIS>> The 248 of Total 879\n",
      "QUANTAXIS>> DOWNLOAD PROGRESS 28.2% \n",
      "QUANTAXIS>> ##JOB02 Now Saving XDXR INFO ==== 159929\n",
      "QUANTAXIS>> The 249 of Total 879\n",
      "QUANTAXIS>> DOWNLOAD PROGRESS 28.3% \n",
      "QUANTAXIS>> ##JOB02 Now Saving XDXR INFO ==== 159930\n",
      "QUANTAXIS>> The 250 of Total 879\n",
      "QUANTAXIS>> DOWNLOAD PROGRESS 28.4% \n",
      "QUANTAXIS>> ##JOB02 Now Saving XDXR INFO ==== 159931\n",
      "QUANTAXIS>> The 251 of Total 879\n",
      "QUANTAXIS>> DOWNLOAD PROGRESS 28.5% \n",
      "QUANTAXIS>> ##JOB02 Now Saving XDXR INFO ==== 159933\n",
      "QUANTAXIS>> The 252 of Total 879\n",
      "QUANTAXIS>> DOWNLOAD PROGRESS 28.6% \n",
      "QUANTAXIS>> ##JOB02 Now Saving XDXR INFO ==== 159934\n",
      "QUANTAXIS>> The 253 of Total 879\n",
      "QUANTAXIS>> DOWNLOAD PROGRESS 28.7% \n",
      "QUANTAXIS>> ##JOB02 Now Saving XDXR INFO ==== 159935\n",
      "QUANTAXIS>> The 254 of Total 879\n",
      "QUANTAXIS>> DOWNLOAD PROGRESS 28.8% \n",
      "QUANTAXIS>> ##JOB02 Now Saving XDXR INFO ==== 159936\n",
      "QUANTAXIS>> The 255 of Total 879\n",
      "QUANTAXIS>> DOWNLOAD PROGRESS 29.0% \n",
      "QUANTAXIS>> ##JOB02 Now Saving XDXR INFO ==== 159937\n",
      "QUANTAXIS>> The 256 of Total 879\n",
      "QUANTAXIS>> DOWNLOAD PROGRESS 29.1% \n",
      "QUANTAXIS>> ##JOB02 Now Saving XDXR INFO ==== 159938\n",
      "QUANTAXIS>> The 257 of Total 879\n",
      "QUANTAXIS>> DOWNLOAD PROGRESS 29.2% \n",
      "QUANTAXIS>> ##JOB02 Now Saving XDXR INFO ==== 159939\n",
      "QUANTAXIS>> The 258 of Total 879\n",
      "QUANTAXIS>> DOWNLOAD PROGRESS 29.3% \n",
      "QUANTAXIS>> ##JOB02 Now Saving XDXR INFO ==== 159940\n",
      "QUANTAXIS>> The 259 of Total 879\n",
      "QUANTAXIS>> DOWNLOAD PROGRESS 29.4% \n",
      "QUANTAXIS>> ##JOB02 Now Saving XDXR INFO ==== 159941\n",
      "QUANTAXIS>> The 260 of Total 879\n",
      "QUANTAXIS>> DOWNLOAD PROGRESS 29.5% \n",
      "QUANTAXIS>> ##JOB02 Now Saving XDXR INFO ==== 159943\n",
      "QUANTAXIS>> The 261 of Total 879\n",
      "QUANTAXIS>> DOWNLOAD PROGRESS 29.6% \n",
      "QUANTAXIS>> ##JOB02 Now Saving XDXR INFO ==== 159944\n",
      "QUANTAXIS>> The 262 of Total 879\n",
      "QUANTAXIS>> DOWNLOAD PROGRESS 29.8% \n",
      "QUANTAXIS>> ##JOB02 Now Saving XDXR INFO ==== 159945\n",
      "QUANTAXIS>> The 263 of Total 879\n",
      "QUANTAXIS>> DOWNLOAD PROGRESS 29.9% \n",
      "QUANTAXIS>> ##JOB02 Now Saving XDXR INFO ==== 159948\n",
      "QUANTAXIS>> The 264 of Total 879\n",
      "QUANTAXIS>> DOWNLOAD PROGRESS 30.0% \n",
      "QUANTAXIS>> ##JOB02 Now Saving XDXR INFO ==== 159949\n",
      "QUANTAXIS>> The 265 of Total 879\n",
      "QUANTAXIS>> DOWNLOAD PROGRESS 30.1% \n",
      "QUANTAXIS>> ##JOB02 Now Saving XDXR INFO ==== 159952\n",
      "QUANTAXIS>> The 266 of Total 879\n",
      "QUANTAXIS>> DOWNLOAD PROGRESS 30.2% \n",
      "QUANTAXIS>> ##JOB02 Now Saving XDXR INFO ==== 159954\n",
      "QUANTAXIS>> The 267 of Total 879\n",
      "QUANTAXIS>> DOWNLOAD PROGRESS 30.3% \n",
      "QUANTAXIS>> ##JOB02 Now Saving XDXR INFO ==== 159956\n"
     ]
    },
    {
     "name": "stderr",
     "output_type": "stream",
     "text": [
      "QUANTAXIS>> The 268 of Total 879\n",
      "QUANTAXIS>> DOWNLOAD PROGRESS 30.4% \n",
      "QUANTAXIS>> ##JOB02 Now Saving XDXR INFO ==== 159957\n",
      "QUANTAXIS>> The 269 of Total 879\n",
      "QUANTAXIS>> DOWNLOAD PROGRESS 30.6% \n",
      "QUANTAXIS>> ##JOB02 Now Saving XDXR INFO ==== 159958\n",
      "QUANTAXIS>> The 270 of Total 879\n",
      "QUANTAXIS>> DOWNLOAD PROGRESS 30.7% \n",
      "QUANTAXIS>> ##JOB02 Now Saving XDXR INFO ==== 159959\n",
      "QUANTAXIS>> The 271 of Total 879\n",
      "QUANTAXIS>> DOWNLOAD PROGRESS 30.8% \n",
      "QUANTAXIS>> ##JOB02 Now Saving XDXR INFO ==== 159960\n",
      "QUANTAXIS>> The 272 of Total 879\n",
      "QUANTAXIS>> DOWNLOAD PROGRESS 30.9% \n",
      "QUANTAXIS>> ##JOB02 Now Saving XDXR INFO ==== 159961\n",
      "QUANTAXIS>> The 273 of Total 879\n",
      "QUANTAXIS>> DOWNLOAD PROGRESS 31.0% \n",
      "QUANTAXIS>> ##JOB02 Now Saving XDXR INFO ==== 159964\n",
      "QUANTAXIS>> The 274 of Total 879\n",
      "QUANTAXIS>> DOWNLOAD PROGRESS 31.1% \n",
      "QUANTAXIS>> ##JOB02 Now Saving XDXR INFO ==== 510010\n",
      "QUANTAXIS>> The 275 of Total 879\n",
      "QUANTAXIS>> DOWNLOAD PROGRESS 31.2% \n",
      "QUANTAXIS>> ##JOB02 Now Saving XDXR INFO ==== 510020\n",
      "QUANTAXIS>> The 276 of Total 879\n",
      "QUANTAXIS>> DOWNLOAD PROGRESS 31.3% \n",
      "QUANTAXIS>> ##JOB02 Now Saving XDXR INFO ==== 510030\n",
      "QUANTAXIS>> The 277 of Total 879\n",
      "QUANTAXIS>> DOWNLOAD PROGRESS 31.5% \n",
      "QUANTAXIS>> ##JOB02 Now Saving XDXR INFO ==== 510050\n",
      "QUANTAXIS>> The 278 of Total 879\n",
      "QUANTAXIS>> DOWNLOAD PROGRESS 31.6% \n",
      "QUANTAXIS>> ##JOB02 Now Saving XDXR INFO ==== 510060\n",
      "QUANTAXIS>> The 279 of Total 879\n",
      "QUANTAXIS>> DOWNLOAD PROGRESS 31.7% \n",
      "QUANTAXIS>> ##JOB02 Now Saving XDXR INFO ==== 510090\n",
      "QUANTAXIS>> The 280 of Total 879\n",
      "QUANTAXIS>> DOWNLOAD PROGRESS 31.8% \n",
      "QUANTAXIS>> ##JOB02 Now Saving XDXR INFO ==== 510100\n",
      "QUANTAXIS>> The 281 of Total 879\n",
      "QUANTAXIS>> DOWNLOAD PROGRESS 31.9% \n",
      "QUANTAXIS>> ##JOB02 Now Saving XDXR INFO ==== 510110\n",
      "QUANTAXIS>> The 282 of Total 879\n",
      "QUANTAXIS>> DOWNLOAD PROGRESS 32.0% \n",
      "QUANTAXIS>> ##JOB02 Now Saving XDXR INFO ==== 510120\n",
      "QUANTAXIS>> The 283 of Total 879\n",
      "QUANTAXIS>> DOWNLOAD PROGRESS 32.1% \n",
      "QUANTAXIS>> ##JOB02 Now Saving XDXR INFO ==== 510130\n",
      "QUANTAXIS>> The 284 of Total 879\n",
      "QUANTAXIS>> DOWNLOAD PROGRESS 32.3% \n",
      "QUANTAXIS>> ##JOB02 Now Saving XDXR INFO ==== 510150\n",
      "QUANTAXIS>> The 285 of Total 879\n",
      "QUANTAXIS>> DOWNLOAD PROGRESS 32.4% \n",
      "QUANTAXIS>> ##JOB02 Now Saving XDXR INFO ==== 510160\n",
      "QUANTAXIS>> The 286 of Total 879\n",
      "QUANTAXIS>> DOWNLOAD PROGRESS 32.5% \n",
      "QUANTAXIS>> ##JOB02 Now Saving XDXR INFO ==== 510170\n",
      "QUANTAXIS>> The 287 of Total 879\n",
      "QUANTAXIS>> DOWNLOAD PROGRESS 32.6% \n",
      "QUANTAXIS>> ##JOB02 Now Saving XDXR INFO ==== 510180\n",
      "QUANTAXIS>> The 288 of Total 879\n",
      "QUANTAXIS>> DOWNLOAD PROGRESS 32.7% \n",
      "QUANTAXIS>> ##JOB02 Now Saving XDXR INFO ==== 510190\n",
      "QUANTAXIS>> The 289 of Total 879\n",
      "QUANTAXIS>> DOWNLOAD PROGRESS 32.8% \n",
      "QUANTAXIS>> ##JOB02 Now Saving XDXR INFO ==== 510200\n",
      "QUANTAXIS>> The 290 of Total 879\n",
      "QUANTAXIS>> DOWNLOAD PROGRESS 32.9% \n",
      "QUANTAXIS>> ##JOB02 Now Saving XDXR INFO ==== 510210\n",
      "QUANTAXIS>> The 291 of Total 879\n",
      "QUANTAXIS>> DOWNLOAD PROGRESS 33.1% \n",
      "QUANTAXIS>> ##JOB02 Now Saving XDXR INFO ==== 510230\n",
      "QUANTAXIS>> The 292 of Total 879\n",
      "QUANTAXIS>> DOWNLOAD PROGRESS 33.2% \n",
      "QUANTAXIS>> ##JOB02 Now Saving XDXR INFO ==== 510270\n",
      "QUANTAXIS>> The 293 of Total 879\n",
      "QUANTAXIS>> DOWNLOAD PROGRESS 33.3% \n",
      "QUANTAXIS>> ##JOB02 Now Saving XDXR INFO ==== 510290\n",
      "QUANTAXIS>> The 294 of Total 879\n",
      "QUANTAXIS>> DOWNLOAD PROGRESS 33.4% \n",
      "QUANTAXIS>> ##JOB02 Now Saving XDXR INFO ==== 510300\n",
      "QUANTAXIS>> The 295 of Total 879\n",
      "QUANTAXIS>> DOWNLOAD PROGRESS 33.5% \n",
      "QUANTAXIS>> ##JOB02 Now Saving XDXR INFO ==== 510310\n",
      "QUANTAXIS>> The 296 of Total 879\n",
      "QUANTAXIS>> DOWNLOAD PROGRESS 33.6% \n",
      "QUANTAXIS>> ##JOB02 Now Saving XDXR INFO ==== 510330\n",
      "QUANTAXIS>> The 297 of Total 879\n",
      "QUANTAXIS>> DOWNLOAD PROGRESS 33.7% \n",
      "QUANTAXIS>> ##JOB02 Now Saving XDXR INFO ==== 510350\n",
      "QUANTAXIS>> The 298 of Total 879\n",
      "QUANTAXIS>> DOWNLOAD PROGRESS 33.9% \n",
      "QUANTAXIS>> ##JOB02 Now Saving XDXR INFO ==== 510360\n",
      "QUANTAXIS>> The 299 of Total 879\n",
      "QUANTAXIS>> DOWNLOAD PROGRESS 34.0% \n",
      "QUANTAXIS>> ##JOB02 Now Saving XDXR INFO ==== 510370\n",
      "QUANTAXIS>> The 300 of Total 879\n",
      "QUANTAXIS>> DOWNLOAD PROGRESS 34.1% \n",
      "QUANTAXIS>> ##JOB02 Now Saving XDXR INFO ==== 510380\n",
      "QUANTAXIS>> The 301 of Total 879\n",
      "QUANTAXIS>> DOWNLOAD PROGRESS 34.2% \n",
      "QUANTAXIS>> ##JOB02 Now Saving XDXR INFO ==== 510390\n",
      "QUANTAXIS>> The 302 of Total 879\n",
      "QUANTAXIS>> DOWNLOAD PROGRESS 34.3% \n",
      "QUANTAXIS>> ##JOB02 Now Saving XDXR INFO ==== 510410\n",
      "QUANTAXIS>> The 303 of Total 879\n",
      "QUANTAXIS>> DOWNLOAD PROGRESS 34.4% \n",
      "QUANTAXIS>> ##JOB02 Now Saving XDXR INFO ==== 510500\n",
      "QUANTAXIS>> The 304 of Total 879\n",
      "QUANTAXIS>> DOWNLOAD PROGRESS 34.5% \n",
      "QUANTAXIS>> ##JOB02 Now Saving XDXR INFO ==== 510510\n",
      "QUANTAXIS>> The 305 of Total 879\n",
      "QUANTAXIS>> DOWNLOAD PROGRESS 34.6% \n",
      "QUANTAXIS>> ##JOB02 Now Saving XDXR INFO ==== 510530\n",
      "QUANTAXIS>> The 306 of Total 879\n",
      "QUANTAXIS>> DOWNLOAD PROGRESS 34.8% \n",
      "QUANTAXIS>> ##JOB02 Now Saving XDXR INFO ==== 510550\n",
      "QUANTAXIS>> The 307 of Total 879\n",
      "QUANTAXIS>> DOWNLOAD PROGRESS 34.9% \n",
      "QUANTAXIS>> ##JOB02 Now Saving XDXR INFO ==== 510560\n",
      "QUANTAXIS>> The 308 of Total 879\n",
      "QUANTAXIS>> DOWNLOAD PROGRESS 35.0% \n",
      "QUANTAXIS>> ##JOB02 Now Saving XDXR INFO ==== 510570\n",
      "QUANTAXIS>> The 309 of Total 879\n",
      "QUANTAXIS>> DOWNLOAD PROGRESS 35.1% \n",
      "QUANTAXIS>> ##JOB02 Now Saving XDXR INFO ==== 510580\n",
      "QUANTAXIS>> The 310 of Total 879\n",
      "QUANTAXIS>> DOWNLOAD PROGRESS 35.2% \n",
      "QUANTAXIS>> ##JOB02 Now Saving XDXR INFO ==== 510590\n",
      "QUANTAXIS>> The 311 of Total 879\n",
      "QUANTAXIS>> DOWNLOAD PROGRESS 35.3% \n",
      "QUANTAXIS>> ##JOB02 Now Saving XDXR INFO ==== 510600\n",
      "QUANTAXIS>> The 312 of Total 879\n",
      "QUANTAXIS>> DOWNLOAD PROGRESS 35.4% \n",
      "QUANTAXIS>> ##JOB02 Now Saving XDXR INFO ==== 510630\n",
      "QUANTAXIS>> The 313 of Total 879\n",
      "QUANTAXIS>> DOWNLOAD PROGRESS 35.6% \n",
      "QUANTAXIS>> ##JOB02 Now Saving XDXR INFO ==== 510650\n",
      "QUANTAXIS>> The 314 of Total 879\n",
      "QUANTAXIS>> DOWNLOAD PROGRESS 35.7% \n",
      "QUANTAXIS>> ##JOB02 Now Saving XDXR INFO ==== 510660\n",
      "QUANTAXIS>> The 315 of Total 879\n",
      "QUANTAXIS>> DOWNLOAD PROGRESS 35.8% \n",
      "QUANTAXIS>> ##JOB02 Now Saving XDXR INFO ==== 510680\n",
      "QUANTAXIS>> The 316 of Total 879\n",
      "QUANTAXIS>> DOWNLOAD PROGRESS 35.9% \n",
      "QUANTAXIS>> ##JOB02 Now Saving XDXR INFO ==== 510710\n",
      "QUANTAXIS>> The 317 of Total 879\n",
      "QUANTAXIS>> DOWNLOAD PROGRESS 36.0% \n",
      "QUANTAXIS>> ##JOB02 Now Saving XDXR INFO ==== 510760\n",
      "QUANTAXIS>> The 318 of Total 879\n",
      "QUANTAXIS>> DOWNLOAD PROGRESS 36.1% \n",
      "QUANTAXIS>> ##JOB02 Now Saving XDXR INFO ==== 510770\n",
      "QUANTAXIS>> The 319 of Total 879\n",
      "QUANTAXIS>> DOWNLOAD PROGRESS 36.2% \n",
      "QUANTAXIS>> ##JOB02 Now Saving XDXR INFO ==== 510800\n",
      "QUANTAXIS>> The 320 of Total 879\n",
      "QUANTAXIS>> DOWNLOAD PROGRESS 36.4% \n",
      "QUANTAXIS>> ##JOB02 Now Saving XDXR INFO ==== 510810\n",
      "QUANTAXIS>> The 321 of Total 879\n",
      "QUANTAXIS>> DOWNLOAD PROGRESS 36.5% \n",
      "QUANTAXIS>> ##JOB02 Now Saving XDXR INFO ==== 510850\n",
      "QUANTAXIS>> The 322 of Total 879\n",
      "QUANTAXIS>> DOWNLOAD PROGRESS 36.6% \n",
      "QUANTAXIS>> ##JOB02 Now Saving XDXR INFO ==== 510880\n",
      "QUANTAXIS>> The 323 of Total 879\n",
      "QUANTAXIS>> DOWNLOAD PROGRESS 36.7% \n",
      "QUANTAXIS>> ##JOB02 Now Saving XDXR INFO ==== 510900\n",
      "QUANTAXIS>> The 324 of Total 879\n",
      "QUANTAXIS>> DOWNLOAD PROGRESS 36.8% \n",
      "QUANTAXIS>> ##JOB02 Now Saving XDXR INFO ==== 510990\n",
      "QUANTAXIS>> The 325 of Total 879\n",
      "QUANTAXIS>> DOWNLOAD PROGRESS 36.9% \n",
      "QUANTAXIS>> ##JOB02 Now Saving XDXR INFO ==== 511010\n",
      "QUANTAXIS>> The 326 of Total 879\n",
      "QUANTAXIS>> DOWNLOAD PROGRESS 37.0% \n",
      "QUANTAXIS>> ##JOB02 Now Saving XDXR INFO ==== 511020\n",
      "QUANTAXIS>> The 327 of Total 879\n",
      "QUANTAXIS>> DOWNLOAD PROGRESS 37.2% \n",
      "QUANTAXIS>> ##JOB02 Now Saving XDXR INFO ==== 511030\n",
      "QUANTAXIS>> The 328 of Total 879\n",
      "QUANTAXIS>> DOWNLOAD PROGRESS 37.3% \n",
      "QUANTAXIS>> ##JOB02 Now Saving XDXR INFO ==== 511060\n",
      "QUANTAXIS>> The 329 of Total 879\n",
      "QUANTAXIS>> DOWNLOAD PROGRESS 37.4% \n",
      "QUANTAXIS>> ##JOB02 Now Saving XDXR INFO ==== 511180\n",
      "QUANTAXIS>> The 330 of Total 879\n",
      "QUANTAXIS>> DOWNLOAD PROGRESS 37.5% \n",
      "QUANTAXIS>> ##JOB02 Now Saving XDXR INFO ==== 511220\n",
      "QUANTAXIS>> The 331 of Total 879\n",
      "QUANTAXIS>> DOWNLOAD PROGRESS 37.6% \n",
      "QUANTAXIS>> ##JOB02 Now Saving XDXR INFO ==== 511260\n",
      "QUANTAXIS>> The 332 of Total 879\n",
      "QUANTAXIS>> DOWNLOAD PROGRESS 37.7% \n",
      "QUANTAXIS>> ##JOB02 Now Saving XDXR INFO ==== 511270\n",
      "QUANTAXIS>> The 333 of Total 879\n",
      "QUANTAXIS>> DOWNLOAD PROGRESS 37.8% \n",
      "QUANTAXIS>> ##JOB02 Now Saving XDXR INFO ==== 511360\n",
      "QUANTAXIS>> The 334 of Total 879\n",
      "QUANTAXIS>> DOWNLOAD PROGRESS 37.9% \n",
      "QUANTAXIS>> ##JOB02 Now Saving XDXR INFO ==== 511380\n"
     ]
    },
    {
     "name": "stderr",
     "output_type": "stream",
     "text": [
      "QUANTAXIS>> The 335 of Total 879\n",
      "QUANTAXIS>> DOWNLOAD PROGRESS 38.1% \n",
      "QUANTAXIS>> ##JOB02 Now Saving XDXR INFO ==== 511520\n",
      "QUANTAXIS>> The 336 of Total 879\n",
      "QUANTAXIS>> DOWNLOAD PROGRESS 38.2% \n",
      "QUANTAXIS>> ##JOB02 Now Saving XDXR INFO ==== 511580\n",
      "QUANTAXIS>> The 337 of Total 879\n",
      "QUANTAXIS>> DOWNLOAD PROGRESS 38.3% \n",
      "QUANTAXIS>> ##JOB02 Now Saving XDXR INFO ==== 511600\n",
      "QUANTAXIS>> The 338 of Total 879\n",
      "QUANTAXIS>> DOWNLOAD PROGRESS 38.4% \n",
      "QUANTAXIS>> ##JOB02 Now Saving XDXR INFO ==== 511620\n",
      "QUANTAXIS>> The 339 of Total 879\n",
      "QUANTAXIS>> DOWNLOAD PROGRESS 38.5% \n",
      "QUANTAXIS>> ##JOB02 Now Saving XDXR INFO ==== 511650\n",
      "QUANTAXIS>> The 340 of Total 879\n",
      "QUANTAXIS>> DOWNLOAD PROGRESS 38.6% \n",
      "QUANTAXIS>> ##JOB02 Now Saving XDXR INFO ==== 511660\n",
      "QUANTAXIS>> The 341 of Total 879\n",
      "QUANTAXIS>> DOWNLOAD PROGRESS 38.7% \n",
      "QUANTAXIS>> ##JOB02 Now Saving XDXR INFO ==== 511670\n",
      "QUANTAXIS>> The 342 of Total 879\n",
      "QUANTAXIS>> DOWNLOAD PROGRESS 38.9% \n",
      "QUANTAXIS>> ##JOB02 Now Saving XDXR INFO ==== 511690\n",
      "QUANTAXIS>> The 343 of Total 879\n",
      "QUANTAXIS>> DOWNLOAD PROGRESS 39.0% \n",
      "QUANTAXIS>> ##JOB02 Now Saving XDXR INFO ==== 511700\n",
      "QUANTAXIS>> The 344 of Total 879\n",
      "QUANTAXIS>> DOWNLOAD PROGRESS 39.1% \n",
      "QUANTAXIS>> ##JOB02 Now Saving XDXR INFO ==== 511770\n",
      "QUANTAXIS>> The 345 of Total 879\n",
      "QUANTAXIS>> DOWNLOAD PROGRESS 39.2% \n",
      "QUANTAXIS>> ##JOB02 Now Saving XDXR INFO ==== 511800\n",
      "QUANTAXIS>> The 346 of Total 879\n",
      "QUANTAXIS>> DOWNLOAD PROGRESS 39.3% \n",
      "QUANTAXIS>> ##JOB02 Now Saving XDXR INFO ==== 511810\n",
      "QUANTAXIS>> The 347 of Total 879\n",
      "QUANTAXIS>> DOWNLOAD PROGRESS 39.4% \n",
      "QUANTAXIS>> ##JOB02 Now Saving XDXR INFO ==== 511820\n",
      "QUANTAXIS>> The 348 of Total 879\n",
      "QUANTAXIS>> DOWNLOAD PROGRESS 39.5% \n",
      "QUANTAXIS>> ##JOB02 Now Saving XDXR INFO ==== 511830\n",
      "QUANTAXIS>> The 349 of Total 879\n",
      "QUANTAXIS>> DOWNLOAD PROGRESS 39.7% \n",
      "QUANTAXIS>> ##JOB02 Now Saving XDXR INFO ==== 511850\n",
      "QUANTAXIS>> The 350 of Total 879\n",
      "QUANTAXIS>> DOWNLOAD PROGRESS 39.8% \n",
      "QUANTAXIS>> ##JOB02 Now Saving XDXR INFO ==== 511860\n",
      "QUANTAXIS>> The 351 of Total 879\n",
      "QUANTAXIS>> DOWNLOAD PROGRESS 39.9% \n",
      "QUANTAXIS>> ##JOB02 Now Saving XDXR INFO ==== 511880\n",
      "QUANTAXIS>> The 352 of Total 879\n",
      "QUANTAXIS>> DOWNLOAD PROGRESS 40.0% \n",
      "QUANTAXIS>> ##JOB02 Now Saving XDXR INFO ==== 511900\n",
      "QUANTAXIS>> The 353 of Total 879\n",
      "QUANTAXIS>> DOWNLOAD PROGRESS 40.1% \n",
      "QUANTAXIS>> ##JOB02 Now Saving XDXR INFO ==== 511910\n",
      "QUANTAXIS>> The 354 of Total 879\n",
      "QUANTAXIS>> DOWNLOAD PROGRESS 40.2% \n",
      "QUANTAXIS>> ##JOB02 Now Saving XDXR INFO ==== 511920\n",
      "QUANTAXIS>> The 355 of Total 879\n",
      "QUANTAXIS>> DOWNLOAD PROGRESS 40.3% \n",
      "QUANTAXIS>> ##JOB02 Now Saving XDXR INFO ==== 511930\n",
      "QUANTAXIS>> The 356 of Total 879\n",
      "QUANTAXIS>> DOWNLOAD PROGRESS 40.5% \n",
      "QUANTAXIS>> ##JOB02 Now Saving XDXR INFO ==== 511950\n",
      "QUANTAXIS>> The 357 of Total 879\n",
      "QUANTAXIS>> DOWNLOAD PROGRESS 40.6% \n",
      "QUANTAXIS>> ##JOB02 Now Saving XDXR INFO ==== 511960\n",
      "QUANTAXIS>> The 358 of Total 879\n",
      "QUANTAXIS>> DOWNLOAD PROGRESS 40.7% \n",
      "QUANTAXIS>> ##JOB02 Now Saving XDXR INFO ==== 511970\n",
      "QUANTAXIS>> The 359 of Total 879\n",
      "QUANTAXIS>> DOWNLOAD PROGRESS 40.8% \n",
      "QUANTAXIS>> ##JOB02 Now Saving XDXR INFO ==== 511980\n",
      "QUANTAXIS>> The 360 of Total 879\n",
      "QUANTAXIS>> DOWNLOAD PROGRESS 40.9% \n",
      "QUANTAXIS>> ##JOB02 Now Saving XDXR INFO ==== 511990\n",
      "QUANTAXIS>> The 361 of Total 879\n",
      "QUANTAXIS>> DOWNLOAD PROGRESS 41.0% \n",
      "QUANTAXIS>> ##JOB02 Now Saving XDXR INFO ==== 512000\n",
      "QUANTAXIS>> The 362 of Total 879\n",
      "QUANTAXIS>> DOWNLOAD PROGRESS 41.1% \n",
      "QUANTAXIS>> ##JOB02 Now Saving XDXR INFO ==== 512010\n",
      "QUANTAXIS>> The 363 of Total 879\n",
      "QUANTAXIS>> DOWNLOAD PROGRESS 41.2% \n",
      "QUANTAXIS>> ##JOB02 Now Saving XDXR INFO ==== 512040\n",
      "QUANTAXIS>> The 364 of Total 879\n",
      "QUANTAXIS>> DOWNLOAD PROGRESS 41.4% \n",
      "QUANTAXIS>> ##JOB02 Now Saving XDXR INFO ==== 512070\n",
      "QUANTAXIS>> The 365 of Total 879\n",
      "QUANTAXIS>> DOWNLOAD PROGRESS 41.5% \n",
      "QUANTAXIS>> ##JOB02 Now Saving XDXR INFO ==== 512090\n",
      "QUANTAXIS>> The 366 of Total 879\n",
      "QUANTAXIS>> DOWNLOAD PROGRESS 41.6% \n",
      "QUANTAXIS>> ##JOB02 Now Saving XDXR INFO ==== 512100\n",
      "QUANTAXIS>> The 367 of Total 879\n",
      "QUANTAXIS>> DOWNLOAD PROGRESS 41.7% \n",
      "QUANTAXIS>> ##JOB02 Now Saving XDXR INFO ==== 512120\n",
      "QUANTAXIS>> The 368 of Total 879\n",
      "QUANTAXIS>> DOWNLOAD PROGRESS 41.8% \n",
      "QUANTAXIS>> ##JOB02 Now Saving XDXR INFO ==== 512150\n",
      "QUANTAXIS>> The 369 of Total 879\n",
      "QUANTAXIS>> DOWNLOAD PROGRESS 41.9% \n",
      "QUANTAXIS>> ##JOB02 Now Saving XDXR INFO ==== 512160\n",
      "QUANTAXIS>> The 370 of Total 879\n",
      "QUANTAXIS>> DOWNLOAD PROGRESS 42.0% \n",
      "QUANTAXIS>> ##JOB02 Now Saving XDXR INFO ==== 512170\n",
      "QUANTAXIS>> The 371 of Total 879\n",
      "QUANTAXIS>> DOWNLOAD PROGRESS 42.2% \n",
      "QUANTAXIS>> ##JOB02 Now Saving XDXR INFO ==== 512180\n",
      "QUANTAXIS>> The 372 of Total 879\n",
      "QUANTAXIS>> DOWNLOAD PROGRESS 42.3% \n",
      "QUANTAXIS>> ##JOB02 Now Saving XDXR INFO ==== 512190\n",
      "QUANTAXIS>> The 373 of Total 879\n",
      "QUANTAXIS>> DOWNLOAD PROGRESS 42.4% \n",
      "QUANTAXIS>> ##JOB02 Now Saving XDXR INFO ==== 512200\n",
      "QUANTAXIS>> The 374 of Total 879\n",
      "QUANTAXIS>> DOWNLOAD PROGRESS 42.5% \n",
      "QUANTAXIS>> ##JOB02 Now Saving XDXR INFO ==== 512220\n",
      "QUANTAXIS>> The 375 of Total 879\n",
      "QUANTAXIS>> DOWNLOAD PROGRESS 42.6% \n",
      "QUANTAXIS>> ##JOB02 Now Saving XDXR INFO ==== 512260\n",
      "QUANTAXIS>> The 376 of Total 879\n",
      "QUANTAXIS>> DOWNLOAD PROGRESS 42.7% \n",
      "QUANTAXIS>> ##JOB02 Now Saving XDXR INFO ==== 512280\n",
      "QUANTAXIS>> The 377 of Total 879\n",
      "QUANTAXIS>> DOWNLOAD PROGRESS 42.8% \n",
      "QUANTAXIS>> ##JOB02 Now Saving XDXR INFO ==== 512290\n",
      "QUANTAXIS>> The 378 of Total 879\n",
      "QUANTAXIS>> DOWNLOAD PROGRESS 43.0% \n",
      "QUANTAXIS>> ##JOB02 Now Saving XDXR INFO ==== 512320\n",
      "QUANTAXIS>> The 379 of Total 879\n",
      "QUANTAXIS>> DOWNLOAD PROGRESS 43.1% \n",
      "QUANTAXIS>> ##JOB02 Now Saving XDXR INFO ==== 512330\n",
      "QUANTAXIS>> The 380 of Total 879\n",
      "QUANTAXIS>> DOWNLOAD PROGRESS 43.2% \n",
      "QUANTAXIS>> ##JOB02 Now Saving XDXR INFO ==== 512360\n",
      "QUANTAXIS>> The 381 of Total 879\n",
      "QUANTAXIS>> DOWNLOAD PROGRESS 43.3% \n",
      "QUANTAXIS>> ##JOB02 Now Saving XDXR INFO ==== 512380\n",
      "QUANTAXIS>> The 382 of Total 879\n",
      "QUANTAXIS>> DOWNLOAD PROGRESS 43.4% \n",
      "QUANTAXIS>> ##JOB02 Now Saving XDXR INFO ==== 512390\n",
      "QUANTAXIS>> The 383 of Total 879\n",
      "QUANTAXIS>> DOWNLOAD PROGRESS 43.5% \n",
      "QUANTAXIS>> ##JOB02 Now Saving XDXR INFO ==== 512400\n",
      "QUANTAXIS>> The 384 of Total 879\n",
      "QUANTAXIS>> DOWNLOAD PROGRESS 43.6% \n",
      "QUANTAXIS>> ##JOB02 Now Saving XDXR INFO ==== 512480\n",
      "QUANTAXIS>> The 385 of Total 879\n",
      "QUANTAXIS>> DOWNLOAD PROGRESS 43.7% \n",
      "QUANTAXIS>> ##JOB02 Now Saving XDXR INFO ==== 512500\n",
      "QUANTAXIS>> The 386 of Total 879\n",
      "QUANTAXIS>> DOWNLOAD PROGRESS 43.9% \n",
      "QUANTAXIS>> ##JOB02 Now Saving XDXR INFO ==== 512510\n",
      "QUANTAXIS>> The 387 of Total 879\n",
      "QUANTAXIS>> DOWNLOAD PROGRESS 44.0% \n",
      "QUANTAXIS>> ##JOB02 Now Saving XDXR INFO ==== 512520\n",
      "QUANTAXIS>> The 388 of Total 879\n",
      "QUANTAXIS>> DOWNLOAD PROGRESS 44.1% \n",
      "QUANTAXIS>> ##JOB02 Now Saving XDXR INFO ==== 512530\n",
      "QUANTAXIS>> The 389 of Total 879\n",
      "QUANTAXIS>> DOWNLOAD PROGRESS 44.2% \n",
      "QUANTAXIS>> ##JOB02 Now Saving XDXR INFO ==== 512550\n",
      "QUANTAXIS>> The 390 of Total 879\n",
      "QUANTAXIS>> DOWNLOAD PROGRESS 44.3% \n",
      "QUANTAXIS>> ##JOB02 Now Saving XDXR INFO ==== 512560\n",
      "QUANTAXIS>> The 391 of Total 879\n",
      "QUANTAXIS>> DOWNLOAD PROGRESS 44.4% \n",
      "QUANTAXIS>> ##JOB02 Now Saving XDXR INFO ==== 512570\n",
      "QUANTAXIS>> The 392 of Total 879\n",
      "QUANTAXIS>> DOWNLOAD PROGRESS 44.5% \n",
      "QUANTAXIS>> ##JOB02 Now Saving XDXR INFO ==== 512580\n",
      "QUANTAXIS>> The 393 of Total 879\n",
      "QUANTAXIS>> DOWNLOAD PROGRESS 44.7% \n",
      "QUANTAXIS>> ##JOB02 Now Saving XDXR INFO ==== 512600\n",
      "QUANTAXIS>> The 394 of Total 879\n",
      "QUANTAXIS>> DOWNLOAD PROGRESS 44.8% \n",
      "QUANTAXIS>> ##JOB02 Now Saving XDXR INFO ==== 512640\n",
      "QUANTAXIS>> The 395 of Total 879\n",
      "QUANTAXIS>> DOWNLOAD PROGRESS 44.9% \n",
      "QUANTAXIS>> ##JOB02 Now Saving XDXR INFO ==== 512650\n",
      "QUANTAXIS>> The 396 of Total 879\n",
      "QUANTAXIS>> DOWNLOAD PROGRESS 45.0% \n",
      "QUANTAXIS>> ##JOB02 Now Saving XDXR INFO ==== 512660\n",
      "QUANTAXIS>> The 397 of Total 879\n",
      "QUANTAXIS>> DOWNLOAD PROGRESS 45.1% \n",
      "QUANTAXIS>> ##JOB02 Now Saving XDXR INFO ==== 512670\n",
      "QUANTAXIS>> The 398 of Total 879\n",
      "QUANTAXIS>> DOWNLOAD PROGRESS 45.2% \n",
      "QUANTAXIS>> ##JOB02 Now Saving XDXR INFO ==== 512680\n",
      "QUANTAXIS>> The 399 of Total 879\n",
      "QUANTAXIS>> DOWNLOAD PROGRESS 45.3% \n",
      "QUANTAXIS>> ##JOB02 Now Saving XDXR INFO ==== 512690\n",
      "QUANTAXIS>> The 400 of Total 879\n",
      "QUANTAXIS>> DOWNLOAD PROGRESS 45.5% \n",
      "QUANTAXIS>> ##JOB02 Now Saving XDXR INFO ==== 512700\n",
      "QUANTAXIS>> The 401 of Total 879\n",
      "QUANTAXIS>> DOWNLOAD PROGRESS 45.6% \n",
      "QUANTAXIS>> ##JOB02 Now Saving XDXR INFO ==== 512710\n"
     ]
    },
    {
     "name": "stderr",
     "output_type": "stream",
     "text": [
      "QUANTAXIS>> The 402 of Total 879\n",
      "QUANTAXIS>> DOWNLOAD PROGRESS 45.7% \n",
      "QUANTAXIS>> ##JOB02 Now Saving XDXR INFO ==== 512720\n",
      "QUANTAXIS>> The 403 of Total 879\n",
      "QUANTAXIS>> DOWNLOAD PROGRESS 45.8% \n",
      "QUANTAXIS>> ##JOB02 Now Saving XDXR INFO ==== 512730\n",
      "QUANTAXIS>> The 404 of Total 879\n",
      "QUANTAXIS>> DOWNLOAD PROGRESS 45.9% \n",
      "QUANTAXIS>> ##JOB02 Now Saving XDXR INFO ==== 512750\n",
      "QUANTAXIS>> The 405 of Total 879\n",
      "QUANTAXIS>> DOWNLOAD PROGRESS 46.0% \n",
      "QUANTAXIS>> ##JOB02 Now Saving XDXR INFO ==== 512760\n",
      "QUANTAXIS>> The 406 of Total 879\n",
      "QUANTAXIS>> DOWNLOAD PROGRESS 46.1% \n",
      "QUANTAXIS>> ##JOB02 Now Saving XDXR INFO ==== 512770\n",
      "QUANTAXIS>> The 407 of Total 879\n",
      "QUANTAXIS>> DOWNLOAD PROGRESS 46.3% \n",
      "QUANTAXIS>> ##JOB02 Now Saving XDXR INFO ==== 512800\n",
      "QUANTAXIS>> The 408 of Total 879\n",
      "QUANTAXIS>> DOWNLOAD PROGRESS 46.4% \n",
      "QUANTAXIS>> ##JOB02 Now Saving XDXR INFO ==== 512810\n",
      "QUANTAXIS>> The 409 of Total 879\n",
      "QUANTAXIS>> DOWNLOAD PROGRESS 46.5% \n",
      "QUANTAXIS>> ##JOB02 Now Saving XDXR INFO ==== 512820\n",
      "QUANTAXIS>> The 410 of Total 879\n",
      "QUANTAXIS>> DOWNLOAD PROGRESS 46.6% \n",
      "QUANTAXIS>> ##JOB02 Now Saving XDXR INFO ==== 512870\n",
      "QUANTAXIS>> The 411 of Total 879\n",
      "QUANTAXIS>> DOWNLOAD PROGRESS 46.7% \n",
      "QUANTAXIS>> ##JOB02 Now Saving XDXR INFO ==== 512880\n",
      "QUANTAXIS>> The 412 of Total 879\n",
      "QUANTAXIS>> DOWNLOAD PROGRESS 46.8% \n",
      "QUANTAXIS>> ##JOB02 Now Saving XDXR INFO ==== 512890\n",
      "QUANTAXIS>> The 413 of Total 879\n",
      "QUANTAXIS>> DOWNLOAD PROGRESS 46.9% \n",
      "QUANTAXIS>> ##JOB02 Now Saving XDXR INFO ==== 512900\n",
      "QUANTAXIS>> The 414 of Total 879\n",
      "QUANTAXIS>> DOWNLOAD PROGRESS 47.0% \n",
      "QUANTAXIS>> ##JOB02 Now Saving XDXR INFO ==== 512910\n",
      "QUANTAXIS>> The 415 of Total 879\n",
      "QUANTAXIS>> DOWNLOAD PROGRESS 47.2% \n",
      "QUANTAXIS>> ##JOB02 Now Saving XDXR INFO ==== 512930\n",
      "QUANTAXIS>> The 416 of Total 879\n",
      "QUANTAXIS>> DOWNLOAD PROGRESS 47.3% \n",
      "QUANTAXIS>> ##JOB02 Now Saving XDXR INFO ==== 512950\n",
      "QUANTAXIS>> The 417 of Total 879\n",
      "QUANTAXIS>> DOWNLOAD PROGRESS 47.4% \n",
      "QUANTAXIS>> ##JOB02 Now Saving XDXR INFO ==== 512960\n",
      "QUANTAXIS>> The 418 of Total 879\n",
      "QUANTAXIS>> DOWNLOAD PROGRESS 47.5% \n",
      "QUANTAXIS>> ##JOB02 Now Saving XDXR INFO ==== 512970\n",
      "QUANTAXIS>> The 419 of Total 879\n",
      "QUANTAXIS>> DOWNLOAD PROGRESS 47.6% \n",
      "QUANTAXIS>> ##JOB02 Now Saving XDXR INFO ==== 512980\n",
      "QUANTAXIS>> The 420 of Total 879\n",
      "QUANTAXIS>> DOWNLOAD PROGRESS 47.7% \n",
      "QUANTAXIS>> ##JOB02 Now Saving XDXR INFO ==== 512990\n",
      "QUANTAXIS>> The 421 of Total 879\n",
      "QUANTAXIS>> DOWNLOAD PROGRESS 47.8% \n",
      "QUANTAXIS>> ##JOB02 Now Saving XDXR INFO ==== 513000\n",
      "QUANTAXIS>> The 422 of Total 879\n",
      "QUANTAXIS>> DOWNLOAD PROGRESS 48.0% \n",
      "QUANTAXIS>> ##JOB02 Now Saving XDXR INFO ==== 513010\n",
      "QUANTAXIS>> The 423 of Total 879\n",
      "QUANTAXIS>> DOWNLOAD PROGRESS 48.1% \n",
      "QUANTAXIS>> ##JOB02 Now Saving XDXR INFO ==== 513020\n",
      "QUANTAXIS>> The 424 of Total 879\n",
      "QUANTAXIS>> DOWNLOAD PROGRESS 48.2% \n",
      "QUANTAXIS>> ##JOB02 Now Saving XDXR INFO ==== 513030\n",
      "QUANTAXIS>> The 425 of Total 879\n",
      "QUANTAXIS>> DOWNLOAD PROGRESS 48.3% \n",
      "QUANTAXIS>> ##JOB02 Now Saving XDXR INFO ==== 513050\n",
      "QUANTAXIS>> The 426 of Total 879\n",
      "QUANTAXIS>> DOWNLOAD PROGRESS 48.4% \n",
      "QUANTAXIS>> ##JOB02 Now Saving XDXR INFO ==== 513060\n",
      "QUANTAXIS>> The 427 of Total 879\n",
      "QUANTAXIS>> DOWNLOAD PROGRESS 48.5% \n",
      "QUANTAXIS>> ##JOB02 Now Saving XDXR INFO ==== 513070\n",
      "QUANTAXIS>> The 428 of Total 879\n",
      "QUANTAXIS>> DOWNLOAD PROGRESS 48.6% \n",
      "QUANTAXIS>> ##JOB02 Now Saving XDXR INFO ==== 513080\n",
      "QUANTAXIS>> The 429 of Total 879\n",
      "QUANTAXIS>> DOWNLOAD PROGRESS 48.8% \n",
      "QUANTAXIS>> ##JOB02 Now Saving XDXR INFO ==== 513090\n",
      "QUANTAXIS>> The 430 of Total 879\n",
      "QUANTAXIS>> DOWNLOAD PROGRESS 48.9% \n",
      "QUANTAXIS>> ##JOB02 Now Saving XDXR INFO ==== 513100\n",
      "QUANTAXIS>> The 431 of Total 879\n",
      "QUANTAXIS>> DOWNLOAD PROGRESS 49.0% \n",
      "QUANTAXIS>> ##JOB02 Now Saving XDXR INFO ==== 513110\n",
      "QUANTAXIS>> The 432 of Total 879\n",
      "QUANTAXIS>> DOWNLOAD PROGRESS 49.1% \n",
      "QUANTAXIS>> ##JOB02 Now Saving XDXR INFO ==== 513120\n",
      "QUANTAXIS>> The 433 of Total 879\n",
      "QUANTAXIS>> DOWNLOAD PROGRESS 49.2% \n",
      "QUANTAXIS>> ##JOB02 Now Saving XDXR INFO ==== 513130\n",
      "QUANTAXIS>> The 434 of Total 879\n",
      "QUANTAXIS>> DOWNLOAD PROGRESS 49.3% \n",
      "QUANTAXIS>> ##JOB02 Now Saving XDXR INFO ==== 513140\n",
      "QUANTAXIS>> The 435 of Total 879\n",
      "QUANTAXIS>> DOWNLOAD PROGRESS 49.4% \n",
      "QUANTAXIS>> ##JOB02 Now Saving XDXR INFO ==== 513150\n",
      "QUANTAXIS>> The 436 of Total 879\n",
      "QUANTAXIS>> DOWNLOAD PROGRESS 49.6% \n",
      "QUANTAXIS>> ##JOB02 Now Saving XDXR INFO ==== 513160\n",
      "QUANTAXIS>> The 437 of Total 879\n",
      "QUANTAXIS>> DOWNLOAD PROGRESS 49.7% \n",
      "QUANTAXIS>> ##JOB02 Now Saving XDXR INFO ==== 513180\n",
      "QUANTAXIS>> The 438 of Total 879\n",
      "QUANTAXIS>> DOWNLOAD PROGRESS 49.8% \n",
      "QUANTAXIS>> ##JOB02 Now Saving XDXR INFO ==== 513200\n",
      "QUANTAXIS>> The 439 of Total 879\n",
      "QUANTAXIS>> DOWNLOAD PROGRESS 49.9% \n",
      "QUANTAXIS>> ##JOB02 Now Saving XDXR INFO ==== 513220\n",
      "QUANTAXIS>> The 440 of Total 879\n",
      "QUANTAXIS>> DOWNLOAD PROGRESS 50.0% \n",
      "QUANTAXIS>> ##JOB02 Now Saving XDXR INFO ==== 513230\n",
      "QUANTAXIS>> The 441 of Total 879\n",
      "QUANTAXIS>> DOWNLOAD PROGRESS 50.1% \n",
      "QUANTAXIS>> ##JOB02 Now Saving XDXR INFO ==== 513260\n",
      "QUANTAXIS>> The 442 of Total 879\n",
      "QUANTAXIS>> DOWNLOAD PROGRESS 50.2% \n",
      "QUANTAXIS>> ##JOB02 Now Saving XDXR INFO ==== 513280\n",
      "QUANTAXIS>> The 443 of Total 879\n",
      "QUANTAXIS>> DOWNLOAD PROGRESS 50.3% \n",
      "QUANTAXIS>> ##JOB02 Now Saving XDXR INFO ==== 513290\n",
      "QUANTAXIS>> The 444 of Total 879\n",
      "QUANTAXIS>> DOWNLOAD PROGRESS 50.5% \n",
      "QUANTAXIS>> ##JOB02 Now Saving XDXR INFO ==== 513300\n",
      "QUANTAXIS>> The 445 of Total 879\n",
      "QUANTAXIS>> DOWNLOAD PROGRESS 50.6% \n",
      "QUANTAXIS>> ##JOB02 Now Saving XDXR INFO ==== 513310\n",
      "QUANTAXIS>> The 446 of Total 879\n",
      "QUANTAXIS>> DOWNLOAD PROGRESS 50.7% \n",
      "QUANTAXIS>> ##JOB02 Now Saving XDXR INFO ==== 513320\n",
      "QUANTAXIS>> The 447 of Total 879\n",
      "QUANTAXIS>> DOWNLOAD PROGRESS 50.8% \n",
      "QUANTAXIS>> ##JOB02 Now Saving XDXR INFO ==== 513330\n",
      "QUANTAXIS>> The 448 of Total 879\n",
      "QUANTAXIS>> DOWNLOAD PROGRESS 50.9% \n",
      "QUANTAXIS>> ##JOB02 Now Saving XDXR INFO ==== 513360\n",
      "QUANTAXIS>> The 449 of Total 879\n",
      "QUANTAXIS>> DOWNLOAD PROGRESS 51.0% \n",
      "QUANTAXIS>> ##JOB02 Now Saving XDXR INFO ==== 513380\n",
      "QUANTAXIS>> The 450 of Total 879\n",
      "QUANTAXIS>> DOWNLOAD PROGRESS 51.1% \n",
      "QUANTAXIS>> ##JOB02 Now Saving XDXR INFO ==== 513500\n",
      "QUANTAXIS>> The 451 of Total 879\n",
      "QUANTAXIS>> DOWNLOAD PROGRESS 51.3% \n",
      "QUANTAXIS>> ##JOB02 Now Saving XDXR INFO ==== 513520\n",
      "QUANTAXIS>> The 452 of Total 879\n",
      "QUANTAXIS>> DOWNLOAD PROGRESS 51.4% \n",
      "QUANTAXIS>> ##JOB02 Now Saving XDXR INFO ==== 513530\n",
      "QUANTAXIS>> The 453 of Total 879\n",
      "QUANTAXIS>> DOWNLOAD PROGRESS 51.5% \n",
      "QUANTAXIS>> ##JOB02 Now Saving XDXR INFO ==== 513550\n",
      "QUANTAXIS>> The 454 of Total 879\n",
      "QUANTAXIS>> DOWNLOAD PROGRESS 51.6% \n",
      "QUANTAXIS>> ##JOB02 Now Saving XDXR INFO ==== 513560\n",
      "QUANTAXIS>> The 455 of Total 879\n",
      "QUANTAXIS>> DOWNLOAD PROGRESS 51.7% \n",
      "QUANTAXIS>> ##JOB02 Now Saving XDXR INFO ==== 513580\n",
      "QUANTAXIS>> The 456 of Total 879\n",
      "QUANTAXIS>> DOWNLOAD PROGRESS 51.8% \n",
      "QUANTAXIS>> ##JOB02 Now Saving XDXR INFO ==== 513590\n",
      "QUANTAXIS>> The 457 of Total 879\n",
      "QUANTAXIS>> DOWNLOAD PROGRESS 51.9% \n",
      "QUANTAXIS>> ##JOB02 Now Saving XDXR INFO ==== 513600\n",
      "QUANTAXIS>> The 458 of Total 879\n",
      "QUANTAXIS>> DOWNLOAD PROGRESS 52.1% \n",
      "QUANTAXIS>> ##JOB02 Now Saving XDXR INFO ==== 513650\n",
      "QUANTAXIS>> The 459 of Total 879\n",
      "QUANTAXIS>> DOWNLOAD PROGRESS 52.2% \n",
      "QUANTAXIS>> ##JOB02 Now Saving XDXR INFO ==== 513660\n",
      "QUANTAXIS>> The 460 of Total 879\n",
      "QUANTAXIS>> DOWNLOAD PROGRESS 52.3% \n",
      "QUANTAXIS>> ##JOB02 Now Saving XDXR INFO ==== 513690\n",
      "QUANTAXIS>> The 461 of Total 879\n",
      "QUANTAXIS>> DOWNLOAD PROGRESS 52.4% \n",
      "QUANTAXIS>> ##JOB02 Now Saving XDXR INFO ==== 513700\n",
      "QUANTAXIS>> The 462 of Total 879\n",
      "QUANTAXIS>> DOWNLOAD PROGRESS 52.5% \n",
      "QUANTAXIS>> ##JOB02 Now Saving XDXR INFO ==== 513770\n",
      "QUANTAXIS>> The 463 of Total 879\n",
      "QUANTAXIS>> DOWNLOAD PROGRESS 52.6% \n",
      "QUANTAXIS>> ##JOB02 Now Saving XDXR INFO ==== 513800\n",
      "QUANTAXIS>> The 464 of Total 879\n",
      "QUANTAXIS>> DOWNLOAD PROGRESS 52.7% \n",
      "QUANTAXIS>> ##JOB02 Now Saving XDXR INFO ==== 513860\n",
      "QUANTAXIS>> The 465 of Total 879\n",
      "QUANTAXIS>> DOWNLOAD PROGRESS 52.9% \n",
      "QUANTAXIS>> ##JOB02 Now Saving XDXR INFO ==== 513880\n",
      "QUANTAXIS>> The 466 of Total 879\n",
      "QUANTAXIS>> DOWNLOAD PROGRESS 53.0% \n",
      "QUANTAXIS>> ##JOB02 Now Saving XDXR INFO ==== 513890\n",
      "QUANTAXIS>> The 467 of Total 879\n",
      "QUANTAXIS>> DOWNLOAD PROGRESS 53.1% \n",
      "QUANTAXIS>> ##JOB02 Now Saving XDXR INFO ==== 513900\n",
      "QUANTAXIS>> The 468 of Total 879\n",
      "QUANTAXIS>> DOWNLOAD PROGRESS 53.2% \n",
      "QUANTAXIS>> ##JOB02 Now Saving XDXR INFO ==== 513950\n"
     ]
    },
    {
     "name": "stderr",
     "output_type": "stream",
     "text": [
      "QUANTAXIS>> The 469 of Total 879\n",
      "QUANTAXIS>> DOWNLOAD PROGRESS 53.3% \n",
      "QUANTAXIS>> ##JOB02 Now Saving XDXR INFO ==== 513960\n",
      "QUANTAXIS>> The 470 of Total 879\n",
      "QUANTAXIS>> DOWNLOAD PROGRESS 53.4% \n",
      "QUANTAXIS>> ##JOB02 Now Saving XDXR INFO ==== 513970\n",
      "QUANTAXIS>> The 471 of Total 879\n",
      "QUANTAXIS>> DOWNLOAD PROGRESS 53.5% \n",
      "QUANTAXIS>> ##JOB02 Now Saving XDXR INFO ==== 513980\n",
      "QUANTAXIS>> The 472 of Total 879\n",
      "QUANTAXIS>> DOWNLOAD PROGRESS 53.6% \n",
      "QUANTAXIS>> ##JOB02 Now Saving XDXR INFO ==== 513990\n",
      "QUANTAXIS>> The 473 of Total 879\n",
      "QUANTAXIS>> DOWNLOAD PROGRESS 53.8% \n",
      "QUANTAXIS>> ##JOB02 Now Saving XDXR INFO ==== 515000\n",
      "QUANTAXIS>> The 474 of Total 879\n",
      "QUANTAXIS>> DOWNLOAD PROGRESS 53.9% \n",
      "QUANTAXIS>> ##JOB02 Now Saving XDXR INFO ==== 515010\n",
      "QUANTAXIS>> The 475 of Total 879\n",
      "QUANTAXIS>> DOWNLOAD PROGRESS 54.0% \n",
      "QUANTAXIS>> ##JOB02 Now Saving XDXR INFO ==== 515020\n",
      "QUANTAXIS>> The 476 of Total 879\n",
      "QUANTAXIS>> DOWNLOAD PROGRESS 54.1% \n",
      "QUANTAXIS>> ##JOB02 Now Saving XDXR INFO ==== 515030\n",
      "QUANTAXIS>> The 477 of Total 879\n",
      "QUANTAXIS>> DOWNLOAD PROGRESS 54.2% \n",
      "QUANTAXIS>> ##JOB02 Now Saving XDXR INFO ==== 515050\n",
      "QUANTAXIS>> The 478 of Total 879\n",
      "QUANTAXIS>> DOWNLOAD PROGRESS 54.3% \n",
      "QUANTAXIS>> ##JOB02 Now Saving XDXR INFO ==== 515060\n",
      "QUANTAXIS>> The 479 of Total 879\n",
      "QUANTAXIS>> DOWNLOAD PROGRESS 54.4% \n",
      "QUANTAXIS>> ##JOB02 Now Saving XDXR INFO ==== 515070\n",
      "QUANTAXIS>> The 480 of Total 879\n",
      "QUANTAXIS>> DOWNLOAD PROGRESS 54.6% \n",
      "QUANTAXIS>> ##JOB02 Now Saving XDXR INFO ==== 515080\n",
      "QUANTAXIS>> The 481 of Total 879\n",
      "QUANTAXIS>> DOWNLOAD PROGRESS 54.7% \n",
      "QUANTAXIS>> ##JOB02 Now Saving XDXR INFO ==== 515090\n",
      "QUANTAXIS>> The 482 of Total 879\n",
      "QUANTAXIS>> DOWNLOAD PROGRESS 54.8% \n",
      "QUANTAXIS>> ##JOB02 Now Saving XDXR INFO ==== 515100\n",
      "QUANTAXIS>> The 483 of Total 879\n",
      "QUANTAXIS>> DOWNLOAD PROGRESS 54.9% \n",
      "QUANTAXIS>> ##JOB02 Now Saving XDXR INFO ==== 515110\n",
      "QUANTAXIS>> The 484 of Total 879\n",
      "QUANTAXIS>> DOWNLOAD PROGRESS 55.0% \n",
      "QUANTAXIS>> ##JOB02 Now Saving XDXR INFO ==== 515120\n",
      "QUANTAXIS>> The 485 of Total 879\n",
      "QUANTAXIS>> DOWNLOAD PROGRESS 55.1% \n",
      "QUANTAXIS>> ##JOB02 Now Saving XDXR INFO ==== 515130\n",
      "QUANTAXIS>> The 486 of Total 879\n",
      "QUANTAXIS>> DOWNLOAD PROGRESS 55.2% \n",
      "QUANTAXIS>> ##JOB02 Now Saving XDXR INFO ==== 515150\n",
      "QUANTAXIS>> The 487 of Total 879\n",
      "QUANTAXIS>> DOWNLOAD PROGRESS 55.4% \n",
      "QUANTAXIS>> ##JOB02 Now Saving XDXR INFO ==== 515160\n",
      "QUANTAXIS>> The 488 of Total 879\n",
      "QUANTAXIS>> DOWNLOAD PROGRESS 55.5% \n",
      "QUANTAXIS>> ##JOB02 Now Saving XDXR INFO ==== 515170\n",
      "QUANTAXIS>> The 489 of Total 879\n",
      "QUANTAXIS>> DOWNLOAD PROGRESS 55.6% \n",
      "QUANTAXIS>> ##JOB02 Now Saving XDXR INFO ==== 515180\n",
      "QUANTAXIS>> The 490 of Total 879\n",
      "QUANTAXIS>> DOWNLOAD PROGRESS 55.7% \n",
      "QUANTAXIS>> ##JOB02 Now Saving XDXR INFO ==== 515190\n",
      "QUANTAXIS>> The 491 of Total 879\n",
      "QUANTAXIS>> DOWNLOAD PROGRESS 55.8% \n",
      "QUANTAXIS>> ##JOB02 Now Saving XDXR INFO ==== 515200\n",
      "QUANTAXIS>> The 492 of Total 879\n",
      "QUANTAXIS>> DOWNLOAD PROGRESS 55.9% \n",
      "QUANTAXIS>> ##JOB02 Now Saving XDXR INFO ==== 515210\n",
      "QUANTAXIS>> The 493 of Total 879\n",
      "QUANTAXIS>> DOWNLOAD PROGRESS 56.0% \n",
      "QUANTAXIS>> ##JOB02 Now Saving XDXR INFO ==== 515220\n",
      "QUANTAXIS>> The 494 of Total 879\n",
      "QUANTAXIS>> DOWNLOAD PROGRESS 56.2% \n",
      "QUANTAXIS>> ##JOB02 Now Saving XDXR INFO ==== 515230\n",
      "QUANTAXIS>> The 495 of Total 879\n",
      "QUANTAXIS>> DOWNLOAD PROGRESS 56.3% \n",
      "QUANTAXIS>> ##JOB02 Now Saving XDXR INFO ==== 515250\n",
      "QUANTAXIS>> The 496 of Total 879\n",
      "QUANTAXIS>> DOWNLOAD PROGRESS 56.4% \n",
      "QUANTAXIS>> ##JOB02 Now Saving XDXR INFO ==== 515260\n",
      "QUANTAXIS>> The 497 of Total 879\n",
      "QUANTAXIS>> DOWNLOAD PROGRESS 56.5% \n",
      "QUANTAXIS>> ##JOB02 Now Saving XDXR INFO ==== 515280\n",
      "QUANTAXIS>> The 498 of Total 879\n",
      "QUANTAXIS>> DOWNLOAD PROGRESS 56.6% \n",
      "QUANTAXIS>> ##JOB02 Now Saving XDXR INFO ==== 515290\n",
      "QUANTAXIS>> The 499 of Total 879\n",
      "QUANTAXIS>> DOWNLOAD PROGRESS 56.7% \n",
      "QUANTAXIS>> ##JOB02 Now Saving XDXR INFO ==== 515300\n",
      "QUANTAXIS>> The 500 of Total 879\n",
      "QUANTAXIS>> DOWNLOAD PROGRESS 56.8% \n",
      "QUANTAXIS>> ##JOB02 Now Saving XDXR INFO ==== 515310\n",
      "QUANTAXIS>> The 501 of Total 879\n",
      "QUANTAXIS>> DOWNLOAD PROGRESS 56.9% \n",
      "QUANTAXIS>> ##JOB02 Now Saving XDXR INFO ==== 515320\n",
      "QUANTAXIS>> The 502 of Total 879\n",
      "QUANTAXIS>> DOWNLOAD PROGRESS 57.1% \n",
      "QUANTAXIS>> ##JOB02 Now Saving XDXR INFO ==== 515330\n",
      "QUANTAXIS>> The 503 of Total 879\n",
      "QUANTAXIS>> DOWNLOAD PROGRESS 57.2% \n",
      "QUANTAXIS>> ##JOB02 Now Saving XDXR INFO ==== 515350\n",
      "QUANTAXIS>> The 504 of Total 879\n",
      "QUANTAXIS>> DOWNLOAD PROGRESS 57.3% \n",
      "QUANTAXIS>> ##JOB02 Now Saving XDXR INFO ==== 515360\n",
      "QUANTAXIS>> The 505 of Total 879\n",
      "QUANTAXIS>> DOWNLOAD PROGRESS 57.4% \n",
      "QUANTAXIS>> ##JOB02 Now Saving XDXR INFO ==== 515380\n",
      "QUANTAXIS>> The 506 of Total 879\n",
      "QUANTAXIS>> DOWNLOAD PROGRESS 57.5% \n",
      "QUANTAXIS>> ##JOB02 Now Saving XDXR INFO ==== 515390\n",
      "QUANTAXIS>> The 507 of Total 879\n",
      "QUANTAXIS>> DOWNLOAD PROGRESS 57.6% \n",
      "QUANTAXIS>> ##JOB02 Now Saving XDXR INFO ==== 515400\n",
      "QUANTAXIS>> The 508 of Total 879\n",
      "QUANTAXIS>> DOWNLOAD PROGRESS 57.7% \n",
      "QUANTAXIS>> ##JOB02 Now Saving XDXR INFO ==== 515450\n",
      "QUANTAXIS>> The 509 of Total 879\n",
      "QUANTAXIS>> DOWNLOAD PROGRESS 57.9% \n",
      "QUANTAXIS>> ##JOB02 Now Saving XDXR INFO ==== 515510\n",
      "QUANTAXIS>> The 510 of Total 879\n",
      "QUANTAXIS>> DOWNLOAD PROGRESS 58.0% \n",
      "QUANTAXIS>> ##JOB02 Now Saving XDXR INFO ==== 515520\n",
      "QUANTAXIS>> The 511 of Total 879\n",
      "QUANTAXIS>> DOWNLOAD PROGRESS 58.1% \n",
      "QUANTAXIS>> ##JOB02 Now Saving XDXR INFO ==== 515530\n",
      "QUANTAXIS>> The 512 of Total 879\n",
      "QUANTAXIS>> DOWNLOAD PROGRESS 58.2% \n",
      "QUANTAXIS>> ##JOB02 Now Saving XDXR INFO ==== 515550\n",
      "QUANTAXIS>> The 513 of Total 879\n",
      "QUANTAXIS>> DOWNLOAD PROGRESS 58.3% \n",
      "QUANTAXIS>> ##JOB02 Now Saving XDXR INFO ==== 515560\n",
      "QUANTAXIS>> The 514 of Total 879\n",
      "QUANTAXIS>> DOWNLOAD PROGRESS 58.4% \n",
      "QUANTAXIS>> ##JOB02 Now Saving XDXR INFO ==== 515570\n",
      "QUANTAXIS>> The 515 of Total 879\n",
      "QUANTAXIS>> DOWNLOAD PROGRESS 58.5% \n",
      "QUANTAXIS>> ##JOB02 Now Saving XDXR INFO ==== 515580\n",
      "QUANTAXIS>> The 516 of Total 879\n",
      "QUANTAXIS>> DOWNLOAD PROGRESS 58.7% \n",
      "QUANTAXIS>> ##JOB02 Now Saving XDXR INFO ==== 515590\n",
      "QUANTAXIS>> The 517 of Total 879\n",
      "QUANTAXIS>> DOWNLOAD PROGRESS 58.8% \n",
      "QUANTAXIS>> ##JOB02 Now Saving XDXR INFO ==== 515600\n",
      "QUANTAXIS>> The 518 of Total 879\n",
      "QUANTAXIS>> DOWNLOAD PROGRESS 58.9% \n",
      "QUANTAXIS>> ##JOB02 Now Saving XDXR INFO ==== 515630\n",
      "QUANTAXIS>> The 519 of Total 879\n",
      "QUANTAXIS>> DOWNLOAD PROGRESS 59.0% \n",
      "QUANTAXIS>> ##JOB02 Now Saving XDXR INFO ==== 515650\n",
      "QUANTAXIS>> The 520 of Total 879\n",
      "QUANTAXIS>> DOWNLOAD PROGRESS 59.1% \n",
      "QUANTAXIS>> ##JOB02 Now Saving XDXR INFO ==== 515660\n",
      "QUANTAXIS>> The 521 of Total 879\n",
      "QUANTAXIS>> DOWNLOAD PROGRESS 59.2% \n",
      "QUANTAXIS>> ##JOB02 Now Saving XDXR INFO ==== 515670\n",
      "QUANTAXIS>> The 522 of Total 879\n",
      "QUANTAXIS>> DOWNLOAD PROGRESS 59.3% \n",
      "QUANTAXIS>> ##JOB02 Now Saving XDXR INFO ==== 515680\n",
      "QUANTAXIS>> The 523 of Total 879\n",
      "QUANTAXIS>> DOWNLOAD PROGRESS 59.4% \n",
      "QUANTAXIS>> ##JOB02 Now Saving XDXR INFO ==== 515700\n",
      "QUANTAXIS>> The 524 of Total 879\n",
      "QUANTAXIS>> DOWNLOAD PROGRESS 59.6% \n",
      "QUANTAXIS>> ##JOB02 Now Saving XDXR INFO ==== 515710\n",
      "QUANTAXIS>> The 525 of Total 879\n",
      "QUANTAXIS>> DOWNLOAD PROGRESS 59.7% \n",
      "QUANTAXIS>> ##JOB02 Now Saving XDXR INFO ==== 515750\n",
      "QUANTAXIS>> The 526 of Total 879\n",
      "QUANTAXIS>> DOWNLOAD PROGRESS 59.8% \n",
      "QUANTAXIS>> ##JOB02 Now Saving XDXR INFO ==== 515760\n",
      "QUANTAXIS>> The 527 of Total 879\n",
      "QUANTAXIS>> DOWNLOAD PROGRESS 59.9% \n",
      "QUANTAXIS>> ##JOB02 Now Saving XDXR INFO ==== 515770\n",
      "QUANTAXIS>> The 528 of Total 879\n",
      "QUANTAXIS>> DOWNLOAD PROGRESS 60.0% \n",
      "QUANTAXIS>> ##JOB02 Now Saving XDXR INFO ==== 515780\n",
      "QUANTAXIS>> The 529 of Total 879\n",
      "QUANTAXIS>> DOWNLOAD PROGRESS 60.1% \n",
      "QUANTAXIS>> ##JOB02 Now Saving XDXR INFO ==== 515790\n",
      "QUANTAXIS>> The 530 of Total 879\n",
      "QUANTAXIS>> DOWNLOAD PROGRESS 60.2% \n",
      "QUANTAXIS>> ##JOB02 Now Saving XDXR INFO ==== 515800\n",
      "QUANTAXIS>> The 531 of Total 879\n",
      "QUANTAXIS>> DOWNLOAD PROGRESS 60.4% \n",
      "QUANTAXIS>> ##JOB02 Now Saving XDXR INFO ==== 515810\n",
      "QUANTAXIS>> The 532 of Total 879\n",
      "QUANTAXIS>> DOWNLOAD PROGRESS 60.5% \n",
      "QUANTAXIS>> ##JOB02 Now Saving XDXR INFO ==== 515850\n",
      "QUANTAXIS>> The 533 of Total 879\n",
      "QUANTAXIS>> DOWNLOAD PROGRESS 60.6% \n",
      "QUANTAXIS>> ##JOB02 Now Saving XDXR INFO ==== 515860\n",
      "QUANTAXIS>> The 534 of Total 879\n",
      "QUANTAXIS>> DOWNLOAD PROGRESS 60.7% \n",
      "QUANTAXIS>> ##JOB02 Now Saving XDXR INFO ==== 515880\n",
      "QUANTAXIS>> The 535 of Total 879\n",
      "QUANTAXIS>> DOWNLOAD PROGRESS 60.8% \n",
      "QUANTAXIS>> ##JOB02 Now Saving XDXR INFO ==== 515890\n"
     ]
    },
    {
     "name": "stderr",
     "output_type": "stream",
     "text": [
      "QUANTAXIS>> The 536 of Total 879\n",
      "QUANTAXIS>> DOWNLOAD PROGRESS 60.9% \n",
      "QUANTAXIS>> ##JOB02 Now Saving XDXR INFO ==== 515900\n",
      "QUANTAXIS>> The 537 of Total 879\n",
      "QUANTAXIS>> DOWNLOAD PROGRESS 61.0% \n",
      "QUANTAXIS>> ##JOB02 Now Saving XDXR INFO ==== 515910\n",
      "QUANTAXIS>> The 538 of Total 879\n",
      "QUANTAXIS>> DOWNLOAD PROGRESS 61.2% \n",
      "QUANTAXIS>> ##JOB02 Now Saving XDXR INFO ==== 515920\n",
      "QUANTAXIS>> The 539 of Total 879\n",
      "QUANTAXIS>> DOWNLOAD PROGRESS 61.3% \n",
      "QUANTAXIS>> ##JOB02 Now Saving XDXR INFO ==== 515930\n",
      "QUANTAXIS>> The 540 of Total 879\n",
      "QUANTAXIS>> DOWNLOAD PROGRESS 61.4% \n",
      "QUANTAXIS>> ##JOB02 Now Saving XDXR INFO ==== 515950\n",
      "QUANTAXIS>> The 541 of Total 879\n",
      "QUANTAXIS>> DOWNLOAD PROGRESS 61.5% \n",
      "QUANTAXIS>> ##JOB02 Now Saving XDXR INFO ==== 515960\n",
      "QUANTAXIS>> The 542 of Total 879\n",
      "QUANTAXIS>> DOWNLOAD PROGRESS 61.6% \n",
      "QUANTAXIS>> ##JOB02 Now Saving XDXR INFO ==== 515980\n",
      "QUANTAXIS>> The 543 of Total 879\n",
      "QUANTAXIS>> DOWNLOAD PROGRESS 61.7% \n",
      "QUANTAXIS>> ##JOB02 Now Saving XDXR INFO ==== 515990\n",
      "QUANTAXIS>> The 544 of Total 879\n",
      "QUANTAXIS>> DOWNLOAD PROGRESS 61.8% \n",
      "QUANTAXIS>> ##JOB02 Now Saving XDXR INFO ==== 516000\n",
      "QUANTAXIS>> The 545 of Total 879\n",
      "QUANTAXIS>> DOWNLOAD PROGRESS 62.0% \n",
      "QUANTAXIS>> ##JOB02 Now Saving XDXR INFO ==== 516010\n",
      "QUANTAXIS>> The 546 of Total 879\n",
      "QUANTAXIS>> DOWNLOAD PROGRESS 62.1% \n",
      "QUANTAXIS>> ##JOB02 Now Saving XDXR INFO ==== 516020\n",
      "QUANTAXIS>> The 547 of Total 879\n",
      "QUANTAXIS>> DOWNLOAD PROGRESS 62.2% \n",
      "QUANTAXIS>> ##JOB02 Now Saving XDXR INFO ==== 516050\n",
      "QUANTAXIS>> The 548 of Total 879\n",
      "QUANTAXIS>> DOWNLOAD PROGRESS 62.3% \n",
      "QUANTAXIS>> ##JOB02 Now Saving XDXR INFO ==== 516060\n",
      "QUANTAXIS>> The 549 of Total 879\n",
      "QUANTAXIS>> DOWNLOAD PROGRESS 62.4% \n",
      "QUANTAXIS>> ##JOB02 Now Saving XDXR INFO ==== 516070\n",
      "QUANTAXIS>> The 550 of Total 879\n",
      "QUANTAXIS>> DOWNLOAD PROGRESS 62.5% \n",
      "QUANTAXIS>> ##JOB02 Now Saving XDXR INFO ==== 516080\n",
      "QUANTAXIS>> The 551 of Total 879\n",
      "QUANTAXIS>> DOWNLOAD PROGRESS 62.6% \n",
      "QUANTAXIS>> ##JOB02 Now Saving XDXR INFO ==== 516090\n",
      "QUANTAXIS>> The 552 of Total 879\n",
      "QUANTAXIS>> DOWNLOAD PROGRESS 62.7% \n",
      "QUANTAXIS>> ##JOB02 Now Saving XDXR INFO ==== 516100\n",
      "QUANTAXIS>> The 553 of Total 879\n",
      "QUANTAXIS>> DOWNLOAD PROGRESS 62.9% \n",
      "QUANTAXIS>> ##JOB02 Now Saving XDXR INFO ==== 516110\n",
      "QUANTAXIS>> The 554 of Total 879\n",
      "QUANTAXIS>> DOWNLOAD PROGRESS 63.0% \n",
      "QUANTAXIS>> ##JOB02 Now Saving XDXR INFO ==== 516120\n",
      "QUANTAXIS>> The 555 of Total 879\n",
      "QUANTAXIS>> DOWNLOAD PROGRESS 63.1% \n",
      "QUANTAXIS>> ##JOB02 Now Saving XDXR INFO ==== 516130\n",
      "QUANTAXIS>> The 556 of Total 879\n",
      "QUANTAXIS>> DOWNLOAD PROGRESS 63.2% \n",
      "QUANTAXIS>> ##JOB02 Now Saving XDXR INFO ==== 516150\n",
      "QUANTAXIS>> The 557 of Total 879\n",
      "QUANTAXIS>> DOWNLOAD PROGRESS 63.3% \n",
      "QUANTAXIS>> ##JOB02 Now Saving XDXR INFO ==== 516160\n",
      "QUANTAXIS>> The 558 of Total 879\n",
      "QUANTAXIS>> DOWNLOAD PROGRESS 63.4% \n",
      "QUANTAXIS>> ##JOB02 Now Saving XDXR INFO ==== 516180\n",
      "QUANTAXIS>> The 559 of Total 879\n",
      "QUANTAXIS>> DOWNLOAD PROGRESS 63.5% \n",
      "QUANTAXIS>> ##JOB02 Now Saving XDXR INFO ==== 516190\n",
      "QUANTAXIS>> The 560 of Total 879\n",
      "QUANTAXIS>> DOWNLOAD PROGRESS 63.7% \n",
      "QUANTAXIS>> ##JOB02 Now Saving XDXR INFO ==== 516200\n",
      "QUANTAXIS>> The 561 of Total 879\n",
      "QUANTAXIS>> DOWNLOAD PROGRESS 63.8% \n",
      "QUANTAXIS>> ##JOB02 Now Saving XDXR INFO ==== 516210\n",
      "QUANTAXIS>> The 562 of Total 879\n",
      "QUANTAXIS>> DOWNLOAD PROGRESS 63.9% \n",
      "QUANTAXIS>> ##JOB02 Now Saving XDXR INFO ==== 516220\n",
      "QUANTAXIS>> The 563 of Total 879\n",
      "QUANTAXIS>> DOWNLOAD PROGRESS 64.0% \n",
      "QUANTAXIS>> ##JOB02 Now Saving XDXR INFO ==== 516260\n",
      "QUANTAXIS>> The 564 of Total 879\n",
      "QUANTAXIS>> DOWNLOAD PROGRESS 64.1% \n",
      "QUANTAXIS>> ##JOB02 Now Saving XDXR INFO ==== 516270\n",
      "QUANTAXIS>> The 565 of Total 879\n",
      "QUANTAXIS>> DOWNLOAD PROGRESS 64.2% \n",
      "QUANTAXIS>> ##JOB02 Now Saving XDXR INFO ==== 516290\n",
      "QUANTAXIS>> The 566 of Total 879\n",
      "QUANTAXIS>> DOWNLOAD PROGRESS 64.3% \n",
      "QUANTAXIS>> ##JOB02 Now Saving XDXR INFO ==== 516300\n",
      "QUANTAXIS>> The 567 of Total 879\n",
      "QUANTAXIS>> DOWNLOAD PROGRESS 64.5% \n",
      "QUANTAXIS>> ##JOB02 Now Saving XDXR INFO ==== 516310\n",
      "QUANTAXIS>> The 568 of Total 879\n",
      "QUANTAXIS>> DOWNLOAD PROGRESS 64.6% \n",
      "QUANTAXIS>> ##JOB02 Now Saving XDXR INFO ==== 516320\n",
      "QUANTAXIS>> The 569 of Total 879\n",
      "QUANTAXIS>> DOWNLOAD PROGRESS 64.7% \n",
      "QUANTAXIS>> ##JOB02 Now Saving XDXR INFO ==== 516330\n",
      "QUANTAXIS>> The 570 of Total 879\n",
      "QUANTAXIS>> DOWNLOAD PROGRESS 64.8% \n",
      "QUANTAXIS>> ##JOB02 Now Saving XDXR INFO ==== 516350\n",
      "QUANTAXIS>> The 571 of Total 879\n",
      "QUANTAXIS>> DOWNLOAD PROGRESS 64.9% \n",
      "QUANTAXIS>> ##JOB02 Now Saving XDXR INFO ==== 516360\n",
      "QUANTAXIS>> The 572 of Total 879\n",
      "QUANTAXIS>> DOWNLOAD PROGRESS 65.0% \n",
      "QUANTAXIS>> ##JOB02 Now Saving XDXR INFO ==== 516380\n",
      "QUANTAXIS>> The 573 of Total 879\n",
      "QUANTAXIS>> DOWNLOAD PROGRESS 65.1% \n",
      "QUANTAXIS>> ##JOB02 Now Saving XDXR INFO ==== 516390\n",
      "QUANTAXIS>> The 574 of Total 879\n",
      "QUANTAXIS>> DOWNLOAD PROGRESS 65.3% \n",
      "QUANTAXIS>> ##JOB02 Now Saving XDXR INFO ==== 516480\n",
      "QUANTAXIS>> The 575 of Total 879\n",
      "QUANTAXIS>> DOWNLOAD PROGRESS 65.4% \n",
      "QUANTAXIS>> ##JOB02 Now Saving XDXR INFO ==== 516500\n",
      "QUANTAXIS>> The 576 of Total 879\n",
      "QUANTAXIS>> DOWNLOAD PROGRESS 65.5% \n",
      "QUANTAXIS>> ##JOB02 Now Saving XDXR INFO ==== 516510\n",
      "QUANTAXIS>> The 577 of Total 879\n",
      "QUANTAXIS>> DOWNLOAD PROGRESS 65.6% \n",
      "QUANTAXIS>> ##JOB02 Now Saving XDXR INFO ==== 516520\n",
      "QUANTAXIS>> The 578 of Total 879\n",
      "QUANTAXIS>> DOWNLOAD PROGRESS 65.7% \n",
      "QUANTAXIS>> ##JOB02 Now Saving XDXR INFO ==== 516530\n",
      "QUANTAXIS>> The 579 of Total 879\n",
      "QUANTAXIS>> DOWNLOAD PROGRESS 65.8% \n",
      "QUANTAXIS>> ##JOB02 Now Saving XDXR INFO ==== 516550\n",
      "QUANTAXIS>> The 580 of Total 879\n",
      "QUANTAXIS>> DOWNLOAD PROGRESS 65.9% \n",
      "QUANTAXIS>> ##JOB02 Now Saving XDXR INFO ==== 516560\n",
      "QUANTAXIS>> The 581 of Total 879\n",
      "QUANTAXIS>> DOWNLOAD PROGRESS 66.0% \n",
      "QUANTAXIS>> ##JOB02 Now Saving XDXR INFO ==== 516570\n",
      "QUANTAXIS>> The 582 of Total 879\n",
      "QUANTAXIS>> DOWNLOAD PROGRESS 66.2% \n",
      "QUANTAXIS>> ##JOB02 Now Saving XDXR INFO ==== 516580\n",
      "QUANTAXIS>> The 583 of Total 879\n",
      "QUANTAXIS>> DOWNLOAD PROGRESS 66.3% \n",
      "QUANTAXIS>> ##JOB02 Now Saving XDXR INFO ==== 516590\n",
      "QUANTAXIS>> The 584 of Total 879\n",
      "QUANTAXIS>> DOWNLOAD PROGRESS 66.4% \n",
      "QUANTAXIS>> ##JOB02 Now Saving XDXR INFO ==== 516600\n",
      "QUANTAXIS>> The 585 of Total 879\n",
      "QUANTAXIS>> DOWNLOAD PROGRESS 66.5% \n",
      "QUANTAXIS>> ##JOB02 Now Saving XDXR INFO ==== 516610\n",
      "QUANTAXIS>> The 586 of Total 879\n",
      "QUANTAXIS>> DOWNLOAD PROGRESS 66.6% \n",
      "QUANTAXIS>> ##JOB02 Now Saving XDXR INFO ==== 516620\n",
      "QUANTAXIS>> The 587 of Total 879\n",
      "QUANTAXIS>> DOWNLOAD PROGRESS 66.7% \n",
      "QUANTAXIS>> ##JOB02 Now Saving XDXR INFO ==== 516630\n",
      "QUANTAXIS>> The 588 of Total 879\n",
      "QUANTAXIS>> DOWNLOAD PROGRESS 66.8% \n",
      "QUANTAXIS>> ##JOB02 Now Saving XDXR INFO ==== 516640\n",
      "QUANTAXIS>> The 589 of Total 879\n",
      "QUANTAXIS>> DOWNLOAD PROGRESS 67.0% \n",
      "QUANTAXIS>> ##JOB02 Now Saving XDXR INFO ==== 516650\n",
      "QUANTAXIS>> The 590 of Total 879\n",
      "QUANTAXIS>> DOWNLOAD PROGRESS 67.1% \n",
      "QUANTAXIS>> ##JOB02 Now Saving XDXR INFO ==== 516660\n",
      "QUANTAXIS>> The 591 of Total 879\n",
      "QUANTAXIS>> DOWNLOAD PROGRESS 67.2% \n",
      "QUANTAXIS>> ##JOB02 Now Saving XDXR INFO ==== 516670\n",
      "QUANTAXIS>> The 592 of Total 879\n",
      "QUANTAXIS>> DOWNLOAD PROGRESS 67.3% \n",
      "QUANTAXIS>> ##JOB02 Now Saving XDXR INFO ==== 516690\n",
      "QUANTAXIS>> The 593 of Total 879\n",
      "QUANTAXIS>> DOWNLOAD PROGRESS 67.4% \n",
      "QUANTAXIS>> ##JOB02 Now Saving XDXR INFO ==== 516700\n",
      "QUANTAXIS>> The 594 of Total 879\n",
      "QUANTAXIS>> DOWNLOAD PROGRESS 67.5% \n",
      "QUANTAXIS>> ##JOB02 Now Saving XDXR INFO ==== 516710\n",
      "QUANTAXIS>> The 595 of Total 879\n",
      "QUANTAXIS>> DOWNLOAD PROGRESS 67.6% \n",
      "QUANTAXIS>> ##JOB02 Now Saving XDXR INFO ==== 516720\n",
      "QUANTAXIS>> The 596 of Total 879\n",
      "QUANTAXIS>> DOWNLOAD PROGRESS 67.8% \n",
      "QUANTAXIS>> ##JOB02 Now Saving XDXR INFO ==== 516730\n",
      "QUANTAXIS>> The 597 of Total 879\n",
      "QUANTAXIS>> DOWNLOAD PROGRESS 67.9% \n",
      "QUANTAXIS>> ##JOB02 Now Saving XDXR INFO ==== 516750\n",
      "QUANTAXIS>> The 598 of Total 879\n",
      "QUANTAXIS>> DOWNLOAD PROGRESS 68.0% \n",
      "QUANTAXIS>> ##JOB02 Now Saving XDXR INFO ==== 516760\n",
      "QUANTAXIS>> The 599 of Total 879\n",
      "QUANTAXIS>> DOWNLOAD PROGRESS 68.1% \n",
      "QUANTAXIS>> ##JOB02 Now Saving XDXR INFO ==== 516770\n",
      "QUANTAXIS>> The 600 of Total 879\n",
      "QUANTAXIS>> DOWNLOAD PROGRESS 68.2% \n",
      "QUANTAXIS>> ##JOB02 Now Saving XDXR INFO ==== 516780\n",
      "QUANTAXIS>> The 601 of Total 879\n",
      "QUANTAXIS>> DOWNLOAD PROGRESS 68.3% \n",
      "QUANTAXIS>> ##JOB02 Now Saving XDXR INFO ==== 516790\n",
      "QUANTAXIS>> The 602 of Total 879\n",
      "QUANTAXIS>> DOWNLOAD PROGRESS 68.4% \n",
      "QUANTAXIS>> ##JOB02 Now Saving XDXR INFO ==== 516800\n"
     ]
    },
    {
     "name": "stderr",
     "output_type": "stream",
     "text": [
      "QUANTAXIS>> The 603 of Total 879\n",
      "QUANTAXIS>> DOWNLOAD PROGRESS 68.6% \n",
      "QUANTAXIS>> ##JOB02 Now Saving XDXR INFO ==== 516810\n",
      "QUANTAXIS>> The 604 of Total 879\n",
      "QUANTAXIS>> DOWNLOAD PROGRESS 68.7% \n",
      "QUANTAXIS>> ##JOB02 Now Saving XDXR INFO ==== 516820\n",
      "QUANTAXIS>> The 605 of Total 879\n",
      "QUANTAXIS>> DOWNLOAD PROGRESS 68.8% \n",
      "QUANTAXIS>> ##JOB02 Now Saving XDXR INFO ==== 516830\n",
      "QUANTAXIS>> The 606 of Total 879\n",
      "QUANTAXIS>> DOWNLOAD PROGRESS 68.9% \n",
      "QUANTAXIS>> ##JOB02 Now Saving XDXR INFO ==== 516850\n",
      "QUANTAXIS>> The 607 of Total 879\n",
      "QUANTAXIS>> DOWNLOAD PROGRESS 69.0% \n",
      "QUANTAXIS>> ##JOB02 Now Saving XDXR INFO ==== 516860\n",
      "QUANTAXIS>> The 608 of Total 879\n",
      "QUANTAXIS>> DOWNLOAD PROGRESS 69.1% \n",
      "QUANTAXIS>> ##JOB02 Now Saving XDXR INFO ==== 516880\n",
      "QUANTAXIS>> The 609 of Total 879\n",
      "QUANTAXIS>> DOWNLOAD PROGRESS 69.2% \n",
      "QUANTAXIS>> ##JOB02 Now Saving XDXR INFO ==== 516890\n",
      "QUANTAXIS>> The 610 of Total 879\n",
      "QUANTAXIS>> DOWNLOAD PROGRESS 69.3% \n",
      "QUANTAXIS>> ##JOB02 Now Saving XDXR INFO ==== 516900\n",
      "QUANTAXIS>> The 611 of Total 879\n",
      "QUANTAXIS>> DOWNLOAD PROGRESS 69.5% \n",
      "QUANTAXIS>> ##JOB02 Now Saving XDXR INFO ==== 516910\n",
      "QUANTAXIS>> The 612 of Total 879\n",
      "QUANTAXIS>> DOWNLOAD PROGRESS 69.6% \n",
      "QUANTAXIS>> ##JOB02 Now Saving XDXR INFO ==== 516920\n",
      "QUANTAXIS>> The 613 of Total 879\n",
      "QUANTAXIS>> DOWNLOAD PROGRESS 69.7% \n",
      "QUANTAXIS>> ##JOB02 Now Saving XDXR INFO ==== 516930\n",
      "QUANTAXIS>> The 614 of Total 879\n",
      "QUANTAXIS>> DOWNLOAD PROGRESS 69.8% \n",
      "QUANTAXIS>> ##JOB02 Now Saving XDXR INFO ==== 516950\n",
      "QUANTAXIS>> The 615 of Total 879\n",
      "QUANTAXIS>> DOWNLOAD PROGRESS 69.9% \n",
      "QUANTAXIS>> ##JOB02 Now Saving XDXR INFO ==== 516960\n",
      "QUANTAXIS>> The 616 of Total 879\n",
      "QUANTAXIS>> DOWNLOAD PROGRESS 70.0% \n",
      "QUANTAXIS>> ##JOB02 Now Saving XDXR INFO ==== 516970\n",
      "QUANTAXIS>> The 617 of Total 879\n",
      "QUANTAXIS>> DOWNLOAD PROGRESS 70.1% \n",
      "QUANTAXIS>> ##JOB02 Now Saving XDXR INFO ==== 516980\n",
      "QUANTAXIS>> The 618 of Total 879\n",
      "QUANTAXIS>> DOWNLOAD PROGRESS 70.3% \n",
      "QUANTAXIS>> ##JOB02 Now Saving XDXR INFO ==== 517000\n",
      "QUANTAXIS>> The 619 of Total 879\n",
      "QUANTAXIS>> DOWNLOAD PROGRESS 70.4% \n",
      "QUANTAXIS>> ##JOB02 Now Saving XDXR INFO ==== 517010\n",
      "QUANTAXIS>> The 620 of Total 879\n",
      "QUANTAXIS>> DOWNLOAD PROGRESS 70.5% \n",
      "QUANTAXIS>> ##JOB02 Now Saving XDXR INFO ==== 517030\n",
      "QUANTAXIS>> The 621 of Total 879\n",
      "QUANTAXIS>> DOWNLOAD PROGRESS 70.6% \n",
      "QUANTAXIS>> ##JOB02 Now Saving XDXR INFO ==== 517050\n",
      "QUANTAXIS>> The 622 of Total 879\n",
      "QUANTAXIS>> DOWNLOAD PROGRESS 70.7% \n",
      "QUANTAXIS>> ##JOB02 Now Saving XDXR INFO ==== 517080\n",
      "QUANTAXIS>> The 623 of Total 879\n",
      "QUANTAXIS>> DOWNLOAD PROGRESS 70.8% \n",
      "QUANTAXIS>> ##JOB02 Now Saving XDXR INFO ==== 517090\n",
      "QUANTAXIS>> The 624 of Total 879\n",
      "QUANTAXIS>> DOWNLOAD PROGRESS 70.9% \n",
      "QUANTAXIS>> ##JOB02 Now Saving XDXR INFO ==== 517100\n",
      "QUANTAXIS>> The 625 of Total 879\n",
      "QUANTAXIS>> DOWNLOAD PROGRESS 71.1% \n",
      "QUANTAXIS>> ##JOB02 Now Saving XDXR INFO ==== 517110\n",
      "QUANTAXIS>> The 626 of Total 879\n",
      "QUANTAXIS>> DOWNLOAD PROGRESS 71.2% \n",
      "QUANTAXIS>> ##JOB02 Now Saving XDXR INFO ==== 517120\n",
      "QUANTAXIS>> The 627 of Total 879\n",
      "QUANTAXIS>> DOWNLOAD PROGRESS 71.3% \n",
      "QUANTAXIS>> ##JOB02 Now Saving XDXR INFO ==== 517160\n",
      "QUANTAXIS>> The 628 of Total 879\n",
      "QUANTAXIS>> DOWNLOAD PROGRESS 71.4% \n",
      "QUANTAXIS>> ##JOB02 Now Saving XDXR INFO ==== 517170\n",
      "QUANTAXIS>> The 629 of Total 879\n",
      "QUANTAXIS>> DOWNLOAD PROGRESS 71.5% \n",
      "QUANTAXIS>> ##JOB02 Now Saving XDXR INFO ==== 517180\n",
      "QUANTAXIS>> The 630 of Total 879\n",
      "QUANTAXIS>> DOWNLOAD PROGRESS 71.6% \n",
      "QUANTAXIS>> ##JOB02 Now Saving XDXR INFO ==== 517200\n",
      "QUANTAXIS>> The 631 of Total 879\n",
      "QUANTAXIS>> DOWNLOAD PROGRESS 71.7% \n",
      "QUANTAXIS>> ##JOB02 Now Saving XDXR INFO ==== 517270\n",
      "QUANTAXIS>> The 632 of Total 879\n",
      "QUANTAXIS>> DOWNLOAD PROGRESS 71.8% \n",
      "QUANTAXIS>> ##JOB02 Now Saving XDXR INFO ==== 517280\n",
      "QUANTAXIS>> The 633 of Total 879\n",
      "QUANTAXIS>> DOWNLOAD PROGRESS 72.0% \n",
      "QUANTAXIS>> ##JOB02 Now Saving XDXR INFO ==== 517300\n",
      "QUANTAXIS>> The 634 of Total 879\n",
      "QUANTAXIS>> DOWNLOAD PROGRESS 72.1% \n",
      "QUANTAXIS>> ##JOB02 Now Saving XDXR INFO ==== 517330\n",
      "QUANTAXIS>> The 635 of Total 879\n",
      "QUANTAXIS>> DOWNLOAD PROGRESS 72.2% \n",
      "QUANTAXIS>> ##JOB02 Now Saving XDXR INFO ==== 517350\n",
      "QUANTAXIS>> The 636 of Total 879\n",
      "QUANTAXIS>> DOWNLOAD PROGRESS 72.3% \n",
      "QUANTAXIS>> ##JOB02 Now Saving XDXR INFO ==== 517360\n",
      "QUANTAXIS>> The 637 of Total 879\n",
      "QUANTAXIS>> DOWNLOAD PROGRESS 72.4% \n",
      "QUANTAXIS>> ##JOB02 Now Saving XDXR INFO ==== 517380\n",
      "QUANTAXIS>> The 638 of Total 879\n",
      "QUANTAXIS>> DOWNLOAD PROGRESS 72.5% \n",
      "QUANTAXIS>> ##JOB02 Now Saving XDXR INFO ==== 517390\n",
      "QUANTAXIS>> The 639 of Total 879\n",
      "QUANTAXIS>> DOWNLOAD PROGRESS 72.6% \n",
      "QUANTAXIS>> ##JOB02 Now Saving XDXR INFO ==== 517500\n",
      "QUANTAXIS>> The 640 of Total 879\n",
      "QUANTAXIS>> DOWNLOAD PROGRESS 72.8% \n",
      "QUANTAXIS>> ##JOB02 Now Saving XDXR INFO ==== 517550\n",
      "QUANTAXIS>> The 641 of Total 879\n",
      "QUANTAXIS>> DOWNLOAD PROGRESS 72.9% \n",
      "QUANTAXIS>> ##JOB02 Now Saving XDXR INFO ==== 517660\n",
      "QUANTAXIS>> The 642 of Total 879\n",
      "QUANTAXIS>> DOWNLOAD PROGRESS 73.0% \n",
      "QUANTAXIS>> ##JOB02 Now Saving XDXR INFO ==== 517760\n",
      "QUANTAXIS>> The 643 of Total 879\n",
      "QUANTAXIS>> DOWNLOAD PROGRESS 73.1% \n",
      "QUANTAXIS>> ##JOB02 Now Saving XDXR INFO ==== 517770\n",
      "QUANTAXIS>> The 644 of Total 879\n",
      "QUANTAXIS>> DOWNLOAD PROGRESS 73.2% \n",
      "QUANTAXIS>> ##JOB02 Now Saving XDXR INFO ==== 517780\n",
      "QUANTAXIS>> The 645 of Total 879\n",
      "QUANTAXIS>> DOWNLOAD PROGRESS 73.3% \n",
      "QUANTAXIS>> ##JOB02 Now Saving XDXR INFO ==== 517800\n",
      "QUANTAXIS>> The 646 of Total 879\n",
      "QUANTAXIS>> DOWNLOAD PROGRESS 73.4% \n",
      "QUANTAXIS>> ##JOB02 Now Saving XDXR INFO ==== 517850\n",
      "QUANTAXIS>> The 647 of Total 879\n",
      "QUANTAXIS>> DOWNLOAD PROGRESS 73.6% \n",
      "QUANTAXIS>> ##JOB02 Now Saving XDXR INFO ==== 517880\n",
      "QUANTAXIS>> The 648 of Total 879\n",
      "QUANTAXIS>> DOWNLOAD PROGRESS 73.7% \n",
      "QUANTAXIS>> ##JOB02 Now Saving XDXR INFO ==== 517900\n",
      "QUANTAXIS>> The 649 of Total 879\n",
      "QUANTAXIS>> DOWNLOAD PROGRESS 73.8% \n",
      "QUANTAXIS>> ##JOB02 Now Saving XDXR INFO ==== 517960\n",
      "QUANTAXIS>> The 650 of Total 879\n",
      "QUANTAXIS>> DOWNLOAD PROGRESS 73.9% \n",
      "QUANTAXIS>> ##JOB02 Now Saving XDXR INFO ==== 517990\n",
      "QUANTAXIS>> The 651 of Total 879\n",
      "QUANTAXIS>> DOWNLOAD PROGRESS 74.0% \n",
      "QUANTAXIS>> ##JOB02 Now Saving XDXR INFO ==== 518600\n",
      "QUANTAXIS>> The 652 of Total 879\n",
      "QUANTAXIS>> DOWNLOAD PROGRESS 74.1% \n",
      "QUANTAXIS>> ##JOB02 Now Saving XDXR INFO ==== 518660\n",
      "QUANTAXIS>> The 653 of Total 879\n",
      "QUANTAXIS>> DOWNLOAD PROGRESS 74.2% \n",
      "QUANTAXIS>> ##JOB02 Now Saving XDXR INFO ==== 518680\n",
      "QUANTAXIS>> The 654 of Total 879\n",
      "QUANTAXIS>> DOWNLOAD PROGRESS 74.4% \n",
      "QUANTAXIS>> ##JOB02 Now Saving XDXR INFO ==== 518800\n",
      "QUANTAXIS>> The 655 of Total 879\n",
      "QUANTAXIS>> DOWNLOAD PROGRESS 74.5% \n",
      "QUANTAXIS>> ##JOB02 Now Saving XDXR INFO ==== 518850\n",
      "QUANTAXIS>> The 656 of Total 879\n",
      "QUANTAXIS>> DOWNLOAD PROGRESS 74.6% \n",
      "QUANTAXIS>> ##JOB02 Now Saving XDXR INFO ==== 518860\n",
      "QUANTAXIS>> The 657 of Total 879\n",
      "QUANTAXIS>> DOWNLOAD PROGRESS 74.7% \n",
      "QUANTAXIS>> ##JOB02 Now Saving XDXR INFO ==== 518880\n",
      "QUANTAXIS>> The 658 of Total 879\n",
      "QUANTAXIS>> DOWNLOAD PROGRESS 74.8% \n",
      "QUANTAXIS>> ##JOB02 Now Saving XDXR INFO ==== 518890\n",
      "QUANTAXIS>> The 659 of Total 879\n",
      "QUANTAXIS>> DOWNLOAD PROGRESS 74.9% \n",
      "QUANTAXIS>> ##JOB02 Now Saving XDXR INFO ==== 519001\n",
      "QUANTAXIS>> The 660 of Total 879\n",
      "QUANTAXIS>> DOWNLOAD PROGRESS 75.0% \n",
      "QUANTAXIS>> ##JOB02 Now Saving XDXR INFO ==== 519002\n",
      "QUANTAXIS>> The 661 of Total 879\n",
      "QUANTAXIS>> DOWNLOAD PROGRESS 75.1% \n",
      "QUANTAXIS>> ##JOB02 Now Saving XDXR INFO ==== 519003\n",
      "QUANTAXIS>> The 662 of Total 879\n",
      "QUANTAXIS>> DOWNLOAD PROGRESS 75.3% \n",
      "QUANTAXIS>> ##JOB02 Now Saving XDXR INFO ==== 519005\n",
      "QUANTAXIS>> The 663 of Total 879\n",
      "QUANTAXIS>> DOWNLOAD PROGRESS 75.4% \n",
      "QUANTAXIS>> ##JOB02 Now Saving XDXR INFO ==== 519007\n",
      "QUANTAXIS>> The 664 of Total 879\n",
      "QUANTAXIS>> DOWNLOAD PROGRESS 75.5% \n",
      "QUANTAXIS>> ##JOB02 Now Saving XDXR INFO ==== 519008\n",
      "QUANTAXIS>> The 665 of Total 879\n",
      "QUANTAXIS>> DOWNLOAD PROGRESS 75.6% \n",
      "QUANTAXIS>> ##JOB02 Now Saving XDXR INFO ==== 519011\n",
      "QUANTAXIS>> The 666 of Total 879\n",
      "QUANTAXIS>> DOWNLOAD PROGRESS 75.7% \n",
      "QUANTAXIS>> ##JOB02 Now Saving XDXR INFO ==== 519013\n",
      "QUANTAXIS>> The 667 of Total 879\n",
      "QUANTAXIS>> DOWNLOAD PROGRESS 75.8% \n",
      "QUANTAXIS>> ##JOB02 Now Saving XDXR INFO ==== 519015\n",
      "QUANTAXIS>> The 668 of Total 879\n",
      "QUANTAXIS>> DOWNLOAD PROGRESS 75.9% \n",
      "QUANTAXIS>> ##JOB02 Now Saving XDXR INFO ==== 519017\n",
      "QUANTAXIS>> The 669 of Total 879\n",
      "QUANTAXIS>> DOWNLOAD PROGRESS 76.1% \n",
      "QUANTAXIS>> ##JOB02 Now Saving XDXR INFO ==== 519018\n"
     ]
    },
    {
     "name": "stderr",
     "output_type": "stream",
     "text": [
      "QUANTAXIS>> The 670 of Total 879\n",
      "QUANTAXIS>> DOWNLOAD PROGRESS 76.2% \n",
      "QUANTAXIS>> ##JOB02 Now Saving XDXR INFO ==== 519019\n",
      "QUANTAXIS>> The 671 of Total 879\n",
      "QUANTAXIS>> DOWNLOAD PROGRESS 76.3% \n",
      "QUANTAXIS>> ##JOB02 Now Saving XDXR INFO ==== 519020\n",
      "QUANTAXIS>> The 672 of Total 879\n",
      "QUANTAXIS>> DOWNLOAD PROGRESS 76.4% \n",
      "QUANTAXIS>> ##JOB02 Now Saving XDXR INFO ==== 519021\n",
      "QUANTAXIS>> The 673 of Total 879\n",
      "QUANTAXIS>> DOWNLOAD PROGRESS 76.5% \n",
      "QUANTAXIS>> ##JOB02 Now Saving XDXR INFO ==== 519023\n",
      "QUANTAXIS>> The 674 of Total 879\n",
      "QUANTAXIS>> DOWNLOAD PROGRESS 76.6% \n",
      "QUANTAXIS>> ##JOB02 Now Saving XDXR INFO ==== 519025\n",
      "QUANTAXIS>> The 675 of Total 879\n",
      "QUANTAXIS>> DOWNLOAD PROGRESS 76.7% \n",
      "QUANTAXIS>> ##JOB02 Now Saving XDXR INFO ==== 519026\n",
      "QUANTAXIS>> The 676 of Total 879\n",
      "QUANTAXIS>> DOWNLOAD PROGRESS 76.9% \n",
      "QUANTAXIS>> ##JOB02 Now Saving XDXR INFO ==== 519027\n",
      "QUANTAXIS>> The 677 of Total 879\n",
      "QUANTAXIS>> DOWNLOAD PROGRESS 77.0% \n",
      "QUANTAXIS>> ##JOB02 Now Saving XDXR INFO ==== 519028\n",
      "QUANTAXIS>> The 678 of Total 879\n",
      "QUANTAXIS>> DOWNLOAD PROGRESS 77.1% \n",
      "QUANTAXIS>> ##JOB02 Now Saving XDXR INFO ==== 519029\n",
      "QUANTAXIS>> The 679 of Total 879\n",
      "QUANTAXIS>> DOWNLOAD PROGRESS 77.2% \n",
      "QUANTAXIS>> ##JOB02 Now Saving XDXR INFO ==== 519030\n",
      "QUANTAXIS>> The 680 of Total 879\n",
      "QUANTAXIS>> DOWNLOAD PROGRESS 77.3% \n",
      "QUANTAXIS>> ##JOB02 Now Saving XDXR INFO ==== 519032\n",
      "QUANTAXIS>> The 681 of Total 879\n",
      "QUANTAXIS>> DOWNLOAD PROGRESS 77.4% \n",
      "QUANTAXIS>> ##JOB02 Now Saving XDXR INFO ==== 519033\n",
      "QUANTAXIS>> The 682 of Total 879\n",
      "QUANTAXIS>> DOWNLOAD PROGRESS 77.5% \n",
      "QUANTAXIS>> ##JOB02 Now Saving XDXR INFO ==== 519034\n",
      "QUANTAXIS>> The 683 of Total 879\n",
      "QUANTAXIS>> DOWNLOAD PROGRESS 77.7% \n",
      "QUANTAXIS>> ##JOB02 Now Saving XDXR INFO ==== 519035\n",
      "QUANTAXIS>> The 684 of Total 879\n",
      "QUANTAXIS>> DOWNLOAD PROGRESS 77.8% \n",
      "QUANTAXIS>> ##JOB02 Now Saving XDXR INFO ==== 519039\n",
      "QUANTAXIS>> The 685 of Total 879\n",
      "QUANTAXIS>> DOWNLOAD PROGRESS 77.9% \n",
      "QUANTAXIS>> ##JOB02 Now Saving XDXR INFO ==== 519050\n",
      "QUANTAXIS>> The 686 of Total 879\n",
      "QUANTAXIS>> DOWNLOAD PROGRESS 78.0% \n",
      "QUANTAXIS>> ##JOB02 Now Saving XDXR INFO ==== 519056\n",
      "QUANTAXIS>> The 687 of Total 879\n",
      "QUANTAXIS>> DOWNLOAD PROGRESS 78.1% \n",
      "QUANTAXIS>> ##JOB02 Now Saving XDXR INFO ==== 519060\n",
      "QUANTAXIS>> The 688 of Total 879\n",
      "QUANTAXIS>> DOWNLOAD PROGRESS 78.2% \n",
      "QUANTAXIS>> ##JOB02 Now Saving XDXR INFO ==== 519061\n",
      "QUANTAXIS>> The 689 of Total 879\n",
      "QUANTAXIS>> DOWNLOAD PROGRESS 78.3% \n",
      "QUANTAXIS>> ##JOB02 Now Saving XDXR INFO ==== 519062\n",
      "QUANTAXIS>> The 690 of Total 879\n",
      "QUANTAXIS>> DOWNLOAD PROGRESS 78.4% \n",
      "QUANTAXIS>> ##JOB02 Now Saving XDXR INFO ==== 519066\n",
      "QUANTAXIS>> The 691 of Total 879\n",
      "QUANTAXIS>> DOWNLOAD PROGRESS 78.6% \n",
      "QUANTAXIS>> ##JOB02 Now Saving XDXR INFO ==== 519068\n",
      "QUANTAXIS>> The 692 of Total 879\n",
      "QUANTAXIS>> DOWNLOAD PROGRESS 78.7% \n",
      "QUANTAXIS>> ##JOB02 Now Saving XDXR INFO ==== 519069\n",
      "QUANTAXIS>> The 693 of Total 879\n",
      "QUANTAXIS>> DOWNLOAD PROGRESS 78.8% \n",
      "QUANTAXIS>> ##JOB02 Now Saving XDXR INFO ==== 519078\n",
      "QUANTAXIS>> The 694 of Total 879\n",
      "QUANTAXIS>> DOWNLOAD PROGRESS 78.9% \n",
      "QUANTAXIS>> ##JOB02 Now Saving XDXR INFO ==== 519087\n",
      "QUANTAXIS>> The 695 of Total 879\n",
      "QUANTAXIS>> DOWNLOAD PROGRESS 79.0% \n",
      "QUANTAXIS>> ##JOB02 Now Saving XDXR INFO ==== 519089\n",
      "QUANTAXIS>> The 696 of Total 879\n",
      "QUANTAXIS>> DOWNLOAD PROGRESS 79.1% \n",
      "QUANTAXIS>> ##JOB02 Now Saving XDXR INFO ==== 519093\n",
      "QUANTAXIS>> The 697 of Total 879\n",
      "QUANTAXIS>> DOWNLOAD PROGRESS 79.2% \n",
      "QUANTAXIS>> ##JOB02 Now Saving XDXR INFO ==== 519095\n",
      "QUANTAXIS>> The 698 of Total 879\n",
      "QUANTAXIS>> DOWNLOAD PROGRESS 79.4% \n",
      "QUANTAXIS>> ##JOB02 Now Saving XDXR INFO ==== 519097\n",
      "QUANTAXIS>> The 699 of Total 879\n",
      "QUANTAXIS>> DOWNLOAD PROGRESS 79.5% \n",
      "QUANTAXIS>> ##JOB02 Now Saving XDXR INFO ==== 519099\n",
      "QUANTAXIS>> The 700 of Total 879\n",
      "QUANTAXIS>> DOWNLOAD PROGRESS 79.6% \n",
      "QUANTAXIS>> ##JOB02 Now Saving XDXR INFO ==== 519100\n",
      "QUANTAXIS>> The 701 of Total 879\n",
      "QUANTAXIS>> DOWNLOAD PROGRESS 79.7% \n",
      "QUANTAXIS>> ##JOB02 Now Saving XDXR INFO ==== 519110\n",
      "QUANTAXIS>> The 702 of Total 879\n",
      "QUANTAXIS>> DOWNLOAD PROGRESS 79.8% \n",
      "QUANTAXIS>> ##JOB02 Now Saving XDXR INFO ==== 519111\n",
      "QUANTAXIS>> The 703 of Total 879\n",
      "QUANTAXIS>> DOWNLOAD PROGRESS 79.9% \n",
      "QUANTAXIS>> ##JOB02 Now Saving XDXR INFO ==== 519112\n",
      "QUANTAXIS>> The 704 of Total 879\n",
      "QUANTAXIS>> DOWNLOAD PROGRESS 80.0% \n",
      "QUANTAXIS>> ##JOB02 Now Saving XDXR INFO ==== 519113\n",
      "QUANTAXIS>> The 705 of Total 879\n",
      "QUANTAXIS>> DOWNLOAD PROGRESS 80.2% \n",
      "QUANTAXIS>> ##JOB02 Now Saving XDXR INFO ==== 519115\n",
      "QUANTAXIS>> The 706 of Total 879\n",
      "QUANTAXIS>> DOWNLOAD PROGRESS 80.3% \n",
      "QUANTAXIS>> ##JOB02 Now Saving XDXR INFO ==== 519116\n",
      "QUANTAXIS>> The 707 of Total 879\n",
      "QUANTAXIS>> DOWNLOAD PROGRESS 80.4% \n",
      "QUANTAXIS>> ##JOB02 Now Saving XDXR INFO ==== 519118\n",
      "QUANTAXIS>> The 708 of Total 879\n",
      "QUANTAXIS>> DOWNLOAD PROGRESS 80.5% \n",
      "QUANTAXIS>> ##JOB02 Now Saving XDXR INFO ==== 519119\n",
      "QUANTAXIS>> The 709 of Total 879\n",
      "QUANTAXIS>> DOWNLOAD PROGRESS 80.6% \n",
      "QUANTAXIS>> ##JOB02 Now Saving XDXR INFO ==== 519120\n",
      "QUANTAXIS>> The 710 of Total 879\n",
      "QUANTAXIS>> DOWNLOAD PROGRESS 80.7% \n",
      "QUANTAXIS>> ##JOB02 Now Saving XDXR INFO ==== 519125\n",
      "QUANTAXIS>> The 711 of Total 879\n",
      "QUANTAXIS>> DOWNLOAD PROGRESS 80.8% \n",
      "QUANTAXIS>> ##JOB02 Now Saving XDXR INFO ==== 519126\n",
      "QUANTAXIS>> The 712 of Total 879\n",
      "QUANTAXIS>> DOWNLOAD PROGRESS 81.0% \n",
      "QUANTAXIS>> ##JOB02 Now Saving XDXR INFO ==== 519127\n",
      "QUANTAXIS>> The 713 of Total 879\n",
      "QUANTAXIS>> DOWNLOAD PROGRESS 81.1% \n",
      "QUANTAXIS>> ##JOB02 Now Saving XDXR INFO ==== 519130\n",
      "QUANTAXIS>> The 714 of Total 879\n",
      "QUANTAXIS>> DOWNLOAD PROGRESS 81.2% \n",
      "QUANTAXIS>> ##JOB02 Now Saving XDXR INFO ==== 519133\n",
      "QUANTAXIS>> The 715 of Total 879\n",
      "QUANTAXIS>> DOWNLOAD PROGRESS 81.3% \n",
      "QUANTAXIS>> ##JOB02 Now Saving XDXR INFO ==== 519134\n",
      "QUANTAXIS>> The 716 of Total 879\n",
      "QUANTAXIS>> DOWNLOAD PROGRESS 81.4% \n",
      "QUANTAXIS>> ##JOB02 Now Saving XDXR INFO ==== 519135\n",
      "QUANTAXIS>> The 717 of Total 879\n",
      "QUANTAXIS>> DOWNLOAD PROGRESS 81.5% \n",
      "QUANTAXIS>> ##JOB02 Now Saving XDXR INFO ==== 519136\n",
      "QUANTAXIS>> The 718 of Total 879\n",
      "QUANTAXIS>> DOWNLOAD PROGRESS 81.6% \n",
      "QUANTAXIS>> ##JOB02 Now Saving XDXR INFO ==== 519137\n",
      "QUANTAXIS>> The 719 of Total 879\n",
      "QUANTAXIS>> DOWNLOAD PROGRESS 81.7% \n",
      "QUANTAXIS>> ##JOB02 Now Saving XDXR INFO ==== 519138\n",
      "QUANTAXIS>> The 720 of Total 879\n",
      "QUANTAXIS>> DOWNLOAD PROGRESS 81.9% \n",
      "QUANTAXIS>> ##JOB02 Now Saving XDXR INFO ==== 519150\n",
      "QUANTAXIS>> The 721 of Total 879\n",
      "QUANTAXIS>> DOWNLOAD PROGRESS 82.0% \n",
      "QUANTAXIS>> ##JOB02 Now Saving XDXR INFO ==== 519152\n",
      "QUANTAXIS>> The 722 of Total 879\n",
      "QUANTAXIS>> DOWNLOAD PROGRESS 82.1% \n",
      "QUANTAXIS>> ##JOB02 Now Saving XDXR INFO ==== 519153\n",
      "QUANTAXIS>> The 723 of Total 879\n",
      "QUANTAXIS>> DOWNLOAD PROGRESS 82.2% \n",
      "QUANTAXIS>> ##JOB02 Now Saving XDXR INFO ==== 519156\n",
      "QUANTAXIS>> The 724 of Total 879\n",
      "QUANTAXIS>> DOWNLOAD PROGRESS 82.3% \n",
      "QUANTAXIS>> ##JOB02 Now Saving XDXR INFO ==== 519158\n",
      "QUANTAXIS>> The 725 of Total 879\n",
      "QUANTAXIS>> DOWNLOAD PROGRESS 82.4% \n",
      "QUANTAXIS>> ##JOB02 Now Saving XDXR INFO ==== 519160\n",
      "QUANTAXIS>> The 726 of Total 879\n",
      "QUANTAXIS>> DOWNLOAD PROGRESS 82.5% \n",
      "QUANTAXIS>> ##JOB02 Now Saving XDXR INFO ==== 519161\n",
      "QUANTAXIS>> The 727 of Total 879\n",
      "QUANTAXIS>> DOWNLOAD PROGRESS 82.7% \n",
      "QUANTAXIS>> ##JOB02 Now Saving XDXR INFO ==== 519162\n",
      "QUANTAXIS>> The 728 of Total 879\n",
      "QUANTAXIS>> DOWNLOAD PROGRESS 82.8% \n",
      "QUANTAXIS>> ##JOB02 Now Saving XDXR INFO ==== 519163\n",
      "QUANTAXIS>> The 729 of Total 879\n",
      "QUANTAXIS>> DOWNLOAD PROGRESS 82.9% \n",
      "QUANTAXIS>> ##JOB02 Now Saving XDXR INFO ==== 519165\n",
      "QUANTAXIS>> The 730 of Total 879\n",
      "QUANTAXIS>> DOWNLOAD PROGRESS 83.0% \n",
      "QUANTAXIS>> ##JOB02 Now Saving XDXR INFO ==== 519167\n",
      "QUANTAXIS>> The 731 of Total 879\n",
      "QUANTAXIS>> DOWNLOAD PROGRESS 83.1% \n",
      "QUANTAXIS>> ##JOB02 Now Saving XDXR INFO ==== 519170\n",
      "QUANTAXIS>> The 732 of Total 879\n",
      "QUANTAXIS>> DOWNLOAD PROGRESS 83.2% \n",
      "QUANTAXIS>> ##JOB02 Now Saving XDXR INFO ==== 519171\n",
      "QUANTAXIS>> The 733 of Total 879\n",
      "QUANTAXIS>> DOWNLOAD PROGRESS 83.3% \n",
      "QUANTAXIS>> ##JOB02 Now Saving XDXR INFO ==== 519172\n",
      "QUANTAXIS>> The 734 of Total 879\n",
      "QUANTAXIS>> DOWNLOAD PROGRESS 83.5% \n",
      "QUANTAXIS>> ##JOB02 Now Saving XDXR INFO ==== 519173\n",
      "QUANTAXIS>> The 735 of Total 879\n",
      "QUANTAXIS>> DOWNLOAD PROGRESS 83.6% \n",
      "QUANTAXIS>> ##JOB02 Now Saving XDXR INFO ==== 519175\n",
      "QUANTAXIS>> The 736 of Total 879\n",
      "QUANTAXIS>> DOWNLOAD PROGRESS 83.7% \n",
      "QUANTAXIS>> ##JOB02 Now Saving XDXR INFO ==== 519180\n"
     ]
    },
    {
     "name": "stderr",
     "output_type": "stream",
     "text": [
      "QUANTAXIS>> The 737 of Total 879\n",
      "QUANTAXIS>> DOWNLOAD PROGRESS 83.8% \n",
      "QUANTAXIS>> ##JOB02 Now Saving XDXR INFO ==== 519181\n",
      "QUANTAXIS>> The 738 of Total 879\n",
      "QUANTAXIS>> DOWNLOAD PROGRESS 83.9% \n",
      "QUANTAXIS>> ##JOB02 Now Saving XDXR INFO ==== 519183\n",
      "QUANTAXIS>> The 739 of Total 879\n",
      "QUANTAXIS>> DOWNLOAD PROGRESS 84.0% \n",
      "QUANTAXIS>> ##JOB02 Now Saving XDXR INFO ==== 519185\n",
      "QUANTAXIS>> The 740 of Total 879\n",
      "QUANTAXIS>> DOWNLOAD PROGRESS 84.1% \n",
      "QUANTAXIS>> ##JOB02 Now Saving XDXR INFO ==== 519186\n",
      "QUANTAXIS>> The 741 of Total 879\n",
      "QUANTAXIS>> DOWNLOAD PROGRESS 84.3% \n",
      "QUANTAXIS>> ##JOB02 Now Saving XDXR INFO ==== 519188\n",
      "QUANTAXIS>> The 742 of Total 879\n",
      "QUANTAXIS>> DOWNLOAD PROGRESS 84.4% \n",
      "QUANTAXIS>> ##JOB02 Now Saving XDXR INFO ==== 519189\n",
      "QUANTAXIS>> The 743 of Total 879\n",
      "QUANTAXIS>> DOWNLOAD PROGRESS 84.5% \n",
      "QUANTAXIS>> ##JOB02 Now Saving XDXR INFO ==== 519190\n",
      "QUANTAXIS>> The 744 of Total 879\n",
      "QUANTAXIS>> DOWNLOAD PROGRESS 84.6% \n",
      "QUANTAXIS>> ##JOB02 Now Saving XDXR INFO ==== 519191\n",
      "QUANTAXIS>> The 745 of Total 879\n",
      "QUANTAXIS>> DOWNLOAD PROGRESS 84.7% \n",
      "QUANTAXIS>> ##JOB02 Now Saving XDXR INFO ==== 519192\n",
      "QUANTAXIS>> The 746 of Total 879\n",
      "QUANTAXIS>> DOWNLOAD PROGRESS 84.8% \n",
      "QUANTAXIS>> ##JOB02 Now Saving XDXR INFO ==== 519193\n",
      "QUANTAXIS>> The 747 of Total 879\n",
      "QUANTAXIS>> DOWNLOAD PROGRESS 84.9% \n",
      "QUANTAXIS>> ##JOB02 Now Saving XDXR INFO ==== 519195\n",
      "QUANTAXIS>> The 748 of Total 879\n",
      "QUANTAXIS>> DOWNLOAD PROGRESS 85.0% \n",
      "QUANTAXIS>> ##JOB02 Now Saving XDXR INFO ==== 519196\n",
      "QUANTAXIS>> The 749 of Total 879\n",
      "QUANTAXIS>> DOWNLOAD PROGRESS 85.2% \n",
      "QUANTAXIS>> ##JOB02 Now Saving XDXR INFO ==== 519197\n",
      "QUANTAXIS>> The 750 of Total 879\n",
      "QUANTAXIS>> DOWNLOAD PROGRESS 85.3% \n",
      "QUANTAXIS>> ##JOB02 Now Saving XDXR INFO ==== 519198\n",
      "QUANTAXIS>> The 751 of Total 879\n",
      "QUANTAXIS>> DOWNLOAD PROGRESS 85.4% \n",
      "QUANTAXIS>> ##JOB02 Now Saving XDXR INFO ==== 519199\n",
      "QUANTAXIS>> The 752 of Total 879\n",
      "QUANTAXIS>> DOWNLOAD PROGRESS 85.5% \n",
      "QUANTAXIS>> ##JOB02 Now Saving XDXR INFO ==== 519206\n",
      "QUANTAXIS>> The 753 of Total 879\n",
      "QUANTAXIS>> DOWNLOAD PROGRESS 85.6% \n",
      "QUANTAXIS>> ##JOB02 Now Saving XDXR INFO ==== 519207\n",
      "QUANTAXIS>> The 754 of Total 879\n",
      "QUANTAXIS>> DOWNLOAD PROGRESS 85.7% \n",
      "QUANTAXIS>> ##JOB02 Now Saving XDXR INFO ==== 519300\n",
      "QUANTAXIS>> The 755 of Total 879\n",
      "QUANTAXIS>> DOWNLOAD PROGRESS 85.8% \n",
      "QUANTAXIS>> ##JOB02 Now Saving XDXR INFO ==== 519505\n",
      "QUANTAXIS>> The 756 of Total 879\n",
      "QUANTAXIS>> DOWNLOAD PROGRESS 86.0% \n",
      "QUANTAXIS>> ##JOB02 Now Saving XDXR INFO ==== 519506\n",
      "QUANTAXIS>> The 757 of Total 879\n",
      "QUANTAXIS>> DOWNLOAD PROGRESS 86.1% \n",
      "QUANTAXIS>> ##JOB02 Now Saving XDXR INFO ==== 519507\n",
      "QUANTAXIS>> The 758 of Total 879\n",
      "QUANTAXIS>> DOWNLOAD PROGRESS 86.2% \n",
      "QUANTAXIS>> ##JOB02 Now Saving XDXR INFO ==== 519508\n",
      "QUANTAXIS>> The 759 of Total 879\n",
      "QUANTAXIS>> DOWNLOAD PROGRESS 86.3% \n",
      "QUANTAXIS>> ##JOB02 Now Saving XDXR INFO ==== 519509\n",
      "QUANTAXIS>> The 760 of Total 879\n",
      "QUANTAXIS>> DOWNLOAD PROGRESS 86.4% \n",
      "QUANTAXIS>> ##JOB02 Now Saving XDXR INFO ==== 519510\n",
      "QUANTAXIS>> The 761 of Total 879\n",
      "QUANTAXIS>> DOWNLOAD PROGRESS 86.5% \n",
      "QUANTAXIS>> ##JOB02 Now Saving XDXR INFO ==== 519511\n",
      "QUANTAXIS>> The 762 of Total 879\n",
      "QUANTAXIS>> DOWNLOAD PROGRESS 86.6% \n",
      "QUANTAXIS>> ##JOB02 Now Saving XDXR INFO ==== 519512\n",
      "QUANTAXIS>> The 763 of Total 879\n",
      "QUANTAXIS>> DOWNLOAD PROGRESS 86.8% \n",
      "QUANTAXIS>> ##JOB02 Now Saving XDXR INFO ==== 519518\n",
      "QUANTAXIS>> The 764 of Total 879\n",
      "QUANTAXIS>> DOWNLOAD PROGRESS 86.9% \n",
      "QUANTAXIS>> ##JOB02 Now Saving XDXR INFO ==== 519519\n",
      "QUANTAXIS>> The 765 of Total 879\n",
      "QUANTAXIS>> DOWNLOAD PROGRESS 87.0% \n",
      "QUANTAXIS>> ##JOB02 Now Saving XDXR INFO ==== 519566\n",
      "QUANTAXIS>> The 766 of Total 879\n",
      "QUANTAXIS>> DOWNLOAD PROGRESS 87.1% \n",
      "QUANTAXIS>> ##JOB02 Now Saving XDXR INFO ==== 519567\n",
      "QUANTAXIS>> The 767 of Total 879\n",
      "QUANTAXIS>> DOWNLOAD PROGRESS 87.2% \n",
      "QUANTAXIS>> ##JOB02 Now Saving XDXR INFO ==== 519598\n",
      "QUANTAXIS>> The 768 of Total 879\n",
      "QUANTAXIS>> DOWNLOAD PROGRESS 87.3% \n",
      "QUANTAXIS>> ##JOB02 Now Saving XDXR INFO ==== 519599\n",
      "QUANTAXIS>> The 769 of Total 879\n",
      "QUANTAXIS>> DOWNLOAD PROGRESS 87.4% \n",
      "QUANTAXIS>> ##JOB02 Now Saving XDXR INFO ==== 519606\n",
      "QUANTAXIS>> The 770 of Total 879\n",
      "QUANTAXIS>> DOWNLOAD PROGRESS 87.5% \n",
      "QUANTAXIS>> ##JOB02 Now Saving XDXR INFO ==== 519613\n",
      "QUANTAXIS>> The 771 of Total 879\n",
      "QUANTAXIS>> DOWNLOAD PROGRESS 87.7% \n",
      "QUANTAXIS>> ##JOB02 Now Saving XDXR INFO ==== 519614\n",
      "QUANTAXIS>> The 772 of Total 879\n",
      "QUANTAXIS>> DOWNLOAD PROGRESS 87.8% \n",
      "QUANTAXIS>> ##JOB02 Now Saving XDXR INFO ==== 519616\n",
      "QUANTAXIS>> The 773 of Total 879\n",
      "QUANTAXIS>> DOWNLOAD PROGRESS 87.9% \n",
      "QUANTAXIS>> ##JOB02 Now Saving XDXR INFO ==== 519617\n",
      "QUANTAXIS>> The 774 of Total 879\n",
      "QUANTAXIS>> DOWNLOAD PROGRESS 88.0% \n",
      "QUANTAXIS>> ##JOB02 Now Saving XDXR INFO ==== 519619\n",
      "QUANTAXIS>> The 775 of Total 879\n",
      "QUANTAXIS>> DOWNLOAD PROGRESS 88.1% \n",
      "QUANTAXIS>> ##JOB02 Now Saving XDXR INFO ==== 519620\n",
      "QUANTAXIS>> The 776 of Total 879\n",
      "QUANTAXIS>> DOWNLOAD PROGRESS 88.2% \n",
      "QUANTAXIS>> ##JOB02 Now Saving XDXR INFO ==== 519622\n",
      "QUANTAXIS>> The 777 of Total 879\n",
      "QUANTAXIS>> DOWNLOAD PROGRESS 88.3% \n",
      "QUANTAXIS>> ##JOB02 Now Saving XDXR INFO ==== 519623\n",
      "QUANTAXIS>> The 778 of Total 879\n",
      "QUANTAXIS>> DOWNLOAD PROGRESS 88.5% \n",
      "QUANTAXIS>> ##JOB02 Now Saving XDXR INFO ==== 519624\n",
      "QUANTAXIS>> The 779 of Total 879\n",
      "QUANTAXIS>> DOWNLOAD PROGRESS 88.6% \n",
      "QUANTAXIS>> ##JOB02 Now Saving XDXR INFO ==== 519625\n",
      "QUANTAXIS>> The 780 of Total 879\n",
      "QUANTAXIS>> DOWNLOAD PROGRESS 88.7% \n",
      "QUANTAXIS>> ##JOB02 Now Saving XDXR INFO ==== 519626\n",
      "QUANTAXIS>> The 781 of Total 879\n",
      "QUANTAXIS>> DOWNLOAD PROGRESS 88.8% \n",
      "QUANTAXIS>> ##JOB02 Now Saving XDXR INFO ==== 519627\n",
      "QUANTAXIS>> The 782 of Total 879\n",
      "QUANTAXIS>> DOWNLOAD PROGRESS 88.9% \n",
      "QUANTAXIS>> ##JOB02 Now Saving XDXR INFO ==== 519628\n",
      "QUANTAXIS>> The 783 of Total 879\n",
      "QUANTAXIS>> DOWNLOAD PROGRESS 89.0% \n",
      "QUANTAXIS>> ##JOB02 Now Saving XDXR INFO ==== 519629\n",
      "QUANTAXIS>> The 784 of Total 879\n",
      "QUANTAXIS>> DOWNLOAD PROGRESS 89.1% \n",
      "QUANTAXIS>> ##JOB02 Now Saving XDXR INFO ==== 519630\n",
      "QUANTAXIS>> The 785 of Total 879\n",
      "QUANTAXIS>> DOWNLOAD PROGRESS 89.3% \n",
      "QUANTAXIS>> ##JOB02 Now Saving XDXR INFO ==== 519642\n",
      "QUANTAXIS>> The 786 of Total 879\n",
      "QUANTAXIS>> DOWNLOAD PROGRESS 89.4% \n",
      "QUANTAXIS>> ##JOB02 Now Saving XDXR INFO ==== 519644\n",
      "QUANTAXIS>> The 787 of Total 879\n",
      "QUANTAXIS>> DOWNLOAD PROGRESS 89.5% \n",
      "QUANTAXIS>> ##JOB02 Now Saving XDXR INFO ==== 519651\n",
      "QUANTAXIS>> The 788 of Total 879\n",
      "QUANTAXIS>> DOWNLOAD PROGRESS 89.6% \n",
      "QUANTAXIS>> ##JOB02 Now Saving XDXR INFO ==== 519652\n",
      "QUANTAXIS>> The 789 of Total 879\n",
      "QUANTAXIS>> DOWNLOAD PROGRESS 89.7% \n",
      "QUANTAXIS>> ##JOB02 Now Saving XDXR INFO ==== 519653\n",
      "QUANTAXIS>> The 790 of Total 879\n",
      "QUANTAXIS>> DOWNLOAD PROGRESS 89.8% \n",
      "QUANTAXIS>> ##JOB02 Now Saving XDXR INFO ==== 519654\n",
      "QUANTAXIS>> The 791 of Total 879\n",
      "QUANTAXIS>> DOWNLOAD PROGRESS 89.9% \n",
      "QUANTAXIS>> ##JOB02 Now Saving XDXR INFO ==== 519655\n",
      "QUANTAXIS>> The 792 of Total 879\n",
      "QUANTAXIS>> DOWNLOAD PROGRESS 90.1% \n",
      "QUANTAXIS>> ##JOB02 Now Saving XDXR INFO ==== 519656\n",
      "QUANTAXIS>> The 793 of Total 879\n",
      "QUANTAXIS>> DOWNLOAD PROGRESS 90.2% \n",
      "QUANTAXIS>> ##JOB02 Now Saving XDXR INFO ==== 519657\n",
      "QUANTAXIS>> The 794 of Total 879\n",
      "QUANTAXIS>> DOWNLOAD PROGRESS 90.3% \n",
      "QUANTAXIS>> ##JOB02 Now Saving XDXR INFO ==== 519660\n",
      "QUANTAXIS>> The 795 of Total 879\n",
      "QUANTAXIS>> DOWNLOAD PROGRESS 90.4% \n",
      "QUANTAXIS>> ##JOB02 Now Saving XDXR INFO ==== 519661\n",
      "QUANTAXIS>> The 796 of Total 879\n",
      "QUANTAXIS>> DOWNLOAD PROGRESS 90.5% \n",
      "QUANTAXIS>> ##JOB02 Now Saving XDXR INFO ==== 519664\n",
      "QUANTAXIS>> The 797 of Total 879\n",
      "QUANTAXIS>> DOWNLOAD PROGRESS 90.6% \n",
      "QUANTAXIS>> ##JOB02 Now Saving XDXR INFO ==== 519665\n",
      "QUANTAXIS>> The 798 of Total 879\n",
      "QUANTAXIS>> DOWNLOAD PROGRESS 90.7% \n",
      "QUANTAXIS>> ##JOB02 Now Saving XDXR INFO ==== 519666\n",
      "QUANTAXIS>> The 799 of Total 879\n",
      "QUANTAXIS>> DOWNLOAD PROGRESS 90.8% \n",
      "QUANTAXIS>> ##JOB02 Now Saving XDXR INFO ==== 519668\n",
      "QUANTAXIS>> The 800 of Total 879\n",
      "QUANTAXIS>> DOWNLOAD PROGRESS 91.0% \n",
      "QUANTAXIS>> ##JOB02 Now Saving XDXR INFO ==== 519669\n",
      "QUANTAXIS>> The 801 of Total 879\n",
      "QUANTAXIS>> DOWNLOAD PROGRESS 91.1% \n",
      "QUANTAXIS>> ##JOB02 Now Saving XDXR INFO ==== 519670\n",
      "QUANTAXIS>> The 802 of Total 879\n",
      "QUANTAXIS>> DOWNLOAD PROGRESS 91.2% \n",
      "QUANTAXIS>> ##JOB02 Now Saving XDXR INFO ==== 519671\n",
      "QUANTAXIS>> The 803 of Total 879\n",
      "QUANTAXIS>> DOWNLOAD PROGRESS 91.3% \n",
      "QUANTAXIS>> ##JOB02 Now Saving XDXR INFO ==== 519672\n"
     ]
    },
    {
     "name": "stderr",
     "output_type": "stream",
     "text": [
      "QUANTAXIS>> The 804 of Total 879\n",
      "QUANTAXIS>> DOWNLOAD PROGRESS 91.4% \n",
      "QUANTAXIS>> ##JOB02 Now Saving XDXR INFO ==== 519673\n",
      "QUANTAXIS>> The 805 of Total 879\n",
      "QUANTAXIS>> DOWNLOAD PROGRESS 91.5% \n",
      "QUANTAXIS>> ##JOB02 Now Saving XDXR INFO ==== 519674\n",
      "QUANTAXIS>> The 806 of Total 879\n",
      "QUANTAXIS>> DOWNLOAD PROGRESS 91.6% \n",
      "QUANTAXIS>> ##JOB02 Now Saving XDXR INFO ==== 519675\n",
      "QUANTAXIS>> The 807 of Total 879\n",
      "QUANTAXIS>> DOWNLOAD PROGRESS 91.8% \n",
      "QUANTAXIS>> ##JOB02 Now Saving XDXR INFO ==== 519676\n",
      "QUANTAXIS>> The 808 of Total 879\n",
      "QUANTAXIS>> DOWNLOAD PROGRESS 91.9% \n",
      "QUANTAXIS>> ##JOB02 Now Saving XDXR INFO ==== 519677\n",
      "QUANTAXIS>> The 809 of Total 879\n",
      "QUANTAXIS>> DOWNLOAD PROGRESS 92.0% \n",
      "QUANTAXIS>> ##JOB02 Now Saving XDXR INFO ==== 519678\n",
      "QUANTAXIS>> The 810 of Total 879\n",
      "QUANTAXIS>> DOWNLOAD PROGRESS 92.1% \n",
      "QUANTAXIS>> ##JOB02 Now Saving XDXR INFO ==== 519679\n",
      "QUANTAXIS>> The 811 of Total 879\n",
      "QUANTAXIS>> DOWNLOAD PROGRESS 92.2% \n",
      "QUANTAXIS>> ##JOB02 Now Saving XDXR INFO ==== 519680\n",
      "QUANTAXIS>> The 812 of Total 879\n",
      "QUANTAXIS>> DOWNLOAD PROGRESS 92.3% \n",
      "QUANTAXIS>> ##JOB02 Now Saving XDXR INFO ==== 519683\n",
      "QUANTAXIS>> The 813 of Total 879\n",
      "QUANTAXIS>> DOWNLOAD PROGRESS 92.4% \n",
      "QUANTAXIS>> ##JOB02 Now Saving XDXR INFO ==== 519688\n",
      "QUANTAXIS>> The 814 of Total 879\n",
      "QUANTAXIS>> DOWNLOAD PROGRESS 92.6% \n",
      "QUANTAXIS>> ##JOB02 Now Saving XDXR INFO ==== 519690\n",
      "QUANTAXIS>> The 815 of Total 879\n",
      "QUANTAXIS>> DOWNLOAD PROGRESS 92.7% \n",
      "QUANTAXIS>> ##JOB02 Now Saving XDXR INFO ==== 519692\n",
      "QUANTAXIS>> The 816 of Total 879\n",
      "QUANTAXIS>> DOWNLOAD PROGRESS 92.8% \n",
      "QUANTAXIS>> ##JOB02 Now Saving XDXR INFO ==== 519698\n",
      "QUANTAXIS>> The 817 of Total 879\n",
      "QUANTAXIS>> DOWNLOAD PROGRESS 92.9% \n",
      "QUANTAXIS>> ##JOB02 Now Saving XDXR INFO ==== 519700\n",
      "QUANTAXIS>> The 818 of Total 879\n",
      "QUANTAXIS>> DOWNLOAD PROGRESS 93.0% \n",
      "QUANTAXIS>> ##JOB02 Now Saving XDXR INFO ==== 519702\n",
      "QUANTAXIS>> The 819 of Total 879\n",
      "QUANTAXIS>> DOWNLOAD PROGRESS 93.1% \n",
      "QUANTAXIS>> ##JOB02 Now Saving XDXR INFO ==== 519704\n",
      "QUANTAXIS>> The 820 of Total 879\n",
      "QUANTAXIS>> DOWNLOAD PROGRESS 93.2% \n",
      "QUANTAXIS>> ##JOB02 Now Saving XDXR INFO ==== 519706\n",
      "QUANTAXIS>> The 821 of Total 879\n",
      "QUANTAXIS>> DOWNLOAD PROGRESS 93.4% \n",
      "QUANTAXIS>> ##JOB02 Now Saving XDXR INFO ==== 519712\n",
      "QUANTAXIS>> The 822 of Total 879\n",
      "QUANTAXIS>> DOWNLOAD PROGRESS 93.5% \n",
      "QUANTAXIS>> ##JOB02 Now Saving XDXR INFO ==== 519714\n",
      "QUANTAXIS>> The 823 of Total 879\n",
      "QUANTAXIS>> DOWNLOAD PROGRESS 93.6% \n",
      "QUANTAXIS>> ##JOB02 Now Saving XDXR INFO ==== 519718\n",
      "QUANTAXIS>> The 824 of Total 879\n",
      "QUANTAXIS>> DOWNLOAD PROGRESS 93.7% \n",
      "QUANTAXIS>> ##JOB02 Now Saving XDXR INFO ==== 519723\n",
      "QUANTAXIS>> The 825 of Total 879\n",
      "QUANTAXIS>> DOWNLOAD PROGRESS 93.8% \n",
      "QUANTAXIS>> ##JOB02 Now Saving XDXR INFO ==== 519727\n",
      "QUANTAXIS>> The 826 of Total 879\n",
      "QUANTAXIS>> DOWNLOAD PROGRESS 93.9% \n",
      "QUANTAXIS>> ##JOB02 Now Saving XDXR INFO ==== 519733\n",
      "QUANTAXIS>> The 827 of Total 879\n",
      "QUANTAXIS>> DOWNLOAD PROGRESS 94.0% \n",
      "QUANTAXIS>> ##JOB02 Now Saving XDXR INFO ==== 519734\n",
      "QUANTAXIS>> The 828 of Total 879\n",
      "QUANTAXIS>> DOWNLOAD PROGRESS 94.1% \n",
      "QUANTAXIS>> ##JOB02 Now Saving XDXR INFO ==== 519735\n",
      "QUANTAXIS>> The 829 of Total 879\n",
      "QUANTAXIS>> DOWNLOAD PROGRESS 94.3% \n",
      "QUANTAXIS>> ##JOB02 Now Saving XDXR INFO ==== 519800\n",
      "QUANTAXIS>> The 830 of Total 879\n",
      "QUANTAXIS>> DOWNLOAD PROGRESS 94.4% \n",
      "QUANTAXIS>> ##JOB02 Now Saving XDXR INFO ==== 519801\n",
      "QUANTAXIS>> The 831 of Total 879\n",
      "QUANTAXIS>> DOWNLOAD PROGRESS 94.5% \n",
      "QUANTAXIS>> ##JOB02 Now Saving XDXR INFO ==== 519858\n",
      "QUANTAXIS>> The 832 of Total 879\n",
      "QUANTAXIS>> DOWNLOAD PROGRESS 94.6% \n",
      "QUANTAXIS>> ##JOB02 Now Saving XDXR INFO ==== 519859\n",
      "QUANTAXIS>> The 833 of Total 879\n",
      "QUANTAXIS>> DOWNLOAD PROGRESS 94.7% \n",
      "QUANTAXIS>> ##JOB02 Now Saving XDXR INFO ==== 519878\n",
      "QUANTAXIS>> The 834 of Total 879\n",
      "QUANTAXIS>> DOWNLOAD PROGRESS 94.8% \n",
      "QUANTAXIS>> ##JOB02 Now Saving XDXR INFO ==== 519879\n",
      "QUANTAXIS>> The 835 of Total 879\n",
      "QUANTAXIS>> DOWNLOAD PROGRESS 94.9% \n",
      "QUANTAXIS>> ##JOB02 Now Saving XDXR INFO ==== 519888\n",
      "QUANTAXIS>> The 836 of Total 879\n",
      "QUANTAXIS>> DOWNLOAD PROGRESS 95.1% \n",
      "QUANTAXIS>> ##JOB02 Now Saving XDXR INFO ==== 519889\n",
      "QUANTAXIS>> The 837 of Total 879\n",
      "QUANTAXIS>> DOWNLOAD PROGRESS 95.2% \n",
      "QUANTAXIS>> ##JOB02 Now Saving XDXR INFO ==== 519898\n",
      "QUANTAXIS>> The 838 of Total 879\n",
      "QUANTAXIS>> DOWNLOAD PROGRESS 95.3% \n",
      "QUANTAXIS>> ##JOB02 Now Saving XDXR INFO ==== 519899\n",
      "QUANTAXIS>> The 839 of Total 879\n",
      "QUANTAXIS>> DOWNLOAD PROGRESS 95.4% \n",
      "QUANTAXIS>> ##JOB02 Now Saving XDXR INFO ==== 519908\n",
      "QUANTAXIS>> The 840 of Total 879\n",
      "QUANTAXIS>> DOWNLOAD PROGRESS 95.5% \n",
      "QUANTAXIS>> ##JOB02 Now Saving XDXR INFO ==== 519909\n",
      "QUANTAXIS>> The 841 of Total 879\n",
      "QUANTAXIS>> DOWNLOAD PROGRESS 95.6% \n",
      "QUANTAXIS>> ##JOB02 Now Saving XDXR INFO ==== 519915\n",
      "QUANTAXIS>> The 842 of Total 879\n",
      "QUANTAXIS>> DOWNLOAD PROGRESS 95.7% \n",
      "QUANTAXIS>> ##JOB02 Now Saving XDXR INFO ==== 519918\n",
      "QUANTAXIS>> The 843 of Total 879\n",
      "QUANTAXIS>> DOWNLOAD PROGRESS 95.9% \n",
      "QUANTAXIS>> ##JOB02 Now Saving XDXR INFO ==== 519929\n",
      "QUANTAXIS>> The 844 of Total 879\n",
      "QUANTAXIS>> DOWNLOAD PROGRESS 96.0% \n",
      "QUANTAXIS>> ##JOB02 Now Saving XDXR INFO ==== 519933\n",
      "QUANTAXIS>> The 845 of Total 879\n",
      "QUANTAXIS>> DOWNLOAD PROGRESS 96.1% \n",
      "QUANTAXIS>> ##JOB02 Now Saving XDXR INFO ==== 519935\n",
      "QUANTAXIS>> The 846 of Total 879\n",
      "QUANTAXIS>> DOWNLOAD PROGRESS 96.2% \n",
      "QUANTAXIS>> ##JOB02 Now Saving XDXR INFO ==== 519937\n",
      "QUANTAXIS>> The 847 of Total 879\n",
      "QUANTAXIS>> DOWNLOAD PROGRESS 96.3% \n",
      "QUANTAXIS>> ##JOB02 Now Saving XDXR INFO ==== 519940\n",
      "QUANTAXIS>> The 848 of Total 879\n",
      "QUANTAXIS>> DOWNLOAD PROGRESS 96.4% \n",
      "QUANTAXIS>> ##JOB02 Now Saving XDXR INFO ==== 519941\n",
      "QUANTAXIS>> The 849 of Total 879\n",
      "QUANTAXIS>> DOWNLOAD PROGRESS 96.5% \n",
      "QUANTAXIS>> ##JOB02 Now Saving XDXR INFO ==== 519942\n",
      "QUANTAXIS>> The 850 of Total 879\n",
      "QUANTAXIS>> DOWNLOAD PROGRESS 96.7% \n",
      "QUANTAXIS>> ##JOB02 Now Saving XDXR INFO ==== 519943\n",
      "QUANTAXIS>> The 851 of Total 879\n",
      "QUANTAXIS>> DOWNLOAD PROGRESS 96.8% \n",
      "QUANTAXIS>> ##JOB02 Now Saving XDXR INFO ==== 519944\n",
      "QUANTAXIS>> The 852 of Total 879\n",
      "QUANTAXIS>> DOWNLOAD PROGRESS 96.9% \n",
      "QUANTAXIS>> ##JOB02 Now Saving XDXR INFO ==== 519945\n",
      "QUANTAXIS>> The 853 of Total 879\n",
      "QUANTAXIS>> DOWNLOAD PROGRESS 97.0% \n",
      "QUANTAXIS>> ##JOB02 Now Saving XDXR INFO ==== 519947\n",
      "QUANTAXIS>> The 854 of Total 879\n",
      "QUANTAXIS>> DOWNLOAD PROGRESS 97.1% \n",
      "QUANTAXIS>> ##JOB02 Now Saving XDXR INFO ==== 519949\n",
      "QUANTAXIS>> The 855 of Total 879\n",
      "QUANTAXIS>> DOWNLOAD PROGRESS 97.2% \n",
      "QUANTAXIS>> ##JOB02 Now Saving XDXR INFO ==== 519951\n",
      "QUANTAXIS>> The 856 of Total 879\n",
      "QUANTAXIS>> DOWNLOAD PROGRESS 97.3% \n",
      "QUANTAXIS>> ##JOB02 Now Saving XDXR INFO ==== 519956\n",
      "QUANTAXIS>> The 857 of Total 879\n",
      "QUANTAXIS>> DOWNLOAD PROGRESS 97.4% \n",
      "QUANTAXIS>> ##JOB02 Now Saving XDXR INFO ==== 519957\n",
      "QUANTAXIS>> The 858 of Total 879\n",
      "QUANTAXIS>> DOWNLOAD PROGRESS 97.6% \n",
      "QUANTAXIS>> ##JOB02 Now Saving XDXR INFO ==== 519959\n",
      "QUANTAXIS>> The 859 of Total 879\n",
      "QUANTAXIS>> DOWNLOAD PROGRESS 97.7% \n",
      "QUANTAXIS>> ##JOB02 Now Saving XDXR INFO ==== 519961\n",
      "QUANTAXIS>> The 860 of Total 879\n",
      "QUANTAXIS>> DOWNLOAD PROGRESS 97.8% \n",
      "QUANTAXIS>> ##JOB02 Now Saving XDXR INFO ==== 519963\n",
      "QUANTAXIS>> The 861 of Total 879\n",
      "QUANTAXIS>> DOWNLOAD PROGRESS 97.9% \n",
      "QUANTAXIS>> ##JOB02 Now Saving XDXR INFO ==== 519965\n",
      "QUANTAXIS>> The 862 of Total 879\n",
      "QUANTAXIS>> DOWNLOAD PROGRESS 98.0% \n",
      "QUANTAXIS>> ##JOB02 Now Saving XDXR INFO ==== 519967\n",
      "QUANTAXIS>> The 863 of Total 879\n",
      "QUANTAXIS>> DOWNLOAD PROGRESS 98.1% \n",
      "QUANTAXIS>> ##JOB02 Now Saving XDXR INFO ==== 519969\n",
      "QUANTAXIS>> The 864 of Total 879\n",
      "QUANTAXIS>> DOWNLOAD PROGRESS 98.2% \n",
      "QUANTAXIS>> ##JOB02 Now Saving XDXR INFO ==== 519971\n",
      "QUANTAXIS>> The 865 of Total 879\n",
      "QUANTAXIS>> DOWNLOAD PROGRESS 98.4% \n",
      "QUANTAXIS>> ##JOB02 Now Saving XDXR INFO ==== 519972\n",
      "QUANTAXIS>> The 866 of Total 879\n",
      "QUANTAXIS>> DOWNLOAD PROGRESS 98.5% \n",
      "QUANTAXIS>> ##JOB02 Now Saving XDXR INFO ==== 519973\n",
      "QUANTAXIS>> The 867 of Total 879\n",
      "QUANTAXIS>> DOWNLOAD PROGRESS 98.6% \n",
      "QUANTAXIS>> ##JOB02 Now Saving XDXR INFO ==== 519975\n",
      "QUANTAXIS>> The 868 of Total 879\n",
      "QUANTAXIS>> DOWNLOAD PROGRESS 98.7% \n",
      "QUANTAXIS>> ##JOB02 Now Saving XDXR INFO ==== 519976\n",
      "QUANTAXIS>> The 869 of Total 879\n",
      "QUANTAXIS>> DOWNLOAD PROGRESS 98.8% \n",
      "QUANTAXIS>> ##JOB02 Now Saving XDXR INFO ==== 519977\n",
      "QUANTAXIS>> The 870 of Total 879\n",
      "QUANTAXIS>> DOWNLOAD PROGRESS 98.9% \n",
      "QUANTAXIS>> ##JOB02 Now Saving XDXR INFO ==== 519979\n"
     ]
    },
    {
     "name": "stderr",
     "output_type": "stream",
     "text": [
      "QUANTAXIS>> The 871 of Total 879\n",
      "QUANTAXIS>> DOWNLOAD PROGRESS 99.0% \n",
      "QUANTAXIS>> ##JOB02 Now Saving XDXR INFO ==== 519983\n",
      "QUANTAXIS>> The 872 of Total 879\n",
      "QUANTAXIS>> DOWNLOAD PROGRESS 99.2% \n",
      "QUANTAXIS>> ##JOB02 Now Saving XDXR INFO ==== 519985\n",
      "QUANTAXIS>> The 873 of Total 879\n",
      "QUANTAXIS>> DOWNLOAD PROGRESS 99.3% \n",
      "QUANTAXIS>> ##JOB02 Now Saving XDXR INFO ==== 519987\n",
      "QUANTAXIS>> The 874 of Total 879\n",
      "QUANTAXIS>> DOWNLOAD PROGRESS 99.4% \n",
      "QUANTAXIS>> ##JOB02 Now Saving XDXR INFO ==== 519989\n",
      "QUANTAXIS>> The 875 of Total 879\n",
      "QUANTAXIS>> DOWNLOAD PROGRESS 99.5% \n",
      "QUANTAXIS>> ##JOB02 Now Saving XDXR INFO ==== 519991\n",
      "QUANTAXIS>> The 876 of Total 879\n",
      "QUANTAXIS>> DOWNLOAD PROGRESS 99.6% \n",
      "QUANTAXIS>> ##JOB02 Now Saving XDXR INFO ==== 519993\n",
      "QUANTAXIS>> The 877 of Total 879\n",
      "QUANTAXIS>> DOWNLOAD PROGRESS 99.7% \n",
      "QUANTAXIS>> ##JOB02 Now Saving XDXR INFO ==== 519995\n",
      "QUANTAXIS>> The 878 of Total 879\n",
      "QUANTAXIS>> DOWNLOAD PROGRESS 99.8% \n",
      "QUANTAXIS>> ##JOB02 Now Saving XDXR INFO ==== 519997\n"
     ]
    }
   ],
   "source": [
    "QA_SU_save_etf_xdxr()"
   ]
  },
  {
   "cell_type": "code",
   "execution_count": 2,
   "id": "ea4e9b01",
   "metadata": {},
   "outputs": [
    {
     "name": "stderr",
     "output_type": "stream",
     "text": [
      "QUANTAXIS>> Selecting the Best Server IP of TDX\n"
     ]
    },
    {
     "name": "stdout",
     "output_type": "stream",
     "text": [
      "USING DEFAULT STOCK IP\n",
      "BAD RESPONSE 119.147.86.171\n",
      "DEFAULT FUTURE IP {'stock': {'ip': '119.147.212.81', 'port': 7709}, 'future': {'ip': '119.147.86.171', 'port': 7727, 'name': '扩展市场深圳主站'}} is BAD, RETESTING\n",
      "BAD RESPONSE 120.24.0.77\n",
      "BAD RESPONSE 119.147.86.171\n",
      "Progress: 12.50%\n",
      "Progress: 25.00%\n",
      "BAD RESPONSE 124.74.236.94BAD RESPONSE 14.215.128.18BAD RESPONSE 139.219.103.190\n",
      "\n",
      "\n",
      "BAD RESPONSE 202.103.36.71BAD RESPONSE 47.92.127.181\n",
      "\n",
      "BAD RESPONSE 59.175.238.38\n",
      "BAD RESPONSE 119.147.86.171\n",
      "BAD RESPONSE 61.152.107.141\n",
      "BAD RESPONSE 61.152.107.171\n",
      "Progress: 37.50%\n",
      "Progress: 50.00%\n",
      "Progress: 62.50%\n",
      "Progress: 75.00%\n",
      "Progress: 87.50%\n",
      "Progress: 100.00%\n"
     ]
    },
    {
     "name": "stderr",
     "output_type": "stream",
     "text": [
      "QUANTAXIS>> === The BEST SERVER ===\n",
      " stock_ip 119.147.212.81 future_ip 119.147.86.171\n"
     ]
    },
    {
     "name": "stdout",
     "output_type": "stream",
     "text": [
      "saving ip list to future cache 4\n"
     ]
    },
    {
     "name": "stderr",
     "output_type": "stream",
     "text": [
      "QUANTAXIS>> ##JOB05 Now Saving Index_MIN ==== 395000\n",
      "QUANTAXIS>> ##JOB05 Now Saving Index_MIN ==== 395001\n",
      "QUANTAXIS>> ##JOB05 Now Saving Index_MIN ==== 395002\n",
      "QUANTAXIS>> ##JOB05 Now Saving Index_MIN ==== 395004\n",
      "QUANTAXIS>> ##JOB05 Now Saving Index_MIN ==== 395005\n",
      "QUANTAXIS>> The 0 of Total 364\n",
      "QUANTAXIS>> DOWNLOAD PROGRESS 0.0% \n",
      "QUANTAXIS>> ##JOB05 Now Saving Index_MIN ==== 395006\n",
      "QUANTAXIS>> The 1 of Total 364\n",
      "QUANTAXIS>> DOWNLOAD PROGRESS 0.27% \n",
      "QUANTAXIS>> ##JOB05 Now Saving Index_MIN ==== 395011\n",
      "QUANTAXIS>> The 2 of Total 364\n",
      "QUANTAXIS>> DOWNLOAD PROGRESS 0.54% \n",
      "QUANTAXIS>> ##JOB05 Now Saving Index_MIN ==== 395012\n",
      "QUANTAXIS>> The 3 of Total 364\n",
      "QUANTAXIS>> DOWNLOAD PROGRESS 0.82% \n",
      "QUANTAXIS>> ##JOB05 Now Saving Index_MIN ==== 395013\n",
      "QUANTAXIS>> The 4 of Total 364\n",
      "QUANTAXIS>> DOWNLOAD PROGRESS 1.09% \n",
      "QUANTAXIS>> ##JOB05 Now Saving Index_MIN ==== 395015\n",
      "QUANTAXIS>> The 5 of Total 364\n",
      "QUANTAXIS>> DOWNLOAD PROGRESS 1.37% \n",
      "QUANTAXIS>> ##JOB05 Now Saving Index_MIN ==== 395032\n",
      "QUANTAXIS>> The 6 of Total 364\n",
      "QUANTAXIS>> DOWNLOAD PROGRESS 1.64% \n",
      "QUANTAXIS>> ##JOB05 Now Saving Index_MIN ==== 395033\n",
      "QUANTAXIS>> The 7 of Total 364\n",
      "QUANTAXIS>> DOWNLOAD PROGRESS 1.92% \n",
      "QUANTAXIS>> ##JOB05 Now Saving Index_MIN ==== 395034\n",
      "QUANTAXIS>> The 8 of Total 364\n",
      "QUANTAXIS>> DOWNLOAD PROGRESS 2.19% \n",
      "QUANTAXIS>> ##JOB05 Now Saving Index_MIN ==== 395041\n",
      "QUANTAXIS>> The 9 of Total 364\n",
      "QUANTAXIS>> DOWNLOAD PROGRESS 2.47% \n",
      "QUANTAXIS>> ##JOB05 Now Saving Index_MIN ==== 395099\n",
      "QUANTAXIS>> The 10 of Total 364\n",
      "QUANTAXIS>> DOWNLOAD PROGRESS 2.74% \n",
      "QUANTAXIS>> ##JOB05 Now Saving Index_MIN ==== 399001\n",
      "QUANTAXIS>> The 11 of Total 364\n",
      "QUANTAXIS>> DOWNLOAD PROGRESS 3.02% \n",
      "QUANTAXIS>> ##JOB05 Now Saving Index_MIN ==== 399002\n",
      "QUANTAXIS>> The 12 of Total 364\n",
      "QUANTAXIS>> DOWNLOAD PROGRESS 3.29% \n",
      "QUANTAXIS>> ##JOB05 Now Saving Index_MIN ==== 399003\n",
      "QUANTAXIS>> The 13 of Total 364\n",
      "QUANTAXIS>> DOWNLOAD PROGRESS 3.57% \n",
      "QUANTAXIS>> ##JOB05 Now Saving Index_MIN ==== 399004\n",
      "QUANTAXIS>> The 14 of Total 364\n",
      "QUANTAXIS>> DOWNLOAD PROGRESS 3.84% \n",
      "QUANTAXIS>> ##JOB05 Now Saving Index_MIN ==== 399005\n",
      "QUANTAXIS>> The 15 of Total 364\n",
      "QUANTAXIS>> DOWNLOAD PROGRESS 4.12% \n",
      "QUANTAXIS>> ##JOB05 Now Saving Index_MIN ==== 399006\n",
      "QUANTAXIS>> The 16 of Total 364\n",
      "QUANTAXIS>> DOWNLOAD PROGRESS 4.39% \n",
      "QUANTAXIS>> ##JOB05 Now Saving Index_MIN ==== 399007\n",
      "QUANTAXIS>> The 17 of Total 364\n",
      "QUANTAXIS>> DOWNLOAD PROGRESS 4.67% \n",
      "QUANTAXIS>> ##JOB05 Now Saving Index_MIN ==== 399008\n",
      "QUANTAXIS>> The 18 of Total 364\n",
      "QUANTAXIS>> DOWNLOAD PROGRESS 4.94% \n",
      "QUANTAXIS>> ##JOB05 Now Saving Index_MIN ==== 399009\n",
      "QUANTAXIS>> The 19 of Total 364\n",
      "QUANTAXIS>> DOWNLOAD PROGRESS 5.21% \n",
      "QUANTAXIS>> ##JOB05 Now Saving Index_MIN ==== 399010\n",
      "QUANTAXIS>> The 20 of Total 364\n",
      "QUANTAXIS>> DOWNLOAD PROGRESS 5.49% \n",
      "QUANTAXIS>> ##JOB05 Now Saving Index_MIN ==== 399011\n",
      "QUANTAXIS>> The 21 of Total 364\n",
      "QUANTAXIS>> DOWNLOAD PROGRESS 5.76% \n",
      "QUANTAXIS>> ##JOB05 Now Saving Index_MIN ==== 399012\n",
      "QUANTAXIS>> The 22 of Total 364\n",
      "QUANTAXIS>> DOWNLOAD PROGRESS 6.04% \n",
      "QUANTAXIS>> ##JOB05 Now Saving Index_MIN ==== 399013\n",
      "QUANTAXIS>> The 23 of Total 364\n",
      "QUANTAXIS>> DOWNLOAD PROGRESS 6.31% \n",
      "QUANTAXIS>> ##JOB05 Now Saving Index_MIN ==== 399015\n",
      "QUANTAXIS>> The 24 of Total 364\n",
      "QUANTAXIS>> DOWNLOAD PROGRESS 6.59% \n",
      "QUANTAXIS>> ##JOB05 Now Saving Index_MIN ==== 399016\n",
      "QUANTAXIS>> The 25 of Total 364\n",
      "QUANTAXIS>> DOWNLOAD PROGRESS 6.86% \n",
      "QUANTAXIS>> ##JOB05 Now Saving Index_MIN ==== 399017\n",
      "QUANTAXIS>> The 26 of Total 364\n",
      "QUANTAXIS>> DOWNLOAD PROGRESS 7.14% \n",
      "QUANTAXIS>> ##JOB05 Now Saving Index_MIN ==== 399018\n",
      "QUANTAXIS>> The 27 of Total 364\n",
      "QUANTAXIS>> DOWNLOAD PROGRESS 7.41% \n",
      "QUANTAXIS>> ##JOB05 Now Saving Index_MIN ==== 399030\n",
      "QUANTAXIS>> The 28 of Total 364\n",
      "QUANTAXIS>> DOWNLOAD PROGRESS 7.69% \n",
      "QUANTAXIS>> ##JOB05 Now Saving Index_MIN ==== 399050\n",
      "QUANTAXIS>> The 29 of Total 364\n",
      "QUANTAXIS>> DOWNLOAD PROGRESS 7.96% \n",
      "QUANTAXIS>> ##JOB05 Now Saving Index_MIN ==== 399060\n",
      "QUANTAXIS>> The 30 of Total 364\n",
      "QUANTAXIS>> DOWNLOAD PROGRESS 8.24% \n",
      "QUANTAXIS>> ##JOB05 Now Saving Index_MIN ==== 399088\n",
      "QUANTAXIS>> The 31 of Total 364\n",
      "QUANTAXIS>> DOWNLOAD PROGRESS 8.51% \n",
      "QUANTAXIS>> ##JOB05 Now Saving Index_MIN ==== 399100\n",
      "QUANTAXIS>> The 32 of Total 364\n",
      "QUANTAXIS>> DOWNLOAD PROGRESS 8.79% \n",
      "QUANTAXIS>> ##JOB05 Now Saving Index_MIN ==== 399101\n",
      "QUANTAXIS>> The 33 of Total 364\n",
      "QUANTAXIS>> DOWNLOAD PROGRESS 9.06% \n",
      "QUANTAXIS>> ##JOB05 Now Saving Index_MIN ==== 399102\n",
      "QUANTAXIS>> The 34 of Total 364\n",
      "QUANTAXIS>> DOWNLOAD PROGRESS 9.34% \n",
      "QUANTAXIS>> ##JOB05 Now Saving Index_MIN ==== 399103\n",
      "QUANTAXIS>> The 35 of Total 364\n",
      "QUANTAXIS>> DOWNLOAD PROGRESS 9.61% \n",
      "QUANTAXIS>> ##JOB05 Now Saving Index_MIN ==== 399106\n",
      "QUANTAXIS>> The 36 of Total 364\n",
      "QUANTAXIS>> DOWNLOAD PROGRESS 9.89% \n",
      "QUANTAXIS>> ##JOB05 Now Saving Index_MIN ==== 399107\n",
      "QUANTAXIS>> The 37 of Total 364\n",
      "QUANTAXIS>> DOWNLOAD PROGRESS 10.1% \n",
      "QUANTAXIS>> ##JOB05 Now Saving Index_MIN ==== 399108\n",
      "QUANTAXIS>> The 38 of Total 364\n",
      "QUANTAXIS>> DOWNLOAD PROGRESS 10.4% \n",
      "QUANTAXIS>> ##JOB05 Now Saving Index_MIN ==== 399231\n",
      "QUANTAXIS>> The 39 of Total 364\n",
      "QUANTAXIS>> DOWNLOAD PROGRESS 10.7% \n",
      "QUANTAXIS>> ##JOB05 Now Saving Index_MIN ==== 399232\n",
      "QUANTAXIS>> The 40 of Total 364\n",
      "QUANTAXIS>> DOWNLOAD PROGRESS 10.9% \n",
      "QUANTAXIS>> ##JOB05 Now Saving Index_MIN ==== 399233\n",
      "QUANTAXIS>> The 41 of Total 364\n",
      "QUANTAXIS>> DOWNLOAD PROGRESS 11.2% \n",
      "QUANTAXIS>> ##JOB05 Now Saving Index_MIN ==== 399234\n",
      "QUANTAXIS>> The 42 of Total 364\n",
      "QUANTAXIS>> DOWNLOAD PROGRESS 11.5% \n",
      "QUANTAXIS>> ##JOB05 Now Saving Index_MIN ==== 399235\n",
      "QUANTAXIS>> The 43 of Total 364\n",
      "QUANTAXIS>> DOWNLOAD PROGRESS 11.8% \n",
      "QUANTAXIS>> ##JOB05 Now Saving Index_MIN ==== 399236\n",
      "QUANTAXIS>> The 44 of Total 364\n",
      "QUANTAXIS>> DOWNLOAD PROGRESS 12.0% \n",
      "QUANTAXIS>> ##JOB05 Now Saving Index_MIN ==== 399237\n",
      "QUANTAXIS>> The 45 of Total 364\n",
      "QUANTAXIS>> DOWNLOAD PROGRESS 12.3% \n",
      "QUANTAXIS>> ##JOB05 Now Saving Index_MIN ==== 399238\n",
      "QUANTAXIS>> The 46 of Total 364\n",
      "QUANTAXIS>> DOWNLOAD PROGRESS 12.6% \n",
      "QUANTAXIS>> ##JOB05 Now Saving Index_MIN ==== 399239\n",
      "QUANTAXIS>> The 47 of Total 364\n",
      "QUANTAXIS>> DOWNLOAD PROGRESS 12.9% \n",
      "QUANTAXIS>> ##JOB05 Now Saving Index_MIN ==== 399240\n",
      "QUANTAXIS>> The 48 of Total 364\n",
      "QUANTAXIS>> DOWNLOAD PROGRESS 13.1% \n",
      "QUANTAXIS>> ##JOB05 Now Saving Index_MIN ==== 399241\n",
      "QUANTAXIS>> The 49 of Total 364\n",
      "QUANTAXIS>> DOWNLOAD PROGRESS 13.4% \n",
      "QUANTAXIS>> ##JOB05 Now Saving Index_MIN ==== 399242\n",
      "QUANTAXIS>> The 50 of Total 364\n",
      "QUANTAXIS>> DOWNLOAD PROGRESS 13.7% \n",
      "QUANTAXIS>> ##JOB05 Now Saving Index_MIN ==== 399243\n",
      "QUANTAXIS>> The 51 of Total 364\n",
      "QUANTAXIS>> DOWNLOAD PROGRESS 14.0% \n",
      "QUANTAXIS>> ##JOB05 Now Saving Index_MIN ==== 399244\n",
      "QUANTAXIS>> The 52 of Total 364\n",
      "QUANTAXIS>> DOWNLOAD PROGRESS 14.2% \n",
      "QUANTAXIS>> ##JOB05 Now Saving Index_MIN ==== 399248\n",
      "QUANTAXIS>> The 53 of Total 364\n",
      "QUANTAXIS>> DOWNLOAD PROGRESS 14.5% \n",
      "QUANTAXIS>> ##JOB05 Now Saving Index_MIN ==== 399249\n",
      "QUANTAXIS>> The 54 of Total 364\n",
      "QUANTAXIS>> DOWNLOAD PROGRESS 14.8% \n",
      "QUANTAXIS>> ##JOB05 Now Saving Index_MIN ==== 399262\n",
      "QUANTAXIS>> The 55 of Total 364\n",
      "QUANTAXIS>> DOWNLOAD PROGRESS 15.1% \n",
      "QUANTAXIS>> ##JOB05 Now Saving Index_MIN ==== 399263\n",
      "QUANTAXIS>> The 56 of Total 364\n",
      "QUANTAXIS>> DOWNLOAD PROGRESS 15.3% \n",
      "QUANTAXIS>> ##JOB05 Now Saving Index_MIN ==== 399264\n",
      "QUANTAXIS>> The 57 of Total 364\n",
      "QUANTAXIS>> DOWNLOAD PROGRESS 15.6% \n",
      "QUANTAXIS>> ##JOB05 Now Saving Index_MIN ==== 399265\n",
      "QUANTAXIS>> The 58 of Total 364\n",
      "QUANTAXIS>> DOWNLOAD PROGRESS 15.9% \n",
      "QUANTAXIS>> ##JOB05 Now Saving Index_MIN ==== 399266\n",
      "QUANTAXIS>> The 59 of Total 364\n",
      "QUANTAXIS>> DOWNLOAD PROGRESS 16.2% \n",
      "QUANTAXIS>> ##JOB05 Now Saving Index_MIN ==== 399269\n",
      "QUANTAXIS>> The 60 of Total 364\n",
      "QUANTAXIS>> DOWNLOAD PROGRESS 16.4% \n",
      "QUANTAXIS>> ##JOB05 Now Saving Index_MIN ==== 399274\n",
      "QUANTAXIS>> The 61 of Total 364\n",
      "QUANTAXIS>> DOWNLOAD PROGRESS 16.7% \n",
      "QUANTAXIS>> ##JOB05 Now Saving Index_MIN ==== 399275\n",
      "QUANTAXIS>> The 62 of Total 364\n",
      "QUANTAXIS>> DOWNLOAD PROGRESS 17.0% \n",
      "QUANTAXIS>> ##JOB05 Now Saving Index_MIN ==== 399276\n",
      "QUANTAXIS>> The 63 of Total 364\n",
      "QUANTAXIS>> DOWNLOAD PROGRESS 17.3% \n",
      "QUANTAXIS>> ##JOB05 Now Saving Index_MIN ==== 399277\n",
      "QUANTAXIS>> The 64 of Total 364\n",
      "QUANTAXIS>> DOWNLOAD PROGRESS 17.5% \n",
      "QUANTAXIS>> ##JOB05 Now Saving Index_MIN ==== 399278\n",
      "QUANTAXIS>> The 65 of Total 364\n"
     ]
    },
    {
     "name": "stderr",
     "output_type": "stream",
     "text": [
      "QUANTAXIS>> DOWNLOAD PROGRESS 17.8% \n",
      "QUANTAXIS>> ##JOB05 Now Saving Index_MIN ==== 399279\n",
      "QUANTAXIS>> The 66 of Total 364\n",
      "QUANTAXIS>> DOWNLOAD PROGRESS 18.1% \n",
      "QUANTAXIS>> ##JOB05 Now Saving Index_MIN ==== 399280\n",
      "QUANTAXIS>> The 67 of Total 364\n",
      "QUANTAXIS>> DOWNLOAD PROGRESS 18.4% \n",
      "QUANTAXIS>> ##JOB05 Now Saving Index_MIN ==== 399281\n",
      "QUANTAXIS>> The 68 of Total 364\n",
      "QUANTAXIS>> DOWNLOAD PROGRESS 18.6% \n",
      "QUANTAXIS>> ##JOB05 Now Saving Index_MIN ==== 399282\n",
      "QUANTAXIS>> The 69 of Total 364\n",
      "QUANTAXIS>> DOWNLOAD PROGRESS 18.9% \n",
      "QUANTAXIS>> ##JOB05 Now Saving Index_MIN ==== 399283\n",
      "QUANTAXIS>> The 70 of Total 364\n",
      "QUANTAXIS>> DOWNLOAD PROGRESS 19.2% \n",
      "QUANTAXIS>> ##JOB05 Now Saving Index_MIN ==== 399284\n",
      "QUANTAXIS>> The 71 of Total 364\n",
      "QUANTAXIS>> DOWNLOAD PROGRESS 19.5% \n",
      "QUANTAXIS>> ##JOB05 Now Saving Index_MIN ==== 399285\n",
      "QUANTAXIS>> The 72 of Total 364\n",
      "QUANTAXIS>> DOWNLOAD PROGRESS 19.7% \n",
      "QUANTAXIS>> ##JOB05 Now Saving Index_MIN ==== 399286\n",
      "QUANTAXIS>> The 73 of Total 364\n",
      "QUANTAXIS>> DOWNLOAD PROGRESS 20.0% \n",
      "QUANTAXIS>> ##JOB05 Now Saving Index_MIN ==== 399289\n",
      "QUANTAXIS>> The 74 of Total 364\n",
      "QUANTAXIS>> DOWNLOAD PROGRESS 20.3% \n",
      "QUANTAXIS>> ##JOB05 Now Saving Index_MIN ==== 399290\n",
      "QUANTAXIS>> The 75 of Total 364\n",
      "QUANTAXIS>> DOWNLOAD PROGRESS 20.6% \n",
      "QUANTAXIS>> ##JOB05 Now Saving Index_MIN ==== 399291\n",
      "QUANTAXIS>> The 76 of Total 364\n",
      "QUANTAXIS>> DOWNLOAD PROGRESS 20.8% \n",
      "QUANTAXIS>> ##JOB05 Now Saving Index_MIN ==== 399292\n",
      "QUANTAXIS>> The 77 of Total 364\n",
      "QUANTAXIS>> DOWNLOAD PROGRESS 21.1% \n",
      "QUANTAXIS>> ##JOB05 Now Saving Index_MIN ==== 399293\n",
      "QUANTAXIS>> The 78 of Total 364\n",
      "QUANTAXIS>> DOWNLOAD PROGRESS 21.4% \n",
      "QUANTAXIS>> ##JOB05 Now Saving Index_MIN ==== 399294\n",
      "QUANTAXIS>> The 79 of Total 364\n",
      "QUANTAXIS>> DOWNLOAD PROGRESS 21.7% \n",
      "QUANTAXIS>> ##JOB05 Now Saving Index_MIN ==== 399295\n",
      "QUANTAXIS>> The 80 of Total 364\n",
      "QUANTAXIS>> DOWNLOAD PROGRESS 21.9% \n",
      "QUANTAXIS>> ##JOB05 Now Saving Index_MIN ==== 399296\n",
      "QUANTAXIS>> The 81 of Total 364\n",
      "QUANTAXIS>> DOWNLOAD PROGRESS 22.2% \n",
      "QUANTAXIS>> ##JOB05 Now Saving Index_MIN ==== 399297\n",
      "QUANTAXIS>> The 82 of Total 364\n",
      "QUANTAXIS>> DOWNLOAD PROGRESS 22.5% \n",
      "QUANTAXIS>> ##JOB05 Now Saving Index_MIN ==== 399298\n",
      "QUANTAXIS>> The 83 of Total 364\n",
      "QUANTAXIS>> DOWNLOAD PROGRESS 22.8% \n",
      "QUANTAXIS>> ##JOB05 Now Saving Index_MIN ==== 399299\n",
      "QUANTAXIS>> The 84 of Total 364\n",
      "QUANTAXIS>> DOWNLOAD PROGRESS 23.0% \n",
      "QUANTAXIS>> ##JOB05 Now Saving Index_MIN ==== 399300\n",
      "QUANTAXIS>> The 85 of Total 364\n",
      "QUANTAXIS>> DOWNLOAD PROGRESS 23.3% \n",
      "QUANTAXIS>> ##JOB05 Now Saving Index_MIN ==== 399301\n",
      "QUANTAXIS>> The 86 of Total 364\n",
      "QUANTAXIS>> DOWNLOAD PROGRESS 23.6% \n",
      "QUANTAXIS>> ##JOB05 Now Saving Index_MIN ==== 399302\n",
      "QUANTAXIS>> The 87 of Total 364\n",
      "QUANTAXIS>> DOWNLOAD PROGRESS 23.9% \n",
      "QUANTAXIS>> ##JOB05 Now Saving Index_MIN ==== 399303\n",
      "QUANTAXIS>> The 88 of Total 364\n",
      "QUANTAXIS>> DOWNLOAD PROGRESS 24.1% \n",
      "QUANTAXIS>> ##JOB05 Now Saving Index_MIN ==== 399306\n",
      "QUANTAXIS>> The 89 of Total 364\n",
      "QUANTAXIS>> DOWNLOAD PROGRESS 24.4% \n",
      "QUANTAXIS>> ##JOB05 Now Saving Index_MIN ==== 399307\n",
      "QUANTAXIS>> The 90 of Total 364\n",
      "QUANTAXIS>> DOWNLOAD PROGRESS 24.7% \n",
      "QUANTAXIS>> ##JOB05 Now Saving Index_MIN ==== 399310\n",
      "QUANTAXIS>> The 91 of Total 364\n",
      "QUANTAXIS>> DOWNLOAD PROGRESS 25.0% \n",
      "QUANTAXIS>> ##JOB05 Now Saving Index_MIN ==== 399311\n",
      "QUANTAXIS>> The 92 of Total 364\n",
      "QUANTAXIS>> DOWNLOAD PROGRESS 25.2% \n",
      "QUANTAXIS>> ##JOB05 Now Saving Index_MIN ==== 399312\n",
      "QUANTAXIS>> The 93 of Total 364\n",
      "QUANTAXIS>> DOWNLOAD PROGRESS 25.5% \n",
      "QUANTAXIS>> ##JOB05 Now Saving Index_MIN ==== 399313\n",
      "QUANTAXIS>> The 94 of Total 364\n",
      "QUANTAXIS>> DOWNLOAD PROGRESS 25.8% \n",
      "QUANTAXIS>> ##JOB05 Now Saving Index_MIN ==== 399314\n",
      "QUANTAXIS>> The 95 of Total 364\n",
      "QUANTAXIS>> DOWNLOAD PROGRESS 26.0% \n",
      "QUANTAXIS>> ##JOB05 Now Saving Index_MIN ==== 399315\n",
      "QUANTAXIS>> The 96 of Total 364\n",
      "QUANTAXIS>> DOWNLOAD PROGRESS 26.3% \n",
      "QUANTAXIS>> ##JOB05 Now Saving Index_MIN ==== 399316\n",
      "QUANTAXIS>> The 97 of Total 364\n",
      "QUANTAXIS>> DOWNLOAD PROGRESS 26.6% \n",
      "QUANTAXIS>> ##JOB05 Now Saving Index_MIN ==== 399317\n",
      "QUANTAXIS>> The 98 of Total 364\n",
      "QUANTAXIS>> DOWNLOAD PROGRESS 26.9% \n",
      "QUANTAXIS>> ##JOB05 Now Saving Index_MIN ==== 399318\n",
      "QUANTAXIS>> The 99 of Total 364\n",
      "QUANTAXIS>> DOWNLOAD PROGRESS 27.1% \n",
      "QUANTAXIS>> ##JOB05 Now Saving Index_MIN ==== 399319\n",
      "QUANTAXIS>> The 100 of Total 364\n",
      "QUANTAXIS>> DOWNLOAD PROGRESS 27.4% \n",
      "QUANTAXIS>> ##JOB05 Now Saving Index_MIN ==== 399320\n",
      "QUANTAXIS>> The 101 of Total 364\n",
      "QUANTAXIS>> DOWNLOAD PROGRESS 27.7% \n",
      "QUANTAXIS>> ##JOB05 Now Saving Index_MIN ==== 399321\n",
      "QUANTAXIS>> The 102 of Total 364\n",
      "QUANTAXIS>> DOWNLOAD PROGRESS 28.0% \n",
      "QUANTAXIS>> ##JOB05 Now Saving Index_MIN ==== 399322\n",
      "QUANTAXIS>> The 103 of Total 364\n",
      "QUANTAXIS>> DOWNLOAD PROGRESS 28.2% \n",
      "QUANTAXIS>> ##JOB05 Now Saving Index_MIN ==== 399324\n",
      "QUANTAXIS>> The 104 of Total 364\n",
      "QUANTAXIS>> DOWNLOAD PROGRESS 28.5% \n",
      "QUANTAXIS>> ##JOB05 Now Saving Index_MIN ==== 399326\n",
      "QUANTAXIS>> The 105 of Total 364\n",
      "QUANTAXIS>> DOWNLOAD PROGRESS 28.8% \n",
      "QUANTAXIS>> ##JOB05 Now Saving Index_MIN ==== 399328\n",
      "QUANTAXIS>> The 106 of Total 364\n",
      "QUANTAXIS>> DOWNLOAD PROGRESS 29.1% \n",
      "QUANTAXIS>> ##JOB05 Now Saving Index_MIN ==== 399330\n",
      "QUANTAXIS>> The 107 of Total 364\n",
      "QUANTAXIS>> DOWNLOAD PROGRESS 29.3% \n",
      "QUANTAXIS>> ##JOB05 Now Saving Index_MIN ==== 399333\n",
      "QUANTAXIS>> The 108 of Total 364\n",
      "QUANTAXIS>> DOWNLOAD PROGRESS 29.6% \n",
      "QUANTAXIS>> ##JOB05 Now Saving Index_MIN ==== 399335\n",
      "QUANTAXIS>> The 109 of Total 364\n",
      "QUANTAXIS>> DOWNLOAD PROGRESS 29.9% \n",
      "QUANTAXIS>> ##JOB05 Now Saving Index_MIN ==== 399337\n",
      "QUANTAXIS>> The 110 of Total 364\n",
      "QUANTAXIS>> DOWNLOAD PROGRESS 30.2% \n",
      "QUANTAXIS>> ##JOB05 Now Saving Index_MIN ==== 399339\n",
      "QUANTAXIS>> The 111 of Total 364\n",
      "QUANTAXIS>> DOWNLOAD PROGRESS 30.4% \n",
      "QUANTAXIS>> ##JOB05 Now Saving Index_MIN ==== 399341\n",
      "QUANTAXIS>> The 112 of Total 364\n",
      "QUANTAXIS>> DOWNLOAD PROGRESS 30.7% \n",
      "QUANTAXIS>> ##JOB05 Now Saving Index_MIN ==== 399344\n",
      "QUANTAXIS>> The 113 of Total 364\n",
      "QUANTAXIS>> DOWNLOAD PROGRESS 31.0% \n",
      "QUANTAXIS>> ##JOB05 Now Saving Index_MIN ==== 399346\n",
      "QUANTAXIS>> The 114 of Total 364\n",
      "QUANTAXIS>> DOWNLOAD PROGRESS 31.3% \n",
      "QUANTAXIS>> ##JOB05 Now Saving Index_MIN ==== 399348\n",
      "QUANTAXIS>> The 115 of Total 364\n",
      "QUANTAXIS>> DOWNLOAD PROGRESS 31.5% \n",
      "QUANTAXIS>> ##JOB05 Now Saving Index_MIN ==== 399350\n",
      "QUANTAXIS>> The 116 of Total 364\n",
      "QUANTAXIS>> DOWNLOAD PROGRESS 31.8% \n",
      "QUANTAXIS>> ##JOB05 Now Saving Index_MIN ==== 399351\n",
      "QUANTAXIS>> The 117 of Total 364\n",
      "QUANTAXIS>> DOWNLOAD PROGRESS 32.1% \n",
      "QUANTAXIS>> ##JOB05 Now Saving Index_MIN ==== 399352\n",
      "QUANTAXIS>> The 118 of Total 364\n",
      "QUANTAXIS>> DOWNLOAD PROGRESS 32.4% \n",
      "QUANTAXIS>> ##JOB05 Now Saving Index_MIN ==== 399353\n",
      "QUANTAXIS>> The 119 of Total 364\n",
      "QUANTAXIS>> DOWNLOAD PROGRESS 32.6% \n",
      "QUANTAXIS>> ##JOB05 Now Saving Index_MIN ==== 399354\n",
      "QUANTAXIS>> The 120 of Total 364\n",
      "QUANTAXIS>> DOWNLOAD PROGRESS 32.9% \n",
      "QUANTAXIS>> ##JOB05 Now Saving Index_MIN ==== 399355\n",
      "QUANTAXIS>> The 121 of Total 364\n",
      "QUANTAXIS>> DOWNLOAD PROGRESS 33.2% \n",
      "QUANTAXIS>> ##JOB05 Now Saving Index_MIN ==== 399356\n",
      "QUANTAXIS>> The 122 of Total 364\n",
      "QUANTAXIS>> DOWNLOAD PROGRESS 33.5% \n",
      "QUANTAXIS>> ##JOB05 Now Saving Index_MIN ==== 399357\n",
      "QUANTAXIS>> The 123 of Total 364\n",
      "QUANTAXIS>> DOWNLOAD PROGRESS 33.7% \n",
      "QUANTAXIS>> ##JOB05 Now Saving Index_MIN ==== 399358\n",
      "QUANTAXIS>> The 124 of Total 364\n",
      "QUANTAXIS>> DOWNLOAD PROGRESS 34.0% \n",
      "QUANTAXIS>> ##JOB05 Now Saving Index_MIN ==== 399359\n",
      "QUANTAXIS>> The 125 of Total 364\n",
      "QUANTAXIS>> DOWNLOAD PROGRESS 34.3% \n",
      "QUANTAXIS>> ##JOB05 Now Saving Index_MIN ==== 399360\n",
      "QUANTAXIS>> The 126 of Total 364\n",
      "QUANTAXIS>> DOWNLOAD PROGRESS 34.6% \n",
      "QUANTAXIS>> ##JOB05 Now Saving Index_MIN ==== 399361\n",
      "QUANTAXIS>> The 127 of Total 364\n",
      "QUANTAXIS>> DOWNLOAD PROGRESS 34.8% \n",
      "QUANTAXIS>> ##JOB05 Now Saving Index_MIN ==== 399362\n",
      "QUANTAXIS>> The 128 of Total 364\n",
      "QUANTAXIS>> DOWNLOAD PROGRESS 35.1% \n",
      "QUANTAXIS>> ##JOB05 Now Saving Index_MIN ==== 399363\n",
      "QUANTAXIS>> The 129 of Total 364\n",
      "QUANTAXIS>> DOWNLOAD PROGRESS 35.4% \n",
      "QUANTAXIS>> ##JOB05 Now Saving Index_MIN ==== 399364\n",
      "QUANTAXIS>> The 130 of Total 364\n",
      "QUANTAXIS>> DOWNLOAD PROGRESS 35.7% \n",
      "QUANTAXIS>> ##JOB05 Now Saving Index_MIN ==== 399365\n",
      "QUANTAXIS>> The 131 of Total 364\n",
      "QUANTAXIS>> DOWNLOAD PROGRESS 35.9% \n",
      "QUANTAXIS>> ##JOB05 Now Saving Index_MIN ==== 399366\n",
      "QUANTAXIS>> The 132 of Total 364\n"
     ]
    },
    {
     "name": "stderr",
     "output_type": "stream",
     "text": [
      "QUANTAXIS>> DOWNLOAD PROGRESS 36.2% \n",
      "QUANTAXIS>> ##JOB05 Now Saving Index_MIN ==== 399367\n",
      "QUANTAXIS>> The 133 of Total 364\n",
      "QUANTAXIS>> DOWNLOAD PROGRESS 36.5% \n",
      "QUANTAXIS>> ##JOB05 Now Saving Index_MIN ==== 399368\n",
      "QUANTAXIS>> The 134 of Total 364\n",
      "QUANTAXIS>> DOWNLOAD PROGRESS 36.8% \n",
      "QUANTAXIS>> ##JOB05 Now Saving Index_MIN ==== 399369\n",
      "QUANTAXIS>> The 135 of Total 364\n",
      "QUANTAXIS>> DOWNLOAD PROGRESS 37.0% \n",
      "QUANTAXIS>> ##JOB05 Now Saving Index_MIN ==== 399370\n",
      "QUANTAXIS>> The 136 of Total 364\n",
      "QUANTAXIS>> DOWNLOAD PROGRESS 37.3% \n",
      "QUANTAXIS>> ##JOB05 Now Saving Index_MIN ==== 399371\n",
      "QUANTAXIS>> The 137 of Total 364\n",
      "QUANTAXIS>> DOWNLOAD PROGRESS 37.6% \n",
      "QUANTAXIS>> ##JOB05 Now Saving Index_MIN ==== 399372\n",
      "QUANTAXIS>> The 138 of Total 364\n",
      "QUANTAXIS>> DOWNLOAD PROGRESS 37.9% \n",
      "QUANTAXIS>> ##JOB05 Now Saving Index_MIN ==== 399373\n",
      "QUANTAXIS>> The 139 of Total 364\n",
      "QUANTAXIS>> DOWNLOAD PROGRESS 38.1% \n",
      "QUANTAXIS>> ##JOB05 Now Saving Index_MIN ==== 399374\n",
      "QUANTAXIS>> The 140 of Total 364\n",
      "QUANTAXIS>> DOWNLOAD PROGRESS 38.4% \n",
      "QUANTAXIS>> ##JOB05 Now Saving Index_MIN ==== 399375\n",
      "QUANTAXIS>> The 141 of Total 364\n",
      "QUANTAXIS>> DOWNLOAD PROGRESS 38.7% \n",
      "QUANTAXIS>> ##JOB05 Now Saving Index_MIN ==== 399376\n",
      "QUANTAXIS>> The 142 of Total 364\n",
      "QUANTAXIS>> DOWNLOAD PROGRESS 39.0% \n",
      "QUANTAXIS>> ##JOB05 Now Saving Index_MIN ==== 399377\n",
      "QUANTAXIS>> The 143 of Total 364\n",
      "QUANTAXIS>> DOWNLOAD PROGRESS 39.2% \n",
      "QUANTAXIS>> ##JOB05 Now Saving Index_MIN ==== 399378\n",
      "QUANTAXIS>> The 144 of Total 364\n",
      "QUANTAXIS>> DOWNLOAD PROGRESS 39.5% \n",
      "QUANTAXIS>> ##JOB05 Now Saving Index_MIN ==== 399379\n",
      "QUANTAXIS>> The 145 of Total 364\n",
      "QUANTAXIS>> DOWNLOAD PROGRESS 39.8% \n",
      "QUANTAXIS>> ##JOB05 Now Saving Index_MIN ==== 399380\n",
      "QUANTAXIS>> The 146 of Total 364\n",
      "QUANTAXIS>> DOWNLOAD PROGRESS 40.1% \n",
      "QUANTAXIS>> ##JOB05 Now Saving Index_MIN ==== 399381\n",
      "QUANTAXIS>> The 147 of Total 364\n",
      "QUANTAXIS>> DOWNLOAD PROGRESS 40.3% \n",
      "QUANTAXIS>> ##JOB05 Now Saving Index_MIN ==== 399382\n",
      "QUANTAXIS>> The 148 of Total 364\n",
      "QUANTAXIS>> DOWNLOAD PROGRESS 40.6% \n",
      "QUANTAXIS>> ##JOB05 Now Saving Index_MIN ==== 399383\n",
      "QUANTAXIS>> The 149 of Total 364\n",
      "QUANTAXIS>> DOWNLOAD PROGRESS 40.9% \n",
      "QUANTAXIS>> ##JOB05 Now Saving Index_MIN ==== 399384\n",
      "QUANTAXIS>> The 150 of Total 364\n",
      "QUANTAXIS>> DOWNLOAD PROGRESS 41.2% \n",
      "QUANTAXIS>> ##JOB05 Now Saving Index_MIN ==== 399385\n",
      "QUANTAXIS>> The 151 of Total 364\n",
      "QUANTAXIS>> DOWNLOAD PROGRESS 41.4% \n",
      "QUANTAXIS>> ##JOB05 Now Saving Index_MIN ==== 399386\n",
      "QUANTAXIS>> The 152 of Total 364\n",
      "QUANTAXIS>> DOWNLOAD PROGRESS 41.7% \n",
      "QUANTAXIS>> ##JOB05 Now Saving Index_MIN ==== 399387\n",
      "QUANTAXIS>> The 153 of Total 364\n",
      "QUANTAXIS>> DOWNLOAD PROGRESS 42.0% \n",
      "QUANTAXIS>> ##JOB05 Now Saving Index_MIN ==== 399388\n",
      "QUANTAXIS>> The 154 of Total 364\n",
      "QUANTAXIS>> DOWNLOAD PROGRESS 42.3% \n",
      "QUANTAXIS>> ##JOB05 Now Saving Index_MIN ==== 399389\n",
      "QUANTAXIS>> The 155 of Total 364\n",
      "QUANTAXIS>> DOWNLOAD PROGRESS 42.5% \n",
      "QUANTAXIS>> ##JOB05 Now Saving Index_MIN ==== 399390\n",
      "QUANTAXIS>> The 156 of Total 364\n",
      "QUANTAXIS>> DOWNLOAD PROGRESS 42.8% \n",
      "QUANTAXIS>> ##JOB05 Now Saving Index_MIN ==== 399391\n",
      "QUANTAXIS>> The 157 of Total 364\n",
      "QUANTAXIS>> DOWNLOAD PROGRESS 43.1% \n",
      "QUANTAXIS>> ##JOB05 Now Saving Index_MIN ==== 399392\n",
      "QUANTAXIS>> The 158 of Total 364\n",
      "QUANTAXIS>> DOWNLOAD PROGRESS 43.4% \n",
      "QUANTAXIS>> ##JOB05 Now Saving Index_MIN ==== 399393\n",
      "QUANTAXIS>> The 159 of Total 364\n",
      "QUANTAXIS>> DOWNLOAD PROGRESS 43.6% \n",
      "QUANTAXIS>> ##JOB05 Now Saving Index_MIN ==== 399394\n",
      "QUANTAXIS>> The 160 of Total 364\n",
      "QUANTAXIS>> DOWNLOAD PROGRESS 43.9% \n",
      "QUANTAXIS>> ##JOB05 Now Saving Index_MIN ==== 399395\n",
      "QUANTAXIS>> The 161 of Total 364\n",
      "QUANTAXIS>> DOWNLOAD PROGRESS 44.2% \n",
      "QUANTAXIS>> ##JOB05 Now Saving Index_MIN ==== 399396\n",
      "QUANTAXIS>> The 162 of Total 364\n",
      "QUANTAXIS>> DOWNLOAD PROGRESS 44.5% \n",
      "QUANTAXIS>> ##JOB05 Now Saving Index_MIN ==== 399397\n",
      "QUANTAXIS>> The 163 of Total 364\n",
      "QUANTAXIS>> DOWNLOAD PROGRESS 44.7% \n",
      "QUANTAXIS>> ##JOB05 Now Saving Index_MIN ==== 399398\n",
      "QUANTAXIS>> The 164 of Total 364\n",
      "QUANTAXIS>> DOWNLOAD PROGRESS 45.0% \n",
      "QUANTAXIS>> ##JOB05 Now Saving Index_MIN ==== 399399\n",
      "QUANTAXIS>> The 165 of Total 364\n",
      "QUANTAXIS>> DOWNLOAD PROGRESS 45.3% \n",
      "QUANTAXIS>> ##JOB05 Now Saving Index_MIN ==== 399400\n",
      "QUANTAXIS>> The 166 of Total 364\n",
      "QUANTAXIS>> DOWNLOAD PROGRESS 45.6% \n",
      "QUANTAXIS>> ##JOB05 Now Saving Index_MIN ==== 399401\n",
      "QUANTAXIS>> The 167 of Total 364\n",
      "QUANTAXIS>> DOWNLOAD PROGRESS 45.8% \n",
      "QUANTAXIS>> ##JOB05 Now Saving Index_MIN ==== 399402\n",
      "QUANTAXIS>> The 168 of Total 364\n",
      "QUANTAXIS>> DOWNLOAD PROGRESS 46.1% \n",
      "QUANTAXIS>> ##JOB05 Now Saving Index_MIN ==== 399403\n",
      "QUANTAXIS>> The 169 of Total 364\n",
      "QUANTAXIS>> DOWNLOAD PROGRESS 46.4% \n",
      "QUANTAXIS>> ##JOB05 Now Saving Index_MIN ==== 399404\n",
      "QUANTAXIS>> The 170 of Total 364\n",
      "QUANTAXIS>> DOWNLOAD PROGRESS 46.7% \n",
      "QUANTAXIS>> ##JOB05 Now Saving Index_MIN ==== 399405\n",
      "QUANTAXIS>> The 171 of Total 364\n",
      "QUANTAXIS>> DOWNLOAD PROGRESS 46.9% \n",
      "QUANTAXIS>> ##JOB05 Now Saving Index_MIN ==== 399406\n",
      "QUANTAXIS>> The 172 of Total 364\n",
      "QUANTAXIS>> DOWNLOAD PROGRESS 47.2% \n",
      "QUANTAXIS>> ##JOB05 Now Saving Index_MIN ==== 399407\n",
      "QUANTAXIS>> The 173 of Total 364\n",
      "QUANTAXIS>> DOWNLOAD PROGRESS 47.5% \n",
      "QUANTAXIS>> ##JOB05 Now Saving Index_MIN ==== 399408\n",
      "QUANTAXIS>> The 174 of Total 364\n",
      "QUANTAXIS>> DOWNLOAD PROGRESS 47.8% \n",
      "QUANTAXIS>> ##JOB05 Now Saving Index_MIN ==== 399409\n",
      "QUANTAXIS>> The 175 of Total 364\n",
      "QUANTAXIS>> DOWNLOAD PROGRESS 48.0% \n",
      "QUANTAXIS>> ##JOB05 Now Saving Index_MIN ==== 399410\n",
      "QUANTAXIS>> The 176 of Total 364\n",
      "QUANTAXIS>> DOWNLOAD PROGRESS 48.3% \n",
      "QUANTAXIS>> ##JOB05 Now Saving Index_MIN ==== 399411\n",
      "QUANTAXIS>> The 177 of Total 364\n",
      "QUANTAXIS>> DOWNLOAD PROGRESS 48.6% \n",
      "QUANTAXIS>> ##JOB05 Now Saving Index_MIN ==== 399412\n",
      "QUANTAXIS>> The 178 of Total 364\n",
      "QUANTAXIS>> DOWNLOAD PROGRESS 48.9% \n",
      "QUANTAXIS>> ##JOB05 Now Saving Index_MIN ==== 399413\n",
      "QUANTAXIS>> The 179 of Total 364\n",
      "QUANTAXIS>> DOWNLOAD PROGRESS 49.1% \n",
      "QUANTAXIS>> ##JOB05 Now Saving Index_MIN ==== 399415\n",
      "QUANTAXIS>> The 180 of Total 364\n",
      "QUANTAXIS>> DOWNLOAD PROGRESS 49.4% \n",
      "QUANTAXIS>> ##JOB05 Now Saving Index_MIN ==== 399416\n",
      "QUANTAXIS>> The 181 of Total 364\n",
      "QUANTAXIS>> DOWNLOAD PROGRESS 49.7% \n",
      "QUANTAXIS>> ##JOB05 Now Saving Index_MIN ==== 399417\n",
      "QUANTAXIS>> The 182 of Total 364\n",
      "QUANTAXIS>> DOWNLOAD PROGRESS 50.0% \n",
      "QUANTAXIS>> ##JOB05 Now Saving Index_MIN ==== 399418\n",
      "QUANTAXIS>> The 183 of Total 364\n",
      "QUANTAXIS>> DOWNLOAD PROGRESS 50.2% \n",
      "QUANTAXIS>> ##JOB05 Now Saving Index_MIN ==== 399419\n",
      "QUANTAXIS>> The 184 of Total 364\n",
      "QUANTAXIS>> DOWNLOAD PROGRESS 50.5% \n",
      "QUANTAXIS>> ##JOB05 Now Saving Index_MIN ==== 399420\n",
      "QUANTAXIS>> The 185 of Total 364\n",
      "QUANTAXIS>> DOWNLOAD PROGRESS 50.8% \n",
      "QUANTAXIS>> ##JOB05 Now Saving Index_MIN ==== 399422\n",
      "QUANTAXIS>> The 186 of Total 364\n",
      "QUANTAXIS>> DOWNLOAD PROGRESS 51.0% \n",
      "QUANTAXIS>> ##JOB05 Now Saving Index_MIN ==== 399423\n",
      "QUANTAXIS>> The 187 of Total 364\n",
      "QUANTAXIS>> DOWNLOAD PROGRESS 51.3% \n",
      "QUANTAXIS>> ##JOB05 Now Saving Index_MIN ==== 399427\n",
      "QUANTAXIS>> The 188 of Total 364\n",
      "QUANTAXIS>> DOWNLOAD PROGRESS 51.6% \n",
      "QUANTAXIS>> ##JOB05 Now Saving Index_MIN ==== 399428\n",
      "QUANTAXIS>> The 189 of Total 364\n",
      "QUANTAXIS>> DOWNLOAD PROGRESS 51.9% \n",
      "QUANTAXIS>> ##JOB05 Now Saving Index_MIN ==== 399429\n",
      "QUANTAXIS>> The 190 of Total 364\n",
      "QUANTAXIS>> DOWNLOAD PROGRESS 52.1% \n",
      "QUANTAXIS>> ##JOB05 Now Saving Index_MIN ==== 399431\n",
      "QUANTAXIS>> The 191 of Total 364\n",
      "QUANTAXIS>> DOWNLOAD PROGRESS 52.4% \n",
      "QUANTAXIS>> ##JOB05 Now Saving Index_MIN ==== 399432\n",
      "QUANTAXIS>> The 192 of Total 364\n",
      "QUANTAXIS>> DOWNLOAD PROGRESS 52.7% \n",
      "QUANTAXIS>> ##JOB05 Now Saving Index_MIN ==== 399433\n",
      "QUANTAXIS>> The 193 of Total 364\n",
      "QUANTAXIS>> DOWNLOAD PROGRESS 53.0% \n",
      "QUANTAXIS>> ##JOB05 Now Saving Index_MIN ==== 399434\n",
      "QUANTAXIS>> The 194 of Total 364\n",
      "QUANTAXIS>> DOWNLOAD PROGRESS 53.2% \n",
      "QUANTAXIS>> ##JOB05 Now Saving Index_MIN ==== 399435\n",
      "QUANTAXIS>> The 195 of Total 364\n",
      "QUANTAXIS>> DOWNLOAD PROGRESS 53.5% \n",
      "QUANTAXIS>> ##JOB05 Now Saving Index_MIN ==== 399436\n",
      "QUANTAXIS>> The 196 of Total 364\n",
      "QUANTAXIS>> DOWNLOAD PROGRESS 53.8% \n",
      "QUANTAXIS>> ##JOB05 Now Saving Index_MIN ==== 399437\n",
      "QUANTAXIS>> The 197 of Total 364\n",
      "QUANTAXIS>> DOWNLOAD PROGRESS 54.1% \n",
      "QUANTAXIS>> ##JOB05 Now Saving Index_MIN ==== 399438\n",
      "QUANTAXIS>> The 198 of Total 364\n",
      "QUANTAXIS>> DOWNLOAD PROGRESS 54.3% \n",
      "QUANTAXIS>> ##JOB05 Now Saving Index_MIN ==== 399439\n"
     ]
    },
    {
     "name": "stderr",
     "output_type": "stream",
     "text": [
      "QUANTAXIS>> The 199 of Total 364\n",
      "QUANTAXIS>> DOWNLOAD PROGRESS 54.6% \n",
      "QUANTAXIS>> ##JOB05 Now Saving Index_MIN ==== 399440\n",
      "QUANTAXIS>> ##JOB05 Now Saving Index_MIN ==== 399441\n",
      "QUANTAXIS>> ##JOB05 Now Saving Index_MIN ==== 399481\n",
      "QUANTAXIS>> ##JOB05 Now Saving Index_MIN ==== 399550\n",
      "QUANTAXIS>> ##JOB05 Now Saving Index_MIN ==== 399551\n",
      "QUANTAXIS>> ##JOB05 Now Saving Index_MIN ==== 399552\n",
      "QUANTAXIS>> ##JOB05 Now Saving Index_MIN ==== 399553\n",
      "QUANTAXIS>> ##JOB05 Now Saving Index_MIN ==== 399554\n"
     ]
    },
    {
     "ename": "KeyboardInterrupt",
     "evalue": "",
     "output_type": "error",
     "traceback": [
      "\u001b[0;31m---------------------------------------------------------------------------\u001b[0m",
      "\u001b[0;31mKeyboardInterrupt\u001b[0m                         Traceback (most recent call last)",
      "Cell \u001b[0;32mIn[2], line 1\u001b[0m\n\u001b[0;32m----> 1\u001b[0m \u001b[43mQA_SU_save_index_min\u001b[49m\u001b[43m(\u001b[49m\u001b[38;5;124;43m'\u001b[39;49m\u001b[38;5;124;43mtdx\u001b[39;49m\u001b[38;5;124;43m'\u001b[39;49m\u001b[43m)\u001b[49m\n",
      "File \u001b[0;32m/liubinxu/liubinxu/miniconda3_py38/lib/python3.8/site-packages/QUANTAXIS/QASU/main.py:442\u001b[0m, in \u001b[0;36mQA_SU_save_index_min\u001b[0;34m(engine, client)\u001b[0m\n\u001b[1;32m    432\u001b[0m \u001b[38;5;250m\u001b[39m\u001b[38;5;124;03m\"\"\"save index_min\u001b[39;00m\n\u001b[1;32m    433\u001b[0m \n\u001b[1;32m    434\u001b[0m \u001b[38;5;124;03mArguments:\u001b[39;00m\n\u001b[0;32m   (...)\u001b[0m\n\u001b[1;32m    438\u001b[0m \u001b[38;5;124;03m    client {[type]} -- [description] (default: {DATABASE})\u001b[39;00m\n\u001b[1;32m    439\u001b[0m \u001b[38;5;124;03m\"\"\"\u001b[39;00m\n\u001b[1;32m    441\u001b[0m engine \u001b[38;5;241m=\u001b[39m select_save_engine(engine)\n\u001b[0;32m--> 442\u001b[0m \u001b[43mengine\u001b[49m\u001b[38;5;241;43m.\u001b[39;49m\u001b[43mQA_SU_save_index_min\u001b[49m\u001b[43m(\u001b[49m\u001b[43mclient\u001b[49m\u001b[38;5;241;43m=\u001b[39;49m\u001b[43mclient\u001b[49m\u001b[43m)\u001b[49m\n",
      "File \u001b[0;32m/liubinxu/liubinxu/miniconda3_py38/lib/python3.8/site-packages/QUANTAXIS/QASU/save_tdx.py:1358\u001b[0m, in \u001b[0;36mQA_SU_save_index_min\u001b[0;34m(client, ui_log, ui_progress)\u001b[0m\n\u001b[1;32m   1351\u001b[0m res \u001b[38;5;241m=\u001b[39m {\n\u001b[1;32m   1352\u001b[0m     executor\u001b[38;5;241m.\u001b[39msubmit(__saving_work,\n\u001b[1;32m   1353\u001b[0m                     __index_list\u001b[38;5;241m.\u001b[39mindex[i_][\u001b[38;5;241m0\u001b[39m],\n\u001b[1;32m   1354\u001b[0m                     coll)\n\u001b[1;32m   1355\u001b[0m     \u001b[38;5;28;01mfor\u001b[39;00m i_ \u001b[38;5;129;01min\u001b[39;00m \u001b[38;5;28mrange\u001b[39m(\u001b[38;5;28mlen\u001b[39m(__index_list))\n\u001b[1;32m   1356\u001b[0m }  \u001b[38;5;66;03m# multi index ./.\u001b[39;00m\n\u001b[1;32m   1357\u001b[0m count \u001b[38;5;241m=\u001b[39m \u001b[38;5;241m0\u001b[39m\n\u001b[0;32m-> 1358\u001b[0m \u001b[38;5;28;01mfor\u001b[39;00m i_ \u001b[38;5;129;01min\u001b[39;00m concurrent\u001b[38;5;241m.\u001b[39mfutures\u001b[38;5;241m.\u001b[39mas_completed(res):\n\u001b[1;32m   1359\u001b[0m     strLogProgress \u001b[38;5;241m=\u001b[39m \u001b[38;5;124m'\u001b[39m\u001b[38;5;124mDOWNLOAD PROGRESS \u001b[39m\u001b[38;5;132;01m{}\u001b[39;00m\u001b[38;5;124m \u001b[39m\u001b[38;5;124m'\u001b[39m\u001b[38;5;241m.\u001b[39mformat(\n\u001b[1;32m   1360\u001b[0m         \u001b[38;5;28mstr\u001b[39m(\u001b[38;5;28mfloat\u001b[39m(count \u001b[38;5;241m/\u001b[39m \u001b[38;5;28mlen\u001b[39m(__index_list) \u001b[38;5;241m*\u001b[39m \u001b[38;5;241m100\u001b[39m))[\u001b[38;5;241m0\u001b[39m:\u001b[38;5;241m4\u001b[39m] \u001b[38;5;241m+\u001b[39m \u001b[38;5;124m'\u001b[39m\u001b[38;5;124m%\u001b[39m\u001b[38;5;124m'\u001b[39m\n\u001b[1;32m   1361\u001b[0m     )\n\u001b[1;32m   1362\u001b[0m     intLogProgress \u001b[38;5;241m=\u001b[39m \u001b[38;5;28mint\u001b[39m(\u001b[38;5;28mfloat\u001b[39m(count \u001b[38;5;241m/\u001b[39m \u001b[38;5;28mlen\u001b[39m(__index_list) \u001b[38;5;241m*\u001b[39m \u001b[38;5;241m10000.0\u001b[39m))\n",
      "File \u001b[0;32m/liubinxu/liubinxu/miniconda3_py38/lib/python3.8/concurrent/futures/_base.py:244\u001b[0m, in \u001b[0;36mas_completed\u001b[0;34m(fs, timeout)\u001b[0m\n\u001b[1;32m    239\u001b[0m     \u001b[38;5;28;01mif\u001b[39;00m wait_timeout \u001b[38;5;241m<\u001b[39m \u001b[38;5;241m0\u001b[39m:\n\u001b[1;32m    240\u001b[0m         \u001b[38;5;28;01mraise\u001b[39;00m \u001b[38;5;167;01mTimeoutError\u001b[39;00m(\n\u001b[1;32m    241\u001b[0m                 \u001b[38;5;124m'\u001b[39m\u001b[38;5;132;01m%d\u001b[39;00m\u001b[38;5;124m (of \u001b[39m\u001b[38;5;132;01m%d\u001b[39;00m\u001b[38;5;124m) futures unfinished\u001b[39m\u001b[38;5;124m'\u001b[39m \u001b[38;5;241m%\u001b[39m (\n\u001b[1;32m    242\u001b[0m                 \u001b[38;5;28mlen\u001b[39m(pending), total_futures))\n\u001b[0;32m--> 244\u001b[0m \u001b[43mwaiter\u001b[49m\u001b[38;5;241;43m.\u001b[39;49m\u001b[43mevent\u001b[49m\u001b[38;5;241;43m.\u001b[39;49m\u001b[43mwait\u001b[49m\u001b[43m(\u001b[49m\u001b[43mwait_timeout\u001b[49m\u001b[43m)\u001b[49m\n\u001b[1;32m    246\u001b[0m \u001b[38;5;28;01mwith\u001b[39;00m waiter\u001b[38;5;241m.\u001b[39mlock:\n\u001b[1;32m    247\u001b[0m     finished \u001b[38;5;241m=\u001b[39m waiter\u001b[38;5;241m.\u001b[39mfinished_futures\n",
      "File \u001b[0;32m/liubinxu/liubinxu/miniconda3_py38/lib/python3.8/threading.py:558\u001b[0m, in \u001b[0;36mEvent.wait\u001b[0;34m(self, timeout)\u001b[0m\n\u001b[1;32m    556\u001b[0m signaled \u001b[38;5;241m=\u001b[39m \u001b[38;5;28mself\u001b[39m\u001b[38;5;241m.\u001b[39m_flag\n\u001b[1;32m    557\u001b[0m \u001b[38;5;28;01mif\u001b[39;00m \u001b[38;5;129;01mnot\u001b[39;00m signaled:\n\u001b[0;32m--> 558\u001b[0m     signaled \u001b[38;5;241m=\u001b[39m \u001b[38;5;28;43mself\u001b[39;49m\u001b[38;5;241;43m.\u001b[39;49m\u001b[43m_cond\u001b[49m\u001b[38;5;241;43m.\u001b[39;49m\u001b[43mwait\u001b[49m\u001b[43m(\u001b[49m\u001b[43mtimeout\u001b[49m\u001b[43m)\u001b[49m\n\u001b[1;32m    559\u001b[0m \u001b[38;5;28;01mreturn\u001b[39;00m signaled\n",
      "File \u001b[0;32m/liubinxu/liubinxu/miniconda3_py38/lib/python3.8/threading.py:302\u001b[0m, in \u001b[0;36mCondition.wait\u001b[0;34m(self, timeout)\u001b[0m\n\u001b[1;32m    300\u001b[0m \u001b[38;5;28;01mtry\u001b[39;00m:    \u001b[38;5;66;03m# restore state no matter what (e.g., KeyboardInterrupt)\u001b[39;00m\n\u001b[1;32m    301\u001b[0m     \u001b[38;5;28;01mif\u001b[39;00m timeout \u001b[38;5;129;01mis\u001b[39;00m \u001b[38;5;28;01mNone\u001b[39;00m:\n\u001b[0;32m--> 302\u001b[0m         \u001b[43mwaiter\u001b[49m\u001b[38;5;241;43m.\u001b[39;49m\u001b[43macquire\u001b[49m\u001b[43m(\u001b[49m\u001b[43m)\u001b[49m\n\u001b[1;32m    303\u001b[0m         gotit \u001b[38;5;241m=\u001b[39m \u001b[38;5;28;01mTrue\u001b[39;00m\n\u001b[1;32m    304\u001b[0m     \u001b[38;5;28;01melse\u001b[39;00m:\n",
      "\u001b[0;31mKeyboardInterrupt\u001b[0m: "
     ]
    }
   ],
   "source": [
    "QA_SU_save_index_min('tdx')"
   ]
  },
  {
   "cell_type": "code",
   "execution_count": 2,
   "id": "58127bef",
   "metadata": {},
   "outputs": [
    {
     "name": "stderr",
     "output_type": "stream",
     "text": [
      "QUANTAXIS>> Selecting the Best Server IP of TDX\n"
     ]
    },
    {
     "name": "stdout",
     "output_type": "stream",
     "text": [
      "USING DEFAULT STOCK IP\n",
      "BAD RESPONSE 119.147.86.171\n",
      "DEFAULT FUTURE IP {'stock': {'ip': '119.147.212.81', 'port': 7709}, 'future': {'ip': '119.147.86.171', 'port': 7727, 'name': '扩展市场深圳主站'}} is BAD, RETESTING\n",
      "BAD RESPONSE 120.24.0.77\n",
      "BAD RESPONSE 119.147.86.171\n",
      "Progress: 12.50%\n",
      "Progress: 25.00%\n",
      "BAD RESPONSE 124.74.236.94BAD RESPONSE 14.215.128.18BAD RESPONSE 139.219.103.190\n",
      "\n",
      "\n",
      "BAD RESPONSE 202.103.36.71\n",
      "BAD RESPONSE 47.92.127.181\n",
      "BAD RESPONSE 59.175.238.38\n",
      "BAD RESPONSE 119.147.86.171\n",
      "BAD RESPONSE 61.152.107.141\n",
      "BAD RESPONSE 61.152.107.171\n",
      "Progress: 37.50%\n",
      "Progress: 50.00%\n",
      "Progress: 62.50%\n",
      "Progress: 75.00%\n",
      "Progress: 87.50%\n",
      "Progress: 100.00%\n"
     ]
    },
    {
     "name": "stderr",
     "output_type": "stream",
     "text": [
      "QUANTAXIS>> === The BEST SERVER ===\n",
      " stock_ip 119.147.212.81 future_ip 119.147.86.171\n"
     ]
    },
    {
     "name": "stdout",
     "output_type": "stream",
     "text": [
      "saving ip list to future cache 4\n"
     ]
    },
    {
     "name": "stderr",
     "output_type": "stream",
     "text": [
      "QUANTAXIS>> ##JOB07 Now Saving ETF_MIN ==== 159001\n",
      "QUANTAXIS>> ##JOB07 Now Saving ETF_MIN ==== 159003\n",
      "QUANTAXIS>> ##JOB07 Now Saving ETF_MIN ==== 159005\n",
      "QUANTAXIS>> ##JOB07 Now Saving ETF_MIN ==== 159601\n"
     ]
    },
    {
     "name": "stdout",
     "output_type": "stream",
     "text": [
      "**** 879\n"
     ]
    },
    {
     "name": "stderr",
     "output_type": "stream",
     "text": [
      "QUANTAXIS>> ##JOB07 Now Saving ETF_MIN ==== 159602\n",
      "QUANTAXIS>> The 1 of Total 879\n",
      "QUANTAXIS>> DOWNLOAD PROGRESS 0.11% \n",
      "QUANTAXIS>> ##JOB07 Now Saving ETF_MIN ==== 159603\n",
      "QUANTAXIS>> The 2 of Total 879\n",
      "QUANTAXIS>> DOWNLOAD PROGRESS 0.22% \n",
      "QUANTAXIS>> ##JOB07 Now Saving ETF_MIN ==== 159605\n",
      "QUANTAXIS>> The 3 of Total 879\n",
      "QUANTAXIS>> DOWNLOAD PROGRESS 0.34% \n",
      "QUANTAXIS>> ##JOB07 Now Saving ETF_MIN ==== 159606\n",
      "QUANTAXIS>> The 4 of Total 879\n",
      "QUANTAXIS>> DOWNLOAD PROGRESS 0.45% \n",
      "QUANTAXIS>> ##JOB07 Now Saving ETF_MIN ==== 159607\n",
      "QUANTAXIS>> The 5 of Total 879\n",
      "QUANTAXIS>> DOWNLOAD PROGRESS 0.56% \n",
      "QUANTAXIS>> ##JOB07 Now Saving ETF_MIN ==== 159608\n",
      "QUANTAXIS>> The 6 of Total 879\n",
      "QUANTAXIS>> DOWNLOAD PROGRESS 0.68% \n",
      "QUANTAXIS>> ##JOB07 Now Saving ETF_MIN ==== 159609\n",
      "QUANTAXIS>> The 7 of Total 879\n",
      "QUANTAXIS>> DOWNLOAD PROGRESS 0.79% \n",
      "QUANTAXIS>> ##JOB07.1 Now Saving 159605 from 2023-03-17 15:00:00 to 2021-12-31 15:00:00 ==5min \n",
      "QUANTAXIS>> ##JOB07 Now Saving ETF_MIN ==== 159610\n",
      "QUANTAXIS>> The 8 of Total 879\n",
      "QUANTAXIS>> DOWNLOAD PROGRESS 0.91% \n",
      "QUANTAXIS>> ##JOB07 Now Saving ETF_MIN ==== 159611\n",
      "QUANTAXIS>> The 9 of Total 879\n",
      "QUANTAXIS>> DOWNLOAD PROGRESS 1.02% \n",
      "QUANTAXIS>> ##JOB07 Now Saving ETF_MIN ==== 159612\n",
      "QUANTAXIS>> The 10 of Total 879\n",
      "QUANTAXIS>> DOWNLOAD PROGRESS 1.13% \n",
      "QUANTAXIS>> ##JOB07 Now Saving ETF_MIN ==== 159613\n",
      "QUANTAXIS>> The 11 of Total 879\n",
      "QUANTAXIS>> DOWNLOAD PROGRESS 1.25% \n",
      "QUANTAXIS>> ##JOB07.1 Now Saving 159611 from 2023-03-17 15:00:00 to 2021-12-31 15:00:00 ==5min \n",
      "QUANTAXIS>> ##JOB07 Now Saving ETF_MIN ==== 159615\n",
      "QUANTAXIS>> The 12 of Total 879\n",
      "QUANTAXIS>> DOWNLOAD PROGRESS 1.36% \n",
      "QUANTAXIS>> ##JOB07 Now Saving ETF_MIN ==== 159616\n",
      "QUANTAXIS>> The 13 of Total 879\n",
      "QUANTAXIS>> DOWNLOAD PROGRESS 1.47% \n",
      "QUANTAXIS>> ##JOB07 Now Saving ETF_MIN ==== 159617\n",
      "QUANTAXIS>> The 14 of Total 879\n",
      "QUANTAXIS>> DOWNLOAD PROGRESS 1.59% \n",
      "QUANTAXIS>> ##JOB07 Now Saving ETF_MIN ==== 159618\n",
      "QUANTAXIS>> The 15 of Total 879\n",
      "QUANTAXIS>> DOWNLOAD PROGRESS 1.70% \n",
      "QUANTAXIS>> ##JOB07 Now Saving ETF_MIN ==== 159619\n",
      "QUANTAXIS>> The 16 of Total 879\n",
      "QUANTAXIS>> DOWNLOAD PROGRESS 1.82% \n",
      "QUANTAXIS>> ##JOB07 Now Saving ETF_MIN ==== 159620\n",
      "QUANTAXIS>> The 17 of Total 879\n",
      "QUANTAXIS>> DOWNLOAD PROGRESS 1.93% \n",
      "QUANTAXIS>> ##JOB07 Now Saving ETF_MIN ==== 159621\n",
      "QUANTAXIS>> The 18 of Total 879\n",
      "QUANTAXIS>> DOWNLOAD PROGRESS 2.04% \n",
      "QUANTAXIS>> ##JOB07 Now Saving ETF_MIN ==== 159623\n",
      "QUANTAXIS>> The 19 of Total 879\n",
      "QUANTAXIS>> DOWNLOAD PROGRESS 2.16% \n",
      "QUANTAXIS>> ##JOB07 Now Saving ETF_MIN ==== 159625\n",
      "QUANTAXIS>> The 20 of Total 879\n",
      "QUANTAXIS>> DOWNLOAD PROGRESS 2.27% \n",
      "QUANTAXIS>> ##JOB07 Now Saving ETF_MIN ==== 159627\n",
      "QUANTAXIS>> The 21 of Total 879\n",
      "QUANTAXIS>> DOWNLOAD PROGRESS 2.38% \n",
      "/liubinxu/liubinxu/miniconda3_py38/lib/python3.8/site-packages/QUANTAXIS/QAUtil/QATransform.py:55: SettingWithCopyWarning: \n",
      "A value is trying to be set on a copy of a slice from a DataFrame.\n",
      "Try using .loc[row_indexer,col_indexer] = value instead\n",
      "\n",
      "See the caveats in the documentation: https://pandas.pydata.org/pandas-docs/stable/user_guide/indexing.html#returning-a-view-versus-a-copy\n",
      "  data.datetime = data.datetime.apply(str)\n",
      "/liubinxu/liubinxu/miniconda3_py38/lib/python3.8/site-packages/QUANTAXIS/QAUtil/QATransform.py:57: SettingWithCopyWarning: \n",
      "A value is trying to be set on a copy of a slice from a DataFrame.\n",
      "Try using .loc[row_indexer,col_indexer] = value instead\n",
      "\n",
      "See the caveats in the documentation: https://pandas.pydata.org/pandas-docs/stable/user_guide/indexing.html#returning-a-view-versus-a-copy\n",
      "  data.date = data.date.apply(str)\n",
      "QUANTAXIS>> ##JOB07 Now Saving ETF_MIN ==== 159628\n",
      "QUANTAXIS>> The 22 of Total 879\n",
      "QUANTAXIS>> DOWNLOAD PROGRESS 2.50% \n",
      "QUANTAXIS>> ##JOB07 Now Saving ETF_MIN ==== 159629\n",
      "QUANTAXIS>> The 23 of Total 879\n",
      "QUANTAXIS>> DOWNLOAD PROGRESS 2.61% \n"
     ]
    },
    {
     "name": "stdout",
     "output_type": "stream",
     "text": [
      "save 159605 1393\n"
     ]
    },
    {
     "name": "stderr",
     "output_type": "stream",
     "text": [
      "QUANTAXIS>> ##JOB07 Now Saving ETF_MIN ==== 159630\n",
      "QUANTAXIS>> The 24 of Total 879\n",
      "QUANTAXIS>> DOWNLOAD PROGRESS 2.73% \n",
      "QUANTAXIS>> ##JOB07 Now Saving ETF_MIN ==== 159631\n",
      "QUANTAXIS>> The 25 of Total 879\n",
      "QUANTAXIS>> DOWNLOAD PROGRESS 2.84% \n",
      "QUANTAXIS>> ##JOB07 Now Saving ETF_MIN ==== 159632\n",
      "QUANTAXIS>> The 26 of Total 879\n",
      "QUANTAXIS>> DOWNLOAD PROGRESS 2.95% \n",
      "QUANTAXIS>> ##JOB07 Now Saving ETF_MIN ==== 159633\n",
      "QUANTAXIS>> The 27 of Total 879\n",
      "/liubinxu/liubinxu/miniconda3_py38/lib/python3.8/site-packages/QUANTAXIS/QAUtil/QATransform.py:55: SettingWithCopyWarning: \n",
      "A value is trying to be set on a copy of a slice from a DataFrame.\n",
      "Try using .loc[row_indexer,col_indexer] = value instead\n",
      "\n",
      "See the caveats in the documentation: https://pandas.pydata.org/pandas-docs/stable/user_guide/indexing.html#returning-a-view-versus-a-copy\n",
      "  data.datetime = data.datetime.apply(str)\n",
      "/liubinxu/liubinxu/miniconda3_py38/lib/python3.8/site-packages/QUANTAXIS/QAUtil/QATransform.py:57: SettingWithCopyWarning: \n",
      "A value is trying to be set on a copy of a slice from a DataFrame.\n",
      "Try using .loc[row_indexer,col_indexer] = value instead\n",
      "\n",
      "See the caveats in the documentation: https://pandas.pydata.org/pandas-docs/stable/user_guide/indexing.html#returning-a-view-versus-a-copy\n",
      "  data.date = data.date.apply(str)\n",
      "QUANTAXIS>> DOWNLOAD PROGRESS 3.07% \n",
      "QUANTAXIS>> ##JOB07 Now Saving ETF_MIN ==== 159635\n",
      "QUANTAXIS>> The 28 of Total 879\n",
      "QUANTAXIS>> DOWNLOAD PROGRESS 3.18% \n"
     ]
    },
    {
     "name": "stdout",
     "output_type": "stream",
     "text": [
      "save 159611 1393\n"
     ]
    },
    {
     "name": "stderr",
     "output_type": "stream",
     "text": [
      "QUANTAXIS>> ##JOB07 Now Saving ETF_MIN ==== 159636\n",
      "QUANTAXIS>> The 29 of Total 879\n",
      "QUANTAXIS>> DOWNLOAD PROGRESS 3.29% \n",
      "QUANTAXIS>> ##JOB07 Now Saving ETF_MIN ==== 159637\n",
      "QUANTAXIS>> The 30 of Total 879\n",
      "QUANTAXIS>> DOWNLOAD PROGRESS 3.41% \n",
      "QUANTAXIS>> ##JOB07 Now Saving ETF_MIN ==== 159638\n",
      "QUANTAXIS>> The 31 of Total 879\n",
      "QUANTAXIS>> DOWNLOAD PROGRESS 3.52% \n",
      "QUANTAXIS>> ##JOB07 Now Saving ETF_MIN ==== 159639\n",
      "QUANTAXIS>> The 32 of Total 879\n",
      "QUANTAXIS>> DOWNLOAD PROGRESS 3.64% \n",
      "QUANTAXIS>> ##JOB07 Now Saving ETF_MIN ==== 159640\n",
      "QUANTAXIS>> The 33 of Total 879\n",
      "QUANTAXIS>> DOWNLOAD PROGRESS 3.75% \n",
      "QUANTAXIS>> ##JOB07 Now Saving ETF_MIN ==== 159641\n",
      "QUANTAXIS>> The 34 of Total 879\n",
      "QUANTAXIS>> DOWNLOAD PROGRESS 3.86% \n",
      "QUANTAXIS>> ##JOB07 Now Saving ETF_MIN ==== 159642\n",
      "QUANTAXIS>> The 35 of Total 879\n",
      "QUANTAXIS>> DOWNLOAD PROGRESS 3.98% \n",
      "QUANTAXIS>> ##JOB07 Now Saving ETF_MIN ==== 159643\n",
      "QUANTAXIS>> The 36 of Total 879\n",
      "QUANTAXIS>> DOWNLOAD PROGRESS 4.09% \n",
      "QUANTAXIS>> ##JOB07 Now Saving ETF_MIN ==== 159645\n",
      "QUANTAXIS>> The 37 of Total 879\n",
      "QUANTAXIS>> DOWNLOAD PROGRESS 4.20% \n",
      "QUANTAXIS>> ##JOB07 Now Saving ETF_MIN ==== 159646\n",
      "QUANTAXIS>> The 38 of Total 879\n",
      "QUANTAXIS>> DOWNLOAD PROGRESS 4.32% \n",
      "QUANTAXIS>> ##JOB07 Now Saving ETF_MIN ==== 159647\n",
      "QUANTAXIS>> The 39 of Total 879\n",
      "QUANTAXIS>> DOWNLOAD PROGRESS 4.43% \n",
      "QUANTAXIS>> ##JOB07 Now Saving ETF_MIN ==== 159649\n",
      "QUANTAXIS>> The 40 of Total 879\n",
      "QUANTAXIS>> DOWNLOAD PROGRESS 4.55% \n",
      "QUANTAXIS>> ##JOB07 Now Saving ETF_MIN ==== 159650\n",
      "QUANTAXIS>> The 41 of Total 879\n",
      "QUANTAXIS>> DOWNLOAD PROGRESS 4.66% \n",
      "QUANTAXIS>> ##JOB07 Now Saving ETF_MIN ==== 159651\n",
      "QUANTAXIS>> The 42 of Total 879\n",
      "QUANTAXIS>> DOWNLOAD PROGRESS 4.77% \n",
      "QUANTAXIS>> ##JOB07 Now Saving ETF_MIN ==== 159652\n",
      "QUANTAXIS>> The 43 of Total 879\n",
      "QUANTAXIS>> DOWNLOAD PROGRESS 4.89% \n",
      "QUANTAXIS>> ##JOB07 Now Saving ETF_MIN ==== 159653\n",
      "QUANTAXIS>> The 44 of Total 879\n",
      "QUANTAXIS>> DOWNLOAD PROGRESS 5.00% \n",
      "QUANTAXIS>> ##JOB07 Now Saving ETF_MIN ==== 159655\n",
      "QUANTAXIS>> The 45 of Total 879\n",
      "QUANTAXIS>> DOWNLOAD PROGRESS 5.11% \n",
      "QUANTAXIS>> ##JOB07 Now Saving ETF_MIN ==== 159656\n",
      "QUANTAXIS>> The 46 of Total 879\n",
      "QUANTAXIS>> DOWNLOAD PROGRESS 5.23% \n",
      "QUANTAXIS>> ##JOB07 Now Saving ETF_MIN ==== 159657\n",
      "QUANTAXIS>> The 47 of Total 879\n",
      "QUANTAXIS>> DOWNLOAD PROGRESS 5.34% \n",
      "QUANTAXIS>> ##JOB07 Now Saving ETF_MIN ==== 159658\n",
      "QUANTAXIS>> The 48 of Total 879\n",
      "QUANTAXIS>> DOWNLOAD PROGRESS 5.46% \n",
      "QUANTAXIS>> ##JOB07 Now Saving ETF_MIN ==== 159659\n",
      "QUANTAXIS>> The 49 of Total 879\n",
      "QUANTAXIS>> DOWNLOAD PROGRESS 5.57% \n",
      "QUANTAXIS>> ##JOB07 Now Saving ETF_MIN ==== 159660\n",
      "QUANTAXIS>> The 50 of Total 879\n",
      "QUANTAXIS>> DOWNLOAD PROGRESS 5.68% \n",
      "QUANTAXIS>> ##JOB07 Now Saving ETF_MIN ==== 159662\n",
      "QUANTAXIS>> The 51 of Total 879\n",
      "QUANTAXIS>> DOWNLOAD PROGRESS 5.80% \n",
      "QUANTAXIS>> ##JOB07 Now Saving ETF_MIN ==== 159663\n",
      "QUANTAXIS>> The 52 of Total 879\n",
      "QUANTAXIS>> DOWNLOAD PROGRESS 5.91% \n",
      "QUANTAXIS>> ##JOB07 Now Saving ETF_MIN ==== 159665\n",
      "QUANTAXIS>> The 53 of Total 879\n",
      "QUANTAXIS>> DOWNLOAD PROGRESS 6.02% \n",
      "QUANTAXIS>> ##JOB07 Now Saving ETF_MIN ==== 159666\n",
      "QUANTAXIS>> The 54 of Total 879\n",
      "QUANTAXIS>> DOWNLOAD PROGRESS 6.14% \n",
      "QUANTAXIS>> ##JOB07 Now Saving ETF_MIN ==== 159667\n",
      "QUANTAXIS>> The 55 of Total 879\n",
      "QUANTAXIS>> DOWNLOAD PROGRESS 6.25% \n",
      "QUANTAXIS>> ##JOB07 Now Saving ETF_MIN ==== 159669\n",
      "QUANTAXIS>> The 56 of Total 879\n",
      "QUANTAXIS>> DOWNLOAD PROGRESS 6.37% \n",
      "QUANTAXIS>> ##JOB07 Now Saving ETF_MIN ==== 159671\n",
      "QUANTAXIS>> The 57 of Total 879\n",
      "QUANTAXIS>> DOWNLOAD PROGRESS 6.48% \n",
      "QUANTAXIS>> ##JOB07 Now Saving ETF_MIN ==== 159672\n",
      "QUANTAXIS>> The 58 of Total 879\n",
      "QUANTAXIS>> DOWNLOAD PROGRESS 6.59% \n",
      "QUANTAXIS>> ##JOB07 Now Saving ETF_MIN ==== 159673\n",
      "QUANTAXIS>> The 59 of Total 879\n",
      "QUANTAXIS>> DOWNLOAD PROGRESS 6.71% \n",
      "QUANTAXIS>> ##JOB07 Now Saving ETF_MIN ==== 159675\n",
      "QUANTAXIS>> The 60 of Total 879\n",
      "QUANTAXIS>> DOWNLOAD PROGRESS 6.82% \n",
      "QUANTAXIS>> ##JOB07 Now Saving ETF_MIN ==== 159676\n",
      "QUANTAXIS>> The 61 of Total 879\n",
      "QUANTAXIS>> DOWNLOAD PROGRESS 6.93% \n",
      "QUANTAXIS>> ##JOB07 Now Saving ETF_MIN ==== 159677\n",
      "QUANTAXIS>> The 62 of Total 879\n",
      "QUANTAXIS>> DOWNLOAD PROGRESS 7.05% \n",
      "QUANTAXIS>> ##JOB07 Now Saving ETF_MIN ==== 159678\n",
      "QUANTAXIS>> The 63 of Total 879\n",
      "QUANTAXIS>> DOWNLOAD PROGRESS 7.16% \n",
      "QUANTAXIS>> ##JOB07 Now Saving ETF_MIN ==== 159679\n",
      "QUANTAXIS>> The 64 of Total 879\n",
      "QUANTAXIS>> DOWNLOAD PROGRESS 7.28% \n",
      "QUANTAXIS>> ##JOB07 Now Saving ETF_MIN ==== 159680\n",
      "QUANTAXIS>> The 65 of Total 879\n",
      "QUANTAXIS>> DOWNLOAD PROGRESS 7.39% \n",
      "QUANTAXIS>> ##JOB07 Now Saving ETF_MIN ==== 159681\n",
      "QUANTAXIS>> The 66 of Total 879\n",
      "QUANTAXIS>> DOWNLOAD PROGRESS 7.50% \n",
      "QUANTAXIS>> ##JOB07 Now Saving ETF_MIN ==== 159682\n",
      "QUANTAXIS>> The 67 of Total 879\n",
      "QUANTAXIS>> DOWNLOAD PROGRESS 7.62% \n",
      "QUANTAXIS>> ##JOB07 Now Saving ETF_MIN ==== 159683\n",
      "QUANTAXIS>> The 68 of Total 879\n",
      "QUANTAXIS>> DOWNLOAD PROGRESS 7.73% \n",
      "QUANTAXIS>> ##JOB07 Now Saving ETF_MIN ==== 159685\n",
      "QUANTAXIS>> The 69 of Total 879\n",
      "QUANTAXIS>> DOWNLOAD PROGRESS 7.84% \n",
      "QUANTAXIS>> ##JOB07 Now Saving ETF_MIN ==== 159686\n",
      "QUANTAXIS>> The 70 of Total 879\n",
      "QUANTAXIS>> DOWNLOAD PROGRESS 7.96% \n",
      "QUANTAXIS>> ##JOB07 Now Saving ETF_MIN ==== 159687\n",
      "QUANTAXIS>> The 71 of Total 879\n",
      "QUANTAXIS>> DOWNLOAD PROGRESS 8.07% \n",
      "QUANTAXIS>> ##JOB07 Now Saving ETF_MIN ==== 159688\n",
      "QUANTAXIS>> The 72 of Total 879\n",
      "QUANTAXIS>> DOWNLOAD PROGRESS 8.19% \n",
      "QUANTAXIS>> ##JOB07 Now Saving ETF_MIN ==== 159689\n",
      "QUANTAXIS>> The 73 of Total 879\n",
      "QUANTAXIS>> DOWNLOAD PROGRESS 8.30% \n",
      "QUANTAXIS>> ##JOB07 Now Saving ETF_MIN ==== 159691\n",
      "QUANTAXIS>> The 74 of Total 879\n",
      "QUANTAXIS>> DOWNLOAD PROGRESS 8.41% \n",
      "QUANTAXIS>> ##JOB07 Now Saving ETF_MIN ==== 159701\n",
      "QUANTAXIS>> The 75 of Total 879\n",
      "QUANTAXIS>> DOWNLOAD PROGRESS 8.53% \n",
      "QUANTAXIS>> ##JOB07 Now Saving ETF_MIN ==== 159703\n",
      "QUANTAXIS>> The 76 of Total 879\n",
      "QUANTAXIS>> DOWNLOAD PROGRESS 8.64% \n",
      "QUANTAXIS>> ##JOB07 Now Saving ETF_MIN ==== 159706\n",
      "QUANTAXIS>> The 77 of Total 879\n",
      "QUANTAXIS>> DOWNLOAD PROGRESS 8.75% \n",
      "QUANTAXIS>> ##JOB07 Now Saving ETF_MIN ==== 159707\n",
      "QUANTAXIS>> The 78 of Total 879\n",
      "QUANTAXIS>> DOWNLOAD PROGRESS 8.87% \n",
      "QUANTAXIS>> ##JOB07 Now Saving ETF_MIN ==== 159708\n",
      "QUANTAXIS>> The 79 of Total 879\n",
      "QUANTAXIS>> DOWNLOAD PROGRESS 8.98% \n",
      "QUANTAXIS>> ##JOB07 Now Saving ETF_MIN ==== 159709\n",
      "QUANTAXIS>> The 80 of Total 879\n",
      "QUANTAXIS>> DOWNLOAD PROGRESS 9.10% \n",
      "QUANTAXIS>> ##JOB07 Now Saving ETF_MIN ==== 159710\n",
      "QUANTAXIS>> The 81 of Total 879\n",
      "QUANTAXIS>> DOWNLOAD PROGRESS 9.21% \n",
      "QUANTAXIS>> ##JOB07 Now Saving ETF_MIN ==== 159711\n",
      "QUANTAXIS>> The 82 of Total 879\n",
      "QUANTAXIS>> DOWNLOAD PROGRESS 9.32% \n",
      "QUANTAXIS>> ##JOB07 Now Saving ETF_MIN ==== 159712\n",
      "QUANTAXIS>> The 83 of Total 879\n",
      "QUANTAXIS>> DOWNLOAD PROGRESS 9.44% \n",
      "QUANTAXIS>> ##JOB07 Now Saving ETF_MIN ==== 159713\n",
      "QUANTAXIS>> The 84 of Total 879\n",
      "QUANTAXIS>> DOWNLOAD PROGRESS 9.55% \n",
      "QUANTAXIS>> ##JOB07 Now Saving ETF_MIN ==== 159715\n",
      "QUANTAXIS>> The 85 of Total 879\n",
      "QUANTAXIS>> DOWNLOAD PROGRESS 9.67% \n",
      "QUANTAXIS>> ##JOB07 Now Saving ETF_MIN ==== 159716\n",
      "QUANTAXIS>> The 86 of Total 879\n",
      "QUANTAXIS>> DOWNLOAD PROGRESS 9.78% \n",
      "QUANTAXIS>> ##JOB07 Now Saving ETF_MIN ==== 159717\n",
      "QUANTAXIS>> The 87 of Total 879\n",
      "QUANTAXIS>> DOWNLOAD PROGRESS 9.89% \n",
      "QUANTAXIS>> ##JOB07 Now Saving ETF_MIN ==== 159718\n",
      "QUANTAXIS>> The 88 of Total 879\n",
      "QUANTAXIS>> DOWNLOAD PROGRESS 10.0% \n",
      "QUANTAXIS>> ##JOB07 Now Saving ETF_MIN ==== 159719\n",
      "QUANTAXIS>> The 89 of Total 879\n",
      "QUANTAXIS>> DOWNLOAD PROGRESS 10.1% \n",
      "QUANTAXIS>> ##JOB07 Now Saving ETF_MIN ==== 159720\n",
      "QUANTAXIS>> The 90 of Total 879\n",
      "QUANTAXIS>> DOWNLOAD PROGRESS 10.2% \n",
      "QUANTAXIS>> ##JOB07 Now Saving ETF_MIN ==== 159721\n",
      "QUANTAXIS>> The 91 of Total 879\n",
      "QUANTAXIS>> DOWNLOAD PROGRESS 10.3% \n",
      "QUANTAXIS>> ##JOB07 Now Saving ETF_MIN ==== 159723\n",
      "QUANTAXIS>> The 92 of Total 879\n",
      "QUANTAXIS>> DOWNLOAD PROGRESS 10.4% \n",
      "QUANTAXIS>> ##JOB07 Now Saving ETF_MIN ==== 159725\n",
      "QUANTAXIS>> The 93 of Total 879\n",
      "QUANTAXIS>> DOWNLOAD PROGRESS 10.5% \n",
      "QUANTAXIS>> ##JOB07 Now Saving ETF_MIN ==== 159726\n",
      "QUANTAXIS>> The 94 of Total 879\n",
      "QUANTAXIS>> DOWNLOAD PROGRESS 10.6% \n",
      "QUANTAXIS>> ##JOB07 Now Saving ETF_MIN ==== 159728\n",
      "QUANTAXIS>> The 95 of Total 879\n",
      "QUANTAXIS>> DOWNLOAD PROGRESS 10.8% \n",
      "QUANTAXIS>> ##JOB07 Now Saving ETF_MIN ==== 159729\n",
      "QUANTAXIS>> The 96 of Total 879\n",
      "QUANTAXIS>> DOWNLOAD PROGRESS 10.9% \n",
      "QUANTAXIS>> ##JOB07 Now Saving ETF_MIN ==== 159730\n"
     ]
    },
    {
     "name": "stderr",
     "output_type": "stream",
     "text": [
      "QUANTAXIS>> The 97 of Total 879\n",
      "QUANTAXIS>> DOWNLOAD PROGRESS 11.0% \n",
      "QUANTAXIS>> ##JOB07 Now Saving ETF_MIN ==== 159731\n",
      "QUANTAXIS>> The 98 of Total 879\n",
      "QUANTAXIS>> DOWNLOAD PROGRESS 11.1% \n",
      "QUANTAXIS>> ##JOB07 Now Saving ETF_MIN ==== 159732\n",
      "QUANTAXIS>> The 99 of Total 879\n",
      "QUANTAXIS>> DOWNLOAD PROGRESS 11.2% \n",
      "QUANTAXIS>> ##JOB07 Now Saving ETF_MIN ==== 159733\n",
      "QUANTAXIS>> The 100 of Total 879\n",
      "QUANTAXIS>> DOWNLOAD PROGRESS 11.3% \n",
      "QUANTAXIS>> ##JOB07 Now Saving ETF_MIN ==== 159735\n",
      "QUANTAXIS>> The 101 of Total 879\n",
      "QUANTAXIS>> DOWNLOAD PROGRESS 11.4% \n",
      "QUANTAXIS>> ##JOB07 Now Saving ETF_MIN ==== 159736\n",
      "QUANTAXIS>> The 102 of Total 879\n",
      "QUANTAXIS>> DOWNLOAD PROGRESS 11.6% \n",
      "QUANTAXIS>> ##JOB07 Now Saving ETF_MIN ==== 159738\n",
      "QUANTAXIS>> The 103 of Total 879\n",
      "QUANTAXIS>> DOWNLOAD PROGRESS 11.7% \n",
      "QUANTAXIS>> ##JOB07 Now Saving ETF_MIN ==== 159739\n",
      "QUANTAXIS>> The 104 of Total 879\n",
      "QUANTAXIS>> DOWNLOAD PROGRESS 11.8% \n",
      "QUANTAXIS>> ##JOB07 Now Saving ETF_MIN ==== 159740\n",
      "QUANTAXIS>> The 105 of Total 879\n",
      "QUANTAXIS>> DOWNLOAD PROGRESS 11.9% \n",
      "QUANTAXIS>> ##JOB07 Now Saving ETF_MIN ==== 159741\n",
      "QUANTAXIS>> The 106 of Total 879\n",
      "QUANTAXIS>> DOWNLOAD PROGRESS 12.0% \n",
      "QUANTAXIS>> ##JOB07 Now Saving ETF_MIN ==== 159742\n",
      "QUANTAXIS>> The 107 of Total 879\n",
      "QUANTAXIS>> DOWNLOAD PROGRESS 12.1% \n",
      "QUANTAXIS>> ##JOB07 Now Saving ETF_MIN ==== 159743\n",
      "QUANTAXIS>> The 108 of Total 879\n",
      "QUANTAXIS>> DOWNLOAD PROGRESS 12.2% \n",
      "QUANTAXIS>> ##JOB07 Now Saving ETF_MIN ==== 159745\n",
      "QUANTAXIS>> The 109 of Total 879\n",
      "QUANTAXIS>> DOWNLOAD PROGRESS 12.4% \n",
      "QUANTAXIS>> ##JOB07 Now Saving ETF_MIN ==== 159747\n",
      "QUANTAXIS>> The 110 of Total 879\n",
      "QUANTAXIS>> DOWNLOAD PROGRESS 12.5% \n",
      "QUANTAXIS>> ##JOB07 Now Saving ETF_MIN ==== 159748\n",
      "QUANTAXIS>> The 111 of Total 879\n",
      "QUANTAXIS>> DOWNLOAD PROGRESS 12.6% \n",
      "QUANTAXIS>> ##JOB07 Now Saving ETF_MIN ==== 159750\n",
      "QUANTAXIS>> The 112 of Total 879\n",
      "QUANTAXIS>> DOWNLOAD PROGRESS 12.7% \n",
      "QUANTAXIS>> ##JOB07 Now Saving ETF_MIN ==== 159751\n",
      "QUANTAXIS>> The 113 of Total 879\n",
      "QUANTAXIS>> DOWNLOAD PROGRESS 12.8% \n",
      "QUANTAXIS>> ##JOB07.1 Now Saving 159745 from 2023-03-17 15:00:00 to 2021-12-31 15:00:00 ==5min \n",
      "QUANTAXIS>> ##JOB07 Now Saving ETF_MIN ==== 159752\n",
      "QUANTAXIS>> The 114 of Total 879\n",
      "QUANTAXIS>> DOWNLOAD PROGRESS 12.9% \n",
      "QUANTAXIS>> ##JOB07 Now Saving ETF_MIN ==== 159755\n",
      "QUANTAXIS>> The 115 of Total 879\n",
      "QUANTAXIS>> DOWNLOAD PROGRESS 13.0% \n",
      "QUANTAXIS>> ##JOB07 Now Saving ETF_MIN ==== 159757\n",
      "QUANTAXIS>> The 116 of Total 879\n",
      "QUANTAXIS>> DOWNLOAD PROGRESS 13.1% \n",
      "QUANTAXIS>> ##JOB07 Now Saving ETF_MIN ==== 159758\n",
      "QUANTAXIS>> The 117 of Total 879\n",
      "QUANTAXIS>> DOWNLOAD PROGRESS 13.3% \n",
      "QUANTAXIS>> ##JOB07 Now Saving ETF_MIN ==== 159760\n",
      "QUANTAXIS>> The 118 of Total 879\n",
      "QUANTAXIS>> DOWNLOAD PROGRESS 13.4% \n",
      "QUANTAXIS>> ##JOB07 Now Saving ETF_MIN ==== 159761\n",
      "QUANTAXIS>> The 119 of Total 879\n",
      "QUANTAXIS>> DOWNLOAD PROGRESS 13.5% \n",
      "QUANTAXIS>> ##JOB07 Now Saving ETF_MIN ==== 159763\n",
      "QUANTAXIS>> The 120 of Total 879\n",
      "QUANTAXIS>> DOWNLOAD PROGRESS 13.6% \n",
      "QUANTAXIS>> ##JOB07 Now Saving ETF_MIN ==== 159766\n",
      "QUANTAXIS>> The 121 of Total 879\n",
      "QUANTAXIS>> DOWNLOAD PROGRESS 13.7% \n",
      "QUANTAXIS>> ##JOB07 Now Saving ETF_MIN ==== 159767\n",
      "QUANTAXIS>> The 122 of Total 879\n",
      "QUANTAXIS>> DOWNLOAD PROGRESS 13.8% \n",
      "QUANTAXIS>> ##JOB07 Now Saving ETF_MIN ==== 159768\n",
      "QUANTAXIS>> The 123 of Total 879\n",
      "QUANTAXIS>> DOWNLOAD PROGRESS 13.9% \n",
      "QUANTAXIS>> ##JOB07.1 Now Saving 159766 from 2023-03-17 15:00:00 to 2021-12-31 15:00:00 ==5min \n",
      "QUANTAXIS>> ##JOB07 Now Saving ETF_MIN ==== 159769\n",
      "QUANTAXIS>> The 124 of Total 879\n",
      "QUANTAXIS>> DOWNLOAD PROGRESS 14.1% \n",
      "QUANTAXIS>> ##JOB07 Now Saving ETF_MIN ==== 159770\n",
      "QUANTAXIS>> The 125 of Total 879\n",
      "QUANTAXIS>> DOWNLOAD PROGRESS 14.2% \n",
      "QUANTAXIS>> ##JOB07 Now Saving ETF_MIN ==== 159773\n",
      "QUANTAXIS>> The 126 of Total 879\n",
      "QUANTAXIS>> DOWNLOAD PROGRESS 14.3% \n",
      "QUANTAXIS>> ##JOB07 Now Saving ETF_MIN ==== 159775\n",
      "QUANTAXIS>> The 127 of Total 879\n",
      "QUANTAXIS>> DOWNLOAD PROGRESS 14.4% \n",
      "QUANTAXIS>> ##JOB07 Now Saving ETF_MIN ==== 159776\n",
      "QUANTAXIS>> The 128 of Total 879\n",
      "QUANTAXIS>> DOWNLOAD PROGRESS 14.5% \n",
      "QUANTAXIS>> ##JOB07 Now Saving ETF_MIN ==== 159777\n",
      "QUANTAXIS>> The 129 of Total 879\n",
      "QUANTAXIS>> DOWNLOAD PROGRESS 14.6% \n",
      "QUANTAXIS>> ##JOB07 Now Saving ETF_MIN ==== 159778\n",
      "QUANTAXIS>> The 130 of Total 879\n",
      "QUANTAXIS>> DOWNLOAD PROGRESS 14.7% \n",
      "QUANTAXIS>> ##JOB07 Now Saving ETF_MIN ==== 159779\n",
      "QUANTAXIS>> The 131 of Total 879\n",
      "QUANTAXIS>> DOWNLOAD PROGRESS 14.9% \n",
      "QUANTAXIS>> ##JOB07 Now Saving ETF_MIN ==== 159780\n",
      "QUANTAXIS>> The 132 of Total 879\n",
      "QUANTAXIS>> DOWNLOAD PROGRESS 15.0% \n",
      "/liubinxu/liubinxu/miniconda3_py38/lib/python3.8/site-packages/QUANTAXIS/QAUtil/QATransform.py:55: SettingWithCopyWarning: \n",
      "A value is trying to be set on a copy of a slice from a DataFrame.\n",
      "Try using .loc[row_indexer,col_indexer] = value instead\n",
      "\n",
      "See the caveats in the documentation: https://pandas.pydata.org/pandas-docs/stable/user_guide/indexing.html#returning-a-view-versus-a-copy\n",
      "  data.datetime = data.datetime.apply(str)\n",
      "/liubinxu/liubinxu/miniconda3_py38/lib/python3.8/site-packages/QUANTAXIS/QAUtil/QATransform.py:57: SettingWithCopyWarning: \n",
      "A value is trying to be set on a copy of a slice from a DataFrame.\n",
      "Try using .loc[row_indexer,col_indexer] = value instead\n",
      "\n",
      "See the caveats in the documentation: https://pandas.pydata.org/pandas-docs/stable/user_guide/indexing.html#returning-a-view-versus-a-copy\n",
      "  data.date = data.date.apply(str)\n",
      "QUANTAXIS>> ##JOB07 Now Saving ETF_MIN ==== 159781\n",
      "QUANTAXIS>> The 133 of Total 879\n",
      "QUANTAXIS>> DOWNLOAD PROGRESS 15.1% \n",
      "QUANTAXIS>> ##JOB07 Now Saving ETF_MIN ==== 159782\n",
      "QUANTAXIS>> The 134 of Total 879\n",
      "QUANTAXIS>> DOWNLOAD PROGRESS 15.2% \n"
     ]
    },
    {
     "name": "stdout",
     "output_type": "stream",
     "text": [
      "save 159745 1393\n"
     ]
    },
    {
     "name": "stderr",
     "output_type": "stream",
     "text": [
      "QUANTAXIS>> ##JOB07 Now Saving ETF_MIN ==== 159783\n",
      "QUANTAXIS>> The 135 of Total 879\n",
      "QUANTAXIS>> DOWNLOAD PROGRESS 15.3% \n",
      "QUANTAXIS>> ##JOB07 Now Saving ETF_MIN ==== 159786\n",
      "QUANTAXIS>> The 136 of Total 879\n",
      "QUANTAXIS>> DOWNLOAD PROGRESS 15.4% \n",
      "QUANTAXIS>> ##JOB07 Now Saving ETF_MIN ==== 159787\n",
      "QUANTAXIS>> The 137 of Total 879\n",
      "QUANTAXIS>> DOWNLOAD PROGRESS 15.5% \n",
      "QUANTAXIS>> ##JOB07 Now Saving ETF_MIN ==== 159788\n",
      "QUANTAXIS>> The 138 of Total 879\n",
      "QUANTAXIS>> DOWNLOAD PROGRESS 15.6% \n",
      "QUANTAXIS>> ##JOB07 Now Saving ETF_MIN ==== 159789\n",
      "QUANTAXIS>> The 139 of Total 879\n",
      "QUANTAXIS>> DOWNLOAD PROGRESS 15.8% \n",
      "QUANTAXIS>> ##JOB07 Now Saving ETF_MIN ==== 159790\n",
      "QUANTAXIS>> The 140 of Total 879\n",
      "QUANTAXIS>> DOWNLOAD PROGRESS 15.9% \n",
      "QUANTAXIS>> ##JOB07 Now Saving ETF_MIN ==== 159791\n",
      "QUANTAXIS>> The 141 of Total 879\n",
      "QUANTAXIS>> DOWNLOAD PROGRESS 16.0% \n",
      "QUANTAXIS>> ##JOB07 Now Saving ETF_MIN ==== 159792\n",
      "QUANTAXIS>> The 142 of Total 879\n",
      "QUANTAXIS>> DOWNLOAD PROGRESS 16.1% \n",
      "/liubinxu/liubinxu/miniconda3_py38/lib/python3.8/site-packages/QUANTAXIS/QAUtil/QATransform.py:55: SettingWithCopyWarning: \n",
      "A value is trying to be set on a copy of a slice from a DataFrame.\n",
      "Try using .loc[row_indexer,col_indexer] = value instead\n",
      "\n",
      "See the caveats in the documentation: https://pandas.pydata.org/pandas-docs/stable/user_guide/indexing.html#returning-a-view-versus-a-copy\n",
      "  data.datetime = data.datetime.apply(str)\n",
      "/liubinxu/liubinxu/miniconda3_py38/lib/python3.8/site-packages/QUANTAXIS/QAUtil/QATransform.py:57: SettingWithCopyWarning: \n",
      "A value is trying to be set on a copy of a slice from a DataFrame.\n",
      "Try using .loc[row_indexer,col_indexer] = value instead\n",
      "\n",
      "See the caveats in the documentation: https://pandas.pydata.org/pandas-docs/stable/user_guide/indexing.html#returning-a-view-versus-a-copy\n",
      "  data.date = data.date.apply(str)\n",
      "QUANTAXIS>> ##JOB07 Now Saving ETF_MIN ==== 159793\n",
      "QUANTAXIS>> The 143 of Total 879\n",
      "QUANTAXIS>> DOWNLOAD PROGRESS 16.2% \n",
      "QUANTAXIS>> ##JOB07 Now Saving ETF_MIN ==== 159795\n",
      "QUANTAXIS>> The 144 of Total 879\n",
      "QUANTAXIS>> DOWNLOAD PROGRESS 16.3% \n"
     ]
    },
    {
     "name": "stdout",
     "output_type": "stream",
     "text": [
      "save 159766 1393\n"
     ]
    },
    {
     "name": "stderr",
     "output_type": "stream",
     "text": [
      "QUANTAXIS>> ##JOB07 Now Saving ETF_MIN ==== 159796\n",
      "QUANTAXIS>> The 145 of Total 879\n",
      "QUANTAXIS>> DOWNLOAD PROGRESS 16.4% \n",
      "QUANTAXIS>> ##JOB07 Now Saving ETF_MIN ==== 159797\n",
      "QUANTAXIS>> The 146 of Total 879\n",
      "QUANTAXIS>> DOWNLOAD PROGRESS 16.6% \n",
      "QUANTAXIS>> ##JOB07 Now Saving ETF_MIN ==== 159798\n",
      "QUANTAXIS>> The 147 of Total 879\n",
      "QUANTAXIS>> DOWNLOAD PROGRESS 16.7% \n",
      "QUANTAXIS>> ##JOB07 Now Saving ETF_MIN ==== 159801\n",
      "QUANTAXIS>> The 148 of Total 879\n",
      "QUANTAXIS>> DOWNLOAD PROGRESS 16.8% \n",
      "QUANTAXIS>> ##JOB07 Now Saving ETF_MIN ==== 159804\n",
      "QUANTAXIS>> The 149 of Total 879\n",
      "QUANTAXIS>> DOWNLOAD PROGRESS 16.9% \n",
      "QUANTAXIS>> ##JOB07 Now Saving ETF_MIN ==== 159805\n",
      "QUANTAXIS>> The 150 of Total 879\n",
      "QUANTAXIS>> DOWNLOAD PROGRESS 17.0% \n",
      "QUANTAXIS>> ##JOB07 Now Saving ETF_MIN ==== 159806\n",
      "QUANTAXIS>> The 151 of Total 879\n",
      "QUANTAXIS>> DOWNLOAD PROGRESS 17.1% \n",
      "QUANTAXIS>> ##JOB07 Now Saving ETF_MIN ==== 159807\n",
      "QUANTAXIS>> The 152 of Total 879\n",
      "QUANTAXIS>> DOWNLOAD PROGRESS 17.2% \n",
      "QUANTAXIS>> ##JOB07 Now Saving ETF_MIN ==== 159808\n",
      "QUANTAXIS>> The 153 of Total 879\n",
      "QUANTAXIS>> DOWNLOAD PROGRESS 17.4% \n",
      "QUANTAXIS>> ##JOB07 Now Saving ETF_MIN ==== 159810\n",
      "QUANTAXIS>> The 154 of Total 879\n",
      "QUANTAXIS>> DOWNLOAD PROGRESS 17.5% \n",
      "QUANTAXIS>> ##JOB07 Now Saving ETF_MIN ==== 159811\n",
      "QUANTAXIS>> The 155 of Total 879\n",
      "QUANTAXIS>> DOWNLOAD PROGRESS 17.6% \n",
      "QUANTAXIS>> ##JOB07 Now Saving ETF_MIN ==== 159812\n",
      "QUANTAXIS>> The 156 of Total 879\n",
      "QUANTAXIS>> DOWNLOAD PROGRESS 17.7% \n",
      "QUANTAXIS>> ##JOB07 Now Saving ETF_MIN ==== 159813\n",
      "QUANTAXIS>> The 157 of Total 879\n",
      "QUANTAXIS>> DOWNLOAD PROGRESS 17.8% \n",
      "QUANTAXIS>> ##JOB07 Now Saving ETF_MIN ==== 159814\n",
      "QUANTAXIS>> The 158 of Total 879\n",
      "QUANTAXIS>> DOWNLOAD PROGRESS 17.9% \n",
      "QUANTAXIS>> ##JOB07 Now Saving ETF_MIN ==== 159816\n",
      "QUANTAXIS>> The 159 of Total 879\n",
      "QUANTAXIS>> DOWNLOAD PROGRESS 18.0% \n",
      "QUANTAXIS>> ##JOB07 Now Saving ETF_MIN ==== 159819\n",
      "QUANTAXIS>> The 160 of Total 879\n",
      "QUANTAXIS>> DOWNLOAD PROGRESS 18.2% \n",
      "QUANTAXIS>> ##JOB07 Now Saving ETF_MIN ==== 159820\n",
      "QUANTAXIS>> The 161 of Total 879\n",
      "QUANTAXIS>> DOWNLOAD PROGRESS 18.3% \n",
      "QUANTAXIS>> ##JOB07 Now Saving ETF_MIN ==== 159821\n",
      "QUANTAXIS>> The 162 of Total 879\n",
      "QUANTAXIS>> DOWNLOAD PROGRESS 18.4% \n",
      "QUANTAXIS>> ##JOB07 Now Saving ETF_MIN ==== 159822\n",
      "QUANTAXIS>> The 163 of Total 879\n",
      "QUANTAXIS>> DOWNLOAD PROGRESS 18.5% \n",
      "QUANTAXIS>> ##JOB07 Now Saving ETF_MIN ==== 159823\n",
      "QUANTAXIS>> The 164 of Total 879\n",
      "QUANTAXIS>> DOWNLOAD PROGRESS 18.6% \n",
      "QUANTAXIS>> ##JOB07 Now Saving ETF_MIN ==== 159824\n",
      "QUANTAXIS>> The 165 of Total 879\n",
      "QUANTAXIS>> DOWNLOAD PROGRESS 18.7% \n",
      "QUANTAXIS>> ##JOB07 Now Saving ETF_MIN ==== 159825\n",
      "QUANTAXIS>> The 166 of Total 879\n",
      "QUANTAXIS>> DOWNLOAD PROGRESS 18.8% \n",
      "QUANTAXIS>> ##JOB07 Now Saving ETF_MIN ==== 159827\n",
      "QUANTAXIS>> The 167 of Total 879\n",
      "QUANTAXIS>> DOWNLOAD PROGRESS 18.9% \n",
      "QUANTAXIS>> ##JOB07 Now Saving ETF_MIN ==== 159828\n",
      "QUANTAXIS>> The 168 of Total 879\n",
      "QUANTAXIS>> DOWNLOAD PROGRESS 19.1% \n",
      "QUANTAXIS>> ##JOB07 Now Saving ETF_MIN ==== 159830\n",
      "QUANTAXIS>> The 169 of Total 879\n",
      "QUANTAXIS>> DOWNLOAD PROGRESS 19.2% \n",
      "QUANTAXIS>> ##JOB07 Now Saving ETF_MIN ==== 159831\n",
      "QUANTAXIS>> The 170 of Total 879\n",
      "QUANTAXIS>> DOWNLOAD PROGRESS 19.3% \n",
      "QUANTAXIS>> ##JOB07 Now Saving ETF_MIN ==== 159833\n",
      "QUANTAXIS>> The 171 of Total 879\n",
      "QUANTAXIS>> DOWNLOAD PROGRESS 19.4% \n",
      "QUANTAXIS>> ##JOB07.1 Now Saving 159825 from 2023-03-17 15:00:00 to 2021-12-31 15:00:00 ==5min \n",
      "QUANTAXIS>> ##JOB07 Now Saving ETF_MIN ==== 159834\n",
      "QUANTAXIS>> The 172 of Total 879\n",
      "QUANTAXIS>> DOWNLOAD PROGRESS 19.5% \n",
      "QUANTAXIS>> ##JOB07 Now Saving ETF_MIN ==== 159835\n",
      "QUANTAXIS>> The 173 of Total 879\n",
      "QUANTAXIS>> DOWNLOAD PROGRESS 19.6% \n",
      "QUANTAXIS>> ##JOB07 Now Saving ETF_MIN ==== 159836\n",
      "QUANTAXIS>> The 174 of Total 879\n",
      "QUANTAXIS>> DOWNLOAD PROGRESS 19.7% \n",
      "QUANTAXIS>> ##JOB07 Now Saving ETF_MIN ==== 159837\n",
      "QUANTAXIS>> The 175 of Total 879\n",
      "QUANTAXIS>> DOWNLOAD PROGRESS 19.9% \n",
      "QUANTAXIS>> ##JOB07 Now Saving ETF_MIN ==== 159838\n",
      "QUANTAXIS>> The 176 of Total 879\n",
      "QUANTAXIS>> DOWNLOAD PROGRESS 20.0% \n",
      "QUANTAXIS>> ##JOB07 Now Saving ETF_MIN ==== 159839\n",
      "QUANTAXIS>> The 177 of Total 879\n",
      "QUANTAXIS>> DOWNLOAD PROGRESS 20.1% \n",
      "QUANTAXIS>> ##JOB07 Now Saving ETF_MIN ==== 159840\n",
      "QUANTAXIS>> The 178 of Total 879\n",
      "QUANTAXIS>> DOWNLOAD PROGRESS 20.2% \n",
      "QUANTAXIS>> ##JOB07 Now Saving ETF_MIN ==== 159841\n",
      "QUANTAXIS>> The 179 of Total 879\n",
      "QUANTAXIS>> DOWNLOAD PROGRESS 20.3% \n",
      "QUANTAXIS>> ##JOB07 Now Saving ETF_MIN ==== 159842\n",
      "QUANTAXIS>> The 180 of Total 879\n",
      "QUANTAXIS>> DOWNLOAD PROGRESS 20.4% \n",
      "QUANTAXIS>> ##JOB07 Now Saving ETF_MIN ==== 159843\n",
      "QUANTAXIS>> The 181 of Total 879\n",
      "QUANTAXIS>> DOWNLOAD PROGRESS 20.5% \n",
      "QUANTAXIS>> ##JOB07 Now Saving ETF_MIN ==== 159845\n",
      "QUANTAXIS>> The 182 of Total 879\n",
      "QUANTAXIS>> DOWNLOAD PROGRESS 20.7% \n",
      "QUANTAXIS>> ##JOB07 Now Saving ETF_MIN ==== 159847\n",
      "QUANTAXIS>> The 183 of Total 879\n",
      "QUANTAXIS>> DOWNLOAD PROGRESS 20.8% \n",
      "QUANTAXIS>> ##JOB07 Now Saving ETF_MIN ==== 159848\n",
      "QUANTAXIS>> The 184 of Total 879\n",
      "QUANTAXIS>> DOWNLOAD PROGRESS 20.9% \n",
      "QUANTAXIS>> ##JOB07 Now Saving ETF_MIN ==== 159849\n",
      "QUANTAXIS>> The 185 of Total 879\n",
      "QUANTAXIS>> DOWNLOAD PROGRESS 21.0% \n",
      "QUANTAXIS>> ##JOB07.1 Now Saving 159845 from 2023-03-17 15:00:00 to 2021-12-31 15:00:00 ==5min \n",
      "QUANTAXIS>> ##JOB07 Now Saving ETF_MIN ==== 159850\n",
      "QUANTAXIS>> The 186 of Total 879\n",
      "QUANTAXIS>> DOWNLOAD PROGRESS 21.1% \n",
      "QUANTAXIS>> ##JOB07 Now Saving ETF_MIN ==== 159851\n",
      "QUANTAXIS>> The 187 of Total 879\n",
      "QUANTAXIS>> DOWNLOAD PROGRESS 21.2% \n",
      "QUANTAXIS>> ##JOB07 Now Saving ETF_MIN ==== 159852\n",
      "QUANTAXIS>> The 188 of Total 879\n",
      "QUANTAXIS>> DOWNLOAD PROGRESS 21.3% \n",
      "/liubinxu/liubinxu/miniconda3_py38/lib/python3.8/site-packages/QUANTAXIS/QAUtil/QATransform.py:55: SettingWithCopyWarning: \n",
      "A value is trying to be set on a copy of a slice from a DataFrame.\n",
      "Try using .loc[row_indexer,col_indexer] = value instead\n",
      "\n",
      "See the caveats in the documentation: https://pandas.pydata.org/pandas-docs/stable/user_guide/indexing.html#returning-a-view-versus-a-copy\n",
      "  data.datetime = data.datetime.apply(str)\n",
      "/liubinxu/liubinxu/miniconda3_py38/lib/python3.8/site-packages/QUANTAXIS/QAUtil/QATransform.py:57: SettingWithCopyWarning: \n",
      "A value is trying to be set on a copy of a slice from a DataFrame.\n",
      "Try using .loc[row_indexer,col_indexer] = value instead\n",
      "\n",
      "See the caveats in the documentation: https://pandas.pydata.org/pandas-docs/stable/user_guide/indexing.html#returning-a-view-versus-a-copy\n",
      "  data.date = data.date.apply(str)\n",
      "QUANTAXIS>> ##JOB07 Now Saving ETF_MIN ==== 159853\n",
      "QUANTAXIS>> The 189 of Total 879\n",
      "QUANTAXIS>> DOWNLOAD PROGRESS 21.5% \n",
      "QUANTAXIS>> ##JOB07 Now Saving ETF_MIN ==== 159855\n",
      "QUANTAXIS>> The 190 of Total 879\n",
      "QUANTAXIS>> DOWNLOAD PROGRESS 21.6% \n"
     ]
    },
    {
     "name": "stdout",
     "output_type": "stream",
     "text": [
      "save 159825 1393\n"
     ]
    },
    {
     "name": "stderr",
     "output_type": "stream",
     "text": [
      "QUANTAXIS>> ##JOB07 Now Saving ETF_MIN ==== 159856\n",
      "QUANTAXIS>> The 191 of Total 879\n",
      "QUANTAXIS>> DOWNLOAD PROGRESS 21.7% \n",
      "QUANTAXIS>> ##JOB07 Now Saving ETF_MIN ==== 159857\n",
      "QUANTAXIS>> The 192 of Total 879\n",
      "QUANTAXIS>> DOWNLOAD PROGRESS 21.8% \n",
      "QUANTAXIS>> ##JOB07 Now Saving ETF_MIN ==== 159858\n",
      "QUANTAXIS>> The 193 of Total 879\n",
      "QUANTAXIS>> DOWNLOAD PROGRESS 21.9% \n",
      "QUANTAXIS>> ##JOB07 Now Saving ETF_MIN ==== 159859\n",
      "QUANTAXIS>> The 194 of Total 879\n",
      "QUANTAXIS>> DOWNLOAD PROGRESS 22.0% \n",
      "QUANTAXIS>> ##JOB07 Now Saving ETF_MIN ==== 159861\n",
      "QUANTAXIS>> The 195 of Total 879\n",
      "QUANTAXIS>> DOWNLOAD PROGRESS 22.1% \n",
      "QUANTAXIS>> ##JOB07 Now Saving ETF_MIN ==== 159862\n",
      "QUANTAXIS>> The 196 of Total 879\n",
      "QUANTAXIS>> DOWNLOAD PROGRESS 22.2% \n",
      "QUANTAXIS>> ##JOB07 Now Saving ETF_MIN ==== 159863\n",
      "QUANTAXIS>> The 197 of Total 879\n",
      "QUANTAXIS>> DOWNLOAD PROGRESS 22.4% \n",
      "QUANTAXIS>> ##JOB07 Now Saving ETF_MIN ==== 159864\n",
      "QUANTAXIS>> The 198 of Total 879\n",
      "QUANTAXIS>> DOWNLOAD PROGRESS 22.5% \n",
      "QUANTAXIS>> ##JOB07 Now Saving ETF_MIN ==== 159865\n",
      "QUANTAXIS>> The 199 of Total 879\n",
      "QUANTAXIS>> DOWNLOAD PROGRESS 22.6% \n",
      "QUANTAXIS>> ##JOB07 Now Saving ETF_MIN ==== 159866\n",
      "QUANTAXIS>> The 200 of Total 879\n",
      "QUANTAXIS>> DOWNLOAD PROGRESS 22.7% \n",
      "QUANTAXIS>> ##JOB07 Now Saving ETF_MIN ==== 159867\n",
      "QUANTAXIS>> The 201 of Total 879\n",
      "QUANTAXIS>> DOWNLOAD PROGRESS 22.8% \n",
      "QUANTAXIS>> ##JOB07.1 Now Saving 159865 from 2023-03-17 15:00:00 to 2021-12-31 15:00:00 ==5min \n",
      "/liubinxu/liubinxu/miniconda3_py38/lib/python3.8/site-packages/QUANTAXIS/QAUtil/QATransform.py:55: SettingWithCopyWarning: \n",
      "A value is trying to be set on a copy of a slice from a DataFrame.\n",
      "Try using .loc[row_indexer,col_indexer] = value instead\n",
      "\n",
      "See the caveats in the documentation: https://pandas.pydata.org/pandas-docs/stable/user_guide/indexing.html#returning-a-view-versus-a-copy\n",
      "  data.datetime = data.datetime.apply(str)\n",
      "/liubinxu/liubinxu/miniconda3_py38/lib/python3.8/site-packages/QUANTAXIS/QAUtil/QATransform.py:57: SettingWithCopyWarning: \n",
      "A value is trying to be set on a copy of a slice from a DataFrame.\n",
      "Try using .loc[row_indexer,col_indexer] = value instead\n",
      "\n",
      "See the caveats in the documentation: https://pandas.pydata.org/pandas-docs/stable/user_guide/indexing.html#returning-a-view-versus-a-copy\n",
      "  data.date = data.date.apply(str)\n",
      "QUANTAXIS>> ##JOB07 Now Saving ETF_MIN ==== 159869\n",
      "QUANTAXIS>> The 202 of Total 879\n",
      "QUANTAXIS>> DOWNLOAD PROGRESS 22.9% \n",
      "QUANTAXIS>> ##JOB07 Now Saving ETF_MIN ==== 159870\n",
      "QUANTAXIS>> The 203 of Total 879\n",
      "QUANTAXIS>> DOWNLOAD PROGRESS 23.0% \n"
     ]
    },
    {
     "name": "stdout",
     "output_type": "stream",
     "text": [
      "save 159845 1393\n"
     ]
    },
    {
     "name": "stderr",
     "output_type": "stream",
     "text": [
      "QUANTAXIS>> ##JOB07.1 Now Saving 159867 from 2023-03-17 15:00:00 to 2021-12-31 15:00:00 ==5min \n",
      "QUANTAXIS>> ##JOB07 Now Saving ETF_MIN ==== 159871\n",
      "QUANTAXIS>> The 204 of Total 879\n",
      "QUANTAXIS>> DOWNLOAD PROGRESS 23.2% \n",
      "QUANTAXIS>> ##JOB07 Now Saving ETF_MIN ==== 159872\n",
      "QUANTAXIS>> The 205 of Total 879\n",
      "QUANTAXIS>> DOWNLOAD PROGRESS 23.3% \n",
      "QUANTAXIS>> ##JOB07 Now Saving ETF_MIN ==== 159873\n",
      "QUANTAXIS>> The 206 of Total 879\n",
      "QUANTAXIS>> DOWNLOAD PROGRESS 23.4% \n",
      "QUANTAXIS>> ##JOB07 Now Saving ETF_MIN ==== 159875\n",
      "QUANTAXIS>> The 207 of Total 879\n",
      "QUANTAXIS>> DOWNLOAD PROGRESS 23.5% \n",
      "QUANTAXIS>> ##JOB07 Now Saving ETF_MIN ==== 159876\n",
      "QUANTAXIS>> The 208 of Total 879\n",
      "QUANTAXIS>> DOWNLOAD PROGRESS 23.6% \n",
      "QUANTAXIS>> ##JOB07 Now Saving ETF_MIN ==== 159877\n",
      "QUANTAXIS>> The 209 of Total 879\n",
      "QUANTAXIS>> DOWNLOAD PROGRESS 23.7% \n",
      "QUANTAXIS>> ##JOB07 Now Saving ETF_MIN ==== 159880\n",
      "QUANTAXIS>> The 210 of Total 879\n",
      "QUANTAXIS>> DOWNLOAD PROGRESS 23.8% \n",
      "QUANTAXIS>> ##JOB07 Now Saving ETF_MIN ==== 159881\n",
      "QUANTAXIS>> The 211 of Total 879\n",
      "QUANTAXIS>> DOWNLOAD PROGRESS 24.0% \n",
      "QUANTAXIS>> ##JOB07 Now Saving ETF_MIN ==== 159883\n",
      "QUANTAXIS>> The 212 of Total 879\n",
      "QUANTAXIS>> DOWNLOAD PROGRESS 24.1% \n",
      "QUANTAXIS>> ##JOB07 Now Saving ETF_MIN ==== 159885\n",
      "QUANTAXIS>> The 213 of Total 879\n",
      "QUANTAXIS>> DOWNLOAD PROGRESS 24.2% \n",
      "QUANTAXIS>> ##JOB07 Now Saving ETF_MIN ==== 159886\n",
      "QUANTAXIS>> The 214 of Total 879\n",
      "QUANTAXIS>> DOWNLOAD PROGRESS 24.3% \n",
      "QUANTAXIS>> ##JOB07 Now Saving ETF_MIN ==== 159887\n",
      "QUANTAXIS>> The 215 of Total 879\n",
      "QUANTAXIS>> DOWNLOAD PROGRESS 24.4% \n",
      "/liubinxu/liubinxu/miniconda3_py38/lib/python3.8/site-packages/QUANTAXIS/QAUtil/QATransform.py:55: SettingWithCopyWarning: \n",
      "A value is trying to be set on a copy of a slice from a DataFrame.\n",
      "Try using .loc[row_indexer,col_indexer] = value instead\n",
      "\n",
      "See the caveats in the documentation: https://pandas.pydata.org/pandas-docs/stable/user_guide/indexing.html#returning-a-view-versus-a-copy\n",
      "  data.datetime = data.datetime.apply(str)\n",
      "/liubinxu/liubinxu/miniconda3_py38/lib/python3.8/site-packages/QUANTAXIS/QAUtil/QATransform.py:57: SettingWithCopyWarning: \n",
      "A value is trying to be set on a copy of a slice from a DataFrame.\n",
      "Try using .loc[row_indexer,col_indexer] = value instead\n",
      "\n",
      "See the caveats in the documentation: https://pandas.pydata.org/pandas-docs/stable/user_guide/indexing.html#returning-a-view-versus-a-copy\n",
      "  data.date = data.date.apply(str)\n",
      "QUANTAXIS>> ##JOB07 Now Saving ETF_MIN ==== 159888\n",
      "QUANTAXIS>> The 216 of Total 879\n",
      "QUANTAXIS>> DOWNLOAD PROGRESS 24.5% \n"
     ]
    },
    {
     "name": "stdout",
     "output_type": "stream",
     "text": [
      "save 159865 1393\n"
     ]
    },
    {
     "name": "stderr",
     "output_type": "stream",
     "text": [
      "QUANTAXIS>> ##JOB07 Now Saving ETF_MIN ==== 159889\n",
      "QUANTAXIS>> The 217 of Total 879\n",
      "QUANTAXIS>> DOWNLOAD PROGRESS 24.6% \n",
      "QUANTAXIS>> ##JOB07 Now Saving ETF_MIN ==== 159890\n",
      "QUANTAXIS>> The 218 of Total 879\n",
      "QUANTAXIS>> DOWNLOAD PROGRESS 24.8% \n",
      "/liubinxu/liubinxu/miniconda3_py38/lib/python3.8/site-packages/QUANTAXIS/QAUtil/QATransform.py:55: SettingWithCopyWarning: \n",
      "A value is trying to be set on a copy of a slice from a DataFrame.\n",
      "Try using .loc[row_indexer,col_indexer] = value instead\n",
      "\n",
      "See the caveats in the documentation: https://pandas.pydata.org/pandas-docs/stable/user_guide/indexing.html#returning-a-view-versus-a-copy\n",
      "  data.datetime = data.datetime.apply(str)\n",
      "/liubinxu/liubinxu/miniconda3_py38/lib/python3.8/site-packages/QUANTAXIS/QAUtil/QATransform.py:57: SettingWithCopyWarning: \n",
      "A value is trying to be set on a copy of a slice from a DataFrame.\n",
      "Try using .loc[row_indexer,col_indexer] = value instead\n",
      "\n",
      "See the caveats in the documentation: https://pandas.pydata.org/pandas-docs/stable/user_guide/indexing.html#returning-a-view-versus-a-copy\n",
      "  data.date = data.date.apply(str)\n",
      "QUANTAXIS>> ##JOB07 Now Saving ETF_MIN ==== 159891\n",
      "QUANTAXIS>> The 219 of Total 879\n",
      "QUANTAXIS>> DOWNLOAD PROGRESS 24.9% \n",
      "QUANTAXIS>> ##JOB07 Now Saving ETF_MIN ==== 159892\n",
      "QUANTAXIS>> The 220 of Total 879\n",
      "QUANTAXIS>> DOWNLOAD PROGRESS 25.0% \n"
     ]
    },
    {
     "name": "stdout",
     "output_type": "stream",
     "text": [
      "save 159867 1393\n"
     ]
    },
    {
     "name": "stderr",
     "output_type": "stream",
     "text": [
      "QUANTAXIS>> ##JOB07 Now Saving ETF_MIN ==== 159895\n",
      "QUANTAXIS>> The 221 of Total 879\n",
      "QUANTAXIS>> DOWNLOAD PROGRESS 25.1% \n",
      "QUANTAXIS>> ##JOB07 Now Saving ETF_MIN ==== 159896\n",
      "QUANTAXIS>> The 222 of Total 879\n",
      "QUANTAXIS>> DOWNLOAD PROGRESS 25.2% \n",
      "QUANTAXIS>> ##JOB07 Now Saving ETF_MIN ==== 159898\n",
      "QUANTAXIS>> The 223 of Total 879\n",
      "QUANTAXIS>> DOWNLOAD PROGRESS 25.3% \n",
      "QUANTAXIS>> ##JOB07 Now Saving ETF_MIN ==== 159899\n",
      "QUANTAXIS>> The 224 of Total 879\n",
      "QUANTAXIS>> DOWNLOAD PROGRESS 25.4% \n",
      "QUANTAXIS>> ##JOB07 Now Saving ETF_MIN ==== 159901\n",
      "QUANTAXIS>> The 225 of Total 879\n",
      "QUANTAXIS>> DOWNLOAD PROGRESS 25.5% \n",
      "QUANTAXIS>> ##JOB07 Now Saving ETF_MIN ==== 159902\n",
      "QUANTAXIS>> The 226 of Total 879\n",
      "QUANTAXIS>> DOWNLOAD PROGRESS 25.7% \n",
      "QUANTAXIS>> ##JOB07 Now Saving ETF_MIN ==== 159903\n",
      "QUANTAXIS>> The 227 of Total 879\n",
      "QUANTAXIS>> DOWNLOAD PROGRESS 25.8% \n",
      "QUANTAXIS>> ##JOB07 Now Saving ETF_MIN ==== 159905\n",
      "QUANTAXIS>> The 228 of Total 879\n",
      "QUANTAXIS>> DOWNLOAD PROGRESS 25.9% \n",
      "QUANTAXIS>> ##JOB07 Now Saving ETF_MIN ==== 159906\n",
      "QUANTAXIS>> The 229 of Total 879\n",
      "QUANTAXIS>> DOWNLOAD PROGRESS 26.0% \n",
      "QUANTAXIS>> ##JOB07 Now Saving ETF_MIN ==== 159907\n",
      "QUANTAXIS>> The 230 of Total 879\n",
      "QUANTAXIS>> DOWNLOAD PROGRESS 26.1% \n",
      "QUANTAXIS>> ##JOB07 Now Saving ETF_MIN ==== 159908\n",
      "QUANTAXIS>> The 231 of Total 879\n",
      "QUANTAXIS>> DOWNLOAD PROGRESS 26.2% \n",
      "QUANTAXIS>> ##JOB07.1 Now Saving 159905 from 2023-03-17 15:00:00 to 2021-12-31 15:00:00 ==5min \n",
      "QUANTAXIS>> ##JOB07 Now Saving ETF_MIN ==== 159909\n",
      "QUANTAXIS>> The 232 of Total 879\n",
      "QUANTAXIS>> DOWNLOAD PROGRESS 26.3% \n",
      "QUANTAXIS>> ##JOB07 Now Saving ETF_MIN ==== 159910\n",
      "QUANTAXIS>> The 233 of Total 879\n",
      "QUANTAXIS>> DOWNLOAD PROGRESS 26.5% \n",
      "QUANTAXIS>> ##JOB07 Now Saving ETF_MIN ==== 159912\n",
      "QUANTAXIS>> The 234 of Total 879\n",
      "QUANTAXIS>> DOWNLOAD PROGRESS 26.6% \n",
      "QUANTAXIS>> ##JOB07 Now Saving ETF_MIN ==== 159913\n",
      "QUANTAXIS>> The 235 of Total 879\n",
      "QUANTAXIS>> DOWNLOAD PROGRESS 26.7% \n",
      "QUANTAXIS>> ##JOB07 Now Saving ETF_MIN ==== 159915\n",
      "QUANTAXIS>> The 236 of Total 879\n",
      "QUANTAXIS>> DOWNLOAD PROGRESS 26.8% \n",
      "QUANTAXIS>> ##JOB07 Now Saving ETF_MIN ==== 159916\n",
      "QUANTAXIS>> The 237 of Total 879\n",
      "QUANTAXIS>> DOWNLOAD PROGRESS 26.9% \n",
      "QUANTAXIS>> ##JOB07.1 Now Saving 159915 from 2023-03-17 15:00:00 to 2021-12-31 15:00:00 ==5min \n",
      "QUANTAXIS>> ##JOB07 Now Saving ETF_MIN ==== 159918\n",
      "QUANTAXIS>> The 238 of Total 879\n",
      "QUANTAXIS>> ##JOB07 Now Saving ETF_MIN ==== 159919\n",
      "QUANTAXIS>> DOWNLOAD PROGRESS 27.0% \n",
      "QUANTAXIS>> The 239 of Total 879\n",
      "QUANTAXIS>> DOWNLOAD PROGRESS 27.1% \n",
      "QUANTAXIS>> ##JOB07 Now Saving ETF_MIN ==== 159920\n",
      "QUANTAXIS>> The 240 of Total 879\n",
      "QUANTAXIS>> DOWNLOAD PROGRESS 27.3% \n",
      "QUANTAXIS>> ##JOB07 Now Saving ETF_MIN ==== 159922\n",
      "QUANTAXIS>> The 241 of Total 879\n",
      "/liubinxu/liubinxu/miniconda3_py38/lib/python3.8/site-packages/QUANTAXIS/QAUtil/QATransform.py:55: SettingWithCopyWarning: \n",
      "A value is trying to be set on a copy of a slice from a DataFrame.\n",
      "Try using .loc[row_indexer,col_indexer] = value instead\n",
      "\n",
      "See the caveats in the documentation: https://pandas.pydata.org/pandas-docs/stable/user_guide/indexing.html#returning-a-view-versus-a-copy\n",
      "  data.datetime = data.datetime.apply(str)\n",
      "/liubinxu/liubinxu/miniconda3_py38/lib/python3.8/site-packages/QUANTAXIS/QAUtil/QATransform.py:57: SettingWithCopyWarning: \n",
      "A value is trying to be set on a copy of a slice from a DataFrame.\n",
      "Try using .loc[row_indexer,col_indexer] = value instead\n",
      "\n",
      "See the caveats in the documentation: https://pandas.pydata.org/pandas-docs/stable/user_guide/indexing.html#returning-a-view-versus-a-copy\n",
      "  data.date = data.date.apply(str)\n",
      "QUANTAXIS>> DOWNLOAD PROGRESS 27.4% \n",
      "QUANTAXIS>> ##JOB07 Now Saving ETF_MIN ==== 159923\n",
      "QUANTAXIS>> The 242 of Total 879\n",
      "QUANTAXIS>> DOWNLOAD PROGRESS 27.5% \n"
     ]
    },
    {
     "name": "stdout",
     "output_type": "stream",
     "text": [
      "save 159905 1393\n"
     ]
    },
    {
     "name": "stderr",
     "output_type": "stream",
     "text": [
      "QUANTAXIS>> ##JOB07.1 Now Saving 159920 from 2023-03-17 15:00:00 to 2021-12-31 15:00:00 ==5min \n",
      "QUANTAXIS>> ##JOB07 Now Saving ETF_MIN ==== 159925\n",
      "QUANTAXIS>> The 243 of Total 879\n",
      "QUANTAXIS>> ##JOB07 Now Saving ETF_MIN ==== 159928\n",
      "QUANTAXIS>> DOWNLOAD PROGRESS 27.6% \n",
      "QUANTAXIS>> The 244 of Total 879\n",
      "QUANTAXIS>> DOWNLOAD PROGRESS 27.7% \n",
      "QUANTAXIS>> ##JOB07 Now Saving ETF_MIN ==== 159929\n",
      "QUANTAXIS>> The 245 of Total 879\n",
      "QUANTAXIS>> DOWNLOAD PROGRESS 27.8% \n",
      "QUANTAXIS>> ##JOB07.1 Now Saving 159928 from 2023-03-17 15:00:00 to 2021-12-31 15:00:00 ==5min \n",
      "QUANTAXIS>> ##JOB07 Now Saving ETF_MIN ==== 159930\n",
      "QUANTAXIS>> The 246 of Total 879\n",
      "QUANTAXIS>> DOWNLOAD PROGRESS 27.9% \n",
      "QUANTAXIS>> ##JOB07 Now Saving ETF_MIN ==== 159931\n",
      "QUANTAXIS>> The 247 of Total 879\n",
      "QUANTAXIS>> DOWNLOAD PROGRESS 28.1% \n",
      "QUANTAXIS>> ##JOB07 Now Saving ETF_MIN ==== 159933\n",
      "QUANTAXIS>> The 248 of Total 879\n",
      "QUANTAXIS>> DOWNLOAD PROGRESS 28.2% \n",
      "QUANTAXIS>> ##JOB07 Now Saving ETF_MIN ==== 159934\n",
      "QUANTAXIS>> The 249 of Total 879\n",
      "QUANTAXIS>> DOWNLOAD PROGRESS 28.3% \n",
      "/liubinxu/liubinxu/miniconda3_py38/lib/python3.8/site-packages/QUANTAXIS/QAUtil/QATransform.py:55: SettingWithCopyWarning: \n",
      "A value is trying to be set on a copy of a slice from a DataFrame.\n",
      "Try using .loc[row_indexer,col_indexer] = value instead\n",
      "\n",
      "See the caveats in the documentation: https://pandas.pydata.org/pandas-docs/stable/user_guide/indexing.html#returning-a-view-versus-a-copy\n",
      "  data.datetime = data.datetime.apply(str)\n",
      "/liubinxu/liubinxu/miniconda3_py38/lib/python3.8/site-packages/QUANTAXIS/QAUtil/QATransform.py:57: SettingWithCopyWarning: \n",
      "A value is trying to be set on a copy of a slice from a DataFrame.\n",
      "Try using .loc[row_indexer,col_indexer] = value instead\n",
      "\n",
      "See the caveats in the documentation: https://pandas.pydata.org/pandas-docs/stable/user_guide/indexing.html#returning-a-view-versus-a-copy\n",
      "  data.date = data.date.apply(str)\n",
      "QUANTAXIS>> ##JOB07 Now Saving ETF_MIN ==== 159935\n",
      "QUANTAXIS>> The 250 of Total 879\n",
      "QUANTAXIS>> DOWNLOAD PROGRESS 28.4% \n",
      "QUANTAXIS>> ##JOB07 Now Saving ETF_MIN ==== 159936\n",
      "QUANTAXIS>> The 251 of Total 879\n",
      "QUANTAXIS>> DOWNLOAD PROGRESS 28.5% \n"
     ]
    },
    {
     "name": "stdout",
     "output_type": "stream",
     "text": [
      "save 159915 1393\n"
     ]
    },
    {
     "name": "stderr",
     "output_type": "stream",
     "text": [
      "QUANTAXIS>> ##JOB07 Now Saving ETF_MIN ==== 159937\n",
      "QUANTAXIS>> The 252 of Total 879\n",
      "QUANTAXIS>> DOWNLOAD PROGRESS 28.6% \n",
      "QUANTAXIS>> ##JOB07 Now Saving ETF_MIN ==== 159938\n",
      "QUANTAXIS>> The 253 of Total 879\n",
      "QUANTAXIS>> DOWNLOAD PROGRESS 28.7% \n",
      "/liubinxu/liubinxu/miniconda3_py38/lib/python3.8/site-packages/QUANTAXIS/QAUtil/QATransform.py:55: SettingWithCopyWarning: \n",
      "A value is trying to be set on a copy of a slice from a DataFrame.\n",
      "Try using .loc[row_indexer,col_indexer] = value instead\n",
      "\n",
      "See the caveats in the documentation: https://pandas.pydata.org/pandas-docs/stable/user_guide/indexing.html#returning-a-view-versus-a-copy\n",
      "  data.datetime = data.datetime.apply(str)\n",
      "/liubinxu/liubinxu/miniconda3_py38/lib/python3.8/site-packages/QUANTAXIS/QAUtil/QATransform.py:57: SettingWithCopyWarning: \n",
      "A value is trying to be set on a copy of a slice from a DataFrame.\n",
      "Try using .loc[row_indexer,col_indexer] = value instead\n",
      "\n",
      "See the caveats in the documentation: https://pandas.pydata.org/pandas-docs/stable/user_guide/indexing.html#returning-a-view-versus-a-copy\n",
      "  data.date = data.date.apply(str)\n",
      "QUANTAXIS>> ##JOB07 Now Saving ETF_MIN ==== 159939\n",
      "QUANTAXIS>> The 254 of Total 879\n",
      "QUANTAXIS>> DOWNLOAD PROGRESS 28.8% \n"
     ]
    },
    {
     "name": "stdout",
     "output_type": "stream",
     "text": [
      "save 159920 1393\n"
     ]
    },
    {
     "name": "stderr",
     "output_type": "stream",
     "text": [
      "QUANTAXIS>> ##JOB07 Now Saving ETF_MIN ==== 159940\n",
      "QUANTAXIS>> The 255 of Total 879\n",
      "QUANTAXIS>> DOWNLOAD PROGRESS 29.0% \n",
      "QUANTAXIS>> ##JOB07 Now Saving ETF_MIN ==== 159941\n",
      "QUANTAXIS>> The 256 of Total 879\n",
      "QUANTAXIS>> DOWNLOAD PROGRESS 29.1% \n",
      "QUANTAXIS>> ##JOB07 Now Saving ETF_MIN ==== 159943\n",
      "QUANTAXIS>> The 257 of Total 879\n",
      "QUANTAXIS>> DOWNLOAD PROGRESS 29.2% \n",
      "QUANTAXIS>> ##JOB07 Now Saving ETF_MIN ==== 159944\n",
      "QUANTAXIS>> The 258 of Total 879\n",
      "QUANTAXIS>> DOWNLOAD PROGRESS 29.3% \n",
      "QUANTAXIS>> ##JOB07 Now Saving ETF_MIN ==== 159945\n",
      "QUANTAXIS>> The 259 of Total 879\n",
      "QUANTAXIS>> DOWNLOAD PROGRESS 29.4% \n",
      "/liubinxu/liubinxu/miniconda3_py38/lib/python3.8/site-packages/QUANTAXIS/QAUtil/QATransform.py:55: SettingWithCopyWarning: \n",
      "A value is trying to be set on a copy of a slice from a DataFrame.\n",
      "Try using .loc[row_indexer,col_indexer] = value instead\n",
      "\n",
      "See the caveats in the documentation: https://pandas.pydata.org/pandas-docs/stable/user_guide/indexing.html#returning-a-view-versus-a-copy\n",
      "  data.datetime = data.datetime.apply(str)\n",
      "/liubinxu/liubinxu/miniconda3_py38/lib/python3.8/site-packages/QUANTAXIS/QAUtil/QATransform.py:57: SettingWithCopyWarning: \n",
      "A value is trying to be set on a copy of a slice from a DataFrame.\n",
      "Try using .loc[row_indexer,col_indexer] = value instead\n",
      "\n",
      "See the caveats in the documentation: https://pandas.pydata.org/pandas-docs/stable/user_guide/indexing.html#returning-a-view-versus-a-copy\n",
      "  data.date = data.date.apply(str)\n",
      "QUANTAXIS>> ##JOB07 Now Saving ETF_MIN ==== 159948\n",
      "QUANTAXIS>> The 260 of Total 879\n",
      "QUANTAXIS>> DOWNLOAD PROGRESS 29.5% \n",
      "QUANTAXIS>> ##JOB07 Now Saving ETF_MIN ==== 159949\n",
      "QUANTAXIS>> The 261 of Total 879\n",
      "QUANTAXIS>> DOWNLOAD PROGRESS 29.6% \n"
     ]
    },
    {
     "name": "stdout",
     "output_type": "stream",
     "text": [
      "save 159928 1393\n"
     ]
    },
    {
     "name": "stderr",
     "output_type": "stream",
     "text": [
      "QUANTAXIS>> ##JOB07 Now Saving ETF_MIN ==== 159952\n",
      "QUANTAXIS>> The 262 of Total 879\n",
      "QUANTAXIS>> DOWNLOAD PROGRESS 29.8% \n",
      "QUANTAXIS>> ##JOB07 Now Saving ETF_MIN ==== 159954\n",
      "QUANTAXIS>> The 263 of Total 879\n",
      "QUANTAXIS>> DOWNLOAD PROGRESS 29.9% \n",
      "QUANTAXIS>> ##JOB07 Now Saving ETF_MIN ==== 159956\n",
      "QUANTAXIS>> The 264 of Total 879\n",
      "QUANTAXIS>> DOWNLOAD PROGRESS 30.0% \n",
      "QUANTAXIS>> ##JOB07.1 Now Saving 159949 from 2023-03-17 15:00:00 to 2021-12-31 15:00:00 ==5min \n",
      "QUANTAXIS>> ##JOB07 Now Saving ETF_MIN ==== 159957\n",
      "QUANTAXIS>> The 265 of Total 879\n",
      "QUANTAXIS>> DOWNLOAD PROGRESS 30.1% \n",
      "QUANTAXIS>> ##JOB07 Now Saving ETF_MIN ==== 159958\n",
      "QUANTAXIS>> The 266 of Total 879\n",
      "QUANTAXIS>> DOWNLOAD PROGRESS 30.2% \n",
      "QUANTAXIS>> ##JOB07 Now Saving ETF_MIN ==== 159959\n",
      "QUANTAXIS>> The 267 of Total 879\n",
      "QUANTAXIS>> DOWNLOAD PROGRESS 30.3% \n",
      "QUANTAXIS>> ##JOB07 Now Saving ETF_MIN ==== 159960\n",
      "QUANTAXIS>> The 268 of Total 879\n",
      "QUANTAXIS>> DOWNLOAD PROGRESS 30.4% \n",
      "QUANTAXIS>> ##JOB07 Now Saving ETF_MIN ==== 159961\n",
      "QUANTAXIS>> The 269 of Total 879\n",
      "QUANTAXIS>> DOWNLOAD PROGRESS 30.6% \n",
      "QUANTAXIS>> ##JOB07 Now Saving ETF_MIN ==== 159964\n",
      "QUANTAXIS>> The 270 of Total 879\n",
      "QUANTAXIS>> DOWNLOAD PROGRESS 30.7% \n",
      "QUANTAXIS>> ##JOB07 Now Saving ETF_MIN ==== 510010\n",
      "QUANTAXIS>> The 271 of Total 879\n",
      "QUANTAXIS>> DOWNLOAD PROGRESS 30.8% \n",
      "QUANTAXIS>> ##JOB07 Now Saving ETF_MIN ==== 510020\n",
      "QUANTAXIS>> The 272 of Total 879\n",
      "QUANTAXIS>> DOWNLOAD PROGRESS 30.9% \n",
      "QUANTAXIS>> ##JOB07 Now Saving ETF_MIN ==== 510030\n",
      "QUANTAXIS>> The 273 of Total 879\n",
      "QUANTAXIS>> DOWNLOAD PROGRESS 31.0% \n",
      "QUANTAXIS>> ##JOB07 Now Saving ETF_MIN ==== 510050\n",
      "QUANTAXIS>> The 274 of Total 879\n",
      "QUANTAXIS>> DOWNLOAD PROGRESS 31.1% \n",
      "QUANTAXIS>> ##JOB07 Now Saving ETF_MIN ==== 510060\n",
      "QUANTAXIS>> The 275 of Total 879\n",
      "QUANTAXIS>> DOWNLOAD PROGRESS 31.2% \n",
      "QUANTAXIS>> ##JOB07 Now Saving ETF_MIN ==== 510090\n",
      "QUANTAXIS>> The 276 of Total 879\n",
      "QUANTAXIS>> DOWNLOAD PROGRESS 31.3% \n",
      "QUANTAXIS>> ##JOB07 Now Saving ETF_MIN ==== 510100\n",
      "QUANTAXIS>> ##JOB07.1 Now Saving 510050 from 2023-03-17 15:00:00 to 2021-12-31 15:00:00 ==5min \n",
      "QUANTAXIS>> The 277 of Total 879\n",
      "QUANTAXIS>> DOWNLOAD PROGRESS 31.5% \n",
      "QUANTAXIS>> ##JOB07 Now Saving ETF_MIN ==== 510110\n",
      "QUANTAXIS>> The 278 of Total 879\n",
      "QUANTAXIS>> DOWNLOAD PROGRESS 31.6% \n",
      "QUANTAXIS>> ##JOB07 Now Saving ETF_MIN ==== 510120\n",
      "QUANTAXIS>> The 279 of Total 879\n",
      "QUANTAXIS>> DOWNLOAD PROGRESS 31.7% \n",
      "QUANTAXIS>> ##JOB07 Now Saving ETF_MIN ==== 510130\n",
      "QUANTAXIS>> The 280 of Total 879\n",
      "QUANTAXIS>> DOWNLOAD PROGRESS 31.8% \n",
      "QUANTAXIS>> ##JOB07 Now Saving ETF_MIN ==== 510150\n",
      "QUANTAXIS>> The 281 of Total 879\n",
      "QUANTAXIS>> DOWNLOAD PROGRESS 31.9% \n",
      "/liubinxu/liubinxu/miniconda3_py38/lib/python3.8/site-packages/QUANTAXIS/QAUtil/QATransform.py:55: SettingWithCopyWarning: \n",
      "A value is trying to be set on a copy of a slice from a DataFrame.\n",
      "Try using .loc[row_indexer,col_indexer] = value instead\n",
      "\n",
      "See the caveats in the documentation: https://pandas.pydata.org/pandas-docs/stable/user_guide/indexing.html#returning-a-view-versus-a-copy\n",
      "  data.datetime = data.datetime.apply(str)\n",
      "/liubinxu/liubinxu/miniconda3_py38/lib/python3.8/site-packages/QUANTAXIS/QAUtil/QATransform.py:57: SettingWithCopyWarning: \n",
      "A value is trying to be set on a copy of a slice from a DataFrame.\n",
      "Try using .loc[row_indexer,col_indexer] = value instead\n",
      "\n",
      "See the caveats in the documentation: https://pandas.pydata.org/pandas-docs/stable/user_guide/indexing.html#returning-a-view-versus-a-copy\n",
      "  data.date = data.date.apply(str)\n",
      "QUANTAXIS>> ##JOB07 Now Saving ETF_MIN ==== 510160\n",
      "QUANTAXIS>> The 282 of Total 879\n",
      "QUANTAXIS>> DOWNLOAD PROGRESS 32.0% \n",
      "QUANTAXIS>> ##JOB07 Now Saving ETF_MIN ==== 510170\n",
      "QUANTAXIS>> The 283 of Total 879\n",
      "QUANTAXIS>> DOWNLOAD PROGRESS 32.1% \n"
     ]
    },
    {
     "name": "stdout",
     "output_type": "stream",
     "text": [
      "save 159949 1393\n"
     ]
    },
    {
     "name": "stderr",
     "output_type": "stream",
     "text": [
      "QUANTAXIS>> ##JOB07 Now Saving ETF_MIN ==== 510180\n",
      "QUANTAXIS>> The 284 of Total 879\n",
      "QUANTAXIS>> DOWNLOAD PROGRESS 32.3% \n",
      "QUANTAXIS>> ##JOB07 Now Saving ETF_MIN ==== 510190\n",
      "QUANTAXIS>> The 285 of Total 879\n",
      "QUANTAXIS>> DOWNLOAD PROGRESS 32.4% \n",
      "QUANTAXIS>> ##JOB07 Now Saving ETF_MIN ==== 510200\n",
      "QUANTAXIS>> The 286 of Total 879\n",
      "QUANTAXIS>> DOWNLOAD PROGRESS 32.5% \n",
      "QUANTAXIS>> ##JOB07 Now Saving ETF_MIN ==== 510210\n",
      "QUANTAXIS>> The 287 of Total 879\n",
      "QUANTAXIS>> DOWNLOAD PROGRESS 32.6% \n",
      "QUANTAXIS>> ##JOB07 Now Saving ETF_MIN ==== 510230\n",
      "QUANTAXIS>> The 288 of Total 879\n",
      "QUANTAXIS>> DOWNLOAD PROGRESS 32.7% \n",
      "QUANTAXIS>> ##JOB07 Now Saving ETF_MIN ==== 510270\n",
      "QUANTAXIS>> The 289 of Total 879\n",
      "QUANTAXIS>> DOWNLOAD PROGRESS 32.8% \n",
      "QUANTAXIS>> ##JOB07 Now Saving ETF_MIN ==== 510290\n",
      "QUANTAXIS>> The 290 of Total 879\n",
      "QUANTAXIS>> DOWNLOAD PROGRESS 32.9% \n",
      "QUANTAXIS>> ##JOB07 Now Saving ETF_MIN ==== 510300\n",
      "QUANTAXIS>> The 291 of Total 879\n",
      "QUANTAXIS>> DOWNLOAD PROGRESS 33.1% \n",
      "QUANTAXIS>> ##JOB07 Now Saving ETF_MIN ==== 510310\n",
      "QUANTAXIS>> The 292 of Total 879\n",
      "QUANTAXIS>> DOWNLOAD PROGRESS 33.2% \n",
      "QUANTAXIS>> ##JOB07 Now Saving ETF_MIN ==== 510330\n",
      "QUANTAXIS>> The 293 of Total 879\n",
      "QUANTAXIS>> DOWNLOAD PROGRESS 33.3% \n",
      "/liubinxu/liubinxu/miniconda3_py38/lib/python3.8/site-packages/QUANTAXIS/QAUtil/QATransform.py:55: SettingWithCopyWarning: \n",
      "A value is trying to be set on a copy of a slice from a DataFrame.\n",
      "Try using .loc[row_indexer,col_indexer] = value instead\n",
      "\n",
      "See the caveats in the documentation: https://pandas.pydata.org/pandas-docs/stable/user_guide/indexing.html#returning-a-view-versus-a-copy\n",
      "  data.datetime = data.datetime.apply(str)\n",
      "/liubinxu/liubinxu/miniconda3_py38/lib/python3.8/site-packages/QUANTAXIS/QAUtil/QATransform.py:57: SettingWithCopyWarning: \n",
      "A value is trying to be set on a copy of a slice from a DataFrame.\n",
      "Try using .loc[row_indexer,col_indexer] = value instead\n",
      "\n",
      "See the caveats in the documentation: https://pandas.pydata.org/pandas-docs/stable/user_guide/indexing.html#returning-a-view-versus-a-copy\n",
      "  data.date = data.date.apply(str)\n",
      "QUANTAXIS>> ##JOB07 Now Saving ETF_MIN ==== 510350\n",
      "QUANTAXIS>> The 294 of Total 879\n",
      "QUANTAXIS>> ##JOB07 Now Saving ETF_MIN ==== 510360\n",
      "QUANTAXIS>> ##JOB07.1 Now Saving 510300 from 2023-03-17 15:00:00 to 2021-12-31 15:00:00 ==5min \n",
      "QUANTAXIS>> DOWNLOAD PROGRESS 33.4% \n"
     ]
    },
    {
     "name": "stdout",
     "output_type": "stream",
     "text": [
      "save 510050 1393\n"
     ]
    },
    {
     "name": "stderr",
     "output_type": "stream",
     "text": [
      "QUANTAXIS>> ##JOB07.1 Now Saving 510330 from 2023-03-17 15:00:00 to 2021-12-31 15:00:00 ==5min \n",
      "QUANTAXIS>> ##JOB07 Now Saving ETF_MIN ==== 510370\n",
      "QUANTAXIS>> The 295 of Total 879\n",
      "QUANTAXIS>> ##JOB07 Now Saving ETF_MIN ==== 510380\n",
      "QUANTAXIS>> DOWNLOAD PROGRESS 33.5% \n",
      "QUANTAXIS>> The 296 of Total 879\n",
      "QUANTAXIS>> DOWNLOAD PROGRESS 33.6% \n",
      "QUANTAXIS>> The 297 of Total 879\n",
      "QUANTAXIS>> DOWNLOAD PROGRESS 33.7% \n",
      "QUANTAXIS>> ##JOB07 Now Saving ETF_MIN ==== 510390\n",
      "QUANTAXIS>> The 298 of Total 879\n",
      "QUANTAXIS>> ##JOB07 Now Saving ETF_MIN ==== 510410\n",
      "QUANTAXIS>> DOWNLOAD PROGRESS 33.9% \n",
      "QUANTAXIS>> The 299 of Total 879\n",
      "QUANTAXIS>> DOWNLOAD PROGRESS 34.0% \n",
      "QUANTAXIS>> ##JOB07 Now Saving ETF_MIN ==== 510500\n",
      "QUANTAXIS>> The 300 of Total 879\n",
      "QUANTAXIS>> ##JOB07 Now Saving ETF_MIN ==== 510510\n",
      "QUANTAXIS>> DOWNLOAD PROGRESS 34.1% \n",
      "QUANTAXIS>> The 301 of Total 879\n",
      "QUANTAXIS>> DOWNLOAD PROGRESS 34.2% \n",
      "/liubinxu/liubinxu/miniconda3_py38/lib/python3.8/site-packages/QUANTAXIS/QAUtil/QATransform.py:55: SettingWithCopyWarning: \n",
      "A value is trying to be set on a copy of a slice from a DataFrame.\n",
      "Try using .loc[row_indexer,col_indexer] = value instead\n",
      "\n",
      "See the caveats in the documentation: https://pandas.pydata.org/pandas-docs/stable/user_guide/indexing.html#returning-a-view-versus-a-copy\n",
      "  data.datetime = data.datetime.apply(str)\n",
      "/liubinxu/liubinxu/miniconda3_py38/lib/python3.8/site-packages/QUANTAXIS/QAUtil/QATransform.py:57: SettingWithCopyWarning: \n",
      "A value is trying to be set on a copy of a slice from a DataFrame.\n",
      "Try using .loc[row_indexer,col_indexer] = value instead\n",
      "\n",
      "See the caveats in the documentation: https://pandas.pydata.org/pandas-docs/stable/user_guide/indexing.html#returning-a-view-versus-a-copy\n",
      "  data.date = data.date.apply(str)\n",
      "QUANTAXIS>> ##JOB07 Now Saving ETF_MIN ==== 510530\n",
      "QUANTAXIS>> The 302 of Total 879\n",
      "QUANTAXIS>> DOWNLOAD PROGRESS 34.3% \n",
      "QUANTAXIS>> ##JOB07 Now Saving ETF_MIN ==== 510550\n",
      "QUANTAXIS>> ##JOB07.1 Now Saving 510500 from 2023-03-17 15:00:00 to 2021-12-31 15:00:00 ==5min \n",
      "QUANTAXIS>> The 303 of Total 879\n",
      "QUANTAXIS>> ##JOB07 Now Saving ETF_MIN ==== 510560\n"
     ]
    },
    {
     "name": "stdout",
     "output_type": "stream",
     "text": [
      "save 510300 1393\n"
     ]
    },
    {
     "name": "stderr",
     "output_type": "stream",
     "text": [
      "QUANTAXIS>> DOWNLOAD PROGRESS 34.4% \n",
      "QUANTAXIS>> ##JOB07 Now Saving ETF_MIN ==== 510570\n",
      "QUANTAXIS>> The 304 of Total 879\n",
      "/liubinxu/liubinxu/miniconda3_py38/lib/python3.8/site-packages/QUANTAXIS/QAUtil/QATransform.py:55: SettingWithCopyWarning: \n",
      "A value is trying to be set on a copy of a slice from a DataFrame.\n",
      "Try using .loc[row_indexer,col_indexer] = value instead\n",
      "\n",
      "See the caveats in the documentation: https://pandas.pydata.org/pandas-docs/stable/user_guide/indexing.html#returning-a-view-versus-a-copy\n",
      "  data.datetime = data.datetime.apply(str)\n",
      "/liubinxu/liubinxu/miniconda3_py38/lib/python3.8/site-packages/QUANTAXIS/QAUtil/QATransform.py:57: SettingWithCopyWarning: \n",
      "A value is trying to be set on a copy of a slice from a DataFrame.\n",
      "Try using .loc[row_indexer,col_indexer] = value instead\n",
      "\n",
      "See the caveats in the documentation: https://pandas.pydata.org/pandas-docs/stable/user_guide/indexing.html#returning-a-view-versus-a-copy\n",
      "  data.date = data.date.apply(str)\n",
      "QUANTAXIS>> ##JOB07 Now Saving ETF_MIN ==== 510580\n",
      "QUANTAXIS>> DOWNLOAD PROGRESS 34.5% \n",
      "QUANTAXIS>> The 305 of Total 879\n",
      "QUANTAXIS>> ##JOB07 Now Saving ETF_MIN ==== 510590\n",
      "QUANTAXIS>> DOWNLOAD PROGRESS 34.6% \n",
      "QUANTAXIS>> ##JOB07 Now Saving ETF_MIN ==== 510600\n",
      "QUANTAXIS>> The 306 of Total 879\n",
      "QUANTAXIS>> DOWNLOAD PROGRESS 34.8% \n",
      "QUANTAXIS>> The 307 of Total 879\n",
      "QUANTAXIS>> DOWNLOAD PROGRESS 34.9% \n",
      "QUANTAXIS>> The 308 of Total 879\n",
      "QUANTAXIS>> DOWNLOAD PROGRESS 35.0% \n"
     ]
    },
    {
     "name": "stdout",
     "output_type": "stream",
     "text": [
      "save 510330 1393\n"
     ]
    },
    {
     "name": "stderr",
     "output_type": "stream",
     "text": [
      "QUANTAXIS>> ##JOB07 Now Saving ETF_MIN ==== 510630\n",
      "QUANTAXIS>> The 309 of Total 879\n",
      "QUANTAXIS>> DOWNLOAD PROGRESS 35.1% \n",
      "QUANTAXIS>> ##JOB07 Now Saving ETF_MIN ==== 510650\n",
      "QUANTAXIS>> The 310 of Total 879\n",
      "QUANTAXIS>> DOWNLOAD PROGRESS 35.2% \n",
      "QUANTAXIS>> ##JOB07 Now Saving ETF_MIN ==== 510660\n",
      "QUANTAXIS>> The 311 of Total 879\n",
      "QUANTAXIS>> DOWNLOAD PROGRESS 35.3% \n",
      "QUANTAXIS>> ##JOB07 Now Saving ETF_MIN ==== 510680\n",
      "QUANTAXIS>> The 312 of Total 879\n",
      "QUANTAXIS>> DOWNLOAD PROGRESS 35.4% \n",
      "QUANTAXIS>> ##JOB07 Now Saving ETF_MIN ==== 510710\n",
      "QUANTAXIS>> The 313 of Total 879\n",
      "QUANTAXIS>> DOWNLOAD PROGRESS 35.6% \n",
      "QUANTAXIS>> ##JOB07 Now Saving ETF_MIN ==== 510760\n",
      "QUANTAXIS>> The 314 of Total 879\n",
      "QUANTAXIS>> DOWNLOAD PROGRESS 35.7% \n",
      "QUANTAXIS>> ##JOB07 Now Saving ETF_MIN ==== 510770\n",
      "QUANTAXIS>> The 315 of Total 879\n",
      "QUANTAXIS>> DOWNLOAD PROGRESS 35.8% \n",
      "QUANTAXIS>> ##JOB07 Now Saving ETF_MIN ==== 510800\n",
      "QUANTAXIS>> The 316 of Total 879\n",
      "QUANTAXIS>> DOWNLOAD PROGRESS 35.9% \n",
      "QUANTAXIS>> ##JOB07 Now Saving ETF_MIN ==== 510810\n",
      "QUANTAXIS>> The 317 of Total 879\n",
      "QUANTAXIS>> DOWNLOAD PROGRESS 36.0% \n",
      "QUANTAXIS>> ##JOB07 Now Saving ETF_MIN ==== 510850\n",
      "QUANTAXIS>> The 318 of Total 879\n",
      "QUANTAXIS>> DOWNLOAD PROGRESS 36.1% \n",
      "QUANTAXIS>> ##JOB07 Now Saving ETF_MIN ==== 510880\n",
      "QUANTAXIS>> The 319 of Total 879\n",
      "QUANTAXIS>> DOWNLOAD PROGRESS 36.2% \n",
      "QUANTAXIS>> ##JOB07 Now Saving ETF_MIN ==== 510900\n",
      "QUANTAXIS>> The 320 of Total 879\n",
      "QUANTAXIS>> DOWNLOAD PROGRESS 36.4% \n",
      "QUANTAXIS>> ##JOB07 Now Saving ETF_MIN ==== 510990\n",
      "QUANTAXIS>> The 321 of Total 879\n",
      "QUANTAXIS>> DOWNLOAD PROGRESS 36.5% \n",
      "/liubinxu/liubinxu/miniconda3_py38/lib/python3.8/site-packages/QUANTAXIS/QAUtil/QATransform.py:55: SettingWithCopyWarning: \n",
      "A value is trying to be set on a copy of a slice from a DataFrame.\n",
      "Try using .loc[row_indexer,col_indexer] = value instead\n",
      "\n",
      "See the caveats in the documentation: https://pandas.pydata.org/pandas-docs/stable/user_guide/indexing.html#returning-a-view-versus-a-copy\n",
      "  data.datetime = data.datetime.apply(str)\n",
      "/liubinxu/liubinxu/miniconda3_py38/lib/python3.8/site-packages/QUANTAXIS/QAUtil/QATransform.py:57: SettingWithCopyWarning: \n",
      "A value is trying to be set on a copy of a slice from a DataFrame.\n",
      "Try using .loc[row_indexer,col_indexer] = value instead\n",
      "\n",
      "See the caveats in the documentation: https://pandas.pydata.org/pandas-docs/stable/user_guide/indexing.html#returning-a-view-versus-a-copy\n",
      "  data.date = data.date.apply(str)\n",
      "QUANTAXIS>> ##JOB07 Now Saving ETF_MIN ==== 511010\n",
      "QUANTAXIS>> The 322 of Total 879\n",
      "QUANTAXIS>> DOWNLOAD PROGRESS 36.6% \n",
      "QUANTAXIS>> ##JOB07.1 Now Saving 510880 from 2023-03-17 15:00:00 to 2021-12-31 15:00:00 ==5min \n"
     ]
    },
    {
     "name": "stdout",
     "output_type": "stream",
     "text": [
      "save 510500 1393\n"
     ]
    },
    {
     "name": "stderr",
     "output_type": "stream",
     "text": [
      "QUANTAXIS>> ##JOB07.1 Now Saving 510900 from 2023-03-17 15:00:00 to 2021-12-31 15:00:00 ==5min \n",
      "QUANTAXIS>> ##JOB07 Now Saving ETF_MIN ==== 511020\n",
      "QUANTAXIS>> The 323 of Total 879\n",
      "QUANTAXIS>> DOWNLOAD PROGRESS 36.7% \n",
      "QUANTAXIS>> ##JOB07 Now Saving ETF_MIN ==== 511030\n",
      "QUANTAXIS>> The 324 of Total 879\n",
      "QUANTAXIS>> DOWNLOAD PROGRESS 36.8% \n",
      "QUANTAXIS>> ##JOB07 Now Saving ETF_MIN ==== 511060\n",
      "QUANTAXIS>> The 325 of Total 879\n",
      "QUANTAXIS>> ##JOB07 Now Saving ETF_MIN ==== 511180\n",
      "QUANTAXIS>> DOWNLOAD PROGRESS 36.9% \n",
      "QUANTAXIS>> The 326 of Total 879\n",
      "QUANTAXIS>> ##JOB07 Now Saving ETF_MIN ==== 511220\n",
      "QUANTAXIS>> DOWNLOAD PROGRESS 37.0% \n",
      "QUANTAXIS>> ##JOB07 Now Saving ETF_MIN ==== 511260\n",
      "QUANTAXIS>> The 327 of Total 879\n",
      "QUANTAXIS>> DOWNLOAD PROGRESS 37.2% \n",
      "QUANTAXIS>> The 328 of Total 879\n",
      "QUANTAXIS>> ##JOB07 Now Saving ETF_MIN ==== 511270\n",
      "QUANTAXIS>> DOWNLOAD PROGRESS 37.3% \n",
      "QUANTAXIS>> The 329 of Total 879\n",
      "QUANTAXIS>> DOWNLOAD PROGRESS 37.4% \n",
      "QUANTAXIS>> ##JOB07 Now Saving ETF_MIN ==== 511360\n",
      "QUANTAXIS>> The 330 of Total 879\n",
      "QUANTAXIS>> DOWNLOAD PROGRESS 37.5% \n",
      "QUANTAXIS>> ##JOB07 Now Saving ETF_MIN ==== 511380\n",
      "QUANTAXIS>> The 331 of Total 879\n",
      "QUANTAXIS>> DOWNLOAD PROGRESS 37.6% \n",
      "QUANTAXIS>> ##JOB07 Now Saving ETF_MIN ==== 511520\n",
      "QUANTAXIS>> The 332 of Total 879\n",
      "QUANTAXIS>> DOWNLOAD PROGRESS 37.7% \n",
      "QUANTAXIS>> ##JOB07 Now Saving ETF_MIN ==== 511580\n",
      "QUANTAXIS>> The 333 of Total 879\n",
      "QUANTAXIS>> DOWNLOAD PROGRESS 37.8% \n",
      "QUANTAXIS>> ##JOB07.1 Now Saving 511380 from 2023-03-17 15:00:00 to 2021-12-31 15:00:00 ==5min \n",
      "QUANTAXIS>> ##JOB07 Now Saving ETF_MIN ==== 511600\n",
      "QUANTAXIS>> The 334 of Total 879\n",
      "QUANTAXIS>> DOWNLOAD PROGRESS 37.9% \n",
      "/liubinxu/liubinxu/miniconda3_py38/lib/python3.8/site-packages/QUANTAXIS/QAUtil/QATransform.py:55: SettingWithCopyWarning: \n",
      "A value is trying to be set on a copy of a slice from a DataFrame.\n",
      "Try using .loc[row_indexer,col_indexer] = value instead\n",
      "\n",
      "See the caveats in the documentation: https://pandas.pydata.org/pandas-docs/stable/user_guide/indexing.html#returning-a-view-versus-a-copy\n",
      "  data.datetime = data.datetime.apply(str)\n",
      "/liubinxu/liubinxu/miniconda3_py38/lib/python3.8/site-packages/QUANTAXIS/QAUtil/QATransform.py:57: SettingWithCopyWarning: \n",
      "A value is trying to be set on a copy of a slice from a DataFrame.\n",
      "Try using .loc[row_indexer,col_indexer] = value instead\n",
      "\n",
      "See the caveats in the documentation: https://pandas.pydata.org/pandas-docs/stable/user_guide/indexing.html#returning-a-view-versus-a-copy\n",
      "  data.date = data.date.apply(str)\n",
      "QUANTAXIS>> ##JOB07 Now Saving ETF_MIN ==== 511620\n",
      "QUANTAXIS>> The 335 of Total 879\n",
      "QUANTAXIS>> DOWNLOAD PROGRESS 38.1% \n",
      "QUANTAXIS>> ##JOB07 Now Saving ETF_MIN ==== 511650\n",
      "QUANTAXIS>> The 336 of Total 879\n",
      "QUANTAXIS>> DOWNLOAD PROGRESS 38.2% \n"
     ]
    },
    {
     "name": "stdout",
     "output_type": "stream",
     "text": [
      "save 510880 1393\n"
     ]
    },
    {
     "name": "stderr",
     "output_type": "stream",
     "text": [
      "QUANTAXIS>> ##JOB07 Now Saving ETF_MIN ==== 511660\n",
      "QUANTAXIS>> The 337 of Total 879\n",
      "QUANTAXIS>> DOWNLOAD PROGRESS 38.3% \n",
      "QUANTAXIS>> ##JOB07 Now Saving ETF_MIN ==== 511670\n",
      "QUANTAXIS>> The 338 of Total 879\n",
      "QUANTAXIS>> DOWNLOAD PROGRESS 38.4% \n",
      "/liubinxu/liubinxu/miniconda3_py38/lib/python3.8/site-packages/QUANTAXIS/QAUtil/QATransform.py:55: SettingWithCopyWarning: \n",
      "A value is trying to be set on a copy of a slice from a DataFrame.\n",
      "Try using .loc[row_indexer,col_indexer] = value instead\n",
      "\n",
      "See the caveats in the documentation: https://pandas.pydata.org/pandas-docs/stable/user_guide/indexing.html#returning-a-view-versus-a-copy\n",
      "  data.datetime = data.datetime.apply(str)\n",
      "/liubinxu/liubinxu/miniconda3_py38/lib/python3.8/site-packages/QUANTAXIS/QAUtil/QATransform.py:57: SettingWithCopyWarning: \n",
      "A value is trying to be set on a copy of a slice from a DataFrame.\n",
      "Try using .loc[row_indexer,col_indexer] = value instead\n",
      "\n",
      "See the caveats in the documentation: https://pandas.pydata.org/pandas-docs/stable/user_guide/indexing.html#returning-a-view-versus-a-copy\n",
      "  data.date = data.date.apply(str)\n",
      "QUANTAXIS>> ##JOB07 Now Saving ETF_MIN ==== 511690\n",
      "QUANTAXIS>> The 339 of Total 879\n",
      "QUANTAXIS>> DOWNLOAD PROGRESS 38.5% \n",
      "QUANTAXIS>> ##JOB07 Now Saving ETF_MIN ==== 511700\n",
      "QUANTAXIS>> The 340 of Total 879\n",
      "QUANTAXIS>> DOWNLOAD PROGRESS 38.6% \n"
     ]
    },
    {
     "name": "stdout",
     "output_type": "stream",
     "text": [
      "save 510900 1393\n"
     ]
    },
    {
     "name": "stderr",
     "output_type": "stream",
     "text": [
      "QUANTAXIS>> ##JOB07 Now Saving ETF_MIN ==== 511770\n",
      "QUANTAXIS>> The 341 of Total 879\n",
      "QUANTAXIS>> DOWNLOAD PROGRESS 38.7% \n",
      "QUANTAXIS>> ##JOB07 Now Saving ETF_MIN ==== 511800\n",
      "QUANTAXIS>> The 342 of Total 879\n",
      "QUANTAXIS>> DOWNLOAD PROGRESS 38.9% \n",
      "QUANTAXIS>> ##JOB07 Now Saving ETF_MIN ==== 511810\n",
      "QUANTAXIS>> The 343 of Total 879\n",
      "QUANTAXIS>> DOWNLOAD PROGRESS 39.0% \n",
      "QUANTAXIS>> ##JOB07 Now Saving ETF_MIN ==== 511820\n",
      "QUANTAXIS>> The 344 of Total 879\n",
      "QUANTAXIS>> DOWNLOAD PROGRESS 39.1% \n",
      "QUANTAXIS>> ##JOB07 Now Saving ETF_MIN ==== 511830\n",
      "QUANTAXIS>> The 345 of Total 879\n",
      "QUANTAXIS>> DOWNLOAD PROGRESS 39.2% \n",
      "QUANTAXIS>> ##JOB07 Now Saving ETF_MIN ==== 511850\n",
      "QUANTAXIS>> The 346 of Total 879\n",
      "QUANTAXIS>> DOWNLOAD PROGRESS 39.3% \n",
      "QUANTAXIS>> ##JOB07 Now Saving ETF_MIN ==== 511860\n",
      "QUANTAXIS>> The 347 of Total 879\n",
      "QUANTAXIS>> DOWNLOAD PROGRESS 39.4% \n",
      "QUANTAXIS>> ##JOB07 Now Saving ETF_MIN ==== 511880\n",
      "QUANTAXIS>> The 348 of Total 879\n",
      "QUANTAXIS>> DOWNLOAD PROGRESS 39.5% \n",
      "QUANTAXIS>> ##JOB07 Now Saving ETF_MIN ==== 511900\n",
      "QUANTAXIS>> The 349 of Total 879\n",
      "QUANTAXIS>> DOWNLOAD PROGRESS 39.7% \n",
      "QUANTAXIS>> ##JOB07 Now Saving ETF_MIN ==== 511910\n",
      "QUANTAXIS>> The 350 of Total 879\n",
      "QUANTAXIS>> DOWNLOAD PROGRESS 39.8% \n",
      "QUANTAXIS>> ##JOB07 Now Saving ETF_MIN ==== 511920\n",
      "QUANTAXIS>> The 351 of Total 879\n",
      "QUANTAXIS>> DOWNLOAD PROGRESS 39.9% \n",
      "QUANTAXIS>> ##JOB07 Now Saving ETF_MIN ==== 511930\n",
      "QUANTAXIS>> The 352 of Total 879\n",
      "QUANTAXIS>> DOWNLOAD PROGRESS 40.0% \n",
      "/liubinxu/liubinxu/miniconda3_py38/lib/python3.8/site-packages/QUANTAXIS/QAUtil/QATransform.py:55: SettingWithCopyWarning: \n",
      "A value is trying to be set on a copy of a slice from a DataFrame.\n",
      "Try using .loc[row_indexer,col_indexer] = value instead\n",
      "\n",
      "See the caveats in the documentation: https://pandas.pydata.org/pandas-docs/stable/user_guide/indexing.html#returning-a-view-versus-a-copy\n",
      "  data.datetime = data.datetime.apply(str)\n",
      "/liubinxu/liubinxu/miniconda3_py38/lib/python3.8/site-packages/QUANTAXIS/QAUtil/QATransform.py:57: SettingWithCopyWarning: \n",
      "A value is trying to be set on a copy of a slice from a DataFrame.\n",
      "Try using .loc[row_indexer,col_indexer] = value instead\n",
      "\n",
      "See the caveats in the documentation: https://pandas.pydata.org/pandas-docs/stable/user_guide/indexing.html#returning-a-view-versus-a-copy\n",
      "  data.date = data.date.apply(str)\n",
      "QUANTAXIS>> ##JOB07 Now Saving ETF_MIN ==== 511950\n",
      "QUANTAXIS>> The 353 of Total 879\n",
      "QUANTAXIS>> DOWNLOAD PROGRESS 40.1% \n",
      "QUANTAXIS>> ##JOB07 Now Saving ETF_MIN ==== 511960\n",
      "QUANTAXIS>> The 354 of Total 879\n",
      "QUANTAXIS>> DOWNLOAD PROGRESS 40.2% \n"
     ]
    },
    {
     "name": "stdout",
     "output_type": "stream",
     "text": [
      "save 511380 1393\n"
     ]
    },
    {
     "name": "stderr",
     "output_type": "stream",
     "text": [
      "QUANTAXIS>> ##JOB07 Now Saving ETF_MIN ==== 511970\n",
      "QUANTAXIS>> The 355 of Total 879\n",
      "QUANTAXIS>> DOWNLOAD PROGRESS 40.3% \n",
      "QUANTAXIS>> ##JOB07 Now Saving ETF_MIN ==== 511980\n",
      "QUANTAXIS>> The 356 of Total 879\n",
      "QUANTAXIS>> DOWNLOAD PROGRESS 40.5% \n",
      "QUANTAXIS>> ##JOB07 Now Saving ETF_MIN ==== 511990\n",
      "QUANTAXIS>> The 357 of Total 879\n",
      "QUANTAXIS>> DOWNLOAD PROGRESS 40.6% \n",
      "QUANTAXIS>> ##JOB07 Now Saving ETF_MIN ==== 512000\n",
      "QUANTAXIS>> The 358 of Total 879\n",
      "QUANTAXIS>> DOWNLOAD PROGRESS 40.7% \n",
      "QUANTAXIS>> ##JOB07 Now Saving ETF_MIN ==== 512010\n",
      "QUANTAXIS>> The 359 of Total 879\n",
      "QUANTAXIS>> DOWNLOAD PROGRESS 40.8% \n",
      "QUANTAXIS>> ##JOB07 Now Saving ETF_MIN ==== 512040\n",
      "QUANTAXIS>> The 360 of Total 879\n",
      "QUANTAXIS>> DOWNLOAD PROGRESS 40.9% \n",
      "QUANTAXIS>> ##JOB07 Now Saving ETF_MIN ==== 512070\n",
      "QUANTAXIS>> The 361 of Total 879\n",
      "QUANTAXIS>> DOWNLOAD PROGRESS 41.0% \n",
      "QUANTAXIS>> ##JOB07.1 Now Saving 512000 from 2023-03-17 15:00:00 to 2021-12-31 15:00:00 ==5min \n",
      "QUANTAXIS>> ##JOB07 Now Saving ETF_MIN ==== 512090\n",
      "QUANTAXIS>> The 362 of Total 879\n",
      "QUANTAXIS>> DOWNLOAD PROGRESS 41.1% \n",
      "QUANTAXIS>> ##JOB07.1 Now Saving 512010 from 2023-03-17 15:00:00 to 2021-12-31 15:00:00 ==5min \n",
      "QUANTAXIS>> ##JOB07.1 Now Saving 512070 from 2023-03-17 15:00:00 to 2021-12-31 15:00:00 ==5min \n",
      "QUANTAXIS>> ##JOB07 Now Saving ETF_MIN ==== 512100\n",
      "QUANTAXIS>> The 363 of Total 879\n",
      "QUANTAXIS>> DOWNLOAD PROGRESS 41.2% \n",
      "QUANTAXIS>> ##JOB07.1 Now Saving 512100 from 2023-03-17 15:00:00 to 2021-12-31 15:00:00 ==5min \n",
      "/liubinxu/liubinxu/miniconda3_py38/lib/python3.8/site-packages/QUANTAXIS/QAUtil/QATransform.py:55: SettingWithCopyWarning: \n",
      "A value is trying to be set on a copy of a slice from a DataFrame.\n",
      "Try using .loc[row_indexer,col_indexer] = value instead\n",
      "\n",
      "See the caveats in the documentation: https://pandas.pydata.org/pandas-docs/stable/user_guide/indexing.html#returning-a-view-versus-a-copy\n",
      "  data.datetime = data.datetime.apply(str)\n",
      "/liubinxu/liubinxu/miniconda3_py38/lib/python3.8/site-packages/QUANTAXIS/QAUtil/QATransform.py:57: SettingWithCopyWarning: \n",
      "A value is trying to be set on a copy of a slice from a DataFrame.\n",
      "Try using .loc[row_indexer,col_indexer] = value instead\n",
      "\n",
      "See the caveats in the documentation: https://pandas.pydata.org/pandas-docs/stable/user_guide/indexing.html#returning-a-view-versus-a-copy\n",
      "  data.date = data.date.apply(str)\n",
      "/liubinxu/liubinxu/miniconda3_py38/lib/python3.8/site-packages/QUANTAXIS/QAUtil/QATransform.py:55: SettingWithCopyWarning: \n",
      "A value is trying to be set on a copy of a slice from a DataFrame.\n",
      "Try using .loc[row_indexer,col_indexer] = value instead\n",
      "\n",
      "See the caveats in the documentation: https://pandas.pydata.org/pandas-docs/stable/user_guide/indexing.html#returning-a-view-versus-a-copy\n",
      "  data.datetime = data.datetime.apply(str)\n",
      "/liubinxu/liubinxu/miniconda3_py38/lib/python3.8/site-packages/QUANTAXIS/QAUtil/QATransform.py:57: SettingWithCopyWarning: \n",
      "A value is trying to be set on a copy of a slice from a DataFrame.\n",
      "Try using .loc[row_indexer,col_indexer] = value instead\n",
      "\n",
      "See the caveats in the documentation: https://pandas.pydata.org/pandas-docs/stable/user_guide/indexing.html#returning-a-view-versus-a-copy\n",
      "  data.date = data.date.apply(str)\n",
      "QUANTAXIS>> ##JOB07 Now Saving ETF_MIN ==== 512120\n",
      "QUANTAXIS>> The 364 of Total 879\n",
      "QUANTAXIS>> ##JOB07 Now Saving ETF_MIN ==== 512150\n"
     ]
    },
    {
     "name": "stdout",
     "output_type": "stream",
     "text": [
      "save 512000 1393\n",
      "save 512010 1393\n"
     ]
    },
    {
     "name": "stderr",
     "output_type": "stream",
     "text": [
      "/liubinxu/liubinxu/miniconda3_py38/lib/python3.8/site-packages/QUANTAXIS/QAUtil/QATransform.py:55: SettingWithCopyWarning: \n",
      "A value is trying to be set on a copy of a slice from a DataFrame.\n",
      "Try using .loc[row_indexer,col_indexer] = value instead\n",
      "\n",
      "See the caveats in the documentation: https://pandas.pydata.org/pandas-docs/stable/user_guide/indexing.html#returning-a-view-versus-a-copy\n",
      "  data.datetime = data.datetime.apply(str)\n",
      "/liubinxu/liubinxu/miniconda3_py38/lib/python3.8/site-packages/QUANTAXIS/QAUtil/QATransform.py:57: SettingWithCopyWarning: \n",
      "A value is trying to be set on a copy of a slice from a DataFrame.\n",
      "Try using .loc[row_indexer,col_indexer] = value instead\n",
      "\n",
      "See the caveats in the documentation: https://pandas.pydata.org/pandas-docs/stable/user_guide/indexing.html#returning-a-view-versus-a-copy\n",
      "  data.date = data.date.apply(str)\n",
      "QUANTAXIS>> DOWNLOAD PROGRESS 41.4% \n",
      "QUANTAXIS>> ##JOB07 Now Saving ETF_MIN ==== 512170\n",
      "QUANTAXIS>> ##JOB07 Now Saving ETF_MIN ==== 512160\n",
      "QUANTAXIS>> The 365 of Total 879\n"
     ]
    },
    {
     "name": "stdout",
     "output_type": "stream",
     "text": [
      "save 512070 1393\n"
     ]
    },
    {
     "name": "stderr",
     "output_type": "stream",
     "text": [
      "QUANTAXIS>> ##JOB07 Now Saving ETF_MIN ==== 512180\n",
      "QUANTAXIS>> DOWNLOAD PROGRESS 41.5% \n",
      "QUANTAXIS>> The 366 of Total 879\n",
      "QUANTAXIS>> DOWNLOAD PROGRESS 41.6% \n",
      "QUANTAXIS>> The 367 of Total 879\n",
      "QUANTAXIS>> DOWNLOAD PROGRESS 41.7% \n",
      "QUANTAXIS>> The 368 of Total 879\n",
      "QUANTAXIS>> DOWNLOAD PROGRESS 41.8% \n",
      "QUANTAXIS>> ##JOB07 Now Saving ETF_MIN ==== 512190\n",
      "QUANTAXIS>> The 369 of Total 879\n",
      "QUANTAXIS>> DOWNLOAD PROGRESS 41.9% \n",
      "QUANTAXIS>> ##JOB07 Now Saving ETF_MIN ==== 512200\n",
      "QUANTAXIS>> The 370 of Total 879\n",
      "QUANTAXIS>> ##JOB07.1 Now Saving 512170 from 2023-03-17 15:00:00 to 2021-12-31 15:00:00 ==5min \n",
      "QUANTAXIS>> DOWNLOAD PROGRESS 42.0% \n",
      "QUANTAXIS>> ##JOB07 Now Saving ETF_MIN ==== 512220\n",
      "QUANTAXIS>> The 371 of Total 879\n",
      "QUANTAXIS>> DOWNLOAD PROGRESS 42.2% \n",
      "QUANTAXIS>> ##JOB07.1 Now Saving 512200 from 2023-03-17 15:00:00 to 2021-12-31 15:00:00 ==5min \n",
      "QUANTAXIS>> ##JOB07 Now Saving ETF_MIN ==== 512260\n",
      "QUANTAXIS>> The 372 of Total 879\n",
      "QUANTAXIS>> DOWNLOAD PROGRESS 42.3% \n",
      "/liubinxu/liubinxu/miniconda3_py38/lib/python3.8/site-packages/QUANTAXIS/QAUtil/QATransform.py:55: SettingWithCopyWarning: \n",
      "A value is trying to be set on a copy of a slice from a DataFrame.\n",
      "Try using .loc[row_indexer,col_indexer] = value instead\n",
      "\n",
      "See the caveats in the documentation: https://pandas.pydata.org/pandas-docs/stable/user_guide/indexing.html#returning-a-view-versus-a-copy\n",
      "  data.datetime = data.datetime.apply(str)\n",
      "/liubinxu/liubinxu/miniconda3_py38/lib/python3.8/site-packages/QUANTAXIS/QAUtil/QATransform.py:57: SettingWithCopyWarning: \n",
      "A value is trying to be set on a copy of a slice from a DataFrame.\n",
      "Try using .loc[row_indexer,col_indexer] = value instead\n",
      "\n",
      "See the caveats in the documentation: https://pandas.pydata.org/pandas-docs/stable/user_guide/indexing.html#returning-a-view-versus-a-copy\n",
      "  data.date = data.date.apply(str)\n",
      "QUANTAXIS>> ##JOB07 Now Saving ETF_MIN ==== 512280\n",
      "QUANTAXIS>> The 373 of Total 879\n",
      "QUANTAXIS>> DOWNLOAD PROGRESS 42.4% \n",
      "QUANTAXIS>> ##JOB07 Now Saving ETF_MIN ==== 512290\n",
      "QUANTAXIS>> The 374 of Total 879\n",
      "QUANTAXIS>> DOWNLOAD PROGRESS 42.5% \n",
      "QUANTAXIS>> ##JOB07 Now Saving ETF_MIN ==== 512320\n",
      "QUANTAXIS>> The 375 of Total 879\n"
     ]
    },
    {
     "name": "stdout",
     "output_type": "stream",
     "text": [
      "save 512100 1393\n"
     ]
    },
    {
     "name": "stderr",
     "output_type": "stream",
     "text": [
      "QUANTAXIS>> DOWNLOAD PROGRESS 42.6% \n",
      "QUANTAXIS>> ##JOB07 Now Saving ETF_MIN ==== 512330\n",
      "QUANTAXIS>> The 376 of Total 879\n",
      "QUANTAXIS>> ##JOB07.1 Now Saving 512290 from 2023-03-17 15:00:00 to 2021-12-31 15:00:00 ==5min \n",
      "QUANTAXIS>> DOWNLOAD PROGRESS 42.7% \n",
      "/liubinxu/liubinxu/miniconda3_py38/lib/python3.8/site-packages/QUANTAXIS/QAUtil/QATransform.py:55: SettingWithCopyWarning: \n",
      "A value is trying to be set on a copy of a slice from a DataFrame.\n",
      "Try using .loc[row_indexer,col_indexer] = value instead\n",
      "\n",
      "See the caveats in the documentation: https://pandas.pydata.org/pandas-docs/stable/user_guide/indexing.html#returning-a-view-versus-a-copy\n",
      "  data.datetime = data.datetime.apply(str)\n",
      "/liubinxu/liubinxu/miniconda3_py38/lib/python3.8/site-packages/QUANTAXIS/QAUtil/QATransform.py:57: SettingWithCopyWarning: \n",
      "A value is trying to be set on a copy of a slice from a DataFrame.\n",
      "Try using .loc[row_indexer,col_indexer] = value instead\n",
      "\n",
      "See the caveats in the documentation: https://pandas.pydata.org/pandas-docs/stable/user_guide/indexing.html#returning-a-view-versus-a-copy\n",
      "  data.date = data.date.apply(str)\n",
      "QUANTAXIS>> ##JOB07 Now Saving ETF_MIN ==== 512360\n",
      "QUANTAXIS>> The 377 of Total 879\n",
      "QUANTAXIS>> DOWNLOAD PROGRESS 42.8% \n",
      "QUANTAXIS>> ##JOB07 Now Saving ETF_MIN ==== 512380\n",
      "QUANTAXIS>> The 378 of Total 879\n",
      "QUANTAXIS>> DOWNLOAD PROGRESS 43.0% \n"
     ]
    },
    {
     "name": "stdout",
     "output_type": "stream",
     "text": [
      "save 512170 1393\n"
     ]
    },
    {
     "name": "stderr",
     "output_type": "stream",
     "text": [
      "QUANTAXIS>> ##JOB07 Now Saving ETF_MIN ==== 512390\n",
      "QUANTAXIS>> The 379 of Total 879\n",
      "QUANTAXIS>> DOWNLOAD PROGRESS 43.1% \n",
      "QUANTAXIS>> ##JOB07 Now Saving ETF_MIN ==== 512400\n",
      "QUANTAXIS>> The 380 of Total 879\n",
      "QUANTAXIS>> DOWNLOAD PROGRESS 43.2% \n",
      "QUANTAXIS>> ##JOB07 Now Saving ETF_MIN ==== 512480\n",
      "QUANTAXIS>> The 381 of Total 879\n",
      "QUANTAXIS>> DOWNLOAD PROGRESS 43.3% \n",
      "QUANTAXIS>> ##JOB07.1 Now Saving 512400 from 2023-03-17 15:00:00 to 2021-12-31 15:00:00 ==5min \n",
      "QUANTAXIS>> ##JOB07.1 Now Saving 512480 from 2023-03-17 15:00:00 to 2021-12-31 15:00:00 ==5min \n",
      "/liubinxu/liubinxu/miniconda3_py38/lib/python3.8/site-packages/QUANTAXIS/QAUtil/QATransform.py:55: SettingWithCopyWarning: \n",
      "A value is trying to be set on a copy of a slice from a DataFrame.\n",
      "Try using .loc[row_indexer,col_indexer] = value instead\n",
      "\n",
      "See the caveats in the documentation: https://pandas.pydata.org/pandas-docs/stable/user_guide/indexing.html#returning-a-view-versus-a-copy\n",
      "  data.datetime = data.datetime.apply(str)\n",
      "/liubinxu/liubinxu/miniconda3_py38/lib/python3.8/site-packages/QUANTAXIS/QAUtil/QATransform.py:57: SettingWithCopyWarning: \n",
      "A value is trying to be set on a copy of a slice from a DataFrame.\n",
      "Try using .loc[row_indexer,col_indexer] = value instead\n",
      "\n",
      "See the caveats in the documentation: https://pandas.pydata.org/pandas-docs/stable/user_guide/indexing.html#returning-a-view-versus-a-copy\n",
      "  data.date = data.date.apply(str)\n",
      "/liubinxu/liubinxu/miniconda3_py38/lib/python3.8/site-packages/QUANTAXIS/QAUtil/QATransform.py:55: SettingWithCopyWarning: \n",
      "A value is trying to be set on a copy of a slice from a DataFrame.\n",
      "Try using .loc[row_indexer,col_indexer] = value instead\n",
      "\n",
      "See the caveats in the documentation: https://pandas.pydata.org/pandas-docs/stable/user_guide/indexing.html#returning-a-view-versus-a-copy\n",
      "  data.datetime = data.datetime.apply(str)\n",
      "/liubinxu/liubinxu/miniconda3_py38/lib/python3.8/site-packages/QUANTAXIS/QAUtil/QATransform.py:57: SettingWithCopyWarning: \n",
      "A value is trying to be set on a copy of a slice from a DataFrame.\n",
      "Try using .loc[row_indexer,col_indexer] = value instead\n",
      "\n",
      "See the caveats in the documentation: https://pandas.pydata.org/pandas-docs/stable/user_guide/indexing.html#returning-a-view-versus-a-copy\n",
      "  data.date = data.date.apply(str)\n",
      "QUANTAXIS>> ##JOB07 Now Saving ETF_MIN ==== 512500\n",
      "QUANTAXIS>> The 382 of Total 879\n",
      "QUANTAXIS>> DOWNLOAD PROGRESS 43.4% \n",
      "QUANTAXIS>> ##JOB07 Now Saving ETF_MIN ==== 512510\n",
      "QUANTAXIS>> The 383 of Total 879\n",
      "QUANTAXIS>> DOWNLOAD PROGRESS 43.5% \n"
     ]
    },
    {
     "name": "stdout",
     "output_type": "stream",
     "text": [
      "save 512200 1393\n",
      "save 512290 1393\n"
     ]
    },
    {
     "name": "stderr",
     "output_type": "stream",
     "text": [
      "QUANTAXIS>> ##JOB07 Now Saving ETF_MIN ==== 512520\n",
      "QUANTAXIS>> The 384 of Total 879\n",
      "QUANTAXIS>> DOWNLOAD PROGRESS 43.6% \n",
      "QUANTAXIS>> ##JOB07.1 Now Saving 512500 from 2023-03-17 15:00:00 to 2021-12-31 15:00:00 ==5min \n",
      "QUANTAXIS>> ##JOB07 Now Saving ETF_MIN ==== 512530\n",
      "QUANTAXIS>> The 385 of Total 879\n",
      "QUANTAXIS>> DOWNLOAD PROGRESS 43.7% \n",
      "QUANTAXIS>> ##JOB07 Now Saving ETF_MIN ==== 512550\n",
      "QUANTAXIS>> The 386 of Total 879\n",
      "QUANTAXIS>> DOWNLOAD PROGRESS 43.9% \n",
      "QUANTAXIS>> ##JOB07 Now Saving ETF_MIN ==== 512560\n",
      "QUANTAXIS>> The 387 of Total 879\n",
      "QUANTAXIS>> DOWNLOAD PROGRESS 44.0% \n",
      "QUANTAXIS>> ##JOB07 Now Saving ETF_MIN ==== 512570\n",
      "QUANTAXIS>> The 388 of Total 879\n",
      "QUANTAXIS>> DOWNLOAD PROGRESS 44.1% \n",
      "QUANTAXIS>> ##JOB07 Now Saving ETF_MIN ==== 512580\n",
      "QUANTAXIS>> The 389 of Total 879\n",
      "QUANTAXIS>> DOWNLOAD PROGRESS 44.2% \n",
      "/liubinxu/liubinxu/miniconda3_py38/lib/python3.8/site-packages/QUANTAXIS/QAUtil/QATransform.py:55: SettingWithCopyWarning: \n",
      "A value is trying to be set on a copy of a slice from a DataFrame.\n",
      "Try using .loc[row_indexer,col_indexer] = value instead\n",
      "\n",
      "See the caveats in the documentation: https://pandas.pydata.org/pandas-docs/stable/user_guide/indexing.html#returning-a-view-versus-a-copy\n",
      "  data.datetime = data.datetime.apply(str)\n",
      "/liubinxu/liubinxu/miniconda3_py38/lib/python3.8/site-packages/QUANTAXIS/QAUtil/QATransform.py:57: SettingWithCopyWarning: \n",
      "A value is trying to be set on a copy of a slice from a DataFrame.\n",
      "Try using .loc[row_indexer,col_indexer] = value instead\n",
      "\n",
      "See the caveats in the documentation: https://pandas.pydata.org/pandas-docs/stable/user_guide/indexing.html#returning-a-view-versus-a-copy\n",
      "  data.date = data.date.apply(str)\n",
      "QUANTAXIS>> ##JOB07 Now Saving ETF_MIN ==== 512600\n",
      "QUANTAXIS>> The 390 of Total 879\n",
      "QUANTAXIS>> DOWNLOAD PROGRESS 44.3% \n",
      "/liubinxu/liubinxu/miniconda3_py38/lib/python3.8/site-packages/QUANTAXIS/QAUtil/QATransform.py:55: SettingWithCopyWarning: \n",
      "A value is trying to be set on a copy of a slice from a DataFrame.\n",
      "Try using .loc[row_indexer,col_indexer] = value instead\n",
      "\n",
      "See the caveats in the documentation: https://pandas.pydata.org/pandas-docs/stable/user_guide/indexing.html#returning-a-view-versus-a-copy\n",
      "  data.datetime = data.datetime.apply(str)\n",
      "/liubinxu/liubinxu/miniconda3_py38/lib/python3.8/site-packages/QUANTAXIS/QAUtil/QATransform.py:57: SettingWithCopyWarning: \n",
      "A value is trying to be set on a copy of a slice from a DataFrame.\n",
      "Try using .loc[row_indexer,col_indexer] = value instead\n",
      "\n",
      "See the caveats in the documentation: https://pandas.pydata.org/pandas-docs/stable/user_guide/indexing.html#returning-a-view-versus-a-copy\n",
      "  data.date = data.date.apply(str)\n",
      "QUANTAXIS>> ##JOB07 Now Saving ETF_MIN ==== 512640\n",
      "QUANTAXIS>> The 391 of Total 879\n",
      "QUANTAXIS>> DOWNLOAD PROGRESS 44.4% \n"
     ]
    },
    {
     "name": "stdout",
     "output_type": "stream",
     "text": [
      "save 512400 1393\n",
      "save 512480 1393\n"
     ]
    },
    {
     "name": "stderr",
     "output_type": "stream",
     "text": [
      "QUANTAXIS>> ##JOB07 Now Saving ETF_MIN ==== 512650\n",
      "QUANTAXIS>> The 392 of Total 879\n",
      "QUANTAXIS>> DOWNLOAD PROGRESS 44.5% \n",
      "QUANTAXIS>> ##JOB07 Now Saving ETF_MIN ==== 512660\n",
      "QUANTAXIS>> The 393 of Total 879\n",
      "QUANTAXIS>> DOWNLOAD PROGRESS 44.7% \n",
      "QUANTAXIS>> ##JOB07 Now Saving ETF_MIN ==== 512670\n",
      "QUANTAXIS>> The 394 of Total 879\n",
      "QUANTAXIS>> DOWNLOAD PROGRESS 44.8% \n",
      "QUANTAXIS>> ##JOB07 Now Saving ETF_MIN ==== 512680\n",
      "QUANTAXIS>> The 395 of Total 879\n",
      "QUANTAXIS>> DOWNLOAD PROGRESS 44.9% \n",
      "QUANTAXIS>> ##JOB07.1 Now Saving 512660 from 2023-03-17 15:00:00 to 2021-12-31 15:00:00 ==5min \n",
      "QUANTAXIS>> ##JOB07 Now Saving ETF_MIN ==== 512690\n",
      "QUANTAXIS>> The 396 of Total 879\n",
      "QUANTAXIS>> DOWNLOAD PROGRESS 45.0% \n",
      "QUANTAXIS>> ##JOB07 Now Saving ETF_MIN ==== 512700\n",
      "QUANTAXIS>> The 397 of Total 879\n",
      "QUANTAXIS>> DOWNLOAD PROGRESS 45.1% \n",
      "QUANTAXIS>> ##JOB07 Now Saving ETF_MIN ==== 512710\n",
      "QUANTAXIS>> The 398 of Total 879\n",
      "QUANTAXIS>> DOWNLOAD PROGRESS 45.2% \n",
      "QUANTAXIS>> ##JOB07.1 Now Saving 512690 from 2023-03-17 15:00:00 to 2021-12-31 15:00:00 ==5min \n",
      "/liubinxu/liubinxu/miniconda3_py38/lib/python3.8/site-packages/QUANTAXIS/QAUtil/QATransform.py:55: SettingWithCopyWarning: \n",
      "A value is trying to be set on a copy of a slice from a DataFrame.\n",
      "Try using .loc[row_indexer,col_indexer] = value instead\n",
      "\n",
      "See the caveats in the documentation: https://pandas.pydata.org/pandas-docs/stable/user_guide/indexing.html#returning-a-view-versus-a-copy\n",
      "  data.datetime = data.datetime.apply(str)\n",
      "/liubinxu/liubinxu/miniconda3_py38/lib/python3.8/site-packages/QUANTAXIS/QAUtil/QATransform.py:57: SettingWithCopyWarning: \n",
      "A value is trying to be set on a copy of a slice from a DataFrame.\n",
      "Try using .loc[row_indexer,col_indexer] = value instead\n",
      "\n",
      "See the caveats in the documentation: https://pandas.pydata.org/pandas-docs/stable/user_guide/indexing.html#returning-a-view-versus-a-copy\n",
      "  data.date = data.date.apply(str)\n",
      "QUANTAXIS>> ##JOB07 Now Saving ETF_MIN ==== 512720\n",
      "QUANTAXIS>> The 399 of Total 879\n",
      "QUANTAXIS>> DOWNLOAD PROGRESS 45.3% \n",
      "QUANTAXIS>> ##JOB07 Now Saving ETF_MIN ==== 512730\n",
      "QUANTAXIS>> The 400 of Total 879\n",
      "QUANTAXIS>> DOWNLOAD PROGRESS 45.5% \n"
     ]
    },
    {
     "name": "stdout",
     "output_type": "stream",
     "text": [
      "save 512500 1393\n"
     ]
    },
    {
     "name": "stderr",
     "output_type": "stream",
     "text": [
      "QUANTAXIS>> ##JOB07 Now Saving ETF_MIN ==== 512750\n",
      "QUANTAXIS>> The 401 of Total 879\n",
      "QUANTAXIS>> ##JOB07 Now Saving ETF_MIN ==== 512760\n",
      "QUANTAXIS>> DOWNLOAD PROGRESS 45.6% \n",
      "QUANTAXIS>> ##JOB07 Now Saving ETF_MIN ==== 512770\n",
      "QUANTAXIS>> The 402 of Total 879\n",
      "QUANTAXIS>> DOWNLOAD PROGRESS 45.7% \n",
      "QUANTAXIS>> The 403 of Total 879\n",
      "QUANTAXIS>> DOWNLOAD PROGRESS 45.8% \n",
      "QUANTAXIS>> ##JOB07 Now Saving ETF_MIN ==== 512800\n",
      "QUANTAXIS>> The 404 of Total 879\n",
      "/liubinxu/liubinxu/miniconda3_py38/lib/python3.8/site-packages/QUANTAXIS/QAUtil/QATransform.py:55: SettingWithCopyWarning: \n",
      "A value is trying to be set on a copy of a slice from a DataFrame.\n",
      "Try using .loc[row_indexer,col_indexer] = value instead\n",
      "\n",
      "See the caveats in the documentation: https://pandas.pydata.org/pandas-docs/stable/user_guide/indexing.html#returning-a-view-versus-a-copy\n",
      "  data.datetime = data.datetime.apply(str)\n",
      "/liubinxu/liubinxu/miniconda3_py38/lib/python3.8/site-packages/QUANTAXIS/QAUtil/QATransform.py:57: SettingWithCopyWarning: \n",
      "A value is trying to be set on a copy of a slice from a DataFrame.\n",
      "Try using .loc[row_indexer,col_indexer] = value instead\n",
      "\n",
      "See the caveats in the documentation: https://pandas.pydata.org/pandas-docs/stable/user_guide/indexing.html#returning-a-view-versus-a-copy\n",
      "  data.date = data.date.apply(str)\n",
      "QUANTAXIS>> ##JOB07.1 Now Saving 512760 from 2023-03-17 15:00:00 to 2021-12-31 15:00:00 ==5min \n",
      "QUANTAXIS>> DOWNLOAD PROGRESS 45.9% \n",
      "QUANTAXIS>> ##JOB07 Now Saving ETF_MIN ==== 512810\n",
      "QUANTAXIS>> The 405 of Total 879\n",
      "QUANTAXIS>> DOWNLOAD PROGRESS 46.0% \n"
     ]
    },
    {
     "name": "stdout",
     "output_type": "stream",
     "text": [
      "save 512660 1393\n"
     ]
    },
    {
     "name": "stderr",
     "output_type": "stream",
     "text": [
      "QUANTAXIS>> ##JOB07.1 Now Saving 512800 from 2023-03-17 15:00:00 to 2021-12-31 15:00:00 ==5min \n",
      "QUANTAXIS>> ##JOB07 Now Saving ETF_MIN ==== 512820\n",
      "QUANTAXIS>> The 406 of Total 879\n",
      "QUANTAXIS>> DOWNLOAD PROGRESS 46.1% \n",
      "QUANTAXIS>> ##JOB07 Now Saving ETF_MIN ==== 512870\n",
      "QUANTAXIS>> The 407 of Total 879\n",
      "QUANTAXIS>> DOWNLOAD PROGRESS 46.3% \n",
      "QUANTAXIS>> ##JOB07 Now Saving ETF_MIN ==== 512880\n",
      "QUANTAXIS>> The 408 of Total 879\n",
      "QUANTAXIS>> DOWNLOAD PROGRESS 46.4% \n",
      "QUANTAXIS>> ##JOB07.1 Now Saving 512880 from 2023-03-17 15:00:00 to 2021-12-31 15:00:00 ==5min \n",
      "/liubinxu/liubinxu/miniconda3_py38/lib/python3.8/site-packages/QUANTAXIS/QAUtil/QATransform.py:55: SettingWithCopyWarning: \n",
      "A value is trying to be set on a copy of a slice from a DataFrame.\n",
      "Try using .loc[row_indexer,col_indexer] = value instead\n",
      "\n",
      "See the caveats in the documentation: https://pandas.pydata.org/pandas-docs/stable/user_guide/indexing.html#returning-a-view-versus-a-copy\n",
      "  data.datetime = data.datetime.apply(str)\n",
      "/liubinxu/liubinxu/miniconda3_py38/lib/python3.8/site-packages/QUANTAXIS/QAUtil/QATransform.py:57: SettingWithCopyWarning: \n",
      "A value is trying to be set on a copy of a slice from a DataFrame.\n",
      "Try using .loc[row_indexer,col_indexer] = value instead\n",
      "\n",
      "See the caveats in the documentation: https://pandas.pydata.org/pandas-docs/stable/user_guide/indexing.html#returning-a-view-versus-a-copy\n",
      "  data.date = data.date.apply(str)\n",
      "QUANTAXIS>> ##JOB07 Now Saving ETF_MIN ==== 512890\n",
      "QUANTAXIS>> The 409 of Total 879\n",
      "QUANTAXIS>> DOWNLOAD PROGRESS 46.5% \n"
     ]
    },
    {
     "name": "stdout",
     "output_type": "stream",
     "text": [
      "save 512690 1393\n"
     ]
    },
    {
     "name": "stderr",
     "output_type": "stream",
     "text": [
      "QUANTAXIS>> ##JOB07 Now Saving ETF_MIN ==== 512900\n",
      "QUANTAXIS>> The 410 of Total 879\n",
      "QUANTAXIS>> DOWNLOAD PROGRESS 46.6% \n",
      "/liubinxu/liubinxu/miniconda3_py38/lib/python3.8/site-packages/QUANTAXIS/QAUtil/QATransform.py:55: SettingWithCopyWarning: \n",
      "A value is trying to be set on a copy of a slice from a DataFrame.\n",
      "Try using .loc[row_indexer,col_indexer] = value instead\n",
      "\n",
      "See the caveats in the documentation: https://pandas.pydata.org/pandas-docs/stable/user_guide/indexing.html#returning-a-view-versus-a-copy\n",
      "  data.datetime = data.datetime.apply(str)\n",
      "/liubinxu/liubinxu/miniconda3_py38/lib/python3.8/site-packages/QUANTAXIS/QAUtil/QATransform.py:57: SettingWithCopyWarning: \n",
      "A value is trying to be set on a copy of a slice from a DataFrame.\n",
      "Try using .loc[row_indexer,col_indexer] = value instead\n",
      "\n",
      "See the caveats in the documentation: https://pandas.pydata.org/pandas-docs/stable/user_guide/indexing.html#returning-a-view-versus-a-copy\n",
      "  data.date = data.date.apply(str)\n",
      "QUANTAXIS>> ##JOB07 Now Saving ETF_MIN ==== 512910\n",
      "QUANTAXIS>> The 411 of Total 879\n",
      "QUANTAXIS>> DOWNLOAD PROGRESS 46.7% \n"
     ]
    },
    {
     "name": "stdout",
     "output_type": "stream",
     "text": [
      "save 512760 1393\n"
     ]
    },
    {
     "name": "stderr",
     "output_type": "stream",
     "text": [
      "QUANTAXIS>> ##JOB07 Now Saving ETF_MIN ==== 512930\n",
      "QUANTAXIS>> The 412 of Total 879\n",
      "QUANTAXIS>> DOWNLOAD PROGRESS 46.8% \n",
      "QUANTAXIS>> ##JOB07 Now Saving ETF_MIN ==== 512950\n",
      "QUANTAXIS>> The 413 of Total 879\n",
      "QUANTAXIS>> DOWNLOAD PROGRESS 46.9% \n",
      "QUANTAXIS>> ##JOB07 Now Saving ETF_MIN ==== 512960\n",
      "QUANTAXIS>> The 414 of Total 879\n",
      "QUANTAXIS>> DOWNLOAD PROGRESS 47.0% \n",
      "QUANTAXIS>> ##JOB07 Now Saving ETF_MIN ==== 512970\n",
      "QUANTAXIS>> The 415 of Total 879\n",
      "QUANTAXIS>> DOWNLOAD PROGRESS 47.2% \n",
      "/liubinxu/liubinxu/miniconda3_py38/lib/python3.8/site-packages/QUANTAXIS/QAUtil/QATransform.py:55: SettingWithCopyWarning: \n",
      "A value is trying to be set on a copy of a slice from a DataFrame.\n",
      "Try using .loc[row_indexer,col_indexer] = value instead\n",
      "\n",
      "See the caveats in the documentation: https://pandas.pydata.org/pandas-docs/stable/user_guide/indexing.html#returning-a-view-versus-a-copy\n",
      "  data.datetime = data.datetime.apply(str)\n",
      "/liubinxu/liubinxu/miniconda3_py38/lib/python3.8/site-packages/QUANTAXIS/QAUtil/QATransform.py:57: SettingWithCopyWarning: \n",
      "A value is trying to be set on a copy of a slice from a DataFrame.\n",
      "Try using .loc[row_indexer,col_indexer] = value instead\n",
      "\n",
      "See the caveats in the documentation: https://pandas.pydata.org/pandas-docs/stable/user_guide/indexing.html#returning-a-view-versus-a-copy\n",
      "  data.date = data.date.apply(str)\n",
      "QUANTAXIS>> ##JOB07 Now Saving ETF_MIN ==== 512980\n",
      "QUANTAXIS>> The 416 of Total 879\n",
      "QUANTAXIS>> DOWNLOAD PROGRESS 47.3% \n"
     ]
    },
    {
     "name": "stdout",
     "output_type": "stream",
     "text": [
      "save 512800 1393\n"
     ]
    },
    {
     "name": "stderr",
     "output_type": "stream",
     "text": [
      "QUANTAXIS>> ##JOB07 Now Saving ETF_MIN ==== 512990\n",
      "QUANTAXIS>> The 417 of Total 879\n",
      "QUANTAXIS>> DOWNLOAD PROGRESS 47.4% \n",
      "QUANTAXIS>> ##JOB07 Now Saving ETF_MIN ==== 513000\n",
      "QUANTAXIS>> The 418 of Total 879\n",
      "QUANTAXIS>> DOWNLOAD PROGRESS 47.5% \n",
      "QUANTAXIS>> ##JOB07 Now Saving ETF_MIN ==== 513010\n",
      "QUANTAXIS>> The 419 of Total 879\n",
      "QUANTAXIS>> DOWNLOAD PROGRESS 47.6% \n",
      "QUANTAXIS>> ##JOB07 Now Saving ETF_MIN ==== 513020\n",
      "QUANTAXIS>> The 420 of Total 879\n",
      "QUANTAXIS>> DOWNLOAD PROGRESS 47.7% \n",
      "QUANTAXIS>> ##JOB07 Now Saving ETF_MIN ==== 513030\n",
      "QUANTAXIS>> The 421 of Total 879\n",
      "QUANTAXIS>> DOWNLOAD PROGRESS 47.8% \n",
      "QUANTAXIS>> ##JOB07.1 Now Saving 513010 from 2023-03-17 15:00:00 to 2021-12-31 15:00:00 ==5min \n",
      "QUANTAXIS>> ##JOB07 Now Saving ETF_MIN ==== 513050\n",
      "QUANTAXIS>> The 422 of Total 879\n",
      "QUANTAXIS>> DOWNLOAD PROGRESS 48.0% \n",
      "QUANTAXIS>> ##JOB07 Now Saving ETF_MIN ==== 513060\n",
      "QUANTAXIS>> The 423 of Total 879\n",
      "QUANTAXIS>> DOWNLOAD PROGRESS 48.1% \n",
      "QUANTAXIS>> ##JOB07 Now Saving ETF_MIN ==== 513070\n",
      "QUANTAXIS>> The 424 of Total 879\n",
      "QUANTAXIS>> DOWNLOAD PROGRESS 48.2% \n",
      "/liubinxu/liubinxu/miniconda3_py38/lib/python3.8/site-packages/QUANTAXIS/QAUtil/QATransform.py:55: SettingWithCopyWarning: \n",
      "A value is trying to be set on a copy of a slice from a DataFrame.\n",
      "Try using .loc[row_indexer,col_indexer] = value instead\n",
      "\n",
      "See the caveats in the documentation: https://pandas.pydata.org/pandas-docs/stable/user_guide/indexing.html#returning-a-view-versus-a-copy\n",
      "  data.datetime = data.datetime.apply(str)\n",
      "/liubinxu/liubinxu/miniconda3_py38/lib/python3.8/site-packages/QUANTAXIS/QAUtil/QATransform.py:57: SettingWithCopyWarning: \n",
      "A value is trying to be set on a copy of a slice from a DataFrame.\n",
      "Try using .loc[row_indexer,col_indexer] = value instead\n",
      "\n",
      "See the caveats in the documentation: https://pandas.pydata.org/pandas-docs/stable/user_guide/indexing.html#returning-a-view-versus-a-copy\n",
      "  data.date = data.date.apply(str)\n",
      "QUANTAXIS>> ##JOB07 Now Saving ETF_MIN ==== 513080\n",
      "QUANTAXIS>> The 425 of Total 879\n",
      "QUANTAXIS>> DOWNLOAD PROGRESS 48.3% \n",
      "QUANTAXIS>> ##JOB07.1 Now Saving 513060 from 2023-03-17 15:00:00 to 2021-12-31 15:00:00 ==5min \n"
     ]
    },
    {
     "name": "stdout",
     "output_type": "stream",
     "text": [
      "save 512880 1393\n"
     ]
    },
    {
     "name": "stderr",
     "output_type": "stream",
     "text": [
      "QUANTAXIS>> ##JOB07 Now Saving ETF_MIN ==== 513090\n",
      "QUANTAXIS>> The 426 of Total 879\n",
      "QUANTAXIS>> DOWNLOAD PROGRESS 48.4% \n",
      "QUANTAXIS>> ##JOB07 Now Saving ETF_MIN ==== 513100\n",
      "QUANTAXIS>> The 427 of Total 879\n",
      "QUANTAXIS>> DOWNLOAD PROGRESS 48.5% \n",
      "QUANTAXIS>> ##JOB07 Now Saving ETF_MIN ==== 513110\n",
      "QUANTAXIS>> The 428 of Total 879\n",
      "QUANTAXIS>> DOWNLOAD PROGRESS 48.6% \n",
      "QUANTAXIS>> ##JOB07.1 Now Saving 513100 from 2023-03-17 15:00:00 to 2021-12-31 15:00:00 ==5min \n",
      "QUANTAXIS>> ##JOB07 Now Saving ETF_MIN ==== 513120\n",
      "QUANTAXIS>> The 429 of Total 879\n",
      "QUANTAXIS>> DOWNLOAD PROGRESS 48.8% \n",
      "QUANTAXIS>> ##JOB07 Now Saving ETF_MIN ==== 513130\n",
      "QUANTAXIS>> The 430 of Total 879\n",
      "QUANTAXIS>> DOWNLOAD PROGRESS 48.9% \n",
      "QUANTAXIS>> ##JOB07.1 Now Saving 513130 from 2023-03-17 15:00:00 to 2021-12-31 15:00:00 ==5min \n",
      "/liubinxu/liubinxu/miniconda3_py38/lib/python3.8/site-packages/QUANTAXIS/QAUtil/QATransform.py:55: SettingWithCopyWarning: \n",
      "A value is trying to be set on a copy of a slice from a DataFrame.\n",
      "Try using .loc[row_indexer,col_indexer] = value instead\n",
      "\n",
      "See the caveats in the documentation: https://pandas.pydata.org/pandas-docs/stable/user_guide/indexing.html#returning-a-view-versus-a-copy\n",
      "  data.datetime = data.datetime.apply(str)\n",
      "/liubinxu/liubinxu/miniconda3_py38/lib/python3.8/site-packages/QUANTAXIS/QAUtil/QATransform.py:57: SettingWithCopyWarning: \n",
      "A value is trying to be set on a copy of a slice from a DataFrame.\n",
      "Try using .loc[row_indexer,col_indexer] = value instead\n",
      "\n",
      "See the caveats in the documentation: https://pandas.pydata.org/pandas-docs/stable/user_guide/indexing.html#returning-a-view-versus-a-copy\n",
      "  data.date = data.date.apply(str)\n",
      "QUANTAXIS>> ##JOB07 Now Saving ETF_MIN ==== 513140\n",
      "QUANTAXIS>> The 431 of Total 879\n",
      "QUANTAXIS>> DOWNLOAD PROGRESS 49.0% \n"
     ]
    },
    {
     "name": "stdout",
     "output_type": "stream",
     "text": [
      "save 513010 1393\n"
     ]
    },
    {
     "name": "stderr",
     "output_type": "stream",
     "text": [
      "QUANTAXIS>> ##JOB07 Now Saving ETF_MIN ==== 513150\n",
      "QUANTAXIS>> The 432 of Total 879\n",
      "QUANTAXIS>> DOWNLOAD PROGRESS 49.1% \n",
      "QUANTAXIS>> ##JOB07 Now Saving ETF_MIN ==== 513160\n",
      "QUANTAXIS>> The 433 of Total 879\n",
      "QUANTAXIS>> DOWNLOAD PROGRESS 49.2% \n",
      "/liubinxu/liubinxu/miniconda3_py38/lib/python3.8/site-packages/QUANTAXIS/QAUtil/QATransform.py:55: SettingWithCopyWarning: \n",
      "A value is trying to be set on a copy of a slice from a DataFrame.\n",
      "Try using .loc[row_indexer,col_indexer] = value instead\n",
      "\n",
      "See the caveats in the documentation: https://pandas.pydata.org/pandas-docs/stable/user_guide/indexing.html#returning-a-view-versus-a-copy\n",
      "  data.datetime = data.datetime.apply(str)\n",
      "/liubinxu/liubinxu/miniconda3_py38/lib/python3.8/site-packages/QUANTAXIS/QAUtil/QATransform.py:57: SettingWithCopyWarning: \n",
      "A value is trying to be set on a copy of a slice from a DataFrame.\n",
      "Try using .loc[row_indexer,col_indexer] = value instead\n",
      "\n",
      "See the caveats in the documentation: https://pandas.pydata.org/pandas-docs/stable/user_guide/indexing.html#returning-a-view-versus-a-copy\n",
      "  data.date = data.date.apply(str)\n",
      "QUANTAXIS>> ##JOB07 Now Saving ETF_MIN ==== 513180\n",
      "QUANTAXIS>> The 434 of Total 879\n",
      "QUANTAXIS>> DOWNLOAD PROGRESS 49.3% \n"
     ]
    },
    {
     "name": "stdout",
     "output_type": "stream",
     "text": [
      "save 513060 1393\n"
     ]
    },
    {
     "name": "stderr",
     "output_type": "stream",
     "text": [
      "QUANTAXIS>> ##JOB07 Now Saving ETF_MIN ==== 513200\n",
      "QUANTAXIS>> The 435 of Total 879\n",
      "QUANTAXIS>> DOWNLOAD PROGRESS 49.4% \n",
      "QUANTAXIS>> ##JOB07.1 Now Saving 513180 from 2023-03-17 15:00:00 to 2021-12-31 15:00:00 ==5min \n",
      "QUANTAXIS>> ##JOB07 Now Saving ETF_MIN ==== 513220\n",
      "QUANTAXIS>> The 436 of Total 879\n",
      "QUANTAXIS>> DOWNLOAD PROGRESS 49.6% \n",
      "QUANTAXIS>> ##JOB07 Now Saving ETF_MIN ==== 513230\n",
      "QUANTAXIS>> The 437 of Total 879\n",
      "QUANTAXIS>> DOWNLOAD PROGRESS 49.7% \n",
      "/liubinxu/liubinxu/miniconda3_py38/lib/python3.8/site-packages/QUANTAXIS/QAUtil/QATransform.py:55: SettingWithCopyWarning: \n",
      "A value is trying to be set on a copy of a slice from a DataFrame.\n",
      "Try using .loc[row_indexer,col_indexer] = value instead\n",
      "\n",
      "See the caveats in the documentation: https://pandas.pydata.org/pandas-docs/stable/user_guide/indexing.html#returning-a-view-versus-a-copy\n",
      "  data.datetime = data.datetime.apply(str)\n",
      "/liubinxu/liubinxu/miniconda3_py38/lib/python3.8/site-packages/QUANTAXIS/QAUtil/QATransform.py:57: SettingWithCopyWarning: \n",
      "A value is trying to be set on a copy of a slice from a DataFrame.\n",
      "Try using .loc[row_indexer,col_indexer] = value instead\n",
      "\n",
      "See the caveats in the documentation: https://pandas.pydata.org/pandas-docs/stable/user_guide/indexing.html#returning-a-view-versus-a-copy\n",
      "  data.date = data.date.apply(str)\n",
      "QUANTAXIS>> ##JOB07 Now Saving ETF_MIN ==== 513260\n",
      "QUANTAXIS>> The 438 of Total 879\n",
      "QUANTAXIS>> DOWNLOAD PROGRESS 49.8% \n"
     ]
    },
    {
     "name": "stdout",
     "output_type": "stream",
     "text": [
      "save 513100 1393\n"
     ]
    },
    {
     "name": "stderr",
     "output_type": "stream",
     "text": [
      "QUANTAXIS>> ##JOB07 Now Saving ETF_MIN ==== 513280\n",
      "QUANTAXIS>> The 439 of Total 879\n",
      "QUANTAXIS>> DOWNLOAD PROGRESS 49.9% \n",
      "QUANTAXIS>> ##JOB07 Now Saving ETF_MIN ==== 513290\n",
      "QUANTAXIS>> The 440 of Total 879\n",
      "QUANTAXIS>> DOWNLOAD PROGRESS 50.0% \n",
      "QUANTAXIS>> ##JOB07 Now Saving ETF_MIN ==== 513300\n",
      "QUANTAXIS>> The 441 of Total 879\n",
      "QUANTAXIS>> DOWNLOAD PROGRESS 50.1% \n",
      "QUANTAXIS>> ##JOB07 Now Saving ETF_MIN ==== 513310\n",
      "QUANTAXIS>> The 442 of Total 879\n",
      "QUANTAXIS>> DOWNLOAD PROGRESS 50.2% \n",
      "QUANTAXIS>> ##JOB07 Now Saving ETF_MIN ==== 513320\n",
      "QUANTAXIS>> The 443 of Total 879\n",
      "QUANTAXIS>> DOWNLOAD PROGRESS 50.3% \n",
      "/liubinxu/liubinxu/miniconda3_py38/lib/python3.8/site-packages/QUANTAXIS/QAUtil/QATransform.py:55: SettingWithCopyWarning: \n",
      "A value is trying to be set on a copy of a slice from a DataFrame.\n",
      "Try using .loc[row_indexer,col_indexer] = value instead\n",
      "\n",
      "See the caveats in the documentation: https://pandas.pydata.org/pandas-docs/stable/user_guide/indexing.html#returning-a-view-versus-a-copy\n",
      "  data.datetime = data.datetime.apply(str)\n",
      "/liubinxu/liubinxu/miniconda3_py38/lib/python3.8/site-packages/QUANTAXIS/QAUtil/QATransform.py:57: SettingWithCopyWarning: \n",
      "A value is trying to be set on a copy of a slice from a DataFrame.\n",
      "Try using .loc[row_indexer,col_indexer] = value instead\n",
      "\n",
      "See the caveats in the documentation: https://pandas.pydata.org/pandas-docs/stable/user_guide/indexing.html#returning-a-view-versus-a-copy\n",
      "  data.date = data.date.apply(str)\n",
      "QUANTAXIS>> ##JOB07 Now Saving ETF_MIN ==== 513330\n",
      "QUANTAXIS>> The 444 of Total 879\n",
      "QUANTAXIS>> DOWNLOAD PROGRESS 50.5% \n",
      "QUANTAXIS>> ##JOB07 Now Saving ETF_MIN ==== 513360\n",
      "QUANTAXIS>> The 445 of Total 879\n",
      "QUANTAXIS>> DOWNLOAD PROGRESS 50.6% \n"
     ]
    },
    {
     "name": "stdout",
     "output_type": "stream",
     "text": [
      "save 513130 1393\n"
     ]
    },
    {
     "name": "stderr",
     "output_type": "stream",
     "text": [
      "QUANTAXIS>> ##JOB07 Now Saving ETF_MIN ==== 513380\n",
      "QUANTAXIS>> The 446 of Total 879\n",
      "QUANTAXIS>> DOWNLOAD PROGRESS 50.7% \n",
      "QUANTAXIS>> ##JOB07 Now Saving ETF_MIN ==== 513500\n",
      "QUANTAXIS>> The 447 of Total 879\n",
      "QUANTAXIS>> DOWNLOAD PROGRESS 50.8% \n",
      "QUANTAXIS>> ##JOB07 Now Saving ETF_MIN ==== 513520\n",
      "QUANTAXIS>> The 448 of Total 879\n",
      "QUANTAXIS>> DOWNLOAD PROGRESS 50.9% \n",
      "QUANTAXIS>> ##JOB07 Now Saving ETF_MIN ==== 513530\n",
      "QUANTAXIS>> The 449 of Total 879\n",
      "QUANTAXIS>> DOWNLOAD PROGRESS 51.0% \n",
      "QUANTAXIS>> ##JOB07 Now Saving ETF_MIN ==== 513550\n",
      "QUANTAXIS>> The 450 of Total 879\n",
      "QUANTAXIS>> DOWNLOAD PROGRESS 51.1% \n",
      "QUANTAXIS>> ##JOB07.1 Now Saving 513500 from 2023-03-17 15:00:00 to 2021-12-31 15:00:00 ==5min \n",
      "/liubinxu/liubinxu/miniconda3_py38/lib/python3.8/site-packages/QUANTAXIS/QAUtil/QATransform.py:55: SettingWithCopyWarning: \n",
      "A value is trying to be set on a copy of a slice from a DataFrame.\n",
      "Try using .loc[row_indexer,col_indexer] = value instead\n",
      "\n",
      "See the caveats in the documentation: https://pandas.pydata.org/pandas-docs/stable/user_guide/indexing.html#returning-a-view-versus-a-copy\n",
      "  data.datetime = data.datetime.apply(str)\n",
      "/liubinxu/liubinxu/miniconda3_py38/lib/python3.8/site-packages/QUANTAXIS/QAUtil/QATransform.py:57: SettingWithCopyWarning: \n",
      "A value is trying to be set on a copy of a slice from a DataFrame.\n",
      "Try using .loc[row_indexer,col_indexer] = value instead\n",
      "\n",
      "See the caveats in the documentation: https://pandas.pydata.org/pandas-docs/stable/user_guide/indexing.html#returning-a-view-versus-a-copy\n",
      "  data.date = data.date.apply(str)\n",
      "QUANTAXIS>> ##JOB07 Now Saving ETF_MIN ==== 513560\n",
      "QUANTAXIS>> The 451 of Total 879\n",
      "QUANTAXIS>> DOWNLOAD PROGRESS 51.3% \n",
      "QUANTAXIS>> ##JOB07 Now Saving ETF_MIN ==== 513580\n",
      "QUANTAXIS>> The 452 of Total 879\n",
      "QUANTAXIS>> DOWNLOAD PROGRESS 51.4% \n",
      "QUANTAXIS>> ##JOB07 Now Saving ETF_MIN ==== 513590\n",
      "QUANTAXIS>> The 453 of Total 879\n",
      "QUANTAXIS>> DOWNLOAD PROGRESS 51.5% \n"
     ]
    },
    {
     "name": "stdout",
     "output_type": "stream",
     "text": [
      "save 513180 1393\n"
     ]
    },
    {
     "name": "stderr",
     "output_type": "stream",
     "text": [
      "QUANTAXIS>> ##JOB07 Now Saving ETF_MIN ==== 513600\n",
      "QUANTAXIS>> The 454 of Total 879\n",
      "QUANTAXIS>> DOWNLOAD PROGRESS 51.6% \n",
      "QUANTAXIS>> ##JOB07 Now Saving ETF_MIN ==== 513650\n",
      "QUANTAXIS>> The 455 of Total 879\n",
      "QUANTAXIS>> DOWNLOAD PROGRESS 51.7% \n",
      "QUANTAXIS>> ##JOB07 Now Saving ETF_MIN ==== 513660\n",
      "QUANTAXIS>> The 456 of Total 879\n",
      "QUANTAXIS>> DOWNLOAD PROGRESS 51.8% \n",
      "QUANTAXIS>> ##JOB07 Now Saving ETF_MIN ==== 513690\n",
      "QUANTAXIS>> The 457 of Total 879\n",
      "QUANTAXIS>> DOWNLOAD PROGRESS 51.9% \n",
      "QUANTAXIS>> ##JOB07 Now Saving ETF_MIN ==== 513700\n",
      "QUANTAXIS>> The 458 of Total 879\n",
      "QUANTAXIS>> DOWNLOAD PROGRESS 52.1% \n",
      "QUANTAXIS>> ##JOB07 Now Saving ETF_MIN ==== 513770\n",
      "QUANTAXIS>> The 459 of Total 879\n",
      "QUANTAXIS>> DOWNLOAD PROGRESS 52.2% \n",
      "QUANTAXIS>> ##JOB07 Now Saving ETF_MIN ==== 513800\n",
      "QUANTAXIS>> The 460 of Total 879\n",
      "QUANTAXIS>> DOWNLOAD PROGRESS 52.3% \n",
      "QUANTAXIS>> ##JOB07 Now Saving ETF_MIN ==== 513860\n",
      "QUANTAXIS>> The 461 of Total 879\n",
      "QUANTAXIS>> DOWNLOAD PROGRESS 52.4% \n",
      "QUANTAXIS>> ##JOB07 Now Saving ETF_MIN ==== 513880\n",
      "QUANTAXIS>> The 462 of Total 879\n",
      "QUANTAXIS>> DOWNLOAD PROGRESS 52.5% \n",
      "QUANTAXIS>> ##JOB07 Now Saving ETF_MIN ==== 513890\n",
      "QUANTAXIS>> The 463 of Total 879\n",
      "QUANTAXIS>> DOWNLOAD PROGRESS 52.6% \n",
      "QUANTAXIS>> ##JOB07 Now Saving ETF_MIN ==== 513900\n",
      "QUANTAXIS>> The 464 of Total 879\n",
      "QUANTAXIS>> DOWNLOAD PROGRESS 52.7% \n",
      "QUANTAXIS>> ##JOB07 Now Saving ETF_MIN ==== 513950\n",
      "QUANTAXIS>> The 465 of Total 879\n",
      "QUANTAXIS>> DOWNLOAD PROGRESS 52.9% \n",
      "QUANTAXIS>> ##JOB07 Now Saving ETF_MIN ==== 513960\n",
      "QUANTAXIS>> The 466 of Total 879\n",
      "QUANTAXIS>> DOWNLOAD PROGRESS 53.0% \n",
      "QUANTAXIS>> ##JOB07 Now Saving ETF_MIN ==== 513970\n",
      "QUANTAXIS>> The 467 of Total 879\n",
      "QUANTAXIS>> DOWNLOAD PROGRESS 53.1% \n",
      "QUANTAXIS>> ##JOB07 Now Saving ETF_MIN ==== 513980\n",
      "QUANTAXIS>> The 468 of Total 879\n",
      "QUANTAXIS>> DOWNLOAD PROGRESS 53.2% \n",
      "QUANTAXIS>> ##JOB07 Now Saving ETF_MIN ==== 513990\n",
      "QUANTAXIS>> The 469 of Total 879\n",
      "QUANTAXIS>> DOWNLOAD PROGRESS 53.3% \n",
      "QUANTAXIS>> ##JOB07 Now Saving ETF_MIN ==== 515000\n",
      "QUANTAXIS>> The 470 of Total 879\n",
      "QUANTAXIS>> DOWNLOAD PROGRESS 53.4% \n",
      "QUANTAXIS>> ##JOB07 Now Saving ETF_MIN ==== 515010\n",
      "QUANTAXIS>> The 471 of Total 879\n",
      "QUANTAXIS>> DOWNLOAD PROGRESS 53.5% \n",
      "QUANTAXIS>> ##JOB07 Now Saving ETF_MIN ==== 515020\n",
      "QUANTAXIS>> The 472 of Total 879\n",
      "QUANTAXIS>> DOWNLOAD PROGRESS 53.6% \n",
      "QUANTAXIS>> ##JOB07 Now Saving ETF_MIN ==== 515030\n",
      "QUANTAXIS>> The 473 of Total 879\n",
      "QUANTAXIS>> DOWNLOAD PROGRESS 53.8% \n",
      "/liubinxu/liubinxu/miniconda3_py38/lib/python3.8/site-packages/QUANTAXIS/QAUtil/QATransform.py:55: SettingWithCopyWarning: \n",
      "A value is trying to be set on a copy of a slice from a DataFrame.\n",
      "Try using .loc[row_indexer,col_indexer] = value instead\n",
      "\n",
      "See the caveats in the documentation: https://pandas.pydata.org/pandas-docs/stable/user_guide/indexing.html#returning-a-view-versus-a-copy\n",
      "  data.datetime = data.datetime.apply(str)\n",
      "/liubinxu/liubinxu/miniconda3_py38/lib/python3.8/site-packages/QUANTAXIS/QAUtil/QATransform.py:57: SettingWithCopyWarning: \n",
      "A value is trying to be set on a copy of a slice from a DataFrame.\n",
      "Try using .loc[row_indexer,col_indexer] = value instead\n",
      "\n",
      "See the caveats in the documentation: https://pandas.pydata.org/pandas-docs/stable/user_guide/indexing.html#returning-a-view-versus-a-copy\n",
      "  data.date = data.date.apply(str)\n",
      "QUANTAXIS>> ##JOB07 Now Saving ETF_MIN ==== 515050\n",
      "QUANTAXIS>> The 474 of Total 879\n",
      "QUANTAXIS>> DOWNLOAD PROGRESS 53.9% \n",
      "QUANTAXIS>> ##JOB07 Now Saving ETF_MIN ==== 515060\n",
      "QUANTAXIS>> The 475 of Total 879\n",
      "QUANTAXIS>> DOWNLOAD PROGRESS 54.0% \n"
     ]
    },
    {
     "name": "stdout",
     "output_type": "stream",
     "text": [
      "save 513500 1393\n"
     ]
    },
    {
     "name": "stderr",
     "output_type": "stream",
     "text": [
      "QUANTAXIS>> ##JOB07 Now Saving ETF_MIN ==== 515070\n",
      "QUANTAXIS>> The 476 of Total 879\n",
      "QUANTAXIS>> DOWNLOAD PROGRESS 54.1% \n",
      "QUANTAXIS>> ##JOB07.1 Now Saving 515030 from 2023-03-17 15:00:00 to 2021-12-31 15:00:00 ==5min \n",
      "QUANTAXIS>> ##JOB07 Now Saving ETF_MIN ==== 515080\n",
      "QUANTAXIS>> The 477 of Total 879\n",
      "QUANTAXIS>> DOWNLOAD PROGRESS 54.2% \n",
      "QUANTAXIS>> ##JOB07.1 Now Saving 515050 from 2023-03-17 15:00:00 to 2021-12-31 15:00:00 ==5min \n",
      "QUANTAXIS>> ##JOB07 Now Saving ETF_MIN ==== 515090\n",
      "QUANTAXIS>> The 478 of Total 879\n",
      "QUANTAXIS>> DOWNLOAD PROGRESS 54.3% \n",
      "QUANTAXIS>> ##JOB07 Now Saving ETF_MIN ==== 515100\n",
      "QUANTAXIS>> The 479 of Total 879\n",
      "QUANTAXIS>> DOWNLOAD PROGRESS 54.4% \n",
      "QUANTAXIS>> ##JOB07 Now Saving ETF_MIN ==== 515110\n",
      "QUANTAXIS>> The 480 of Total 879\n",
      "QUANTAXIS>> ##JOB07 Now Saving ETF_MIN ==== 515120\n",
      "QUANTAXIS>> DOWNLOAD PROGRESS 54.6% \n",
      "QUANTAXIS>> The 481 of Total 879\n",
      "QUANTAXIS>> ##JOB07 Now Saving ETF_MIN ==== 515130\n",
      "QUANTAXIS>> DOWNLOAD PROGRESS 54.7% \n",
      "QUANTAXIS>> The 482 of Total 879\n",
      "QUANTAXIS>> ##JOB07 Now Saving ETF_MIN ==== 515150\n",
      "QUANTAXIS>> DOWNLOAD PROGRESS 54.8% \n",
      "QUANTAXIS>> ##JOB07 Now Saving ETF_MIN ==== 515160\n",
      "QUANTAXIS>> The 483 of Total 879\n",
      "QUANTAXIS>> DOWNLOAD PROGRESS 54.9% \n",
      "QUANTAXIS>> The 484 of Total 879\n",
      "QUANTAXIS>> DOWNLOAD PROGRESS 55.0% \n",
      "QUANTAXIS>> ##JOB07 Now Saving ETF_MIN ==== 515170\n",
      "QUANTAXIS>> The 485 of Total 879\n",
      "QUANTAXIS>> DOWNLOAD PROGRESS 55.1% \n",
      "QUANTAXIS>> ##JOB07 Now Saving ETF_MIN ==== 515180\n",
      "QUANTAXIS>> The 486 of Total 879\n",
      "QUANTAXIS>> ##JOB07 Now Saving ETF_MIN ==== 515190\n",
      "QUANTAXIS>> DOWNLOAD PROGRESS 55.2% \n",
      "QUANTAXIS>> ##JOB07 Now Saving ETF_MIN ==== 515200\n",
      "QUANTAXIS>> The 487 of Total 879\n",
      "QUANTAXIS>> DOWNLOAD PROGRESS 55.4% \n",
      "QUANTAXIS>> ##JOB07 Now Saving ETF_MIN ==== 515210\n",
      "QUANTAXIS>> The 488 of Total 879\n",
      "QUANTAXIS>> DOWNLOAD PROGRESS 55.5% \n",
      "QUANTAXIS>> The 489 of Total 879\n",
      "QUANTAXIS>> DOWNLOAD PROGRESS 55.6% \n",
      "QUANTAXIS>> ##JOB07 Now Saving ETF_MIN ==== 515220\n",
      "QUANTAXIS>> The 490 of Total 879\n",
      "QUANTAXIS>> DOWNLOAD PROGRESS 55.7% \n",
      "QUANTAXIS>> ##JOB07.1 Now Saving 515210 from 2023-03-17 15:00:00 to 2021-12-31 15:00:00 ==5min \n",
      "QUANTAXIS>> ##JOB07.1 Now Saving 515220 from 2023-03-17 15:00:00 to 2021-12-31 15:00:00 ==5min \n",
      "/liubinxu/liubinxu/miniconda3_py38/lib/python3.8/site-packages/QUANTAXIS/QAUtil/QATransform.py:55: SettingWithCopyWarning: \n",
      "A value is trying to be set on a copy of a slice from a DataFrame.\n",
      "Try using .loc[row_indexer,col_indexer] = value instead\n",
      "\n",
      "See the caveats in the documentation: https://pandas.pydata.org/pandas-docs/stable/user_guide/indexing.html#returning-a-view-versus-a-copy\n",
      "  data.datetime = data.datetime.apply(str)\n",
      "/liubinxu/liubinxu/miniconda3_py38/lib/python3.8/site-packages/QUANTAXIS/QAUtil/QATransform.py:57: SettingWithCopyWarning: \n",
      "A value is trying to be set on a copy of a slice from a DataFrame.\n",
      "Try using .loc[row_indexer,col_indexer] = value instead\n",
      "\n",
      "See the caveats in the documentation: https://pandas.pydata.org/pandas-docs/stable/user_guide/indexing.html#returning-a-view-versus-a-copy\n",
      "  data.date = data.date.apply(str)\n",
      "/liubinxu/liubinxu/miniconda3_py38/lib/python3.8/site-packages/QUANTAXIS/QAUtil/QATransform.py:55: SettingWithCopyWarning: \n",
      "A value is trying to be set on a copy of a slice from a DataFrame.\n",
      "Try using .loc[row_indexer,col_indexer] = value instead\n",
      "\n",
      "See the caveats in the documentation: https://pandas.pydata.org/pandas-docs/stable/user_guide/indexing.html#returning-a-view-versus-a-copy\n",
      "  data.datetime = data.datetime.apply(str)\n",
      "/liubinxu/liubinxu/miniconda3_py38/lib/python3.8/site-packages/QUANTAXIS/QAUtil/QATransform.py:57: SettingWithCopyWarning: \n",
      "A value is trying to be set on a copy of a slice from a DataFrame.\n",
      "Try using .loc[row_indexer,col_indexer] = value instead\n",
      "\n",
      "See the caveats in the documentation: https://pandas.pydata.org/pandas-docs/stable/user_guide/indexing.html#returning-a-view-versus-a-copy\n",
      "  data.date = data.date.apply(str)\n",
      "QUANTAXIS>> ##JOB07 Now Saving ETF_MIN ==== 515230\n",
      "QUANTAXIS>> The 491 of Total 879\n",
      "QUANTAXIS>> DOWNLOAD PROGRESS 55.8% \n",
      "QUANTAXIS>> ##JOB07 Now Saving ETF_MIN ==== 515250\n",
      "QUANTAXIS>> The 492 of Total 879\n",
      "QUANTAXIS>> DOWNLOAD PROGRESS 55.9% \n",
      "QUANTAXIS>> ##JOB07 Now Saving ETF_MIN ==== 515260\n"
     ]
    },
    {
     "name": "stdout",
     "output_type": "stream",
     "text": [
      "save 515030 1393save 515050 1393\n",
      "\n"
     ]
    },
    {
     "name": "stderr",
     "output_type": "stream",
     "text": [
      "QUANTAXIS>> The 493 of Total 879\n",
      "QUANTAXIS>> DOWNLOAD PROGRESS 56.0% \n",
      "QUANTAXIS>> ##JOB07 Now Saving ETF_MIN ==== 515280\n",
      "QUANTAXIS>> The 494 of Total 879\n",
      "QUANTAXIS>> DOWNLOAD PROGRESS 56.2% \n",
      "QUANTAXIS>> ##JOB07 Now Saving ETF_MIN ==== 515290\n",
      "QUANTAXIS>> The 495 of Total 879\n",
      "QUANTAXIS>> DOWNLOAD PROGRESS 56.3% \n",
      "QUANTAXIS>> ##JOB07 Now Saving ETF_MIN ==== 515300\n",
      "QUANTAXIS>> The 496 of Total 879\n",
      "QUANTAXIS>> DOWNLOAD PROGRESS 56.4% \n",
      "QUANTAXIS>> ##JOB07 Now Saving ETF_MIN ==== 515310\n",
      "QUANTAXIS>> The 497 of Total 879\n",
      "QUANTAXIS>> DOWNLOAD PROGRESS 56.5% \n",
      "QUANTAXIS>> ##JOB07 Now Saving ETF_MIN ==== 515320\n",
      "QUANTAXIS>> The 498 of Total 879\n",
      "QUANTAXIS>> DOWNLOAD PROGRESS 56.6% \n",
      "/liubinxu/liubinxu/miniconda3_py38/lib/python3.8/site-packages/QUANTAXIS/QAUtil/QATransform.py:55: SettingWithCopyWarning: \n",
      "A value is trying to be set on a copy of a slice from a DataFrame.\n",
      "Try using .loc[row_indexer,col_indexer] = value instead\n",
      "\n",
      "See the caveats in the documentation: https://pandas.pydata.org/pandas-docs/stable/user_guide/indexing.html#returning-a-view-versus-a-copy\n",
      "  data.datetime = data.datetime.apply(str)\n",
      "/liubinxu/liubinxu/miniconda3_py38/lib/python3.8/site-packages/QUANTAXIS/QAUtil/QATransform.py:57: SettingWithCopyWarning: \n",
      "A value is trying to be set on a copy of a slice from a DataFrame.\n",
      "Try using .loc[row_indexer,col_indexer] = value instead\n",
      "\n",
      "See the caveats in the documentation: https://pandas.pydata.org/pandas-docs/stable/user_guide/indexing.html#returning-a-view-versus-a-copy\n",
      "  data.date = data.date.apply(str)\n",
      "QUANTAXIS>> ##JOB07 Now Saving ETF_MIN ==== 515330\n",
      "QUANTAXIS>> The 499 of Total 879\n",
      "QUANTAXIS>> DOWNLOAD PROGRESS 56.7% \n",
      "QUANTAXIS>> ##JOB07 Now Saving ETF_MIN ==== 515350\n",
      "QUANTAXIS>> The 500 of Total 879\n",
      "QUANTAXIS>> DOWNLOAD PROGRESS 56.8% \n"
     ]
    },
    {
     "name": "stdout",
     "output_type": "stream",
     "text": [
      "save 515210 1393\n"
     ]
    },
    {
     "name": "stderr",
     "output_type": "stream",
     "text": [
      "QUANTAXIS>> ##JOB07 Now Saving ETF_MIN ==== 515360\n",
      "QUANTAXIS>> The 501 of Total 879\n",
      "QUANTAXIS>> DOWNLOAD PROGRESS 56.9% \n",
      "QUANTAXIS>> ##JOB07 Now Saving ETF_MIN ==== 515380\n",
      "QUANTAXIS>> The 502 of Total 879\n",
      "QUANTAXIS>> DOWNLOAD PROGRESS 57.1% \n",
      "QUANTAXIS>> ##JOB07 Now Saving ETF_MIN ==== 515390\n",
      "QUANTAXIS>> The 503 of Total 879\n",
      "QUANTAXIS>> DOWNLOAD PROGRESS 57.2% \n",
      "QUANTAXIS>> ##JOB07 Now Saving ETF_MIN ==== 515400\n",
      "QUANTAXIS>> The 504 of Total 879\n",
      "QUANTAXIS>> DOWNLOAD PROGRESS 57.3% \n",
      "/liubinxu/liubinxu/miniconda3_py38/lib/python3.8/site-packages/QUANTAXIS/QAUtil/QATransform.py:55: SettingWithCopyWarning: \n",
      "A value is trying to be set on a copy of a slice from a DataFrame.\n",
      "Try using .loc[row_indexer,col_indexer] = value instead\n",
      "\n",
      "See the caveats in the documentation: https://pandas.pydata.org/pandas-docs/stable/user_guide/indexing.html#returning-a-view-versus-a-copy\n",
      "  data.datetime = data.datetime.apply(str)\n",
      "/liubinxu/liubinxu/miniconda3_py38/lib/python3.8/site-packages/QUANTAXIS/QAUtil/QATransform.py:57: SettingWithCopyWarning: \n",
      "A value is trying to be set on a copy of a slice from a DataFrame.\n",
      "Try using .loc[row_indexer,col_indexer] = value instead\n",
      "\n",
      "See the caveats in the documentation: https://pandas.pydata.org/pandas-docs/stable/user_guide/indexing.html#returning-a-view-versus-a-copy\n",
      "  data.date = data.date.apply(str)\n",
      "QUANTAXIS>> ##JOB07 Now Saving ETF_MIN ==== 515450\n",
      "QUANTAXIS>> The 505 of Total 879\n",
      "QUANTAXIS>> DOWNLOAD PROGRESS 57.4% \n",
      "QUANTAXIS>> ##JOB07 Now Saving ETF_MIN ==== 515510\n",
      "QUANTAXIS>> The 506 of Total 879\n",
      "QUANTAXIS>> DOWNLOAD PROGRESS 57.5% \n",
      "QUANTAXIS>> ##JOB07 Now Saving ETF_MIN ==== 515520\n",
      "QUANTAXIS>> The 507 of Total 879\n",
      "QUANTAXIS>> DOWNLOAD PROGRESS 57.6% \n"
     ]
    },
    {
     "name": "stdout",
     "output_type": "stream",
     "text": [
      "save 515220 1393\n"
     ]
    },
    {
     "name": "stderr",
     "output_type": "stream",
     "text": [
      "QUANTAXIS>> ##JOB07 Now Saving ETF_MIN ==== 515530\n",
      "QUANTAXIS>> The 508 of Total 879\n",
      "QUANTAXIS>> DOWNLOAD PROGRESS 57.7% \n",
      "QUANTAXIS>> ##JOB07 Now Saving ETF_MIN ==== 515550\n",
      "QUANTAXIS>> The 509 of Total 879\n",
      "QUANTAXIS>> DOWNLOAD PROGRESS 57.9% \n",
      "QUANTAXIS>> ##JOB07 Now Saving ETF_MIN ==== 515560\n",
      "QUANTAXIS>> The 510 of Total 879\n",
      "QUANTAXIS>> DOWNLOAD PROGRESS 58.0% \n",
      "QUANTAXIS>> ##JOB07 Now Saving ETF_MIN ==== 515570\n",
      "QUANTAXIS>> The 511 of Total 879\n",
      "QUANTAXIS>> DOWNLOAD PROGRESS 58.1% \n",
      "QUANTAXIS>> ##JOB07 Now Saving ETF_MIN ==== 515580\n",
      "QUANTAXIS>> The 512 of Total 879\n",
      "QUANTAXIS>> DOWNLOAD PROGRESS 58.2% \n",
      "QUANTAXIS>> ##JOB07 Now Saving ETF_MIN ==== 515590\n",
      "QUANTAXIS>> The 513 of Total 879\n",
      "QUANTAXIS>> DOWNLOAD PROGRESS 58.3% \n",
      "QUANTAXIS>> ##JOB07 Now Saving ETF_MIN ==== 515600\n",
      "QUANTAXIS>> The 514 of Total 879\n",
      "QUANTAXIS>> DOWNLOAD PROGRESS 58.4% \n",
      "QUANTAXIS>> ##JOB07 Now Saving ETF_MIN ==== 515630\n",
      "QUANTAXIS>> The 515 of Total 879\n",
      "QUANTAXIS>> DOWNLOAD PROGRESS 58.5% \n",
      "QUANTAXIS>> ##JOB07 Now Saving ETF_MIN ==== 515650\n",
      "QUANTAXIS>> The 516 of Total 879\n",
      "QUANTAXIS>> DOWNLOAD PROGRESS 58.7% \n",
      "QUANTAXIS>> ##JOB07 Now Saving ETF_MIN ==== 515660\n",
      "QUANTAXIS>> The 517 of Total 879\n",
      "QUANTAXIS>> DOWNLOAD PROGRESS 58.8% \n",
      "QUANTAXIS>> ##JOB07 Now Saving ETF_MIN ==== 515670\n",
      "QUANTAXIS>> The 518 of Total 879\n",
      "QUANTAXIS>> DOWNLOAD PROGRESS 58.9% \n",
      "QUANTAXIS>> ##JOB07 Now Saving ETF_MIN ==== 515680\n",
      "QUANTAXIS>> The 519 of Total 879\n",
      "QUANTAXIS>> DOWNLOAD PROGRESS 59.0% \n",
      "QUANTAXIS>> ##JOB07 Now Saving ETF_MIN ==== 515700\n",
      "QUANTAXIS>> The 520 of Total 879\n",
      "QUANTAXIS>> DOWNLOAD PROGRESS 59.1% \n",
      "QUANTAXIS>> ##JOB07 Now Saving ETF_MIN ==== 515710\n",
      "QUANTAXIS>> The 521 of Total 879\n",
      "QUANTAXIS>> DOWNLOAD PROGRESS 59.2% \n",
      "QUANTAXIS>> ##JOB07 Now Saving ETF_MIN ==== 515750\n",
      "QUANTAXIS>> The 522 of Total 879\n",
      "QUANTAXIS>> DOWNLOAD PROGRESS 59.3% \n",
      "QUANTAXIS>> ##JOB07 Now Saving ETF_MIN ==== 515760\n",
      "QUANTAXIS>> The 523 of Total 879\n",
      "QUANTAXIS>> DOWNLOAD PROGRESS 59.4% \n",
      "QUANTAXIS>> ##JOB07 Now Saving ETF_MIN ==== 515770\n",
      "QUANTAXIS>> The 524 of Total 879\n",
      "QUANTAXIS>> DOWNLOAD PROGRESS 59.6% \n",
      "QUANTAXIS>> ##JOB07.1 Now Saving 515700 from 2023-03-17 15:00:00 to 2021-12-31 15:00:00 ==5min \n",
      "QUANTAXIS>> ##JOB07 Now Saving ETF_MIN ==== 515780\n",
      "QUANTAXIS>> The 525 of Total 879\n",
      "QUANTAXIS>> DOWNLOAD PROGRESS 59.7% \n",
      "QUANTAXIS>> ##JOB07 Now Saving ETF_MIN ==== 515790\n",
      "QUANTAXIS>> The 526 of Total 879\n",
      "QUANTAXIS>> DOWNLOAD PROGRESS 59.8% \n",
      "QUANTAXIS>> ##JOB07 Now Saving ETF_MIN ==== 515800\n",
      "QUANTAXIS>> The 527 of Total 879\n",
      "QUANTAXIS>> DOWNLOAD PROGRESS 59.9% \n",
      "QUANTAXIS>> ##JOB07 Now Saving ETF_MIN ==== 515810\n",
      "QUANTAXIS>> The 528 of Total 879\n",
      "QUANTAXIS>> DOWNLOAD PROGRESS 60.0% \n",
      "QUANTAXIS>> ##JOB07.1 Now Saving 515790 from 2023-03-17 15:00:00 to 2021-12-31 15:00:00 ==5min \n",
      "QUANTAXIS>> ##JOB07 Now Saving ETF_MIN ==== 515850\n",
      "QUANTAXIS>> The 529 of Total 879\n",
      "QUANTAXIS>> DOWNLOAD PROGRESS 60.1% \n",
      "QUANTAXIS>> ##JOB07 Now Saving ETF_MIN ==== 515860\n",
      "QUANTAXIS>> The 530 of Total 879\n",
      "QUANTAXIS>> DOWNLOAD PROGRESS 60.2% \n",
      "QUANTAXIS>> ##JOB07 Now Saving ETF_MIN ==== 515880\n",
      "QUANTAXIS>> The 531 of Total 879\n",
      "QUANTAXIS>> DOWNLOAD PROGRESS 60.4% \n",
      "QUANTAXIS>> ##JOB07 Now Saving ETF_MIN ==== 515890\n",
      "QUANTAXIS>> The 532 of Total 879\n",
      "QUANTAXIS>> DOWNLOAD PROGRESS 60.5% \n",
      "QUANTAXIS>> ##JOB07 Now Saving ETF_MIN ==== 515900\n",
      "QUANTAXIS>> The 533 of Total 879\n",
      "QUANTAXIS>> DOWNLOAD PROGRESS 60.6% \n",
      "QUANTAXIS>> ##JOB07 Now Saving ETF_MIN ==== 515910\n",
      "QUANTAXIS>> The 534 of Total 879\n",
      "QUANTAXIS>> DOWNLOAD PROGRESS 60.7% \n",
      "QUANTAXIS>> ##JOB07 Now Saving ETF_MIN ==== 515920\n",
      "QUANTAXIS>> The 535 of Total 879\n",
      "QUANTAXIS>> DOWNLOAD PROGRESS 60.8% \n",
      "QUANTAXIS>> ##JOB07 Now Saving ETF_MIN ==== 515930\n",
      "QUANTAXIS>> The 536 of Total 879\n",
      "QUANTAXIS>> DOWNLOAD PROGRESS 60.9% \n",
      "QUANTAXIS>> ##JOB07 Now Saving ETF_MIN ==== 515950\n",
      "QUANTAXIS>> The 537 of Total 879\n",
      "QUANTAXIS>> DOWNLOAD PROGRESS 61.0% \n",
      "QUANTAXIS>> ##JOB07 Now Saving ETF_MIN ==== 515960\n",
      "QUANTAXIS>> The 538 of Total 879\n",
      "QUANTAXIS>> DOWNLOAD PROGRESS 61.2% \n",
      "/liubinxu/liubinxu/miniconda3_py38/lib/python3.8/site-packages/QUANTAXIS/QAUtil/QATransform.py:55: SettingWithCopyWarning: \n",
      "A value is trying to be set on a copy of a slice from a DataFrame.\n",
      "Try using .loc[row_indexer,col_indexer] = value instead\n",
      "\n",
      "See the caveats in the documentation: https://pandas.pydata.org/pandas-docs/stable/user_guide/indexing.html#returning-a-view-versus-a-copy\n",
      "  data.datetime = data.datetime.apply(str)\n",
      "/liubinxu/liubinxu/miniconda3_py38/lib/python3.8/site-packages/QUANTAXIS/QAUtil/QATransform.py:57: SettingWithCopyWarning: \n",
      "A value is trying to be set on a copy of a slice from a DataFrame.\n",
      "Try using .loc[row_indexer,col_indexer] = value instead\n",
      "\n",
      "See the caveats in the documentation: https://pandas.pydata.org/pandas-docs/stable/user_guide/indexing.html#returning-a-view-versus-a-copy\n",
      "  data.date = data.date.apply(str)\n",
      "QUANTAXIS>> ##JOB07 Now Saving ETF_MIN ==== 515980\n",
      "QUANTAXIS>> The 539 of Total 879\n",
      "QUANTAXIS>> DOWNLOAD PROGRESS 61.3% \n",
      "QUANTAXIS>> ##JOB07 Now Saving ETF_MIN ==== 515990\n",
      "QUANTAXIS>> The 540 of Total 879\n",
      "QUANTAXIS>> DOWNLOAD PROGRESS 61.4% \n",
      "QUANTAXIS>> ##JOB07 Now Saving ETF_MIN ==== 516000\n",
      "QUANTAXIS>> The 541 of Total 879\n",
      "QUANTAXIS>> DOWNLOAD PROGRESS 61.5% \n"
     ]
    },
    {
     "name": "stdout",
     "output_type": "stream",
     "text": [
      "save 515700 1393\n"
     ]
    },
    {
     "name": "stderr",
     "output_type": "stream",
     "text": [
      "QUANTAXIS>> ##JOB07 Now Saving ETF_MIN ==== 516010\n",
      "QUANTAXIS>> The 542 of Total 879\n",
      "QUANTAXIS>> DOWNLOAD PROGRESS 61.6% \n",
      "QUANTAXIS>> ##JOB07 Now Saving ETF_MIN ==== 516020\n",
      "QUANTAXIS>> The 543 of Total 879\n",
      "QUANTAXIS>> DOWNLOAD PROGRESS 61.7% \n",
      "QUANTAXIS>> ##JOB07 Now Saving ETF_MIN ==== 516050\n",
      "QUANTAXIS>> The 544 of Total 879\n",
      "QUANTAXIS>> DOWNLOAD PROGRESS 61.8% \n",
      "QUANTAXIS>> ##JOB07 Now Saving ETF_MIN ==== 516060\n",
      "QUANTAXIS>> The 545 of Total 879\n",
      "QUANTAXIS>> DOWNLOAD PROGRESS 62.0% \n",
      "QUANTAXIS>> ##JOB07 Now Saving ETF_MIN ==== 516070\n",
      "QUANTAXIS>> The 546 of Total 879\n",
      "QUANTAXIS>> DOWNLOAD PROGRESS 62.1% \n",
      "/liubinxu/liubinxu/miniconda3_py38/lib/python3.8/site-packages/QUANTAXIS/QAUtil/QATransform.py:55: SettingWithCopyWarning: \n",
      "A value is trying to be set on a copy of a slice from a DataFrame.\n",
      "Try using .loc[row_indexer,col_indexer] = value instead\n",
      "\n",
      "See the caveats in the documentation: https://pandas.pydata.org/pandas-docs/stable/user_guide/indexing.html#returning-a-view-versus-a-copy\n",
      "  data.datetime = data.datetime.apply(str)\n",
      "/liubinxu/liubinxu/miniconda3_py38/lib/python3.8/site-packages/QUANTAXIS/QAUtil/QATransform.py:57: SettingWithCopyWarning: \n",
      "A value is trying to be set on a copy of a slice from a DataFrame.\n",
      "Try using .loc[row_indexer,col_indexer] = value instead\n",
      "\n",
      "See the caveats in the documentation: https://pandas.pydata.org/pandas-docs/stable/user_guide/indexing.html#returning-a-view-versus-a-copy\n",
      "  data.date = data.date.apply(str)\n",
      "QUANTAXIS>> ##JOB07.1 Now Saving 516010 from 2023-03-17 15:00:00 to 2021-12-31 15:00:00 ==5min \n",
      "QUANTAXIS>> ##JOB07 Now Saving ETF_MIN ==== 516080\n",
      "QUANTAXIS>> The 547 of Total 879\n",
      "QUANTAXIS>> DOWNLOAD PROGRESS 62.2% \n"
     ]
    },
    {
     "name": "stdout",
     "output_type": "stream",
     "text": [
      "save 515790 1393\n"
     ]
    },
    {
     "name": "stderr",
     "output_type": "stream",
     "text": [
      "QUANTAXIS>> ##JOB07 Now Saving ETF_MIN ==== 516090\n",
      "QUANTAXIS>> The 548 of Total 879\n",
      "QUANTAXIS>> DOWNLOAD PROGRESS 62.3% \n",
      "QUANTAXIS>> ##JOB07 Now Saving ETF_MIN ==== 516100\n",
      "QUANTAXIS>> The 549 of Total 879\n",
      "QUANTAXIS>> DOWNLOAD PROGRESS 62.4% \n",
      "QUANTAXIS>> ##JOB07 Now Saving ETF_MIN ==== 516110\n",
      "QUANTAXIS>> The 550 of Total 879\n",
      "QUANTAXIS>> DOWNLOAD PROGRESS 62.5% \n",
      "QUANTAXIS>> ##JOB07 Now Saving ETF_MIN ==== 516120\n",
      "QUANTAXIS>> The 551 of Total 879\n",
      "QUANTAXIS>> DOWNLOAD PROGRESS 62.6% \n",
      "QUANTAXIS>> ##JOB07 Now Saving ETF_MIN ==== 516130\n",
      "QUANTAXIS>> The 552 of Total 879\n",
      "QUANTAXIS>> DOWNLOAD PROGRESS 62.7% \n",
      "QUANTAXIS>> ##JOB07 Now Saving ETF_MIN ==== 516150\n",
      "QUANTAXIS>> The 553 of Total 879\n",
      "QUANTAXIS>> DOWNLOAD PROGRESS 62.9% \n",
      "QUANTAXIS>> ##JOB07 Now Saving ETF_MIN ==== 516160\n",
      "QUANTAXIS>> The 554 of Total 879\n",
      "QUANTAXIS>> DOWNLOAD PROGRESS 63.0% \n",
      "QUANTAXIS>> ##JOB07 Now Saving ETF_MIN ==== 516180\n",
      "QUANTAXIS>> The 555 of Total 879\n",
      "QUANTAXIS>> DOWNLOAD PROGRESS 63.1% \n",
      "QUANTAXIS>> ##JOB07 Now Saving ETF_MIN ==== 516190\n",
      "QUANTAXIS>> The 556 of Total 879\n",
      "QUANTAXIS>> ##JOB07 Now Saving ETF_MIN ==== 516200\n",
      "QUANTAXIS>> DOWNLOAD PROGRESS 63.2% \n",
      "QUANTAXIS>> ##JOB07.1 Now Saving 516160 from 2023-03-17 15:00:00 to 2021-12-31 15:00:00 ==5min \n",
      "QUANTAXIS>> The 557 of Total 879\n",
      "QUANTAXIS>> DOWNLOAD PROGRESS 63.3% \n",
      "QUANTAXIS>> ##JOB07 Now Saving ETF_MIN ==== 516210\n",
      "QUANTAXIS>> The 558 of Total 879\n",
      "QUANTAXIS>> DOWNLOAD PROGRESS 63.4% \n",
      "QUANTAXIS>> ##JOB07 Now Saving ETF_MIN ==== 516220\n",
      "QUANTAXIS>> The 559 of Total 879\n",
      "QUANTAXIS>> DOWNLOAD PROGRESS 63.5% \n",
      "QUANTAXIS>> ##JOB07 Now Saving ETF_MIN ==== 516260\n",
      "QUANTAXIS>> The 560 of Total 879\n",
      "QUANTAXIS>> DOWNLOAD PROGRESS 63.7% \n",
      "QUANTAXIS>> ##JOB07 Now Saving ETF_MIN ==== 516270\n",
      "QUANTAXIS>> The 561 of Total 879\n",
      "QUANTAXIS>> DOWNLOAD PROGRESS 63.8% \n",
      "/liubinxu/liubinxu/miniconda3_py38/lib/python3.8/site-packages/QUANTAXIS/QAUtil/QATransform.py:55: SettingWithCopyWarning: \n",
      "A value is trying to be set on a copy of a slice from a DataFrame.\n",
      "Try using .loc[row_indexer,col_indexer] = value instead\n",
      "\n",
      "See the caveats in the documentation: https://pandas.pydata.org/pandas-docs/stable/user_guide/indexing.html#returning-a-view-versus-a-copy\n",
      "  data.datetime = data.datetime.apply(str)\n",
      "/liubinxu/liubinxu/miniconda3_py38/lib/python3.8/site-packages/QUANTAXIS/QAUtil/QATransform.py:57: SettingWithCopyWarning: \n",
      "A value is trying to be set on a copy of a slice from a DataFrame.\n",
      "Try using .loc[row_indexer,col_indexer] = value instead\n",
      "\n",
      "See the caveats in the documentation: https://pandas.pydata.org/pandas-docs/stable/user_guide/indexing.html#returning-a-view-versus-a-copy\n",
      "  data.date = data.date.apply(str)\n",
      "QUANTAXIS>> ##JOB07 Now Saving ETF_MIN ==== 516290\n",
      "QUANTAXIS>> The 562 of Total 879\n",
      "QUANTAXIS>> DOWNLOAD PROGRESS 63.9% \n"
     ]
    },
    {
     "name": "stdout",
     "output_type": "stream",
     "text": [
      "save 516010 1393\n"
     ]
    },
    {
     "name": "stderr",
     "output_type": "stream",
     "text": [
      "QUANTAXIS>> ##JOB07 Now Saving ETF_MIN ==== 516300\n",
      "QUANTAXIS>> The 563 of Total 879\n",
      "QUANTAXIS>> DOWNLOAD PROGRESS 64.0% \n",
      "QUANTAXIS>> ##JOB07 Now Saving ETF_MIN ==== 516310\n",
      "QUANTAXIS>> The 564 of Total 879\n",
      "QUANTAXIS>> DOWNLOAD PROGRESS 64.1% \n",
      "QUANTAXIS>> ##JOB07 Now Saving ETF_MIN ==== 516320\n",
      "QUANTAXIS>> The 565 of Total 879\n",
      "QUANTAXIS>> DOWNLOAD PROGRESS 64.2% \n",
      "QUANTAXIS>> ##JOB07 Now Saving ETF_MIN ==== 516330\n",
      "QUANTAXIS>> The 566 of Total 879\n",
      "QUANTAXIS>> DOWNLOAD PROGRESS 64.3% \n",
      "QUANTAXIS>> ##JOB07 Now Saving ETF_MIN ==== 516350\n",
      "QUANTAXIS>> The 567 of Total 879\n",
      "QUANTAXIS>> DOWNLOAD PROGRESS 64.5% \n",
      "QUANTAXIS>> ##JOB07 Now Saving ETF_MIN ==== 516360\n",
      "QUANTAXIS>> The 568 of Total 879\n",
      "QUANTAXIS>> DOWNLOAD PROGRESS 64.6% \n",
      "QUANTAXIS>> ##JOB07 Now Saving ETF_MIN ==== 516380\n",
      "QUANTAXIS>> The 569 of Total 879\n",
      "QUANTAXIS>> DOWNLOAD PROGRESS 64.7% \n",
      "QUANTAXIS>> ##JOB07 Now Saving ETF_MIN ==== 516390\n",
      "QUANTAXIS>> The 570 of Total 879\n",
      "QUANTAXIS>> DOWNLOAD PROGRESS 64.8% \n",
      "QUANTAXIS>> ##JOB07 Now Saving ETF_MIN ==== 516480\n",
      "QUANTAXIS>> The 571 of Total 879\n",
      "QUANTAXIS>> DOWNLOAD PROGRESS 64.9% \n",
      "QUANTAXIS>> ##JOB07 Now Saving ETF_MIN ==== 516500\n",
      "QUANTAXIS>> The 572 of Total 879\n",
      "QUANTAXIS>> DOWNLOAD PROGRESS 65.0% \n",
      "QUANTAXIS>> ##JOB07 Now Saving ETF_MIN ==== 516510\n",
      "QUANTAXIS>> The 573 of Total 879\n",
      "QUANTAXIS>> DOWNLOAD PROGRESS 65.1% \n",
      "QUANTAXIS>> ##JOB07 Now Saving ETF_MIN ==== 516520\n",
      "QUANTAXIS>> The 574 of Total 879\n",
      "QUANTAXIS>> DOWNLOAD PROGRESS 65.3% \n",
      "QUANTAXIS>> ##JOB07 Now Saving ETF_MIN ==== 516530\n",
      "QUANTAXIS>> The 575 of Total 879\n",
      "QUANTAXIS>> DOWNLOAD PROGRESS 65.4% \n",
      "QUANTAXIS>> ##JOB07 Now Saving ETF_MIN ==== 516550\n",
      "QUANTAXIS>> The 576 of Total 879\n",
      "QUANTAXIS>> DOWNLOAD PROGRESS 65.5% \n",
      "QUANTAXIS>> ##JOB07 Now Saving ETF_MIN ==== 516560\n",
      "QUANTAXIS>> The 577 of Total 879\n",
      "QUANTAXIS>> DOWNLOAD PROGRESS 65.6% \n",
      "QUANTAXIS>> ##JOB07 Now Saving ETF_MIN ==== 516570\n",
      "QUANTAXIS>> The 578 of Total 879\n",
      "QUANTAXIS>> DOWNLOAD PROGRESS 65.7% \n",
      "QUANTAXIS>> ##JOB07 Now Saving ETF_MIN ==== 516580\n",
      "QUANTAXIS>> The 579 of Total 879\n",
      "QUANTAXIS>> DOWNLOAD PROGRESS 65.8% \n",
      "QUANTAXIS>> ##JOB07 Now Saving ETF_MIN ==== 516590\n",
      "QUANTAXIS>> The 580 of Total 879\n",
      "QUANTAXIS>> DOWNLOAD PROGRESS 65.9% \n",
      "/liubinxu/liubinxu/miniconda3_py38/lib/python3.8/site-packages/QUANTAXIS/QAUtil/QATransform.py:55: SettingWithCopyWarning: \n",
      "A value is trying to be set on a copy of a slice from a DataFrame.\n",
      "Try using .loc[row_indexer,col_indexer] = value instead\n",
      "\n",
      "See the caveats in the documentation: https://pandas.pydata.org/pandas-docs/stable/user_guide/indexing.html#returning-a-view-versus-a-copy\n",
      "  data.datetime = data.datetime.apply(str)\n",
      "/liubinxu/liubinxu/miniconda3_py38/lib/python3.8/site-packages/QUANTAXIS/QAUtil/QATransform.py:57: SettingWithCopyWarning: \n",
      "A value is trying to be set on a copy of a slice from a DataFrame.\n",
      "Try using .loc[row_indexer,col_indexer] = value instead\n",
      "\n",
      "See the caveats in the documentation: https://pandas.pydata.org/pandas-docs/stable/user_guide/indexing.html#returning-a-view-versus-a-copy\n",
      "  data.date = data.date.apply(str)\n",
      "QUANTAXIS>> ##JOB07 Now Saving ETF_MIN ==== 516600\n",
      "QUANTAXIS>> The 581 of Total 879\n",
      "QUANTAXIS>> DOWNLOAD PROGRESS 66.0% \n"
     ]
    },
    {
     "name": "stdout",
     "output_type": "stream",
     "text": [
      "save 516160 1393\n"
     ]
    },
    {
     "name": "stderr",
     "output_type": "stream",
     "text": [
      "QUANTAXIS>> ##JOB07 Now Saving ETF_MIN ==== 516610\n",
      "QUANTAXIS>> The 582 of Total 879\n",
      "QUANTAXIS>> DOWNLOAD PROGRESS 66.2% \n",
      "QUANTAXIS>> ##JOB07 Now Saving ETF_MIN ==== 516620\n",
      "QUANTAXIS>> The 583 of Total 879\n",
      "QUANTAXIS>> DOWNLOAD PROGRESS 66.3% \n",
      "QUANTAXIS>> ##JOB07 Now Saving ETF_MIN ==== 516630\n",
      "QUANTAXIS>> The 584 of Total 879\n",
      "QUANTAXIS>> DOWNLOAD PROGRESS 66.4% \n",
      "QUANTAXIS>> ##JOB07 Now Saving ETF_MIN ==== 516640\n",
      "QUANTAXIS>> The 585 of Total 879\n",
      "QUANTAXIS>> DOWNLOAD PROGRESS 66.5% \n",
      "QUANTAXIS>> ##JOB07 Now Saving ETF_MIN ==== 516650\n",
      "QUANTAXIS>> The 586 of Total 879\n",
      "QUANTAXIS>> DOWNLOAD PROGRESS 66.6% \n",
      "QUANTAXIS>> ##JOB07 Now Saving ETF_MIN ==== 516660\n",
      "QUANTAXIS>> The 587 of Total 879\n",
      "QUANTAXIS>> DOWNLOAD PROGRESS 66.7% \n",
      "QUANTAXIS>> ##JOB07 Now Saving ETF_MIN ==== 516670\n",
      "QUANTAXIS>> The 588 of Total 879\n",
      "QUANTAXIS>> DOWNLOAD PROGRESS 66.8% \n",
      "QUANTAXIS>> ##JOB07 Now Saving ETF_MIN ==== 516690\n",
      "QUANTAXIS>> The 589 of Total 879\n",
      "QUANTAXIS>> DOWNLOAD PROGRESS 67.0% \n",
      "QUANTAXIS>> ##JOB07 Now Saving ETF_MIN ==== 516700\n",
      "QUANTAXIS>> The 590 of Total 879\n",
      "QUANTAXIS>> DOWNLOAD PROGRESS 67.1% \n",
      "QUANTAXIS>> ##JOB07 Now Saving ETF_MIN ==== 516710\n",
      "QUANTAXIS>> The 591 of Total 879\n",
      "QUANTAXIS>> DOWNLOAD PROGRESS 67.2% \n",
      "QUANTAXIS>> ##JOB07 Now Saving ETF_MIN ==== 516720\n",
      "QUANTAXIS>> The 592 of Total 879\n",
      "QUANTAXIS>> DOWNLOAD PROGRESS 67.3% \n",
      "QUANTAXIS>> ##JOB07 Now Saving ETF_MIN ==== 516730\n",
      "QUANTAXIS>> The 593 of Total 879\n",
      "QUANTAXIS>> DOWNLOAD PROGRESS 67.4% \n",
      "QUANTAXIS>> ##JOB07 Now Saving ETF_MIN ==== 516750\n",
      "QUANTAXIS>> The 594 of Total 879\n",
      "QUANTAXIS>> DOWNLOAD PROGRESS 67.5% \n",
      "QUANTAXIS>> ##JOB07 Now Saving ETF_MIN ==== 516760\n",
      "QUANTAXIS>> The 595 of Total 879\n",
      "QUANTAXIS>> DOWNLOAD PROGRESS 67.6% \n",
      "QUANTAXIS>> ##JOB07 Now Saving ETF_MIN ==== 516770\n",
      "QUANTAXIS>> The 596 of Total 879\n",
      "QUANTAXIS>> DOWNLOAD PROGRESS 67.8% \n",
      "QUANTAXIS>> ##JOB07 Now Saving ETF_MIN ==== 516780\n",
      "QUANTAXIS>> The 597 of Total 879\n",
      "QUANTAXIS>> DOWNLOAD PROGRESS 67.9% \n",
      "QUANTAXIS>> ##JOB07 Now Saving ETF_MIN ==== 516790\n",
      "QUANTAXIS>> The 598 of Total 879\n",
      "QUANTAXIS>> DOWNLOAD PROGRESS 68.0% \n",
      "QUANTAXIS>> ##JOB07 Now Saving ETF_MIN ==== 516800\n",
      "QUANTAXIS>> The 599 of Total 879\n",
      "QUANTAXIS>> DOWNLOAD PROGRESS 68.1% \n",
      "QUANTAXIS>> ##JOB07 Now Saving ETF_MIN ==== 516810\n",
      "QUANTAXIS>> The 600 of Total 879\n",
      "QUANTAXIS>> DOWNLOAD PROGRESS 68.2% \n",
      "QUANTAXIS>> ##JOB07.1 Now Saving 516780 from 2023-03-17 15:00:00 to 2021-12-31 15:00:00 ==5min \n",
      "QUANTAXIS>> ##JOB07 Now Saving ETF_MIN ==== 516820\n",
      "QUANTAXIS>> The 601 of Total 879\n",
      "QUANTAXIS>> DOWNLOAD PROGRESS 68.3% \n",
      "QUANTAXIS>> ##JOB07 Now Saving ETF_MIN ==== 516830\n",
      "QUANTAXIS>> The 602 of Total 879\n",
      "QUANTAXIS>> DOWNLOAD PROGRESS 68.4% \n",
      "QUANTAXIS>> ##JOB07 Now Saving ETF_MIN ==== 516850\n",
      "QUANTAXIS>> The 603 of Total 879\n",
      "QUANTAXIS>> DOWNLOAD PROGRESS 68.6% \n",
      "QUANTAXIS>> ##JOB07 Now Saving ETF_MIN ==== 516860\n",
      "QUANTAXIS>> The 604 of Total 879\n",
      "QUANTAXIS>> DOWNLOAD PROGRESS 68.7% \n",
      "QUANTAXIS>> ##JOB07 Now Saving ETF_MIN ==== 516880\n",
      "QUANTAXIS>> The 605 of Total 879\n",
      "QUANTAXIS>> DOWNLOAD PROGRESS 68.8% \n",
      "QUANTAXIS>> ##JOB07 Now Saving ETF_MIN ==== 516890\n",
      "QUANTAXIS>> The 606 of Total 879\n",
      "QUANTAXIS>> DOWNLOAD PROGRESS 68.9% \n",
      "QUANTAXIS>> ##JOB07 Now Saving ETF_MIN ==== 516900\n",
      "QUANTAXIS>> The 607 of Total 879\n",
      "QUANTAXIS>> DOWNLOAD PROGRESS 69.0% \n",
      "QUANTAXIS>> ##JOB07 Now Saving ETF_MIN ==== 516910\n",
      "QUANTAXIS>> The 608 of Total 879\n",
      "QUANTAXIS>> DOWNLOAD PROGRESS 69.1% \n",
      "QUANTAXIS>> ##JOB07 Now Saving ETF_MIN ==== 516920\n",
      "QUANTAXIS>> The 609 of Total 879\n",
      "QUANTAXIS>> DOWNLOAD PROGRESS 69.2% \n",
      "QUANTAXIS>> ##JOB07 Now Saving ETF_MIN ==== 516930\n",
      "QUANTAXIS>> The 610 of Total 879\n",
      "QUANTAXIS>> DOWNLOAD PROGRESS 69.3% \n",
      "QUANTAXIS>> ##JOB07 Now Saving ETF_MIN ==== 516950\n",
      "QUANTAXIS>> The 611 of Total 879\n",
      "QUANTAXIS>> DOWNLOAD PROGRESS 69.5% \n",
      "QUANTAXIS>> ##JOB07 Now Saving ETF_MIN ==== 516960\n",
      "QUANTAXIS>> The 612 of Total 879\n",
      "QUANTAXIS>> DOWNLOAD PROGRESS 69.6% \n",
      "QUANTAXIS>> ##JOB07 Now Saving ETF_MIN ==== 516970\n",
      "QUANTAXIS>> The 613 of Total 879\n",
      "QUANTAXIS>> DOWNLOAD PROGRESS 69.7% \n",
      "QUANTAXIS>> ##JOB07 Now Saving ETF_MIN ==== 516980\n",
      "QUANTAXIS>> The 614 of Total 879\n",
      "QUANTAXIS>> DOWNLOAD PROGRESS 69.8% \n",
      "QUANTAXIS>> ##JOB07.1 Now Saving 516950 from 2023-03-17 15:00:00 to 2021-12-31 15:00:00 ==5min \n",
      "QUANTAXIS>> ##JOB07.1 Now Saving 516970 from 2023-03-17 15:00:00 to 2021-12-31 15:00:00 ==5min \n",
      "QUANTAXIS>> ##JOB07 Now Saving ETF_MIN ==== 517000\n",
      "QUANTAXIS>> The 615 of Total 879\n",
      "QUANTAXIS>> DOWNLOAD PROGRESS 69.9% \n",
      "QUANTAXIS>> ##JOB07 Now Saving ETF_MIN ==== 517010\n",
      "QUANTAXIS>> The 616 of Total 879\n",
      "QUANTAXIS>> DOWNLOAD PROGRESS 70.0% \n",
      "/liubinxu/liubinxu/miniconda3_py38/lib/python3.8/site-packages/QUANTAXIS/QAUtil/QATransform.py:55: SettingWithCopyWarning: \n",
      "A value is trying to be set on a copy of a slice from a DataFrame.\n",
      "Try using .loc[row_indexer,col_indexer] = value instead\n",
      "\n",
      "See the caveats in the documentation: https://pandas.pydata.org/pandas-docs/stable/user_guide/indexing.html#returning-a-view-versus-a-copy\n",
      "  data.datetime = data.datetime.apply(str)\n",
      "/liubinxu/liubinxu/miniconda3_py38/lib/python3.8/site-packages/QUANTAXIS/QAUtil/QATransform.py:57: SettingWithCopyWarning: \n",
      "A value is trying to be set on a copy of a slice from a DataFrame.\n",
      "Try using .loc[row_indexer,col_indexer] = value instead\n",
      "\n",
      "See the caveats in the documentation: https://pandas.pydata.org/pandas-docs/stable/user_guide/indexing.html#returning-a-view-versus-a-copy\n",
      "  data.date = data.date.apply(str)\n",
      "QUANTAXIS>> ##JOB07 Now Saving ETF_MIN ==== 517030\n",
      "QUANTAXIS>> The 617 of Total 879\n",
      "QUANTAXIS>> DOWNLOAD PROGRESS 70.1% \n",
      "QUANTAXIS>> ##JOB07 Now Saving ETF_MIN ==== 517050\n",
      "QUANTAXIS>> The 618 of Total 879\n",
      "QUANTAXIS>> DOWNLOAD PROGRESS 70.3% \n"
     ]
    },
    {
     "name": "stdout",
     "output_type": "stream",
     "text": [
      "save 516780 1393\n"
     ]
    },
    {
     "name": "stderr",
     "output_type": "stream",
     "text": [
      "QUANTAXIS>> ##JOB07 Now Saving ETF_MIN ==== 517080\n",
      "QUANTAXIS>> The 619 of Total 879\n",
      "QUANTAXIS>> DOWNLOAD PROGRESS 70.4% \n",
      "QUANTAXIS>> ##JOB07 Now Saving ETF_MIN ==== 517090\n",
      "QUANTAXIS>> The 620 of Total 879\n",
      "QUANTAXIS>> DOWNLOAD PROGRESS 70.5% \n",
      "QUANTAXIS>> ##JOB07 Now Saving ETF_MIN ==== 517100\n",
      "QUANTAXIS>> The 621 of Total 879\n",
      "QUANTAXIS>> DOWNLOAD PROGRESS 70.6% \n",
      "QUANTAXIS>> ##JOB07 Now Saving ETF_MIN ==== 517110\n",
      "QUANTAXIS>> The 622 of Total 879\n",
      "QUANTAXIS>> DOWNLOAD PROGRESS 70.7% \n",
      "QUANTAXIS>> ##JOB07 Now Saving ETF_MIN ==== 517120\n",
      "QUANTAXIS>> The 623 of Total 879\n",
      "QUANTAXIS>> DOWNLOAD PROGRESS 70.8% \n",
      "QUANTAXIS>> ##JOB07 Now Saving ETF_MIN ==== 517160\n",
      "QUANTAXIS>> The 624 of Total 879\n",
      "QUANTAXIS>> DOWNLOAD PROGRESS 70.9% \n",
      "QUANTAXIS>> ##JOB07 Now Saving ETF_MIN ==== 517170\n",
      "QUANTAXIS>> The 625 of Total 879\n",
      "QUANTAXIS>> DOWNLOAD PROGRESS 71.1% \n",
      "/liubinxu/liubinxu/miniconda3_py38/lib/python3.8/site-packages/QUANTAXIS/QAUtil/QATransform.py:55: SettingWithCopyWarning: \n",
      "A value is trying to be set on a copy of a slice from a DataFrame.\n",
      "Try using .loc[row_indexer,col_indexer] = value instead\n",
      "\n",
      "See the caveats in the documentation: https://pandas.pydata.org/pandas-docs/stable/user_guide/indexing.html#returning-a-view-versus-a-copy\n",
      "  data.datetime = data.datetime.apply(str)\n",
      "/liubinxu/liubinxu/miniconda3_py38/lib/python3.8/site-packages/QUANTAXIS/QAUtil/QATransform.py:57: SettingWithCopyWarning: \n",
      "A value is trying to be set on a copy of a slice from a DataFrame.\n",
      "Try using .loc[row_indexer,col_indexer] = value instead\n",
      "\n",
      "See the caveats in the documentation: https://pandas.pydata.org/pandas-docs/stable/user_guide/indexing.html#returning-a-view-versus-a-copy\n",
      "  data.date = data.date.apply(str)\n",
      "QUANTAXIS>> ##JOB07 Now Saving ETF_MIN ==== 517180\n",
      "QUANTAXIS>> The 626 of Total 879\n",
      "QUANTAXIS>> DOWNLOAD PROGRESS 71.2% \n",
      "QUANTAXIS>> ##JOB07 Now Saving ETF_MIN ==== 517200\n",
      "QUANTAXIS>> The 627 of Total 879\n",
      "QUANTAXIS>> DOWNLOAD PROGRESS 71.3% \n",
      "QUANTAXIS>> ##JOB07 Now Saving ETF_MIN ==== 517270\n",
      "QUANTAXIS>> The 628 of Total 879\n",
      "QUANTAXIS>> DOWNLOAD PROGRESS 71.4% \n"
     ]
    },
    {
     "name": "stdout",
     "output_type": "stream",
     "text": [
      "save 516950 1393\n"
     ]
    },
    {
     "name": "stderr",
     "output_type": "stream",
     "text": [
      "QUANTAXIS>> ##JOB07 Now Saving ETF_MIN ==== 517280\n",
      "QUANTAXIS>> The 629 of Total 879\n",
      "QUANTAXIS>> DOWNLOAD PROGRESS 71.5% \n",
      "QUANTAXIS>> ##JOB07 Now Saving ETF_MIN ==== 517300\n",
      "QUANTAXIS>> The 630 of Total 879\n",
      "QUANTAXIS>> DOWNLOAD PROGRESS 71.6% \n",
      "QUANTAXIS>> ##JOB07 Now Saving ETF_MIN ==== 517330\n",
      "QUANTAXIS>> The 631 of Total 879\n",
      "QUANTAXIS>> DOWNLOAD PROGRESS 71.7% \n",
      "QUANTAXIS>> ##JOB07 Now Saving ETF_MIN ==== 517350\n",
      "QUANTAXIS>> The 632 of Total 879\n",
      "QUANTAXIS>> DOWNLOAD PROGRESS 71.8% \n",
      "QUANTAXIS>> ##JOB07 Now Saving ETF_MIN ==== 517360\n",
      "QUANTAXIS>> The 633 of Total 879\n",
      "QUANTAXIS>> DOWNLOAD PROGRESS 72.0% \n",
      "/liubinxu/liubinxu/miniconda3_py38/lib/python3.8/site-packages/QUANTAXIS/QAUtil/QATransform.py:55: SettingWithCopyWarning: \n",
      "A value is trying to be set on a copy of a slice from a DataFrame.\n",
      "Try using .loc[row_indexer,col_indexer] = value instead\n",
      "\n",
      "See the caveats in the documentation: https://pandas.pydata.org/pandas-docs/stable/user_guide/indexing.html#returning-a-view-versus-a-copy\n",
      "  data.datetime = data.datetime.apply(str)\n",
      "/liubinxu/liubinxu/miniconda3_py38/lib/python3.8/site-packages/QUANTAXIS/QAUtil/QATransform.py:57: SettingWithCopyWarning: \n",
      "A value is trying to be set on a copy of a slice from a DataFrame.\n",
      "Try using .loc[row_indexer,col_indexer] = value instead\n",
      "\n",
      "See the caveats in the documentation: https://pandas.pydata.org/pandas-docs/stable/user_guide/indexing.html#returning-a-view-versus-a-copy\n",
      "  data.date = data.date.apply(str)\n",
      "QUANTAXIS>> ##JOB07 Now Saving ETF_MIN ==== 517380\n",
      "QUANTAXIS>> The 634 of Total 879\n",
      "QUANTAXIS>> DOWNLOAD PROGRESS 72.1% \n",
      "QUANTAXIS>> ##JOB07 Now Saving ETF_MIN ==== 517390\n",
      "QUANTAXIS>> The 635 of Total 879\n",
      "QUANTAXIS>> DOWNLOAD PROGRESS 72.2% \n"
     ]
    },
    {
     "name": "stdout",
     "output_type": "stream",
     "text": [
      "save 516970 1393\n"
     ]
    },
    {
     "name": "stderr",
     "output_type": "stream",
     "text": [
      "QUANTAXIS>> ##JOB07 Now Saving ETF_MIN ==== 517500\n",
      "QUANTAXIS>> The 636 of Total 879\n",
      "QUANTAXIS>> DOWNLOAD PROGRESS 72.3% \n",
      "QUANTAXIS>> ##JOB07 Now Saving ETF_MIN ==== 517550\n",
      "QUANTAXIS>> The 637 of Total 879\n",
      "QUANTAXIS>> DOWNLOAD PROGRESS 72.4% \n",
      "QUANTAXIS>> ##JOB07 Now Saving ETF_MIN ==== 517660\n",
      "QUANTAXIS>> The 638 of Total 879\n",
      "QUANTAXIS>> ##JOB07 Now Saving ETF_MIN ==== 517760\n",
      "QUANTAXIS>> DOWNLOAD PROGRESS 72.5% \n",
      "QUANTAXIS>> The 639 of Total 879\n",
      "QUANTAXIS>> DOWNLOAD PROGRESS 72.6% \n",
      "QUANTAXIS>> ##JOB07 Now Saving ETF_MIN ==== 517770\n",
      "QUANTAXIS>> The 640 of Total 879\n",
      "QUANTAXIS>> DOWNLOAD PROGRESS 72.8% \n",
      "QUANTAXIS>> ##JOB07 Now Saving ETF_MIN ==== 517780\n",
      "QUANTAXIS>> The 641 of Total 879\n",
      "QUANTAXIS>> DOWNLOAD PROGRESS 72.9% \n",
      "QUANTAXIS>> ##JOB07 Now Saving ETF_MIN ==== 517800\n",
      "QUANTAXIS>> The 642 of Total 879\n",
      "QUANTAXIS>> DOWNLOAD PROGRESS 73.0% \n",
      "QUANTAXIS>> ##JOB07 Now Saving ETF_MIN ==== 517850\n",
      "QUANTAXIS>> The 643 of Total 879\n",
      "QUANTAXIS>> DOWNLOAD PROGRESS 73.1% \n",
      "QUANTAXIS>> ##JOB07 Now Saving ETF_MIN ==== 517880\n",
      "QUANTAXIS>> The 644 of Total 879\n",
      "QUANTAXIS>> DOWNLOAD PROGRESS 73.2% \n",
      "QUANTAXIS>> ##JOB07 Now Saving ETF_MIN ==== 517900\n",
      "QUANTAXIS>> The 645 of Total 879\n",
      "QUANTAXIS>> DOWNLOAD PROGRESS 73.3% \n",
      "QUANTAXIS>> ##JOB07 Now Saving ETF_MIN ==== 517960\n",
      "QUANTAXIS>> The 646 of Total 879\n",
      "QUANTAXIS>> DOWNLOAD PROGRESS 73.4% \n",
      "QUANTAXIS>> ##JOB07 Now Saving ETF_MIN ==== 517990\n",
      "QUANTAXIS>> The 647 of Total 879\n",
      "QUANTAXIS>> DOWNLOAD PROGRESS 73.6% \n",
      "QUANTAXIS>> ##JOB07 Now Saving ETF_MIN ==== 518600\n",
      "QUANTAXIS>> The 648 of Total 879\n",
      "QUANTAXIS>> DOWNLOAD PROGRESS 73.7% \n",
      "QUANTAXIS>> ##JOB07 Now Saving ETF_MIN ==== 518660\n",
      "QUANTAXIS>> The 649 of Total 879\n",
      "QUANTAXIS>> DOWNLOAD PROGRESS 73.8% \n",
      "QUANTAXIS>> ##JOB07 Now Saving ETF_MIN ==== 518680\n",
      "QUANTAXIS>> The 650 of Total 879\n",
      "QUANTAXIS>> DOWNLOAD PROGRESS 73.9% \n",
      "QUANTAXIS>> ##JOB07 Now Saving ETF_MIN ==== 518800\n",
      "QUANTAXIS>> The 651 of Total 879\n",
      "QUANTAXIS>> DOWNLOAD PROGRESS 74.0% \n",
      "QUANTAXIS>> ##JOB07 Now Saving ETF_MIN ==== 518850\n",
      "QUANTAXIS>> The 652 of Total 879\n",
      "QUANTAXIS>> DOWNLOAD PROGRESS 74.1% \n",
      "QUANTAXIS>> ##JOB07 Now Saving ETF_MIN ==== 518860\n",
      "QUANTAXIS>> The 653 of Total 879\n",
      "QUANTAXIS>> DOWNLOAD PROGRESS 74.2% \n",
      "QUANTAXIS>> ##JOB07 Now Saving ETF_MIN ==== 518880\n",
      "QUANTAXIS>> The 654 of Total 879\n",
      "QUANTAXIS>> DOWNLOAD PROGRESS 74.4% \n",
      "QUANTAXIS>> ##JOB07 Now Saving ETF_MIN ==== 518890\n",
      "QUANTAXIS>> The 655 of Total 879\n",
      "QUANTAXIS>> DOWNLOAD PROGRESS 74.5% \n",
      "QUANTAXIS>> ##JOB07 Now Saving ETF_MIN ==== 519001\n",
      "QUANTAXIS>> The 656 of Total 879\n",
      "QUANTAXIS>> DOWNLOAD PROGRESS 74.6% \n",
      "QUANTAXIS>> ##JOB07 Now Saving ETF_MIN ==== 519002\n",
      "QUANTAXIS>> The 657 of Total 879\n",
      "QUANTAXIS>> DOWNLOAD PROGRESS 74.7% \n",
      "QUANTAXIS>> ##JOB07 Now Saving ETF_MIN ==== 519003\n",
      "QUANTAXIS>> The 658 of Total 879\n",
      "QUANTAXIS>> DOWNLOAD PROGRESS 74.8% \n",
      "QUANTAXIS>> ##JOB07 Now Saving ETF_MIN ==== 519005\n",
      "QUANTAXIS>> The 659 of Total 879\n",
      "QUANTAXIS>> DOWNLOAD PROGRESS 74.9% \n",
      "QUANTAXIS>> ##JOB07 Now Saving ETF_MIN ==== 519007\n",
      "QUANTAXIS>> The 660 of Total 879\n",
      "QUANTAXIS>> DOWNLOAD PROGRESS 75.0% \n",
      "QUANTAXIS>> ##JOB07 Now Saving ETF_MIN ==== 519008\n",
      "QUANTAXIS>> The 661 of Total 879\n",
      "QUANTAXIS>> DOWNLOAD PROGRESS 75.1% \n",
      "QUANTAXIS>> ##JOB07 Now Saving ETF_MIN ==== 519011\n",
      "QUANTAXIS>> The 662 of Total 879\n",
      "QUANTAXIS>> DOWNLOAD PROGRESS 75.3% \n",
      "QUANTAXIS>> ##JOB07 Now Saving ETF_MIN ==== 519013\n",
      "QUANTAXIS>> The 663 of Total 879\n",
      "QUANTAXIS>> DOWNLOAD PROGRESS 75.4% \n",
      "QUANTAXIS>> ##JOB07 Now Saving ETF_MIN ==== 519015\n",
      "QUANTAXIS>> The 664 of Total 879\n",
      "QUANTAXIS>> DOWNLOAD PROGRESS 75.5% \n",
      "QUANTAXIS>> ##JOB07 Now Saving ETF_MIN ==== 519017\n",
      "QUANTAXIS>> The 665 of Total 879\n",
      "QUANTAXIS>> DOWNLOAD PROGRESS 75.6% \n",
      "QUANTAXIS>> ##JOB07 Now Saving ETF_MIN ==== 519018\n",
      "QUANTAXIS>> The 666 of Total 879\n",
      "QUANTAXIS>> DOWNLOAD PROGRESS 75.7% \n",
      "QUANTAXIS>> ##JOB07 Now Saving ETF_MIN ==== 519019\n",
      "QUANTAXIS>> The 667 of Total 879\n",
      "QUANTAXIS>> DOWNLOAD PROGRESS 75.8% \n",
      "QUANTAXIS>> ##JOB07 Now Saving ETF_MIN ==== 519020\n",
      "QUANTAXIS>> The 668 of Total 879\n",
      "QUANTAXIS>> DOWNLOAD PROGRESS 75.9% \n",
      "QUANTAXIS>> ##JOB07 Now Saving ETF_MIN ==== 519021\n",
      "QUANTAXIS>> The 669 of Total 879\n",
      "QUANTAXIS>> DOWNLOAD PROGRESS 76.1% \n",
      "QUANTAXIS>> ##JOB07 Now Saving ETF_MIN ==== 519023\n",
      "QUANTAXIS>> The 670 of Total 879\n",
      "QUANTAXIS>> DOWNLOAD PROGRESS 76.2% \n",
      "QUANTAXIS>> ##JOB07 Now Saving ETF_MIN ==== 519025\n",
      "QUANTAXIS>> The 671 of Total 879\n",
      "QUANTAXIS>> DOWNLOAD PROGRESS 76.3% \n",
      "QUANTAXIS>> ##JOB07 Now Saving ETF_MIN ==== 519026\n",
      "QUANTAXIS>> The 672 of Total 879\n",
      "QUANTAXIS>> DOWNLOAD PROGRESS 76.4% \n",
      "QUANTAXIS>> ##JOB07 Now Saving ETF_MIN ==== 519027\n",
      "QUANTAXIS>> The 673 of Total 879\n",
      "QUANTAXIS>> DOWNLOAD PROGRESS 76.5% \n",
      "QUANTAXIS>> ##JOB07 Now Saving ETF_MIN ==== 519028\n",
      "QUANTAXIS>> The 674 of Total 879\n",
      "QUANTAXIS>> DOWNLOAD PROGRESS 76.6% \n",
      "QUANTAXIS>> ##JOB07 Now Saving ETF_MIN ==== 519029\n",
      "QUANTAXIS>> The 675 of Total 879\n",
      "QUANTAXIS>> DOWNLOAD PROGRESS 76.7% \n",
      "QUANTAXIS>> ##JOB07 Now Saving ETF_MIN ==== 519030\n",
      "QUANTAXIS>> The 676 of Total 879\n",
      "QUANTAXIS>> DOWNLOAD PROGRESS 76.9% \n",
      "QUANTAXIS>> ##JOB07 Now Saving ETF_MIN ==== 519032\n",
      "QUANTAXIS>> The 677 of Total 879\n",
      "QUANTAXIS>> DOWNLOAD PROGRESS 77.0% \n",
      "QUANTAXIS>> ##JOB07 Now Saving ETF_MIN ==== 519033\n",
      "QUANTAXIS>> The 678 of Total 879\n",
      "QUANTAXIS>> DOWNLOAD PROGRESS 77.1% \n",
      "QUANTAXIS>> ##JOB07 Now Saving ETF_MIN ==== 519034\n",
      "QUANTAXIS>> The 679 of Total 879\n",
      "QUANTAXIS>> DOWNLOAD PROGRESS 77.2% \n",
      "QUANTAXIS>> ##JOB07 Now Saving ETF_MIN ==== 519035\n",
      "QUANTAXIS>> The 680 of Total 879\n",
      "QUANTAXIS>> DOWNLOAD PROGRESS 77.3% \n",
      "QUANTAXIS>> ##JOB07 Now Saving ETF_MIN ==== 519039\n",
      "QUANTAXIS>> The 681 of Total 879\n",
      "QUANTAXIS>> DOWNLOAD PROGRESS 77.4% \n",
      "QUANTAXIS>> ##JOB07 Now Saving ETF_MIN ==== 519050\n",
      "QUANTAXIS>> The 682 of Total 879\n",
      "QUANTAXIS>> DOWNLOAD PROGRESS 77.5% \n",
      "QUANTAXIS>> ##JOB07 Now Saving ETF_MIN ==== 519056\n",
      "QUANTAXIS>> The 683 of Total 879\n",
      "QUANTAXIS>> DOWNLOAD PROGRESS 77.7% \n",
      "QUANTAXIS>> ##JOB07 Now Saving ETF_MIN ==== 519060\n",
      "QUANTAXIS>> The 684 of Total 879\n",
      "QUANTAXIS>> DOWNLOAD PROGRESS 77.8% \n",
      "QUANTAXIS>> ##JOB07 Now Saving ETF_MIN ==== 519061\n",
      "QUANTAXIS>> The 685 of Total 879\n",
      "QUANTAXIS>> DOWNLOAD PROGRESS 77.9% \n",
      "QUANTAXIS>> ##JOB07 Now Saving ETF_MIN ==== 519062\n",
      "QUANTAXIS>> The 686 of Total 879\n",
      "QUANTAXIS>> DOWNLOAD PROGRESS 78.0% \n",
      "QUANTAXIS>> ##JOB07 Now Saving ETF_MIN ==== 519066\n",
      "QUANTAXIS>> The 687 of Total 879\n",
      "QUANTAXIS>> DOWNLOAD PROGRESS 78.1% \n",
      "QUANTAXIS>> ##JOB07 Now Saving ETF_MIN ==== 519068\n",
      "QUANTAXIS>> The 688 of Total 879\n",
      "QUANTAXIS>> DOWNLOAD PROGRESS 78.2% \n",
      "QUANTAXIS>> ##JOB07 Now Saving ETF_MIN ==== 519069\n",
      "QUANTAXIS>> The 689 of Total 879\n",
      "QUANTAXIS>> DOWNLOAD PROGRESS 78.3% \n",
      "QUANTAXIS>> ##JOB07 Now Saving ETF_MIN ==== 519078\n",
      "QUANTAXIS>> The 690 of Total 879\n",
      "QUANTAXIS>> DOWNLOAD PROGRESS 78.4% \n",
      "QUANTAXIS>> ##JOB07 Now Saving ETF_MIN ==== 519087\n",
      "QUANTAXIS>> The 691 of Total 879\n",
      "QUANTAXIS>> DOWNLOAD PROGRESS 78.6% \n",
      "QUANTAXIS>> ##JOB07 Now Saving ETF_MIN ==== 519089\n",
      "QUANTAXIS>> The 692 of Total 879\n",
      "QUANTAXIS>> DOWNLOAD PROGRESS 78.7% \n",
      "QUANTAXIS>> ##JOB07 Now Saving ETF_MIN ==== 519093\n",
      "QUANTAXIS>> The 693 of Total 879\n",
      "QUANTAXIS>> DOWNLOAD PROGRESS 78.8% \n",
      "QUANTAXIS>> ##JOB07 Now Saving ETF_MIN ==== 519095\n",
      "QUANTAXIS>> The 694 of Total 879\n",
      "QUANTAXIS>> DOWNLOAD PROGRESS 78.9% \n",
      "QUANTAXIS>> ##JOB07 Now Saving ETF_MIN ==== 519097\n",
      "QUANTAXIS>> The 695 of Total 879\n",
      "QUANTAXIS>> DOWNLOAD PROGRESS 79.0% \n",
      "QUANTAXIS>> ##JOB07 Now Saving ETF_MIN ==== 519099\n",
      "QUANTAXIS>> The 696 of Total 879\n",
      "QUANTAXIS>> DOWNLOAD PROGRESS 79.1% \n",
      "QUANTAXIS>> ##JOB07 Now Saving ETF_MIN ==== 519100\n",
      "QUANTAXIS>> The 697 of Total 879\n",
      "QUANTAXIS>> DOWNLOAD PROGRESS 79.2% \n",
      "QUANTAXIS>> ##JOB07 Now Saving ETF_MIN ==== 519110\n",
      "QUANTAXIS>> The 698 of Total 879\n",
      "QUANTAXIS>> DOWNLOAD PROGRESS 79.4% \n",
      "QUANTAXIS>> ##JOB07 Now Saving ETF_MIN ==== 519111\n",
      "QUANTAXIS>> The 699 of Total 879\n",
      "QUANTAXIS>> DOWNLOAD PROGRESS 79.5% \n",
      "QUANTAXIS>> ##JOB07 Now Saving ETF_MIN ==== 519112\n",
      "QUANTAXIS>> The 700 of Total 879\n",
      "QUANTAXIS>> DOWNLOAD PROGRESS 79.6% \n",
      "QUANTAXIS>> ##JOB07 Now Saving ETF_MIN ==== 519113\n",
      "QUANTAXIS>> The 701 of Total 879\n",
      "QUANTAXIS>> DOWNLOAD PROGRESS 79.7% \n",
      "QUANTAXIS>> ##JOB07 Now Saving ETF_MIN ==== 519115\n",
      "QUANTAXIS>> The 702 of Total 879\n",
      "QUANTAXIS>> DOWNLOAD PROGRESS 79.8% \n",
      "QUANTAXIS>> ##JOB07 Now Saving ETF_MIN ==== 519116\n",
      "QUANTAXIS>> The 703 of Total 879\n",
      "QUANTAXIS>> DOWNLOAD PROGRESS 79.9% \n"
     ]
    },
    {
     "name": "stderr",
     "output_type": "stream",
     "text": [
      "QUANTAXIS>> ##JOB07 Now Saving ETF_MIN ==== 519118\n",
      "QUANTAXIS>> The 704 of Total 879\n",
      "QUANTAXIS>> DOWNLOAD PROGRESS 80.0% \n",
      "QUANTAXIS>> ##JOB07 Now Saving ETF_MIN ==== 519119\n",
      "QUANTAXIS>> The 705 of Total 879\n",
      "QUANTAXIS>> DOWNLOAD PROGRESS 80.2% \n",
      "QUANTAXIS>> ##JOB07 Now Saving ETF_MIN ==== 519120\n",
      "QUANTAXIS>> The 706 of Total 879\n",
      "QUANTAXIS>> DOWNLOAD PROGRESS 80.3% \n",
      "QUANTAXIS>> ##JOB07 Now Saving ETF_MIN ==== 519125\n",
      "QUANTAXIS>> The 707 of Total 879\n",
      "QUANTAXIS>> DOWNLOAD PROGRESS 80.4% \n",
      "QUANTAXIS>> ##JOB07 Now Saving ETF_MIN ==== 519126\n",
      "QUANTAXIS>> The 708 of Total 879\n",
      "QUANTAXIS>> DOWNLOAD PROGRESS 80.5% \n",
      "QUANTAXIS>> ##JOB07 Now Saving ETF_MIN ==== 519127\n",
      "QUANTAXIS>> The 709 of Total 879\n",
      "QUANTAXIS>> DOWNLOAD PROGRESS 80.6% \n",
      "QUANTAXIS>> ##JOB07 Now Saving ETF_MIN ==== 519130\n",
      "QUANTAXIS>> The 710 of Total 879\n",
      "QUANTAXIS>> DOWNLOAD PROGRESS 80.7% \n",
      "QUANTAXIS>> ##JOB07 Now Saving ETF_MIN ==== 519133\n",
      "QUANTAXIS>> The 711 of Total 879\n",
      "QUANTAXIS>> DOWNLOAD PROGRESS 80.8% \n",
      "QUANTAXIS>> ##JOB07 Now Saving ETF_MIN ==== 519134\n",
      "QUANTAXIS>> The 712 of Total 879\n",
      "QUANTAXIS>> DOWNLOAD PROGRESS 81.0% \n",
      "QUANTAXIS>> ##JOB07 Now Saving ETF_MIN ==== 519135\n",
      "QUANTAXIS>> The 713 of Total 879\n",
      "QUANTAXIS>> DOWNLOAD PROGRESS 81.1% \n",
      "QUANTAXIS>> ##JOB07 Now Saving ETF_MIN ==== 519136\n",
      "QUANTAXIS>> The 714 of Total 879\n",
      "QUANTAXIS>> DOWNLOAD PROGRESS 81.2% \n",
      "QUANTAXIS>> ##JOB07 Now Saving ETF_MIN ==== 519137\n",
      "QUANTAXIS>> The 715 of Total 879\n",
      "QUANTAXIS>> DOWNLOAD PROGRESS 81.3% \n",
      "QUANTAXIS>> ##JOB07 Now Saving ETF_MIN ==== 519138\n",
      "QUANTAXIS>> The 716 of Total 879\n",
      "QUANTAXIS>> DOWNLOAD PROGRESS 81.4% \n",
      "QUANTAXIS>> ##JOB07 Now Saving ETF_MIN ==== 519150\n",
      "QUANTAXIS>> The 717 of Total 879\n",
      "QUANTAXIS>> DOWNLOAD PROGRESS 81.5% \n",
      "QUANTAXIS>> ##JOB07 Now Saving ETF_MIN ==== 519152\n",
      "QUANTAXIS>> The 718 of Total 879\n",
      "QUANTAXIS>> DOWNLOAD PROGRESS 81.6% \n",
      "QUANTAXIS>> ##JOB07 Now Saving ETF_MIN ==== 519153\n",
      "QUANTAXIS>> The 719 of Total 879\n",
      "QUANTAXIS>> DOWNLOAD PROGRESS 81.7% \n",
      "QUANTAXIS>> ##JOB07 Now Saving ETF_MIN ==== 519156\n",
      "QUANTAXIS>> The 720 of Total 879\n",
      "QUANTAXIS>> DOWNLOAD PROGRESS 81.9% \n",
      "QUANTAXIS>> ##JOB07 Now Saving ETF_MIN ==== 519158\n",
      "QUANTAXIS>> The 721 of Total 879\n",
      "QUANTAXIS>> DOWNLOAD PROGRESS 82.0% \n",
      "QUANTAXIS>> ##JOB07 Now Saving ETF_MIN ==== 519160\n",
      "QUANTAXIS>> The 722 of Total 879\n",
      "QUANTAXIS>> DOWNLOAD PROGRESS 82.1% \n",
      "QUANTAXIS>> ##JOB07 Now Saving ETF_MIN ==== 519161\n",
      "QUANTAXIS>> The 723 of Total 879\n",
      "QUANTAXIS>> DOWNLOAD PROGRESS 82.2% \n",
      "QUANTAXIS>> ##JOB07 Now Saving ETF_MIN ==== 519162\n",
      "QUANTAXIS>> The 724 of Total 879\n",
      "QUANTAXIS>> DOWNLOAD PROGRESS 82.3% \n",
      "QUANTAXIS>> ##JOB07 Now Saving ETF_MIN ==== 519163\n",
      "QUANTAXIS>> The 725 of Total 879\n",
      "QUANTAXIS>> DOWNLOAD PROGRESS 82.4% \n",
      "QUANTAXIS>> ##JOB07 Now Saving ETF_MIN ==== 519165\n",
      "QUANTAXIS>> The 726 of Total 879\n",
      "QUANTAXIS>> DOWNLOAD PROGRESS 82.5% \n",
      "QUANTAXIS>> ##JOB07 Now Saving ETF_MIN ==== 519167\n",
      "QUANTAXIS>> The 727 of Total 879\n",
      "QUANTAXIS>> DOWNLOAD PROGRESS 82.7% \n",
      "QUANTAXIS>> ##JOB07 Now Saving ETF_MIN ==== 519170\n",
      "QUANTAXIS>> The 728 of Total 879\n",
      "QUANTAXIS>> DOWNLOAD PROGRESS 82.8% \n",
      "QUANTAXIS>> ##JOB07 Now Saving ETF_MIN ==== 519171\n",
      "QUANTAXIS>> The 729 of Total 879\n",
      "QUANTAXIS>> DOWNLOAD PROGRESS 82.9% \n",
      "QUANTAXIS>> ##JOB07 Now Saving ETF_MIN ==== 519172\n",
      "QUANTAXIS>> The 730 of Total 879\n",
      "QUANTAXIS>> DOWNLOAD PROGRESS 83.0% \n",
      "QUANTAXIS>> ##JOB07 Now Saving ETF_MIN ==== 519173\n",
      "QUANTAXIS>> The 731 of Total 879\n",
      "QUANTAXIS>> DOWNLOAD PROGRESS 83.1% \n",
      "QUANTAXIS>> ##JOB07 Now Saving ETF_MIN ==== 519175\n",
      "QUANTAXIS>> The 732 of Total 879\n",
      "QUANTAXIS>> DOWNLOAD PROGRESS 83.2% \n",
      "QUANTAXIS>> ##JOB07 Now Saving ETF_MIN ==== 519180\n",
      "QUANTAXIS>> The 733 of Total 879\n",
      "QUANTAXIS>> DOWNLOAD PROGRESS 83.3% \n",
      "QUANTAXIS>> ##JOB07 Now Saving ETF_MIN ==== 519181\n",
      "QUANTAXIS>> The 734 of Total 879\n",
      "QUANTAXIS>> DOWNLOAD PROGRESS 83.5% \n",
      "QUANTAXIS>> ##JOB07 Now Saving ETF_MIN ==== 519183\n",
      "QUANTAXIS>> The 735 of Total 879\n",
      "QUANTAXIS>> DOWNLOAD PROGRESS 83.6% \n",
      "QUANTAXIS>> ##JOB07 Now Saving ETF_MIN ==== 519185\n",
      "QUANTAXIS>> The 736 of Total 879\n",
      "QUANTAXIS>> DOWNLOAD PROGRESS 83.7% \n",
      "QUANTAXIS>> ##JOB07 Now Saving ETF_MIN ==== 519186\n",
      "QUANTAXIS>> The 737 of Total 879\n",
      "QUANTAXIS>> DOWNLOAD PROGRESS 83.8% \n",
      "QUANTAXIS>> ##JOB07 Now Saving ETF_MIN ==== 519188\n",
      "QUANTAXIS>> The 738 of Total 879\n",
      "QUANTAXIS>> DOWNLOAD PROGRESS 83.9% \n",
      "QUANTAXIS>> ##JOB07 Now Saving ETF_MIN ==== 519189\n",
      "QUANTAXIS>> The 739 of Total 879\n",
      "QUANTAXIS>> DOWNLOAD PROGRESS 84.0% \n",
      "QUANTAXIS>> ##JOB07 Now Saving ETF_MIN ==== 519190\n",
      "QUANTAXIS>> The 740 of Total 879\n",
      "QUANTAXIS>> DOWNLOAD PROGRESS 84.1% \n",
      "QUANTAXIS>> ##JOB07 Now Saving ETF_MIN ==== 519191\n",
      "QUANTAXIS>> The 741 of Total 879\n",
      "QUANTAXIS>> DOWNLOAD PROGRESS 84.3% \n",
      "QUANTAXIS>> ##JOB07 Now Saving ETF_MIN ==== 519192\n",
      "QUANTAXIS>> The 742 of Total 879\n",
      "QUANTAXIS>> DOWNLOAD PROGRESS 84.4% \n",
      "QUANTAXIS>> ##JOB07 Now Saving ETF_MIN ==== 519193\n",
      "QUANTAXIS>> The 743 of Total 879\n",
      "QUANTAXIS>> DOWNLOAD PROGRESS 84.5% \n",
      "QUANTAXIS>> ##JOB07 Now Saving ETF_MIN ==== 519195\n",
      "QUANTAXIS>> The 744 of Total 879\n",
      "QUANTAXIS>> DOWNLOAD PROGRESS 84.6% \n",
      "QUANTAXIS>> ##JOB07 Now Saving ETF_MIN ==== 519196\n",
      "QUANTAXIS>> The 745 of Total 879\n",
      "QUANTAXIS>> DOWNLOAD PROGRESS 84.7% \n",
      "QUANTAXIS>> ##JOB07 Now Saving ETF_MIN ==== 519197\n",
      "QUANTAXIS>> The 746 of Total 879\n",
      "QUANTAXIS>> DOWNLOAD PROGRESS 84.8% \n",
      "QUANTAXIS>> ##JOB07 Now Saving ETF_MIN ==== 519198\n",
      "QUANTAXIS>> The 747 of Total 879\n",
      "QUANTAXIS>> DOWNLOAD PROGRESS 84.9% \n",
      "QUANTAXIS>> ##JOB07 Now Saving ETF_MIN ==== 519199\n",
      "QUANTAXIS>> The 748 of Total 879\n",
      "QUANTAXIS>> DOWNLOAD PROGRESS 85.0% \n",
      "QUANTAXIS>> ##JOB07 Now Saving ETF_MIN ==== 519206\n",
      "QUANTAXIS>> The 749 of Total 879\n",
      "QUANTAXIS>> DOWNLOAD PROGRESS 85.2% \n",
      "QUANTAXIS>> ##JOB07 Now Saving ETF_MIN ==== 519207\n",
      "QUANTAXIS>> The 750 of Total 879\n",
      "QUANTAXIS>> DOWNLOAD PROGRESS 85.3% \n",
      "QUANTAXIS>> ##JOB07 Now Saving ETF_MIN ==== 519300\n",
      "QUANTAXIS>> The 751 of Total 879\n",
      "QUANTAXIS>> DOWNLOAD PROGRESS 85.4% \n",
      "QUANTAXIS>> ##JOB07 Now Saving ETF_MIN ==== 519505\n",
      "QUANTAXIS>> The 752 of Total 879\n",
      "QUANTAXIS>> DOWNLOAD PROGRESS 85.5% \n",
      "QUANTAXIS>> ##JOB07 Now Saving ETF_MIN ==== 519506\n",
      "QUANTAXIS>> The 753 of Total 879\n",
      "QUANTAXIS>> DOWNLOAD PROGRESS 85.6% \n",
      "QUANTAXIS>> ##JOB07 Now Saving ETF_MIN ==== 519507\n",
      "QUANTAXIS>> The 754 of Total 879\n",
      "QUANTAXIS>> DOWNLOAD PROGRESS 85.7% \n",
      "QUANTAXIS>> ##JOB07 Now Saving ETF_MIN ==== 519508\n",
      "QUANTAXIS>> The 755 of Total 879\n",
      "QUANTAXIS>> DOWNLOAD PROGRESS 85.8% \n",
      "QUANTAXIS>> ##JOB07 Now Saving ETF_MIN ==== 519509\n",
      "QUANTAXIS>> The 756 of Total 879\n",
      "QUANTAXIS>> DOWNLOAD PROGRESS 86.0% \n",
      "QUANTAXIS>> ##JOB07 Now Saving ETF_MIN ==== 519510\n",
      "QUANTAXIS>> The 757 of Total 879\n",
      "QUANTAXIS>> DOWNLOAD PROGRESS 86.1% \n",
      "QUANTAXIS>> ##JOB07 Now Saving ETF_MIN ==== 519511\n",
      "QUANTAXIS>> The 758 of Total 879\n",
      "QUANTAXIS>> DOWNLOAD PROGRESS 86.2% \n",
      "QUANTAXIS>> ##JOB07 Now Saving ETF_MIN ==== 519512\n",
      "QUANTAXIS>> The 759 of Total 879\n",
      "QUANTAXIS>> DOWNLOAD PROGRESS 86.3% \n",
      "QUANTAXIS>> ##JOB07 Now Saving ETF_MIN ==== 519518\n",
      "QUANTAXIS>> The 760 of Total 879\n",
      "QUANTAXIS>> DOWNLOAD PROGRESS 86.4% \n",
      "QUANTAXIS>> ##JOB07 Now Saving ETF_MIN ==== 519519\n",
      "QUANTAXIS>> The 761 of Total 879\n",
      "QUANTAXIS>> DOWNLOAD PROGRESS 86.5% \n",
      "QUANTAXIS>> ##JOB07 Now Saving ETF_MIN ==== 519566\n",
      "QUANTAXIS>> The 762 of Total 879\n",
      "QUANTAXIS>> DOWNLOAD PROGRESS 86.6% \n",
      "QUANTAXIS>> ##JOB07 Now Saving ETF_MIN ==== 519567\n",
      "QUANTAXIS>> The 763 of Total 879\n",
      "QUANTAXIS>> DOWNLOAD PROGRESS 86.8% \n",
      "QUANTAXIS>> ##JOB07 Now Saving ETF_MIN ==== 519598\n",
      "QUANTAXIS>> The 764 of Total 879\n",
      "QUANTAXIS>> DOWNLOAD PROGRESS 86.9% \n",
      "QUANTAXIS>> ##JOB07 Now Saving ETF_MIN ==== 519599\n",
      "QUANTAXIS>> The 765 of Total 879\n",
      "QUANTAXIS>> DOWNLOAD PROGRESS 87.0% \n",
      "QUANTAXIS>> ##JOB07 Now Saving ETF_MIN ==== 519606\n",
      "QUANTAXIS>> The 766 of Total 879\n",
      "QUANTAXIS>> DOWNLOAD PROGRESS 87.1% \n",
      "QUANTAXIS>> ##JOB07 Now Saving ETF_MIN ==== 519613\n",
      "QUANTAXIS>> The 767 of Total 879\n",
      "QUANTAXIS>> DOWNLOAD PROGRESS 87.2% \n",
      "QUANTAXIS>> ##JOB07 Now Saving ETF_MIN ==== 519614\n",
      "QUANTAXIS>> The 768 of Total 879\n",
      "QUANTAXIS>> DOWNLOAD PROGRESS 87.3% \n",
      "QUANTAXIS>> ##JOB07 Now Saving ETF_MIN ==== 519616\n",
      "QUANTAXIS>> The 769 of Total 879\n",
      "QUANTAXIS>> DOWNLOAD PROGRESS 87.4% \n",
      "QUANTAXIS>> ##JOB07 Now Saving ETF_MIN ==== 519617\n",
      "QUANTAXIS>> The 770 of Total 879\n",
      "QUANTAXIS>> DOWNLOAD PROGRESS 87.5% \n",
      "QUANTAXIS>> ##JOB07 Now Saving ETF_MIN ==== 519619\n",
      "QUANTAXIS>> The 771 of Total 879\n",
      "QUANTAXIS>> DOWNLOAD PROGRESS 87.7% \n"
     ]
    },
    {
     "name": "stderr",
     "output_type": "stream",
     "text": [
      "QUANTAXIS>> ##JOB07 Now Saving ETF_MIN ==== 519620\n",
      "QUANTAXIS>> The 772 of Total 879\n",
      "QUANTAXIS>> DOWNLOAD PROGRESS 87.8% \n",
      "QUANTAXIS>> ##JOB07 Now Saving ETF_MIN ==== 519622\n",
      "QUANTAXIS>> The 773 of Total 879\n",
      "QUANTAXIS>> DOWNLOAD PROGRESS 87.9% \n",
      "QUANTAXIS>> ##JOB07 Now Saving ETF_MIN ==== 519623\n",
      "QUANTAXIS>> The 774 of Total 879\n",
      "QUANTAXIS>> DOWNLOAD PROGRESS 88.0% \n",
      "QUANTAXIS>> ##JOB07 Now Saving ETF_MIN ==== 519624\n",
      "QUANTAXIS>> The 775 of Total 879\n",
      "QUANTAXIS>> DOWNLOAD PROGRESS 88.1% \n",
      "QUANTAXIS>> ##JOB07 Now Saving ETF_MIN ==== 519625\n",
      "QUANTAXIS>> The 776 of Total 879\n",
      "QUANTAXIS>> DOWNLOAD PROGRESS 88.2% \n",
      "QUANTAXIS>> ##JOB07 Now Saving ETF_MIN ==== 519626\n",
      "QUANTAXIS>> The 777 of Total 879\n",
      "QUANTAXIS>> DOWNLOAD PROGRESS 88.3% \n",
      "QUANTAXIS>> ##JOB07 Now Saving ETF_MIN ==== 519627\n",
      "QUANTAXIS>> The 778 of Total 879\n",
      "QUANTAXIS>> DOWNLOAD PROGRESS 88.5% \n",
      "QUANTAXIS>> ##JOB07 Now Saving ETF_MIN ==== 519628\n",
      "QUANTAXIS>> The 779 of Total 879\n",
      "QUANTAXIS>> DOWNLOAD PROGRESS 88.6% \n",
      "QUANTAXIS>> ##JOB07 Now Saving ETF_MIN ==== 519629\n",
      "QUANTAXIS>> The 780 of Total 879\n",
      "QUANTAXIS>> DOWNLOAD PROGRESS 88.7% \n",
      "QUANTAXIS>> ##JOB07 Now Saving ETF_MIN ==== 519630\n",
      "QUANTAXIS>> The 781 of Total 879\n",
      "QUANTAXIS>> DOWNLOAD PROGRESS 88.8% \n",
      "QUANTAXIS>> ##JOB07 Now Saving ETF_MIN ==== 519642\n",
      "QUANTAXIS>> The 782 of Total 879\n",
      "QUANTAXIS>> DOWNLOAD PROGRESS 88.9% \n",
      "QUANTAXIS>> ##JOB07 Now Saving ETF_MIN ==== 519644\n",
      "QUANTAXIS>> The 783 of Total 879\n",
      "QUANTAXIS>> DOWNLOAD PROGRESS 89.0% \n",
      "QUANTAXIS>> ##JOB07 Now Saving ETF_MIN ==== 519651\n",
      "QUANTAXIS>> The 784 of Total 879\n",
      "QUANTAXIS>> DOWNLOAD PROGRESS 89.1% \n",
      "QUANTAXIS>> ##JOB07 Now Saving ETF_MIN ==== 519652\n",
      "QUANTAXIS>> The 785 of Total 879\n",
      "QUANTAXIS>> DOWNLOAD PROGRESS 89.3% \n",
      "QUANTAXIS>> ##JOB07 Now Saving ETF_MIN ==== 519653\n",
      "QUANTAXIS>> The 786 of Total 879\n",
      "QUANTAXIS>> DOWNLOAD PROGRESS 89.4% \n",
      "QUANTAXIS>> ##JOB07 Now Saving ETF_MIN ==== 519654\n",
      "QUANTAXIS>> The 787 of Total 879\n",
      "QUANTAXIS>> DOWNLOAD PROGRESS 89.5% \n",
      "QUANTAXIS>> ##JOB07 Now Saving ETF_MIN ==== 519655\n",
      "QUANTAXIS>> The 788 of Total 879\n",
      "QUANTAXIS>> DOWNLOAD PROGRESS 89.6% \n",
      "QUANTAXIS>> ##JOB07 Now Saving ETF_MIN ==== 519656\n",
      "QUANTAXIS>> The 789 of Total 879\n",
      "QUANTAXIS>> DOWNLOAD PROGRESS 89.7% \n",
      "QUANTAXIS>> ##JOB07 Now Saving ETF_MIN ==== 519657\n",
      "QUANTAXIS>> The 790 of Total 879\n",
      "QUANTAXIS>> DOWNLOAD PROGRESS 89.8% \n",
      "QUANTAXIS>> ##JOB07 Now Saving ETF_MIN ==== 519660\n",
      "QUANTAXIS>> The 791 of Total 879\n",
      "QUANTAXIS>> DOWNLOAD PROGRESS 89.9% \n",
      "QUANTAXIS>> ##JOB07 Now Saving ETF_MIN ==== 519661\n",
      "QUANTAXIS>> The 792 of Total 879\n",
      "QUANTAXIS>> DOWNLOAD PROGRESS 90.1% \n",
      "QUANTAXIS>> ##JOB07 Now Saving ETF_MIN ==== 519664\n",
      "QUANTAXIS>> The 793 of Total 879\n",
      "QUANTAXIS>> DOWNLOAD PROGRESS 90.2% \n",
      "QUANTAXIS>> ##JOB07 Now Saving ETF_MIN ==== 519665\n",
      "QUANTAXIS>> The 794 of Total 879\n",
      "QUANTAXIS>> DOWNLOAD PROGRESS 90.3% \n",
      "QUANTAXIS>> ##JOB07 Now Saving ETF_MIN ==== 519666\n",
      "QUANTAXIS>> The 795 of Total 879\n",
      "QUANTAXIS>> DOWNLOAD PROGRESS 90.4% \n",
      "QUANTAXIS>> ##JOB07 Now Saving ETF_MIN ==== 519668\n",
      "QUANTAXIS>> The 796 of Total 879\n",
      "QUANTAXIS>> DOWNLOAD PROGRESS 90.5% \n",
      "QUANTAXIS>> ##JOB07 Now Saving ETF_MIN ==== 519669\n",
      "QUANTAXIS>> The 797 of Total 879\n",
      "QUANTAXIS>> DOWNLOAD PROGRESS 90.6% \n",
      "QUANTAXIS>> ##JOB07 Now Saving ETF_MIN ==== 519670\n",
      "QUANTAXIS>> The 798 of Total 879\n",
      "QUANTAXIS>> DOWNLOAD PROGRESS 90.7% \n",
      "QUANTAXIS>> ##JOB07 Now Saving ETF_MIN ==== 519671\n",
      "QUANTAXIS>> The 799 of Total 879\n",
      "QUANTAXIS>> DOWNLOAD PROGRESS 90.8% \n",
      "QUANTAXIS>> ##JOB07 Now Saving ETF_MIN ==== 519672\n",
      "QUANTAXIS>> The 800 of Total 879\n",
      "QUANTAXIS>> DOWNLOAD PROGRESS 91.0% \n",
      "QUANTAXIS>> ##JOB07 Now Saving ETF_MIN ==== 519673\n",
      "QUANTAXIS>> The 801 of Total 879\n",
      "QUANTAXIS>> DOWNLOAD PROGRESS 91.1% \n",
      "QUANTAXIS>> ##JOB07 Now Saving ETF_MIN ==== 519674\n",
      "QUANTAXIS>> The 802 of Total 879\n",
      "QUANTAXIS>> DOWNLOAD PROGRESS 91.2% \n",
      "QUANTAXIS>> ##JOB07 Now Saving ETF_MIN ==== 519675\n",
      "QUANTAXIS>> The 803 of Total 879\n",
      "QUANTAXIS>> DOWNLOAD PROGRESS 91.3% \n",
      "QUANTAXIS>> ##JOB07 Now Saving ETF_MIN ==== 519676\n",
      "QUANTAXIS>> The 804 of Total 879\n",
      "QUANTAXIS>> DOWNLOAD PROGRESS 91.4% \n",
      "QUANTAXIS>> ##JOB07 Now Saving ETF_MIN ==== 519677\n",
      "QUANTAXIS>> The 805 of Total 879\n",
      "QUANTAXIS>> DOWNLOAD PROGRESS 91.5% \n",
      "QUANTAXIS>> ##JOB07 Now Saving ETF_MIN ==== 519678\n",
      "QUANTAXIS>> The 806 of Total 879\n",
      "QUANTAXIS>> DOWNLOAD PROGRESS 91.6% \n",
      "QUANTAXIS>> ##JOB07 Now Saving ETF_MIN ==== 519679\n",
      "QUANTAXIS>> The 807 of Total 879\n",
      "QUANTAXIS>> DOWNLOAD PROGRESS 91.8% \n",
      "QUANTAXIS>> ##JOB07 Now Saving ETF_MIN ==== 519680\n",
      "QUANTAXIS>> The 808 of Total 879\n",
      "QUANTAXIS>> DOWNLOAD PROGRESS 91.9% \n",
      "QUANTAXIS>> ##JOB07 Now Saving ETF_MIN ==== 519683\n",
      "QUANTAXIS>> The 809 of Total 879\n",
      "QUANTAXIS>> DOWNLOAD PROGRESS 92.0% \n",
      "QUANTAXIS>> ##JOB07 Now Saving ETF_MIN ==== 519688\n",
      "QUANTAXIS>> The 810 of Total 879\n",
      "QUANTAXIS>> DOWNLOAD PROGRESS 92.1% \n",
      "QUANTAXIS>> ##JOB07 Now Saving ETF_MIN ==== 519690\n",
      "QUANTAXIS>> The 811 of Total 879\n",
      "QUANTAXIS>> DOWNLOAD PROGRESS 92.2% \n",
      "QUANTAXIS>> ##JOB07 Now Saving ETF_MIN ==== 519692\n",
      "QUANTAXIS>> The 812 of Total 879\n",
      "QUANTAXIS>> DOWNLOAD PROGRESS 92.3% \n",
      "QUANTAXIS>> ##JOB07 Now Saving ETF_MIN ==== 519698\n",
      "QUANTAXIS>> The 813 of Total 879\n",
      "QUANTAXIS>> DOWNLOAD PROGRESS 92.4% \n",
      "QUANTAXIS>> ##JOB07 Now Saving ETF_MIN ==== 519700\n",
      "QUANTAXIS>> The 814 of Total 879\n",
      "QUANTAXIS>> DOWNLOAD PROGRESS 92.6% \n",
      "QUANTAXIS>> ##JOB07 Now Saving ETF_MIN ==== 519702\n",
      "QUANTAXIS>> The 815 of Total 879\n",
      "QUANTAXIS>> DOWNLOAD PROGRESS 92.7% \n",
      "QUANTAXIS>> ##JOB07 Now Saving ETF_MIN ==== 519704\n",
      "QUANTAXIS>> The 816 of Total 879\n",
      "QUANTAXIS>> DOWNLOAD PROGRESS 92.8% \n",
      "QUANTAXIS>> ##JOB07 Now Saving ETF_MIN ==== 519706\n",
      "QUANTAXIS>> The 817 of Total 879\n",
      "QUANTAXIS>> DOWNLOAD PROGRESS 92.9% \n",
      "QUANTAXIS>> ##JOB07 Now Saving ETF_MIN ==== 519712\n",
      "QUANTAXIS>> The 818 of Total 879\n",
      "QUANTAXIS>> DOWNLOAD PROGRESS 93.0% \n",
      "QUANTAXIS>> ##JOB07 Now Saving ETF_MIN ==== 519714\n",
      "QUANTAXIS>> The 819 of Total 879\n",
      "QUANTAXIS>> DOWNLOAD PROGRESS 93.1% \n",
      "QUANTAXIS>> ##JOB07 Now Saving ETF_MIN ==== 519718\n",
      "QUANTAXIS>> The 820 of Total 879\n",
      "QUANTAXIS>> DOWNLOAD PROGRESS 93.2% \n",
      "QUANTAXIS>> ##JOB07 Now Saving ETF_MIN ==== 519723\n",
      "QUANTAXIS>> The 821 of Total 879\n",
      "QUANTAXIS>> DOWNLOAD PROGRESS 93.4% \n",
      "QUANTAXIS>> ##JOB07 Now Saving ETF_MIN ==== 519727\n",
      "QUANTAXIS>> The 822 of Total 879\n",
      "QUANTAXIS>> DOWNLOAD PROGRESS 93.5% \n",
      "QUANTAXIS>> ##JOB07 Now Saving ETF_MIN ==== 519733\n",
      "QUANTAXIS>> The 823 of Total 879\n",
      "QUANTAXIS>> DOWNLOAD PROGRESS 93.6% \n",
      "QUANTAXIS>> ##JOB07 Now Saving ETF_MIN ==== 519734\n",
      "QUANTAXIS>> The 824 of Total 879\n",
      "QUANTAXIS>> DOWNLOAD PROGRESS 93.7% \n",
      "QUANTAXIS>> ##JOB07 Now Saving ETF_MIN ==== 519735\n",
      "QUANTAXIS>> The 825 of Total 879\n",
      "QUANTAXIS>> DOWNLOAD PROGRESS 93.8% \n",
      "QUANTAXIS>> ##JOB07 Now Saving ETF_MIN ==== 519800\n",
      "QUANTAXIS>> The 826 of Total 879\n",
      "QUANTAXIS>> DOWNLOAD PROGRESS 93.9% \n",
      "QUANTAXIS>> ##JOB07 Now Saving ETF_MIN ==== 519801\n",
      "QUANTAXIS>> The 827 of Total 879\n",
      "QUANTAXIS>> DOWNLOAD PROGRESS 94.0% \n",
      "QUANTAXIS>> ##JOB07 Now Saving ETF_MIN ==== 519858\n",
      "QUANTAXIS>> The 828 of Total 879\n",
      "QUANTAXIS>> DOWNLOAD PROGRESS 94.1% \n",
      "QUANTAXIS>> ##JOB07 Now Saving ETF_MIN ==== 519859\n",
      "QUANTAXIS>> The 829 of Total 879\n",
      "QUANTAXIS>> DOWNLOAD PROGRESS 94.3% \n",
      "QUANTAXIS>> ##JOB07 Now Saving ETF_MIN ==== 519878\n",
      "QUANTAXIS>> The 830 of Total 879\n",
      "QUANTAXIS>> DOWNLOAD PROGRESS 94.4% \n",
      "QUANTAXIS>> ##JOB07 Now Saving ETF_MIN ==== 519879\n",
      "QUANTAXIS>> The 831 of Total 879\n",
      "QUANTAXIS>> DOWNLOAD PROGRESS 94.5% \n",
      "QUANTAXIS>> ##JOB07 Now Saving ETF_MIN ==== 519888\n",
      "QUANTAXIS>> The 832 of Total 879\n",
      "QUANTAXIS>> DOWNLOAD PROGRESS 94.6% \n",
      "QUANTAXIS>> ##JOB07 Now Saving ETF_MIN ==== 519889\n",
      "QUANTAXIS>> The 833 of Total 879\n",
      "QUANTAXIS>> DOWNLOAD PROGRESS 94.7% \n",
      "QUANTAXIS>> ##JOB07 Now Saving ETF_MIN ==== 519898\n",
      "QUANTAXIS>> The 834 of Total 879\n",
      "QUANTAXIS>> DOWNLOAD PROGRESS 94.8% \n",
      "QUANTAXIS>> ##JOB07 Now Saving ETF_MIN ==== 519899\n",
      "QUANTAXIS>> The 835 of Total 879\n",
      "QUANTAXIS>> DOWNLOAD PROGRESS 94.9% \n",
      "QUANTAXIS>> ##JOB07 Now Saving ETF_MIN ==== 519908\n",
      "QUANTAXIS>> The 836 of Total 879\n",
      "QUANTAXIS>> DOWNLOAD PROGRESS 95.1% \n",
      "QUANTAXIS>> ##JOB07 Now Saving ETF_MIN ==== 519909\n",
      "QUANTAXIS>> The 837 of Total 879\n",
      "QUANTAXIS>> DOWNLOAD PROGRESS 95.2% \n",
      "QUANTAXIS>> ##JOB07 Now Saving ETF_MIN ==== 519915\n",
      "QUANTAXIS>> The 838 of Total 879\n",
      "QUANTAXIS>> DOWNLOAD PROGRESS 95.3% \n",
      "QUANTAXIS>> ##JOB07 Now Saving ETF_MIN ==== 519918\n",
      "QUANTAXIS>> The 839 of Total 879\n",
      "QUANTAXIS>> DOWNLOAD PROGRESS 95.4% \n"
     ]
    },
    {
     "name": "stderr",
     "output_type": "stream",
     "text": [
      "QUANTAXIS>> ##JOB07 Now Saving ETF_MIN ==== 519929\n",
      "QUANTAXIS>> The 840 of Total 879\n",
      "QUANTAXIS>> DOWNLOAD PROGRESS 95.5% \n",
      "QUANTAXIS>> ##JOB07 Now Saving ETF_MIN ==== 519933\n",
      "QUANTAXIS>> The 841 of Total 879\n",
      "QUANTAXIS>> DOWNLOAD PROGRESS 95.6% \n",
      "QUANTAXIS>> ##JOB07 Now Saving ETF_MIN ==== 519935\n",
      "QUANTAXIS>> The 842 of Total 879\n",
      "QUANTAXIS>> DOWNLOAD PROGRESS 95.7% \n",
      "QUANTAXIS>> ##JOB07 Now Saving ETF_MIN ==== 519937\n",
      "QUANTAXIS>> The 843 of Total 879\n",
      "QUANTAXIS>> DOWNLOAD PROGRESS 95.9% \n",
      "QUANTAXIS>> ##JOB07 Now Saving ETF_MIN ==== 519940\n",
      "QUANTAXIS>> The 844 of Total 879\n",
      "QUANTAXIS>> DOWNLOAD PROGRESS 96.0% \n",
      "QUANTAXIS>> ##JOB07 Now Saving ETF_MIN ==== 519941\n",
      "QUANTAXIS>> The 845 of Total 879\n",
      "QUANTAXIS>> DOWNLOAD PROGRESS 96.1% \n",
      "QUANTAXIS>> ##JOB07 Now Saving ETF_MIN ==== 519942\n",
      "QUANTAXIS>> The 846 of Total 879\n",
      "QUANTAXIS>> DOWNLOAD PROGRESS 96.2% \n",
      "QUANTAXIS>> ##JOB07 Now Saving ETF_MIN ==== 519943\n",
      "QUANTAXIS>> The 847 of Total 879\n",
      "QUANTAXIS>> DOWNLOAD PROGRESS 96.3% \n",
      "QUANTAXIS>> ##JOB07 Now Saving ETF_MIN ==== 519944\n",
      "QUANTAXIS>> The 848 of Total 879\n",
      "QUANTAXIS>> DOWNLOAD PROGRESS 96.4% \n",
      "QUANTAXIS>> ##JOB07 Now Saving ETF_MIN ==== 519945\n",
      "QUANTAXIS>> The 849 of Total 879\n",
      "QUANTAXIS>> ##JOB07 Now Saving ETF_MIN ==== 519947\n",
      "QUANTAXIS>> DOWNLOAD PROGRESS 96.5% \n",
      "QUANTAXIS>> The 850 of Total 879\n",
      "QUANTAXIS>> DOWNLOAD PROGRESS 96.7% \n",
      "QUANTAXIS>> ##JOB07 Now Saving ETF_MIN ==== 519949\n",
      "QUANTAXIS>> The 851 of Total 879\n",
      "QUANTAXIS>> DOWNLOAD PROGRESS 96.8% \n",
      "QUANTAXIS>> ##JOB07 Now Saving ETF_MIN ==== 519951\n",
      "QUANTAXIS>> The 852 of Total 879\n",
      "QUANTAXIS>> DOWNLOAD PROGRESS 96.9% \n",
      "QUANTAXIS>> ##JOB07 Now Saving ETF_MIN ==== 519956\n",
      "QUANTAXIS>> The 853 of Total 879\n",
      "QUANTAXIS>> ##JOB07 Now Saving ETF_MIN ==== 519957\n",
      "QUANTAXIS>> DOWNLOAD PROGRESS 97.0% \n",
      "QUANTAXIS>> The 854 of Total 879\n",
      "QUANTAXIS>> DOWNLOAD PROGRESS 97.1% \n",
      "QUANTAXIS>> ##JOB07 Now Saving ETF_MIN ==== 519959\n",
      "QUANTAXIS>> The 855 of Total 879\n",
      "QUANTAXIS>> DOWNLOAD PROGRESS 97.2% \n",
      "QUANTAXIS>> ##JOB07 Now Saving ETF_MIN ==== 519961\n",
      "QUANTAXIS>> The 856 of Total 879\n",
      "QUANTAXIS>> DOWNLOAD PROGRESS 97.3% \n",
      "QUANTAXIS>> ##JOB07 Now Saving ETF_MIN ==== 519963\n",
      "QUANTAXIS>> The 857 of Total 879\n",
      "QUANTAXIS>> ##JOB07 Now Saving ETF_MIN ==== 519965\n",
      "QUANTAXIS>> DOWNLOAD PROGRESS 97.4% \n",
      "QUANTAXIS>> The 858 of Total 879\n",
      "QUANTAXIS>> DOWNLOAD PROGRESS 97.6% \n",
      "QUANTAXIS>> ##JOB07 Now Saving ETF_MIN ==== 519967\n",
      "QUANTAXIS>> The 859 of Total 879\n",
      "QUANTAXIS>> DOWNLOAD PROGRESS 97.7% \n",
      "QUANTAXIS>> ##JOB07 Now Saving ETF_MIN ==== 519969\n",
      "QUANTAXIS>> The 860 of Total 879\n",
      "QUANTAXIS>> DOWNLOAD PROGRESS 97.8% \n",
      "QUANTAXIS>> ##JOB07 Now Saving ETF_MIN ==== 519971\n",
      "QUANTAXIS>> The 861 of Total 879\n",
      "QUANTAXIS>> DOWNLOAD PROGRESS 97.9% \n",
      "QUANTAXIS>> ##JOB07 Now Saving ETF_MIN ==== 519972\n",
      "QUANTAXIS>> The 862 of Total 879\n",
      "QUANTAXIS>> DOWNLOAD PROGRESS 98.0% \n",
      "QUANTAXIS>> ##JOB07 Now Saving ETF_MIN ==== 519973\n",
      "QUANTAXIS>> The 863 of Total 879\n",
      "QUANTAXIS>> DOWNLOAD PROGRESS 98.1% \n",
      "QUANTAXIS>> ##JOB07 Now Saving ETF_MIN ==== 519975\n",
      "QUANTAXIS>> The 864 of Total 879\n",
      "QUANTAXIS>> DOWNLOAD PROGRESS 98.2% \n",
      "QUANTAXIS>> ##JOB07 Now Saving ETF_MIN ==== 519976\n",
      "QUANTAXIS>> The 865 of Total 879\n",
      "QUANTAXIS>> DOWNLOAD PROGRESS 98.4% \n",
      "QUANTAXIS>> ##JOB07 Now Saving ETF_MIN ==== 519977\n",
      "QUANTAXIS>> The 866 of Total 879\n",
      "QUANTAXIS>> DOWNLOAD PROGRESS 98.5% \n",
      "QUANTAXIS>> ##JOB07 Now Saving ETF_MIN ==== 519979\n",
      "QUANTAXIS>> The 867 of Total 879\n",
      "QUANTAXIS>> DOWNLOAD PROGRESS 98.6% \n",
      "QUANTAXIS>> ##JOB07 Now Saving ETF_MIN ==== 519983\n",
      "QUANTAXIS>> The 868 of Total 879\n",
      "QUANTAXIS>> DOWNLOAD PROGRESS 98.7% \n",
      "QUANTAXIS>> ##JOB07 Now Saving ETF_MIN ==== 519985\n",
      "QUANTAXIS>> The 869 of Total 879\n",
      "QUANTAXIS>> DOWNLOAD PROGRESS 98.8% \n",
      "QUANTAXIS>> ##JOB07 Now Saving ETF_MIN ==== 519987\n",
      "QUANTAXIS>> The 870 of Total 879\n",
      "QUANTAXIS>> DOWNLOAD PROGRESS 98.9% \n",
      "QUANTAXIS>> ##JOB07 Now Saving ETF_MIN ==== 519989\n",
      "QUANTAXIS>> The 871 of Total 879\n",
      "QUANTAXIS>> DOWNLOAD PROGRESS 99.0% \n",
      "QUANTAXIS>> ##JOB07 Now Saving ETF_MIN ==== 519991\n",
      "QUANTAXIS>> The 872 of Total 879\n",
      "QUANTAXIS>> DOWNLOAD PROGRESS 99.2% \n",
      "QUANTAXIS>> ##JOB07 Now Saving ETF_MIN ==== 519993\n",
      "QUANTAXIS>> The 873 of Total 879\n",
      "QUANTAXIS>> DOWNLOAD PROGRESS 99.3% \n",
      "QUANTAXIS>> ##JOB07 Now Saving ETF_MIN ==== 519995\n",
      "QUANTAXIS>> The 874 of Total 879\n",
      "QUANTAXIS>> DOWNLOAD PROGRESS 99.4% \n",
      "QUANTAXIS>> ##JOB07 Now Saving ETF_MIN ==== 519997\n",
      "QUANTAXIS>> The 875 of Total 879\n",
      "QUANTAXIS>> DOWNLOAD PROGRESS 99.5% \n",
      "QUANTAXIS>> The 876 of Total 879\n",
      "QUANTAXIS>> DOWNLOAD PROGRESS 99.6% \n",
      "QUANTAXIS>> The 877 of Total 879\n",
      "QUANTAXIS>> DOWNLOAD PROGRESS 99.7% \n",
      "QUANTAXIS>> The 878 of Total 879\n",
      "QUANTAXIS>> DOWNLOAD PROGRESS 99.8% \n",
      "QUANTAXIS>> The 879 of Total 879\n",
      "QUANTAXIS>> DOWNLOAD PROGRESS 100.% \n",
      "QUANTAXIS>> SUCCESS\n"
     ]
    }
   ],
   "source": [
    "QA_SU_save_etf_min(\"tdx\")"
   ]
  },
  {
   "cell_type": "code",
   "execution_count": 10,
   "id": "f5c337a8",
   "metadata": {},
   "outputs": [
    {
     "name": "stderr",
     "output_type": "stream",
     "text": [
      "QUANTAXIS>> ##JOB07 Now Saving ETF_MIN ==== 159691\n",
      "QUANTAXIS>> ##JOB07 Now Saving ETF_MIN ==== 159701\n",
      "QUANTAXIS>> ##JOB07 Now Saving ETF_MIN ==== 159703\n",
      "QUANTAXIS>> ##JOB07 Now Saving ETF_MIN ==== 159706\n",
      "QUANTAXIS>> ##JOB07 Now Saving ETF_MIN ==== 159707\n",
      "QUANTAXIS>> ##JOB07 Now Saving ETF_MIN ==== 159708\n",
      "QUANTAXIS>> ##JOB07 Now Saving ETF_MIN ==== 159709\n",
      "QUANTAXIS>> ##JOB07 Now Saving ETF_MIN ==== 159710\n",
      "QUANTAXIS>> ##JOB07 Now Saving ETF_MIN ==== 159711\n",
      "QUANTAXIS>> ##JOB07 Now Saving ETF_MIN ==== 159712\n",
      "QUANTAXIS>> ##JOB07 Now Saving ETF_MIN ==== 159713\n",
      "QUANTAXIS>> ##JOB07 Now Saving ETF_MIN ==== 159715\n",
      "QUANTAXIS>> ##JOB07 Now Saving ETF_MIN ==== 159716\n",
      "QUANTAXIS>> ##JOB07 Now Saving ETF_MIN ==== 159717\n",
      "QUANTAXIS>> ##JOB07 Now Saving ETF_MIN ==== 159718\n",
      "QUANTAXIS>> ##JOB07 Now Saving ETF_MIN ==== 159719\n",
      "QUANTAXIS>> ##JOB07 Now Saving ETF_MIN ==== 159720\n",
      "QUANTAXIS>> ##JOB07 Now Saving ETF_MIN ==== 159721\n",
      "QUANTAXIS>> ##JOB07 Now Saving ETF_MIN ==== 159723\n",
      "QUANTAXIS>> ##JOB07 Now Saving ETF_MIN ==== 159725\n",
      "QUANTAXIS>> ##JOB07 Now Saving ETF_MIN ==== 159726\n",
      "QUANTAXIS>> ##JOB07 Now Saving ETF_MIN ==== 159728\n",
      "QUANTAXIS>> ##JOB07 Now Saving ETF_MIN ==== 159729\n",
      "QUANTAXIS>> ##JOB07 Now Saving ETF_MIN ==== 159730\n",
      "QUANTAXIS>> ##JOB07 Now Saving ETF_MIN ==== 159731\n",
      "QUANTAXIS>> ##JOB07 Now Saving ETF_MIN ==== 159732\n",
      "QUANTAXIS>> ##JOB07 Now Saving ETF_MIN ==== 159733\n",
      "QUANTAXIS>> ##JOB07 Now Saving ETF_MIN ==== 159735\n",
      "QUANTAXIS>> ##JOB07 Now Saving ETF_MIN ==== 159736\n",
      "QUANTAXIS>> ##JOB07 Now Saving ETF_MIN ==== 159738\n",
      "QUANTAXIS>> ##JOB07 Now Saving ETF_MIN ==== 159739\n",
      "QUANTAXIS>> ##JOB07 Now Saving ETF_MIN ==== 159740\n",
      "QUANTAXIS>> ##JOB07 Now Saving ETF_MIN ==== 159741\n",
      "QUANTAXIS>> ##JOB07 Now Saving ETF_MIN ==== 159742\n",
      "QUANTAXIS>> ##JOB07 Now Saving ETF_MIN ==== 159743\n",
      "QUANTAXIS>> ##JOB07 Now Saving ETF_MIN ==== 159745\n",
      "QUANTAXIS>> ##JOB07 Now Saving ETF_MIN ==== 159747\n",
      "QUANTAXIS>> ##JOB07 Now Saving ETF_MIN ==== 159748\n",
      "QUANTAXIS>> ##JOB07 Now Saving ETF_MIN ==== 159750\n",
      "QUANTAXIS>> ##JOB07 Now Saving ETF_MIN ==== 159751\n",
      "QUANTAXIS>> ##JOB07 Now Saving ETF_MIN ==== 159752\n",
      "QUANTAXIS>> ##JOB07 Now Saving ETF_MIN ==== 159755\n",
      "QUANTAXIS>> ##JOB07 Now Saving ETF_MIN ==== 159757\n",
      "QUANTAXIS>> ##JOB07 Now Saving ETF_MIN ==== 159758\n",
      "QUANTAXIS>> ##JOB07 Now Saving ETF_MIN ==== 159760\n",
      "QUANTAXIS>> ##JOB07 Now Saving ETF_MIN ==== 159761\n",
      "QUANTAXIS>> ##JOB07 Now Saving ETF_MIN ==== 159763\n",
      "QUANTAXIS>> ##JOB07 Now Saving ETF_MIN ==== 159766\n",
      "QUANTAXIS>> ##JOB07 Now Saving ETF_MIN ==== 159767\n",
      "QUANTAXIS>> ##JOB07 Now Saving ETF_MIN ==== 159768\n",
      "QUANTAXIS>> ##JOB07 Now Saving ETF_MIN ==== 159769\n",
      "QUANTAXIS>> ##JOB07 Now Saving ETF_MIN ==== 159770\n",
      "QUANTAXIS>> ##JOB07 Now Saving ETF_MIN ==== 159773\n",
      "QUANTAXIS>> ##JOB07 Now Saving ETF_MIN ==== 159775\n",
      "QUANTAXIS>> ##JOB07 Now Saving ETF_MIN ==== 159776\n",
      "QUANTAXIS>> ##JOB07 Now Saving ETF_MIN ==== 159777\n",
      "QUANTAXIS>> ##JOB07 Now Saving ETF_MIN ==== 159778\n",
      "QUANTAXIS>> ##JOB07 Now Saving ETF_MIN ==== 159779\n",
      "QUANTAXIS>> ##JOB07 Now Saving ETF_MIN ==== 159780\n",
      "QUANTAXIS>> ##JOB07 Now Saving ETF_MIN ==== 159781\n",
      "QUANTAXIS>> ##JOB07 Now Saving ETF_MIN ==== 159782\n",
      "QUANTAXIS>> ##JOB07 Now Saving ETF_MIN ==== 159783\n",
      "QUANTAXIS>> ##JOB07 Now Saving ETF_MIN ==== 159786\n",
      "QUANTAXIS>> ##JOB07 Now Saving ETF_MIN ==== 159787\n",
      "QUANTAXIS>> ##JOB07 Now Saving ETF_MIN ==== 159788\n",
      "QUANTAXIS>> ##JOB07 Now Saving ETF_MIN ==== 159789\n",
      "QUANTAXIS>> ##JOB07 Now Saving ETF_MIN ==== 159790\n",
      "QUANTAXIS>> ##JOB07 Now Saving ETF_MIN ==== 159791\n",
      "QUANTAXIS>> ##JOB07 Now Saving ETF_MIN ==== 159792\n",
      "QUANTAXIS>> ##JOB07 Now Saving ETF_MIN ==== 159793\n",
      "QUANTAXIS>> ##JOB07 Now Saving ETF_MIN ==== 159795\n",
      "QUANTAXIS>> ##JOB07 Now Saving ETF_MIN ==== 159796\n",
      "QUANTAXIS>> ##JOB07 Now Saving ETF_MIN ==== 159797\n",
      "QUANTAXIS>> ##JOB07 Now Saving ETF_MIN ==== 159798\n",
      "QUANTAXIS>> ##JOB07 Now Saving ETF_MIN ==== 159801\n",
      "QUANTAXIS>> ##JOB07 Now Saving ETF_MIN ==== 159804\n",
      "QUANTAXIS>> ##JOB07 Now Saving ETF_MIN ==== 159805\n",
      "QUANTAXIS>> ##JOB07 Now Saving ETF_MIN ==== 159806\n",
      "QUANTAXIS>> ##JOB07 Now Saving ETF_MIN ==== 159807\n",
      "QUANTAXIS>> ##JOB07 Now Saving ETF_MIN ==== 159808\n",
      "QUANTAXIS>> ##JOB07 Now Saving ETF_MIN ==== 159810\n",
      "QUANTAXIS>> ##JOB07 Now Saving ETF_MIN ==== 159811\n",
      "QUANTAXIS>> ##JOB07 Now Saving ETF_MIN ==== 159812\n",
      "QUANTAXIS>> ##JOB07 Now Saving ETF_MIN ==== 159813\n",
      "QUANTAXIS>> ##JOB07 Now Saving ETF_MIN ==== 159814\n",
      "QUANTAXIS>> ##JOB07 Now Saving ETF_MIN ==== 159816\n",
      "QUANTAXIS>> ##JOB07 Now Saving ETF_MIN ==== 159819\n",
      "QUANTAXIS>> ##JOB07 Now Saving ETF_MIN ==== 159820\n",
      "QUANTAXIS>> ##JOB07 Now Saving ETF_MIN ==== 159821\n",
      "QUANTAXIS>> ##JOB07 Now Saving ETF_MIN ==== 159822\n",
      "QUANTAXIS>> ##JOB07 Now Saving ETF_MIN ==== 159823\n",
      "QUANTAXIS>> ##JOB07 Now Saving ETF_MIN ==== 159824\n",
      "QUANTAXIS>> ##JOB07 Now Saving ETF_MIN ==== 159825\n",
      "QUANTAXIS>> ##JOB07 Now Saving ETF_MIN ==== 159827\n",
      "QUANTAXIS>> ##JOB07 Now Saving ETF_MIN ==== 159828\n",
      "QUANTAXIS>> ##JOB07 Now Saving ETF_MIN ==== 159830\n",
      "QUANTAXIS>> ##JOB07 Now Saving ETF_MIN ==== 159831\n",
      "QUANTAXIS>> ##JOB07 Now Saving ETF_MIN ==== 159833\n",
      "QUANTAXIS>> ##JOB07 Now Saving ETF_MIN ==== 159834\n",
      "QUANTAXIS>> ##JOB07 Now Saving ETF_MIN ==== 159835\n",
      "QUANTAXIS>> ##JOB07 Now Saving ETF_MIN ==== 159836\n",
      "QUANTAXIS>> ##JOB07 Now Saving ETF_MIN ==== 159837\n",
      "QUANTAXIS>> ##JOB07 Now Saving ETF_MIN ==== 159838\n",
      "QUANTAXIS>> ##JOB07 Now Saving ETF_MIN ==== 159839\n",
      "QUANTAXIS>> ##JOB07 Now Saving ETF_MIN ==== 159840\n",
      "QUANTAXIS>> ##JOB07 Now Saving ETF_MIN ==== 159841\n",
      "QUANTAXIS>> ##JOB07 Now Saving ETF_MIN ==== 159842\n",
      "QUANTAXIS>> ##JOB07 Now Saving ETF_MIN ==== 159843\n",
      "QUANTAXIS>> ##JOB07 Now Saving ETF_MIN ==== 159845\n",
      "QUANTAXIS>> ##JOB07 Now Saving ETF_MIN ==== 159847\n",
      "QUANTAXIS>> ##JOB07 Now Saving ETF_MIN ==== 159848\n",
      "QUANTAXIS>> ##JOB07 Now Saving ETF_MIN ==== 159849\n",
      "QUANTAXIS>> ##JOB07 Now Saving ETF_MIN ==== 159850\n",
      "QUANTAXIS>> ##JOB07 Now Saving ETF_MIN ==== 159851\n",
      "QUANTAXIS>> ##JOB07 Now Saving ETF_MIN ==== 159852\n",
      "QUANTAXIS>> ##JOB07 Now Saving ETF_MIN ==== 159853\n",
      "QUANTAXIS>> ##JOB07 Now Saving ETF_MIN ==== 159855\n",
      "QUANTAXIS>> ##JOB07 Now Saving ETF_MIN ==== 159856\n",
      "QUANTAXIS>> ##JOB07 Now Saving ETF_MIN ==== 159857\n"
     ]
    }
   ],
   "source": [
    "from QUANTAXIS.QAFetch.QATdx import QA_fetch_get_index_min"
   ]
  },
  {
   "cell_type": "code",
   "execution_count": 5,
   "id": "27cf24b4",
   "metadata": {},
   "outputs": [],
   "source": [
    "from QUANTAXIS.QAFetch.QATdx import QA_fetch_get_index_min, QA_util_get_real_date"
   ]
  },
  {
   "cell_type": "code",
   "execution_count": 9,
   "id": "918df8df",
   "metadata": {},
   "outputs": [],
   "source": [
    "import datetime\n",
    "\n",
    "def now_time():\n",
    "    return str(QA_util_get_real_date(str(datetime.date.today() - datetime.timedelta(days=1)), trade_date_sse, -1)) + \\\n",
    "           ' 17:00:00' if datetime.datetime.now().hour < 15 else str(QA_util_get_real_date(\n",
    "        str(datetime.date.today()), trade_date_sse, -1)) + ' 15:00:00'\n",
    "from QUANTAXIS.QAUtil import (\n",
    "    DATABASE,\n",
    "    QA_util_get_next_day,\n",
    "    QA_util_get_real_date,\n",
    "    QA_util_log_info,\n",
    "    QA_util_to_json_from_pandas,\n",
    "    trade_date_sse\n",
    ")\n"
   ]
  },
  {
   "cell_type": "code",
   "execution_count": 40,
   "id": "690bbde6",
   "metadata": {},
   "outputs": [
    {
     "data": {
      "text/plain": [
       "'2021-12-31'"
      ]
     },
     "execution_count": 40,
     "metadata": {},
     "output_type": "execute_result"
    }
   ],
   "source": [
    "QA_util_get_real_date(str(datetime.date.today() - datetime.timedelta(days=1)), trade_date_sse, -1)"
   ]
  },
  {
   "cell_type": "code",
   "execution_count": 12,
   "id": "e34fcac7",
   "metadata": {},
   "outputs": [
    {
     "data": {
      "text/plain": [
       "'2021-12-31 15:00:00'"
      ]
     },
     "execution_count": 12,
     "metadata": {},
     "output_type": "execute_result"
    }
   ],
   "source": [
    "end_time = str(now_time())[0:19]\n",
    "end_time"
   ]
  },
  {
   "cell_type": "code",
   "execution_count": 14,
   "id": "c8b5aaac",
   "metadata": {},
   "outputs": [],
   "source": [
    "etf_min = QA_fetch_get_index_min(\"159851\", \"2015-01-01 09:35:00\", \"2023-04-28 15:00:00\", '5min')"
   ]
  },
  {
   "cell_type": "code",
   "execution_count": 42,
   "id": "5cf0db95",
   "metadata": {},
   "outputs": [
    {
     "data": {
      "text/html": [
       "<div>\n",
       "<style scoped>\n",
       "    .dataframe tbody tr th:only-of-type {\n",
       "        vertical-align: middle;\n",
       "    }\n",
       "\n",
       "    .dataframe tbody tr th {\n",
       "        vertical-align: top;\n",
       "    }\n",
       "\n",
       "    .dataframe thead th {\n",
       "        text-align: right;\n",
       "    }\n",
       "</style>\n",
       "<table border=\"1\" class=\"dataframe\">\n",
       "  <thead>\n",
       "    <tr style=\"text-align: right;\">\n",
       "      <th></th>\n",
       "      <th>open</th>\n",
       "      <th>close</th>\n",
       "      <th>high</th>\n",
       "      <th>low</th>\n",
       "      <th>vol</th>\n",
       "      <th>amount</th>\n",
       "      <th>datetime</th>\n",
       "      <th>code</th>\n",
       "      <th>date</th>\n",
       "      <th>date_stamp</th>\n",
       "      <th>time_stamp</th>\n",
       "      <th>type</th>\n",
       "    </tr>\n",
       "    <tr>\n",
       "      <th>datetime</th>\n",
       "      <th></th>\n",
       "      <th></th>\n",
       "      <th></th>\n",
       "      <th></th>\n",
       "      <th></th>\n",
       "      <th></th>\n",
       "      <th></th>\n",
       "      <th></th>\n",
       "      <th></th>\n",
       "      <th></th>\n",
       "      <th></th>\n",
       "      <th></th>\n",
       "    </tr>\n",
       "  </thead>\n",
       "  <tbody>\n",
       "    <tr>\n",
       "      <th>2021-07-30 09:35:00</th>\n",
       "      <td>1.133</td>\n",
       "      <td>1.128</td>\n",
       "      <td>1.140</td>\n",
       "      <td>1.126</td>\n",
       "      <td>141600.0</td>\n",
       "      <td>160367.406250</td>\n",
       "      <td>2021-07-30 09:35:00</td>\n",
       "      <td>159851</td>\n",
       "      <td>2021-07-30</td>\n",
       "      <td>1.627574e+09</td>\n",
       "      <td>1.627609e+09</td>\n",
       "      <td>5min</td>\n",
       "    </tr>\n",
       "    <tr>\n",
       "      <th>2021-07-30 09:40:00</th>\n",
       "      <td>1.128</td>\n",
       "      <td>1.121</td>\n",
       "      <td>1.128</td>\n",
       "      <td>1.121</td>\n",
       "      <td>258600.0</td>\n",
       "      <td>290152.281250</td>\n",
       "      <td>2021-07-30 09:40:00</td>\n",
       "      <td>159851</td>\n",
       "      <td>2021-07-30</td>\n",
       "      <td>1.627574e+09</td>\n",
       "      <td>1.627609e+09</td>\n",
       "      <td>5min</td>\n",
       "    </tr>\n",
       "    <tr>\n",
       "      <th>2021-07-30 09:45:00</th>\n",
       "      <td>1.117</td>\n",
       "      <td>1.119</td>\n",
       "      <td>1.120</td>\n",
       "      <td>1.117</td>\n",
       "      <td>318600.0</td>\n",
       "      <td>356222.437500</td>\n",
       "      <td>2021-07-30 09:45:00</td>\n",
       "      <td>159851</td>\n",
       "      <td>2021-07-30</td>\n",
       "      <td>1.627574e+09</td>\n",
       "      <td>1.627610e+09</td>\n",
       "      <td>5min</td>\n",
       "    </tr>\n",
       "    <tr>\n",
       "      <th>2021-07-30 09:50:00</th>\n",
       "      <td>1.119</td>\n",
       "      <td>1.118</td>\n",
       "      <td>1.122</td>\n",
       "      <td>1.118</td>\n",
       "      <td>61400.0</td>\n",
       "      <td>68736.375000</td>\n",
       "      <td>2021-07-30 09:50:00</td>\n",
       "      <td>159851</td>\n",
       "      <td>2021-07-30</td>\n",
       "      <td>1.627574e+09</td>\n",
       "      <td>1.627610e+09</td>\n",
       "      <td>5min</td>\n",
       "    </tr>\n",
       "    <tr>\n",
       "      <th>2021-07-30 09:55:00</th>\n",
       "      <td>1.119</td>\n",
       "      <td>1.120</td>\n",
       "      <td>1.120</td>\n",
       "      <td>1.117</td>\n",
       "      <td>32800.0</td>\n",
       "      <td>36671.687500</td>\n",
       "      <td>2021-07-30 09:55:00</td>\n",
       "      <td>159851</td>\n",
       "      <td>2021-07-30</td>\n",
       "      <td>1.627574e+09</td>\n",
       "      <td>1.627610e+09</td>\n",
       "      <td>5min</td>\n",
       "    </tr>\n",
       "    <tr>\n",
       "      <th>...</th>\n",
       "      <td>...</td>\n",
       "      <td>...</td>\n",
       "      <td>...</td>\n",
       "      <td>...</td>\n",
       "      <td>...</td>\n",
       "      <td>...</td>\n",
       "      <td>...</td>\n",
       "      <td>...</td>\n",
       "      <td>...</td>\n",
       "      <td>...</td>\n",
       "      <td>...</td>\n",
       "      <td>...</td>\n",
       "    </tr>\n",
       "    <tr>\n",
       "      <th>2023-04-28 14:40:00</th>\n",
       "      <td>1.196</td>\n",
       "      <td>1.198</td>\n",
       "      <td>1.198</td>\n",
       "      <td>1.196</td>\n",
       "      <td>343300.0</td>\n",
       "      <td>410920.125000</td>\n",
       "      <td>2023-04-28 14:40:00</td>\n",
       "      <td>159851</td>\n",
       "      <td>2023-04-28</td>\n",
       "      <td>1.682611e+09</td>\n",
       "      <td>1.682664e+09</td>\n",
       "      <td>5min</td>\n",
       "    </tr>\n",
       "    <tr>\n",
       "      <th>2023-04-28 14:45:00</th>\n",
       "      <td>1.198</td>\n",
       "      <td>1.198</td>\n",
       "      <td>1.199</td>\n",
       "      <td>1.197</td>\n",
       "      <td>162100.0</td>\n",
       "      <td>194209.093750</td>\n",
       "      <td>2023-04-28 14:45:00</td>\n",
       "      <td>159851</td>\n",
       "      <td>2023-04-28</td>\n",
       "      <td>1.682611e+09</td>\n",
       "      <td>1.682664e+09</td>\n",
       "      <td>5min</td>\n",
       "    </tr>\n",
       "    <tr>\n",
       "      <th>2023-04-28 14:50:00</th>\n",
       "      <td>1.197</td>\n",
       "      <td>1.198</td>\n",
       "      <td>1.199</td>\n",
       "      <td>1.197</td>\n",
       "      <td>626600.0</td>\n",
       "      <td>750643.750000</td>\n",
       "      <td>2023-04-28 14:50:00</td>\n",
       "      <td>159851</td>\n",
       "      <td>2023-04-28</td>\n",
       "      <td>1.682611e+09</td>\n",
       "      <td>1.682665e+09</td>\n",
       "      <td>5min</td>\n",
       "    </tr>\n",
       "    <tr>\n",
       "      <th>2023-04-28 14:55:00</th>\n",
       "      <td>1.198</td>\n",
       "      <td>1.198</td>\n",
       "      <td>1.199</td>\n",
       "      <td>1.196</td>\n",
       "      <td>743800.0</td>\n",
       "      <td>890703.437500</td>\n",
       "      <td>2023-04-28 14:55:00</td>\n",
       "      <td>159851</td>\n",
       "      <td>2023-04-28</td>\n",
       "      <td>1.682611e+09</td>\n",
       "      <td>1.682665e+09</td>\n",
       "      <td>5min</td>\n",
       "    </tr>\n",
       "    <tr>\n",
       "      <th>2023-04-28 15:00:00</th>\n",
       "      <td>1.196</td>\n",
       "      <td>1.197</td>\n",
       "      <td>1.198</td>\n",
       "      <td>1.196</td>\n",
       "      <td>96400.0</td>\n",
       "      <td>115430.398438</td>\n",
       "      <td>2023-04-28 15:00:00</td>\n",
       "      <td>159851</td>\n",
       "      <td>2023-04-28</td>\n",
       "      <td>1.682611e+09</td>\n",
       "      <td>1.682665e+09</td>\n",
       "      <td>5min</td>\n",
       "    </tr>\n",
       "  </tbody>\n",
       "</table>\n",
       "<p>20352 rows × 12 columns</p>\n",
       "</div>"
      ],
      "text/plain": [
       "                      open  close   high    low       vol         amount   \n",
       "datetime                                                                   \n",
       "2021-07-30 09:35:00  1.133  1.128  1.140  1.126  141600.0  160367.406250  \\\n",
       "2021-07-30 09:40:00  1.128  1.121  1.128  1.121  258600.0  290152.281250   \n",
       "2021-07-30 09:45:00  1.117  1.119  1.120  1.117  318600.0  356222.437500   \n",
       "2021-07-30 09:50:00  1.119  1.118  1.122  1.118   61400.0   68736.375000   \n",
       "2021-07-30 09:55:00  1.119  1.120  1.120  1.117   32800.0   36671.687500   \n",
       "...                    ...    ...    ...    ...       ...            ...   \n",
       "2023-04-28 14:40:00  1.196  1.198  1.198  1.196  343300.0  410920.125000   \n",
       "2023-04-28 14:45:00  1.198  1.198  1.199  1.197  162100.0  194209.093750   \n",
       "2023-04-28 14:50:00  1.197  1.198  1.199  1.197  626600.0  750643.750000   \n",
       "2023-04-28 14:55:00  1.198  1.198  1.199  1.196  743800.0  890703.437500   \n",
       "2023-04-28 15:00:00  1.196  1.197  1.198  1.196   96400.0  115430.398438   \n",
       "\n",
       "                                datetime    code        date    date_stamp   \n",
       "datetime                                                                     \n",
       "2021-07-30 09:35:00  2021-07-30 09:35:00  159851  2021-07-30  1.627574e+09  \\\n",
       "2021-07-30 09:40:00  2021-07-30 09:40:00  159851  2021-07-30  1.627574e+09   \n",
       "2021-07-30 09:45:00  2021-07-30 09:45:00  159851  2021-07-30  1.627574e+09   \n",
       "2021-07-30 09:50:00  2021-07-30 09:50:00  159851  2021-07-30  1.627574e+09   \n",
       "2021-07-30 09:55:00  2021-07-30 09:55:00  159851  2021-07-30  1.627574e+09   \n",
       "...                                  ...     ...         ...           ...   \n",
       "2023-04-28 14:40:00  2023-04-28 14:40:00  159851  2023-04-28  1.682611e+09   \n",
       "2023-04-28 14:45:00  2023-04-28 14:45:00  159851  2023-04-28  1.682611e+09   \n",
       "2023-04-28 14:50:00  2023-04-28 14:50:00  159851  2023-04-28  1.682611e+09   \n",
       "2023-04-28 14:55:00  2023-04-28 14:55:00  159851  2023-04-28  1.682611e+09   \n",
       "2023-04-28 15:00:00  2023-04-28 15:00:00  159851  2023-04-28  1.682611e+09   \n",
       "\n",
       "                       time_stamp  type  \n",
       "datetime                                 \n",
       "2021-07-30 09:35:00  1.627609e+09  5min  \n",
       "2021-07-30 09:40:00  1.627609e+09  5min  \n",
       "2021-07-30 09:45:00  1.627610e+09  5min  \n",
       "2021-07-30 09:50:00  1.627610e+09  5min  \n",
       "2021-07-30 09:55:00  1.627610e+09  5min  \n",
       "...                           ...   ...  \n",
       "2023-04-28 14:40:00  1.682664e+09  5min  \n",
       "2023-04-28 14:45:00  1.682664e+09  5min  \n",
       "2023-04-28 14:50:00  1.682665e+09  5min  \n",
       "2023-04-28 14:55:00  1.682665e+09  5min  \n",
       "2023-04-28 15:00:00  1.682665e+09  5min  \n",
       "\n",
       "[20352 rows x 12 columns]"
      ]
     },
     "execution_count": 42,
     "metadata": {},
     "output_type": "execute_result"
    }
   ],
   "source": [
    "etf_min[\"2021-07-30\":]"
   ]
  },
  {
   "cell_type": "code",
   "execution_count": 15,
   "id": "faaf0aa2",
   "metadata": {},
   "outputs": [],
   "source": [
    "import pandas as pd\n"
   ]
  },
  {
   "cell_type": "code",
   "execution_count": 16,
   "id": "201a509c",
   "metadata": {},
   "outputs": [],
   "source": [
    "a =pd.read_table(\"/liubinxu/liubinxu/finance/learning/sh_index_data_tdq/sz159605_2023-03-17.tsv\",index_col=0)"
   ]
  },
  {
   "cell_type": "code",
   "execution_count": 17,
   "id": "4d4f1a11",
   "metadata": {},
   "outputs": [
    {
     "data": {
      "text/html": [
       "<div>\n",
       "<style scoped>\n",
       "    .dataframe tbody tr th:only-of-type {\n",
       "        vertical-align: middle;\n",
       "    }\n",
       "\n",
       "    .dataframe tbody tr th {\n",
       "        vertical-align: top;\n",
       "    }\n",
       "\n",
       "    .dataframe thead th {\n",
       "        text-align: right;\n",
       "    }\n",
       "</style>\n",
       "<table border=\"1\" class=\"dataframe\">\n",
       "  <thead>\n",
       "    <tr style=\"text-align: right;\">\n",
       "      <th></th>\n",
       "      <th>open</th>\n",
       "      <th>close</th>\n",
       "      <th>high</th>\n",
       "      <th>low</th>\n",
       "      <th>vol</th>\n",
       "      <th>amount</th>\n",
       "      <th>year</th>\n",
       "      <th>month</th>\n",
       "      <th>day</th>\n",
       "      <th>hour</th>\n",
       "      <th>minute</th>\n",
       "      <th>datetime</th>\n",
       "    </tr>\n",
       "  </thead>\n",
       "  <tbody>\n",
       "    <tr>\n",
       "      <th>0</th>\n",
       "      <td>0.971</td>\n",
       "      <td>0.962</td>\n",
       "      <td>0.972</td>\n",
       "      <td>0.961</td>\n",
       "      <td>73876704.0</td>\n",
       "      <td>71450984.0</td>\n",
       "      <td>2021</td>\n",
       "      <td>12</td>\n",
       "      <td>2</td>\n",
       "      <td>9</td>\n",
       "      <td>35</td>\n",
       "      <td>2021-12-02 09:35</td>\n",
       "    </tr>\n",
       "    <tr>\n",
       "      <th>1</th>\n",
       "      <td>0.963</td>\n",
       "      <td>0.964</td>\n",
       "      <td>0.964</td>\n",
       "      <td>0.960</td>\n",
       "      <td>33720600.0</td>\n",
       "      <td>32440008.0</td>\n",
       "      <td>2021</td>\n",
       "      <td>12</td>\n",
       "      <td>2</td>\n",
       "      <td>9</td>\n",
       "      <td>40</td>\n",
       "      <td>2021-12-02 09:40</td>\n",
       "    </tr>\n",
       "    <tr>\n",
       "      <th>2</th>\n",
       "      <td>0.964</td>\n",
       "      <td>0.967</td>\n",
       "      <td>0.967</td>\n",
       "      <td>0.963</td>\n",
       "      <td>26020000.0</td>\n",
       "      <td>25122128.0</td>\n",
       "      <td>2021</td>\n",
       "      <td>12</td>\n",
       "      <td>2</td>\n",
       "      <td>9</td>\n",
       "      <td>45</td>\n",
       "      <td>2021-12-02 09:45</td>\n",
       "    </tr>\n",
       "    <tr>\n",
       "      <th>3</th>\n",
       "      <td>0.966</td>\n",
       "      <td>0.969</td>\n",
       "      <td>0.970</td>\n",
       "      <td>0.966</td>\n",
       "      <td>24231500.0</td>\n",
       "      <td>23451248.0</td>\n",
       "      <td>2021</td>\n",
       "      <td>12</td>\n",
       "      <td>2</td>\n",
       "      <td>9</td>\n",
       "      <td>50</td>\n",
       "      <td>2021-12-02 09:50</td>\n",
       "    </tr>\n",
       "    <tr>\n",
       "      <th>4</th>\n",
       "      <td>0.969</td>\n",
       "      <td>0.971</td>\n",
       "      <td>0.971</td>\n",
       "      <td>0.968</td>\n",
       "      <td>13183000.0</td>\n",
       "      <td>12789008.0</td>\n",
       "      <td>2021</td>\n",
       "      <td>12</td>\n",
       "      <td>2</td>\n",
       "      <td>9</td>\n",
       "      <td>55</td>\n",
       "      <td>2021-12-02 09:55</td>\n",
       "    </tr>\n",
       "    <tr>\n",
       "      <th>...</th>\n",
       "      <td>...</td>\n",
       "      <td>...</td>\n",
       "      <td>...</td>\n",
       "      <td>...</td>\n",
       "      <td>...</td>\n",
       "      <td>...</td>\n",
       "      <td>...</td>\n",
       "      <td>...</td>\n",
       "      <td>...</td>\n",
       "      <td>...</td>\n",
       "      <td>...</td>\n",
       "      <td>...</td>\n",
       "    </tr>\n",
       "    <tr>\n",
       "      <th>15019</th>\n",
       "      <td>0.760</td>\n",
       "      <td>0.761</td>\n",
       "      <td>0.762</td>\n",
       "      <td>0.759</td>\n",
       "      <td>49867000.0</td>\n",
       "      <td>37916016.0</td>\n",
       "      <td>2023</td>\n",
       "      <td>3</td>\n",
       "      <td>17</td>\n",
       "      <td>14</td>\n",
       "      <td>40</td>\n",
       "      <td>2023-03-17 14:40</td>\n",
       "    </tr>\n",
       "    <tr>\n",
       "      <th>15020</th>\n",
       "      <td>0.761</td>\n",
       "      <td>0.760</td>\n",
       "      <td>0.762</td>\n",
       "      <td>0.760</td>\n",
       "      <td>16056600.0</td>\n",
       "      <td>12217465.0</td>\n",
       "      <td>2023</td>\n",
       "      <td>3</td>\n",
       "      <td>17</td>\n",
       "      <td>14</td>\n",
       "      <td>45</td>\n",
       "      <td>2023-03-17 14:45</td>\n",
       "    </tr>\n",
       "    <tr>\n",
       "      <th>15021</th>\n",
       "      <td>0.761</td>\n",
       "      <td>0.761</td>\n",
       "      <td>0.762</td>\n",
       "      <td>0.760</td>\n",
       "      <td>24812200.0</td>\n",
       "      <td>18883554.0</td>\n",
       "      <td>2023</td>\n",
       "      <td>3</td>\n",
       "      <td>17</td>\n",
       "      <td>14</td>\n",
       "      <td>50</td>\n",
       "      <td>2023-03-17 14:50</td>\n",
       "    </tr>\n",
       "    <tr>\n",
       "      <th>15022</th>\n",
       "      <td>0.762</td>\n",
       "      <td>0.762</td>\n",
       "      <td>0.762</td>\n",
       "      <td>0.761</td>\n",
       "      <td>22617400.0</td>\n",
       "      <td>17223788.0</td>\n",
       "      <td>2023</td>\n",
       "      <td>3</td>\n",
       "      <td>17</td>\n",
       "      <td>14</td>\n",
       "      <td>55</td>\n",
       "      <td>2023-03-17 14:55</td>\n",
       "    </tr>\n",
       "    <tr>\n",
       "      <th>15023</th>\n",
       "      <td>0.762</td>\n",
       "      <td>0.762</td>\n",
       "      <td>0.763</td>\n",
       "      <td>0.761</td>\n",
       "      <td>32930800.0</td>\n",
       "      <td>25094100.0</td>\n",
       "      <td>2023</td>\n",
       "      <td>3</td>\n",
       "      <td>17</td>\n",
       "      <td>15</td>\n",
       "      <td>0</td>\n",
       "      <td>2023-03-17 15:00</td>\n",
       "    </tr>\n",
       "  </tbody>\n",
       "</table>\n",
       "<p>15024 rows × 12 columns</p>\n",
       "</div>"
      ],
      "text/plain": [
       "        open  close   high    low         vol      amount  year  month  day   \n",
       "0      0.971  0.962  0.972  0.961  73876704.0  71450984.0  2021     12    2  \\\n",
       "1      0.963  0.964  0.964  0.960  33720600.0  32440008.0  2021     12    2   \n",
       "2      0.964  0.967  0.967  0.963  26020000.0  25122128.0  2021     12    2   \n",
       "3      0.966  0.969  0.970  0.966  24231500.0  23451248.0  2021     12    2   \n",
       "4      0.969  0.971  0.971  0.968  13183000.0  12789008.0  2021     12    2   \n",
       "...      ...    ...    ...    ...         ...         ...   ...    ...  ...   \n",
       "15019  0.760  0.761  0.762  0.759  49867000.0  37916016.0  2023      3   17   \n",
       "15020  0.761  0.760  0.762  0.760  16056600.0  12217465.0  2023      3   17   \n",
       "15021  0.761  0.761  0.762  0.760  24812200.0  18883554.0  2023      3   17   \n",
       "15022  0.762  0.762  0.762  0.761  22617400.0  17223788.0  2023      3   17   \n",
       "15023  0.762  0.762  0.763  0.761  32930800.0  25094100.0  2023      3   17   \n",
       "\n",
       "       hour  minute          datetime  \n",
       "0         9      35  2021-12-02 09:35  \n",
       "1         9      40  2021-12-02 09:40  \n",
       "2         9      45  2021-12-02 09:45  \n",
       "3         9      50  2021-12-02 09:50  \n",
       "4         9      55  2021-12-02 09:55  \n",
       "...     ...     ...               ...  \n",
       "15019    14      40  2023-03-17 14:40  \n",
       "15020    14      45  2023-03-17 14:45  \n",
       "15021    14      50  2023-03-17 14:50  \n",
       "15022    14      55  2023-03-17 14:55  \n",
       "15023    15       0  2023-03-17 15:00  \n",
       "\n",
       "[15024 rows x 12 columns]"
      ]
     },
     "execution_count": 17,
     "metadata": {},
     "output_type": "execute_result"
    }
   ],
   "source": [
    "a"
   ]
  },
  {
   "cell_type": "code",
   "execution_count": 20,
   "id": "2c74aeec",
   "metadata": {},
   "outputs": [],
   "source": [
    "from QUANTAXIS.QAUtil.QADate import  QA_util_time_stamp, QA_util_date_stamp"
   ]
  },
  {
   "cell_type": "code",
   "execution_count": 21,
   "id": "cdc90dd1",
   "metadata": {},
   "outputs": [],
   "source": [
    "data = a\n",
    "data = data \\\n",
    "            .assign(datetime=pd.to_datetime(data['datetime'], utc=False),\n",
    "                    code=str(159605)) \\\n",
    "            .drop(['year', 'month', 'day', 'hour', 'minute'], axis=1,\n",
    "                  inplace=False) \\\n",
    "            .assign(code=\"159605\",\n",
    "                    date=data['datetime'].apply(lambda x: str(x)[0:10]),\n",
    "                    date_stamp=data['datetime'].apply(\n",
    "                        lambda x: QA_util_date_stamp(x)),\n",
    "                    time_stamp=data['datetime'].apply(\n",
    "                        lambda x: QA_util_time_stamp(x)),\n",
    "                    type='5min').set_index('datetime', drop=False,\n",
    "                                          inplace=False)"
   ]
  },
  {
   "cell_type": "code",
   "execution_count": 23,
   "id": "e05eaf28",
   "metadata": {},
   "outputs": [
    {
     "data": {
      "text/html": [
       "<div>\n",
       "<style scoped>\n",
       "    .dataframe tbody tr th:only-of-type {\n",
       "        vertical-align: middle;\n",
       "    }\n",
       "\n",
       "    .dataframe tbody tr th {\n",
       "        vertical-align: top;\n",
       "    }\n",
       "\n",
       "    .dataframe thead th {\n",
       "        text-align: right;\n",
       "    }\n",
       "</style>\n",
       "<table border=\"1\" class=\"dataframe\">\n",
       "  <thead>\n",
       "    <tr style=\"text-align: right;\">\n",
       "      <th></th>\n",
       "      <th>open</th>\n",
       "      <th>close</th>\n",
       "      <th>high</th>\n",
       "      <th>low</th>\n",
       "      <th>vol</th>\n",
       "      <th>amount</th>\n",
       "      <th>datetime</th>\n",
       "      <th>code</th>\n",
       "      <th>date</th>\n",
       "      <th>date_stamp</th>\n",
       "      <th>time_stamp</th>\n",
       "      <th>type</th>\n",
       "    </tr>\n",
       "    <tr>\n",
       "      <th>datetime</th>\n",
       "      <th></th>\n",
       "      <th></th>\n",
       "      <th></th>\n",
       "      <th></th>\n",
       "      <th></th>\n",
       "      <th></th>\n",
       "      <th></th>\n",
       "      <th></th>\n",
       "      <th></th>\n",
       "      <th></th>\n",
       "      <th></th>\n",
       "      <th></th>\n",
       "    </tr>\n",
       "  </thead>\n",
       "  <tbody>\n",
       "    <tr>\n",
       "      <th>2021-12-02 09:35:00</th>\n",
       "      <td>0.971</td>\n",
       "      <td>0.962</td>\n",
       "      <td>0.972</td>\n",
       "      <td>0.961</td>\n",
       "      <td>73876704.0</td>\n",
       "      <td>71450984.0</td>\n",
       "      <td>2021-12-02 09:35:00</td>\n",
       "      <td>159605</td>\n",
       "      <td>2021-12-02</td>\n",
       "      <td>1.638374e+09</td>\n",
       "      <td>1.638409e+09</td>\n",
       "      <td>5min</td>\n",
       "    </tr>\n",
       "    <tr>\n",
       "      <th>2021-12-02 09:40:00</th>\n",
       "      <td>0.963</td>\n",
       "      <td>0.964</td>\n",
       "      <td>0.964</td>\n",
       "      <td>0.960</td>\n",
       "      <td>33720600.0</td>\n",
       "      <td>32440008.0</td>\n",
       "      <td>2021-12-02 09:40:00</td>\n",
       "      <td>159605</td>\n",
       "      <td>2021-12-02</td>\n",
       "      <td>1.638374e+09</td>\n",
       "      <td>1.638409e+09</td>\n",
       "      <td>5min</td>\n",
       "    </tr>\n",
       "    <tr>\n",
       "      <th>2021-12-02 09:45:00</th>\n",
       "      <td>0.964</td>\n",
       "      <td>0.967</td>\n",
       "      <td>0.967</td>\n",
       "      <td>0.963</td>\n",
       "      <td>26020000.0</td>\n",
       "      <td>25122128.0</td>\n",
       "      <td>2021-12-02 09:45:00</td>\n",
       "      <td>159605</td>\n",
       "      <td>2021-12-02</td>\n",
       "      <td>1.638374e+09</td>\n",
       "      <td>1.638410e+09</td>\n",
       "      <td>5min</td>\n",
       "    </tr>\n",
       "    <tr>\n",
       "      <th>2021-12-02 09:50:00</th>\n",
       "      <td>0.966</td>\n",
       "      <td>0.969</td>\n",
       "      <td>0.970</td>\n",
       "      <td>0.966</td>\n",
       "      <td>24231500.0</td>\n",
       "      <td>23451248.0</td>\n",
       "      <td>2021-12-02 09:50:00</td>\n",
       "      <td>159605</td>\n",
       "      <td>2021-12-02</td>\n",
       "      <td>1.638374e+09</td>\n",
       "      <td>1.638410e+09</td>\n",
       "      <td>5min</td>\n",
       "    </tr>\n",
       "    <tr>\n",
       "      <th>2021-12-02 09:55:00</th>\n",
       "      <td>0.969</td>\n",
       "      <td>0.971</td>\n",
       "      <td>0.971</td>\n",
       "      <td>0.968</td>\n",
       "      <td>13183000.0</td>\n",
       "      <td>12789008.0</td>\n",
       "      <td>2021-12-02 09:55:00</td>\n",
       "      <td>159605</td>\n",
       "      <td>2021-12-02</td>\n",
       "      <td>1.638374e+09</td>\n",
       "      <td>1.638410e+09</td>\n",
       "      <td>5min</td>\n",
       "    </tr>\n",
       "    <tr>\n",
       "      <th>...</th>\n",
       "      <td>...</td>\n",
       "      <td>...</td>\n",
       "      <td>...</td>\n",
       "      <td>...</td>\n",
       "      <td>...</td>\n",
       "      <td>...</td>\n",
       "      <td>...</td>\n",
       "      <td>...</td>\n",
       "      <td>...</td>\n",
       "      <td>...</td>\n",
       "      <td>...</td>\n",
       "      <td>...</td>\n",
       "    </tr>\n",
       "    <tr>\n",
       "      <th>2023-03-17 14:40:00</th>\n",
       "      <td>0.760</td>\n",
       "      <td>0.761</td>\n",
       "      <td>0.762</td>\n",
       "      <td>0.759</td>\n",
       "      <td>49867000.0</td>\n",
       "      <td>37916016.0</td>\n",
       "      <td>2023-03-17 14:40:00</td>\n",
       "      <td>159605</td>\n",
       "      <td>2023-03-17</td>\n",
       "      <td>1.678982e+09</td>\n",
       "      <td>1.679035e+09</td>\n",
       "      <td>5min</td>\n",
       "    </tr>\n",
       "    <tr>\n",
       "      <th>2023-03-17 14:45:00</th>\n",
       "      <td>0.761</td>\n",
       "      <td>0.760</td>\n",
       "      <td>0.762</td>\n",
       "      <td>0.760</td>\n",
       "      <td>16056600.0</td>\n",
       "      <td>12217465.0</td>\n",
       "      <td>2023-03-17 14:45:00</td>\n",
       "      <td>159605</td>\n",
       "      <td>2023-03-17</td>\n",
       "      <td>1.678982e+09</td>\n",
       "      <td>1.679036e+09</td>\n",
       "      <td>5min</td>\n",
       "    </tr>\n",
       "    <tr>\n",
       "      <th>2023-03-17 14:50:00</th>\n",
       "      <td>0.761</td>\n",
       "      <td>0.761</td>\n",
       "      <td>0.762</td>\n",
       "      <td>0.760</td>\n",
       "      <td>24812200.0</td>\n",
       "      <td>18883554.0</td>\n",
       "      <td>2023-03-17 14:50:00</td>\n",
       "      <td>159605</td>\n",
       "      <td>2023-03-17</td>\n",
       "      <td>1.678982e+09</td>\n",
       "      <td>1.679036e+09</td>\n",
       "      <td>5min</td>\n",
       "    </tr>\n",
       "    <tr>\n",
       "      <th>2023-03-17 14:55:00</th>\n",
       "      <td>0.762</td>\n",
       "      <td>0.762</td>\n",
       "      <td>0.762</td>\n",
       "      <td>0.761</td>\n",
       "      <td>22617400.0</td>\n",
       "      <td>17223788.0</td>\n",
       "      <td>2023-03-17 14:55:00</td>\n",
       "      <td>159605</td>\n",
       "      <td>2023-03-17</td>\n",
       "      <td>1.678982e+09</td>\n",
       "      <td>1.679036e+09</td>\n",
       "      <td>5min</td>\n",
       "    </tr>\n",
       "    <tr>\n",
       "      <th>2023-03-17 15:00:00</th>\n",
       "      <td>0.762</td>\n",
       "      <td>0.762</td>\n",
       "      <td>0.763</td>\n",
       "      <td>0.761</td>\n",
       "      <td>32930800.0</td>\n",
       "      <td>25094100.0</td>\n",
       "      <td>2023-03-17 15:00:00</td>\n",
       "      <td>159605</td>\n",
       "      <td>2023-03-17</td>\n",
       "      <td>1.678982e+09</td>\n",
       "      <td>1.679036e+09</td>\n",
       "      <td>5min</td>\n",
       "    </tr>\n",
       "  </tbody>\n",
       "</table>\n",
       "<p>15024 rows × 12 columns</p>\n",
       "</div>"
      ],
      "text/plain": [
       "                      open  close   high    low         vol      amount   \n",
       "datetime                                                                  \n",
       "2021-12-02 09:35:00  0.971  0.962  0.972  0.961  73876704.0  71450984.0  \\\n",
       "2021-12-02 09:40:00  0.963  0.964  0.964  0.960  33720600.0  32440008.0   \n",
       "2021-12-02 09:45:00  0.964  0.967  0.967  0.963  26020000.0  25122128.0   \n",
       "2021-12-02 09:50:00  0.966  0.969  0.970  0.966  24231500.0  23451248.0   \n",
       "2021-12-02 09:55:00  0.969  0.971  0.971  0.968  13183000.0  12789008.0   \n",
       "...                    ...    ...    ...    ...         ...         ...   \n",
       "2023-03-17 14:40:00  0.760  0.761  0.762  0.759  49867000.0  37916016.0   \n",
       "2023-03-17 14:45:00  0.761  0.760  0.762  0.760  16056600.0  12217465.0   \n",
       "2023-03-17 14:50:00  0.761  0.761  0.762  0.760  24812200.0  18883554.0   \n",
       "2023-03-17 14:55:00  0.762  0.762  0.762  0.761  22617400.0  17223788.0   \n",
       "2023-03-17 15:00:00  0.762  0.762  0.763  0.761  32930800.0  25094100.0   \n",
       "\n",
       "                               datetime    code        date    date_stamp   \n",
       "datetime                                                                    \n",
       "2021-12-02 09:35:00 2021-12-02 09:35:00  159605  2021-12-02  1.638374e+09  \\\n",
       "2021-12-02 09:40:00 2021-12-02 09:40:00  159605  2021-12-02  1.638374e+09   \n",
       "2021-12-02 09:45:00 2021-12-02 09:45:00  159605  2021-12-02  1.638374e+09   \n",
       "2021-12-02 09:50:00 2021-12-02 09:50:00  159605  2021-12-02  1.638374e+09   \n",
       "2021-12-02 09:55:00 2021-12-02 09:55:00  159605  2021-12-02  1.638374e+09   \n",
       "...                                 ...     ...         ...           ...   \n",
       "2023-03-17 14:40:00 2023-03-17 14:40:00  159605  2023-03-17  1.678982e+09   \n",
       "2023-03-17 14:45:00 2023-03-17 14:45:00  159605  2023-03-17  1.678982e+09   \n",
       "2023-03-17 14:50:00 2023-03-17 14:50:00  159605  2023-03-17  1.678982e+09   \n",
       "2023-03-17 14:55:00 2023-03-17 14:55:00  159605  2023-03-17  1.678982e+09   \n",
       "2023-03-17 15:00:00 2023-03-17 15:00:00  159605  2023-03-17  1.678982e+09   \n",
       "\n",
       "                       time_stamp  type  \n",
       "datetime                                 \n",
       "2021-12-02 09:35:00  1.638409e+09  5min  \n",
       "2021-12-02 09:40:00  1.638409e+09  5min  \n",
       "2021-12-02 09:45:00  1.638410e+09  5min  \n",
       "2021-12-02 09:50:00  1.638410e+09  5min  \n",
       "2021-12-02 09:55:00  1.638410e+09  5min  \n",
       "...                           ...   ...  \n",
       "2023-03-17 14:40:00  1.679035e+09  5min  \n",
       "2023-03-17 14:45:00  1.679036e+09  5min  \n",
       "2023-03-17 14:50:00  1.679036e+09  5min  \n",
       "2023-03-17 14:55:00  1.679036e+09  5min  \n",
       "2023-03-17 15:00:00  1.679036e+09  5min  \n",
       "\n",
       "[15024 rows x 12 columns]"
      ]
     },
     "execution_count": 23,
     "metadata": {},
     "output_type": "execute_result"
    }
   ],
   "source": [
    "data[\"2021-12-02\":]"
   ]
  },
  {
   "cell_type": "code",
   "execution_count": 34,
   "id": "3556340f",
   "metadata": {},
   "outputs": [
    {
     "data": {
      "text/plain": [
       "'2021-12-31 15:00:00'"
      ]
     },
     "execution_count": 34,
     "metadata": {},
     "output_type": "execute_result"
    }
   ],
   "source": [
    "now_time()"
   ]
  },
  {
   "cell_type": "code",
   "execution_count": 6,
   "id": "c180171e",
   "metadata": {},
   "outputs": [],
   "source": [
    "from QUANTAXIS.QAUtil.QADate_trade import QA_util_get_trade_gap\n"
   ]
  },
  {
   "cell_type": "code",
   "execution_count": 7,
   "id": "160d5fc3",
   "metadata": {},
   "outputs": [
    {
     "data": {
      "text/plain": [
       "1"
      ]
     },
     "execution_count": 7,
     "metadata": {},
     "output_type": "execute_result"
    }
   ],
   "source": [
    "QA_util_get_trade_gap(\"2023-03-17\", \"2023-05-01\")"
   ]
  },
  {
   "cell_type": "code",
   "execution_count": 8,
   "id": "4b7ccbeb",
   "metadata": {},
   "outputs": [
    {
     "ename": "NameError",
     "evalue": "name 'data' is not defined",
     "output_type": "error",
     "traceback": [
      "\u001b[0;31m---------------------------------------------------------------------------\u001b[0m",
      "\u001b[0;31mNameError\u001b[0m                                 Traceback (most recent call last)",
      "Cell \u001b[0;32mIn[8], line 1\u001b[0m\n\u001b[0;32m----> 1\u001b[0m \u001b[43mdata\u001b[49m\n",
      "\u001b[0;31mNameError\u001b[0m: name 'data' is not defined"
     ]
    }
   ],
   "source": [
    "data"
   ]
  },
  {
   "cell_type": "code",
   "execution_count": null,
   "id": "f57c4ca9",
   "metadata": {},
   "outputs": [],
   "source": []
  }
 ],
 "metadata": {
  "kernelspec": {
   "display_name": "Python 3 (ipykernel)",
   "language": "python",
   "name": "python3"
  },
  "language_info": {
   "codemirror_mode": {
    "name": "ipython",
    "version": 3
   },
   "file_extension": ".py",
   "mimetype": "text/x-python",
   "name": "python",
   "nbconvert_exporter": "python",
   "pygments_lexer": "ipython3",
   "version": "3.8.16"
  }
 },
 "nbformat": 4,
 "nbformat_minor": 5
}
