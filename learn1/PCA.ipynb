{
 "cells": [
  {
   "cell_type": "code",
   "execution_count": 1,
   "id": "410f8cd4",
   "metadata": {},
   "outputs": [],
   "source": [
    "import numpy as np\n",
    "from sklearn.decomposition import PCA\n",
    "from sklearn.metrics.pairwise import cosine_similarity\n",
    "\n",
    "from scipy.stats import pearsonr\n",
    "\n"
   ]
  },
  {
   "cell_type": "code",
   "execution_count": 2,
   "id": "f70b992d",
   "metadata": {},
   "outputs": [],
   "source": [
    "def normal_by_row(data):\n",
    "\n",
    "    # 计算每列的均值和标准差\n",
    "    mean = np.mean(data, axis=1, keepdims=True)\n",
    "    std = np.std(data, axis=1, keepdims=True)\n",
    "\n",
    "    # 标准化数据\n",
    "    data_standardized = (data - mean) / mean\n",
    "    return data_standardized"
   ]
  },
  {
   "cell_type": "code",
   "execution_count": 3,
   "id": "08f03015",
   "metadata": {},
   "outputs": [
    {
     "ename": "NameError",
     "evalue": "name 'x_train_normal_vol' is not defined",
     "output_type": "error",
     "traceback": [
      "\u001b[0;31m---------------------------------------------------------------------------\u001b[0m",
      "\u001b[0;31mNameError\u001b[0m                                 Traceback (most recent call last)",
      "Cell \u001b[0;32mIn[3], line 1\u001b[0m\n\u001b[0;32m----> 1\u001b[0m \u001b[43mx_train_normal_vol\u001b[49m\u001b[38;5;241m.\u001b[39mmin()\n",
      "\u001b[0;31mNameError\u001b[0m: name 'x_train_normal_vol' is not defined"
     ]
    }
   ],
   "source": [
    "x_train_normal_vol.min()"
   ]
  },
  {
   "cell_type": "code",
   "execution_count": 4,
   "id": "9830e523",
   "metadata": {},
   "outputs": [],
   "source": [
    "def normal_by_row_log(data):\n",
    "\n",
    "    # 计算每列的均值和标准差\n",
    "    mean = np.mean(data, axis=1, keepdims=True)\n",
    "    std = np.std(data, axis=1, keepdims=True)\n",
    "\n",
    "    # 标准化数据\n",
    "    data_standardized = np.log10(data)\n",
    "    return data_standardized"
   ]
  },
  {
   "cell_type": "code",
   "execution_count": 5,
   "id": "a43239ac",
   "metadata": {},
   "outputs": [],
   "source": [
    "x_train = np.load(\"sh510050_train.npy\")\n",
    "x_train_normal = normal_by_row(x_train)"
   ]
  },
  {
   "cell_type": "code",
   "execution_count": 6,
   "id": "7d04f4c5",
   "metadata": {},
   "outputs": [],
   "source": [
    "x_train_vol = np.load(\"sh510050_train_vol.npy\")\n",
    "x_train_normal_vol = normal_by_row_log(x_train_vol)/15"
   ]
  },
  {
   "cell_type": "code",
   "execution_count": 7,
   "id": "a1633e3b",
   "metadata": {},
   "outputs": [
    {
     "data": {
      "text/plain": [
       "(4.41665421108424e-19, 0.013090787922657068)"
      ]
     },
     "execution_count": 7,
     "metadata": {},
     "output_type": "execute_result"
    }
   ],
   "source": [
    "x_train_normal.mean(), x_train_normal.std()"
   ]
  },
  {
   "cell_type": "code",
   "execution_count": 8,
   "id": "fb9a3fa7",
   "metadata": {},
   "outputs": [
    {
     "ename": "NameError",
     "evalue": "name 'plt' is not defined",
     "output_type": "error",
     "traceback": [
      "\u001b[0;31m---------------------------------------------------------------------------\u001b[0m",
      "\u001b[0;31mNameError\u001b[0m                                 Traceback (most recent call last)",
      "Cell \u001b[0;32mIn[8], line 1\u001b[0m\n\u001b[0;32m----> 1\u001b[0m \u001b[43mplt\u001b[49m\u001b[38;5;241m.\u001b[39mhist(x_train_normal\u001b[38;5;241m.\u001b[39mravel(), bins\u001b[38;5;241m=\u001b[39m\u001b[38;5;241m100\u001b[39m)\n",
      "\u001b[0;31mNameError\u001b[0m: name 'plt' is not defined"
     ]
    }
   ],
   "source": [
    "plt.hist(x_train_normal.ravel(), bins=100)"
   ]
  },
  {
   "cell_type": "code",
   "execution_count": 97,
   "id": "7cbc6a02",
   "metadata": {},
   "outputs": [
    {
     "data": {
      "text/plain": [
       "(array([  1716.,   1725.,   1290.,   1728.,    432.,   1289.,   2160.,\n",
       "             0.,   2160.,   1720.,   2963.,   2440.,   2433.,   5316.,\n",
       "          4451.,   7776.,   5768.,   3926.,   6048.,  10060.,  14540.,\n",
       "         15787.,  15109.,  21595.,  31183.,  26148.,  25887.,  24309.,\n",
       "         42862.,  39101.,  50714.,  59144.,  64426.,  82724., 101440.,\n",
       "        100840., 109338., 123272., 131110., 137505., 157977., 163955.,\n",
       "        191586., 195608., 216557., 235036., 217025., 245206., 236408.,\n",
       "        243968., 257388., 256194., 236991., 242943., 245948., 245994.,\n",
       "        235745., 219520., 212324., 212968., 197753., 168134., 166749.,\n",
       "        154741., 137090., 136120., 134705., 113349.,  99400., 108967.,\n",
       "         86344.,  83579.,  67974.,  61763.,  54797.,  50507.,  46626.,\n",
       "         42368.,  35795.,  33601.,  26167.,  20059.,  19633.,  25942.,\n",
       "         14613.,  11516.,  11645.,   7035.,   4556.,   4648.,   6048.,\n",
       "          3024.,   2160.,   1728.,   1296.,    432.,    432.,    432.,\n",
       "           432.,   2160.]),\n",
       " array([-0.06387468, -0.06276207, -0.06164946, -0.06053685, -0.05942424,\n",
       "        -0.05831163, -0.05719902, -0.05608641, -0.0549738 , -0.05386119,\n",
       "        -0.05274858, -0.05163597, -0.05052336, -0.04941075, -0.04829814,\n",
       "        -0.04718553, -0.04607292, -0.04496031, -0.0438477 , -0.04273509,\n",
       "        -0.04162248, -0.04050987, -0.03939726, -0.03828465, -0.03717204,\n",
       "        -0.03605943, -0.03494682, -0.03383421, -0.0327216 , -0.03160899,\n",
       "        -0.03049638, -0.02938377, -0.02827116, -0.02715855, -0.02604594,\n",
       "        -0.02493333, -0.02382072, -0.02270811, -0.0215955 , -0.02048289,\n",
       "        -0.01937028, -0.01825767, -0.01714506, -0.01603245, -0.01491984,\n",
       "        -0.01380723, -0.01269462, -0.01158201, -0.0104694 , -0.00935679,\n",
       "        -0.00824418, -0.00713157, -0.00601896, -0.00490635, -0.00379374,\n",
       "        -0.00268113, -0.00156852, -0.00045591,  0.0006567 ,  0.00176931,\n",
       "         0.00288192,  0.00399453,  0.00510714,  0.00621975,  0.00733236,\n",
       "         0.00844497,  0.00955758,  0.01067019,  0.0117828 ,  0.01289541,\n",
       "         0.01400802,  0.01512063,  0.01623324,  0.01734585,  0.01845846,\n",
       "         0.01957107,  0.02068368,  0.02179629,  0.0229089 ,  0.02402151,\n",
       "         0.02513412,  0.02624673,  0.02735934,  0.02847195,  0.02958456,\n",
       "         0.03069717,  0.03180978,  0.03292239,  0.034035  ,  0.03514761,\n",
       "         0.03626022,  0.03737282,  0.03848543,  0.03959804,  0.04071065,\n",
       "         0.04182326,  0.04293587,  0.04404848,  0.04516109,  0.0462737 ,\n",
       "         0.04738631]),\n",
       " <a list of 100 Patch objects>)"
      ]
     },
     "execution_count": 97,
     "metadata": {},
     "output_type": "execute_result"
    },
    {
     "data": {
      "image/png": "[encoded data removed]",
      "text/plain": [
       "<Figure size 432x288 with 1 Axes>"
      ]
     },
     "metadata": {
      "needs_background": "light"
     },
     "output_type": "display_data"
    }
   ],
   "source": [
    "plt.hist(x_train_normal_vol.ravel(), bins=100)"
   ]
  },
  {
   "cell_type": "code",
   "execution_count": 98,
   "id": "1de210f0",
   "metadata": {},
   "outputs": [
    {
     "data": {
      "text/plain": [
       "(-0.0055251107016699675, 0.014624359287024406)"
      ]
     },
     "execution_count": 98,
     "metadata": {},
     "output_type": "execute_result"
    }
   ],
   "source": [
    "x_train_normal_vol.mean(), x_train_normal_vol.std()"
   ]
  },
  {
   "cell_type": "code",
   "execution_count": 64,
   "id": "fac6c27a",
   "metadata": {},
   "outputs": [
    {
     "ename": "AttributeError",
     "evalue": "'numpy.ndarray' object has no attribute 'hist'",
     "output_type": "error",
     "traceback": [
      "\u001b[0;31m---------------------------------------------------------------------------\u001b[0m",
      "\u001b[0;31mAttributeError\u001b[0m                            Traceback (most recent call last)",
      "\u001b[0;32m/tmp/ipykernel_688265/3240989674.py\u001b[0m in \u001b[0;36m<module>\u001b[0;34m\u001b[0m\n\u001b[0;32m----> 1\u001b[0;31m \u001b[0mx_train_normal_vol\u001b[0m\u001b[0;34m.\u001b[0m\u001b[0mhist\u001b[0m\u001b[0;34m\u001b[0m\u001b[0;34m\u001b[0m\u001b[0m\n\u001b[0m",
      "\u001b[0;31mAttributeError\u001b[0m: 'numpy.ndarray' object has no attribute 'hist'"
     ]
    }
   ],
   "source": [
    "x_train_normal_vol."
   ]
  },
  {
   "cell_type": "code",
   "execution_count": 128,
   "id": "07df008c",
   "metadata": {},
   "outputs": [
    {
     "data": {
      "text/plain": [
       "array([2, 4, 5])"
      ]
     },
     "execution_count": 128,
     "metadata": {},
     "output_type": "execute_result"
    }
   ],
   "source": [
    "a = np.array([1,2,3,4,5])\n",
    "a[[1,3,4]]"
   ]
  },
  {
   "cell_type": "code",
   "execution_count": 99,
   "id": "434719c0",
   "metadata": {},
   "outputs": [],
   "source": [
    "def fibonacci(n):\n",
    "    \"\"\"\n",
    "    生成长度为n的斐波那契数列\n",
    "    \"\"\"\n",
    "    if n == 0:\n",
    "        return []\n",
    "    elif n == 1:\n",
    "        return [0]\n",
    "    else:\n",
    "        fib = [0, 1]\n",
    "        while len(fib) < n:\n",
    "            fib.append(fib[-1] + fib[-2])\n",
    "        return fib"
   ]
  },
  {
   "cell_type": "code",
   "execution_count": 108,
   "id": "d33c6fe0",
   "metadata": {},
   "outputs": [
    {
     "data": {
      "text/plain": [
       "array([ 55, 199, 288, 343, 377, 398, 411, 419, 424, 427, 429, 430, 431,\n",
       "       431])"
      ]
     },
     "execution_count": 108,
     "metadata": {},
     "output_type": "execute_result"
    }
   ],
   "source": [
    "choose = (432 - np.array(fibonacci(15)))[1:][::-1]\n",
    "choose"
   ]
  },
  {
   "cell_type": "code",
   "execution_count": 112,
   "id": "9d20fd9d",
   "metadata": {},
   "outputs": [
    {
     "data": {
      "text/plain": [
       "[-1, 47, 95, 143, 191, 239, 287, 335, 383, 431, 479]"
      ]
     },
     "execution_count": 112,
     "metadata": {},
     "output_type": "execute_result"
    }
   ],
   "source": [
    "list(range(-1, 480, 48))"
   ]
  },
  {
   "cell_type": "code",
   "execution_count": 69,
   "id": "dab1ed22",
   "metadata": {},
   "outputs": [],
   "source": [
    "choose = [ 55, 199, 288, 343, 377, 398, 411, 419, 424,426, 427,428, 429, 430, 431]"
   ]
  },
  {
   "cell_type": "code",
   "execution_count": 70,
   "id": "a2dd3921",
   "metadata": {
    "scrolled": true
   },
   "outputs": [
    {
     "data": {
      "text/plain": [
       "array([ 0.00990794, -0.00865487, -0.01537392,  0.00307501,  0.00267642,\n",
       "        0.01127453,  0.01281194,  0.01036347,  0.010819  ,  0.01098983,\n",
       "        0.01110371,  0.01133147,  0.01155924,  0.01184394,  0.01235641])"
      ]
     },
     "execution_count": 70,
     "metadata": {},
     "output_type": "execute_result"
    }
   ],
   "source": [
    "x_train_normal[0][choose]"
   ]
  },
  {
   "cell_type": "code",
   "execution_count": 71,
   "id": "38243f72",
   "metadata": {},
   "outputs": [],
   "source": [
    "x_train_normal_sample = x_train_normal[::, choose]"
   ]
  },
  {
   "cell_type": "code",
   "execution_count": 72,
   "id": "49414ba5",
   "metadata": {},
   "outputs": [
    {
     "data": {
      "text/plain": [
       "18278"
      ]
     },
     "execution_count": 72,
     "metadata": {},
     "output_type": "execute_result"
    }
   ],
   "source": [
    "len(x_train_normal_vol_sample)"
   ]
  },
  {
   "cell_type": "code",
   "execution_count": 73,
   "id": "d18d7ae9",
   "metadata": {},
   "outputs": [],
   "source": [
    "x_train_normal_vol_sample = x_train_normal_vol[::, choose]"
   ]
  },
  {
   "cell_type": "code",
   "execution_count": 74,
   "id": "2e7547bd",
   "metadata": {},
   "outputs": [],
   "source": [
    "merge = np.concatenate((x_train_normal_sample, x_train_normal_vol_sample), axis=1)"
   ]
  },
  {
   "cell_type": "code",
   "execution_count": 14,
   "id": "295cac34",
   "metadata": {},
   "outputs": [
    {
     "data": {
      "text/plain": [
       "30"
      ]
     },
     "execution_count": 14,
     "metadata": {},
     "output_type": "execute_result"
    }
   ],
   "source": [
    "len(merge[1])"
   ]
  },
  {
   "cell_type": "code",
   "execution_count": null,
   "id": "d5eae333",
   "metadata": {},
   "outputs": [],
   "source": [
    "# # 计算协方差矩阵\n",
    "# cov_mat = np.cov(x_train_normal)\n",
    "\n",
    "# # 计算特征值和特征向量\n",
    "# eig_vals, eig_vecs = np.linalg.eig(cov_mat)\n",
    "\n"
   ]
  },
  {
   "cell_type": "code",
   "execution_count": 13,
   "id": "2ea7bc27",
   "metadata": {},
   "outputs": [
    {
     "data": {
      "text/plain": [
       "432"
      ]
     },
     "execution_count": 13,
     "metadata": {},
     "output_type": "execute_result"
    }
   ],
   "source": [
    "len(eig_vecs)"
   ]
  },
  {
   "cell_type": "code",
   "execution_count": 11,
   "id": "662eb48a",
   "metadata": {},
   "outputs": [],
   "source": [
    "from sklearn.decomposition import PCA, IncrementalPCA\n",
    "import numpy as np"
   ]
  },
  {
   "cell_type": "code",
   "execution_count": 14,
   "id": "37ceae05",
   "metadata": {},
   "outputs": [],
   "source": [
    "from sklearn.manifold import TSNE "
   ]
  },
  {
   "cell_type": "code",
   "execution_count": 75,
   "id": "33bd46be",
   "metadata": {},
   "outputs": [],
   "source": [
    "n_components = 30\n",
    "rpca = PCA(n_components=n_components, svd_solver='randomized')\n",
    "X_rpca = rpca.fit(merge)"
   ]
  },
  {
   "cell_type": "code",
   "execution_count": 76,
   "id": "7539e07c",
   "metadata": {},
   "outputs": [],
   "source": [
    "train_pca =  X_rpca.transform(merge)"
   ]
  },
  {
   "cell_type": "code",
   "execution_count": null,
   "id": "ff378daa",
   "metadata": {},
   "outputs": [],
   "source": [
    "tsne = TSNE(n_components=30, perplexity=50, learning_rate=\"auto\", init=\"pca\", random_state=42,method='exact',  metric=\"cosine\", square_distances=True)\n",
    "X_tsne = tsne.fit(merge)"
   ]
  },
  {
   "cell_type": "code",
   "execution_count": 1,
   "id": "bdc8c2c7",
   "metadata": {},
   "outputs": [
    {
     "ename": "NameError",
     "evalue": "name 'X_tsne' is not defined",
     "output_type": "error",
     "traceback": [
      "\u001b[0;31m---------------------------------------------------------------------------\u001b[0m",
      "\u001b[0;31mNameError\u001b[0m                                 Traceback (most recent call last)",
      "\u001b[0;32m/tmp/ipykernel_676629/3749561038.py\u001b[0m in \u001b[0;36m<module>\u001b[0;34m\u001b[0m\n\u001b[0;32m----> 1\u001b[0;31m \u001b[0mtsne_trans\u001b[0m \u001b[0;34m=\u001b[0m \u001b[0mX_tsne\u001b[0m\u001b[0;34m.\u001b[0m\u001b[0mfit_transform\u001b[0m\u001b[0;34m(\u001b[0m\u001b[0mmerge\u001b[0m\u001b[0;34m)\u001b[0m\u001b[0;34m\u001b[0m\u001b[0;34m\u001b[0m\u001b[0m\n\u001b[0m",
      "\u001b[0;31mNameError\u001b[0m: name 'X_tsne' is not defined"
     ]
    }
   ],
   "source": [
    "tsne_trans = X_tsne.fit_transform(merge)"
   ]
  },
  {
   "cell_type": "code",
   "execution_count": 118,
   "id": "d833b939",
   "metadata": {},
   "outputs": [
    {
     "data": {
      "text/plain": [
       "array([[ 67.885284 ,  20.806858 ],\n",
       "       [ 67.97915  ,  20.809639 ],\n",
       "       [ 68.097046 ,  20.7618   ],\n",
       "       ...,\n",
       "       [-89.38726  , -15.1070595],\n",
       "       [-89.55038  , -14.963725 ],\n",
       "       [-89.73703  , -14.80072  ]], dtype=float32)"
      ]
     },
     "execution_count": 118,
     "metadata": {},
     "output_type": "execute_result"
    }
   ],
   "source": [
    "tsne_trans"
   ]
  },
  {
   "cell_type": "code",
   "execution_count": 353,
   "id": "572334a2",
   "metadata": {},
   "outputs": [
    {
     "data": {
      "text/plain": [
       "array([ 6.55170919e-04,  5.60068214e-04,  5.25043230e-04,  8.12933162e-04,\n",
       "       -5.46395953e-05, -4.42808731e-03,  4.85603262e-02, -2.47387261e-01,\n",
       "        6.24860719e-01, -4.03308132e-01, -4.51594796e-01, -1.34253213e-01,\n",
       "        2.84017361e-01,  2.84017361e-01,  7.89372915e-06,  7.46382930e-05,\n",
       "       -7.68129492e-05, -6.50205776e-05,  1.36977525e-05,  3.34022048e-04,\n",
       "       -6.01604459e-04,  1.16567618e-03, -2.68625421e-03,  2.95984271e-03,\n",
       "       -2.28769271e-04, -5.89945124e-04, -1.51964488e-04, -1.51964488e-04])"
      ]
     },
     "execution_count": 353,
     "metadata": {},
     "output_type": "execute_result"
    }
   ],
   "source": [
    "X_rpca.components_[23]"
   ]
  },
  {
   "cell_type": "code",
   "execution_count": 349,
   "id": "4924b0d5",
   "metadata": {},
   "outputs": [
    {
     "data": {
      "text/plain": [
       "array([0.43869855, 0.10827381, 0.090696  , 0.07132324, 0.05982264,\n",
       "       0.05105894])"
      ]
     },
     "execution_count": 349,
     "metadata": {},
     "output_type": "execute_result"
    }
   ],
   "source": [
    "X_rpca.explained_variance_ratio_[:6]"
   ]
  },
  {
   "cell_type": "code",
   "execution_count": 17,
   "id": "e9e2f20c",
   "metadata": {},
   "outputs": [],
   "source": [
    "import matplotlib.pyplot as plt"
   ]
  },
  {
   "cell_type": "code",
   "execution_count": 305,
   "id": "c5323750",
   "metadata": {},
   "outputs": [
    {
     "data": {
      "image/png": "[encoded data removed]",
      "text/plain": [
       "<Figure size 720x432 with 1 Axes>"
      ]
     },
     "metadata": {
      "needs_background": "light"
     },
     "output_type": "display_data"
    }
   ],
   "source": [
    "plt.figure(figsize=(10, 6))\n",
    "plt.bar(range(1, 11), X_rpca.explained_variance_ratio_[:10], alpha=0.5, align='center')\n",
    "plt.ylabel('Explained variance ratio')\n",
    "plt.xlabel('Principal components')\n",
    "plt.show()"
   ]
  },
  {
   "cell_type": "code",
   "execution_count": 33,
   "id": "c23a15e1",
   "metadata": {},
   "outputs": [
    {
     "data": {
      "text/plain": [
       "3047"
      ]
     },
     "execution_count": 33,
     "metadata": {},
     "output_type": "execute_result"
    }
   ],
   "source": [
    "len(train_pca[::6, 0])"
   ]
  },
  {
   "cell_type": "code",
   "execution_count": 22,
   "id": "326ec342",
   "metadata": {},
   "outputs": [],
   "source": [
    "pct_change = np.load(\"sh510050_pct_change.npy\")"
   ]
  },
  {
   "cell_type": "code",
   "execution_count": 206,
   "id": "e38913f1",
   "metadata": {},
   "outputs": [
    {
     "data": {
      "text/plain": [
       "array([-0.01034929, -0.01046708, -0.00963326, ..., -0.00221203,\n",
       "       -0.00082001,  0.00114895])"
      ]
     },
     "execution_count": 206,
     "metadata": {},
     "output_type": "execute_result"
    }
   ],
   "source": [
    "pct_change[:,1]"
   ]
  },
  {
   "cell_type": "code",
   "execution_count": 31,
   "id": "64796432",
   "metadata": {},
   "outputs": [],
   "source": [
    "color_d = pct_change[::,1]"
   ]
  },
  {
   "cell_type": "code",
   "execution_count": 30,
   "id": "b28006c6",
   "metadata": {},
   "outputs": [
    {
     "data": {
      "text/plain": [
       "array([[-0.002     , -0.002     , -0.002     , -0.002     ],\n",
       "       [-0.002     , -0.002     , -0.002     , -0.002     ],\n",
       "       [-0.002     , -0.002     , -0.002     , -0.002     ],\n",
       "       ...,\n",
       "       [-0.002     , -0.002     ,  0.002     , -0.002     ],\n",
       "       [-0.00180402, -0.00082001,  0.002     , -0.00147601],\n",
       "       [-0.00123102,  0.00114895,  0.002     , -0.00098482]])"
      ]
     },
     "execution_count": 30,
     "metadata": {},
     "output_type": "execute_result"
    }
   ],
   "source": [
    "color_d"
   ]
  },
  {
   "cell_type": "code",
   "execution_count": 144,
   "id": "3b91a002",
   "metadata": {},
   "outputs": [],
   "source": [
    "color_d[color_d >0.002] = 0.002\n",
    "color_d[color_d <-0.002] = -0.002"
   ]
  },
  {
   "cell_type": "code",
   "execution_count": 29,
   "id": "bab99db1",
   "metadata": {},
   "outputs": [
    {
     "data": {
      "text/plain": [
       "array([ 4.66601965e-01, -7.05579400e-02, -6.25966520e-03,  3.57637007e-02,\n",
       "        1.20332234e-02,  3.05854462e-02,  2.37663471e-02,  7.32689637e-02,\n",
       "        5.66114618e-02, -9.37917004e-03, -2.20006861e-02,  1.42185865e-02,\n",
       "       -5.70723202e-03, -5.14477461e-03,  6.47303251e-03, -3.01856218e-03,\n",
       "       -5.65585021e-03,  4.85043519e-03,  1.33669535e-03, -3.62098024e-03,\n",
       "        6.87827570e-04,  1.67447074e-04,  3.81360893e-03,  2.87828498e-04,\n",
       "        5.06797825e-04,  1.21036772e-04, -3.31579050e-04,  2.13891348e-04,\n",
       "       -2.51563693e-04, -1.27532505e-04])"
      ]
     },
     "execution_count": 29,
     "metadata": {},
     "output_type": "execute_result"
    }
   ],
   "source": [
    "train_pca[1]"
   ]
  },
  {
   "cell_type": "code",
   "execution_count": 79,
   "id": "2765a0fc",
   "metadata": {},
   "outputs": [
    {
     "data": {
      "image/png": "[encoded data removed]",
      "text/plain": [
       "<Figure size 720x432 with 1 Axes>"
      ]
     },
     "metadata": {
      "needs_background": "light"
     },
     "output_type": "display_data"
    }
   ],
   "source": [
    "from matplotlib.colors import ListedColormap\n",
    "\n",
    "plt.figure(figsize=(10, 6))\n",
    "\n",
    "# colors = np.stack((np.linspace(1, 0, len(color_d)), np.linspace(0, 1, len(color_d)), np.zeros(len(color_d))), axis=1)\n",
    "# cmap = ListedColormap(colors)\n",
    "plt.scatter(train_pca[::, 23], train_pca[::,26], c=color_d, alpha=0.5,  label='Original Data')\n",
    "plt.show()"
   ]
  },
  {
   "cell_type": "code",
   "execution_count": 133,
   "id": "bbd4940e",
   "metadata": {
    "scrolled": false
   },
   "outputs": [
    {
     "name": "stdout",
     "output_type": "stream",
     "text": [
      "0 (0.004074383409002654, 0.5817669588429117)\n",
      "1 (-0.02580277526010609, 0.0004852335884580538)\n",
      "2 (-0.0009166857037188289, 0.9013755043476996)\n",
      "3 (-0.02656210046032643, 0.00032880308618309453)\n",
      "4 (-0.011286918730092901, 0.12703670361253064)\n",
      "5 (-0.012789660892564352, 0.0837973875669251)\n",
      "6 (-0.01001705677366038, 0.1756697400149369)\n",
      "7 (-0.03477762039641794, 2.564901940279452e-06)\n",
      "8 (0.010746536589130424, 0.14627012778841925)\n",
      "9 (0.03297110280765272, 8.25453936128014e-06)\n",
      "10 (-0.02102927205156703, 0.004466350519174271)\n",
      "11 (-0.015428911890489585, 0.03698668252974495)\n",
      "12 (0.022420387538595522, 0.0024348393525728713)\n",
      "13 (-0.017692102712776554, 0.016760136796719432)\n",
      "14 (-0.046845145825349294, 2.3530426953937936e-10)\n",
      "15 (0.032334392963485926, 1.2292765166137733e-05)\n",
      "16 (-0.005834486930589457, 0.43025640859206615)\n",
      "17 (-0.037416055149092846, 4.1940502908558605e-07)\n",
      "18 (-0.002950283284035028, 0.6900107023299985)\n",
      "19 (0.09833005332450497, 1.651075093277053e-40)\n",
      "20 (-0.10472992740990318, 9.53868291094022e-46)\n",
      "21 (0.013580696490950148, 0.06635513886385165)\n",
      "22 (-0.002122156667655536, 0.7741979868325466)\n",
      "23 (0.2082236864531257, 3.500088083322271e-178)\n",
      "24 (-0.004361723521383752, 0.555424840534217)\n",
      "25 (0.0020047499292612262, 0.7863785603953021)\n",
      "26 (0.2867352923362258, 0.0)\n",
      "27 (-0.09873995323042592, 7.802950560800316e-41)\n",
      "28 (0.0888697223941084, 2.2474680255757002e-33)\n",
      "29 (0.03935560423478722, 1.0239339620005689e-07)\n"
     ]
    }
   ],
   "source": [
    "for p in range(30):\n",
    "    pct_changec = pct_change[::,0]\n",
    "    pca = train_pca[:, p]\n",
    "    a = pearsonr(pct_changec, pca)\n",
    "    print(p, a)"
   ]
  },
  {
   "cell_type": "code",
   "execution_count": null,
   "id": "bb4ed796",
   "metadata": {},
   "outputs": [],
   "source": []
  },
  {
   "cell_type": "code",
   "execution_count": 56,
   "id": "4fdf2734",
   "metadata": {},
   "outputs": [
    {
     "data": {
      "text/plain": [
       "(-0.9999999999999998, 1.3415758552508151e-08)"
      ]
     },
     "execution_count": 56,
     "metadata": {},
     "output_type": "execute_result"
    }
   ],
   "source": [
    "pearsonr([1,2,3], [3,2,1])"
   ]
  },
  {
   "cell_type": "code",
   "execution_count": 6,
   "id": "bddb51ed",
   "metadata": {},
   "outputs": [
    {
     "ename": "NameError",
     "evalue": "name 'eig_vecs' is not defined",
     "output_type": "error",
     "traceback": [
      "\u001b[0;31m---------------------------------------------------------------------------\u001b[0m",
      "\u001b[0;31mNameError\u001b[0m                                 Traceback (most recent call last)",
      "\u001b[0;32m/tmp/ipykernel_357528/751233177.py\u001b[0m in \u001b[0;36m<module>\u001b[0;34m\u001b[0m\n\u001b[1;32m      1\u001b[0m \u001b[0;31m# 选择主成分\u001b[0m\u001b[0;34m\u001b[0m\u001b[0;34m\u001b[0m\u001b[0;34m\u001b[0m\u001b[0m\n\u001b[1;32m      2\u001b[0m \u001b[0mk\u001b[0m \u001b[0;34m=\u001b[0m \u001b[0;36m3\u001b[0m\u001b[0;34m\u001b[0m\u001b[0;34m\u001b[0m\u001b[0m\n\u001b[0;32m----> 3\u001b[0;31m \u001b[0mtop_k_eig_vecs\u001b[0m \u001b[0;34m=\u001b[0m \u001b[0meig_vecs\u001b[0m\u001b[0;34m[\u001b[0m\u001b[0;34m:\u001b[0m\u001b[0;34m,\u001b[0m \u001b[0;34m:\u001b[0m\u001b[0mk\u001b[0m\u001b[0;34m]\u001b[0m\u001b[0;34m\u001b[0m\u001b[0;34m\u001b[0m\u001b[0m\n\u001b[0m\u001b[1;32m      4\u001b[0m \u001b[0;34m\u001b[0m\u001b[0m\n\u001b[1;32m      5\u001b[0m \u001b[0;31m# 降维\u001b[0m\u001b[0;34m\u001b[0m\u001b[0;34m\u001b[0m\u001b[0;34m\u001b[0m\u001b[0m\n",
      "\u001b[0;31mNameError\u001b[0m: name 'eig_vecs' is not defined"
     ]
    }
   ],
   "source": [
    "# 选择主成分\n",
    "k = 3\n",
    "top_k_eig_vecs = eig_vecs[:, :k]\n",
    "\n",
    "# 降维\n",
    "reduced_data = np.dot(x_train_normal, top_k_eig_vecs)\n",
    "\n",
    "# 计算相似度\n",
    "similarity = cosine_similarity(reduced_data)"
   ]
  },
  {
   "cell_type": "code",
   "execution_count": 5,
   "id": "ad60a4bd",
   "metadata": {},
   "outputs": [
    {
     "data": {
      "text/plain": [
       "array([[ 8.29116198e-03, -4.82971423e-01, -3.54355172e-01],\n",
       "       [ 2.18809134e-01,  1.39651847e-01, -4.01262370e-01],\n",
       "       [-2.78288019e-01, -2.34011700e-01,  7.79249184e-01],\n",
       "       [ 1.35143736e-01, -2.01581975e-01, -5.53358035e-02],\n",
       "       [-9.52962321e-02,  3.51286041e-01,  4.32517754e-01],\n",
       "       [-3.87886124e-02, -3.65999490e-01,  1.04915588e-01],\n",
       "       [-1.56220598e-01,  4.00889071e-01, -6.09159029e-02],\n",
       "       [ 3.22580439e-01,  1.05422035e-01,  2.76741821e-01],\n",
       "       [ 3.24281193e-01,  4.41826852e-01,  2.53102352e-01],\n",
       "       [ 4.77003796e-01,  8.37052656e-03,  4.49937130e-02],\n",
       "       [-7.14328397e-02,  3.14200632e-02,  7.65627941e-02],\n",
       "       [-3.02844709e-01, -4.43036745e-01,  5.46573014e-03],\n",
       "       [ 3.39694628e-01,  2.65072754e-01,  3.00682573e-01],\n",
       "       [ 2.17732141e-01,  1.51513849e-01, -5.17288178e-01],\n",
       "       [-4.87876553e-02,  1.73791606e-01, -2.13813736e-01],\n",
       "       [ 6.46713198e-01, -2.42631655e-02, -2.62269392e-01],\n",
       "       [-1.63127701e-01, -4.75528138e-01,  1.05720029e-01],\n",
       "       [-3.45547331e-01, -2.57940779e-01,  3.58091828e-01],\n",
       "       [ 8.56629840e-01, -4.49594569e-01, -1.45690333e-01],\n",
       "       [-2.16325846e-01,  2.29803417e-01,  1.15312275e-01],\n",
       "       [-4.32201986e-01,  2.99432048e-01,  1.97513788e-02],\n",
       "       [ 1.28270076e-01, -3.24750478e-01, -1.13556475e-01],\n",
       "       [ 2.77851015e-02, -2.01017573e-01,  4.70537834e-01],\n",
       "       [-2.12205080e-01,  4.01123597e-01, -2.04814939e-01],\n",
       "       [-4.76513237e-01, -4.28069895e-03, -5.26520510e-01],\n",
       "       [ 5.09780473e-01,  3.47029249e-01,  8.04284186e-01],\n",
       "       [-1.18027798e-01,  2.93439382e-01, -2.18458808e-01],\n",
       "       [-2.99806253e-01,  5.22328793e-02, -1.32592573e-01],\n",
       "       [ 6.87537169e-01, -5.13297232e-01, -1.55824224e-01],\n",
       "       [ 6.75425706e-02, -3.69583688e-02, -5.01248624e-01],\n",
       "       [-2.44772881e-01, -2.86430108e-02,  5.11261187e-01],\n",
       "       [-6.12832870e-01, -3.01730246e-01, -4.51740662e-01],\n",
       "       [-2.86272313e-01,  5.32141719e-01, -6.41469153e-04],\n",
       "       [-2.46382683e-01,  2.14013683e-01,  1.85077909e-01],\n",
       "       [ 6.47944849e-02,  5.09898962e-01, -4.42273715e-01],\n",
       "       [ 2.79118622e-01,  3.41385179e-01, -2.50956002e-01],\n",
       "       [ 6.62472261e-03,  1.35054011e-01,  1.31088735e-01],\n",
       "       [ 3.01986639e-01,  3.96300799e-03, -3.11541775e-01],\n",
       "       [ 2.76492226e-01, -5.86464545e-01,  3.24471010e-01],\n",
       "       [-3.50850066e-01, -3.03652317e-01, -2.35265152e-01],\n",
       "       [ 3.53531158e-01, -3.58922558e-01,  1.45386780e-01],\n",
       "       [-1.81751475e-01, -4.40557712e-01, -1.43833097e-02],\n",
       "       [-4.35417818e-01, -3.82292225e-01,  1.94356134e-01],\n",
       "       [ 1.58146836e-01, -5.40475424e-02, -6.70633921e-01],\n",
       "       [ 1.09998043e-01,  8.44456747e-01, -7.65254697e-02],\n",
       "       [-3.67460258e-01, -4.33814437e-01,  3.86815877e-02],\n",
       "       [ 2.84847688e-01,  2.92600976e-01,  1.67330930e-01],\n",
       "       [-1.42652918e-01, -8.48674699e-02, -1.39742909e-01],\n",
       "       [-3.13077611e-01, -4.55300662e-01, -4.96453814e-02],\n",
       "       [-7.19278964e-01,  3.14679765e-01,  2.56428089e-01],\n",
       "       [ 1.64714077e-01,  2.65664155e-01,  5.51829887e-01],\n",
       "       [-3.73279462e-01, -1.96918895e-02,  2.83990825e-01],\n",
       "       [-7.48605484e-03,  1.95234586e-02,  2.92690653e-02],\n",
       "       [-2.02717425e-01, -1.74164033e-01,  2.43440589e-01],\n",
       "       [-4.45109035e-02, -7.84766602e-02, -4.34922215e-01],\n",
       "       [-3.13248465e-01, -4.44581686e-01, -2.64030294e-01],\n",
       "       [ 4.70741376e-01,  6.23997948e-02, -3.86848407e-02],\n",
       "       [-4.13827161e-01, -3.85643657e-01,  1.63680633e-01],\n",
       "       [ 8.60943440e-02,  3.16362524e-02, -1.59214440e-01],\n",
       "       [-3.54605889e-01, -3.71898966e-01, -3.62832177e-01],\n",
       "       [ 3.61653392e-01,  3.17726728e-02,  7.61073908e-01],\n",
       "       [-8.10018032e-01,  3.29190896e-01,  2.96303433e-01],\n",
       "       [ 3.35859838e-01, -4.49913657e-01,  4.97602796e-01],\n",
       "       [ 3.94266716e-01, -2.50175243e-01, -1.36703624e-01],\n",
       "       [-8.00068499e-02,  6.24933144e-01,  1.05052272e-01],\n",
       "       [-6.26953443e-01, -2.33054259e-01,  2.67891761e-01],\n",
       "       [ 3.75268581e-01,  1.93835111e-01, -9.37684906e-02],\n",
       "       [ 2.54249603e-01, -2.88864390e-01, -2.52087428e-02],\n",
       "       [-4.08244409e-01,  1.71770722e-01, -1.37192948e-01],\n",
       "       [ 1.60513537e-01, -1.05104749e-01,  2.46581327e-01],\n",
       "       [ 7.08026932e-02, -2.15086000e-02,  1.57057721e-01],\n",
       "       [ 3.14861540e-01, -1.85690656e-01, -2.21452576e-02],\n",
       "       [ 2.14548505e-02,  1.92293505e-01, -1.27437633e-01],\n",
       "       [-5.81359133e-02,  1.32476038e-01, -4.91827731e-01],\n",
       "       [ 8.25341166e-01,  1.64068285e-01,  9.49625685e-02],\n",
       "       [-4.11165375e-03, -5.10796401e-01,  1.01761731e-02],\n",
       "       [-4.64564568e-01, -3.75076559e-01, -3.03717552e-01],\n",
       "       [ 1.79601712e-01, -1.71106032e-01,  3.84781811e-02],\n",
       "       [ 2.01343899e-01,  2.69080096e-01,  3.60501635e-01],\n",
       "       [ 4.46632447e-01,  4.22924596e-01,  3.83252532e-01],\n",
       "       [-4.80490307e-01,  4.53184787e-01, -6.90714336e-02],\n",
       "       [-5.02538388e-01, -4.41856663e-01,  4.21919778e-01],\n",
       "       [ 1.46955279e-01, -5.02982788e-01,  1.14451205e-02],\n",
       "       [ 1.02496345e-01,  3.77820239e-01,  3.17381698e-02],\n",
       "       [-1.53423373e-01,  5.34775059e-01,  3.96754156e-01],\n",
       "       [ 1.88738185e-01,  4.27757459e-02, -3.57249807e-01],\n",
       "       [-3.85104346e-01,  6.44856487e-01, -1.88659522e-01],\n",
       "       [ 5.07578001e-01, -4.07823084e-02, -5.12833346e-01],\n",
       "       [-3.65905315e-01, -1.60587111e-01, -2.03262525e-01],\n",
       "       [ 5.19758606e-01,  4.38719304e-02,  2.36506410e-01],\n",
       "       [ 1.96723295e-01,  3.30787697e-01, -2.19176805e-01],\n",
       "       [-5.49939061e-01,  3.08683329e-01,  5.44775124e-01],\n",
       "       [ 5.01324553e-01, -1.59362370e-01,  2.55872631e-01],\n",
       "       [ 1.75280313e-01, -1.65928709e-01,  3.78436163e-01],\n",
       "       [-2.11766320e-02, -2.69690943e-01, -5.53687641e-01],\n",
       "       [-2.78131130e-01,  4.86133768e-01, -3.99402893e-01],\n",
       "       [ 1.87360503e-01,  5.78986979e-01, -6.03740932e-01],\n",
       "       [-2.89299941e-01,  1.29364246e-01, -3.90801977e-01],\n",
       "       [-3.02871472e-02, -3.71037190e-01, -1.95395836e-02],\n",
       "       [ 3.81219690e-01, -9.98076791e-02, -2.48195044e-01]])"
      ]
     },
     "execution_count": 5,
     "metadata": {},
     "output_type": "execute_result"
    }
   ],
   "source": [
    "reduced_data"
   ]
  },
  {
   "cell_type": "code",
   "execution_count": 39,
   "id": "c164f30c",
   "metadata": {},
   "outputs": [],
   "source": [
    "from sklearn.linear_model import LinearRegression"
   ]
  },
  {
   "cell_type": "code",
   "execution_count": 136,
   "id": "eb725544",
   "metadata": {},
   "outputs": [
    {
     "data": {
      "text/plain": [
       "LinearRegression()"
      ]
     },
     "execution_count": 136,
     "metadata": {},
     "output_type": "execute_result"
    }
   ],
   "source": [
    "X = x_train_normal_sample[:,7:]\n",
    "y = pct_change[::,0]\n",
    "\n",
    "# 假设X和y已经准备好了\n",
    "model = LinearRegression()\n",
    "model.fit(X, y)\n"
   ]
  },
  {
   "cell_type": "code",
   "execution_count": 23,
   "id": "984dcf3e",
   "metadata": {},
   "outputs": [
    {
     "data": {
      "text/plain": [
       "LinearRegression()"
      ]
     },
     "execution_count": 23,
     "metadata": {},
     "output_type": "execute_result"
    }
   ],
   "source": [
    "model"
   ]
  },
  {
   "cell_type": "code",
   "execution_count": 137,
   "id": "8f504306",
   "metadata": {},
   "outputs": [],
   "source": [
    "coefficients = model.coef_\n",
    "intercept = model.intercept_"
   ]
  },
  {
   "cell_type": "code",
   "execution_count": 138,
   "id": "c8ef0dcc",
   "metadata": {},
   "outputs": [
    {
     "data": {
      "text/plain": [
       "(array([ 0.0182333 , -0.17768996,  0.24949573,  0.13374734, -0.01713003,\n",
       "        -0.11909352, -1.20124979,  1.11320827]),\n",
       " -7.926184399736805e-05)"
      ]
     },
     "execution_count": 138,
     "metadata": {},
     "output_type": "execute_result"
    }
   ],
   "source": [
    "coefficients, intercept"
   ]
  },
  {
   "cell_type": "code",
   "execution_count": 141,
   "id": "3812cffa",
   "metadata": {},
   "outputs": [],
   "source": [
    "y_pre = model.predict(X)"
   ]
  },
  {
   "cell_type": "code",
   "execution_count": 142,
   "id": "fc4c56a9",
   "metadata": {},
   "outputs": [
    {
     "data": {
      "text/plain": [
       "array([ 0.00037126, -0.00081195, -0.00138535, ..., -0.00094886,\n",
       "       -0.00091597, -0.00070646])"
      ]
     },
     "execution_count": 142,
     "metadata": {},
     "output_type": "execute_result"
    }
   ],
   "source": [
    "y_pre"
   ]
  },
  {
   "cell_type": "code",
   "execution_count": 143,
   "id": "8805437b",
   "metadata": {},
   "outputs": [
    {
     "data": {
      "text/plain": [
       "(0.4140887790796207, 0.0)"
      ]
     },
     "execution_count": 143,
     "metadata": {},
     "output_type": "execute_result"
    }
   ],
   "source": [
    "pearsonr(y_pre, pct_change[::,0])"
   ]
  },
  {
   "cell_type": "code",
   "execution_count": 145,
   "id": "e5214a90",
   "metadata": {},
   "outputs": [
    {
     "name": "stderr",
     "output_type": "stream",
     "text": [
      "/tmp/ipykernel_688265/3220487245.py:1: RuntimeWarning: Mean of empty slice.\n",
      "  pct_change[::,3][y_pre<-0.01].mean()\n",
      "/home/liubinxu/.local/lib/python3.8/site-packages/numpy/core/_methods.py:189: RuntimeWarning: invalid value encountered in double_scalars\n",
      "  ret = ret.dtype.type(ret / rcount)\n"
     ]
    },
    {
     "data": {
      "text/plain": [
       "nan"
      ]
     },
     "execution_count": 145,
     "metadata": {},
     "output_type": "execute_result"
    }
   ],
   "source": [
    "pct_change[::,3][y_pre<-0.01].mean()"
   ]
  },
  {
   "cell_type": "code",
   "execution_count": 64,
   "id": "f7571c26",
   "metadata": {},
   "outputs": [
    {
     "data": {
      "text/plain": [
       "642"
      ]
     },
     "execution_count": 64,
     "metadata": {},
     "output_type": "execute_result"
    }
   ],
   "source": [
    "len(pct_change[::,3][y_pre<-0.003])"
   ]
  },
  {
   "cell_type": "code",
   "execution_count": 55,
   "id": "7b169ca4",
   "metadata": {},
   "outputs": [],
   "source": [
    "import pandas as pd"
   ]
  },
  {
   "cell_type": "code",
   "execution_count": 56,
   "id": "a5e3b74b",
   "metadata": {},
   "outputs": [],
   "source": [
    "ch50 = pd.read_table(\"ch50_choose\", sep=\"\\t\", header=0)"
   ]
  },
  {
   "cell_type": "code",
   "execution_count": 57,
   "id": "6b670ebf",
   "metadata": {},
   "outputs": [],
   "source": [
    "ch50[\"my_pca_linermodel\"] = y_pre"
   ]
  },
  {
   "cell_type": "code",
   "execution_count": 72,
   "id": "82177648",
   "metadata": {},
   "outputs": [],
   "source": [
    "ch50.to_csv(\"ch50_liner.tsv\", sep=\"\\t\", header=True)"
   ]
  },
  {
   "cell_type": "code",
   "execution_count": 68,
   "id": "56fe42e1",
   "metadata": {},
   "outputs": [],
   "source": [
    "ch50[\"stra\"] = \"NNNN\""
   ]
  },
  {
   "cell_type": "code",
   "execution_count": 69,
   "id": "5b103338",
   "metadata": {},
   "outputs": [
    {
     "name": "stderr",
     "output_type": "stream",
     "text": [
      "/tmp/ipykernel_594644/584670683.py:1: SettingWithCopyWarning: \n",
      "A value is trying to be set on a copy of a slice from a DataFrame\n",
      "\n",
      "See the caveats in the documentation: https://pandas.pydata.org/pandas-docs/stable/user_guide/indexing.html#returning-a-view-versus-a-copy\n",
      "  ch50[\"stra\"][y_pre<-0.003] = \"end\"\n"
     ]
    }
   ],
   "source": [
    "ch50[\"stra\"][y_pre<-0.003] = \"end\""
   ]
  },
  {
   "cell_type": "code",
   "execution_count": 70,
   "id": "bab7c204",
   "metadata": {},
   "outputs": [
    {
     "name": "stderr",
     "output_type": "stream",
     "text": [
      "/tmp/ipykernel_594644/681559223.py:1: SettingWithCopyWarning: \n",
      "A value is trying to be set on a copy of a slice from a DataFrame\n",
      "\n",
      "See the caveats in the documentation: https://pandas.pydata.org/pandas-docs/stable/user_guide/indexing.html#returning-a-view-versus-a-copy\n",
      "  ch50[\"stra\"][y_pre>0.005] = \"start\"\n"
     ]
    }
   ],
   "source": [
    "ch50[\"stra\"][y_pre>0.005] = \"start\""
   ]
  },
  {
   "cell_type": "code",
   "execution_count": 78,
   "id": "e1767f74",
   "metadata": {},
   "outputs": [
    {
     "data": {
      "text/plain": [
       "9     50\n",
       "10    35\n",
       "13    22\n",
       "11     8\n",
       "14     7\n",
       "Name: hour, dtype: int64"
      ]
     },
     "execution_count": 78,
     "metadata": {},
     "output_type": "execute_result"
    }
   ],
   "source": [
    "ch50[ch50[\"stra\"] == \"start\"][\"hour\"].value_counts()"
   ]
  },
  {
   "cell_type": "markdown",
   "id": "8bd596b4",
   "metadata": {},
   "source": [
    "测试数据"
   ]
  },
  {
   "cell_type": "code",
   "execution_count": 91,
   "id": "e7780e36",
   "metadata": {},
   "outputs": [],
   "source": [
    "x_test = np.load(\"sh510050_test.npy\")\n",
    "x_test_normal = normal_by_row(x_test)\n",
    "x_test_vol = np.load(\"sh510050_test_vol.npy\")\n",
    "x_test_normal_vol = normal_by_row_log(x_test_vol)/5\n",
    "x_test_normal_sample = x_test_normal[::, choose]\n",
    "x_test_normal_vol_sample = x_test_normal_vol[::, choose]\n",
    "merge_test = np.concatenate((x_test_normal_sample, x_test_normal_vol_sample), axis=1)"
   ]
  },
  {
   "cell_type": "markdown",
   "id": "ebb63d71",
   "metadata": {},
   "source": [
    "PCA"
   ]
  },
  {
   "cell_type": "code",
   "execution_count": 99,
   "id": "ee5b4ff6",
   "metadata": {},
   "outputs": [],
   "source": [
    "test_pca = X_rpca.transform(merge_test)"
   ]
  },
  {
   "cell_type": "code",
   "execution_count": 94,
   "id": "d6a8e88e",
   "metadata": {},
   "outputs": [
    {
     "data": {
      "text/plain": [
       "array([[ 4.68378737e-01, -6.75950100e-02,  1.78791282e-04, ...,\n",
       "        -7.49557495e-05,  6.86979225e-05,  1.04570507e-05],\n",
       "       [ 4.66601965e-01, -7.05579400e-02, -6.25966520e-03, ...,\n",
       "         2.13891348e-04, -2.51563693e-04, -1.27532505e-04],\n",
       "       [ 4.71864904e-01, -6.33747116e-02, -1.01568734e-02, ...,\n",
       "         3.32393348e-04,  1.22564727e-05,  1.13017748e-04],\n",
       "       ...,\n",
       "       [-3.55408516e-01, -5.74097426e-02,  3.15679847e-02, ...,\n",
       "         1.58340019e-04, -1.12594607e-04, -9.60561764e-07],\n",
       "       [-3.58606698e-01, -5.96576411e-02,  3.59035297e-02, ...,\n",
       "         5.63649600e-05,  8.69890197e-05,  2.60781050e-05],\n",
       "       [-3.64763646e-01, -6.22313958e-02,  4.00794572e-02, ...,\n",
       "        -1.73868440e-04, -3.34489512e-06, -3.26656227e-05]])"
      ]
     },
     "execution_count": 94,
     "metadata": {},
     "output_type": "execute_result"
    }
   ],
   "source": [
    "test_pca"
   ]
  },
  {
   "cell_type": "code",
   "execution_count": 95,
   "id": "b3bc9211",
   "metadata": {},
   "outputs": [],
   "source": [
    "pct_change_test = np.load(\"sh510050_pct_change_test.npy\")"
   ]
  },
  {
   "cell_type": "code",
   "execution_count": 100,
   "id": "b1ee46af",
   "metadata": {},
   "outputs": [
    {
     "data": {
      "text/plain": [
       "4570"
      ]
     },
     "execution_count": 100,
     "metadata": {},
     "output_type": "execute_result"
    }
   ],
   "source": [
    "len(test_pca)"
   ]
  },
  {
   "cell_type": "code",
   "execution_count": 101,
   "id": "8be64669",
   "metadata": {},
   "outputs": [
    {
     "name": "stdout",
     "output_type": "stream",
     "text": [
      "0 (-0.07390420509972977, 5.687736208111391e-07)\n",
      "1 (0.08237799208356646, 2.4490531679598452e-08)\n",
      "2 (-0.018607955342081543, 0.20850187122298347)\n",
      "3 (-0.05486248731460648, 0.0002067836449043142)\n",
      "4 (0.09125032826643414, 6.414518044738184e-10)\n",
      "5 (-0.06549492113801793, 9.374503088603102e-06)\n",
      "6 (0.05705473560600015, 0.0001138100649431102)\n",
      "7 (0.022841774920625574, 0.12260685709912364)\n",
      "8 (-0.012140704000962647, 0.41190898444499163)\n",
      "9 (0.03906619205003099, 0.008260569603529779)\n",
      "10 (0.021255585062109044, 0.15080766099677695)\n",
      "11 (-0.0004785352711537945, 0.9742001241049517)\n",
      "12 (0.02701515919318683, 0.06783423862708651)\n",
      "13 (0.09481114438208604, 1.3439032894269488e-10)\n",
      "14 (0.031008132748594208, 0.03607018185832214)\n",
      "15 (-0.027129948518488104, 0.06667351768937281)\n",
      "16 (-0.014531855213216, 0.3260198838097447)\n",
      "17 (-0.04831697524337221, 0.001085678055975091)\n",
      "18 (0.08662021807179034, 4.488497214047134e-09)\n",
      "19 (-0.037002880858471976, 0.012362206482069975)\n",
      "20 (-0.012125230182729084, 0.4125052082408222)\n",
      "21 (0.133133969436394, 1.5972682019802082e-19)\n",
      "22 (0.0022597305169307614, 0.8786189302638113)\n",
      "23 (0.0025933152259783234, 0.8608713732552938)\n",
      "24 (-0.12813644557271192, 3.445510866053071e-18)\n",
      "25 (0.22543213388865854, 9.5896534079281e-54)\n",
      "26 (0.30530292189753305, 3.4032484855505495e-99)\n",
      "27 (-0.11680987524503045, 2.3461509707042338e-15)\n",
      "28 (0.10076159587224842, 8.6599894052582e-12)\n",
      "29 (0.049767431567169305, 0.0007639624668333841)\n"
     ]
    }
   ],
   "source": [
    "for p in range(30):\n",
    "    pct_changec = pct_change_test[::,0]\n",
    "    pca = test_pca[:, p]\n",
    "    a = pearsonr(pct_changec, pca)\n",
    "    print(p, a)"
   ]
  },
  {
   "cell_type": "code",
   "execution_count": 109,
   "id": "12bb29cd",
   "metadata": {},
   "outputs": [
    {
     "data": {
      "image/png": "[encoded data removed]",
      "text/plain": [
       "<Figure size 720x432 with 1 Axes>"
      ]
     },
     "metadata": {
      "needs_background": "light"
     },
     "output_type": "display_data"
    }
   ],
   "source": [
    "\n",
    "plt.figure(figsize=(10, 6))\n",
    "\n",
    "# colors = np.stack((np.linspace(1, 0, len(color_d)), np.linspace(0, 1, len(color_d)), np.zeros(len(color_d))), axis=1)\n",
    "# cmap = ListedColormap(colors)\n",
    "plt.scatter(test_pca[::, 25], test_pca[::,26], c=pct_change_test[::,2], alpha=0.5,  label='Original Data')\n",
    "plt.show()"
   ]
  },
  {
   "cell_type": "code",
   "execution_count": null,
   "id": "71126def",
   "metadata": {},
   "outputs": [],
   "source": []
  }
 ],
 "metadata": {
  "kernelspec": {
   "display_name": "Python 3 (ipykernel)",
   "language": "python",
   "name": "python3"
  },
  "language_info": {
   "codemirror_mode": {
    "name": "ipython",
    "version": 3
   },
   "file_extension": ".py",
   "mimetype": "text/x-python",
   "name": "python",
   "nbconvert_exporter": "python",
   "pygments_lexer": "ipython3",
   "version": "3.10.9"
  }
 },
 "nbformat": 4,
 "nbformat_minor": 5
}
