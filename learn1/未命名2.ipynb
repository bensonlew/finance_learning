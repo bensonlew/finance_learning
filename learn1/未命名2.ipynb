{
 "cells": [
  {
   "cell_type": "code",
   "execution_count": 4,
   "id": "ac2b9099",
   "metadata": {},
   "outputs": [],
   "source": [
    "import numpy as np\n",
    "import pandas as pd"
   ]
  },
  {
   "cell_type": "code",
   "execution_count": 7,
   "id": "9ea7e14e",
   "metadata": {},
   "outputs": [],
   "source": [
    "rn = np.random.choice([1,2,3,4,5], size=100,replace=True, p=[0.1,0.1,0.1,0.2,0.5])"
   ]
  },
  {
   "cell_type": "code",
   "execution_count": 8,
   "id": "57c5cd10",
   "metadata": {},
   "outputs": [
    {
     "data": {
      "text/plain": [
       "array([5, 5, 2, 5, 2, 4, 5, 5, 5, 5, 5, 5, 2, 4, 5, 3, 3, 5, 5, 5, 1, 5,\n",
       "       5, 5, 4, 5, 1, 4, 5, 5, 1, 1, 5, 4, 2, 5, 5, 5, 1, 5, 5, 5, 4, 3,\n",
       "       5, 4, 3, 5, 4, 5, 5, 1, 3, 4, 4, 1, 5, 4, 5, 5, 2, 5, 5, 5, 1, 5,\n",
       "       5, 5, 5, 1, 3, 5, 5, 5, 3, 1, 1, 3, 5, 2, 2, 5, 5, 4, 1, 5, 5, 1,\n",
       "       5, 5, 5, 4, 5, 5, 5, 5, 3, 1, 5, 4])"
      ]
     },
     "execution_count": 8,
     "metadata": {},
     "output_type": "execute_result"
    }
   ],
   "source": [
    "rn"
   ]
  },
  {
   "cell_type": "code",
   "execution_count": 9,
   "id": "d89b8734",
   "metadata": {},
   "outputs": [
    {
     "ename": "AttributeError",
     "evalue": "'numpy.ndarray' object has no attribute 'counts'",
     "output_type": "error",
     "traceback": [
      "\u001b[0;31m---------------------------------------------------------------------------\u001b[0m",
      "\u001b[0;31mAttributeError\u001b[0m                            Traceback (most recent call last)",
      "\u001b[0;32m/tmp/ipykernel_1533068/3304863862.py\u001b[0m in \u001b[0;36m<module>\u001b[0;34m\u001b[0m\n\u001b[0;32m----> 1\u001b[0;31m \u001b[0mrn\u001b[0m\u001b[0;34m.\u001b[0m\u001b[0mcounts\u001b[0m\u001b[0;34m(\u001b[0m\u001b[0;34m)\u001b[0m\u001b[0;34m\u001b[0m\u001b[0;34m\u001b[0m\u001b[0m\n\u001b[0m",
      "\u001b[0;31mAttributeError\u001b[0m: 'numpy.ndarray' object has no attribute 'counts'"
     ]
    }
   ],
   "source": [
    "rn.counts()"
   ]
  },
  {
   "cell_type": "code",
   "execution_count": 10,
   "id": "0cb24d05",
   "metadata": {},
   "outputs": [
    {
     "data": {
      "text/plain": [
       "391"
      ]
     },
     "execution_count": 10,
     "metadata": {},
     "output_type": "execute_result"
    }
   ],
   "source": [
    "rn.sum()"
   ]
  },
  {
   "cell_type": "code",
   "execution_count": 11,
   "id": "4d1090d7",
   "metadata": {},
   "outputs": [
    {
     "data": {
      "text/plain": [
       "5    56\n",
       "4    14\n",
       "1    14\n",
       "3     9\n",
       "2     7\n",
       "dtype: int64"
      ]
     },
     "execution_count": 11,
     "metadata": {},
     "output_type": "execute_result"
    }
   ],
   "source": [
    "pd.Series(rn).value_counts()"
   ]
  },
  {
   "cell_type": "code",
   "execution_count": null,
   "id": "889dbf38",
   "metadata": {},
   "outputs": [],
   "source": []
  }
 ],
 "metadata": {
  "kernelspec": {
   "display_name": "Python 3 (ipykernel)",
   "language": "python",
   "name": "python3"
  },
  "language_info": {
   "codemirror_mode": {
    "name": "ipython",
    "version": 3
   },
   "file_extension": ".py",
   "mimetype": "text/x-python",
   "name": "python",
   "nbconvert_exporter": "python",
   "pygments_lexer": "ipython3",
   "version": "3.8.10"
  }
 },
 "nbformat": 4,
 "nbformat_minor": 5
}
