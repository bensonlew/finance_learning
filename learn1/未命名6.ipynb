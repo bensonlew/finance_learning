{
 "cells": [
  {
   "cell_type": "code",
   "execution_count": 4,
   "id": "21d12dee",
   "metadata": {},
   "outputs": [
    {
     "data": {
      "text/plain": [
       "(-0.00047176309784276285,\n",
       " 3.6223520592722487,\n",
       " -0.9740117365096579,\n",
       " 7.757258690839125e-05,\n",
       " 7.757258690839125e-05)"
      ]
     },
     "execution_count": 4,
     "metadata": {},
     "output_type": "execute_result"
    }
   ],
   "source": [
    "import numpy as np\n",
    "from scipy.stats import linregress\n",
    "\n",
    "def filter_inner_point(x, y, type=\"high\", ):\n",
    "\n",
    "    # 创建示例数据，包括一些离群点\n",
    "    x = np.array([257, 338, 383, 432])\n",
    "    y = np.array([3.5074060161733716,\n",
    "       3.451918327324657,\n",
    "       3.440236708619665,\n",
    "       3.424661217013005])\n",
    "\n",
    "    # 创建 RANSACRegressor 模型\n",
    "    slmax_add, intercmax_add, rmax_add, _, _ = linregress(x, y)\n",
    "    y_line = slmax_add * x + intercmax_add\n",
    "    if type=\"low\":\n",
    "        choose = (y - y_line) /y < 0.001\n",
    "    else:\n",
    "        choose = (y_line - y) /y < 0.001\n",
    "\n",
    "    x_choose = x[choose]\n",
    "    y_choose = y[choose]\n",
    "\n",
    "    linregress(x_choose, y_choose)\n",
    "    return slmax_add, intercmax_add, rmax_add, xchoose, ychoose\n",
    "\n"
   ]
  },
  {
   "cell_type": "code",
   "execution_count": 11,
   "id": "108ce3e7",
   "metadata": {},
   "outputs": [],
   "source": [
    "y_line = slmax_add * x + intercmax_add\n",
    "choose = (y_line - y) /y < 0.001\n"
   ]
  },
  {
   "cell_type": "code",
   "execution_count": 12,
   "id": "d3f095b3",
   "metadata": {},
   "outputs": [],
   "source": [
    "x_choose = x[choose]\n",
    "y_choose = y[choose]"
   ]
  },
  {
   "cell_type": "code",
   "execution_count": 13,
   "id": "99896c8a",
   "metadata": {},
   "outputs": [
    {
     "data": {
      "text/plain": [
       "LinregressResult(slope=-0.000484783274580949, intercept=3.63066387071894, rvalue=-0.995320549196656, pvalue=0.06161153998138388, stderr=4.7063956923120014e-05, intercept_stderr=0.01717161646700929)"
      ]
     },
     "execution_count": 13,
     "metadata": {},
     "output_type": "execute_result"
    }
   ],
   "source": [
    "linregress(x_choose, y_choose)"
   ]
  },
  {
   "cell_type": "code",
   "execution_count": 1,
   "id": "28205852",
   "metadata": {},
   "outputs": [
    {
     "ename": "NameError",
     "evalue": "name 'model' is not defined",
     "output_type": "error",
     "traceback": [
      "\u001b[0;31m---------------------------------------------------------------------------\u001b[0m",
      "\u001b[0;31mNameError\u001b[0m                                 Traceback (most recent call last)",
      "Cell \u001b[0;32mIn[1], line 2\u001b[0m\n\u001b[1;32m      1\u001b[0m \u001b[38;5;66;03m# 拟合模型\u001b[39;00m\n\u001b[0;32m----> 2\u001b[0m \u001b[43mmodel\u001b[49m\u001b[38;5;241m.\u001b[39mfit(x\u001b[38;5;241m.\u001b[39mreshape(\u001b[38;5;241m-\u001b[39m\u001b[38;5;241m1\u001b[39m, \u001b[38;5;241m1\u001b[39m), y)\n\u001b[1;32m      4\u001b[0m \u001b[38;5;66;03m# 获取内点，即被模型接受的数据点\u001b[39;00m\n\u001b[1;32m      5\u001b[0m \n\u001b[1;32m      6\u001b[0m \u001b[38;5;66;03m# 计算每个数据点到拟合直线的垂直距离\u001b[39;00m\n\u001b[1;32m      7\u001b[0m vertical_distances \u001b[38;5;241m=\u001b[39m np\u001b[38;5;241m.\u001b[39mabs(model\u001b[38;5;241m.\u001b[39mpredict(x\u001b[38;5;241m.\u001b[39mreshape(\u001b[38;5;241m-\u001b[39m\u001b[38;5;241m1\u001b[39m, \u001b[38;5;241m1\u001b[39m)) \u001b[38;5;241m-\u001b[39m y)\n",
      "\u001b[0;31mNameError\u001b[0m: name 'model' is not defined"
     ]
    }
   ],
   "source": [
    "# 拟合模型\n",
    "model.fit(x.reshape(-1, 1), y)\n",
    "\n",
    "# 获取内点，即被模型接受的数据点\n",
    "\n",
    "# 计算每个数据点到拟合直线的垂直距离\n",
    "vertical_distances = np.abs(model.predict(x.reshape(-1, 1)) - y)\n",
    "\n",
    "# 设置垂直距离的阈值，根据需要调整\n",
    "distance_threshold = 5.0\n",
    "\n",
    "# 根据阈值筛选内点\n",
    "filtered_inlier_mask = (vertical_distances <= distance_threshold)\n",
    "\n",
    "# 预测值\n",
    "y_pred = model.predict(x.reshape(-1, 1))\n",
    "\n",
    "# 绘制原始数据、内点和拟合直线\n",
    "plt.scatter(x[filtered_inlier_mask], y[filtered_inlier_mask], label='内点', color='blue')\n",
    "plt.plot(x, y_pred, color='green', linewidth=2, label='拟合直线')\n",
    "plt.legend()\n",
    "plt.xlabel('X轴')\n",
    "plt.ylabel('Y轴')\n",
    "plt.title('RANSAC 线性回归')\n",
    "plt.show()\n"
   ]
  },
  {
   "cell_type": "code",
   "execution_count": null,
   "id": "46c906b2",
   "metadata": {},
   "outputs": [],
   "source": []
  }
 ],
 "metadata": {
  "kernelspec": {
   "display_name": "Python 3 (ipykernel)",
   "language": "python",
   "name": "python3"
  },
  "language_info": {
   "codemirror_mode": {
    "name": "ipython",
    "version": 3
   },
   "file_extension": ".py",
   "mimetype": "text/x-python",
   "name": "python",
   "nbconvert_exporter": "python",
   "pygments_lexer": "ipython3",
   "version": "3.8.16"
  }
 },
 "nbformat": 4,
 "nbformat_minor": 5
}
