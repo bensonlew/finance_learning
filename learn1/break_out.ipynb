{
 "cells": [
  {
   "cell_type": "code",
   "execution_count": 9,
   "id": "071c68fd",
   "metadata": {},
   "outputs": [],
   "source": [
    "def detect_structure(candle, backcandles, window): \n",
    "    '''\n",
    "    Attention! window should always be greater than the pivot window! to avoid look ahead bias ..N\n",
    "    '''\n",
    "    df = []\n",
    "    if(candle <= (backcandles+window)) or ((candle+window +1) >= len(df)): \n",
    "        return θ\n",
    "    localdf = df.iloc[candle-backcandles-window:candle-window] #window must be greater than pivot window to avoid 1ook ahead \n",
    "    highs = localdf[localdf['isPivot'] ==1].high.tail(3).values\n",
    "    lows=localdf[localdf['isPivot'] ==2].low.tail(3).values \n",
    "    levelbreak=0\n",
    "    zone_width=0.001 \n",
    "    if len(lows)==3:\n",
    "        support_condition=True \n",
    "        mean_low=lows.mean() \n",
    "        for low in lows:\n",
    "            if abs(low-mean_low)>zone_width:\n",
    "                support_condition=False\n",
    "                break\n",
    "            if support_condition and (mean_low - df.loc[candle].close)>zone_width*2:\n",
    "                levelbreak=1\n",
    "    if len(highs)==3:\n",
    "        resistance_condition = True \n",
    "        mean_high = highs.mean() \n",
    "        for high in highs:\n",
    "            if abs(high - mean_high) >zone_width:\n",
    "                resistance_condition=False \n",
    "                break\n",
    "\n",
    "        if resistance_condition and (df.loc[candle].close-mean_high)>zone_width*2:\n",
    "            levelbreak=2\n",
    "    return levelbreak \n",
    "\n",
    "\n",
    "\n"
   ]
  },
  {
   "cell_type": "code",
   "execution_count": null,
   "id": "c99a1807",
   "metadata": {},
   "outputs": [],
   "source": []
  }
 ],
 "metadata": {
  "kernelspec": {
   "display_name": "Python 3 (ipykernel)",
   "language": "python",
   "name": "python3"
  },
  "language_info": {
   "codemirror_mode": {
    "name": "ipython",
    "version": 3
   },
   "file_extension": ".py",
   "mimetype": "text/x-python",
   "name": "python",
   "nbconvert_exporter": "python",
   "pygments_lexer": "ipython3",
   "version": "3.8.16"
  }
 },
 "nbformat": 4,
 "nbformat_minor": 5
}
