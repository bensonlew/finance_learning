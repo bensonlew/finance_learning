{
 "cells": [
  {
   "cell_type": "code",
   "execution_count": 2,
   "id": "a88801c0",
   "metadata": {},
   "outputs": [],
   "source": [
    "import pandas as pd\n",
    "import matplotlib.pyplot as plt\n",
    "# import akshare as ak\n",
    "import datetime\n",
    "import glob\n",
    "import numpy as np"
   ]
  },
  {
   "cell_type": "code",
   "execution_count": 3,
   "id": "12ce6e8a",
   "metadata": {},
   "outputs": [],
   "source": [
    "a = np.array([1,2,3,4])\n"
   ]
  },
  {
   "cell_type": "code",
   "execution_count": 6,
   "id": "a76e3f93",
   "metadata": {},
   "outputs": [],
   "source": [
    "a = pd.DataFrame(a)"
   ]
  },
  {
   "cell_type": "code",
   "execution_count": 8,
   "id": "21ccd37a",
   "metadata": {},
   "outputs": [
    {
     "data": {
      "text/html": [
       "<div>\n",
       "<style scoped>\n",
       "    .dataframe tbody tr th:only-of-type {\n",
       "        vertical-align: middle;\n",
       "    }\n",
       "\n",
       "    .dataframe tbody tr th {\n",
       "        vertical-align: top;\n",
       "    }\n",
       "\n",
       "    .dataframe thead th {\n",
       "        text-align: right;\n",
       "    }\n",
       "</style>\n",
       "<table border=\"1\" class=\"dataframe\">\n",
       "  <thead>\n",
       "    <tr style=\"text-align: right;\">\n",
       "      <th></th>\n",
       "      <th>0</th>\n",
       "    </tr>\n",
       "  </thead>\n",
       "  <tbody>\n",
       "    <tr>\n",
       "      <th>0</th>\n",
       "      <td>NaN</td>\n",
       "    </tr>\n",
       "    <tr>\n",
       "      <th>1</th>\n",
       "      <td>NaN</td>\n",
       "    </tr>\n",
       "    <tr>\n",
       "      <th>2</th>\n",
       "      <td>1.0</td>\n",
       "    </tr>\n",
       "    <tr>\n",
       "      <th>3</th>\n",
       "      <td>2.0</td>\n",
       "    </tr>\n",
       "  </tbody>\n",
       "</table>\n",
       "</div>"
      ],
      "text/plain": [
       "     0\n",
       "0  NaN\n",
       "1  NaN\n",
       "2  1.0\n",
       "3  2.0"
      ]
     },
     "execution_count": 8,
     "metadata": {},
     "output_type": "execute_result"
    }
   ],
   "source": [
    "a.shift(2)"
   ]
  },
  {
   "cell_type": "code",
   "execution_count": 3,
   "id": "fb471bbc",
   "metadata": {},
   "outputs": [],
   "source": [
    "def get_data(index=\"sh510050\"):\n",
    "    sh50_files = sorted(glob.glob(\"../sh_index_data_tdq/{}_*.tsv\".format(index)))\n",
    "\n",
    "    sh50_pd = pd.read_table(sh50_files[0], header=0, index_col=0,parse_dates=[\"day\"])\n",
    "    for f in sh50_files[1:]:\n",
    "        add_pd = pd.read_table(f, header=0, index_col=0,parse_dates=[\"day\"])\n",
    "        add_pd = add_pd[add_pd[\"day\"] > list(sh50_pd[\"day\"])[-1]] \n",
    "        sh50_pd = sh50_pd.append(add_pd)\n",
    "        \n",
    "    if index == \"sh512100\":\n",
    "        sh50_pd.loc[sh50_pd[\"datetime\"].map(str) <\"2022-09-05\", \"close\"] *= 2.6895\n",
    "\n",
    "    sh50_pd.reset_index(drop=True, inplace=True)\n",
    "    sh50_pd[\"close_yes\"] = sh50_pd[\"close\"].shift()\n",
    "    sh50_pd = sh50_pd[sh50_pd[\"datetime\"].map(str) > \"2021-03-18\"]\n",
    "    return sh50_pd"
   ]
  },
  {
   "cell_type": "code",
   "execution_count": 9,
   "id": "95b0619c",
   "metadata": {},
   "outputs": [
    {
     "data": {
      "text/html": [
       "<div>\n",
       "<style scoped>\n",
       "    .dataframe tbody tr th:only-of-type {\n",
       "        vertical-align: middle;\n",
       "    }\n",
       "\n",
       "    .dataframe tbody tr th {\n",
       "        vertical-align: top;\n",
       "    }\n",
       "\n",
       "    .dataframe thead th {\n",
       "        text-align: right;\n",
       "    }\n",
       "</style>\n",
       "<table border=\"1\" class=\"dataframe\">\n",
       "  <thead>\n",
       "    <tr style=\"text-align: right;\">\n",
       "      <th></th>\n",
       "      <th>0</th>\n",
       "    </tr>\n",
       "  </thead>\n",
       "  <tbody>\n",
       "    <tr>\n",
       "      <th>0</th>\n",
       "      <td>1</td>\n",
       "    </tr>\n",
       "    <tr>\n",
       "      <th>2</th>\n",
       "      <td>3</td>\n",
       "    </tr>\n",
       "  </tbody>\n",
       "</table>\n",
       "</div>"
      ],
      "text/plain": [
       "   0\n",
       "0  1\n",
       "2  3"
      ]
     },
     "execution_count": 9,
     "metadata": {},
     "output_type": "execute_result"
    }
   ],
   "source": [
    "a[::2]"
   ]
  },
  {
   "cell_type": "code",
   "execution_count": 4,
   "id": "cec26790",
   "metadata": {},
   "outputs": [],
   "source": [
    "sh50_pd = get_data()"
   ]
  },
  {
   "cell_type": "code",
   "execution_count": 7,
   "id": "cc445854",
   "metadata": {},
   "outputs": [],
   "source": [
    "sh50_pd[\"mean5\"] = sh50_pd[\"close\"].rolling(5, min_periods=1).mean()"
   ]
  },
  {
   "cell_type": "code",
   "execution_count": 8,
   "id": "c2bebd29",
   "metadata": {},
   "outputs": [
    {
     "data": {
      "text/html": [
       "<div>\n",
       "<style scoped>\n",
       "    .dataframe tbody tr th:only-of-type {\n",
       "        vertical-align: middle;\n",
       "    }\n",
       "\n",
       "    .dataframe tbody tr th {\n",
       "        vertical-align: top;\n",
       "    }\n",
       "\n",
       "    .dataframe thead th {\n",
       "        text-align: right;\n",
       "    }\n",
       "</style>\n",
       "<table border=\"1\" class=\"dataframe\">\n",
       "  <thead>\n",
       "    <tr style=\"text-align: right;\">\n",
       "      <th></th>\n",
       "      <th>open</th>\n",
       "      <th>close</th>\n",
       "      <th>high</th>\n",
       "      <th>low</th>\n",
       "      <th>vol</th>\n",
       "      <th>amount</th>\n",
       "      <th>year</th>\n",
       "      <th>month</th>\n",
       "      <th>day</th>\n",
       "      <th>hour</th>\n",
       "      <th>minute</th>\n",
       "      <th>datetime</th>\n",
       "      <th>close_yes</th>\n",
       "      <th>mean5</th>\n",
       "    </tr>\n",
       "  </thead>\n",
       "  <tbody>\n",
       "    <tr>\n",
       "      <th>240</th>\n",
       "      <td>3.580</td>\n",
       "      <td>3.589</td>\n",
       "      <td>3.598</td>\n",
       "      <td>3.580</td>\n",
       "      <td>27276800.0</td>\n",
       "      <td>97960312.0</td>\n",
       "      <td>2021</td>\n",
       "      <td>3</td>\n",
       "      <td>18</td>\n",
       "      <td>9</td>\n",
       "      <td>35</td>\n",
       "      <td>2021-03-18 09:35</td>\n",
       "      <td>3.576</td>\n",
       "      <td>3.589000</td>\n",
       "    </tr>\n",
       "    <tr>\n",
       "      <th>241</th>\n",
       "      <td>3.588</td>\n",
       "      <td>3.593</td>\n",
       "      <td>3.599</td>\n",
       "      <td>3.588</td>\n",
       "      <td>19561000.0</td>\n",
       "      <td>70313608.0</td>\n",
       "      <td>2021</td>\n",
       "      <td>3</td>\n",
       "      <td>18</td>\n",
       "      <td>9</td>\n",
       "      <td>40</td>\n",
       "      <td>2021-03-18 09:40</td>\n",
       "      <td>3.589</td>\n",
       "      <td>3.591000</td>\n",
       "    </tr>\n",
       "    <tr>\n",
       "      <th>242</th>\n",
       "      <td>3.593</td>\n",
       "      <td>3.587</td>\n",
       "      <td>3.595</td>\n",
       "      <td>3.583</td>\n",
       "      <td>9604000.0</td>\n",
       "      <td>34471792.0</td>\n",
       "      <td>2021</td>\n",
       "      <td>3</td>\n",
       "      <td>18</td>\n",
       "      <td>9</td>\n",
       "      <td>45</td>\n",
       "      <td>2021-03-18 09:45</td>\n",
       "      <td>3.593</td>\n",
       "      <td>3.589667</td>\n",
       "    </tr>\n",
       "    <tr>\n",
       "      <th>243</th>\n",
       "      <td>3.586</td>\n",
       "      <td>3.596</td>\n",
       "      <td>3.597</td>\n",
       "      <td>3.585</td>\n",
       "      <td>11333100.0</td>\n",
       "      <td>40702032.0</td>\n",
       "      <td>2021</td>\n",
       "      <td>3</td>\n",
       "      <td>18</td>\n",
       "      <td>9</td>\n",
       "      <td>50</td>\n",
       "      <td>2021-03-18 09:50</td>\n",
       "      <td>3.587</td>\n",
       "      <td>3.591250</td>\n",
       "    </tr>\n",
       "    <tr>\n",
       "      <th>244</th>\n",
       "      <td>3.596</td>\n",
       "      <td>3.595</td>\n",
       "      <td>3.597</td>\n",
       "      <td>3.592</td>\n",
       "      <td>8044000.0</td>\n",
       "      <td>28912864.0</td>\n",
       "      <td>2021</td>\n",
       "      <td>3</td>\n",
       "      <td>18</td>\n",
       "      <td>9</td>\n",
       "      <td>55</td>\n",
       "      <td>2021-03-18 09:55</td>\n",
       "      <td>3.596</td>\n",
       "      <td>3.592000</td>\n",
       "    </tr>\n",
       "    <tr>\n",
       "      <th>...</th>\n",
       "      <td>...</td>\n",
       "      <td>...</td>\n",
       "      <td>...</td>\n",
       "      <td>...</td>\n",
       "      <td>...</td>\n",
       "      <td>...</td>\n",
       "      <td>...</td>\n",
       "      <td>...</td>\n",
       "      <td>...</td>\n",
       "      <td>...</td>\n",
       "      <td>...</td>\n",
       "      <td>...</td>\n",
       "      <td>...</td>\n",
       "      <td>...</td>\n",
       "    </tr>\n",
       "    <tr>\n",
       "      <th>23563</th>\n",
       "      <td>2.630</td>\n",
       "      <td>2.632</td>\n",
       "      <td>2.632</td>\n",
       "      <td>2.626</td>\n",
       "      <td>16558900.0</td>\n",
       "      <td>43544520.0</td>\n",
       "      <td>2023</td>\n",
       "      <td>3</td>\n",
       "      <td>17</td>\n",
       "      <td>14</td>\n",
       "      <td>40</td>\n",
       "      <td>2023-03-17 14:40</td>\n",
       "      <td>2.630</td>\n",
       "      <td>2.631400</td>\n",
       "    </tr>\n",
       "    <tr>\n",
       "      <th>23564</th>\n",
       "      <td>2.632</td>\n",
       "      <td>2.632</td>\n",
       "      <td>2.634</td>\n",
       "      <td>2.631</td>\n",
       "      <td>12506800.0</td>\n",
       "      <td>32918140.0</td>\n",
       "      <td>2023</td>\n",
       "      <td>3</td>\n",
       "      <td>17</td>\n",
       "      <td>14</td>\n",
       "      <td>45</td>\n",
       "      <td>2023-03-17 14:45</td>\n",
       "      <td>2.632</td>\n",
       "      <td>2.630800</td>\n",
       "    </tr>\n",
       "    <tr>\n",
       "      <th>23565</th>\n",
       "      <td>2.633</td>\n",
       "      <td>2.635</td>\n",
       "      <td>2.636</td>\n",
       "      <td>2.632</td>\n",
       "      <td>10827300.0</td>\n",
       "      <td>28514916.0</td>\n",
       "      <td>2023</td>\n",
       "      <td>3</td>\n",
       "      <td>17</td>\n",
       "      <td>14</td>\n",
       "      <td>50</td>\n",
       "      <td>2023-03-17 14:50</td>\n",
       "      <td>2.632</td>\n",
       "      <td>2.631600</td>\n",
       "    </tr>\n",
       "    <tr>\n",
       "      <th>23566</th>\n",
       "      <td>2.635</td>\n",
       "      <td>2.638</td>\n",
       "      <td>2.638</td>\n",
       "      <td>2.634</td>\n",
       "      <td>17295600.0</td>\n",
       "      <td>45572832.0</td>\n",
       "      <td>2023</td>\n",
       "      <td>3</td>\n",
       "      <td>17</td>\n",
       "      <td>14</td>\n",
       "      <td>55</td>\n",
       "      <td>2023-03-17 14:55</td>\n",
       "      <td>2.635</td>\n",
       "      <td>2.633400</td>\n",
       "    </tr>\n",
       "    <tr>\n",
       "      <th>23567</th>\n",
       "      <td>2.638</td>\n",
       "      <td>2.637</td>\n",
       "      <td>2.639</td>\n",
       "      <td>2.636</td>\n",
       "      <td>19998200.0</td>\n",
       "      <td>52745888.0</td>\n",
       "      <td>2023</td>\n",
       "      <td>3</td>\n",
       "      <td>17</td>\n",
       "      <td>15</td>\n",
       "      <td>0</td>\n",
       "      <td>2023-03-17 15:00</td>\n",
       "      <td>2.638</td>\n",
       "      <td>2.634800</td>\n",
       "    </tr>\n",
       "  </tbody>\n",
       "</table>\n",
       "<p>23328 rows × 14 columns</p>\n",
       "</div>"
      ],
      "text/plain": [
       "        open  close   high    low         vol      amount  year  month day  \\\n",
       "240    3.580  3.589  3.598  3.580  27276800.0  97960312.0  2021      3  18   \n",
       "241    3.588  3.593  3.599  3.588  19561000.0  70313608.0  2021      3  18   \n",
       "242    3.593  3.587  3.595  3.583   9604000.0  34471792.0  2021      3  18   \n",
       "243    3.586  3.596  3.597  3.585  11333100.0  40702032.0  2021      3  18   \n",
       "244    3.596  3.595  3.597  3.592   8044000.0  28912864.0  2021      3  18   \n",
       "...      ...    ...    ...    ...         ...         ...   ...    ...  ..   \n",
       "23563  2.630  2.632  2.632  2.626  16558900.0  43544520.0  2023      3  17   \n",
       "23564  2.632  2.632  2.634  2.631  12506800.0  32918140.0  2023      3  17   \n",
       "23565  2.633  2.635  2.636  2.632  10827300.0  28514916.0  2023      3  17   \n",
       "23566  2.635  2.638  2.638  2.634  17295600.0  45572832.0  2023      3  17   \n",
       "23567  2.638  2.637  2.639  2.636  19998200.0  52745888.0  2023      3  17   \n",
       "\n",
       "       hour  minute          datetime  close_yes     mean5  \n",
       "240       9      35  2021-03-18 09:35      3.576  3.589000  \n",
       "241       9      40  2021-03-18 09:40      3.589  3.591000  \n",
       "242       9      45  2021-03-18 09:45      3.593  3.589667  \n",
       "243       9      50  2021-03-18 09:50      3.587  3.591250  \n",
       "244       9      55  2021-03-18 09:55      3.596  3.592000  \n",
       "...     ...     ...               ...        ...       ...  \n",
       "23563    14      40  2023-03-17 14:40      2.630  2.631400  \n",
       "23564    14      45  2023-03-17 14:45      2.632  2.630800  \n",
       "23565    14      50  2023-03-17 14:50      2.632  2.631600  \n",
       "23566    14      55  2023-03-17 14:55      2.635  2.633400  \n",
       "23567    15       0  2023-03-17 15:00      2.638  2.634800  \n",
       "\n",
       "[23328 rows x 14 columns]"
      ]
     },
     "execution_count": 8,
     "metadata": {},
     "output_type": "execute_result"
    }
   ],
   "source": [
    "sh50_pd"
   ]
  },
  {
   "cell_type": "code",
   "execution_count": 91,
   "id": "5e448af4",
   "metadata": {},
   "outputs": [],
   "source": [
    "def split_data(stock, lookback): \n",
    "    data_raw=stock.to_numpy() \n",
    "    data=[]\n",
    "    #you can free play(seg_length)\n",
    "    for index in range(len(data_raw)-lookback): \n",
    "        data.append(data_raw[index: index + lookback]) \n",
    "    data=np.array(data)\n",
    "\n",
    "    test_set_size=int(np.round(0.2*data.shape[0])) \n",
    "    train_set_size=data.shape[0]-(test_set_size) \n",
    "    x_train=data[:train_set_size,:-48]\n",
    "\n",
    "    y_train=data[:train_set_size,[-43, -37, -25, -1]]\n",
    "#     y_train12=data[:train_set_size,-37]\n",
    "#     y_train24=data[:train_set_size,-25]\n",
    "#     y_train48=data[:train_set_size,-1]\n",
    "   \n",
    "    x_test=data[train_set_size:,:-48] \n",
    "    y_test=data[train_set_size:,[-43, -37, -25, -1]]\n",
    "\n",
    "    return [x_train,y_train,  x_test,y_test] "
   ]
  },
  {
   "cell_type": "code",
   "execution_count": 92,
   "id": "fc7a5b40",
   "metadata": {},
   "outputs": [],
   "source": [
    "x_train,y_train, x_test,y_test = split_data(sh50_pd[\"mean5\"], 480)"
   ]
  },
  {
   "cell_type": "code",
   "execution_count": 57,
   "id": "0e903cf1",
   "metadata": {},
   "outputs": [
    {
     "data": {
      "text/plain": [
       "array([[3.527 , 3.519 , 3.5184, 3.5242],\n",
       "       [3.5238, 3.5168, 3.5188, 3.5268],\n",
       "       [3.5224, 3.516 , 3.5186, 3.5302],\n",
       "       ...,\n",
       "       [2.434 , 2.4358, 2.4606, 2.4338],\n",
       "       [2.4346, 2.437 , 2.4578, 2.4354],\n",
       "       [2.434 , 2.4398, 2.4552, 2.4346]])"
      ]
     },
     "execution_count": 57,
     "metadata": {},
     "output_type": "execute_result"
    }
   ],
   "source": [
    "y_train"
   ]
  },
  {
   "cell_type": "code",
   "execution_count": 20,
   "id": "37b4bc17",
   "metadata": {},
   "outputs": [],
   "source": [
    "np.save(\"sh510050_train.npy\", x_train)"
   ]
  },
  {
   "cell_type": "code",
   "execution_count": 93,
   "id": "558eafc1",
   "metadata": {},
   "outputs": [],
   "source": [
    "np.save(\"sh510050_test.npy\", x_test)"
   ]
  },
  {
   "cell_type": "code",
   "execution_count": 22,
   "id": "9d17b57e",
   "metadata": {},
   "outputs": [
    {
     "data": {
      "text/plain": [
       "array([[3.589     , 3.591     , 3.58966667, ..., 3.553     , 3.554     ,\n",
       "        3.5558    ],\n",
       "       [3.591     , 3.58966667, 3.59125   , ..., 3.554     , 3.5558    ,\n",
       "        3.554     ],\n",
       "       [3.58966667, 3.59125   , 3.592     , ..., 3.5558    , 3.554     ,\n",
       "        3.5502    ],\n",
       "       ...,\n",
       "       [2.5726    , 2.5712    , 2.5696    , ..., 2.4446    , 2.4434    ,\n",
       "        2.4412    ],\n",
       "       [2.5712    , 2.5696    , 2.5682    , ..., 2.4434    , 2.4412    ,\n",
       "        2.439     ],\n",
       "       [2.5696    , 2.5682    , 2.567     , ..., 2.4412    , 2.439     ,\n",
       "        2.437     ]])"
      ]
     },
     "execution_count": 22,
     "metadata": {},
     "output_type": "execute_result"
    }
   ],
   "source": [
    "x_train"
   ]
  },
  {
   "cell_type": "code",
   "execution_count": 32,
   "id": "50b79606",
   "metadata": {},
   "outputs": [],
   "source": [
    "def normal_by_row(data):\n",
    "\n",
    "    # 计算每列的均值和标准差\n",
    "    mean = np.mean(data, axis=1, keepdims=True)\n",
    "    std = np.std(data, axis=1, keepdims=True)\n",
    "\n",
    "    # 标准化数据\n",
    "    data_standardized = (data - mean) / std\n",
    "    return data_standardized\n",
    "\n"
   ]
  },
  {
   "cell_type": "code",
   "execution_count": 33,
   "id": "12441e12",
   "metadata": {},
   "outputs": [],
   "source": [
    "x_train_nor = normal_by_row(x_train)"
   ]
  },
  {
   "cell_type": "code",
   "execution_count": 30,
   "id": "5bf5a111",
   "metadata": {},
   "outputs": [
    {
     "data": {
      "text/plain": [
       "array([[ 1.07207866, -1.33477928,  0.26270062],\n",
       "       [-0.92124924, -0.46860887,  1.38985811],\n",
       "       [ 1.13892604,  0.15657804, -1.29550407],\n",
       "       [-1.27308629,  1.16987088,  0.10321542],\n",
       "       [-1.41350423,  0.66796623,  0.745538  ]])"
      ]
     },
     "execution_count": 30,
     "metadata": {},
     "output_type": "execute_result"
    }
   ],
   "source": [
    "data_standardized"
   ]
  },
  {
   "cell_type": "code",
   "execution_count": 35,
   "id": "36cc4e2c",
   "metadata": {},
   "outputs": [
    {
     "data": {
      "text/plain": [
       "18278"
      ]
     },
     "execution_count": 35,
     "metadata": {},
     "output_type": "execute_result"
    }
   ],
   "source": [
    "len(x_train_nor)"
   ]
  },
  {
   "cell_type": "code",
   "execution_count": 36,
   "id": "eed801bf",
   "metadata": {},
   "outputs": [
    {
     "data": {
      "text/plain": [
       "18278"
      ]
     },
     "execution_count": 36,
     "metadata": {},
     "output_type": "execute_result"
    }
   ],
   "source": [
    "len(y_train)"
   ]
  },
  {
   "cell_type": "code",
   "execution_count": 59,
   "id": "09e148b7",
   "metadata": {},
   "outputs": [],
   "source": [
    "las = x_train[:, [-1, -1, -1, -1]]"
   ]
  },
  {
   "cell_type": "code",
   "execution_count": 39,
   "id": "6100ee8b",
   "metadata": {},
   "outputs": [
    {
     "data": {
      "text/plain": [
       "array([3.5242, 3.5268, 3.5302, ..., 2.4338, 2.4354, 2.4346])"
      ]
     },
     "execution_count": 39,
     "metadata": {},
     "output_type": "execute_result"
    }
   ],
   "source": [
    "y_train"
   ]
  },
  {
   "cell_type": "code",
   "execution_count": 60,
   "id": "6da794a5",
   "metadata": {},
   "outputs": [],
   "source": [
    "pct_change = (y_train - las)/las"
   ]
  },
  {
   "cell_type": "code",
   "execution_count": 94,
   "id": "b56cbefc",
   "metadata": {},
   "outputs": [],
   "source": [
    "lastest = x_test[:, [-1, -1, -1, -1]]\n",
    "pct_change_test = (y_test - lastest)/lastest"
   ]
  },
  {
   "cell_type": "code",
   "execution_count": 44,
   "id": "a5a51225",
   "metadata": {},
   "outputs": [
    {
     "data": {
      "text/plain": [
       "18278"
      ]
     },
     "execution_count": 44,
     "metadata": {},
     "output_type": "execute_result"
    }
   ],
   "source": [
    "len(pct_change)"
   ]
  },
  {
   "cell_type": "code",
   "execution_count": 46,
   "id": "984485e8",
   "metadata": {},
   "outputs": [
    {
     "data": {
      "text/plain": [
       "0.07034390352836088"
      ]
     },
     "execution_count": 46,
     "metadata": {},
     "output_type": "execute_result"
    }
   ],
   "source": [
    "max(pct_change)"
   ]
  },
  {
   "cell_type": "code",
   "execution_count": 62,
   "id": "b5542459",
   "metadata": {},
   "outputs": [],
   "source": [
    "np.save(\"sh510050_pct_change.npy\", pct_change)"
   ]
  },
  {
   "cell_type": "code",
   "execution_count": 95,
   "id": "5cceffa3",
   "metadata": {},
   "outputs": [],
   "source": [
    "np.save(\"sh510050_pct_change_test.npy\", pct_change_test)"
   ]
  },
  {
   "cell_type": "code",
   "execution_count": 53,
   "id": "dd036ad6",
   "metadata": {},
   "outputs": [
    {
     "ename": "NameError",
     "evalue": "name 'train_set_size' is not defined",
     "output_type": "error",
     "traceback": [
      "\u001b[0;31m---------------------------------------------------------------------------\u001b[0m",
      "\u001b[0;31mNameError\u001b[0m                                 Traceback (most recent call last)",
      "\u001b[0;32m/tmp/ipykernel_302073/1536625905.py\u001b[0m in \u001b[0;36m<module>\u001b[0;34m\u001b[0m\n\u001b[0;32m----> 1\u001b[0;31m \u001b[0my_train\u001b[0m\u001b[0;34m=\u001b[0m\u001b[0mdata\u001b[0m\u001b[0;34m[\u001b[0m\u001b[0;34m:\u001b[0m\u001b[0mtrain_set_size\u001b[0m\u001b[0;34m,\u001b[0m\u001b[0;34m-\u001b[0m\u001b[0;36m42\u001b[0m\u001b[0;34m]\u001b[0m\u001b[0;34m\u001b[0m\u001b[0;34m\u001b[0m\u001b[0m\n\u001b[0m",
      "\u001b[0;31mNameError\u001b[0m: name 'train_set_size' is not defined"
     ]
    }
   ],
   "source": [
    "y_train=data[:train_set_size,-42]"
   ]
  },
  {
   "cell_type": "code",
   "execution_count": 63,
   "id": "5b74e641",
   "metadata": {},
   "outputs": [],
   "source": [
    "def vol_normal(data):\n",
    "    a= np.array(data)\n",
    "    dates = int(len(a)/48)\n",
    "    a = a.reshape(dates, 48)\n",
    "    avg = np.average(a, axis=0)\n",
    "    meana = np.tile(avg, dates)\n",
    "    normal_data = data/meana\n",
    "    return normal_data"
   ]
  },
  {
   "cell_type": "code",
   "execution_count": 64,
   "id": "120b413b",
   "metadata": {},
   "outputs": [],
   "source": [
    "sh50_pd[\"vol_norm\"] = vol_normal(sh50_pd[\"vol\"])"
   ]
  },
  {
   "cell_type": "code",
   "execution_count": 77,
   "id": "1e880c30",
   "metadata": {},
   "outputs": [],
   "source": [
    "sh50_pd[\"vol_norm_mean5\"] = sh50_pd[\"vol_norm\"].rolling(12, min_periods=1).mean()"
   ]
  },
  {
   "cell_type": "code",
   "execution_count": 80,
   "id": "cb93dc5d",
   "metadata": {},
   "outputs": [
    {
     "data": {
      "text/plain": [
       "23328"
      ]
     },
     "execution_count": 80,
     "metadata": {},
     "output_type": "execute_result"
    }
   ],
   "source": [
    "len(sh50_pd)"
   ]
  },
  {
   "cell_type": "code",
   "execution_count": 96,
   "id": "4f0c6008",
   "metadata": {},
   "outputs": [],
   "source": [
    "x_train_vol,y_train_vol, x_test_vol,y_test_vol = split_data(sh50_pd[\"vol_norm_mean5\"], 480)"
   ]
  },
  {
   "cell_type": "code",
   "execution_count": 81,
   "id": "1e2b8d07",
   "metadata": {},
   "outputs": [
    {
     "data": {
      "text/plain": [
       "18278"
      ]
     },
     "execution_count": 81,
     "metadata": {},
     "output_type": "execute_result"
    }
   ],
   "source": [
    "len(x_train_vol)\n"
   ]
  },
  {
   "cell_type": "code",
   "execution_count": 79,
   "id": "5663c556",
   "metadata": {},
   "outputs": [],
   "source": [
    "np.save(\"sh510050_train_vol.npy\", x_train_vol)"
   ]
  },
  {
   "cell_type": "code",
   "execution_count": 97,
   "id": "b5f2bd87",
   "metadata": {},
   "outputs": [],
   "source": [
    "np.save(\"sh510050_test_vol.npy\", x_test_vol)"
   ]
  },
  {
   "cell_type": "code",
   "execution_count": 83,
   "id": "26e2ef09",
   "metadata": {},
   "outputs": [
    {
     "data": {
      "text/plain": [
       "22848"
      ]
     },
     "execution_count": 83,
     "metadata": {},
     "output_type": "execute_result"
    }
   ],
   "source": [
    "18278+ 4570"
   ]
  },
  {
   "cell_type": "code",
   "execution_count": 84,
   "id": "7e46cb1a",
   "metadata": {},
   "outputs": [
    {
     "data": {
      "text/plain": [
       "480"
      ]
     },
     "execution_count": 84,
     "metadata": {},
     "output_type": "execute_result"
    }
   ],
   "source": [
    "23328 - 22848"
   ]
  },
  {
   "cell_type": "code",
   "execution_count": 89,
   "id": "91ca57b1",
   "metadata": {},
   "outputs": [],
   "source": [
    "ch50_pd_choose =  sh50_pd[480:18278 + 480]"
   ]
  },
  {
   "cell_type": "code",
   "execution_count": 90,
   "id": "b23a6287",
   "metadata": {},
   "outputs": [],
   "source": [
    "ch50_pd_choose.to_csv(\"ch50_choose\",  sep=\"\\t\", header=True)"
   ]
  },
  {
   "cell_type": "code",
   "execution_count": null,
   "id": "a789c6b5",
   "metadata": {},
   "outputs": [],
   "source": [
    "lench50_pd_choose"
   ]
  }
 ],
 "metadata": {
  "kernelspec": {
   "display_name": "Python 3 (ipykernel)",
   "language": "python",
   "name": "python3"
  },
  "language_info": {
   "codemirror_mode": {
    "name": "ipython",
    "version": 3
   },
   "file_extension": ".py",
   "mimetype": "text/x-python",
   "name": "python",
   "nbconvert_exporter": "python",
   "pygments_lexer": "ipython3",
   "version": "3.10.9"
  }
 },
 "nbformat": 4,
 "nbformat_minor": 5
}
