{
 "cells": [
  {
   "cell_type": "code",
   "execution_count": 1,
   "id": "c1b165d0",
   "metadata": {},
   "outputs": [],
   "source": [
    "# stats\n",
    "import pandas as pd\n",
    "import matplotlib.pyplot as plt\n",
    "import akshare as ak\n",
    "import datetime"
   ]
  },
  {
   "cell_type": "code",
   "execution_count": 16,
   "id": "531b8c11",
   "metadata": {},
   "outputs": [
    {
     "data": {
      "text/html": [
       "<div>\n",
       "<style scoped>\n",
       "    .dataframe tbody tr th:only-of-type {\n",
       "        vertical-align: middle;\n",
       "    }\n",
       "\n",
       "    .dataframe tbody tr th {\n",
       "        vertical-align: top;\n",
       "    }\n",
       "\n",
       "    .dataframe thead th {\n",
       "        text-align: right;\n",
       "    }\n",
       "</style>\n",
       "<table border=\"1\" class=\"dataframe\">\n",
       "  <thead>\n",
       "    <tr style=\"text-align: right;\">\n",
       "      <th></th>\n",
       "      <th>时间</th>\n",
       "      <th>开盘</th>\n",
       "      <th>收盘</th>\n",
       "      <th>最高</th>\n",
       "      <th>最低</th>\n",
       "      <th>涨跌幅</th>\n",
       "      <th>涨跌额</th>\n",
       "      <th>成交量</th>\n",
       "      <th>成交额</th>\n",
       "      <th>振幅</th>\n",
       "      <th>换手率</th>\n",
       "    </tr>\n",
       "  </thead>\n",
       "  <tbody>\n",
       "    <tr>\n",
       "      <th>0</th>\n",
       "      <td>2023-02-01 09:35:00</td>\n",
       "      <td>2819.18</td>\n",
       "      <td>2816.86</td>\n",
       "      <td>2820.23</td>\n",
       "      <td>2814.49</td>\n",
       "      <td>0.32</td>\n",
       "      <td>8.91</td>\n",
       "      <td>1933307</td>\n",
       "      <td>3.376613e+09</td>\n",
       "      <td>0.20</td>\n",
       "      <td>0.02</td>\n",
       "    </tr>\n",
       "    <tr>\n",
       "      <th>1</th>\n",
       "      <td>2023-02-01 09:40:00</td>\n",
       "      <td>2816.20</td>\n",
       "      <td>2817.09</td>\n",
       "      <td>2817.32</td>\n",
       "      <td>2813.29</td>\n",
       "      <td>0.01</td>\n",
       "      <td>0.23</td>\n",
       "      <td>1754450</td>\n",
       "      <td>2.655444e+09</td>\n",
       "      <td>0.14</td>\n",
       "      <td>0.01</td>\n",
       "    </tr>\n",
       "    <tr>\n",
       "      <th>2</th>\n",
       "      <td>2023-02-01 09:45:00</td>\n",
       "      <td>2816.83</td>\n",
       "      <td>2818.92</td>\n",
       "      <td>2819.68</td>\n",
       "      <td>2816.83</td>\n",
       "      <td>0.06</td>\n",
       "      <td>1.83</td>\n",
       "      <td>1343316</td>\n",
       "      <td>2.032522e+09</td>\n",
       "      <td>0.10</td>\n",
       "      <td>0.01</td>\n",
       "    </tr>\n",
       "    <tr>\n",
       "      <th>3</th>\n",
       "      <td>2023-02-01 09:50:00</td>\n",
       "      <td>2818.77</td>\n",
       "      <td>2817.63</td>\n",
       "      <td>2819.51</td>\n",
       "      <td>2816.70</td>\n",
       "      <td>-0.05</td>\n",
       "      <td>-1.29</td>\n",
       "      <td>1122536</td>\n",
       "      <td>2.152468e+09</td>\n",
       "      <td>0.10</td>\n",
       "      <td>0.01</td>\n",
       "    </tr>\n",
       "    <tr>\n",
       "      <th>4</th>\n",
       "      <td>2023-02-01 09:55:00</td>\n",
       "      <td>2817.44</td>\n",
       "      <td>2815.76</td>\n",
       "      <td>2817.44</td>\n",
       "      <td>2812.37</td>\n",
       "      <td>-0.07</td>\n",
       "      <td>-1.87</td>\n",
       "      <td>1148903</td>\n",
       "      <td>2.257073e+09</td>\n",
       "      <td>0.18</td>\n",
       "      <td>0.01</td>\n",
       "    </tr>\n",
       "    <tr>\n",
       "      <th>...</th>\n",
       "      <td>...</td>\n",
       "      <td>...</td>\n",
       "      <td>...</td>\n",
       "      <td>...</td>\n",
       "      <td>...</td>\n",
       "      <td>...</td>\n",
       "      <td>...</td>\n",
       "      <td>...</td>\n",
       "      <td>...</td>\n",
       "      <td>...</td>\n",
       "      <td>...</td>\n",
       "    </tr>\n",
       "    <tr>\n",
       "      <th>1339</th>\n",
       "      <td>2023-03-10 14:40:00</td>\n",
       "      <td>2643.78</td>\n",
       "      <td>2640.32</td>\n",
       "      <td>2644.25</td>\n",
       "      <td>2639.93</td>\n",
       "      <td>-0.14</td>\n",
       "      <td>-3.61</td>\n",
       "      <td>552016</td>\n",
       "      <td>9.911799e+08</td>\n",
       "      <td>0.16</td>\n",
       "      <td>0.00</td>\n",
       "    </tr>\n",
       "    <tr>\n",
       "      <th>1340</th>\n",
       "      <td>2023-03-10 14:45:00</td>\n",
       "      <td>2640.27</td>\n",
       "      <td>2639.06</td>\n",
       "      <td>2640.76</td>\n",
       "      <td>2639.06</td>\n",
       "      <td>-0.05</td>\n",
       "      <td>-1.26</td>\n",
       "      <td>707877</td>\n",
       "      <td>1.018899e+09</td>\n",
       "      <td>0.06</td>\n",
       "      <td>0.01</td>\n",
       "    </tr>\n",
       "    <tr>\n",
       "      <th>1341</th>\n",
       "      <td>2023-03-10 14:50:00</td>\n",
       "      <td>2638.90</td>\n",
       "      <td>2636.95</td>\n",
       "      <td>2639.70</td>\n",
       "      <td>2636.82</td>\n",
       "      <td>-0.08</td>\n",
       "      <td>-2.11</td>\n",
       "      <td>934724</td>\n",
       "      <td>1.342851e+09</td>\n",
       "      <td>0.11</td>\n",
       "      <td>0.01</td>\n",
       "    </tr>\n",
       "    <tr>\n",
       "      <th>1342</th>\n",
       "      <td>2023-03-10 14:55:00</td>\n",
       "      <td>2637.13</td>\n",
       "      <td>2636.20</td>\n",
       "      <td>2637.45</td>\n",
       "      <td>2636.01</td>\n",
       "      <td>-0.03</td>\n",
       "      <td>-0.75</td>\n",
       "      <td>1052015</td>\n",
       "      <td>1.620528e+09</td>\n",
       "      <td>0.05</td>\n",
       "      <td>0.01</td>\n",
       "    </tr>\n",
       "    <tr>\n",
       "      <th>1343</th>\n",
       "      <td>2023-03-10 15:00:00</td>\n",
       "      <td>2636.67</td>\n",
       "      <td>2636.39</td>\n",
       "      <td>2638.04</td>\n",
       "      <td>2636.18</td>\n",
       "      <td>0.01</td>\n",
       "      <td>0.19</td>\n",
       "      <td>862057</td>\n",
       "      <td>1.379816e+09</td>\n",
       "      <td>0.07</td>\n",
       "      <td>0.01</td>\n",
       "    </tr>\n",
       "  </tbody>\n",
       "</table>\n",
       "<p>1344 rows × 11 columns</p>\n",
       "</div>"
      ],
      "text/plain": [
       "                       时间       开盘       收盘       最高       最低   涨跌幅   涨跌额  \\\n",
       "0     2023-02-01 09:35:00  2819.18  2816.86  2820.23  2814.49  0.32  8.91   \n",
       "1     2023-02-01 09:40:00  2816.20  2817.09  2817.32  2813.29  0.01  0.23   \n",
       "2     2023-02-01 09:45:00  2816.83  2818.92  2819.68  2816.83  0.06  1.83   \n",
       "3     2023-02-01 09:50:00  2818.77  2817.63  2819.51  2816.70 -0.05 -1.29   \n",
       "4     2023-02-01 09:55:00  2817.44  2815.76  2817.44  2812.37 -0.07 -1.87   \n",
       "...                   ...      ...      ...      ...      ...   ...   ...   \n",
       "1339  2023-03-10 14:40:00  2643.78  2640.32  2644.25  2639.93 -0.14 -3.61   \n",
       "1340  2023-03-10 14:45:00  2640.27  2639.06  2640.76  2639.06 -0.05 -1.26   \n",
       "1341  2023-03-10 14:50:00  2638.90  2636.95  2639.70  2636.82 -0.08 -2.11   \n",
       "1342  2023-03-10 14:55:00  2637.13  2636.20  2637.45  2636.01 -0.03 -0.75   \n",
       "1343  2023-03-10 15:00:00  2636.67  2636.39  2638.04  2636.18  0.01  0.19   \n",
       "\n",
       "          成交量           成交额    振幅   换手率  \n",
       "0     1933307  3.376613e+09  0.20  0.02  \n",
       "1     1754450  2.655444e+09  0.14  0.01  \n",
       "2     1343316  2.032522e+09  0.10  0.01  \n",
       "3     1122536  2.152468e+09  0.10  0.01  \n",
       "4     1148903  2.257073e+09  0.18  0.01  \n",
       "...       ...           ...   ...   ...  \n",
       "1339   552016  9.911799e+08  0.16  0.00  \n",
       "1340   707877  1.018899e+09  0.06  0.01  \n",
       "1341   934724  1.342851e+09  0.11  0.01  \n",
       "1342  1052015  1.620528e+09  0.05  0.01  \n",
       "1343   862057  1.379816e+09  0.07  0.01  \n",
       "\n",
       "[1344 rows x 11 columns]"
      ]
     },
     "execution_count": 16,
     "metadata": {},
     "output_type": "execute_result"
    }
   ],
   "source": [
    "start_date = \"20230201\"\n",
    "index = \"000016\"\n",
    "ak.index_zh_a_hist_min_em(\n",
    "                symbol=index, period=\"5\", start_date=start_date)"
   ]
  },
  {
   "cell_type": "markdown",
   "id": "7f165bb6",
   "metadata": {},
   "source": [
    "## sh000001 = ak.stock_zh_index_daily(symbol=\"sh000001\")\n",
    "sh000001[\"sh000001\"] = sh000001[\"close\"].pct_change().rolling(5, min_periods=1).mean()\n",
    "merge_df = sh000001[[\"date\", \"sh000001\"]]"
   ]
  },
  {
   "cell_type": "code",
   "execution_count": 9,
   "id": "63cbf606",
   "metadata": {},
   "outputs": [
    {
     "data": {
      "text/html": [
       "<div>\n",
       "<style scoped>\n",
       "    .dataframe tbody tr th:only-of-type {\n",
       "        vertical-align: middle;\n",
       "    }\n",
       "\n",
       "    .dataframe tbody tr th {\n",
       "        vertical-align: top;\n",
       "    }\n",
       "\n",
       "    .dataframe thead th {\n",
       "        text-align: right;\n",
       "    }\n",
       "</style>\n",
       "<table border=\"1\" class=\"dataframe\">\n",
       "  <thead>\n",
       "    <tr style=\"text-align: right;\">\n",
       "      <th></th>\n",
       "      <th>date</th>\n",
       "      <th>sh000001</th>\n",
       "    </tr>\n",
       "  </thead>\n",
       "  <tbody>\n",
       "    <tr>\n",
       "      <th>0</th>\n",
       "      <td>1990-12-19</td>\n",
       "      <td>NaN</td>\n",
       "    </tr>\n",
       "    <tr>\n",
       "      <th>1</th>\n",
       "      <td>1990-12-20</td>\n",
       "      <td>0.044109</td>\n",
       "    </tr>\n",
       "    <tr>\n",
       "      <th>2</th>\n",
       "      <td>1990-12-21</td>\n",
       "      <td>0.044758</td>\n",
       "    </tr>\n",
       "    <tr>\n",
       "      <th>3</th>\n",
       "      <td>1990-12-24</td>\n",
       "      <td>0.046394</td>\n",
       "    </tr>\n",
       "    <tr>\n",
       "      <th>4</th>\n",
       "      <td>1990-12-25</td>\n",
       "      <td>0.047235</td>\n",
       "    </tr>\n",
       "    <tr>\n",
       "      <th>...</th>\n",
       "      <td>...</td>\n",
       "      <td>...</td>\n",
       "    </tr>\n",
       "    <tr>\n",
       "      <th>7798</th>\n",
       "      <td>2022-11-21</td>\n",
       "      <td>0.000140</td>\n",
       "    </tr>\n",
       "    <tr>\n",
       "      <th>7799</th>\n",
       "      <td>2022-11-22</td>\n",
       "      <td>-0.002894</td>\n",
       "    </tr>\n",
       "    <tr>\n",
       "      <th>7800</th>\n",
       "      <td>2022-11-23</td>\n",
       "      <td>-0.001479</td>\n",
       "    </tr>\n",
       "    <tr>\n",
       "      <th>7801</th>\n",
       "      <td>2022-11-24</td>\n",
       "      <td>-0.001678</td>\n",
       "    </tr>\n",
       "    <tr>\n",
       "      <th>7802</th>\n",
       "      <td>2022-11-25</td>\n",
       "      <td>0.000292</td>\n",
       "    </tr>\n",
       "  </tbody>\n",
       "</table>\n",
       "<p>7803 rows × 2 columns</p>\n",
       "</div>"
      ],
      "text/plain": [
       "            date  sh000001\n",
       "0     1990-12-19       NaN\n",
       "1     1990-12-20  0.044109\n",
       "2     1990-12-21  0.044758\n",
       "3     1990-12-24  0.046394\n",
       "4     1990-12-25  0.047235\n",
       "...          ...       ...\n",
       "7798  2022-11-21  0.000140\n",
       "7799  2022-11-22 -0.002894\n",
       "7800  2022-11-23 -0.001479\n",
       "7801  2022-11-24 -0.001678\n",
       "7802  2022-11-25  0.000292\n",
       "\n",
       "[7803 rows x 2 columns]"
      ]
     },
     "execution_count": 9,
     "metadata": {},
     "output_type": "execute_result"
    }
   ],
   "source": [
    "merge_df"
   ]
  },
  {
   "cell_type": "code",
   "execution_count": 4,
   "id": "fdf45f5a",
   "metadata": {},
   "outputs": [],
   "source": [
    "a3 = datetime.date(year=2022, month=1, day=1)"
   ]
  },
  {
   "cell_type": "code",
   "execution_count": 5,
   "id": "b1e1a1ae",
   "metadata": {},
   "outputs": [],
   "source": [
    "choose_sh000001 = sh000001[sh000001[\"date\"] > a3]"
   ]
  },
  {
   "cell_type": "code",
   "execution_count": 6,
   "id": "f783ab92",
   "metadata": {},
   "outputs": [
    {
     "data": {
      "text/html": [
       "<div>\n",
       "<style scoped>\n",
       "    .dataframe tbody tr th:only-of-type {\n",
       "        vertical-align: middle;\n",
       "    }\n",
       "\n",
       "    .dataframe tbody tr th {\n",
       "        vertical-align: top;\n",
       "    }\n",
       "\n",
       "    .dataframe thead th {\n",
       "        text-align: right;\n",
       "    }\n",
       "</style>\n",
       "<table border=\"1\" class=\"dataframe\">\n",
       "  <thead>\n",
       "    <tr style=\"text-align: right;\">\n",
       "      <th></th>\n",
       "      <th>date</th>\n",
       "      <th>open</th>\n",
       "      <th>high</th>\n",
       "      <th>low</th>\n",
       "      <th>close</th>\n",
       "      <th>volume</th>\n",
       "      <th>sh000001</th>\n",
       "    </tr>\n",
       "  </thead>\n",
       "  <tbody>\n",
       "    <tr>\n",
       "      <th>7586</th>\n",
       "      <td>2022-01-04</td>\n",
       "      <td>3649.151</td>\n",
       "      <td>3651.892</td>\n",
       "      <td>3610.092</td>\n",
       "      <td>3632.329</td>\n",
       "      <td>40502776900</td>\n",
       "      <td>0.000920</td>\n",
       "    </tr>\n",
       "    <tr>\n",
       "      <th>7587</th>\n",
       "      <td>2022-01-05</td>\n",
       "      <td>3628.263</td>\n",
       "      <td>3628.263</td>\n",
       "      <td>3583.467</td>\n",
       "      <td>3595.176</td>\n",
       "      <td>42390202800</td>\n",
       "      <td>-0.001908</td>\n",
       "    </tr>\n",
       "    <tr>\n",
       "      <th>7588</th>\n",
       "      <td>2022-01-06</td>\n",
       "      <td>3581.218</td>\n",
       "      <td>3594.489</td>\n",
       "      <td>3559.880</td>\n",
       "      <td>3586.079</td>\n",
       "      <td>37154054300</td>\n",
       "      <td>-0.000590</td>\n",
       "    </tr>\n",
       "    <tr>\n",
       "      <th>7589</th>\n",
       "      <td>2022-01-07</td>\n",
       "      <td>3588.985</td>\n",
       "      <td>3607.232</td>\n",
       "      <td>3577.098</td>\n",
       "      <td>3579.543</td>\n",
       "      <td>43630696100</td>\n",
       "      <td>-0.002188</td>\n",
       "    </tr>\n",
       "    <tr>\n",
       "      <th>7590</th>\n",
       "      <td>2022-01-10</td>\n",
       "      <td>3572.743</td>\n",
       "      <td>3593.519</td>\n",
       "      <td>3555.126</td>\n",
       "      <td>3593.519</td>\n",
       "      <td>35622261000</td>\n",
       "      <td>-0.002545</td>\n",
       "    </tr>\n",
       "    <tr>\n",
       "      <th>...</th>\n",
       "      <td>...</td>\n",
       "      <td>...</td>\n",
       "      <td>...</td>\n",
       "      <td>...</td>\n",
       "      <td>...</td>\n",
       "      <td>...</td>\n",
       "      <td>...</td>\n",
       "    </tr>\n",
       "    <tr>\n",
       "      <th>7827</th>\n",
       "      <td>2022-12-30</td>\n",
       "      <td>3084.523</td>\n",
       "      <td>3096.314</td>\n",
       "      <td>3082.196</td>\n",
       "      <td>3089.258</td>\n",
       "      <td>21754534400</td>\n",
       "      <td>0.002848</td>\n",
       "    </tr>\n",
       "    <tr>\n",
       "      <th>7828</th>\n",
       "      <td>2023-01-03</td>\n",
       "      <td>3087.513</td>\n",
       "      <td>3119.856</td>\n",
       "      <td>3073.054</td>\n",
       "      <td>3116.512</td>\n",
       "      <td>28137036200</td>\n",
       "      <td>0.003319</td>\n",
       "    </tr>\n",
       "    <tr>\n",
       "      <th>7829</th>\n",
       "      <td>2023-01-04</td>\n",
       "      <td>3117.571</td>\n",
       "      <td>3129.094</td>\n",
       "      <td>3109.451</td>\n",
       "      <td>3123.516</td>\n",
       "      <td>27331362600</td>\n",
       "      <td>0.001811</td>\n",
       "    </tr>\n",
       "    <tr>\n",
       "      <th>7830</th>\n",
       "      <td>2023-01-05</td>\n",
       "      <td>3132.761</td>\n",
       "      <td>3159.427</td>\n",
       "      <td>3130.230</td>\n",
       "      <td>3155.216</td>\n",
       "      <td>25700301800</td>\n",
       "      <td>0.004369</td>\n",
       "    </tr>\n",
       "    <tr>\n",
       "      <th>7831</th>\n",
       "      <td>2023-01-06</td>\n",
       "      <td>3155.075</td>\n",
       "      <td>3170.742</td>\n",
       "      <td>3151.841</td>\n",
       "      <td>3157.637</td>\n",
       "      <td>25738025500</td>\n",
       "      <td>0.005409</td>\n",
       "    </tr>\n",
       "  </tbody>\n",
       "</table>\n",
       "<p>246 rows × 7 columns</p>\n",
       "</div>"
      ],
      "text/plain": [
       "            date      open      high       low     close       volume  \\\n",
       "7586  2022-01-04  3649.151  3651.892  3610.092  3632.329  40502776900   \n",
       "7587  2022-01-05  3628.263  3628.263  3583.467  3595.176  42390202800   \n",
       "7588  2022-01-06  3581.218  3594.489  3559.880  3586.079  37154054300   \n",
       "7589  2022-01-07  3588.985  3607.232  3577.098  3579.543  43630696100   \n",
       "7590  2022-01-10  3572.743  3593.519  3555.126  3593.519  35622261000   \n",
       "...          ...       ...       ...       ...       ...          ...   \n",
       "7827  2022-12-30  3084.523  3096.314  3082.196  3089.258  21754534400   \n",
       "7828  2023-01-03  3087.513  3119.856  3073.054  3116.512  28137036200   \n",
       "7829  2023-01-04  3117.571  3129.094  3109.451  3123.516  27331362600   \n",
       "7830  2023-01-05  3132.761  3159.427  3130.230  3155.216  25700301800   \n",
       "7831  2023-01-06  3155.075  3170.742  3151.841  3157.637  25738025500   \n",
       "\n",
       "      sh000001  \n",
       "7586  0.000920  \n",
       "7587 -0.001908  \n",
       "7588 -0.000590  \n",
       "7589 -0.002188  \n",
       "7590 -0.002545  \n",
       "...        ...  \n",
       "7827  0.002848  \n",
       "7828  0.003319  \n",
       "7829  0.001811  \n",
       "7830  0.004369  \n",
       "7831  0.005409  \n",
       "\n",
       "[246 rows x 7 columns]"
      ]
     },
     "execution_count": 6,
     "metadata": {},
     "output_type": "execute_result"
    }
   ],
   "source": [
    "choose_sh000001"
   ]
  },
  {
   "cell_type": "code",
   "execution_count": 8,
   "id": "8854e38c",
   "metadata": {},
   "outputs": [
    {
     "data": {
      "text/plain": [
       "5881    3350.519\n",
       "5882    3351.446\n",
       "5883    3373.954\n",
       "5884    3293.456\n",
       "5885    3285.412\n",
       "          ...   \n",
       "7709    3313.584\n",
       "7710    3281.467\n",
       "7711    3284.292\n",
       "7712    3281.744\n",
       "7713    3228.061\n",
       "Name: close, Length: 1833, dtype: float64"
      ]
     },
     "execution_count": 8,
     "metadata": {},
     "output_type": "execute_result"
    }
   ],
   "source": [
    "choose_sh000001.close"
   ]
  },
  {
   "cell_type": "code",
   "execution_count": 10,
   "id": "adb0a209",
   "metadata": {},
   "outputs": [
    {
     "data": {
      "text/plain": [
       "(array([121., 419., 550., 475., 189.,  25.,  16.,  19.,   6.,  13.]),\n",
       " array([2464.363 , 2734.5617, 3004.7604, 3274.9591, 3545.1578, 3815.3565,\n",
       "        4085.5552, 4355.7539, 4625.9526, 4896.1513, 5166.35  ]),\n",
       " <a list of 10 Patch objects>)"
      ]
     },
     "execution_count": 10,
     "metadata": {},
     "output_type": "execute_result"
    },
    {
     "data": {
      "image/png": "[encoded data removed]",
      "text/plain": [
       "<Figure size 432x288 with 1 Axes>"
      ]
     },
     "metadata": {
      "needs_background": "light"
     },
     "output_type": "display_data"
    }
   ],
   "source": [
    "plt.hist(choose_sh000001.close)"
   ]
  },
  {
   "cell_type": "code",
   "execution_count": 15,
   "id": "67dfbd85",
   "metadata": {},
   "outputs": [
    {
     "data": {
      "text/plain": [
       "3220.9472067648667"
      ]
     },
     "execution_count": 15,
     "metadata": {},
     "output_type": "execute_result"
    }
   ],
   "source": [
    "choose_sh000001.close.mean()\n"
   ]
  },
  {
   "cell_type": "code",
   "execution_count": 16,
   "id": "1bc36c5c",
   "metadata": {},
   "outputs": [
    {
     "data": {
      "text/plain": [
       "3200.234"
      ]
     },
     "execution_count": 16,
     "metadata": {},
     "output_type": "execute_result"
    }
   ],
   "source": [
    "choose_sh000001.close.median()"
   ]
  },
  {
   "cell_type": "code",
   "execution_count": 20,
   "id": "f552cc69",
   "metadata": {},
   "outputs": [
    {
     "data": {
      "text/plain": [
       "3217.420289143481"
      ]
     },
     "execution_count": 20,
     "metadata": {},
     "output_type": "execute_result"
    }
   ],
   "source": [
    "choose_sh000001.open.mean()"
   ]
  },
  {
   "cell_type": "code",
   "execution_count": 22,
   "id": "54d136e8",
   "metadata": {},
   "outputs": [
    {
     "data": {
      "text/plain": [
       "0    2923.189\n",
       "1    3203.559\n",
       "dtype: float64"
      ]
     },
     "execution_count": 22,
     "metadata": {},
     "output_type": "execute_result"
    }
   ],
   "source": [
    "choose_sh000001.open.mode()"
   ]
  },
  {
   "cell_type": "code",
   "execution_count": 27,
   "id": "30a7db0e",
   "metadata": {},
   "outputs": [
    {
     "data": {
      "text/plain": [
       "[2961.516, 3200.234, 3416.604]"
      ]
     },
     "execution_count": 27,
     "metadata": {},
     "output_type": "execute_result"
    }
   ],
   "source": [
    "[choose_sh000001.close.quantile(i) for i in [0.25, 0.5, 0.75]]"
   ]
  },
  {
   "cell_type": "code",
   "execution_count": 28,
   "id": "10684935",
   "metadata": {},
   "outputs": [],
   "source": [
    "from scipy import stats"
   ]
  },
  {
   "cell_type": "code",
   "execution_count": 35,
   "id": "de851b22",
   "metadata": {},
   "outputs": [],
   "source": [
    "density = stats.kde.gaussian_kde(choose_sh000001.close)"
   ]
  },
  {
   "cell_type": "code",
   "execution_count": 31,
   "id": "754ad4f8",
   "metadata": {},
   "outputs": [],
   "source": [
    "import numpy as np"
   ]
  },
  {
   "cell_type": "code",
   "execution_count": 39,
   "id": "37fe72e3",
   "metadata": {},
   "outputs": [],
   "source": [
    "bins = np.arange(2900, 3500, 2)"
   ]
  },
  {
   "cell_type": "code",
   "execution_count": 33,
   "id": "c721ad9c",
   "metadata": {},
   "outputs": [
    {
     "data": {
      "text/plain": [
       "array([-5.0000000e+00, -4.9800000e+00, -4.9600000e+00, -4.9400000e+00,\n",
       "       -4.9200000e+00, -4.9000000e+00, -4.8800000e+00, -4.8600000e+00,\n",
       "       -4.8400000e+00, -4.8200000e+00, -4.8000000e+00, -4.7800000e+00,\n",
       "       -4.7600000e+00, -4.7400000e+00, -4.7200000e+00, -4.7000000e+00,\n",
       "       -4.6800000e+00, -4.6600000e+00, -4.6400000e+00, -4.6200000e+00,\n",
       "       -4.6000000e+00, -4.5800000e+00, -4.5600000e+00, -4.5400000e+00,\n",
       "       -4.5200000e+00, -4.5000000e+00, -4.4800000e+00, -4.4600000e+00,\n",
       "       -4.4400000e+00, -4.4200000e+00, -4.4000000e+00, -4.3800000e+00,\n",
       "       -4.3600000e+00, -4.3400000e+00, -4.3200000e+00, -4.3000000e+00,\n",
       "       -4.2800000e+00, -4.2600000e+00, -4.2400000e+00, -4.2200000e+00,\n",
       "       -4.2000000e+00, -4.1800000e+00, -4.1600000e+00, -4.1400000e+00,\n",
       "       -4.1200000e+00, -4.1000000e+00, -4.0800000e+00, -4.0600000e+00,\n",
       "       -4.0400000e+00, -4.0200000e+00, -4.0000000e+00, -3.9800000e+00,\n",
       "       -3.9600000e+00, -3.9400000e+00, -3.9200000e+00, -3.9000000e+00,\n",
       "       -3.8800000e+00, -3.8600000e+00, -3.8400000e+00, -3.8200000e+00,\n",
       "       -3.8000000e+00, -3.7800000e+00, -3.7600000e+00, -3.7400000e+00,\n",
       "       -3.7200000e+00, -3.7000000e+00, -3.6800000e+00, -3.6600000e+00,\n",
       "       -3.6400000e+00, -3.6200000e+00, -3.6000000e+00, -3.5800000e+00,\n",
       "       -3.5600000e+00, -3.5400000e+00, -3.5200000e+00, -3.5000000e+00,\n",
       "       -3.4800000e+00, -3.4600000e+00, -3.4400000e+00, -3.4200000e+00,\n",
       "       -3.4000000e+00, -3.3800000e+00, -3.3600000e+00, -3.3400000e+00,\n",
       "       -3.3200000e+00, -3.3000000e+00, -3.2800000e+00, -3.2600000e+00,\n",
       "       -3.2400000e+00, -3.2200000e+00, -3.2000000e+00, -3.1800000e+00,\n",
       "       -3.1600000e+00, -3.1400000e+00, -3.1200000e+00, -3.1000000e+00,\n",
       "       -3.0800000e+00, -3.0600000e+00, -3.0400000e+00, -3.0200000e+00,\n",
       "       -3.0000000e+00, -2.9800000e+00, -2.9600000e+00, -2.9400000e+00,\n",
       "       -2.9200000e+00, -2.9000000e+00, -2.8800000e+00, -2.8600000e+00,\n",
       "       -2.8400000e+00, -2.8200000e+00, -2.8000000e+00, -2.7800000e+00,\n",
       "       -2.7600000e+00, -2.7400000e+00, -2.7200000e+00, -2.7000000e+00,\n",
       "       -2.6800000e+00, -2.6600000e+00, -2.6400000e+00, -2.6200000e+00,\n",
       "       -2.6000000e+00, -2.5800000e+00, -2.5600000e+00, -2.5400000e+00,\n",
       "       -2.5200000e+00, -2.5000000e+00, -2.4800000e+00, -2.4600000e+00,\n",
       "       -2.4400000e+00, -2.4200000e+00, -2.4000000e+00, -2.3800000e+00,\n",
       "       -2.3600000e+00, -2.3400000e+00, -2.3200000e+00, -2.3000000e+00,\n",
       "       -2.2800000e+00, -2.2600000e+00, -2.2400000e+00, -2.2200000e+00,\n",
       "       -2.2000000e+00, -2.1800000e+00, -2.1600000e+00, -2.1400000e+00,\n",
       "       -2.1200000e+00, -2.1000000e+00, -2.0800000e+00, -2.0600000e+00,\n",
       "       -2.0400000e+00, -2.0200000e+00, -2.0000000e+00, -1.9800000e+00,\n",
       "       -1.9600000e+00, -1.9400000e+00, -1.9200000e+00, -1.9000000e+00,\n",
       "       -1.8800000e+00, -1.8600000e+00, -1.8400000e+00, -1.8200000e+00,\n",
       "       -1.8000000e+00, -1.7800000e+00, -1.7600000e+00, -1.7400000e+00,\n",
       "       -1.7200000e+00, -1.7000000e+00, -1.6800000e+00, -1.6600000e+00,\n",
       "       -1.6400000e+00, -1.6200000e+00, -1.6000000e+00, -1.5800000e+00,\n",
       "       -1.5600000e+00, -1.5400000e+00, -1.5200000e+00, -1.5000000e+00,\n",
       "       -1.4800000e+00, -1.4600000e+00, -1.4400000e+00, -1.4200000e+00,\n",
       "       -1.4000000e+00, -1.3800000e+00, -1.3600000e+00, -1.3400000e+00,\n",
       "       -1.3200000e+00, -1.3000000e+00, -1.2800000e+00, -1.2600000e+00,\n",
       "       -1.2400000e+00, -1.2200000e+00, -1.2000000e+00, -1.1800000e+00,\n",
       "       -1.1600000e+00, -1.1400000e+00, -1.1200000e+00, -1.1000000e+00,\n",
       "       -1.0800000e+00, -1.0600000e+00, -1.0400000e+00, -1.0200000e+00,\n",
       "       -1.0000000e+00, -9.8000000e-01, -9.6000000e-01, -9.4000000e-01,\n",
       "       -9.2000000e-01, -9.0000000e-01, -8.8000000e-01, -8.6000000e-01,\n",
       "       -8.4000000e-01, -8.2000000e-01, -8.0000000e-01, -7.8000000e-01,\n",
       "       -7.6000000e-01, -7.4000000e-01, -7.2000000e-01, -7.0000000e-01,\n",
       "       -6.8000000e-01, -6.6000000e-01, -6.4000000e-01, -6.2000000e-01,\n",
       "       -6.0000000e-01, -5.8000000e-01, -5.6000000e-01, -5.4000000e-01,\n",
       "       -5.2000000e-01, -5.0000000e-01, -4.8000000e-01, -4.6000000e-01,\n",
       "       -4.4000000e-01, -4.2000000e-01, -4.0000000e-01, -3.8000000e-01,\n",
       "       -3.6000000e-01, -3.4000000e-01, -3.2000000e-01, -3.0000000e-01,\n",
       "       -2.8000000e-01, -2.6000000e-01, -2.4000000e-01, -2.2000000e-01,\n",
       "       -2.0000000e-01, -1.8000000e-01, -1.6000000e-01, -1.4000000e-01,\n",
       "       -1.2000000e-01, -1.0000000e-01, -8.0000000e-02, -6.0000000e-02,\n",
       "       -4.0000000e-02, -2.0000000e-02, -1.0658141e-13,  2.0000000e-02,\n",
       "        4.0000000e-02,  6.0000000e-02,  8.0000000e-02,  1.0000000e-01,\n",
       "        1.2000000e-01,  1.4000000e-01,  1.6000000e-01,  1.8000000e-01,\n",
       "        2.0000000e-01,  2.2000000e-01,  2.4000000e-01,  2.6000000e-01,\n",
       "        2.8000000e-01,  3.0000000e-01,  3.2000000e-01,  3.4000000e-01,\n",
       "        3.6000000e-01,  3.8000000e-01,  4.0000000e-01,  4.2000000e-01,\n",
       "        4.4000000e-01,  4.6000000e-01,  4.8000000e-01,  5.0000000e-01,\n",
       "        5.2000000e-01,  5.4000000e-01,  5.6000000e-01,  5.8000000e-01,\n",
       "        6.0000000e-01,  6.2000000e-01,  6.4000000e-01,  6.6000000e-01,\n",
       "        6.8000000e-01,  7.0000000e-01,  7.2000000e-01,  7.4000000e-01,\n",
       "        7.6000000e-01,  7.8000000e-01,  8.0000000e-01,  8.2000000e-01,\n",
       "        8.4000000e-01,  8.6000000e-01,  8.8000000e-01,  9.0000000e-01,\n",
       "        9.2000000e-01,  9.4000000e-01,  9.6000000e-01,  9.8000000e-01,\n",
       "        1.0000000e+00,  1.0200000e+00,  1.0400000e+00,  1.0600000e+00,\n",
       "        1.0800000e+00,  1.1000000e+00,  1.1200000e+00,  1.1400000e+00,\n",
       "        1.1600000e+00,  1.1800000e+00,  1.2000000e+00,  1.2200000e+00,\n",
       "        1.2400000e+00,  1.2600000e+00,  1.2800000e+00,  1.3000000e+00,\n",
       "        1.3200000e+00,  1.3400000e+00,  1.3600000e+00,  1.3800000e+00,\n",
       "        1.4000000e+00,  1.4200000e+00,  1.4400000e+00,  1.4600000e+00,\n",
       "        1.4800000e+00,  1.5000000e+00,  1.5200000e+00,  1.5400000e+00,\n",
       "        1.5600000e+00,  1.5800000e+00,  1.6000000e+00,  1.6200000e+00,\n",
       "        1.6400000e+00,  1.6600000e+00,  1.6800000e+00,  1.7000000e+00,\n",
       "        1.7200000e+00,  1.7400000e+00,  1.7600000e+00,  1.7800000e+00,\n",
       "        1.8000000e+00,  1.8200000e+00,  1.8400000e+00,  1.8600000e+00,\n",
       "        1.8800000e+00,  1.9000000e+00,  1.9200000e+00,  1.9400000e+00,\n",
       "        1.9600000e+00,  1.9800000e+00,  2.0000000e+00,  2.0200000e+00,\n",
       "        2.0400000e+00,  2.0600000e+00,  2.0800000e+00,  2.1000000e+00,\n",
       "        2.1200000e+00,  2.1400000e+00,  2.1600000e+00,  2.1800000e+00,\n",
       "        2.2000000e+00,  2.2200000e+00,  2.2400000e+00,  2.2600000e+00,\n",
       "        2.2800000e+00,  2.3000000e+00,  2.3200000e+00,  2.3400000e+00,\n",
       "        2.3600000e+00,  2.3800000e+00,  2.4000000e+00,  2.4200000e+00,\n",
       "        2.4400000e+00,  2.4600000e+00,  2.4800000e+00,  2.5000000e+00,\n",
       "        2.5200000e+00,  2.5400000e+00,  2.5600000e+00,  2.5800000e+00,\n",
       "        2.6000000e+00,  2.6200000e+00,  2.6400000e+00,  2.6600000e+00,\n",
       "        2.6800000e+00,  2.7000000e+00,  2.7200000e+00,  2.7400000e+00,\n",
       "        2.7600000e+00,  2.7800000e+00,  2.8000000e+00,  2.8200000e+00,\n",
       "        2.8400000e+00,  2.8600000e+00,  2.8800000e+00,  2.9000000e+00,\n",
       "        2.9200000e+00,  2.9400000e+00,  2.9600000e+00,  2.9800000e+00,\n",
       "        3.0000000e+00,  3.0200000e+00,  3.0400000e+00,  3.0600000e+00,\n",
       "        3.0800000e+00,  3.1000000e+00,  3.1200000e+00,  3.1400000e+00,\n",
       "        3.1600000e+00,  3.1800000e+00,  3.2000000e+00,  3.2200000e+00,\n",
       "        3.2400000e+00,  3.2600000e+00,  3.2800000e+00,  3.3000000e+00,\n",
       "        3.3200000e+00,  3.3400000e+00,  3.3600000e+00,  3.3800000e+00,\n",
       "        3.4000000e+00,  3.4200000e+00,  3.4400000e+00,  3.4600000e+00,\n",
       "        3.4800000e+00,  3.5000000e+00,  3.5200000e+00,  3.5400000e+00,\n",
       "        3.5600000e+00,  3.5800000e+00,  3.6000000e+00,  3.6200000e+00,\n",
       "        3.6400000e+00,  3.6600000e+00,  3.6800000e+00,  3.7000000e+00,\n",
       "        3.7200000e+00,  3.7400000e+00,  3.7600000e+00,  3.7800000e+00,\n",
       "        3.8000000e+00,  3.8200000e+00,  3.8400000e+00,  3.8600000e+00,\n",
       "        3.8800000e+00,  3.9000000e+00,  3.9200000e+00,  3.9400000e+00,\n",
       "        3.9600000e+00,  3.9800000e+00,  4.0000000e+00,  4.0200000e+00,\n",
       "        4.0400000e+00,  4.0600000e+00,  4.0800000e+00,  4.1000000e+00,\n",
       "        4.1200000e+00,  4.1400000e+00,  4.1600000e+00,  4.1800000e+00,\n",
       "        4.2000000e+00,  4.2200000e+00,  4.2400000e+00,  4.2600000e+00,\n",
       "        4.2800000e+00,  4.3000000e+00,  4.3200000e+00,  4.3400000e+00,\n",
       "        4.3600000e+00,  4.3800000e+00,  4.4000000e+00,  4.4200000e+00,\n",
       "        4.4400000e+00,  4.4600000e+00,  4.4800000e+00,  4.5000000e+00,\n",
       "        4.5200000e+00,  4.5400000e+00,  4.5600000e+00,  4.5800000e+00,\n",
       "        4.6000000e+00,  4.6200000e+00,  4.6400000e+00,  4.6600000e+00,\n",
       "        4.6800000e+00,  4.7000000e+00,  4.7200000e+00,  4.7400000e+00,\n",
       "        4.7600000e+00,  4.7800000e+00,  4.8000000e+00,  4.8200000e+00,\n",
       "        4.8400000e+00,  4.8600000e+00,  4.8800000e+00,  4.9000000e+00,\n",
       "        4.9200000e+00,  4.9400000e+00,  4.9600000e+00,  4.9800000e+00])"
      ]
     },
     "execution_count": 33,
     "metadata": {},
     "output_type": "execute_result"
    }
   ],
   "source": [
    "bins"
   ]
  },
  {
   "cell_type": "code",
   "execution_count": 41,
   "id": "9d730864",
   "metadata": {},
   "outputs": [
    {
     "data": {
      "text/plain": [
       "[<matplotlib.lines.Line2D at 0x7fc429889190>]"
      ]
     },
     "execution_count": 41,
     "metadata": {},
     "output_type": "execute_result"
    },
    {
     "data": {
      "image/png": "[encoded data removed]",
      "text/plain": [
       "<Figure size 432x288 with 1 Axes>"
      ]
     },
     "metadata": {
      "needs_background": "light"
     },
     "output_type": "display_data"
    }
   ],
   "source": [
    "plt.subplot(211)\n",
    "plt.plot(bins, density(bins))"
   ]
  },
  {
   "cell_type": "code",
   "execution_count": 93,
   "id": "80cf3746",
   "metadata": {},
   "outputs": [],
   "source": [
    "sh399106 = ak.stock_zh_index_daily(symbol=\"sz399106\")\n",
    "choose_sh399106 = sh399106[sh399106[\"date\"]>a3]"
   ]
  },
  {
   "cell_type": "code",
   "execution_count": 94,
   "id": "28504bcb",
   "metadata": {},
   "outputs": [
    {
     "data": {
      "text/html": [
       "<div>\n",
       "<style scoped>\n",
       "    .dataframe tbody tr th:only-of-type {\n",
       "        vertical-align: middle;\n",
       "    }\n",
       "\n",
       "    .dataframe tbody tr th {\n",
       "        vertical-align: top;\n",
       "    }\n",
       "\n",
       "    .dataframe thead th {\n",
       "        text-align: right;\n",
       "    }\n",
       "</style>\n",
       "<table border=\"1\" class=\"dataframe\">\n",
       "  <thead>\n",
       "    <tr style=\"text-align: right;\">\n",
       "      <th></th>\n",
       "      <th>date</th>\n",
       "      <th>open</th>\n",
       "      <th>high</th>\n",
       "      <th>low</th>\n",
       "      <th>close</th>\n",
       "      <th>volume</th>\n",
       "    </tr>\n",
       "  </thead>\n",
       "  <tbody>\n",
       "    <tr>\n",
       "      <th>4611</th>\n",
       "      <td>2015-01-05</td>\n",
       "      <td>1419.435</td>\n",
       "      <td>1440.574</td>\n",
       "      <td>1408.985</td>\n",
       "      <td>1436.864</td>\n",
       "      <td>21835636736</td>\n",
       "    </tr>\n",
       "    <tr>\n",
       "      <th>4612</th>\n",
       "      <td>2015-01-06</td>\n",
       "      <td>1429.099</td>\n",
       "      <td>1463.036</td>\n",
       "      <td>1422.437</td>\n",
       "      <td>1461.316</td>\n",
       "      <td>21161017344</td>\n",
       "    </tr>\n",
       "    <tr>\n",
       "      <th>4613</th>\n",
       "      <td>2015-01-07</td>\n",
       "      <td>1458.264</td>\n",
       "      <td>1462.410</td>\n",
       "      <td>1446.970</td>\n",
       "      <td>1457.447</td>\n",
       "      <td>16836333568</td>\n",
       "    </tr>\n",
       "    <tr>\n",
       "      <th>4614</th>\n",
       "      <td>2015-01-08</td>\n",
       "      <td>1456.334</td>\n",
       "      <td>1463.464</td>\n",
       "      <td>1442.660</td>\n",
       "      <td>1451.145</td>\n",
       "      <td>16444678144</td>\n",
       "    </tr>\n",
       "    <tr>\n",
       "      <th>4615</th>\n",
       "      <td>2015-01-09</td>\n",
       "      <td>1446.887</td>\n",
       "      <td>1467.911</td>\n",
       "      <td>1442.819</td>\n",
       "      <td>1442.837</td>\n",
       "      <td>16163013632</td>\n",
       "    </tr>\n",
       "    <tr>\n",
       "      <th>...</th>\n",
       "      <td>...</td>\n",
       "      <td>...</td>\n",
       "      <td>...</td>\n",
       "      <td>...</td>\n",
       "      <td>...</td>\n",
       "      <td>...</td>\n",
       "    </tr>\n",
       "    <tr>\n",
       "      <th>6439</th>\n",
       "      <td>2022-07-11</td>\n",
       "      <td>2211.362</td>\n",
       "      <td>2211.362</td>\n",
       "      <td>2170.515</td>\n",
       "      <td>2187.340</td>\n",
       "      <td>45124333678</td>\n",
       "    </tr>\n",
       "    <tr>\n",
       "      <th>6440</th>\n",
       "      <td>2022-07-12</td>\n",
       "      <td>2187.418</td>\n",
       "      <td>2192.581</td>\n",
       "      <td>2152.519</td>\n",
       "      <td>2155.562</td>\n",
       "      <td>44428374727</td>\n",
       "    </tr>\n",
       "    <tr>\n",
       "      <th>6441</th>\n",
       "      <td>2022-07-13</td>\n",
       "      <td>2156.280</td>\n",
       "      <td>2183.222</td>\n",
       "      <td>2145.423</td>\n",
       "      <td>2175.590</td>\n",
       "      <td>44510551662</td>\n",
       "    </tr>\n",
       "    <tr>\n",
       "      <th>6442</th>\n",
       "      <td>2022-07-14</td>\n",
       "      <td>2170.932</td>\n",
       "      <td>2206.522</td>\n",
       "      <td>2165.842</td>\n",
       "      <td>2192.696</td>\n",
       "      <td>46948063935</td>\n",
       "    </tr>\n",
       "    <tr>\n",
       "      <th>6443</th>\n",
       "      <td>2022-07-15</td>\n",
       "      <td>2185.152</td>\n",
       "      <td>2202.052</td>\n",
       "      <td>2159.994</td>\n",
       "      <td>2159.994</td>\n",
       "      <td>50583902606</td>\n",
       "    </tr>\n",
       "  </tbody>\n",
       "</table>\n",
       "<p>1833 rows × 6 columns</p>\n",
       "</div>"
      ],
      "text/plain": [
       "            date      open      high       low     close       volume\n",
       "4611  2015-01-05  1419.435  1440.574  1408.985  1436.864  21835636736\n",
       "4612  2015-01-06  1429.099  1463.036  1422.437  1461.316  21161017344\n",
       "4613  2015-01-07  1458.264  1462.410  1446.970  1457.447  16836333568\n",
       "4614  2015-01-08  1456.334  1463.464  1442.660  1451.145  16444678144\n",
       "4615  2015-01-09  1446.887  1467.911  1442.819  1442.837  16163013632\n",
       "...          ...       ...       ...       ...       ...          ...\n",
       "6439  2022-07-11  2211.362  2211.362  2170.515  2187.340  45124333678\n",
       "6440  2022-07-12  2187.418  2192.581  2152.519  2155.562  44428374727\n",
       "6441  2022-07-13  2156.280  2183.222  2145.423  2175.590  44510551662\n",
       "6442  2022-07-14  2170.932  2206.522  2165.842  2192.696  46948063935\n",
       "6443  2022-07-15  2185.152  2202.052  2159.994  2159.994  50583902606\n",
       "\n",
       "[1833 rows x 6 columns]"
      ]
     },
     "execution_count": 94,
     "metadata": {},
     "output_type": "execute_result"
    }
   ],
   "source": [
    "choose_sh399106"
   ]
  },
  {
   "cell_type": "code",
   "execution_count": null,
   "id": "9fe6fbf0",
   "metadata": {},
   "outputs": [],
   "source": []
  },
  {
   "cell_type": "code",
   "execution_count": null,
   "id": "376d34e2",
   "metadata": {},
   "outputs": [],
   "source": []
  },
  {
   "cell_type": "code",
   "execution_count": 7,
   "id": "da86ec9c",
   "metadata": {},
   "outputs": [
    {
     "name": "stderr",
     "output_type": "stream",
     "text": [
      "/usr/lib/python3/dist-packages/matplotlib/cbook/__init__.py:1402: FutureWarning: Support for multi-dimensional indexing (e.g. `obj[:, None]`) is deprecated and will be removed in a future version.  Convert to a numpy array before indexing instead.\n",
      "  ndim = x[:, None].ndim\n",
      "/usr/lib/python3/dist-packages/matplotlib/axes/_base.py:276: FutureWarning: Support for multi-dimensional indexing (e.g. `obj[:, None]`) is deprecated and will be removed in a future version.  Convert to a numpy array before indexing instead.\n",
      "  x = x[:, np.newaxis]\n",
      "/usr/lib/python3/dist-packages/matplotlib/axes/_base.py:278: FutureWarning: Support for multi-dimensional indexing (e.g. `obj[:, None]`) is deprecated and will be removed in a future version.  Convert to a numpy array before indexing instead.\n",
      "  y = y[:, np.newaxis]\n"
     ]
    },
    {
     "data": {
      "text/plain": [
       "[<matplotlib.lines.Line2D at 0x7f1b9854bf70>]"
      ]
     },
     "execution_count": 7,
     "metadata": {},
     "output_type": "execute_result"
    },
    {
     "data": {
      "image/png": "[encoded data removed]",
      "text/plain": [
       "<Figure size 432x288 with 1 Axes>"
      ]
     },
     "metadata": {
      "needs_background": "light"
     },
     "output_type": "display_data"
    }
   ],
   "source": [
    "plt.plot(choose_sh000001.date, choose_sh000001.close)\n"
   ]
  },
  {
   "cell_type": "code",
   "execution_count": 50,
   "id": "665f388e",
   "metadata": {},
   "outputs": [],
   "source": [
    "x = choose_sh000001.close"
   ]
  },
  {
   "cell_type": "code",
   "execution_count": 95,
   "id": "38b7467d",
   "metadata": {},
   "outputs": [],
   "source": [
    "x\n",
    "y = choose_sh399106.close"
   ]
  },
  {
   "cell_type": "code",
   "execution_count": 84,
   "id": "d11e0c48",
   "metadata": {},
   "outputs": [
    {
     "data": {
      "text/plain": [
       "(2597.928298297948, 3843.966115231785)"
      ]
     },
     "execution_count": 84,
     "metadata": {},
     "output_type": "execute_result"
    }
   ],
   "source": [
    "stats.t.interval(0.9, len(x)-1, np.mean(x), np.std(x))"
   ]
  },
  {
   "cell_type": "code",
   "execution_count": 81,
   "id": "18e471b2",
   "metadata": {},
   "outputs": [
    {
     "data": {
      "text/plain": [
       "378.577069642111"
      ]
     },
     "execution_count": 81,
     "metadata": {},
     "output_type": "execute_result"
    }
   ],
   "source": [
    "np.std(x)"
   ]
  },
  {
   "cell_type": "code",
   "execution_count": null,
   "id": "d64bf7de",
   "metadata": {},
   "outputs": [],
   "source": []
  },
  {
   "cell_type": "code",
   "execution_count": 49,
   "id": "a42eb714",
   "metadata": {},
   "outputs": [
    {
     "data": {
      "text/plain": [
       "0         99.980\n",
       "1        104.390\n",
       "2        109.130\n",
       "3        114.550\n",
       "4        120.250\n",
       "          ...   \n",
       "7709    3313.584\n",
       "7710    3281.467\n",
       "7711    3284.292\n",
       "7712    3281.744\n",
       "7713    3228.061\n",
       "Name: close, Length: 7714, dtype: float64"
      ]
     },
     "execution_count": 49,
     "metadata": {},
     "output_type": "execute_result"
    }
   ],
   "source": [
    "x"
   ]
  },
  {
   "cell_type": "code",
   "execution_count": 58,
   "id": "e1b3a5ad",
   "metadata": {},
   "outputs": [
    {
     "data": {
      "text/plain": [
       "0.5773502691896258"
      ]
     },
     "execution_count": 58,
     "metadata": {},
     "output_type": "execute_result"
    }
   ],
   "source": [
    "stats.sem([1,2,3])"
   ]
  },
  {
   "cell_type": "code",
   "execution_count": 68,
   "id": "db4d91a6",
   "metadata": {},
   "outputs": [
    {
     "data": {
      "text/plain": [
       "2.886751345948129"
      ]
     },
     "execution_count": 68,
     "metadata": {},
     "output_type": "execute_result"
    }
   ],
   "source": [
    "stats.sem([0,5,10])"
   ]
  },
  {
   "cell_type": "code",
   "execution_count": 76,
   "id": "ddc4fdda",
   "metadata": {},
   "outputs": [
    {
     "data": {
      "text/plain": [
       "2.886751345948129"
      ]
     },
     "execution_count": 76,
     "metadata": {},
     "output_type": "execute_result"
    }
   ],
   "source": [
    "((25+25)/2)**0.5/3**0.5"
   ]
  },
  {
   "cell_type": "code",
   "execution_count": 96,
   "id": "45f70993",
   "metadata": {},
   "outputs": [],
   "source": [
    "pct_c = x.pct_change(1)\n",
    "pct_y = y.pct_change(1)"
   ]
  },
  {
   "cell_type": "code",
   "execution_count": null,
   "id": "2d71c818",
   "metadata": {},
   "outputs": [],
   "source": []
  },
  {
   "cell_type": "code",
   "execution_count": 89,
   "id": "ceb40437",
   "metadata": {},
   "outputs": [
    {
     "data": {
      "text/plain": [
       "<bound method hist_series of 5881         NaN\n",
       "5882    0.000277\n",
       "5883    0.006716\n",
       "5884   -0.023859\n",
       "5885   -0.002442\n",
       "          ...   \n",
       "7709   -0.012662\n",
       "7710   -0.009693\n",
       "7711    0.000861\n",
       "7712   -0.000776\n",
       "7713   -0.016358\n",
       "Name: close, Length: 1833, dtype: float64>"
      ]
     },
     "execution_count": 89,
     "metadata": {},
     "output_type": "execute_result"
    }
   ],
   "source": [
    "pct_c.hist"
   ]
  },
  {
   "cell_type": "code",
   "execution_count": 91,
   "id": "fc1e9158",
   "metadata": {},
   "outputs": [
    {
     "ename": "TypeError",
     "evalue": "'module' object is not callable",
     "output_type": "error",
     "traceback": [
      "\u001b[0;31m---------------------------------------------------------------------------\u001b[0m",
      "\u001b[0;31mTypeError\u001b[0m                                 Traceback (most recent call last)",
      "\u001b[0;32m/tmp/ipykernel_1520451/3231919282.py\u001b[0m in \u001b[0;36m<module>\u001b[0;34m\u001b[0m\n\u001b[0;32m----> 1\u001b[0;31m \u001b[0mplt\u001b[0m\u001b[0;34m(\u001b[0m\u001b[0mpct_c\u001b[0m\u001b[0;34m.\u001b[0m\u001b[0mhist\u001b[0m\u001b[0;34m(\u001b[0m\u001b[0;34m)\u001b[0m\u001b[0;34m)\u001b[0m\u001b[0;34m\u001b[0m\u001b[0;34m\u001b[0m\u001b[0m\n\u001b[0m",
      "\u001b[0;31mTypeError\u001b[0m: 'module' object is not callable"
     ]
    },
    {
     "data": {
      "image/png": "[encoded data removed]",
      "text/plain": [
       "<Figure size 432x288 with 1 Axes>"
      ]
     },
     "metadata": {
      "needs_background": "light"
     },
     "output_type": "display_data"
    }
   ],
   "source": [
    "plt(pct_c.hist())"
   ]
  },
  {
   "cell_type": "code",
   "execution_count": 100,
   "id": "ac82fa69",
   "metadata": {},
   "outputs": [
    {
     "data": {
      "text/plain": [
       "<matplotlib.collections.PathCollection at 0x7fc410679cd0>"
      ]
     },
     "execution_count": 100,
     "metadata": {},
     "output_type": "execute_result"
    },
    {
     "data": {
      "image/png": "[encoded data removed]",
      "text/plain": [
       "<Figure size 432x288 with 1 Axes>"
      ]
     },
     "metadata": {
      "needs_background": "light"
     },
     "output_type": "display_data"
    }
   ],
   "source": [
    "plt.scatter(pct_c, pct_y)"
   ]
  },
  {
   "cell_type": "code",
   "execution_count": 107,
   "id": "2590ea07",
   "metadata": {},
   "outputs": [
    {
     "data": {
      "text/plain": [
       "5882    0.000277\n",
       "5883    0.006716\n",
       "5884   -0.023859\n",
       "5885   -0.002442\n",
       "5886   -0.017074\n",
       "          ...   \n",
       "7709   -0.012662\n",
       "7710   -0.009693\n",
       "7711    0.000861\n",
       "7712   -0.000776\n",
       "7713   -0.016358\n",
       "Name: close, Length: 1832, dtype: float64"
      ]
     },
     "execution_count": 107,
     "metadata": {},
     "output_type": "execute_result"
    }
   ],
   "source": [
    "pct_c[1:]"
   ]
  },
  {
   "cell_type": "code",
   "execution_count": null,
   "id": "b950c426",
   "metadata": {},
   "outputs": [],
   "source": []
  },
  {
   "cell_type": "code",
   "execution_count": null,
   "id": "e9409c86",
   "metadata": {},
   "outputs": [],
   "source": []
  },
  {
   "cell_type": "code",
   "execution_count": null,
   "id": "b5f6835f",
   "metadata": {},
   "outputs": [],
   "source": []
  },
  {
   "cell_type": "code",
   "execution_count": 98,
   "id": "aae7666b",
   "metadata": {},
   "outputs": [
    {
     "data": {
      "text/plain": [
       "Int64Index([5881, 5882, 5883, 5884, 5885, 5886, 5887, 5888, 5889, 5890,\n",
       "            ...\n",
       "            7704, 7705, 7706, 7707, 7708, 7709, 7710, 7711, 7712, 7713],\n",
       "           dtype='int64', length=1833)"
      ]
     },
     "execution_count": 98,
     "metadata": {},
     "output_type": "execute_result"
    }
   ],
   "source": [
    "pct_c.index"
   ]
  },
  {
   "cell_type": "code",
   "execution_count": 101,
   "id": "8e2deeb3",
   "metadata": {},
   "outputs": [
    {
     "data": {
      "text/plain": [
       "Int64Index([4611, 4612, 4613, 4614, 4615, 4616, 4617, 4618, 4619, 4620,\n",
       "            ...\n",
       "            6434, 6435, 6436, 6437, 6438, 6439, 6440, 6441, 6442, 6443],\n",
       "           dtype='int64', length=1833)"
      ]
     },
     "execution_count": 101,
     "metadata": {},
     "output_type": "execute_result"
    }
   ],
   "source": [
    "pct_y.index"
   ]
  },
  {
   "cell_type": "code",
   "execution_count": 102,
   "id": "a339c821",
   "metadata": {},
   "outputs": [],
   "source": [
    "pct_y.index = pct_c.index"
   ]
  },
  {
   "cell_type": "code",
   "execution_count": 103,
   "id": "be5c6c74",
   "metadata": {},
   "outputs": [],
   "source": [
    "import statsmodels.api as sm"
   ]
  },
  {
   "cell_type": "code",
   "execution_count": 108,
   "id": "9387900d",
   "metadata": {},
   "outputs": [],
   "source": [
    "model = sm.OLS(pct_c[1:], sm.add_constant(pct_y[1:])).fit()"
   ]
  },
  {
   "cell_type": "code",
   "execution_count": 112,
   "id": "75084d30",
   "metadata": {},
   "outputs": [
    {
     "data": {
      "text/html": [
       "<table class=\"simpletable\">\n",
       "<caption>OLS Regression Results</caption>\n",
       "<tr>\n",
       "  <th>Dep. Variable:</th>          <td>close</td>      <th>  R-squared:         </th>  <td>   0.804</td> \n",
       "</tr>\n",
       "<tr>\n",
       "  <th>Model:</th>                   <td>OLS</td>       <th>  Adj. R-squared:    </th>  <td>   0.804</td> \n",
       "</tr>\n",
       "<tr>\n",
       "  <th>Method:</th>             <td>Least Squares</td>  <th>  F-statistic:       </th>  <td>   7530.</td> \n",
       "</tr>\n",
       "<tr>\n",
       "  <th>Date:</th>             <td>Sun, 17 Jul 2022</td> <th>  Prob (F-statistic):</th>   <td>  0.00</td>  \n",
       "</tr>\n",
       "<tr>\n",
       "  <th>Time:</th>                 <td>21:59:42</td>     <th>  Log-Likelihood:    </th>  <td>  6730.9</td> \n",
       "</tr>\n",
       "<tr>\n",
       "  <th>No. Observations:</th>      <td>  1832</td>      <th>  AIC:               </th> <td>-1.346e+04</td>\n",
       "</tr>\n",
       "<tr>\n",
       "  <th>Df Residuals:</th>          <td>  1830</td>      <th>  BIC:               </th> <td>-1.345e+04</td>\n",
       "</tr>\n",
       "<tr>\n",
       "  <th>Df Model:</th>              <td>     1</td>      <th>                     </th>      <td> </td>    \n",
       "</tr>\n",
       "<tr>\n",
       "  <th>Covariance Type:</th>      <td>nonrobust</td>    <th>                     </th>      <td> </td>    \n",
       "</tr>\n",
       "</table>\n",
       "<table class=\"simpletable\">\n",
       "<tr>\n",
       "    <td></td>       <th>coef</th>     <th>std err</th>      <th>t</th>      <th>P>|t|</th>  <th>[0.025</th>    <th>0.975]</th>  \n",
       "</tr>\n",
       "<tr>\n",
       "  <th>const</th> <td>   -0.0002</td> <td>    0.000</td> <td>   -1.350</td> <td> 0.177</td> <td>   -0.000</td> <td> 8.77e-05</td>\n",
       "</tr>\n",
       "<tr>\n",
       "  <th>close</th> <td>    0.7446</td> <td>    0.009</td> <td>   86.775</td> <td> 0.000</td> <td>    0.728</td> <td>    0.761</td>\n",
       "</tr>\n",
       "</table>\n",
       "<table class=\"simpletable\">\n",
       "<tr>\n",
       "  <th>Omnibus:</th>       <td>313.499</td> <th>  Durbin-Watson:     </th> <td>   1.906</td>\n",
       "</tr>\n",
       "<tr>\n",
       "  <th>Prob(Omnibus):</th> <td> 0.000</td>  <th>  Jarque-Bera (JB):  </th> <td>6227.324</td>\n",
       "</tr>\n",
       "<tr>\n",
       "  <th>Skew:</th>          <td> 0.079</td>  <th>  Prob(JB):          </th> <td>    0.00</td>\n",
       "</tr>\n",
       "<tr>\n",
       "  <th>Kurtosis:</th>      <td>12.031</td>  <th>  Cond. No.          </th> <td>    59.8</td>\n",
       "</tr>\n",
       "</table><br/><br/>Notes:<br/>[1] Standard Errors assume that the covariance matrix of the errors is correctly specified."
      ],
      "text/plain": [
       "<class 'statsmodels.iolib.summary.Summary'>\n",
       "\"\"\"\n",
       "                            OLS Regression Results                            \n",
       "==============================================================================\n",
       "Dep. Variable:                  close   R-squared:                       0.804\n",
       "Model:                            OLS   Adj. R-squared:                  0.804\n",
       "Method:                 Least Squares   F-statistic:                     7530.\n",
       "Date:                Sun, 17 Jul 2022   Prob (F-statistic):               0.00\n",
       "Time:                        21:59:42   Log-Likelihood:                 6730.9\n",
       "No. Observations:                1832   AIC:                        -1.346e+04\n",
       "Df Residuals:                    1830   BIC:                        -1.345e+04\n",
       "Df Model:                           1                                         \n",
       "Covariance Type:            nonrobust                                         \n",
       "==============================================================================\n",
       "                 coef    std err          t      P>|t|      [0.025      0.975]\n",
       "------------------------------------------------------------------------------\n",
       "const         -0.0002      0.000     -1.350      0.177      -0.000    8.77e-05\n",
       "close          0.7446      0.009     86.775      0.000       0.728       0.761\n",
       "==============================================================================\n",
       "Omnibus:                      313.499   Durbin-Watson:                   1.906\n",
       "Prob(Omnibus):                  0.000   Jarque-Bera (JB):             6227.324\n",
       "Skew:                           0.079   Prob(JB):                         0.00\n",
       "Kurtosis:                      12.031   Cond. No.                         59.8\n",
       "==============================================================================\n",
       "\n",
       "Notes:\n",
       "[1] Standard Errors assume that the covariance matrix of the errors is correctly specified.\n",
       "\"\"\""
      ]
     },
     "execution_count": 112,
     "metadata": {},
     "output_type": "execute_result"
    }
   ],
   "source": [
    "model.summary()"
   ]
  },
  {
   "cell_type": "code",
   "execution_count": 113,
   "id": "af9dde69",
   "metadata": {},
   "outputs": [
    {
     "data": {
      "image/png": "[encoded data removed]",
      "text/plain": [
       "<Figure size 432x288 with 1 Axes>"
      ]
     },
     "execution_count": 113,
     "metadata": {},
     "output_type": "execute_result"
    },
    {
     "data": {
      "image/png": "[encoded data removed]",
      "text/plain": [
       "<Figure size 432x288 with 1 Axes>"
      ]
     },
     "metadata": {
      "needs_background": "light"
     },
     "output_type": "display_data"
    }
   ],
   "source": [
    "sm.qqplot(model.resid_pearson, stats.norm, line='45')"
   ]
  },
  {
   "cell_type": "code",
   "execution_count": 119,
   "id": "18db0662",
   "metadata": {},
   "outputs": [
    {
     "data": {
      "text/html": [
       "<div>\n",
       "<style scoped>\n",
       "    .dataframe tbody tr th:only-of-type {\n",
       "        vertical-align: middle;\n",
       "    }\n",
       "\n",
       "    .dataframe tbody tr th {\n",
       "        vertical-align: top;\n",
       "    }\n",
       "\n",
       "    .dataframe thead th {\n",
       "        text-align: right;\n",
       "    }\n",
       "</style>\n",
       "<table border=\"1\" class=\"dataframe\">\n",
       "  <thead>\n",
       "    <tr style=\"text-align: right;\">\n",
       "      <th></th>\n",
       "      <th>date</th>\n",
       "      <th>open</th>\n",
       "      <th>high</th>\n",
       "      <th>low</th>\n",
       "      <th>close</th>\n",
       "      <th>volume</th>\n",
       "      <th>close_yes</th>\n",
       "      <th>simple_ret</th>\n",
       "    </tr>\n",
       "  </thead>\n",
       "  <tbody>\n",
       "    <tr>\n",
       "      <th>5881</th>\n",
       "      <td>2015-01-05</td>\n",
       "      <td>3258.627</td>\n",
       "      <td>3369.281</td>\n",
       "      <td>3253.883</td>\n",
       "      <td>3350.519</td>\n",
       "      <td>53135238400</td>\n",
       "      <td>NaN</td>\n",
       "      <td>NaN</td>\n",
       "    </tr>\n",
       "    <tr>\n",
       "      <th>5882</th>\n",
       "      <td>2015-01-06</td>\n",
       "      <td>3330.799</td>\n",
       "      <td>3394.224</td>\n",
       "      <td>3303.184</td>\n",
       "      <td>3351.446</td>\n",
       "      <td>50166169600</td>\n",
       "      <td>3350.519</td>\n",
       "      <td>0.000277</td>\n",
       "    </tr>\n",
       "    <tr>\n",
       "      <th>5883</th>\n",
       "      <td>2015-01-07</td>\n",
       "      <td>3326.649</td>\n",
       "      <td>3374.896</td>\n",
       "      <td>3312.211</td>\n",
       "      <td>3373.954</td>\n",
       "      <td>39191888000</td>\n",
       "      <td>3351.446</td>\n",
       "      <td>0.006716</td>\n",
       "    </tr>\n",
       "    <tr>\n",
       "      <th>5884</th>\n",
       "      <td>2015-01-08</td>\n",
       "      <td>3371.957</td>\n",
       "      <td>3381.566</td>\n",
       "      <td>3285.095</td>\n",
       "      <td>3293.456</td>\n",
       "      <td>37113116800</td>\n",
       "      <td>3373.954</td>\n",
       "      <td>-0.023859</td>\n",
       "    </tr>\n",
       "    <tr>\n",
       "      <th>5885</th>\n",
       "      <td>2015-01-09</td>\n",
       "      <td>3276.965</td>\n",
       "      <td>3404.834</td>\n",
       "      <td>3267.509</td>\n",
       "      <td>3285.412</td>\n",
       "      <td>41024086400</td>\n",
       "      <td>3293.456</td>\n",
       "      <td>-0.002442</td>\n",
       "    </tr>\n",
       "  </tbody>\n",
       "</table>\n",
       "</div>"
      ],
      "text/plain": [
       "            date      open      high       low     close       volume  \\\n",
       "5881  2015-01-05  3258.627  3369.281  3253.883  3350.519  53135238400   \n",
       "5882  2015-01-06  3330.799  3394.224  3303.184  3351.446  50166169600   \n",
       "5883  2015-01-07  3326.649  3374.896  3312.211  3373.954  39191888000   \n",
       "5884  2015-01-08  3371.957  3381.566  3285.095  3293.456  37113116800   \n",
       "5885  2015-01-09  3276.965  3404.834  3267.509  3285.412  41024086400   \n",
       "\n",
       "      close_yes  simple_ret  \n",
       "5881        NaN         NaN  \n",
       "5882   3350.519    0.000277  \n",
       "5883   3351.446    0.006716  \n",
       "5884   3373.954   -0.023859  \n",
       "5885   3293.456   -0.002442  "
      ]
     },
     "execution_count": 119,
     "metadata": {},
     "output_type": "execute_result"
    }
   ],
   "source": [
    "choose_sh000001.head()"
   ]
  },
  {
   "cell_type": "code",
   "execution_count": 116,
   "id": "7c372401",
   "metadata": {},
   "outputs": [],
   "source": [
    "choose_sh000001[\"close_yes\"] = choose_sh000001[\"close\"].shift(1)"
   ]
  },
  {
   "cell_type": "code",
   "execution_count": 118,
   "id": "f0b718da",
   "metadata": {},
   "outputs": [],
   "source": [
    "choose_sh000001[\"simple_ret\"] = (choose_sh000001[\"close\"] - choose_sh000001[\"close_yes\"])/choose_sh000001[\"close_yes\"]"
   ]
  },
  {
   "cell_type": "code",
   "execution_count": 120,
   "id": "01b7ae40",
   "metadata": {},
   "outputs": [
    {
     "data": {
      "text/plain": [
       "5881         NaN\n",
       "5882    0.000277\n",
       "5883    0.006716\n",
       "5884   -0.023859\n",
       "5885   -0.002442\n",
       "Name: close, dtype: float64"
      ]
     },
     "execution_count": 120,
     "metadata": {},
     "output_type": "execute_result"
    }
   ],
   "source": [
    "pct_c.head()"
   ]
  },
  {
   "cell_type": "code",
   "execution_count": 122,
   "id": "36dacf16",
   "metadata": {},
   "outputs": [
    {
     "ename": "ModuleNotFoundError",
     "evalue": "No module named 'ffn'",
     "output_type": "error",
     "traceback": [
      "\u001b[0;31m---------------------------------------------------------------------------\u001b[0m",
      "\u001b[0;31mModuleNotFoundError\u001b[0m                       Traceback (most recent call last)",
      "\u001b[0;32m/tmp/ipykernel_1520451/2016159170.py\u001b[0m in \u001b[0;36m<module>\u001b[0;34m\u001b[0m\n\u001b[0;32m----> 1\u001b[0;31m \u001b[0;32mimport\u001b[0m \u001b[0mffn\u001b[0m\u001b[0;34m\u001b[0m\u001b[0;34m\u001b[0m\u001b[0m\n\u001b[0m",
      "\u001b[0;31mModuleNotFoundError\u001b[0m: No module named 'ffn'"
     ]
    }
   ],
   "source": [
    "import ffn"
   ]
  },
  {
   "cell_type": "code",
   "execution_count": 123,
   "id": "55772b31",
   "metadata": {},
   "outputs": [],
   "source": [
    "simple_ret = choose_sh000001[\"simple_ret\"]"
   ]
  },
  {
   "cell_type": "code",
   "execution_count": 124,
   "id": "03ac65e6",
   "metadata": {},
   "outputs": [
    {
     "data": {
      "text/plain": [
       "5881         NaN\n",
       "5882    0.000277\n",
       "5883    0.006716\n",
       "5884   -0.023859\n",
       "5885   -0.002442\n",
       "          ...   \n",
       "7709   -0.012662\n",
       "7710   -0.009693\n",
       "7711    0.000861\n",
       "7712   -0.000776\n",
       "7713   -0.016358\n",
       "Name: simple_ret, Length: 1833, dtype: float64"
      ]
     },
     "execution_count": 124,
     "metadata": {},
     "output_type": "execute_result"
    }
   ],
   "source": [
    "simple_ret"
   ]
  },
  {
   "cell_type": "code",
   "execution_count": 131,
   "id": "c77af8b0",
   "metadata": {},
   "outputs": [
    {
     "data": {
      "text/plain": [
       "pandas.core.series.Series"
      ]
     },
     "execution_count": 131,
     "metadata": {},
     "output_type": "execute_result"
    }
   ],
   "source": [
    "a= (1+simple_ret)"
   ]
  },
  {
   "cell_type": "code",
   "execution_count": 143,
   "id": "46106c39",
   "metadata": {},
   "outputs": [
    {
     "data": {
      "text/plain": [
       "-0.004964306237825511"
      ]
     },
     "execution_count": 143,
     "metadata": {},
     "output_type": "execute_result"
    }
   ],
   "source": [
    "a.cumprod().iloc[-1] ** (245/len(a)) -1"
   ]
  },
  {
   "cell_type": "code",
   "execution_count": 144,
   "id": "b4f1e931",
   "metadata": {},
   "outputs": [
    {
     "data": {
      "text/plain": [
       "-0.020198115067181905"
      ]
     },
     "execution_count": 144,
     "metadata": {},
     "output_type": "execute_result"
    }
   ],
   "source": [
    "pct_c.quantile(0.05)"
   ]
  },
  {
   "cell_type": "code",
   "execution_count": 147,
   "id": "3a4b8f4d",
   "metadata": {},
   "outputs": [
    {
     "data": {
      "text/plain": [
       "1833"
      ]
     },
     "execution_count": 147,
     "metadata": {},
     "output_type": "execute_result"
    }
   ],
   "source": [
    "pct_c[pct_c < pct_c.quantile(0.05)]\n",
    "len(pct_c)"
   ]
  },
  {
   "cell_type": "code",
   "execution_count": 148,
   "id": "d82be1e9",
   "metadata": {},
   "outputs": [
    {
     "data": {
      "text/plain": [
       "-0.03714953699311115"
      ]
     },
     "execution_count": 148,
     "metadata": {},
     "output_type": "execute_result"
    }
   ],
   "source": [
    "pct_c[pct_c < pct_c.quantile(0.05)].mean()"
   ]
  },
  {
   "cell_type": "code",
   "execution_count": 149,
   "id": "95b535b0",
   "metadata": {},
   "outputs": [
    {
     "data": {
      "text/plain": [
       "-0.08490898993769214"
      ]
     },
     "execution_count": 149,
     "metadata": {},
     "output_type": "execute_result"
    }
   ],
   "source": [
    "pct_c.min()"
   ]
  },
  {
   "cell_type": "code",
   "execution_count": null,
   "id": "5e541824",
   "metadata": {},
   "outputs": [],
   "source": []
  },
  {
   "cell_type": "code",
   "execution_count": null,
   "id": "10cdbd3d",
   "metadata": {},
   "outputs": [],
   "source": []
  },
  {
   "cell_type": "code",
   "execution_count": null,
   "id": "9e0b9579",
   "metadata": {},
   "outputs": [],
   "source": []
  },
  {
   "cell_type": "code",
   "execution_count": null,
   "id": "1612ed6d",
   "metadata": {},
   "outputs": [],
   "source": []
  },
  {
   "cell_type": "code",
   "execution_count": null,
   "id": "3577cd21",
   "metadata": {},
   "outputs": [],
   "source": []
  },
  {
   "cell_type": "code",
   "execution_count": null,
   "id": "4996e68b",
   "metadata": {},
   "outputs": [],
   "source": []
  },
  {
   "cell_type": "code",
   "execution_count": null,
   "id": "d6f8460d",
   "metadata": {},
   "outputs": [],
   "source": []
  },
  {
   "cell_type": "code",
   "execution_count": null,
   "id": "f4066a2e",
   "metadata": {},
   "outputs": [],
   "source": []
  },
  {
   "cell_type": "code",
   "execution_count": null,
   "id": "4029e08f",
   "metadata": {},
   "outputs": [],
   "source": []
  },
  {
   "cell_type": "code",
   "execution_count": null,
   "id": "7e983b2b",
   "metadata": {},
   "outputs": [],
   "source": []
  },
  {
   "cell_type": "code",
   "execution_count": null,
   "id": "21431660",
   "metadata": {},
   "outputs": [],
   "source": []
  },
  {
   "cell_type": "code",
   "execution_count": null,
   "id": "797da00f",
   "metadata": {},
   "outputs": [],
   "source": []
  },
  {
   "cell_type": "code",
   "execution_count": null,
   "id": "72148864",
   "metadata": {},
   "outputs": [],
   "source": []
  },
  {
   "cell_type": "code",
   "execution_count": null,
   "id": "23e106fd",
   "metadata": {},
   "outputs": [],
   "source": []
  },
  {
   "cell_type": "code",
   "execution_count": null,
   "id": "9ad9cef8",
   "metadata": {},
   "outputs": [],
   "source": []
  },
  {
   "cell_type": "code",
   "execution_count": null,
   "id": "9101c599",
   "metadata": {},
   "outputs": [],
   "source": []
  },
  {
   "cell_type": "code",
   "execution_count": null,
   "id": "82afefe1",
   "metadata": {},
   "outputs": [],
   "source": []
  },
  {
   "cell_type": "code",
   "execution_count": null,
   "id": "3636b5dc",
   "metadata": {},
   "outputs": [],
   "source": []
  },
  {
   "cell_type": "code",
   "execution_count": null,
   "id": "2b71bc95",
   "metadata": {},
   "outputs": [],
   "source": []
  },
  {
   "cell_type": "code",
   "execution_count": null,
   "id": "7131871e",
   "metadata": {},
   "outputs": [],
   "source": []
  },
  {
   "cell_type": "code",
   "execution_count": null,
   "id": "018a859e",
   "metadata": {},
   "outputs": [],
   "source": []
  },
  {
   "cell_type": "code",
   "execution_count": null,
   "id": "61c1004b",
   "metadata": {},
   "outputs": [],
   "source": []
  },
  {
   "cell_type": "code",
   "execution_count": null,
   "id": "a5111a1f",
   "metadata": {},
   "outputs": [],
   "source": []
  },
  {
   "cell_type": "code",
   "execution_count": null,
   "id": "e93ab965",
   "metadata": {},
   "outputs": [],
   "source": []
  },
  {
   "cell_type": "code",
   "execution_count": null,
   "id": "56b1e5cf",
   "metadata": {},
   "outputs": [],
   "source": []
  },
  {
   "cell_type": "code",
   "execution_count": null,
   "id": "f86ecadf",
   "metadata": {},
   "outputs": [],
   "source": []
  },
  {
   "cell_type": "code",
   "execution_count": null,
   "id": "3d232d53",
   "metadata": {},
   "outputs": [],
   "source": []
  },
  {
   "cell_type": "code",
   "execution_count": null,
   "id": "8578c99b",
   "metadata": {},
   "outputs": [],
   "source": []
  },
  {
   "cell_type": "code",
   "execution_count": null,
   "id": "c0c3654e",
   "metadata": {},
   "outputs": [],
   "source": []
  },
  {
   "cell_type": "code",
   "execution_count": null,
   "id": "dc86cfec",
   "metadata": {},
   "outputs": [],
   "source": []
  },
  {
   "cell_type": "code",
   "execution_count": null,
   "id": "050dc659",
   "metadata": {},
   "outputs": [],
   "source": []
  },
  {
   "cell_type": "code",
   "execution_count": null,
   "id": "a8530a6d",
   "metadata": {},
   "outputs": [],
   "source": []
  },
  {
   "cell_type": "code",
   "execution_count": null,
   "id": "be33c413",
   "metadata": {},
   "outputs": [],
   "source": []
  },
  {
   "cell_type": "code",
   "execution_count": null,
   "id": "e210f327",
   "metadata": {},
   "outputs": [],
   "source": []
  },
  {
   "cell_type": "code",
   "execution_count": null,
   "id": "c6e68d6c",
   "metadata": {},
   "outputs": [],
   "source": []
  },
  {
   "cell_type": "code",
   "execution_count": null,
   "id": "9262736e",
   "metadata": {},
   "outputs": [],
   "source": []
  }
 ],
 "metadata": {
  "kernelspec": {
   "display_name": "Python 3 (ipykernel)",
   "language": "python",
   "name": "python3"
  },
  "language_info": {
   "codemirror_mode": {
    "name": "ipython",
    "version": 3
   },
   "file_extension": ".py",
   "mimetype": "text/x-python",
   "name": "python",
   "nbconvert_exporter": "python",
   "pygments_lexer": "ipython3",
   "version": "3.8.16"
  }
 },
 "nbformat": 4,
 "nbformat_minor": 5
}
