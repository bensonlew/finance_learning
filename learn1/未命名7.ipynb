{
 "cells": [
  {
   "cell_type": "code",
   "execution_count": 2,
   "id": "e273716d",
   "metadata": {},
   "outputs": [
    {
     "data": {
      "text/plain": [
       "428400.0"
      ]
     },
     "execution_count": 2,
     "metadata": {},
     "output_type": "execute_result"
    }
   ],
   "source": [
    "0.68*100*9 * 700\n"
   ]
  },
  {
   "cell_type": "code",
   "execution_count": null,
   "id": "8038b810",
   "metadata": {},
   "outputs": [],
   "source": []
  }
 ],
 "metadata": {
  "kernelspec": {
   "display_name": "Python 3 (ipykernel)",
   "language": "python",
   "name": "python3"
  },
  "language_info": {
   "codemirror_mode": {
    "name": "ipython",
    "version": 3
   },
   "file_extension": ".py",
   "mimetype": "text/x-python",
   "name": "python",
   "nbconvert_exporter": "python",
   "pygments_lexer": "ipython3",
   "version": "3.8.16"
  }
 },
 "nbformat": 4,
 "nbformat_minor": 5
}
