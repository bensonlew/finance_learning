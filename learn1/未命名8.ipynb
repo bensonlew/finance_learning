{
 "cells": [
  {
   "cell_type": "code",
   "execution_count": 2,
   "id": "68417337",
   "metadata": {},
   "outputs": [],
   "source": [
    "import matplotlib as mpl\n",
    "import matplotlib.pyplot as plt\n",
    "import pandas as pd\n",
    "import seaborn as sns\n",
    "\n",
    "import akshare as ak\n",
    "import datetime\n",
    "import numpy as np"
   ]
  },
  {
   "cell_type": "code",
   "execution_count": 3,
   "id": "b758c615",
   "metadata": {},
   "outputs": [],
   "source": [
    "def find_pips(data: np.array, n_pips: int, dist_measure: int):\n",
    "    # dist_measure\n",
    "    # 1 = Euclidean Distance\n",
    "    # 2 = Perpindicular Distance\n",
    "    # 3 = Vertical Distance\n",
    "\n",
    "    pips_x = [0, len(data) - 1]  # Index\n",
    "    pips_y = [data[0], data[-1]] # Price\n",
    "\n",
    "    for curr_point in range(2, n_pips):\n",
    "\n",
    "        md = 0.0 # Max distance\n",
    "        md_i = -1 # Max distance index\n",
    "        insert_index = -1\n",
    "\n",
    "        for k in range(0, curr_point - 1):\n",
    "\n",
    "            # Left adjacent, right adjacent indices\n",
    "            left_adj = k\n",
    "            right_adj = k + 1\n",
    "\n",
    "            time_diff = pips_x[right_adj] - pips_x[left_adj]\n",
    "            price_diff = pips_y[right_adj] - pips_y[left_adj]\n",
    "            slope = price_diff / time_diff\n",
    "            intercept = pips_y[left_adj] - pips_x[left_adj] * slope;\n",
    "\n",
    "            for i in range(pips_x[left_adj] + 1, pips_x[right_adj]):\n",
    "                \n",
    "                d = 0.0 # Distance\n",
    "                if dist_measure == 1: # Euclidean distance\n",
    "                    d =  ( (pips_x[left_adj] - i) ** 2 + (pips_y[left_adj] - data[i]) ** 2 ) ** 0.5\n",
    "                    d += ( (pips_x[right_adj] - i) ** 2 + (pips_y[right_adj] - data[i]) ** 2 ) ** 0.5\n",
    "                elif dist_measure == 2: # Perpindicular distance\n",
    "                    d = abs( (slope * i + intercept) - data[i] ) / (slope ** 2 + 1) ** 0.5\n",
    "                else: # Vertical distance    \n",
    "                    d = abs( (slope * i + intercept) - data[i] )\n",
    "\n",
    "                if d > md:\n",
    "                    md = d\n",
    "                    md_i = i\n",
    "                    insert_index = right_adj\n",
    "\n",
    "        pips_x.insert(insert_index, md_i)\n",
    "        pips_y.insert(insert_index, data[md_i])\n",
    "\n",
    "    return pips_x, pips_y"
   ]
  },
  {
   "cell_type": "code",
   "execution_count": 5,
   "id": "99f0e930",
   "metadata": {},
   "outputs": [],
   "source": [
    "values = np.array([1, 1.5, 2, 4, 3, 3.5, 4, 8 ,5, 5.5,6, 6.5, 7, 20, 8, 8.5,9, 9.5,10,20, 11,11.5,12, 12.5])"
   ]
  },
  {
   "cell_type": "code",
   "execution_count": 6,
   "id": "cfb1ed3d",
   "metadata": {},
   "outputs": [
    {
     "data": {
      "text/plain": [
       "24"
      ]
     },
     "execution_count": 6,
     "metadata": {},
     "output_type": "execute_result"
    }
   ],
   "source": [
    "len(values)"
   ]
  },
  {
   "cell_type": "code",
   "execution_count": 7,
   "id": "a083a820",
   "metadata": {},
   "outputs": [
    {
     "data": {
      "text/plain": [
       "([0, 12, 13, 14, 23], [1.0, 7.0, 20.0, 8.0, 12.5])"
      ]
     },
     "execution_count": 7,
     "metadata": {},
     "output_type": "execute_result"
    }
   ],
   "source": [
    "find_pips(values, 5 , 3)"
   ]
  },
  {
   "cell_type": "code",
   "execution_count": null,
   "id": "354b1d3b",
   "metadata": {},
   "outputs": [],
   "source": []
  }
 ],
 "metadata": {
  "kernelspec": {
   "display_name": "Python 3 (ipykernel)",
   "language": "python",
   "name": "python3"
  },
  "language_info": {
   "codemirror_mode": {
    "name": "ipython",
    "version": 3
   },
   "file_extension": ".py",
   "mimetype": "text/x-python",
   "name": "python",
   "nbconvert_exporter": "python",
   "pygments_lexer": "ipython3",
   "version": "3.8.16"
  }
 },
 "nbformat": 4,
 "nbformat_minor": 5
}
