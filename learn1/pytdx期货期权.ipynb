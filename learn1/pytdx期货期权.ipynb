{
 "cells": [
  {
   "cell_type": "code",
   "execution_count": 1,
   "id": "89c80e27",
   "metadata": {},
   "outputs": [
    {
     "name": "stdout",
     "output_type": "stream",
     "text": [
      "jqdatasdk not installed\n"
     ]
    }
   ],
   "source": [
    "from QUANTAXIS.QAFetch.QATdx import get_extensionmarket_ip"
   ]
  },
  {
   "cell_type": "code",
   "execution_count": 2,
   "id": "8e9ed64d",
   "metadata": {},
   "outputs": [],
   "source": [
    "from pytdx.exhq import TdxExHq_API"
   ]
  },
  {
   "cell_type": "code",
   "execution_count": 3,
   "id": "e27cf43b",
   "metadata": {},
   "outputs": [],
   "source": [
    " apix = TdxExHq_API()"
   ]
  },
  {
   "cell_type": "code",
   "execution_count": null,
   "id": "43ba6c9f",
   "metadata": {},
   "outputs": [],
   "source": [
    "ip, port = get_extensionmarket_ip(ip, port)"
   ]
  },
  {
   "cell_type": "code",
   "execution_count": 4,
   "id": "7a7d4727",
   "metadata": {},
   "outputs": [],
   "source": [
    "from QUANTAXIS.QAFetch.QATdx import QA_fetch_get_option_list"
   ]
  },
  {
   "cell_type": "code",
   "execution_count": 5,
   "id": "c13a8937",
   "metadata": {},
   "outputs": [
    {
     "name": "stderr",
     "output_type": "stream",
     "text": [
      "QUANTAXIS>> Selecting the Best Server IP of TDX\n"
     ]
    },
    {
     "name": "stdout",
     "output_type": "stream",
     "text": [
      "USING DEFAULT STOCK IP\n"
     ]
    },
    {
     "name": "stderr",
     "output_type": "stream",
     "text": [
      "QUANTAXIS>> === The BEST SERVER ===\n",
      " stock_ip 60.12.136.250 future_ip 112.74.214.43\n"
     ]
    },
    {
     "name": "stdout",
     "output_type": "stream",
     "text": [
      "USING DEFAULT FUTURE IP\n"
     ]
    },
    {
     "ename": "KeyError",
     "evalue": "\"None of ['code'] are in the columns\"",
     "output_type": "error",
     "traceback": [
      "\u001b[0;31m---------------------------------------------------------------------------\u001b[0m",
      "\u001b[0;31mKeyError\u001b[0m                                  Traceback (most recent call last)",
      "\u001b[0;32m/tmp/ipykernel_3476603/3599441351.py\u001b[0m in \u001b[0;36m?\u001b[0;34m()\u001b[0m\n\u001b[0;32m----> 1\u001b[0;31m \u001b[0mresult\u001b[0m \u001b[0;34m=\u001b[0m \u001b[0mQA_fetch_get_option_list\u001b[0m\u001b[0;34m(\u001b[0m\u001b[0;34m'tdx'\u001b[0m\u001b[0;34m)\u001b[0m\u001b[0;34m\u001b[0m\u001b[0;34m\u001b[0m\u001b[0m\n\u001b[0m",
      "\u001b[0;32m/liubinxu/liubinxu/miniconda3_py38/lib/python3.8/site-packages/QUANTAXIS/QAFetch/QATdx.py\u001b[0m in \u001b[0;36m?\u001b[0;34m(ip, port)\u001b[0m\n\u001b[1;32m   1977\u001b[0m             \u001b[0;36m8\u001b[0m        \u001b[0;36m12\u001b[0m    \u001b[0m上海股票期权\u001b[0m         \u001b[0mQQ\u001b[0m\u001b[0;34m\u001b[0m\u001b[0;34m\u001b[0m\u001b[0m\n\u001b[1;32m   1978\u001b[0m             \u001b[0;36m9\u001b[0m        \u001b[0;36m12\u001b[0m    \u001b[0m深圳股票期权\u001b[0m      \u001b[0;34m(\u001b[0m\u001b[0m推测\u001b[0m\u001b[0;34m)\u001b[0m\u001b[0;34m\u001b[0m\u001b[0;34m\u001b[0m\u001b[0m\n\u001b[1;32m   1979\u001b[0m     \"\"\"\n\u001b[1;32m   1980\u001b[0m     \u001b[0;32mglobal\u001b[0m \u001b[0mextension_market_list\u001b[0m\u001b[0;34m\u001b[0m\u001b[0;34m\u001b[0m\u001b[0m\n\u001b[0;32m-> 1981\u001b[0;31m     extension_market_list = QA_fetch_get_extensionmarket_list(\n\u001b[0m\u001b[1;32m   1982\u001b[0m     ) if extension_market_list is None else extension_market_list\n\u001b[1;32m   1983\u001b[0m \u001b[0;34m\u001b[0m\u001b[0m\n\u001b[1;32m   1984\u001b[0m     \u001b[0;32mreturn\u001b[0m \u001b[0mextension_market_list\u001b[0m\u001b[0;34m.\u001b[0m\u001b[0mquery\u001b[0m\u001b[0;34m(\u001b[0m\u001b[0;34m'category==12 and market!=1'\u001b[0m\u001b[0;34m)\u001b[0m\u001b[0;34m\u001b[0m\u001b[0;34m\u001b[0m\u001b[0m\n",
      "\u001b[0;32m/liubinxu/liubinxu/miniconda3_py38/lib/python3.8/site-packages/QUANTAXIS/QAFetch/QATdx.py\u001b[0m in \u001b[0;36m?\u001b[0;34m(ip, port)\u001b[0m\n\u001b[1;32m   1482\u001b[0m     \u001b[0mip\u001b[0m\u001b[0;34m,\u001b[0m \u001b[0mport\u001b[0m \u001b[0;34m=\u001b[0m \u001b[0mget_extensionmarket_ip\u001b[0m\u001b[0;34m(\u001b[0m\u001b[0mip\u001b[0m\u001b[0;34m,\u001b[0m \u001b[0mport\u001b[0m\u001b[0;34m)\u001b[0m\u001b[0;34m\u001b[0m\u001b[0;34m\u001b[0m\u001b[0m\n\u001b[1;32m   1483\u001b[0m     \u001b[0mapix\u001b[0m \u001b[0;34m=\u001b[0m \u001b[0mTdxExHq_API\u001b[0m\u001b[0;34m(\u001b[0m\u001b[0;34m)\u001b[0m\u001b[0;34m\u001b[0m\u001b[0;34m\u001b[0m\u001b[0m\n\u001b[1;32m   1484\u001b[0m     \u001b[0;32mwith\u001b[0m \u001b[0mapix\u001b[0m\u001b[0;34m.\u001b[0m\u001b[0mconnect\u001b[0m\u001b[0;34m(\u001b[0m\u001b[0mip\u001b[0m\u001b[0;34m,\u001b[0m \u001b[0mport\u001b[0m\u001b[0;34m)\u001b[0m\u001b[0;34m:\u001b[0m\u001b[0;34m\u001b[0m\u001b[0;34m\u001b[0m\u001b[0m\n\u001b[1;32m   1485\u001b[0m         \u001b[0mnum\u001b[0m \u001b[0;34m=\u001b[0m \u001b[0mapix\u001b[0m\u001b[0;34m.\u001b[0m\u001b[0mget_instrument_count\u001b[0m\u001b[0;34m(\u001b[0m\u001b[0;34m)\u001b[0m\u001b[0;34m\u001b[0m\u001b[0;34m\u001b[0m\u001b[0m\n\u001b[0;32m-> 1486\u001b[0;31m         return pd.concat([apix.to_df(\n\u001b[0m\u001b[1;32m   1487\u001b[0m             apix.get_instrument_info((int(num / 500) - i) * 500, 500))\n\u001b[1;32m   1488\u001b[0m             for i in range(int(num / 500) + 1)], axis=0, sort=False).set_index('code',\n\u001b[1;32m   1489\u001b[0m                                                                                drop=False)\n",
      "\u001b[0;32m/liubinxu/liubinxu/miniconda3_py38/lib/python3.8/site-packages/pandas/core/frame.py\u001b[0m in \u001b[0;36m?\u001b[0;34m(self, keys, drop, append, inplace, verify_integrity)\u001b[0m\n\u001b[1;32m   5865\u001b[0m                     \u001b[0;32mif\u001b[0m \u001b[0;32mnot\u001b[0m \u001b[0mfound\u001b[0m\u001b[0;34m:\u001b[0m\u001b[0;34m\u001b[0m\u001b[0;34m\u001b[0m\u001b[0m\n\u001b[1;32m   5866\u001b[0m                         \u001b[0mmissing\u001b[0m\u001b[0;34m.\u001b[0m\u001b[0mappend\u001b[0m\u001b[0;34m(\u001b[0m\u001b[0mcol\u001b[0m\u001b[0;34m)\u001b[0m\u001b[0;34m\u001b[0m\u001b[0;34m\u001b[0m\u001b[0m\n\u001b[1;32m   5867\u001b[0m \u001b[0;34m\u001b[0m\u001b[0m\n\u001b[1;32m   5868\u001b[0m         \u001b[0;32mif\u001b[0m \u001b[0mmissing\u001b[0m\u001b[0;34m:\u001b[0m\u001b[0;34m\u001b[0m\u001b[0;34m\u001b[0m\u001b[0m\n\u001b[0;32m-> 5869\u001b[0;31m             \u001b[0;32mraise\u001b[0m \u001b[0mKeyError\u001b[0m\u001b[0;34m(\u001b[0m\u001b[0;34mf\"None of {missing} are in the columns\"\u001b[0m\u001b[0;34m)\u001b[0m\u001b[0;34m\u001b[0m\u001b[0;34m\u001b[0m\u001b[0m\n\u001b[0m\u001b[1;32m   5870\u001b[0m \u001b[0;34m\u001b[0m\u001b[0m\n\u001b[1;32m   5871\u001b[0m         \u001b[0;32mif\u001b[0m \u001b[0minplace\u001b[0m\u001b[0;34m:\u001b[0m\u001b[0;34m\u001b[0m\u001b[0;34m\u001b[0m\u001b[0m\n\u001b[1;32m   5872\u001b[0m             \u001b[0mframe\u001b[0m \u001b[0;34m=\u001b[0m \u001b[0mself\u001b[0m\u001b[0;34m\u001b[0m\u001b[0;34m\u001b[0m\u001b[0m\n",
      "\u001b[0;31mKeyError\u001b[0m: \"None of ['code'] are in the columns\""
     ]
    }
   ],
   "source": [
    "result = QA_fetch_get_option_list('tdx')"
   ]
  },
  {
   "cell_type": "code",
   "execution_count": 5,
   "id": "1005482b",
   "metadata": {},
   "outputs": [
    {
     "name": "stderr",
     "output_type": "stream",
     "text": [
      "QUANTAXIS>> Selecting the Best Server IP of TDX\n",
      "QUANTAXIS>> === The BEST SERVER ===\n",
      " stock_ip 60.12.136.250 future_ip 112.74.214.43\n"
     ]
    },
    {
     "name": "stdout",
     "output_type": "stream",
     "text": [
      "USING DEFAULT STOCK IP\n",
      "USING DEFAULT FUTURE IP\n"
     ]
    }
   ],
   "source": [
    "ip, port = get_extensionmarket_ip(None, None)"
   ]
  },
  {
   "cell_type": "code",
   "execution_count": 34,
   "id": "a3ae1df4",
   "metadata": {},
   "outputs": [],
   "source": [
    "ip = \"112.74.214.43\""
   ]
  },
  {
   "cell_type": "code",
   "execution_count": 33,
   "id": "04ee647d",
   "metadata": {},
   "outputs": [],
   "source": [
    "ip = \"112.74.214.43\""
   ]
  },
  {
   "cell_type": "code",
   "execution_count": 7,
   "id": "ae8921be",
   "metadata": {},
   "outputs": [
    {
     "data": {
      "text/plain": [
       "7727"
      ]
     },
     "execution_count": 7,
     "metadata": {},
     "output_type": "execute_result"
    }
   ],
   "source": [
    "port"
   ]
  },
  {
   "cell_type": "code",
   "execution_count": 16,
   "id": "0bc9de51",
   "metadata": {},
   "outputs": [
    {
     "data": {
      "text/plain": [
       "<pytdx.exhq.TdxExHq_API at 0x7fe0302e18e0>"
      ]
     },
     "execution_count": 16,
     "metadata": {},
     "output_type": "execute_result"
    }
   ],
   "source": [
    "apix.connect(ip, port)"
   ]
  },
  {
   "cell_type": "code",
   "execution_count": 17,
   "id": "204f33d6",
   "metadata": {},
   "outputs": [],
   "source": [
    "num = apix.get_instrument_count()"
   ]
  },
  {
   "cell_type": "code",
   "execution_count": 18,
   "id": "77cd8342",
   "metadata": {},
   "outputs": [
    {
     "data": {
      "text/plain": [
       "89954"
      ]
     },
     "execution_count": 18,
     "metadata": {},
     "output_type": "execute_result"
    }
   ],
   "source": [
    "num"
   ]
  },
  {
   "cell_type": "code",
   "execution_count": 14,
   "id": "2c051255",
   "metadata": {},
   "outputs": [
    {
     "ename": "TypeError",
     "evalue": "unsupported operand type(s) for /: 'NoneType' and 'int'",
     "output_type": "error",
     "traceback": [
      "\u001b[0;31m---------------------------------------------------------------------------\u001b[0m",
      "\u001b[0;31mTypeError\u001b[0m                                 Traceback (most recent call last)",
      "Cell \u001b[0;32mIn[14], line 1\u001b[0m\n\u001b[0;32m----> 1\u001b[0m apix\u001b[38;5;241m.\u001b[39mget_instrument_info((\u001b[38;5;28mint\u001b[39m(\u001b[43mnum\u001b[49m\u001b[43m \u001b[49m\u001b[38;5;241;43m/\u001b[39;49m\u001b[43m \u001b[49m\u001b[38;5;241;43m500\u001b[39;49m) \u001b[38;5;241m-\u001b[39m \u001b[38;5;241m0\u001b[39m) \u001b[38;5;241m*\u001b[39m \u001b[38;5;241m500\u001b[39m, \u001b[38;5;241m500\u001b[39m)\n",
      "\u001b[0;31mTypeError\u001b[0m: unsupported operand type(s) for /: 'NoneType' and 'int'"
     ]
    }
   ],
   "source": [
    "with apix.connect(ip, port)\n",
    "\n",
    "apix.get_instrument_info((int(num / 500) - 0) * 500, 500)"
   ]
  },
  {
   "cell_type": "code",
   "execution_count": 29,
   "id": "e62ef7b2",
   "metadata": {},
   "outputs": [],
   "source": [
    "?apix.get_instrument_info"
   ]
  },
  {
   "cell_type": "code",
   "execution_count": 30,
   "id": "0ae2fc0e",
   "metadata": {},
   "outputs": [
    {
     "name": "stdout",
     "output_type": "stream",
     "text": [
      "None\n"
     ]
    }
   ],
   "source": [
    "with apix.connect(ip, port):\n",
    "    num = apix.get_markets()\n",
    "    print(num)\n",
    "    a = apix.get_minute_time_data(3,30)"
   ]
  },
  {
   "cell_type": "code",
   "execution_count": 10,
   "id": "9a55a977",
   "metadata": {},
   "outputs": [],
   "source": [
    "apix.get_markets()"
   ]
  },
  {
   "cell_type": "code",
   "execution_count": 31,
   "id": "129d5ee4",
   "metadata": {},
   "outputs": [],
   "source": [
    "a"
   ]
  },
  {
   "cell_type": "code",
   "execution_count": 35,
   "id": "d79e1c29",
   "metadata": {},
   "outputs": [],
   "source": [
    "with apix.connect(ip, port):\n",
    "    a = apix.get_minute_time_data(47, \"IF1709\")"
   ]
  },
  {
   "cell_type": "code",
   "execution_count": 36,
   "id": "f33c3d7e",
   "metadata": {},
   "outputs": [],
   "source": [
    "a"
   ]
  },
  {
   "cell_type": "code",
   "execution_count": 1,
   "id": "28a49307",
   "metadata": {},
   "outputs": [
    {
     "name": "stdout",
     "output_type": "stream",
     "text": [
      "                 datetime    open    high     low   close  volume   hold\n",
      "0     2024-01-05 13:50:00  2282.4  2283.0  2280.4  2281.2     723  60219\n",
      "1     2024-01-05 13:55:00  2280.8  2282.0  2275.6  2276.6    1054  60299\n",
      "2     2024-01-05 14:00:00  2276.6  2277.6  2272.2  2274.8     741  60460\n",
      "3     2024-01-05 14:05:00  2274.8  2280.6  2274.6  2278.4   29190  60738\n",
      "4     2024-01-05 14:10:00  2278.4  2278.6  2275.2  2276.0     707  60776\n",
      "...                   ...     ...     ...     ...     ...     ...    ...\n",
      "1018  2024-02-05 14:40:00  2253.6  2254.0  2245.2  2245.2     664  36002\n",
      "1019  2024-02-05 14:45:00  2240.0  2244.8  2238.2  2238.2     897  36130\n",
      "1020  2024-02-05 14:50:00  2239.0  2240.6  2238.0  2239.8     613  36267\n",
      "1021  2024-02-05 14:55:00  2240.4  2244.8  2239.4  2244.8     977  36425\n",
      "1022  2024-02-05 15:00:00  2244.8  2245.4  2240.0  2240.0     997  36691\n",
      "\n",
      "[1023 rows x 7 columns]\n"
     ]
    }
   ],
   "source": [
    "import akshare as ak\n",
    "\n",
    "futures_zh_minute_sina_df = ak.futures_zh_minute_sina(symbol=\"IH0\", period=\"5\")\n",
    "print(futures_zh_minute_sina_df)"
   ]
  },
  {
   "cell_type": "code",
   "execution_count": null,
   "id": "3fc5f041",
   "metadata": {},
   "outputs": [],
   "source": []
  }
 ],
 "metadata": {
  "kernelspec": {
   "display_name": "Python 3 (ipykernel)",
   "language": "python",
   "name": "python3"
  },
  "language_info": {
   "codemirror_mode": {
    "name": "ipython",
    "version": 3
   },
   "file_extension": ".py",
   "mimetype": "text/x-python",
   "name": "python",
   "nbconvert_exporter": "python",
   "pygments_lexer": "ipython3",
   "version": "3.10.9"
  }
 },
 "nbformat": 4,
 "nbformat_minor": 5
}
